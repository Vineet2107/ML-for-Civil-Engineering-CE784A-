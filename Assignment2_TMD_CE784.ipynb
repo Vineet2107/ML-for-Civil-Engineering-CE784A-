{
  "nbformat": 4,
  "nbformat_minor": 0,
  "metadata": {
    "colab": {
      "name": "Assignment2_TMD_CE784.ipynb",
      "provenance": [],
      "mount_file_id": "https://github.com/Vineet2107/ML-for-Civil-Enfineering-CE784A-/blob/main/Assignment2_TMD_CE784.ipynb",
      "authorship_tag": "ABX9TyOrG7zfY1N7S5soKXYG5ZYX",
      "include_colab_link": true
    },
    "kernelspec": {
      "name": "python3",
      "display_name": "Python 3"
    },
    "language_info": {
      "name": "python"
    },
    "accelerator": "GPU"
  },
  "cells": [
    {
      "cell_type": "markdown",
      "metadata": {
        "id": "view-in-github",
        "colab_type": "text"
      },
      "source": [
        "<a href=\"https://colab.research.google.com/github/Vineet2107/ML-for-Civil-Engineering-CE784A-/blob/main/Assignment2_TMD_CE784.ipynb\" target=\"_parent\"><img src=\"https://colab.research.google.com/assets/colab-badge.svg\" alt=\"Open In Colab\"/></a>"
      ]
    },
    {
      "cell_type": "code",
      "execution_count": null,
      "metadata": {
        "id": "IsLuv7T7EIZy"
      },
      "outputs": [],
      "source": [
        "import numpy as np\n",
        "import pandas as pd\n",
        "import matplotlib.pyplot as plt\n"
      ]
    },
    {
      "cell_type": "code",
      "source": [
        "from google.colab import drive\n",
        "drive.mount('/content/drive')"
      ],
      "metadata": {
        "id": "ydR1EZVq5b5x",
        "outputId": "a7ae037d-0e3d-4e89-947e-ea18ec9c6cf2",
        "colab": {
          "base_uri": "https://localhost:8080/"
        }
      },
      "execution_count": null,
      "outputs": [
        {
          "output_type": "stream",
          "name": "stdout",
          "text": [
            "Drive already mounted at /content/drive; to attempt to forcibly remount, call drive.mount(\"/content/drive\", force_remount=True).\n"
          ]
        }
      ]
    },
    {
      "cell_type": "markdown",
      "source": [
        "###Q1"
      ],
      "metadata": {
        "id": "sXgBvW5T3kf2"
      }
    },
    {
      "cell_type": "code",
      "source": [
        "df = pd.read_csv('/content/drive/MyDrive/1b80ce01455252fb312ac516e738750eeef007f14ef9c8f64e4431fe3f495dd9_cleaned/cleaned.csv')"
      ],
      "metadata": {
        "id": "1uJoEHwpEhYO"
      },
      "execution_count": null,
      "outputs": []
    },
    {
      "cell_type": "code",
      "source": [
        "df.head()"
      ],
      "metadata": {
        "colab": {
          "base_uri": "https://localhost:8080/",
          "height": 206
        },
        "id": "_iQ_tF6uEsVH",
        "outputId": "1c076c55-b881-4660-fe98-ba73f718bc74"
      },
      "execution_count": null,
      "outputs": [
        {
          "output_type": "execute_result",
          "data": {
            "text/html": [
              "\n",
              "  <div id=\"df-83e24270-3128-4814-9db3-32b504966f2c\">\n",
              "    <div class=\"colab-df-container\">\n",
              "      <div>\n",
              "<style scoped>\n",
              "    .dataframe tbody tr th:only-of-type {\n",
              "        vertical-align: middle;\n",
              "    }\n",
              "\n",
              "    .dataframe tbody tr th {\n",
              "        vertical-align: top;\n",
              "    }\n",
              "\n",
              "    .dataframe thead th {\n",
              "        text-align: right;\n",
              "    }\n",
              "</style>\n",
              "<table border=\"1\" class=\"dataframe\">\n",
              "  <thead>\n",
              "    <tr style=\"text-align: right;\">\n",
              "      <th></th>\n",
              "      <th>user</th>\n",
              "      <th>timestamp</th>\n",
              "      <th>x</th>\n",
              "      <th>y</th>\n",
              "      <th>z</th>\n",
              "      <th>class</th>\n",
              "    </tr>\n",
              "  </thead>\n",
              "  <tbody>\n",
              "    <tr>\n",
              "      <th>0</th>\n",
              "      <td>a2d80ed662f34d32951eb1c6ed076c313e358b73</td>\n",
              "      <td>2018-06-04 16:26:55.053</td>\n",
              "      <td>0.78</td>\n",
              "      <td>-9.13</td>\n",
              "      <td>-3.74</td>\n",
              "      <td>bus</td>\n",
              "    </tr>\n",
              "    <tr>\n",
              "      <th>1</th>\n",
              "      <td>a2d80ed662f34d32951eb1c6ed076c313e358b73</td>\n",
              "      <td>2018-06-04 16:26:55.111</td>\n",
              "      <td>0.79</td>\n",
              "      <td>-9.11</td>\n",
              "      <td>-3.75</td>\n",
              "      <td>bus</td>\n",
              "    </tr>\n",
              "    <tr>\n",
              "      <th>2</th>\n",
              "      <td>a2d80ed662f34d32951eb1c6ed076c313e358b73</td>\n",
              "      <td>2018-06-04 16:26:55.169</td>\n",
              "      <td>0.80</td>\n",
              "      <td>-9.12</td>\n",
              "      <td>-3.75</td>\n",
              "      <td>bus</td>\n",
              "    </tr>\n",
              "    <tr>\n",
              "      <th>3</th>\n",
              "      <td>a2d80ed662f34d32951eb1c6ed076c313e358b73</td>\n",
              "      <td>2018-06-04 16:26:55.228</td>\n",
              "      <td>0.78</td>\n",
              "      <td>-9.14</td>\n",
              "      <td>-3.76</td>\n",
              "      <td>bus</td>\n",
              "    </tr>\n",
              "    <tr>\n",
              "      <th>4</th>\n",
              "      <td>a2d80ed662f34d32951eb1c6ed076c313e358b73</td>\n",
              "      <td>2018-06-04 16:26:55.286</td>\n",
              "      <td>0.83</td>\n",
              "      <td>-9.12</td>\n",
              "      <td>-3.80</td>\n",
              "      <td>bus</td>\n",
              "    </tr>\n",
              "  </tbody>\n",
              "</table>\n",
              "</div>\n",
              "      <button class=\"colab-df-convert\" onclick=\"convertToInteractive('df-83e24270-3128-4814-9db3-32b504966f2c')\"\n",
              "              title=\"Convert this dataframe to an interactive table.\"\n",
              "              style=\"display:none;\">\n",
              "        \n",
              "  <svg xmlns=\"http://www.w3.org/2000/svg\" height=\"24px\"viewBox=\"0 0 24 24\"\n",
              "       width=\"24px\">\n",
              "    <path d=\"M0 0h24v24H0V0z\" fill=\"none\"/>\n",
              "    <path d=\"M18.56 5.44l.94 2.06.94-2.06 2.06-.94-2.06-.94-.94-2.06-.94 2.06-2.06.94zm-11 1L8.5 8.5l.94-2.06 2.06-.94-2.06-.94L8.5 2.5l-.94 2.06-2.06.94zm10 10l.94 2.06.94-2.06 2.06-.94-2.06-.94-.94-2.06-.94 2.06-2.06.94z\"/><path d=\"M17.41 7.96l-1.37-1.37c-.4-.4-.92-.59-1.43-.59-.52 0-1.04.2-1.43.59L10.3 9.45l-7.72 7.72c-.78.78-.78 2.05 0 2.83L4 21.41c.39.39.9.59 1.41.59.51 0 1.02-.2 1.41-.59l7.78-7.78 2.81-2.81c.8-.78.8-2.07 0-2.86zM5.41 20L4 18.59l7.72-7.72 1.47 1.35L5.41 20z\"/>\n",
              "  </svg>\n",
              "      </button>\n",
              "      \n",
              "  <style>\n",
              "    .colab-df-container {\n",
              "      display:flex;\n",
              "      flex-wrap:wrap;\n",
              "      gap: 12px;\n",
              "    }\n",
              "\n",
              "    .colab-df-convert {\n",
              "      background-color: #E8F0FE;\n",
              "      border: none;\n",
              "      border-radius: 50%;\n",
              "      cursor: pointer;\n",
              "      display: none;\n",
              "      fill: #1967D2;\n",
              "      height: 32px;\n",
              "      padding: 0 0 0 0;\n",
              "      width: 32px;\n",
              "    }\n",
              "\n",
              "    .colab-df-convert:hover {\n",
              "      background-color: #E2EBFA;\n",
              "      box-shadow: 0px 1px 2px rgba(60, 64, 67, 0.3), 0px 1px 3px 1px rgba(60, 64, 67, 0.15);\n",
              "      fill: #174EA6;\n",
              "    }\n",
              "\n",
              "    [theme=dark] .colab-df-convert {\n",
              "      background-color: #3B4455;\n",
              "      fill: #D2E3FC;\n",
              "    }\n",
              "\n",
              "    [theme=dark] .colab-df-convert:hover {\n",
              "      background-color: #434B5C;\n",
              "      box-shadow: 0px 1px 3px 1px rgba(0, 0, 0, 0.15);\n",
              "      filter: drop-shadow(0px 1px 2px rgba(0, 0, 0, 0.3));\n",
              "      fill: #FFFFFF;\n",
              "    }\n",
              "  </style>\n",
              "\n",
              "      <script>\n",
              "        const buttonEl =\n",
              "          document.querySelector('#df-83e24270-3128-4814-9db3-32b504966f2c button.colab-df-convert');\n",
              "        buttonEl.style.display =\n",
              "          google.colab.kernel.accessAllowed ? 'block' : 'none';\n",
              "\n",
              "        async function convertToInteractive(key) {\n",
              "          const element = document.querySelector('#df-83e24270-3128-4814-9db3-32b504966f2c');\n",
              "          const dataTable =\n",
              "            await google.colab.kernel.invokeFunction('convertToInteractive',\n",
              "                                                     [key], {});\n",
              "          if (!dataTable) return;\n",
              "\n",
              "          const docLinkHtml = 'Like what you see? Visit the ' +\n",
              "            '<a target=\"_blank\" href=https://colab.research.google.com/notebooks/data_table.ipynb>data table notebook</a>'\n",
              "            + ' to learn more about interactive tables.';\n",
              "          element.innerHTML = '';\n",
              "          dataTable['output_type'] = 'display_data';\n",
              "          await google.colab.output.renderOutput(dataTable, element);\n",
              "          const docLink = document.createElement('div');\n",
              "          docLink.innerHTML = docLinkHtml;\n",
              "          element.appendChild(docLink);\n",
              "        }\n",
              "      </script>\n",
              "    </div>\n",
              "  </div>\n",
              "  "
            ],
            "text/plain": [
              "                                       user                timestamp     x  \\\n",
              "0  a2d80ed662f34d32951eb1c6ed076c313e358b73  2018-06-04 16:26:55.053  0.78   \n",
              "1  a2d80ed662f34d32951eb1c6ed076c313e358b73  2018-06-04 16:26:55.111  0.79   \n",
              "2  a2d80ed662f34d32951eb1c6ed076c313e358b73  2018-06-04 16:26:55.169  0.80   \n",
              "3  a2d80ed662f34d32951eb1c6ed076c313e358b73  2018-06-04 16:26:55.228  0.78   \n",
              "4  a2d80ed662f34d32951eb1c6ed076c313e358b73  2018-06-04 16:26:55.286  0.83   \n",
              "\n",
              "      y     z class  \n",
              "0 -9.13 -3.74   bus  \n",
              "1 -9.11 -3.75   bus  \n",
              "2 -9.12 -3.75   bus  \n",
              "3 -9.14 -3.76   bus  \n",
              "4 -9.12 -3.80   bus  "
            ]
          },
          "metadata": {},
          "execution_count": 4
        }
      ]
    },
    {
      "cell_type": "code",
      "source": [
        "print(len(df.user.unique())) #number of unique useers\n",
        "print(df.user.unique()) # userID of unique users"
      ],
      "metadata": {
        "colab": {
          "base_uri": "https://localhost:8080/"
        },
        "id": "z2uTy0_AExq6",
        "outputId": "ed7c7213-a581-47b2-9eb8-684b38f70743"
      },
      "execution_count": null,
      "outputs": [
        {
          "output_type": "stream",
          "name": "stdout",
          "text": [
            "32\n",
            "['a2d80ed662f34d32951eb1c6ed076c313e358b73'\n",
            " 'a526f3566e9c9024dfa7378eb4291d787a09fd37'\n",
            " 'a59868c6eb3645eedbb343ce8c336ec6f2ef2324'\n",
            " 'a92dee88f61123f923dccec01eeecf1a81953b36'\n",
            " 'ac4c17afeb69b39169eb301ab592696a8f353976'\n",
            " 'adaaae1a67ea9e43abd60ba945eccda0cb8821e0'\n",
            " 'b138d165100ef60bc793cac143742eb5aea4d6ba'\n",
            " 'b45157069942d01310c3e7b74034166717bb25f9'\n",
            " 'b7b165e5637b5a0226068d907748f4bbfc61a320'\n",
            " 'c453226e3616ae821cdcb38f38481c2a20f2482f'\n",
            " 'c5702d34b238fe68683f818e82cd3a3cd8a16366'\n",
            " 'ca7950f223a8037b897d0547075dc138f9e43b20'\n",
            " 'cace4ec0999436917986b4fa6e9317262c897bc2'\n",
            " 'cbde60baea002b694ecf2a3ff2d95be16b00efe1'\n",
            " 'ce39f5d0705695fcd70a04ba6d84ac6beecd6f9c'\n",
            " 'd429974540bfd38c3367fe9f0c8682775ff4fa18'\n",
            " 'd7a1230d94f91a32cc079809748e52e8a4a6a22f'\n",
            " 'd7dd12d83c81574137f858034b99f4cc83ab0718'\n",
            " 'd8c047eaaee204b7b5cd71e2d67308b87b038ed3'\n",
            " 'dc0bdce306ec3b624fe0e6ecd1ffbd82cb970120'\n",
            " 'dd82e3df4bebc74ed6b67877be79e29f401c16a3'\n",
            " 'dde95e125d89843f7032baa734ee4d34ec775aaf'\n",
            " 'de9892b879c83ea3d24fb4560873107cc4e86d48'\n",
            " 'dfcfc0404691b73b69884073159f90843f2ac35b'\n",
            " 'e429a95c532f1117130c11e4a18379d84fa4ffa9'\n",
            " 'eb9e7854290fd6ea9ebaf448b640fc1f1dbeb076'\n",
            " 'ecfb0929250fb6dda66a4065441230ab27f094e5'\n",
            " 'ed623d28c1e0071632a6110b8f8ed93f8af78b99'\n",
            " 'f1b7331b66e404c11eebb22933e733117bbb12c9'\n",
            " 'f5edd999397145a2ec1b244226fc83f99631760c'\n",
            " 'f7ae1ce141c26db40ea8b090fb568a0c965310aa'\n",
            " 'faae5be800be2dfa897eea0bd2e5988cd53c4ec0']\n"
          ]
        }
      ]
    },
    {
      "cell_type": "code",
      "source": [
        "df.info()"
      ],
      "metadata": {
        "colab": {
          "base_uri": "https://localhost:8080/"
        },
        "id": "ANRwWJq9FQvs",
        "outputId": "27dd4d3b-7e06-415c-cf86-6558509e853f"
      },
      "execution_count": null,
      "outputs": [
        {
          "output_type": "stream",
          "name": "stdout",
          "text": [
            "<class 'pandas.core.frame.DataFrame'>\n",
            "RangeIndex: 5653053 entries, 0 to 5653052\n",
            "Data columns (total 6 columns):\n",
            " #   Column     Dtype  \n",
            "---  ------     -----  \n",
            " 0   user       object \n",
            " 1   timestamp  object \n",
            " 2   x          float64\n",
            " 3   y          float64\n",
            " 4   z          float64\n",
            " 5   class      object \n",
            "dtypes: float64(3), object(3)\n",
            "memory usage: 258.8+ MB\n"
          ]
        }
      ]
    },
    {
      "cell_type": "code",
      "source": [
        "len(df['user'])\n"
      ],
      "metadata": {
        "colab": {
          "base_uri": "https://localhost:8080/"
        },
        "id": "MOZWg8ODF7Vt",
        "outputId": "b3dd6ea2-3305-4cc8-b203-0946629d6daf"
      },
      "execution_count": null,
      "outputs": [
        {
          "output_type": "execute_result",
          "data": {
            "text/plain": [
              "5653053"
            ]
          },
          "metadata": {},
          "execution_count": 7
        }
      ]
    },
    {
      "cell_type": "code",
      "source": [
        "\n",
        "# user_c=[]\n",
        "# for i in range(len(df['user'])-1):\n",
        "#   if (df['user'][i] != df['user'][i+1]):\n",
        "#     user_c.append(1)\n",
        "#   else:\n",
        "#     user_c.append(0)\n",
        "# user_c.append(1)\n",
        "# df['user_c'] = user_c"
      ],
      "metadata": {
        "id": "5zur8Fhm3GBG"
      },
      "execution_count": null,
      "outputs": []
    },
    {
      "cell_type": "code",
      "source": [
        "# sum(df['user_c'])"
      ],
      "metadata": {
        "id": "v2X2z213Ut9-"
      },
      "execution_count": null,
      "outputs": []
    },
    {
      "cell_type": "code",
      "source": [
        "# class_c=[]\n",
        "# for i in range(len(df['user'])-1):\n",
        "#   if (df['class'][i] != df['class'][i+1]):\n",
        "#     class_c.append(1)\n",
        "#   else:\n",
        "#     class_c.append(0)\n",
        "# class_c.append(1)\n",
        "# df['class_c'] = class_c"
      ],
      "metadata": {
        "id": "tHz4V7FM7pVl"
      },
      "execution_count": null,
      "outputs": []
    },
    {
      "cell_type": "code",
      "source": [
        "# df.head()"
      ],
      "metadata": {
        "id": "1Tr5IUhCzjuA"
      },
      "execution_count": null,
      "outputs": []
    },
    {
      "cell_type": "code",
      "source": [
        "# sum(df['class_c'])"
      ],
      "metadata": {
        "id": "vIJedjA8UmMj"
      },
      "execution_count": null,
      "outputs": []
    },
    {
      "cell_type": "code",
      "source": [
        "df.head()"
      ],
      "metadata": {
        "id": "tWYaBths9z_B",
        "outputId": "9bb5df57-153b-4651-f06e-7d620d782e4d",
        "colab": {
          "base_uri": "https://localhost:8080/",
          "height": 206
        }
      },
      "execution_count": null,
      "outputs": [
        {
          "output_type": "execute_result",
          "data": {
            "text/html": [
              "\n",
              "  <div id=\"df-be6798f1-afbd-496d-b90f-67db01967b66\">\n",
              "    <div class=\"colab-df-container\">\n",
              "      <div>\n",
              "<style scoped>\n",
              "    .dataframe tbody tr th:only-of-type {\n",
              "        vertical-align: middle;\n",
              "    }\n",
              "\n",
              "    .dataframe tbody tr th {\n",
              "        vertical-align: top;\n",
              "    }\n",
              "\n",
              "    .dataframe thead th {\n",
              "        text-align: right;\n",
              "    }\n",
              "</style>\n",
              "<table border=\"1\" class=\"dataframe\">\n",
              "  <thead>\n",
              "    <tr style=\"text-align: right;\">\n",
              "      <th></th>\n",
              "      <th>user</th>\n",
              "      <th>timestamp</th>\n",
              "      <th>x</th>\n",
              "      <th>y</th>\n",
              "      <th>z</th>\n",
              "      <th>class</th>\n",
              "    </tr>\n",
              "  </thead>\n",
              "  <tbody>\n",
              "    <tr>\n",
              "      <th>0</th>\n",
              "      <td>a2d80ed662f34d32951eb1c6ed076c313e358b73</td>\n",
              "      <td>2018-06-04 16:26:55.053</td>\n",
              "      <td>0.78</td>\n",
              "      <td>-9.13</td>\n",
              "      <td>-3.74</td>\n",
              "      <td>bus</td>\n",
              "    </tr>\n",
              "    <tr>\n",
              "      <th>1</th>\n",
              "      <td>a2d80ed662f34d32951eb1c6ed076c313e358b73</td>\n",
              "      <td>2018-06-04 16:26:55.111</td>\n",
              "      <td>0.79</td>\n",
              "      <td>-9.11</td>\n",
              "      <td>-3.75</td>\n",
              "      <td>bus</td>\n",
              "    </tr>\n",
              "    <tr>\n",
              "      <th>2</th>\n",
              "      <td>a2d80ed662f34d32951eb1c6ed076c313e358b73</td>\n",
              "      <td>2018-06-04 16:26:55.169</td>\n",
              "      <td>0.80</td>\n",
              "      <td>-9.12</td>\n",
              "      <td>-3.75</td>\n",
              "      <td>bus</td>\n",
              "    </tr>\n",
              "    <tr>\n",
              "      <th>3</th>\n",
              "      <td>a2d80ed662f34d32951eb1c6ed076c313e358b73</td>\n",
              "      <td>2018-06-04 16:26:55.228</td>\n",
              "      <td>0.78</td>\n",
              "      <td>-9.14</td>\n",
              "      <td>-3.76</td>\n",
              "      <td>bus</td>\n",
              "    </tr>\n",
              "    <tr>\n",
              "      <th>4</th>\n",
              "      <td>a2d80ed662f34d32951eb1c6ed076c313e358b73</td>\n",
              "      <td>2018-06-04 16:26:55.286</td>\n",
              "      <td>0.83</td>\n",
              "      <td>-9.12</td>\n",
              "      <td>-3.80</td>\n",
              "      <td>bus</td>\n",
              "    </tr>\n",
              "  </tbody>\n",
              "</table>\n",
              "</div>\n",
              "      <button class=\"colab-df-convert\" onclick=\"convertToInteractive('df-be6798f1-afbd-496d-b90f-67db01967b66')\"\n",
              "              title=\"Convert this dataframe to an interactive table.\"\n",
              "              style=\"display:none;\">\n",
              "        \n",
              "  <svg xmlns=\"http://www.w3.org/2000/svg\" height=\"24px\"viewBox=\"0 0 24 24\"\n",
              "       width=\"24px\">\n",
              "    <path d=\"M0 0h24v24H0V0z\" fill=\"none\"/>\n",
              "    <path d=\"M18.56 5.44l.94 2.06.94-2.06 2.06-.94-2.06-.94-.94-2.06-.94 2.06-2.06.94zm-11 1L8.5 8.5l.94-2.06 2.06-.94-2.06-.94L8.5 2.5l-.94 2.06-2.06.94zm10 10l.94 2.06.94-2.06 2.06-.94-2.06-.94-.94-2.06-.94 2.06-2.06.94z\"/><path d=\"M17.41 7.96l-1.37-1.37c-.4-.4-.92-.59-1.43-.59-.52 0-1.04.2-1.43.59L10.3 9.45l-7.72 7.72c-.78.78-.78 2.05 0 2.83L4 21.41c.39.39.9.59 1.41.59.51 0 1.02-.2 1.41-.59l7.78-7.78 2.81-2.81c.8-.78.8-2.07 0-2.86zM5.41 20L4 18.59l7.72-7.72 1.47 1.35L5.41 20z\"/>\n",
              "  </svg>\n",
              "      </button>\n",
              "      \n",
              "  <style>\n",
              "    .colab-df-container {\n",
              "      display:flex;\n",
              "      flex-wrap:wrap;\n",
              "      gap: 12px;\n",
              "    }\n",
              "\n",
              "    .colab-df-convert {\n",
              "      background-color: #E8F0FE;\n",
              "      border: none;\n",
              "      border-radius: 50%;\n",
              "      cursor: pointer;\n",
              "      display: none;\n",
              "      fill: #1967D2;\n",
              "      height: 32px;\n",
              "      padding: 0 0 0 0;\n",
              "      width: 32px;\n",
              "    }\n",
              "\n",
              "    .colab-df-convert:hover {\n",
              "      background-color: #E2EBFA;\n",
              "      box-shadow: 0px 1px 2px rgba(60, 64, 67, 0.3), 0px 1px 3px 1px rgba(60, 64, 67, 0.15);\n",
              "      fill: #174EA6;\n",
              "    }\n",
              "\n",
              "    [theme=dark] .colab-df-convert {\n",
              "      background-color: #3B4455;\n",
              "      fill: #D2E3FC;\n",
              "    }\n",
              "\n",
              "    [theme=dark] .colab-df-convert:hover {\n",
              "      background-color: #434B5C;\n",
              "      box-shadow: 0px 1px 3px 1px rgba(0, 0, 0, 0.15);\n",
              "      filter: drop-shadow(0px 1px 2px rgba(0, 0, 0, 0.3));\n",
              "      fill: #FFFFFF;\n",
              "    }\n",
              "  </style>\n",
              "\n",
              "      <script>\n",
              "        const buttonEl =\n",
              "          document.querySelector('#df-be6798f1-afbd-496d-b90f-67db01967b66 button.colab-df-convert');\n",
              "        buttonEl.style.display =\n",
              "          google.colab.kernel.accessAllowed ? 'block' : 'none';\n",
              "\n",
              "        async function convertToInteractive(key) {\n",
              "          const element = document.querySelector('#df-be6798f1-afbd-496d-b90f-67db01967b66');\n",
              "          const dataTable =\n",
              "            await google.colab.kernel.invokeFunction('convertToInteractive',\n",
              "                                                     [key], {});\n",
              "          if (!dataTable) return;\n",
              "\n",
              "          const docLinkHtml = 'Like what you see? Visit the ' +\n",
              "            '<a target=\"_blank\" href=https://colab.research.google.com/notebooks/data_table.ipynb>data table notebook</a>'\n",
              "            + ' to learn more about interactive tables.';\n",
              "          element.innerHTML = '';\n",
              "          dataTable['output_type'] = 'display_data';\n",
              "          await google.colab.output.renderOutput(dataTable, element);\n",
              "          const docLink = document.createElement('div');\n",
              "          docLink.innerHTML = docLinkHtml;\n",
              "          element.appendChild(docLink);\n",
              "        }\n",
              "      </script>\n",
              "    </div>\n",
              "  </div>\n",
              "  "
            ],
            "text/plain": [
              "                                       user                timestamp     x  \\\n",
              "0  a2d80ed662f34d32951eb1c6ed076c313e358b73  2018-06-04 16:26:55.053  0.78   \n",
              "1  a2d80ed662f34d32951eb1c6ed076c313e358b73  2018-06-04 16:26:55.111  0.79   \n",
              "2  a2d80ed662f34d32951eb1c6ed076c313e358b73  2018-06-04 16:26:55.169  0.80   \n",
              "3  a2d80ed662f34d32951eb1c6ed076c313e358b73  2018-06-04 16:26:55.228  0.78   \n",
              "4  a2d80ed662f34d32951eb1c6ed076c313e358b73  2018-06-04 16:26:55.286  0.83   \n",
              "\n",
              "      y     z class  \n",
              "0 -9.13 -3.74   bus  \n",
              "1 -9.11 -3.75   bus  \n",
              "2 -9.12 -3.75   bus  \n",
              "3 -9.14 -3.76   bus  \n",
              "4 -9.12 -3.80   bus  "
            ]
          },
          "metadata": {},
          "execution_count": 13
        }
      ]
    },
    {
      "cell_type": "code",
      "source": [
        ""
      ],
      "metadata": {
        "id": "uBdmtyRf3du9"
      },
      "execution_count": null,
      "outputs": []
    },
    {
      "cell_type": "markdown",
      "source": [
        "###Q2"
      ],
      "metadata": {
        "id": "0mTLWc8B3ffl"
      }
    },
    {
      "cell_type": "code",
      "source": [
        "#Added a new column 'seq_c to dataframe df whose value is 1 when user or mode changes otherwise value is zero.\n",
        "seq_c = []\n",
        "for i  in range(len(df['user'])-1):\n",
        "  if (df['class'][i] != df['class'][i+1] or df['user'][i] != df['user'][i+1]):\n",
        "    seq_c.append(1)\n",
        "  else :\n",
        "    seq_c.append(0)\n",
        "seq_c.append(1)\n",
        "df['seq_c'] = seq_c"
      ],
      "metadata": {
        "id": "2CNXpBy_-Hrg"
      },
      "execution_count": null,
      "outputs": []
    },
    {
      "cell_type": "code",
      "source": [
        "sum(df['seq_c']) # counted no. of sequence change only due to changes in only user and mode"
      ],
      "metadata": {
        "id": "moq-x4KCUanJ",
        "outputId": "a5d43757-01aa-412e-fc4a-174b6c81cb8f",
        "colab": {
          "base_uri": "https://localhost:8080/"
        }
      },
      "execution_count": null,
      "outputs": [
        {
          "output_type": "execute_result",
          "data": {
            "text/plain": [
              "138"
            ]
          },
          "metadata": {},
          "execution_count": 15
        }
      ]
    },
    {
      "cell_type": "code",
      "source": [
        "# df.head()"
      ],
      "metadata": {
        "id": "bPIQBnET-voD"
      },
      "execution_count": null,
      "outputs": []
    },
    {
      "cell_type": "code",
      "source": [
        "df['time_s'] = df['timestamp'].shift(1, axis=0) # created a new column 'time_s' by shifting 'timestamp' column by one"
      ],
      "metadata": {
        "id": "rqWA3wYQk4Ml"
      },
      "execution_count": null,
      "outputs": []
    },
    {
      "cell_type": "code",
      "source": [
        "df.head() "
      ],
      "metadata": {
        "colab": {
          "base_uri": "https://localhost:8080/",
          "height": 206
        },
        "id": "QnUnwbaHlsSn",
        "outputId": "dc62b6b6-b242-4d54-aaa9-7577207323d6"
      },
      "execution_count": null,
      "outputs": [
        {
          "output_type": "execute_result",
          "data": {
            "text/html": [
              "\n",
              "  <div id=\"df-ae40b145-3a33-41c9-acda-325d8f62c005\">\n",
              "    <div class=\"colab-df-container\">\n",
              "      <div>\n",
              "<style scoped>\n",
              "    .dataframe tbody tr th:only-of-type {\n",
              "        vertical-align: middle;\n",
              "    }\n",
              "\n",
              "    .dataframe tbody tr th {\n",
              "        vertical-align: top;\n",
              "    }\n",
              "\n",
              "    .dataframe thead th {\n",
              "        text-align: right;\n",
              "    }\n",
              "</style>\n",
              "<table border=\"1\" class=\"dataframe\">\n",
              "  <thead>\n",
              "    <tr style=\"text-align: right;\">\n",
              "      <th></th>\n",
              "      <th>user</th>\n",
              "      <th>timestamp</th>\n",
              "      <th>x</th>\n",
              "      <th>y</th>\n",
              "      <th>z</th>\n",
              "      <th>class</th>\n",
              "      <th>seq_c</th>\n",
              "      <th>time_s</th>\n",
              "    </tr>\n",
              "  </thead>\n",
              "  <tbody>\n",
              "    <tr>\n",
              "      <th>0</th>\n",
              "      <td>a2d80ed662f34d32951eb1c6ed076c313e358b73</td>\n",
              "      <td>2018-06-04 16:26:55.053</td>\n",
              "      <td>0.78</td>\n",
              "      <td>-9.13</td>\n",
              "      <td>-3.74</td>\n",
              "      <td>bus</td>\n",
              "      <td>0</td>\n",
              "      <td>NaN</td>\n",
              "    </tr>\n",
              "    <tr>\n",
              "      <th>1</th>\n",
              "      <td>a2d80ed662f34d32951eb1c6ed076c313e358b73</td>\n",
              "      <td>2018-06-04 16:26:55.111</td>\n",
              "      <td>0.79</td>\n",
              "      <td>-9.11</td>\n",
              "      <td>-3.75</td>\n",
              "      <td>bus</td>\n",
              "      <td>0</td>\n",
              "      <td>2018-06-04 16:26:55.053</td>\n",
              "    </tr>\n",
              "    <tr>\n",
              "      <th>2</th>\n",
              "      <td>a2d80ed662f34d32951eb1c6ed076c313e358b73</td>\n",
              "      <td>2018-06-04 16:26:55.169</td>\n",
              "      <td>0.80</td>\n",
              "      <td>-9.12</td>\n",
              "      <td>-3.75</td>\n",
              "      <td>bus</td>\n",
              "      <td>0</td>\n",
              "      <td>2018-06-04 16:26:55.111</td>\n",
              "    </tr>\n",
              "    <tr>\n",
              "      <th>3</th>\n",
              "      <td>a2d80ed662f34d32951eb1c6ed076c313e358b73</td>\n",
              "      <td>2018-06-04 16:26:55.228</td>\n",
              "      <td>0.78</td>\n",
              "      <td>-9.14</td>\n",
              "      <td>-3.76</td>\n",
              "      <td>bus</td>\n",
              "      <td>0</td>\n",
              "      <td>2018-06-04 16:26:55.169</td>\n",
              "    </tr>\n",
              "    <tr>\n",
              "      <th>4</th>\n",
              "      <td>a2d80ed662f34d32951eb1c6ed076c313e358b73</td>\n",
              "      <td>2018-06-04 16:26:55.286</td>\n",
              "      <td>0.83</td>\n",
              "      <td>-9.12</td>\n",
              "      <td>-3.80</td>\n",
              "      <td>bus</td>\n",
              "      <td>0</td>\n",
              "      <td>2018-06-04 16:26:55.228</td>\n",
              "    </tr>\n",
              "  </tbody>\n",
              "</table>\n",
              "</div>\n",
              "      <button class=\"colab-df-convert\" onclick=\"convertToInteractive('df-ae40b145-3a33-41c9-acda-325d8f62c005')\"\n",
              "              title=\"Convert this dataframe to an interactive table.\"\n",
              "              style=\"display:none;\">\n",
              "        \n",
              "  <svg xmlns=\"http://www.w3.org/2000/svg\" height=\"24px\"viewBox=\"0 0 24 24\"\n",
              "       width=\"24px\">\n",
              "    <path d=\"M0 0h24v24H0V0z\" fill=\"none\"/>\n",
              "    <path d=\"M18.56 5.44l.94 2.06.94-2.06 2.06-.94-2.06-.94-.94-2.06-.94 2.06-2.06.94zm-11 1L8.5 8.5l.94-2.06 2.06-.94-2.06-.94L8.5 2.5l-.94 2.06-2.06.94zm10 10l.94 2.06.94-2.06 2.06-.94-2.06-.94-.94-2.06-.94 2.06-2.06.94z\"/><path d=\"M17.41 7.96l-1.37-1.37c-.4-.4-.92-.59-1.43-.59-.52 0-1.04.2-1.43.59L10.3 9.45l-7.72 7.72c-.78.78-.78 2.05 0 2.83L4 21.41c.39.39.9.59 1.41.59.51 0 1.02-.2 1.41-.59l7.78-7.78 2.81-2.81c.8-.78.8-2.07 0-2.86zM5.41 20L4 18.59l7.72-7.72 1.47 1.35L5.41 20z\"/>\n",
              "  </svg>\n",
              "      </button>\n",
              "      \n",
              "  <style>\n",
              "    .colab-df-container {\n",
              "      display:flex;\n",
              "      flex-wrap:wrap;\n",
              "      gap: 12px;\n",
              "    }\n",
              "\n",
              "    .colab-df-convert {\n",
              "      background-color: #E8F0FE;\n",
              "      border: none;\n",
              "      border-radius: 50%;\n",
              "      cursor: pointer;\n",
              "      display: none;\n",
              "      fill: #1967D2;\n",
              "      height: 32px;\n",
              "      padding: 0 0 0 0;\n",
              "      width: 32px;\n",
              "    }\n",
              "\n",
              "    .colab-df-convert:hover {\n",
              "      background-color: #E2EBFA;\n",
              "      box-shadow: 0px 1px 2px rgba(60, 64, 67, 0.3), 0px 1px 3px 1px rgba(60, 64, 67, 0.15);\n",
              "      fill: #174EA6;\n",
              "    }\n",
              "\n",
              "    [theme=dark] .colab-df-convert {\n",
              "      background-color: #3B4455;\n",
              "      fill: #D2E3FC;\n",
              "    }\n",
              "\n",
              "    [theme=dark] .colab-df-convert:hover {\n",
              "      background-color: #434B5C;\n",
              "      box-shadow: 0px 1px 3px 1px rgba(0, 0, 0, 0.15);\n",
              "      filter: drop-shadow(0px 1px 2px rgba(0, 0, 0, 0.3));\n",
              "      fill: #FFFFFF;\n",
              "    }\n",
              "  </style>\n",
              "\n",
              "      <script>\n",
              "        const buttonEl =\n",
              "          document.querySelector('#df-ae40b145-3a33-41c9-acda-325d8f62c005 button.colab-df-convert');\n",
              "        buttonEl.style.display =\n",
              "          google.colab.kernel.accessAllowed ? 'block' : 'none';\n",
              "\n",
              "        async function convertToInteractive(key) {\n",
              "          const element = document.querySelector('#df-ae40b145-3a33-41c9-acda-325d8f62c005');\n",
              "          const dataTable =\n",
              "            await google.colab.kernel.invokeFunction('convertToInteractive',\n",
              "                                                     [key], {});\n",
              "          if (!dataTable) return;\n",
              "\n",
              "          const docLinkHtml = 'Like what you see? Visit the ' +\n",
              "            '<a target=\"_blank\" href=https://colab.research.google.com/notebooks/data_table.ipynb>data table notebook</a>'\n",
              "            + ' to learn more about interactive tables.';\n",
              "          element.innerHTML = '';\n",
              "          dataTable['output_type'] = 'display_data';\n",
              "          await google.colab.output.renderOutput(dataTable, element);\n",
              "          const docLink = document.createElement('div');\n",
              "          docLink.innerHTML = docLinkHtml;\n",
              "          element.appendChild(docLink);\n",
              "        }\n",
              "      </script>\n",
              "    </div>\n",
              "  </div>\n",
              "  "
            ],
            "text/plain": [
              "                                       user                timestamp     x  \\\n",
              "0  a2d80ed662f34d32951eb1c6ed076c313e358b73  2018-06-04 16:26:55.053  0.78   \n",
              "1  a2d80ed662f34d32951eb1c6ed076c313e358b73  2018-06-04 16:26:55.111  0.79   \n",
              "2  a2d80ed662f34d32951eb1c6ed076c313e358b73  2018-06-04 16:26:55.169  0.80   \n",
              "3  a2d80ed662f34d32951eb1c6ed076c313e358b73  2018-06-04 16:26:55.228  0.78   \n",
              "4  a2d80ed662f34d32951eb1c6ed076c313e358b73  2018-06-04 16:26:55.286  0.83   \n",
              "\n",
              "      y     z class  seq_c                   time_s  \n",
              "0 -9.13 -3.74   bus      0                      NaN  \n",
              "1 -9.11 -3.75   bus      0  2018-06-04 16:26:55.053  \n",
              "2 -9.12 -3.75   bus      0  2018-06-04 16:26:55.111  \n",
              "3 -9.14 -3.76   bus      0  2018-06-04 16:26:55.169  \n",
              "4 -9.12 -3.80   bus      0  2018-06-04 16:26:55.228  "
            ]
          },
          "metadata": {},
          "execution_count": 18
        }
      ]
    },
    {
      "cell_type": "code",
      "source": [
        "# converted 'timestamp' and 'time_s' columns into datatime64[s]\n",
        "df['timestamp'] = df['timestamp'].astype('datetime64[s]')\n",
        "df['time_s'] = df['time_s'].astype('datetime64[s]')\n"
      ],
      "metadata": {
        "id": "Q2LAR_hYlshL"
      },
      "execution_count": null,
      "outputs": []
    },
    {
      "cell_type": "code",
      "source": [
        "#created a new columns 'time_d' by taking difference of 'timestam' and 'time_s'\n",
        "df['time_d'] = (df['timestamp'] - df['time_s'])/np.timedelta64(1, 's')"
      ],
      "metadata": {
        "id": "igc0QzJz5X-B"
      },
      "execution_count": null,
      "outputs": []
    },
    {
      "cell_type": "code",
      "source": [
        "# df['time_d']"
      ],
      "metadata": {
        "id": "0H3-o7fK5YA4"
      },
      "execution_count": null,
      "outputs": []
    },
    {
      "cell_type": "code",
      "source": [
        "#find unique user and unique mode and assign it to rows and col respectively\n",
        "rows = df['user'].unique()\n",
        "col = df['class'].unique()"
      ],
      "metadata": {
        "id": "B0gzKGs3EBPj"
      },
      "execution_count": null,
      "outputs": []
    },
    {
      "cell_type": "code",
      "source": [
        "#find unique no. of user and unique no. of mode and assign it to rows_len and col_len respectively\n",
        "rows_len = len(df['user'].unique())\n",
        "col_len = len(df['class'].unique())"
      ],
      "metadata": {
        "id": "xysQXXaIAxX4"
      },
      "execution_count": null,
      "outputs": []
    },
    {
      "cell_type": "code",
      "source": [
        "#created a 2d array of size (rows_len, col_len) with all elements 0.\n",
        "num_seq = np.zeros((rows_len, col_len))"
      ],
      "metadata": {
        "id": "iJ6QS2Vo-9Q7"
      },
      "execution_count": null,
      "outputs": []
    },
    {
      "cell_type": "code",
      "source": [
        "#created a dataframe df_num_seg  with index=rows and column = col which will contain sequences corresponding to each users\n",
        "df_num_seq = pd.DataFrame(num_seq, index = rows,columns=col)"
      ],
      "metadata": {
        "id": "Wi-upGGeegl_"
      },
      "execution_count": null,
      "outputs": []
    },
    {
      "cell_type": "code",
      "source": [
        "df['sequence'] = np.zeros(df.shape[0],int)"
      ],
      "metadata": {
        "id": "S2jfD8-khpJG"
      },
      "execution_count": null,
      "outputs": []
    },
    {
      "cell_type": "code",
      "source": [
        "df['sequence'][0] = 1"
      ],
      "metadata": {
        "colab": {
          "base_uri": "https://localhost:8080/"
        },
        "id": "i46BzfX-hxeZ",
        "outputId": "232fd24e-6391-490e-eaf9-1d8cf572a805"
      },
      "execution_count": null,
      "outputs": [
        {
          "output_type": "stream",
          "name": "stderr",
          "text": [
            "/usr/local/lib/python3.7/dist-packages/ipykernel_launcher.py:1: SettingWithCopyWarning: \n",
            "A value is trying to be set on a copy of a slice from a DataFrame\n",
            "\n",
            "See the caveats in the documentation: https://pandas.pydata.org/pandas-docs/stable/user_guide/indexing.html#returning-a-view-versus-a-copy\n",
            "  \"\"\"Entry point for launching an IPython kernel.\n"
          ]
        }
      ]
    },
    {
      "cell_type": "code",
      "source": [
        "#here values in dataframe df_num_seq are updated, if df['seq_c'] is equal to one (user or mode changes) or time difference is greater than 10 sec. \n",
        "#we will increment mode corrosponding to that user\n",
        "for i in range(len(df['seq_c'])):\n",
        "  if df['seq_c'][i] == 1 or df['time_d'][i] > 10:\n",
        "\n",
        "    df_num_seq.loc[df['user'][i], df['class'][i]] +=1\n",
        "    df['sequence'][i] = 1\n",
        "    "
      ],
      "metadata": {
        "colab": {
          "base_uri": "https://localhost:8080/"
        },
        "id": "VBbvVLNmeGAc",
        "outputId": "8c7bf25a-7909-4308-c147-ace70bddc8cb"
      },
      "execution_count": null,
      "outputs": [
        {
          "output_type": "stream",
          "name": "stderr",
          "text": [
            "/usr/local/lib/python3.7/dist-packages/ipykernel_launcher.py:7: SettingWithCopyWarning: \n",
            "A value is trying to be set on a copy of a slice from a DataFrame\n",
            "\n",
            "See the caveats in the documentation: https://pandas.pydata.org/pandas-docs/stable/user_guide/indexing.html#returning-a-view-versus-a-copy\n",
            "  import sys\n"
          ]
        }
      ]
    },
    {
      "cell_type": "code",
      "source": [
        "# Answer of Question no. 2\n",
        "df_num_seq"
      ],
      "metadata": {
        "id": "j78QSxfQDO17"
      },
      "execution_count": null,
      "outputs": []
    },
    {
      "cell_type": "code",
      "source": [
        ""
      ],
      "metadata": {
        "id": "4obxwaA_3GWO"
      },
      "execution_count": null,
      "outputs": []
    },
    {
      "cell_type": "code",
      "source": [
        ""
      ],
      "metadata": {
        "id": "JbzDNofS4vLD"
      },
      "execution_count": null,
      "outputs": []
    },
    {
      "cell_type": "code",
      "source": [
        ""
      ],
      "metadata": {
        "id": "6M03aelZ3-zR"
      },
      "execution_count": null,
      "outputs": []
    },
    {
      "cell_type": "code",
      "source": [
        "#Found total no. of sequences\n",
        "sum(df_num_seq['bus'])+sum(df_num_seq['walk'])+sum(df_num_seq['car'])+sum(df_num_seq['bike'])+sum(df_num_seq['train'])+sum(df_num_seq['e-bike'])"
      ],
      "metadata": {
        "id": "aAdVGk7AQw6j"
      },
      "execution_count": null,
      "outputs": []
    },
    {
      "cell_type": "code",
      "source": [
        "#find the cumulative some of sequence column of dataframe df\n",
        "df['sequence'] = df['sequence'].cumsum()"
      ],
      "metadata": {
        "id": "S2HmAcKf4FJ9"
      },
      "execution_count": null,
      "outputs": []
    },
    {
      "cell_type": "code",
      "source": [
        "sum(df['sequence'])"
      ],
      "metadata": {
        "id": "vWAKWaDT4NZ1"
      },
      "execution_count": null,
      "outputs": []
    },
    {
      "cell_type": "code",
      "source": [
        "\n",
        "#df"
      ],
      "metadata": {
        "id": "gsqFeeA495H6"
      },
      "execution_count": null,
      "outputs": []
    },
    {
      "cell_type": "markdown",
      "source": [
        "##Q.3"
      ],
      "metadata": {
        "id": "DbOFt2oZIIoa"
      }
    },
    {
      "cell_type": "code",
      "source": [
        "# df1 = df_num_seq.cumsum(axis = 0, skipna = True)"
      ],
      "metadata": {
        "id": "YrGwvTlJVk9G"
      },
      "execution_count": null,
      "outputs": []
    },
    {
      "cell_type": "code",
      "source": [
        "df.head()"
      ],
      "metadata": {
        "id": "pdio3vF-L-N6"
      },
      "execution_count": null,
      "outputs": []
    },
    {
      "cell_type": "code",
      "source": [
        "#dropped seq_c column from df\n",
        "df = df.drop(['seq_c'],axis = 1)"
      ],
      "metadata": {
        "id": "hUen_WEx50G_"
      },
      "execution_count": null,
      "outputs": []
    },
    {
      "cell_type": "code",
      "source": [
        "df['min_t'] = df.groupby('sequence').timestamp.transform('min')                 ##Implementing groupby and transform to obtain the minimum of each sequence and then storing it in a new coloumn named min_t"
      ],
      "metadata": {
        "id": "caAiXNvx6hSs"
      },
      "execution_count": null,
      "outputs": []
    },
    {
      "cell_type": "code",
      "source": [
        "df.head()"
      ],
      "metadata": {
        "id": "70JugKTS56Vh"
      },
      "execution_count": null,
      "outputs": []
    },
    {
      "cell_type": "code",
      "source": [
        "##Creating the function for indexing the partition\n",
        "\n",
        "def CreatePartition(seq_id, t, minT):\n",
        "  r = (t-minT)/np.timedelta64(1,'s')\n",
        "  r_int = int(r/5)\n",
        "  r_str = str(r_int)\n",
        "  ans = str(seq_id) + \"->\" + r_str\n",
        "  return ans"
      ],
      "metadata": {
        "id": "-aGK-woF6DC0"
      },
      "execution_count": null,
      "outputs": []
    },
    {
      "cell_type": "code",
      "source": [
        "df['part_idx'] = np.vectorize(CreatePartition)(df['sequence'], df['timestamp'],df['min_t'])                        ##Defined vectorized function along with implementing indexing function"
      ],
      "metadata": {
        "id": "AV2LXIpX-ASi"
      },
      "execution_count": null,
      "outputs": []
    },
    {
      "cell_type": "code",
      "source": [
        "df['part_idx'].nunique()                                                        ##No. of unique elements in part_idx"
      ],
      "metadata": {
        "id": "FwIRPu9hANdx"
      },
      "execution_count": null,
      "outputs": []
    },
    {
      "cell_type": "code",
      "source": [
        "df.head()"
      ],
      "metadata": {
        "id": "Mfez4QO4BItC"
      },
      "execution_count": null,
      "outputs": []
    },
    {
      "cell_type": "code",
      "source": [
        "df4 = df.drop(['timestamp','x','y','z','time_s','time_d','sequence','min_t'], axis = 1)                  ##Dropping the redundant column"
      ],
      "metadata": {
        "id": "NbdL88sLCWat"
      },
      "execution_count": null,
      "outputs": []
    },
    {
      "cell_type": "code",
      "source": [
        "df3 = df4.groupby(['user','class']).nunique()                                                            ##No. of unique after grouping user and class"
      ],
      "metadata": {
        "id": "Io0BJvuHBDUA"
      },
      "execution_count": null,
      "outputs": []
    },
    {
      "cell_type": "code",
      "source": [
        "pd.set_option('display.max_rows',None, 'display.max_columns',None)\n",
        "df3"
      ],
      "metadata": {
        "id": "xa_cXHikCM2w"
      },
      "execution_count": null,
      "outputs": []
    },
    {
      "cell_type": "code",
      "source": [
        "#car = df.loc[df['class'] == 'car'].part_idx.sum()"
      ],
      "metadata": {
        "id": "eRae4pvvh6QH"
      },
      "execution_count": null,
      "outputs": []
    },
    {
      "cell_type": "code",
      "source": [
        "df4.head()"
      ],
      "metadata": {
        "id": "4jZmZNCUOq4a"
      },
      "execution_count": null,
      "outputs": []
    },
    {
      "cell_type": "code",
      "source": [
        "df.head()"
      ],
      "metadata": {
        "id": "BOhjZr1ybOUP"
      },
      "execution_count": null,
      "outputs": []
    },
    {
      "cell_type": "markdown",
      "source": [
        "###Q4"
      ],
      "metadata": {
        "id": "TabmE1-23KcF"
      }
    },
    {
      "cell_type": "code",
      "source": [
        "##Creating a dataframe containing reqyuired features\n",
        "df5 = pd.DataFrame(columns = ['x_mean', 'x_std', 'x_max', 'y_min', 'x_mean', 'x_std', 'x_max', 'y_min', 'x_mean', 'x_std', 'x_max', 'y_min'])"
      ],
      "metadata": {
        "id": "dUOS0iuiIPV2"
      },
      "execution_count": null,
      "outputs": []
    },
    {
      "cell_type": "code",
      "source": [
        "##Extracting the features and adding to the dataframe initiallized above\n",
        "\n",
        "df5['x_mean'] = df.groupby(['part_idx'])['x'].mean()\n",
        "df5['x_std'] = df.groupby(['part_idx'])['x'].std()\n",
        "df5['x_max'] = df.groupby(['part_idx'])['x'].max()\n",
        "df5['x_min'] = df.groupby(['part_idx'])['x'].min()\n",
        "\n",
        "df5['y_mean'] = df.groupby(['part_idx'])['y'].mean()\n",
        "df5['y_std'] = df.groupby(['part_idx'])['y'].std()\n",
        "df5['y_max'] = df.groupby(['part_idx'])['y'].max()\n",
        "df5['y_min'] = df.groupby(['part_idx'])['y'].min()\n",
        "\n",
        "df5['z_mean'] = df.groupby(['part_idx'])['z'].mean()\n",
        "df5['z_std'] = df.groupby(['part_idx'])['z'].std()\n",
        "df5['z_max'] = df.groupby(['part_idx'])['z'].max()\n",
        "df5['z_min'] = df.groupby(['part_idx'])['z'].min()\n",
        "\n",
        "df5['target'] =  df.groupby(['part_idx'])['class'].unique()"
      ],
      "metadata": {
        "id": "zvUeCJBuIPTq"
      },
      "execution_count": 50,
      "outputs": []
    },
    {
      "cell_type": "code",
      "source": [
        "df5.head()"
      ],
      "metadata": {
        "id": "fFcmlI8qIPQz",
        "colab": {
          "base_uri": "https://localhost:8080/",
          "height": 238
        },
        "outputId": "d3d1d6cf-e624-4fa5-dd4e-dc0d10064dd7"
      },
      "execution_count": 51,
      "outputs": [
        {
          "data": {
            "text/html": [
              "\n",
              "  <div id=\"df-bf30fdd4-686f-452e-9405-be5d3e91ce92\">\n",
              "    <div class=\"colab-df-container\">\n",
              "      <div>\n",
              "<style scoped>\n",
              "    .dataframe tbody tr th:only-of-type {\n",
              "        vertical-align: middle;\n",
              "    }\n",
              "\n",
              "    .dataframe tbody tr th {\n",
              "        vertical-align: top;\n",
              "    }\n",
              "\n",
              "    .dataframe thead th {\n",
              "        text-align: right;\n",
              "    }\n",
              "</style>\n",
              "<table border=\"1\" class=\"dataframe\">\n",
              "  <thead>\n",
              "    <tr style=\"text-align: right;\">\n",
              "      <th></th>\n",
              "      <th>x_mean</th>\n",
              "      <th>x_std</th>\n",
              "      <th>x_max</th>\n",
              "      <th>y_min</th>\n",
              "      <th>x_mean</th>\n",
              "      <th>x_std</th>\n",
              "      <th>x_max</th>\n",
              "      <th>y_min</th>\n",
              "      <th>x_mean</th>\n",
              "      <th>x_std</th>\n",
              "      <th>x_max</th>\n",
              "      <th>y_min</th>\n",
              "      <th>x_min</th>\n",
              "      <th>y_mean</th>\n",
              "      <th>y_std</th>\n",
              "      <th>y_max</th>\n",
              "      <th>z_mean</th>\n",
              "      <th>z_std</th>\n",
              "      <th>z_max</th>\n",
              "      <th>z_min</th>\n",
              "      <th>target</th>\n",
              "    </tr>\n",
              "    <tr>\n",
              "      <th>part_idx</th>\n",
              "      <th></th>\n",
              "      <th></th>\n",
              "      <th></th>\n",
              "      <th></th>\n",
              "      <th></th>\n",
              "      <th></th>\n",
              "      <th></th>\n",
              "      <th></th>\n",
              "      <th></th>\n",
              "      <th></th>\n",
              "      <th></th>\n",
              "      <th></th>\n",
              "      <th></th>\n",
              "      <th></th>\n",
              "      <th></th>\n",
              "      <th></th>\n",
              "      <th></th>\n",
              "      <th></th>\n",
              "      <th></th>\n",
              "      <th></th>\n",
              "      <th></th>\n",
              "    </tr>\n",
              "  </thead>\n",
              "  <tbody>\n",
              "    <tr>\n",
              "      <th>1-&gt;0</th>\n",
              "      <td>0.800141</td>\n",
              "      <td>0.022135</td>\n",
              "      <td>0.85</td>\n",
              "      <td>-9.18</td>\n",
              "      <td>0.800141</td>\n",
              "      <td>0.022135</td>\n",
              "      <td>0.85</td>\n",
              "      <td>-9.18</td>\n",
              "      <td>0.800141</td>\n",
              "      <td>0.022135</td>\n",
              "      <td>0.85</td>\n",
              "      <td>-9.18</td>\n",
              "      <td>0.75</td>\n",
              "      <td>-9.127324</td>\n",
              "      <td>0.018513</td>\n",
              "      <td>-9.08</td>\n",
              "      <td>-3.747606</td>\n",
              "      <td>0.028709</td>\n",
              "      <td>-3.67</td>\n",
              "      <td>-3.81</td>\n",
              "      <td>[bus]</td>\n",
              "    </tr>\n",
              "    <tr>\n",
              "      <th>1-&gt;1</th>\n",
              "      <td>0.810000</td>\n",
              "      <td>0.016903</td>\n",
              "      <td>0.83</td>\n",
              "      <td>-9.14</td>\n",
              "      <td>0.810000</td>\n",
              "      <td>0.016903</td>\n",
              "      <td>0.83</td>\n",
              "      <td>-9.14</td>\n",
              "      <td>0.810000</td>\n",
              "      <td>0.016903</td>\n",
              "      <td>0.83</td>\n",
              "      <td>-9.14</td>\n",
              "      <td>0.77</td>\n",
              "      <td>-9.118000</td>\n",
              "      <td>0.016125</td>\n",
              "      <td>-9.09</td>\n",
              "      <td>-3.747333</td>\n",
              "      <td>0.021202</td>\n",
              "      <td>-3.70</td>\n",
              "      <td>-3.78</td>\n",
              "      <td>[bus]</td>\n",
              "    </tr>\n",
              "    <tr>\n",
              "      <th>10-&gt;0</th>\n",
              "      <td>1.850496</td>\n",
              "      <td>0.586150</td>\n",
              "      <td>3.43</td>\n",
              "      <td>-9.38</td>\n",
              "      <td>1.850496</td>\n",
              "      <td>0.586150</td>\n",
              "      <td>3.43</td>\n",
              "      <td>-9.38</td>\n",
              "      <td>1.850496</td>\n",
              "      <td>0.586150</td>\n",
              "      <td>3.43</td>\n",
              "      <td>-9.38</td>\n",
              "      <td>0.37</td>\n",
              "      <td>-8.079362</td>\n",
              "      <td>0.534036</td>\n",
              "      <td>-7.10</td>\n",
              "      <td>-5.522057</td>\n",
              "      <td>0.646008</td>\n",
              "      <td>-3.44</td>\n",
              "      <td>-6.40</td>\n",
              "      <td>[bus]</td>\n",
              "    </tr>\n",
              "    <tr>\n",
              "      <th>10-&gt;1</th>\n",
              "      <td>2.299412</td>\n",
              "      <td>0.168355</td>\n",
              "      <td>2.52</td>\n",
              "      <td>-7.75</td>\n",
              "      <td>2.299412</td>\n",
              "      <td>0.168355</td>\n",
              "      <td>2.52</td>\n",
              "      <td>-7.75</td>\n",
              "      <td>2.299412</td>\n",
              "      <td>0.168355</td>\n",
              "      <td>2.52</td>\n",
              "      <td>-7.75</td>\n",
              "      <td>1.97</td>\n",
              "      <td>-7.336471</td>\n",
              "      <td>0.243258</td>\n",
              "      <td>-6.87</td>\n",
              "      <td>-6.140000</td>\n",
              "      <td>0.296036</td>\n",
              "      <td>-5.72</td>\n",
              "      <td>-6.64</td>\n",
              "      <td>[bus]</td>\n",
              "    </tr>\n",
              "    <tr>\n",
              "      <th>100-&gt;0</th>\n",
              "      <td>0.250972</td>\n",
              "      <td>0.098798</td>\n",
              "      <td>0.43</td>\n",
              "      <td>8.62</td>\n",
              "      <td>0.250972</td>\n",
              "      <td>0.098798</td>\n",
              "      <td>0.43</td>\n",
              "      <td>8.62</td>\n",
              "      <td>0.250972</td>\n",
              "      <td>0.098798</td>\n",
              "      <td>0.43</td>\n",
              "      <td>8.62</td>\n",
              "      <td>0.03</td>\n",
              "      <td>8.907778</td>\n",
              "      <td>0.122051</td>\n",
              "      <td>9.23</td>\n",
              "      <td>4.246111</td>\n",
              "      <td>0.145550</td>\n",
              "      <td>4.55</td>\n",
              "      <td>3.73</td>\n",
              "      <td>[car]</td>\n",
              "    </tr>\n",
              "  </tbody>\n",
              "</table>\n",
              "</div>\n",
              "      <button class=\"colab-df-convert\" onclick=\"convertToInteractive('df-bf30fdd4-686f-452e-9405-be5d3e91ce92')\"\n",
              "              title=\"Convert this dataframe to an interactive table.\"\n",
              "              style=\"display:none;\">\n",
              "        \n",
              "  <svg xmlns=\"http://www.w3.org/2000/svg\" height=\"24px\"viewBox=\"0 0 24 24\"\n",
              "       width=\"24px\">\n",
              "    <path d=\"M0 0h24v24H0V0z\" fill=\"none\"/>\n",
              "    <path d=\"M18.56 5.44l.94 2.06.94-2.06 2.06-.94-2.06-.94-.94-2.06-.94 2.06-2.06.94zm-11 1L8.5 8.5l.94-2.06 2.06-.94-2.06-.94L8.5 2.5l-.94 2.06-2.06.94zm10 10l.94 2.06.94-2.06 2.06-.94-2.06-.94-.94-2.06-.94 2.06-2.06.94z\"/><path d=\"M17.41 7.96l-1.37-1.37c-.4-.4-.92-.59-1.43-.59-.52 0-1.04.2-1.43.59L10.3 9.45l-7.72 7.72c-.78.78-.78 2.05 0 2.83L4 21.41c.39.39.9.59 1.41.59.51 0 1.02-.2 1.41-.59l7.78-7.78 2.81-2.81c.8-.78.8-2.07 0-2.86zM5.41 20L4 18.59l7.72-7.72 1.47 1.35L5.41 20z\"/>\n",
              "  </svg>\n",
              "      </button>\n",
              "      \n",
              "  <style>\n",
              "    .colab-df-container {\n",
              "      display:flex;\n",
              "      flex-wrap:wrap;\n",
              "      gap: 12px;\n",
              "    }\n",
              "\n",
              "    .colab-df-convert {\n",
              "      background-color: #E8F0FE;\n",
              "      border: none;\n",
              "      border-radius: 50%;\n",
              "      cursor: pointer;\n",
              "      display: none;\n",
              "      fill: #1967D2;\n",
              "      height: 32px;\n",
              "      padding: 0 0 0 0;\n",
              "      width: 32px;\n",
              "    }\n",
              "\n",
              "    .colab-df-convert:hover {\n",
              "      background-color: #E2EBFA;\n",
              "      box-shadow: 0px 1px 2px rgba(60, 64, 67, 0.3), 0px 1px 3px 1px rgba(60, 64, 67, 0.15);\n",
              "      fill: #174EA6;\n",
              "    }\n",
              "\n",
              "    [theme=dark] .colab-df-convert {\n",
              "      background-color: #3B4455;\n",
              "      fill: #D2E3FC;\n",
              "    }\n",
              "\n",
              "    [theme=dark] .colab-df-convert:hover {\n",
              "      background-color: #434B5C;\n",
              "      box-shadow: 0px 1px 3px 1px rgba(0, 0, 0, 0.15);\n",
              "      filter: drop-shadow(0px 1px 2px rgba(0, 0, 0, 0.3));\n",
              "      fill: #FFFFFF;\n",
              "    }\n",
              "  </style>\n",
              "\n",
              "      <script>\n",
              "        const buttonEl =\n",
              "          document.querySelector('#df-bf30fdd4-686f-452e-9405-be5d3e91ce92 button.colab-df-convert');\n",
              "        buttonEl.style.display =\n",
              "          google.colab.kernel.accessAllowed ? 'block' : 'none';\n",
              "\n",
              "        async function convertToInteractive(key) {\n",
              "          const element = document.querySelector('#df-bf30fdd4-686f-452e-9405-be5d3e91ce92');\n",
              "          const dataTable =\n",
              "            await google.colab.kernel.invokeFunction('convertToInteractive',\n",
              "                                                     [key], {});\n",
              "          if (!dataTable) return;\n",
              "\n",
              "          const docLinkHtml = 'Like what you see? Visit the ' +\n",
              "            '<a target=\"_blank\" href=https://colab.research.google.com/notebooks/data_table.ipynb>data table notebook</a>'\n",
              "            + ' to learn more about interactive tables.';\n",
              "          element.innerHTML = '';\n",
              "          dataTable['output_type'] = 'display_data';\n",
              "          await google.colab.output.renderOutput(dataTable, element);\n",
              "          const docLink = document.createElement('div');\n",
              "          docLink.innerHTML = docLinkHtml;\n",
              "          element.appendChild(docLink);\n",
              "        }\n",
              "      </script>\n",
              "    </div>\n",
              "  </div>\n",
              "  "
            ],
            "text/plain": [
              "            x_mean     x_std  x_max  y_min    x_mean     x_std  x_max  y_min  \\\n",
              "part_idx                                                                       \n",
              "1->0      0.800141  0.022135   0.85  -9.18  0.800141  0.022135   0.85  -9.18   \n",
              "1->1      0.810000  0.016903   0.83  -9.14  0.810000  0.016903   0.83  -9.14   \n",
              "10->0     1.850496  0.586150   3.43  -9.38  1.850496  0.586150   3.43  -9.38   \n",
              "10->1     2.299412  0.168355   2.52  -7.75  2.299412  0.168355   2.52  -7.75   \n",
              "100->0    0.250972  0.098798   0.43   8.62  0.250972  0.098798   0.43   8.62   \n",
              "\n",
              "            x_mean     x_std  x_max  y_min  x_min    y_mean     y_std  y_max  \\\n",
              "part_idx                                                                       \n",
              "1->0      0.800141  0.022135   0.85  -9.18   0.75 -9.127324  0.018513  -9.08   \n",
              "1->1      0.810000  0.016903   0.83  -9.14   0.77 -9.118000  0.016125  -9.09   \n",
              "10->0     1.850496  0.586150   3.43  -9.38   0.37 -8.079362  0.534036  -7.10   \n",
              "10->1     2.299412  0.168355   2.52  -7.75   1.97 -7.336471  0.243258  -6.87   \n",
              "100->0    0.250972  0.098798   0.43   8.62   0.03  8.907778  0.122051   9.23   \n",
              "\n",
              "            z_mean     z_std  z_max  z_min target  \n",
              "part_idx                                           \n",
              "1->0     -3.747606  0.028709  -3.67  -3.81  [bus]  \n",
              "1->1     -3.747333  0.021202  -3.70  -3.78  [bus]  \n",
              "10->0    -5.522057  0.646008  -3.44  -6.40  [bus]  \n",
              "10->1    -6.140000  0.296036  -5.72  -6.64  [bus]  \n",
              "100->0    4.246111  0.145550   4.55   3.73  [car]  "
            ]
          },
          "execution_count": null,
          "metadata": {},
          "output_type": "execute_result"
        }
      ]
    },
    {
      "cell_type": "code",
      "source": [
        "##In df5, target consists of array, to make it string, made a function func which takes an array and return first element of array\n",
        "def func(x):\n",
        "  return x[0]"
      ],
      "metadata": {
        "id": "1JOOew-IqLAQ"
      },
      "execution_count": 52,
      "outputs": []
    },
    {
      "cell_type": "code",
      "source": [
        "## Updating values in df['target'] using function func\n",
        "df5['target'] = list(map(func,df5['target']))"
      ],
      "metadata": {
        "id": "7Sh7zZU8qPre"
      },
      "execution_count": 53,
      "outputs": []
    },
    {
      "cell_type": "code",
      "source": [
        "df5.head() ##head of updated data"
      ],
      "metadata": {
        "id": "iVva_gLTqnJL",
        "colab": {
          "base_uri": "https://localhost:8080/",
          "height": 238
        },
        "outputId": "73e563d1-b47e-45c3-b2fc-57acad4e2c17"
      },
      "execution_count": 54,
      "outputs": [
        {
          "data": {
            "text/html": [
              "\n",
              "  <div id=\"df-7b6cba64-5ad5-46e0-8f3d-ad401fc826ca\">\n",
              "    <div class=\"colab-df-container\">\n",
              "      <div>\n",
              "<style scoped>\n",
              "    .dataframe tbody tr th:only-of-type {\n",
              "        vertical-align: middle;\n",
              "    }\n",
              "\n",
              "    .dataframe tbody tr th {\n",
              "        vertical-align: top;\n",
              "    }\n",
              "\n",
              "    .dataframe thead th {\n",
              "        text-align: right;\n",
              "    }\n",
              "</style>\n",
              "<table border=\"1\" class=\"dataframe\">\n",
              "  <thead>\n",
              "    <tr style=\"text-align: right;\">\n",
              "      <th></th>\n",
              "      <th>x_mean</th>\n",
              "      <th>x_std</th>\n",
              "      <th>x_max</th>\n",
              "      <th>y_min</th>\n",
              "      <th>x_mean</th>\n",
              "      <th>x_std</th>\n",
              "      <th>x_max</th>\n",
              "      <th>y_min</th>\n",
              "      <th>x_mean</th>\n",
              "      <th>x_std</th>\n",
              "      <th>x_max</th>\n",
              "      <th>y_min</th>\n",
              "      <th>x_min</th>\n",
              "      <th>y_mean</th>\n",
              "      <th>y_std</th>\n",
              "      <th>y_max</th>\n",
              "      <th>z_mean</th>\n",
              "      <th>z_std</th>\n",
              "      <th>z_max</th>\n",
              "      <th>z_min</th>\n",
              "      <th>target</th>\n",
              "    </tr>\n",
              "    <tr>\n",
              "      <th>part_idx</th>\n",
              "      <th></th>\n",
              "      <th></th>\n",
              "      <th></th>\n",
              "      <th></th>\n",
              "      <th></th>\n",
              "      <th></th>\n",
              "      <th></th>\n",
              "      <th></th>\n",
              "      <th></th>\n",
              "      <th></th>\n",
              "      <th></th>\n",
              "      <th></th>\n",
              "      <th></th>\n",
              "      <th></th>\n",
              "      <th></th>\n",
              "      <th></th>\n",
              "      <th></th>\n",
              "      <th></th>\n",
              "      <th></th>\n",
              "      <th></th>\n",
              "      <th></th>\n",
              "    </tr>\n",
              "  </thead>\n",
              "  <tbody>\n",
              "    <tr>\n",
              "      <th>1-&gt;0</th>\n",
              "      <td>0.800141</td>\n",
              "      <td>0.022135</td>\n",
              "      <td>0.85</td>\n",
              "      <td>-9.18</td>\n",
              "      <td>0.800141</td>\n",
              "      <td>0.022135</td>\n",
              "      <td>0.85</td>\n",
              "      <td>-9.18</td>\n",
              "      <td>0.800141</td>\n",
              "      <td>0.022135</td>\n",
              "      <td>0.85</td>\n",
              "      <td>-9.18</td>\n",
              "      <td>0.75</td>\n",
              "      <td>-9.127324</td>\n",
              "      <td>0.018513</td>\n",
              "      <td>-9.08</td>\n",
              "      <td>-3.747606</td>\n",
              "      <td>0.028709</td>\n",
              "      <td>-3.67</td>\n",
              "      <td>-3.81</td>\n",
              "      <td>bus</td>\n",
              "    </tr>\n",
              "    <tr>\n",
              "      <th>1-&gt;1</th>\n",
              "      <td>0.810000</td>\n",
              "      <td>0.016903</td>\n",
              "      <td>0.83</td>\n",
              "      <td>-9.14</td>\n",
              "      <td>0.810000</td>\n",
              "      <td>0.016903</td>\n",
              "      <td>0.83</td>\n",
              "      <td>-9.14</td>\n",
              "      <td>0.810000</td>\n",
              "      <td>0.016903</td>\n",
              "      <td>0.83</td>\n",
              "      <td>-9.14</td>\n",
              "      <td>0.77</td>\n",
              "      <td>-9.118000</td>\n",
              "      <td>0.016125</td>\n",
              "      <td>-9.09</td>\n",
              "      <td>-3.747333</td>\n",
              "      <td>0.021202</td>\n",
              "      <td>-3.70</td>\n",
              "      <td>-3.78</td>\n",
              "      <td>bus</td>\n",
              "    </tr>\n",
              "    <tr>\n",
              "      <th>10-&gt;0</th>\n",
              "      <td>1.850496</td>\n",
              "      <td>0.586150</td>\n",
              "      <td>3.43</td>\n",
              "      <td>-9.38</td>\n",
              "      <td>1.850496</td>\n",
              "      <td>0.586150</td>\n",
              "      <td>3.43</td>\n",
              "      <td>-9.38</td>\n",
              "      <td>1.850496</td>\n",
              "      <td>0.586150</td>\n",
              "      <td>3.43</td>\n",
              "      <td>-9.38</td>\n",
              "      <td>0.37</td>\n",
              "      <td>-8.079362</td>\n",
              "      <td>0.534036</td>\n",
              "      <td>-7.10</td>\n",
              "      <td>-5.522057</td>\n",
              "      <td>0.646008</td>\n",
              "      <td>-3.44</td>\n",
              "      <td>-6.40</td>\n",
              "      <td>bus</td>\n",
              "    </tr>\n",
              "    <tr>\n",
              "      <th>10-&gt;1</th>\n",
              "      <td>2.299412</td>\n",
              "      <td>0.168355</td>\n",
              "      <td>2.52</td>\n",
              "      <td>-7.75</td>\n",
              "      <td>2.299412</td>\n",
              "      <td>0.168355</td>\n",
              "      <td>2.52</td>\n",
              "      <td>-7.75</td>\n",
              "      <td>2.299412</td>\n",
              "      <td>0.168355</td>\n",
              "      <td>2.52</td>\n",
              "      <td>-7.75</td>\n",
              "      <td>1.97</td>\n",
              "      <td>-7.336471</td>\n",
              "      <td>0.243258</td>\n",
              "      <td>-6.87</td>\n",
              "      <td>-6.140000</td>\n",
              "      <td>0.296036</td>\n",
              "      <td>-5.72</td>\n",
              "      <td>-6.64</td>\n",
              "      <td>bus</td>\n",
              "    </tr>\n",
              "    <tr>\n",
              "      <th>100-&gt;0</th>\n",
              "      <td>0.250972</td>\n",
              "      <td>0.098798</td>\n",
              "      <td>0.43</td>\n",
              "      <td>8.62</td>\n",
              "      <td>0.250972</td>\n",
              "      <td>0.098798</td>\n",
              "      <td>0.43</td>\n",
              "      <td>8.62</td>\n",
              "      <td>0.250972</td>\n",
              "      <td>0.098798</td>\n",
              "      <td>0.43</td>\n",
              "      <td>8.62</td>\n",
              "      <td>0.03</td>\n",
              "      <td>8.907778</td>\n",
              "      <td>0.122051</td>\n",
              "      <td>9.23</td>\n",
              "      <td>4.246111</td>\n",
              "      <td>0.145550</td>\n",
              "      <td>4.55</td>\n",
              "      <td>3.73</td>\n",
              "      <td>car</td>\n",
              "    </tr>\n",
              "  </tbody>\n",
              "</table>\n",
              "</div>\n",
              "      <button class=\"colab-df-convert\" onclick=\"convertToInteractive('df-7b6cba64-5ad5-46e0-8f3d-ad401fc826ca')\"\n",
              "              title=\"Convert this dataframe to an interactive table.\"\n",
              "              style=\"display:none;\">\n",
              "        \n",
              "  <svg xmlns=\"http://www.w3.org/2000/svg\" height=\"24px\"viewBox=\"0 0 24 24\"\n",
              "       width=\"24px\">\n",
              "    <path d=\"M0 0h24v24H0V0z\" fill=\"none\"/>\n",
              "    <path d=\"M18.56 5.44l.94 2.06.94-2.06 2.06-.94-2.06-.94-.94-2.06-.94 2.06-2.06.94zm-11 1L8.5 8.5l.94-2.06 2.06-.94-2.06-.94L8.5 2.5l-.94 2.06-2.06.94zm10 10l.94 2.06.94-2.06 2.06-.94-2.06-.94-.94-2.06-.94 2.06-2.06.94z\"/><path d=\"M17.41 7.96l-1.37-1.37c-.4-.4-.92-.59-1.43-.59-.52 0-1.04.2-1.43.59L10.3 9.45l-7.72 7.72c-.78.78-.78 2.05 0 2.83L4 21.41c.39.39.9.59 1.41.59.51 0 1.02-.2 1.41-.59l7.78-7.78 2.81-2.81c.8-.78.8-2.07 0-2.86zM5.41 20L4 18.59l7.72-7.72 1.47 1.35L5.41 20z\"/>\n",
              "  </svg>\n",
              "      </button>\n",
              "      \n",
              "  <style>\n",
              "    .colab-df-container {\n",
              "      display:flex;\n",
              "      flex-wrap:wrap;\n",
              "      gap: 12px;\n",
              "    }\n",
              "\n",
              "    .colab-df-convert {\n",
              "      background-color: #E8F0FE;\n",
              "      border: none;\n",
              "      border-radius: 50%;\n",
              "      cursor: pointer;\n",
              "      display: none;\n",
              "      fill: #1967D2;\n",
              "      height: 32px;\n",
              "      padding: 0 0 0 0;\n",
              "      width: 32px;\n",
              "    }\n",
              "\n",
              "    .colab-df-convert:hover {\n",
              "      background-color: #E2EBFA;\n",
              "      box-shadow: 0px 1px 2px rgba(60, 64, 67, 0.3), 0px 1px 3px 1px rgba(60, 64, 67, 0.15);\n",
              "      fill: #174EA6;\n",
              "    }\n",
              "\n",
              "    [theme=dark] .colab-df-convert {\n",
              "      background-color: #3B4455;\n",
              "      fill: #D2E3FC;\n",
              "    }\n",
              "\n",
              "    [theme=dark] .colab-df-convert:hover {\n",
              "      background-color: #434B5C;\n",
              "      box-shadow: 0px 1px 3px 1px rgba(0, 0, 0, 0.15);\n",
              "      filter: drop-shadow(0px 1px 2px rgba(0, 0, 0, 0.3));\n",
              "      fill: #FFFFFF;\n",
              "    }\n",
              "  </style>\n",
              "\n",
              "      <script>\n",
              "        const buttonEl =\n",
              "          document.querySelector('#df-7b6cba64-5ad5-46e0-8f3d-ad401fc826ca button.colab-df-convert');\n",
              "        buttonEl.style.display =\n",
              "          google.colab.kernel.accessAllowed ? 'block' : 'none';\n",
              "\n",
              "        async function convertToInteractive(key) {\n",
              "          const element = document.querySelector('#df-7b6cba64-5ad5-46e0-8f3d-ad401fc826ca');\n",
              "          const dataTable =\n",
              "            await google.colab.kernel.invokeFunction('convertToInteractive',\n",
              "                                                     [key], {});\n",
              "          if (!dataTable) return;\n",
              "\n",
              "          const docLinkHtml = 'Like what you see? Visit the ' +\n",
              "            '<a target=\"_blank\" href=https://colab.research.google.com/notebooks/data_table.ipynb>data table notebook</a>'\n",
              "            + ' to learn more about interactive tables.';\n",
              "          element.innerHTML = '';\n",
              "          dataTable['output_type'] = 'display_data';\n",
              "          await google.colab.output.renderOutput(dataTable, element);\n",
              "          const docLink = document.createElement('div');\n",
              "          docLink.innerHTML = docLinkHtml;\n",
              "          element.appendChild(docLink);\n",
              "        }\n",
              "      </script>\n",
              "    </div>\n",
              "  </div>\n",
              "  "
            ],
            "text/plain": [
              "            x_mean     x_std  x_max  y_min    x_mean     x_std  x_max  y_min  \\\n",
              "part_idx                                                                       \n",
              "1->0      0.800141  0.022135   0.85  -9.18  0.800141  0.022135   0.85  -9.18   \n",
              "1->1      0.810000  0.016903   0.83  -9.14  0.810000  0.016903   0.83  -9.14   \n",
              "10->0     1.850496  0.586150   3.43  -9.38  1.850496  0.586150   3.43  -9.38   \n",
              "10->1     2.299412  0.168355   2.52  -7.75  2.299412  0.168355   2.52  -7.75   \n",
              "100->0    0.250972  0.098798   0.43   8.62  0.250972  0.098798   0.43   8.62   \n",
              "\n",
              "            x_mean     x_std  x_max  y_min  x_min    y_mean     y_std  y_max  \\\n",
              "part_idx                                                                       \n",
              "1->0      0.800141  0.022135   0.85  -9.18   0.75 -9.127324  0.018513  -9.08   \n",
              "1->1      0.810000  0.016903   0.83  -9.14   0.77 -9.118000  0.016125  -9.09   \n",
              "10->0     1.850496  0.586150   3.43  -9.38   0.37 -8.079362  0.534036  -7.10   \n",
              "10->1     2.299412  0.168355   2.52  -7.75   1.97 -7.336471  0.243258  -6.87   \n",
              "100->0    0.250972  0.098798   0.43   8.62   0.03  8.907778  0.122051   9.23   \n",
              "\n",
              "            z_mean     z_std  z_max  z_min target  \n",
              "part_idx                                           \n",
              "1->0     -3.747606  0.028709  -3.67  -3.81    bus  \n",
              "1->1     -3.747333  0.021202  -3.70  -3.78    bus  \n",
              "10->0    -5.522057  0.646008  -3.44  -6.40    bus  \n",
              "10->1    -6.140000  0.296036  -5.72  -6.64    bus  \n",
              "100->0    4.246111  0.145550   4.55   3.73    car  "
            ]
          },
          "execution_count": null,
          "metadata": {},
          "output_type": "execute_result"
        }
      ]
    },
    {
      "cell_type": "code",
      "source": [
        "boxplot = df5.boxplot() ##Box plot of all features in a single plot"
      ],
      "metadata": {
        "id": "jRXMLf7prGMK",
        "colab": {
          "base_uri": "https://localhost:8080/",
          "height": 321
        },
        "outputId": "dc9df9a2-18e7-4fca-9ddb-593025069255"
      },
      "execution_count": 55,
      "outputs": [
        {
          "metadata": {
            "tags": null
          },
          "name": "stderr",
          "output_type": "stream",
          "text": [
            "/usr/local/lib/python3.7/dist-packages/matplotlib/cbook/__init__.py:1376: VisibleDeprecationWarning: Creating an ndarray from ragged nested sequences (which is a list-or-tuple of lists-or-tuples-or ndarrays with different lengths or shapes) is deprecated. If you meant to do this, you must specify 'dtype=object' when creating the ndarray.\n",
            "  X = np.atleast_1d(X.T if isinstance(X, np.ndarray) else np.asarray(X))\n"
          ]
        },
        {
          "data": {
            "image/png": "[encoded data removed]",
            "text/plain": [
              "<Figure size 432x288 with 1 Axes>"
            ]
          },
          "metadata": {},
          "output_type": "display_data"
        }
      ]
    },
    {
      "cell_type": "code",
      "source": [
        "df5.boxplot(column = ['x_mean'], by = 'target') ## Box plot X_mean"
      ],
      "metadata": {
        "id": "vu4xqBHoIPOM",
        "colab": {
          "base_uri": "https://localhost:8080/",
          "height": 373
        },
        "outputId": "d285d24b-9785-4623-a1c5-d1199e135a30"
      },
      "execution_count": 56,
      "outputs": [
        {
          "metadata": {
            "tags": null
          },
          "name": "stderr",
          "output_type": "stream",
          "text": [
            "/usr/local/lib/python3.7/dist-packages/matplotlib/cbook/__init__.py:1376: VisibleDeprecationWarning: Creating an ndarray from ragged nested sequences (which is a list-or-tuple of lists-or-tuples-or ndarrays with different lengths or shapes) is deprecated. If you meant to do this, you must specify 'dtype=object' when creating the ndarray.\n",
            "  X = np.atleast_1d(X.T if isinstance(X, np.ndarray) else np.asarray(X))\n"
          ]
        },
        {
          "data": {
            "text/plain": [
              "<matplotlib.axes._subplots.AxesSubplot at 0x7fab6494de90>"
            ]
          },
          "execution_count": null,
          "metadata": {},
          "output_type": "execute_result"
        },
        {
          "data": {
            "image/png": "[encoded data removed]",
            "text/plain": [
              "<Figure size 432x288 with 1 Axes>"
            ]
          },
          "metadata": {},
          "output_type": "display_data"
        }
      ]
    },
    {
      "cell_type": "code",
      "source": [
        "df5.boxplot(column = ['x_std'], by = 'target') ## box plot of X_std"
      ],
      "metadata": {
        "id": "uC3Il9qgsUxc",
        "colab": {
          "base_uri": "https://localhost:8080/",
          "height": 373
        },
        "outputId": "799bd45b-f167-433d-bc7c-1dd384d0eef4"
      },
      "execution_count": 57,
      "outputs": [
        {
          "metadata": {
            "tags": null
          },
          "name": "stderr",
          "output_type": "stream",
          "text": [
            "/usr/local/lib/python3.7/dist-packages/matplotlib/cbook/__init__.py:1376: VisibleDeprecationWarning: Creating an ndarray from ragged nested sequences (which is a list-or-tuple of lists-or-tuples-or ndarrays with different lengths or shapes) is deprecated. If you meant to do this, you must specify 'dtype=object' when creating the ndarray.\n",
            "  X = np.atleast_1d(X.T if isinstance(X, np.ndarray) else np.asarray(X))\n"
          ]
        },
        {
          "data": {
            "text/plain": [
              "<matplotlib.axes._subplots.AxesSubplot at 0x7fab643ff810>"
            ]
          },
          "execution_count": null,
          "metadata": {},
          "output_type": "execute_result"
        },
        {
          "data": {
            "image/png": "[encoded data removed]",
            "text/plain": [
              "<Figure size 432x288 with 1 Axes>"
            ]
          },
          "metadata": {},
          "output_type": "display_data"
        }
      ]
    },
    {
      "cell_type": "code",
      "source": [
        "df5.boxplot(column = ['x_max'], by = 'target') ## Box plot of x_max"
      ],
      "metadata": {
        "id": "KTmljCldsU0j",
        "colab": {
          "base_uri": "https://localhost:8080/",
          "height": 373
        },
        "outputId": "da2b4cc4-0886-481c-fe7f-e1487dd46bc0"
      },
      "execution_count": 58,
      "outputs": [
        {
          "metadata": {
            "tags": null
          },
          "name": "stderr",
          "output_type": "stream",
          "text": [
            "/usr/local/lib/python3.7/dist-packages/matplotlib/cbook/__init__.py:1376: VisibleDeprecationWarning: Creating an ndarray from ragged nested sequences (which is a list-or-tuple of lists-or-tuples-or ndarrays with different lengths or shapes) is deprecated. If you meant to do this, you must specify 'dtype=object' when creating the ndarray.\n",
            "  X = np.atleast_1d(X.T if isinstance(X, np.ndarray) else np.asarray(X))\n"
          ]
        },
        {
          "data": {
            "text/plain": [
              "<matplotlib.axes._subplots.AxesSubplot at 0x7fab6530d5d0>"
            ]
          },
          "execution_count": null,
          "metadata": {},
          "output_type": "execute_result"
        },
        {
          "data": {
            "image/png": "[encoded data removed]",
            "text/plain": [
              "<Figure size 432x288 with 1 Axes>"
            ]
          },
          "metadata": {},
          "output_type": "display_data"
        }
      ]
    },
    {
      "cell_type": "code",
      "source": [
        "df5.boxplot(column = ['x_min'], by = 'target') ## Box plot of x_min"
      ],
      "metadata": {
        "id": "bpJNKTwxsU3p",
        "colab": {
          "base_uri": "https://localhost:8080/",
          "height": 373
        },
        "outputId": "ef7f3fe8-6eac-421d-97c9-2e4d61bcc3e1"
      },
      "execution_count": 59,
      "outputs": [
        {
          "metadata": {
            "tags": null
          },
          "name": "stderr",
          "output_type": "stream",
          "text": [
            "/usr/local/lib/python3.7/dist-packages/matplotlib/cbook/__init__.py:1376: VisibleDeprecationWarning: Creating an ndarray from ragged nested sequences (which is a list-or-tuple of lists-or-tuples-or ndarrays with different lengths or shapes) is deprecated. If you meant to do this, you must specify 'dtype=object' when creating the ndarray.\n",
            "  X = np.atleast_1d(X.T if isinstance(X, np.ndarray) else np.asarray(X))\n"
          ]
        },
        {
          "data": {
            "text/plain": [
              "<matplotlib.axes._subplots.AxesSubplot at 0x7fab65084790>"
            ]
          },
          "execution_count": null,
          "metadata": {},
          "output_type": "execute_result"
        },
        {
          "data": {
            "image/png": "[encoded data removed]",
            "text/plain": [
              "<Figure size 432x288 with 1 Axes>"
            ]
          },
          "metadata": {},
          "output_type": "display_data"
        }
      ]
    },
    {
      "cell_type": "code",
      "source": [
        "df5.boxplot(column = ['y_mean'], by = 'target') ## box plot of y_mean"
      ],
      "metadata": {
        "id": "3T-dvT2xsU6K",
        "colab": {
          "base_uri": "https://localhost:8080/",
          "height": 373
        },
        "outputId": "1e87e600-0aae-4af8-cea1-bcefd53f34a6"
      },
      "execution_count": 60,
      "outputs": [
        {
          "metadata": {
            "tags": null
          },
          "name": "stderr",
          "output_type": "stream",
          "text": [
            "/usr/local/lib/python3.7/dist-packages/matplotlib/cbook/__init__.py:1376: VisibleDeprecationWarning: Creating an ndarray from ragged nested sequences (which is a list-or-tuple of lists-or-tuples-or ndarrays with different lengths or shapes) is deprecated. If you meant to do this, you must specify 'dtype=object' when creating the ndarray.\n",
            "  X = np.atleast_1d(X.T if isinstance(X, np.ndarray) else np.asarray(X))\n"
          ]
        },
        {
          "data": {
            "text/plain": [
              "<matplotlib.axes._subplots.AxesSubplot at 0x7fab6559ec10>"
            ]
          },
          "execution_count": null,
          "metadata": {},
          "output_type": "execute_result"
        },
        {
          "data": {
            "image/png": "[encoded data removed]",
            "text/plain": [
              "<Figure size 432x288 with 1 Axes>"
            ]
          },
          "metadata": {},
          "output_type": "display_data"
        }
      ]
    },
    {
      "cell_type": "code",
      "source": [
        "df5.boxplot(column = ['y_std'], by = 'target') ## box plot of y_std"
      ],
      "metadata": {
        "id": "VLccWd9ZsU8z",
        "colab": {
          "base_uri": "https://localhost:8080/",
          "height": 373
        },
        "outputId": "b516ea97-ede3-4963-81b6-df4ae5ccabda"
      },
      "execution_count": 61,
      "outputs": [
        {
          "metadata": {
            "tags": null
          },
          "name": "stderr",
          "output_type": "stream",
          "text": [
            "/usr/local/lib/python3.7/dist-packages/matplotlib/cbook/__init__.py:1376: VisibleDeprecationWarning: Creating an ndarray from ragged nested sequences (which is a list-or-tuple of lists-or-tuples-or ndarrays with different lengths or shapes) is deprecated. If you meant to do this, you must specify 'dtype=object' when creating the ndarray.\n",
            "  X = np.atleast_1d(X.T if isinstance(X, np.ndarray) else np.asarray(X))\n"
          ]
        },
        {
          "data": {
            "text/plain": [
              "<matplotlib.axes._subplots.AxesSubplot at 0x7fab643a23d0>"
            ]
          },
          "execution_count": null,
          "metadata": {},
          "output_type": "execute_result"
        },
        {
          "data": {
            "image/png": "[encoded data removed]",
            "text/plain": [
              "<Figure size 432x288 with 1 Axes>"
            ]
          },
          "metadata": {},
          "output_type": "display_data"
        }
      ]
    },
    {
      "cell_type": "code",
      "source": [
        "df5.boxplot(column = ['y_max'], by = 'target')  ## box plot of y_max"
      ],
      "metadata": {
        "id": "QJMsHBmSsU_9",
        "colab": {
          "base_uri": "https://localhost:8080/",
          "height": 373
        },
        "outputId": "9a5e2c5a-d51e-4985-bd4e-fd7e50e52a2c"
      },
      "execution_count": 62,
      "outputs": [
        {
          "metadata": {
            "tags": null
          },
          "name": "stderr",
          "output_type": "stream",
          "text": [
            "/usr/local/lib/python3.7/dist-packages/matplotlib/cbook/__init__.py:1376: VisibleDeprecationWarning: Creating an ndarray from ragged nested sequences (which is a list-or-tuple of lists-or-tuples-or ndarrays with different lengths or shapes) is deprecated. If you meant to do this, you must specify 'dtype=object' when creating the ndarray.\n",
            "  X = np.atleast_1d(X.T if isinstance(X, np.ndarray) else np.asarray(X))\n"
          ]
        },
        {
          "data": {
            "text/plain": [
              "<matplotlib.axes._subplots.AxesSubplot at 0x7fab64e79210>"
            ]
          },
          "execution_count": null,
          "metadata": {},
          "output_type": "execute_result"
        },
        {
          "data": {
            "image/png": "[encoded data removed]",
            "text/plain": [
              "<Figure size 432x288 with 1 Axes>"
            ]
          },
          "metadata": {},
          "output_type": "display_data"
        }
      ]
    },
    {
      "cell_type": "code",
      "source": [
        "df5.boxplot(column = ['y_min'], by = 'target')  ## box plot of y_min"
      ],
      "metadata": {
        "id": "71l4t-bqsVCn",
        "colab": {
          "base_uri": "https://localhost:8080/",
          "height": 373
        },
        "outputId": "fa9cc65a-cc8d-4a78-8af7-8db248ebee59"
      },
      "execution_count": 63,
      "outputs": [
        {
          "metadata": {
            "tags": null
          },
          "name": "stderr",
          "output_type": "stream",
          "text": [
            "/usr/local/lib/python3.7/dist-packages/matplotlib/cbook/__init__.py:1376: VisibleDeprecationWarning: Creating an ndarray from ragged nested sequences (which is a list-or-tuple of lists-or-tuples-or ndarrays with different lengths or shapes) is deprecated. If you meant to do this, you must specify 'dtype=object' when creating the ndarray.\n",
            "  X = np.atleast_1d(X.T if isinstance(X, np.ndarray) else np.asarray(X))\n"
          ]
        },
        {
          "data": {
            "text/plain": [
              "<matplotlib.axes._subplots.AxesSubplot at 0x7fab642e7350>"
            ]
          },
          "execution_count": null,
          "metadata": {},
          "output_type": "execute_result"
        },
        {
          "data": {
            "image/png": "[encoded data removed]",
            "text/plain": [
              "<Figure size 432x288 with 1 Axes>"
            ]
          },
          "metadata": {},
          "output_type": "display_data"
        }
      ]
    },
    {
      "cell_type": "code",
      "source": [
        "df5.boxplot(column = ['z_mean'], by = 'target')"
      ],
      "metadata": {
        "id": "0j-u5EJfsVFd",
        "colab": {
          "base_uri": "https://localhost:8080/",
          "height": 373
        },
        "outputId": "a57a8d81-0c5f-4496-ac2c-02196080ddfe"
      },
      "execution_count": 64,
      "outputs": [
        {
          "metadata": {
            "tags": null
          },
          "name": "stderr",
          "output_type": "stream",
          "text": [
            "/usr/local/lib/python3.7/dist-packages/matplotlib/cbook/__init__.py:1376: VisibleDeprecationWarning: Creating an ndarray from ragged nested sequences (which is a list-or-tuple of lists-or-tuples-or ndarrays with different lengths or shapes) is deprecated. If you meant to do this, you must specify 'dtype=object' when creating the ndarray.\n",
            "  X = np.atleast_1d(X.T if isinstance(X, np.ndarray) else np.asarray(X))\n"
          ]
        },
        {
          "data": {
            "text/plain": [
              "<matplotlib.axes._subplots.AxesSubplot at 0x7fab6484ed90>"
            ]
          },
          "execution_count": null,
          "metadata": {},
          "output_type": "execute_result"
        },
        {
          "data": {
            "image/png": "[encoded data removed]",
            "text/plain": [
              "<Figure size 432x288 with 1 Axes>"
            ]
          },
          "metadata": {},
          "output_type": "display_data"
        }
      ]
    },
    {
      "cell_type": "code",
      "source": [
        "df5.boxplot(column = ['z_std'], by = 'target')"
      ],
      "metadata": {
        "id": "sTFDlO6psVIJ",
        "colab": {
          "base_uri": "https://localhost:8080/",
          "height": 373
        },
        "outputId": "da1df9a2-56ca-413f-d21e-9e4f5b228f81"
      },
      "execution_count": 65,
      "outputs": [
        {
          "metadata": {
            "tags": null
          },
          "name": "stderr",
          "output_type": "stream",
          "text": [
            "/usr/local/lib/python3.7/dist-packages/matplotlib/cbook/__init__.py:1376: VisibleDeprecationWarning: Creating an ndarray from ragged nested sequences (which is a list-or-tuple of lists-or-tuples-or ndarrays with different lengths or shapes) is deprecated. If you meant to do this, you must specify 'dtype=object' when creating the ndarray.\n",
            "  X = np.atleast_1d(X.T if isinstance(X, np.ndarray) else np.asarray(X))\n"
          ]
        },
        {
          "data": {
            "text/plain": [
              "<matplotlib.axes._subplots.AxesSubplot at 0x7fab648da490>"
            ]
          },
          "execution_count": null,
          "metadata": {},
          "output_type": "execute_result"
        },
        {
          "data": {
            "image/png": "[encoded data removed]",
            "text/plain": [
              "<Figure size 432x288 with 1 Axes>"
            ]
          },
          "metadata": {},
          "output_type": "display_data"
        }
      ]
    },
    {
      "cell_type": "code",
      "source": [
        "df5.boxplot(column = ['z_max'], by = 'target')"
      ],
      "metadata": {
        "id": "CKgBKPYisVK3",
        "colab": {
          "base_uri": "https://localhost:8080/",
          "height": 373
        },
        "outputId": "de28da4a-74de-4707-d6a4-136b15307b77"
      },
      "execution_count": 66,
      "outputs": [
        {
          "metadata": {
            "tags": null
          },
          "name": "stderr",
          "output_type": "stream",
          "text": [
            "/usr/local/lib/python3.7/dist-packages/matplotlib/cbook/__init__.py:1376: VisibleDeprecationWarning: Creating an ndarray from ragged nested sequences (which is a list-or-tuple of lists-or-tuples-or ndarrays with different lengths or shapes) is deprecated. If you meant to do this, you must specify 'dtype=object' when creating the ndarray.\n",
            "  X = np.atleast_1d(X.T if isinstance(X, np.ndarray) else np.asarray(X))\n"
          ]
        },
        {
          "data": {
            "text/plain": [
              "<matplotlib.axes._subplots.AxesSubplot at 0x7fab648111d0>"
            ]
          },
          "execution_count": null,
          "metadata": {},
          "output_type": "execute_result"
        },
        {
          "data": {
            "image/png": "[encoded data removed]",
            "text/plain": [
              "<Figure size 432x288 with 1 Axes>"
            ]
          },
          "metadata": {},
          "output_type": "display_data"
        }
      ]
    },
    {
      "cell_type": "code",
      "source": [
        "df5.boxplot(column = ['z_min'], by = 'target')"
      ],
      "metadata": {
        "id": "-ti64P0csVNw",
        "colab": {
          "base_uri": "https://localhost:8080/",
          "height": 373
        },
        "outputId": "da1209c0-4573-42e1-9209-e903fc5f072f"
      },
      "execution_count": 67,
      "outputs": [
        {
          "metadata": {
            "tags": null
          },
          "name": "stderr",
          "output_type": "stream",
          "text": [
            "/usr/local/lib/python3.7/dist-packages/matplotlib/cbook/__init__.py:1376: VisibleDeprecationWarning: Creating an ndarray from ragged nested sequences (which is a list-or-tuple of lists-or-tuples-or ndarrays with different lengths or shapes) is deprecated. If you meant to do this, you must specify 'dtype=object' when creating the ndarray.\n",
            "  X = np.atleast_1d(X.T if isinstance(X, np.ndarray) else np.asarray(X))\n"
          ]
        },
        {
          "data": {
            "text/plain": [
              "<matplotlib.axes._subplots.AxesSubplot at 0x7fab651ac950>"
            ]
          },
          "execution_count": null,
          "metadata": {},
          "output_type": "execute_result"
        },
        {
          "data": {
            "image/png": "[encoded data removed]",
            "text/plain": [
              "<Figure size 432x288 with 1 Axes>"
            ]
          },
          "metadata": {},
          "output_type": "display_data"
        }
      ]
    },
    {
      "cell_type": "markdown",
      "source": [
        "###Q5"
      ],
      "metadata": {
        "id": "ZyulwK8S4C5o"
      }
    },
    {
      "cell_type": "code",
      "source": [
        "##import necessary libraries for creating balaced dataset\n",
        "\n",
        "from pandas import read_csv\n",
        "from collections import Counter\n",
        "from matplotlib import pyplot\n",
        "from sklearn.preprocessing import LabelEncoder\n",
        "from imblearn.over_sampling import SMOTE\n",
        "\n",
        "## plotted unbalanced data set\n",
        "data = df5.values #converted df5 into array data\n",
        "X, y = data[:, :-1], data[:, -1] ## seoerated input and label data\n",
        "y = LabelEncoder().fit_transform(y) #label encoded y\n",
        "counter = Counter(y)\n",
        "for k,v in counter.items():\n",
        "\tper = v / len(y) * 100\n",
        "\tprint('Class=%d, n=%d (%.3f%%)' % (k, v, per))\n",
        "pyplot.bar(counter.keys(), counter.values())\n",
        "pyplot.show()"
      ],
      "metadata": {
        "id": "Q-pHmeLdtbCs",
        "colab": {
          "base_uri": "https://localhost:8080/",
          "height": 369
        },
        "outputId": "b8e473ef-6ab0-4a09-f930-7e779bfa355a"
      },
      "execution_count": 68,
      "outputs": [
        {
          "metadata": {
            "tags": null
          },
          "name": "stdout",
          "output_type": "stream",
          "text": [
            "Class=1, n=10661 (26.263%)\n",
            "Class=2, n=20242 (49.866%)\n",
            "Class=5, n=5847 (14.404%)\n",
            "Class=0, n=3161 (7.787%)\n",
            "Class=4, n=601 (1.481%)\n",
            "Class=3, n=81 (0.200%)\n"
          ]
        },
        {
          "data": {
            "image/png": "[encoded data removed]",
            "text/plain": [
              "<Figure size 432x288 with 1 Axes>"
            ]
          },
          "metadata": {},
          "output_type": "display_data"
        }
      ]
    },
    {
      "cell_type": "code",
      "source": [
        "print(X)"
      ],
      "metadata": {
        "id": "dWto-CzJH-Zx",
        "colab": {
          "base_uri": "https://localhost:8080/"
        },
        "outputId": "7957209f-f83c-4eee-ca66-36af709fe012"
      },
      "execution_count": 69,
      "outputs": [
        {
          "metadata": {
            "tags": null
          },
          "name": "stdout",
          "output_type": "stream",
          "text": [
            "[[0.8001408425854964 0.022135491967534483 0.8500000238418579 ...\n",
            "  0.028708596946844855 -3.670000076293945 -3.809999942779541]\n",
            " [0.8099999984105428 0.01690307904956004 0.8299999833106995 ...\n",
            "  0.02120195632779195 -3.700000047683716 -3.7799999713897705]\n",
            " [1.8504964527508891 0.5861500674686537 3.430000066757202 ...\n",
            "  0.6460080789854357 -3.440000057220459 -6.400000095367432]\n",
            " ...\n",
            " [8.20833330684238 0.40935480963454557 9.5600004196167 ...\n",
            "  0.5265630809384949 -3.190000057220459 -5.860000133514404]\n",
            " [8.051666577657064 0.2598472171780208 8.470000267028809 ...\n",
            "  0.35185640569669885 -4.039999961853027 -5.389999866485596]\n",
            " [8.496555548244052 0.3263858447779168 9.4399995803833 ...\n",
            "  0.6381178998676386 -2.5899999141693115 -5.599999904632568]]\n"
          ]
        }
      ]
    },
    {
      "cell_type": "code",
      "source": [
        "print(y)"
      ],
      "metadata": {
        "id": "_43cscyaIH0r",
        "colab": {
          "base_uri": "https://localhost:8080/"
        },
        "outputId": "b8c0223f-06d8-44bf-d438-2de1b7417e1a"
      },
      "execution_count": 70,
      "outputs": [
        {
          "metadata": {
            "tags": null
          },
          "name": "stdout",
          "output_type": "stream",
          "text": [
            "[1 1 1 ... 1 1 1]\n"
          ]
        }
      ]
    },
    {
      "cell_type": "code",
      "source": [
        "type(X)"
      ],
      "metadata": {
        "id": "xtjTBSE3IRyp",
        "colab": {
          "base_uri": "https://localhost:8080/"
        },
        "outputId": "a3072981-b4d9-4e82-bd73-8a3f2036495b"
      },
      "execution_count": 71,
      "outputs": [
        {
          "data": {
            "text/plain": [
              "numpy.ndarray"
            ]
          },
          "execution_count": null,
          "metadata": {},
          "output_type": "execute_result"
        }
      ]
    },
    {
      "cell_type": "code",
      "source": [
        "df5.head()"
      ],
      "metadata": {
        "id": "d_QOn59JnfQa",
        "colab": {
          "base_uri": "https://localhost:8080/",
          "height": 238
        },
        "outputId": "f9b347c8-bc38-44a0-aa2d-e3be546812d5"
      },
      "execution_count": 72,
      "outputs": [
        {
          "data": {
            "text/html": [
              "\n",
              "  <div id=\"df-6699d27b-3be3-41fa-b233-a9fff0b7f8a7\">\n",
              "    <div class=\"colab-df-container\">\n",
              "      <div>\n",
              "<style scoped>\n",
              "    .dataframe tbody tr th:only-of-type {\n",
              "        vertical-align: middle;\n",
              "    }\n",
              "\n",
              "    .dataframe tbody tr th {\n",
              "        vertical-align: top;\n",
              "    }\n",
              "\n",
              "    .dataframe thead th {\n",
              "        text-align: right;\n",
              "    }\n",
              "</style>\n",
              "<table border=\"1\" class=\"dataframe\">\n",
              "  <thead>\n",
              "    <tr style=\"text-align: right;\">\n",
              "      <th></th>\n",
              "      <th>x_mean</th>\n",
              "      <th>x_std</th>\n",
              "      <th>x_max</th>\n",
              "      <th>y_min</th>\n",
              "      <th>x_mean</th>\n",
              "      <th>x_std</th>\n",
              "      <th>x_max</th>\n",
              "      <th>y_min</th>\n",
              "      <th>x_mean</th>\n",
              "      <th>x_std</th>\n",
              "      <th>x_max</th>\n",
              "      <th>y_min</th>\n",
              "      <th>x_min</th>\n",
              "      <th>y_mean</th>\n",
              "      <th>y_std</th>\n",
              "      <th>y_max</th>\n",
              "      <th>z_mean</th>\n",
              "      <th>z_std</th>\n",
              "      <th>z_max</th>\n",
              "      <th>z_min</th>\n",
              "      <th>target</th>\n",
              "    </tr>\n",
              "    <tr>\n",
              "      <th>part_idx</th>\n",
              "      <th></th>\n",
              "      <th></th>\n",
              "      <th></th>\n",
              "      <th></th>\n",
              "      <th></th>\n",
              "      <th></th>\n",
              "      <th></th>\n",
              "      <th></th>\n",
              "      <th></th>\n",
              "      <th></th>\n",
              "      <th></th>\n",
              "      <th></th>\n",
              "      <th></th>\n",
              "      <th></th>\n",
              "      <th></th>\n",
              "      <th></th>\n",
              "      <th></th>\n",
              "      <th></th>\n",
              "      <th></th>\n",
              "      <th></th>\n",
              "      <th></th>\n",
              "    </tr>\n",
              "  </thead>\n",
              "  <tbody>\n",
              "    <tr>\n",
              "      <th>1-&gt;0</th>\n",
              "      <td>0.800141</td>\n",
              "      <td>0.022135</td>\n",
              "      <td>0.85</td>\n",
              "      <td>-9.18</td>\n",
              "      <td>0.800141</td>\n",
              "      <td>0.022135</td>\n",
              "      <td>0.85</td>\n",
              "      <td>-9.18</td>\n",
              "      <td>0.800141</td>\n",
              "      <td>0.022135</td>\n",
              "      <td>0.85</td>\n",
              "      <td>-9.18</td>\n",
              "      <td>0.75</td>\n",
              "      <td>-9.127324</td>\n",
              "      <td>0.018513</td>\n",
              "      <td>-9.08</td>\n",
              "      <td>-3.747606</td>\n",
              "      <td>0.028709</td>\n",
              "      <td>-3.67</td>\n",
              "      <td>-3.81</td>\n",
              "      <td>bus</td>\n",
              "    </tr>\n",
              "    <tr>\n",
              "      <th>1-&gt;1</th>\n",
              "      <td>0.810000</td>\n",
              "      <td>0.016903</td>\n",
              "      <td>0.83</td>\n",
              "      <td>-9.14</td>\n",
              "      <td>0.810000</td>\n",
              "      <td>0.016903</td>\n",
              "      <td>0.83</td>\n",
              "      <td>-9.14</td>\n",
              "      <td>0.810000</td>\n",
              "      <td>0.016903</td>\n",
              "      <td>0.83</td>\n",
              "      <td>-9.14</td>\n",
              "      <td>0.77</td>\n",
              "      <td>-9.118000</td>\n",
              "      <td>0.016125</td>\n",
              "      <td>-9.09</td>\n",
              "      <td>-3.747333</td>\n",
              "      <td>0.021202</td>\n",
              "      <td>-3.70</td>\n",
              "      <td>-3.78</td>\n",
              "      <td>bus</td>\n",
              "    </tr>\n",
              "    <tr>\n",
              "      <th>10-&gt;0</th>\n",
              "      <td>1.850496</td>\n",
              "      <td>0.586150</td>\n",
              "      <td>3.43</td>\n",
              "      <td>-9.38</td>\n",
              "      <td>1.850496</td>\n",
              "      <td>0.586150</td>\n",
              "      <td>3.43</td>\n",
              "      <td>-9.38</td>\n",
              "      <td>1.850496</td>\n",
              "      <td>0.586150</td>\n",
              "      <td>3.43</td>\n",
              "      <td>-9.38</td>\n",
              "      <td>0.37</td>\n",
              "      <td>-8.079362</td>\n",
              "      <td>0.534036</td>\n",
              "      <td>-7.10</td>\n",
              "      <td>-5.522057</td>\n",
              "      <td>0.646008</td>\n",
              "      <td>-3.44</td>\n",
              "      <td>-6.40</td>\n",
              "      <td>bus</td>\n",
              "    </tr>\n",
              "    <tr>\n",
              "      <th>10-&gt;1</th>\n",
              "      <td>2.299412</td>\n",
              "      <td>0.168355</td>\n",
              "      <td>2.52</td>\n",
              "      <td>-7.75</td>\n",
              "      <td>2.299412</td>\n",
              "      <td>0.168355</td>\n",
              "      <td>2.52</td>\n",
              "      <td>-7.75</td>\n",
              "      <td>2.299412</td>\n",
              "      <td>0.168355</td>\n",
              "      <td>2.52</td>\n",
              "      <td>-7.75</td>\n",
              "      <td>1.97</td>\n",
              "      <td>-7.336471</td>\n",
              "      <td>0.243258</td>\n",
              "      <td>-6.87</td>\n",
              "      <td>-6.140000</td>\n",
              "      <td>0.296036</td>\n",
              "      <td>-5.72</td>\n",
              "      <td>-6.64</td>\n",
              "      <td>bus</td>\n",
              "    </tr>\n",
              "    <tr>\n",
              "      <th>100-&gt;0</th>\n",
              "      <td>0.250972</td>\n",
              "      <td>0.098798</td>\n",
              "      <td>0.43</td>\n",
              "      <td>8.62</td>\n",
              "      <td>0.250972</td>\n",
              "      <td>0.098798</td>\n",
              "      <td>0.43</td>\n",
              "      <td>8.62</td>\n",
              "      <td>0.250972</td>\n",
              "      <td>0.098798</td>\n",
              "      <td>0.43</td>\n",
              "      <td>8.62</td>\n",
              "      <td>0.03</td>\n",
              "      <td>8.907778</td>\n",
              "      <td>0.122051</td>\n",
              "      <td>9.23</td>\n",
              "      <td>4.246111</td>\n",
              "      <td>0.145550</td>\n",
              "      <td>4.55</td>\n",
              "      <td>3.73</td>\n",
              "      <td>car</td>\n",
              "    </tr>\n",
              "  </tbody>\n",
              "</table>\n",
              "</div>\n",
              "      <button class=\"colab-df-convert\" onclick=\"convertToInteractive('df-6699d27b-3be3-41fa-b233-a9fff0b7f8a7')\"\n",
              "              title=\"Convert this dataframe to an interactive table.\"\n",
              "              style=\"display:none;\">\n",
              "        \n",
              "  <svg xmlns=\"http://www.w3.org/2000/svg\" height=\"24px\"viewBox=\"0 0 24 24\"\n",
              "       width=\"24px\">\n",
              "    <path d=\"M0 0h24v24H0V0z\" fill=\"none\"/>\n",
              "    <path d=\"M18.56 5.44l.94 2.06.94-2.06 2.06-.94-2.06-.94-.94-2.06-.94 2.06-2.06.94zm-11 1L8.5 8.5l.94-2.06 2.06-.94-2.06-.94L8.5 2.5l-.94 2.06-2.06.94zm10 10l.94 2.06.94-2.06 2.06-.94-2.06-.94-.94-2.06-.94 2.06-2.06.94z\"/><path d=\"M17.41 7.96l-1.37-1.37c-.4-.4-.92-.59-1.43-.59-.52 0-1.04.2-1.43.59L10.3 9.45l-7.72 7.72c-.78.78-.78 2.05 0 2.83L4 21.41c.39.39.9.59 1.41.59.51 0 1.02-.2 1.41-.59l7.78-7.78 2.81-2.81c.8-.78.8-2.07 0-2.86zM5.41 20L4 18.59l7.72-7.72 1.47 1.35L5.41 20z\"/>\n",
              "  </svg>\n",
              "      </button>\n",
              "      \n",
              "  <style>\n",
              "    .colab-df-container {\n",
              "      display:flex;\n",
              "      flex-wrap:wrap;\n",
              "      gap: 12px;\n",
              "    }\n",
              "\n",
              "    .colab-df-convert {\n",
              "      background-color: #E8F0FE;\n",
              "      border: none;\n",
              "      border-radius: 50%;\n",
              "      cursor: pointer;\n",
              "      display: none;\n",
              "      fill: #1967D2;\n",
              "      height: 32px;\n",
              "      padding: 0 0 0 0;\n",
              "      width: 32px;\n",
              "    }\n",
              "\n",
              "    .colab-df-convert:hover {\n",
              "      background-color: #E2EBFA;\n",
              "      box-shadow: 0px 1px 2px rgba(60, 64, 67, 0.3), 0px 1px 3px 1px rgba(60, 64, 67, 0.15);\n",
              "      fill: #174EA6;\n",
              "    }\n",
              "\n",
              "    [theme=dark] .colab-df-convert {\n",
              "      background-color: #3B4455;\n",
              "      fill: #D2E3FC;\n",
              "    }\n",
              "\n",
              "    [theme=dark] .colab-df-convert:hover {\n",
              "      background-color: #434B5C;\n",
              "      box-shadow: 0px 1px 3px 1px rgba(0, 0, 0, 0.15);\n",
              "      filter: drop-shadow(0px 1px 2px rgba(0, 0, 0, 0.3));\n",
              "      fill: #FFFFFF;\n",
              "    }\n",
              "  </style>\n",
              "\n",
              "      <script>\n",
              "        const buttonEl =\n",
              "          document.querySelector('#df-6699d27b-3be3-41fa-b233-a9fff0b7f8a7 button.colab-df-convert');\n",
              "        buttonEl.style.display =\n",
              "          google.colab.kernel.accessAllowed ? 'block' : 'none';\n",
              "\n",
              "        async function convertToInteractive(key) {\n",
              "          const element = document.querySelector('#df-6699d27b-3be3-41fa-b233-a9fff0b7f8a7');\n",
              "          const dataTable =\n",
              "            await google.colab.kernel.invokeFunction('convertToInteractive',\n",
              "                                                     [key], {});\n",
              "          if (!dataTable) return;\n",
              "\n",
              "          const docLinkHtml = 'Like what you see? Visit the ' +\n",
              "            '<a target=\"_blank\" href=https://colab.research.google.com/notebooks/data_table.ipynb>data table notebook</a>'\n",
              "            + ' to learn more about interactive tables.';\n",
              "          element.innerHTML = '';\n",
              "          dataTable['output_type'] = 'display_data';\n",
              "          await google.colab.output.renderOutput(dataTable, element);\n",
              "          const docLink = document.createElement('div');\n",
              "          docLink.innerHTML = docLinkHtml;\n",
              "          element.appendChild(docLink);\n",
              "        }\n",
              "      </script>\n",
              "    </div>\n",
              "  </div>\n",
              "  "
            ],
            "text/plain": [
              "            x_mean     x_std  x_max  y_min    x_mean     x_std  x_max  y_min  \\\n",
              "part_idx                                                                       \n",
              "1->0      0.800141  0.022135   0.85  -9.18  0.800141  0.022135   0.85  -9.18   \n",
              "1->1      0.810000  0.016903   0.83  -9.14  0.810000  0.016903   0.83  -9.14   \n",
              "10->0     1.850496  0.586150   3.43  -9.38  1.850496  0.586150   3.43  -9.38   \n",
              "10->1     2.299412  0.168355   2.52  -7.75  2.299412  0.168355   2.52  -7.75   \n",
              "100->0    0.250972  0.098798   0.43   8.62  0.250972  0.098798   0.43   8.62   \n",
              "\n",
              "            x_mean     x_std  x_max  y_min  x_min    y_mean     y_std  y_max  \\\n",
              "part_idx                                                                       \n",
              "1->0      0.800141  0.022135   0.85  -9.18   0.75 -9.127324  0.018513  -9.08   \n",
              "1->1      0.810000  0.016903   0.83  -9.14   0.77 -9.118000  0.016125  -9.09   \n",
              "10->0     1.850496  0.586150   3.43  -9.38   0.37 -8.079362  0.534036  -7.10   \n",
              "10->1     2.299412  0.168355   2.52  -7.75   1.97 -7.336471  0.243258  -6.87   \n",
              "100->0    0.250972  0.098798   0.43   8.62   0.03  8.907778  0.122051   9.23   \n",
              "\n",
              "            z_mean     z_std  z_max  z_min target  \n",
              "part_idx                                           \n",
              "1->0     -3.747606  0.028709  -3.67  -3.81    bus  \n",
              "1->1     -3.747333  0.021202  -3.70  -3.78    bus  \n",
              "10->0    -5.522057  0.646008  -3.44  -6.40    bus  \n",
              "10->1    -6.140000  0.296036  -5.72  -6.64    bus  \n",
              "100->0    4.246111  0.145550   4.55   3.73    car  "
            ]
          },
          "execution_count": null,
          "metadata": {},
          "output_type": "execute_result"
        }
      ]
    },
    {
      "cell_type": "code",
      "source": [
        "df5 = df5.reset_index()"
      ],
      "metadata": {
        "id": "TW7_3r-vntjZ"
      },
      "execution_count": 73,
      "outputs": []
    },
    {
      "cell_type": "code",
      "source": [
        "df5.head()"
      ],
      "metadata": {
        "id": "2pyokfUwnw8N",
        "colab": {
          "base_uri": "https://localhost:8080/",
          "height": 206
        },
        "outputId": "db876422-e20f-4fb8-a3ac-9f379d472c8f"
      },
      "execution_count": 74,
      "outputs": [
        {
          "data": {
            "text/html": [
              "\n",
              "  <div id=\"df-0c6283a3-6e09-45dd-aeaa-0491de62cd79\">\n",
              "    <div class=\"colab-df-container\">\n",
              "      <div>\n",
              "<style scoped>\n",
              "    .dataframe tbody tr th:only-of-type {\n",
              "        vertical-align: middle;\n",
              "    }\n",
              "\n",
              "    .dataframe tbody tr th {\n",
              "        vertical-align: top;\n",
              "    }\n",
              "\n",
              "    .dataframe thead th {\n",
              "        text-align: right;\n",
              "    }\n",
              "</style>\n",
              "<table border=\"1\" class=\"dataframe\">\n",
              "  <thead>\n",
              "    <tr style=\"text-align: right;\">\n",
              "      <th></th>\n",
              "      <th>part_idx</th>\n",
              "      <th>x_mean</th>\n",
              "      <th>x_std</th>\n",
              "      <th>x_max</th>\n",
              "      <th>y_min</th>\n",
              "      <th>x_mean</th>\n",
              "      <th>x_std</th>\n",
              "      <th>x_max</th>\n",
              "      <th>y_min</th>\n",
              "      <th>x_mean</th>\n",
              "      <th>x_std</th>\n",
              "      <th>x_max</th>\n",
              "      <th>y_min</th>\n",
              "      <th>x_min</th>\n",
              "      <th>y_mean</th>\n",
              "      <th>y_std</th>\n",
              "      <th>y_max</th>\n",
              "      <th>z_mean</th>\n",
              "      <th>z_std</th>\n",
              "      <th>z_max</th>\n",
              "      <th>z_min</th>\n",
              "      <th>target</th>\n",
              "    </tr>\n",
              "  </thead>\n",
              "  <tbody>\n",
              "    <tr>\n",
              "      <th>0</th>\n",
              "      <td>1-&gt;0</td>\n",
              "      <td>0.800141</td>\n",
              "      <td>0.022135</td>\n",
              "      <td>0.85</td>\n",
              "      <td>-9.18</td>\n",
              "      <td>0.800141</td>\n",
              "      <td>0.022135</td>\n",
              "      <td>0.85</td>\n",
              "      <td>-9.18</td>\n",
              "      <td>0.800141</td>\n",
              "      <td>0.022135</td>\n",
              "      <td>0.85</td>\n",
              "      <td>-9.18</td>\n",
              "      <td>0.75</td>\n",
              "      <td>-9.127324</td>\n",
              "      <td>0.018513</td>\n",
              "      <td>-9.08</td>\n",
              "      <td>-3.747606</td>\n",
              "      <td>0.028709</td>\n",
              "      <td>-3.67</td>\n",
              "      <td>-3.81</td>\n",
              "      <td>bus</td>\n",
              "    </tr>\n",
              "    <tr>\n",
              "      <th>1</th>\n",
              "      <td>1-&gt;1</td>\n",
              "      <td>0.810000</td>\n",
              "      <td>0.016903</td>\n",
              "      <td>0.83</td>\n",
              "      <td>-9.14</td>\n",
              "      <td>0.810000</td>\n",
              "      <td>0.016903</td>\n",
              "      <td>0.83</td>\n",
              "      <td>-9.14</td>\n",
              "      <td>0.810000</td>\n",
              "      <td>0.016903</td>\n",
              "      <td>0.83</td>\n",
              "      <td>-9.14</td>\n",
              "      <td>0.77</td>\n",
              "      <td>-9.118000</td>\n",
              "      <td>0.016125</td>\n",
              "      <td>-9.09</td>\n",
              "      <td>-3.747333</td>\n",
              "      <td>0.021202</td>\n",
              "      <td>-3.70</td>\n",
              "      <td>-3.78</td>\n",
              "      <td>bus</td>\n",
              "    </tr>\n",
              "    <tr>\n",
              "      <th>2</th>\n",
              "      <td>10-&gt;0</td>\n",
              "      <td>1.850496</td>\n",
              "      <td>0.586150</td>\n",
              "      <td>3.43</td>\n",
              "      <td>-9.38</td>\n",
              "      <td>1.850496</td>\n",
              "      <td>0.586150</td>\n",
              "      <td>3.43</td>\n",
              "      <td>-9.38</td>\n",
              "      <td>1.850496</td>\n",
              "      <td>0.586150</td>\n",
              "      <td>3.43</td>\n",
              "      <td>-9.38</td>\n",
              "      <td>0.37</td>\n",
              "      <td>-8.079362</td>\n",
              "      <td>0.534036</td>\n",
              "      <td>-7.10</td>\n",
              "      <td>-5.522057</td>\n",
              "      <td>0.646008</td>\n",
              "      <td>-3.44</td>\n",
              "      <td>-6.40</td>\n",
              "      <td>bus</td>\n",
              "    </tr>\n",
              "    <tr>\n",
              "      <th>3</th>\n",
              "      <td>10-&gt;1</td>\n",
              "      <td>2.299412</td>\n",
              "      <td>0.168355</td>\n",
              "      <td>2.52</td>\n",
              "      <td>-7.75</td>\n",
              "      <td>2.299412</td>\n",
              "      <td>0.168355</td>\n",
              "      <td>2.52</td>\n",
              "      <td>-7.75</td>\n",
              "      <td>2.299412</td>\n",
              "      <td>0.168355</td>\n",
              "      <td>2.52</td>\n",
              "      <td>-7.75</td>\n",
              "      <td>1.97</td>\n",
              "      <td>-7.336471</td>\n",
              "      <td>0.243258</td>\n",
              "      <td>-6.87</td>\n",
              "      <td>-6.140000</td>\n",
              "      <td>0.296036</td>\n",
              "      <td>-5.72</td>\n",
              "      <td>-6.64</td>\n",
              "      <td>bus</td>\n",
              "    </tr>\n",
              "    <tr>\n",
              "      <th>4</th>\n",
              "      <td>100-&gt;0</td>\n",
              "      <td>0.250972</td>\n",
              "      <td>0.098798</td>\n",
              "      <td>0.43</td>\n",
              "      <td>8.62</td>\n",
              "      <td>0.250972</td>\n",
              "      <td>0.098798</td>\n",
              "      <td>0.43</td>\n",
              "      <td>8.62</td>\n",
              "      <td>0.250972</td>\n",
              "      <td>0.098798</td>\n",
              "      <td>0.43</td>\n",
              "      <td>8.62</td>\n",
              "      <td>0.03</td>\n",
              "      <td>8.907778</td>\n",
              "      <td>0.122051</td>\n",
              "      <td>9.23</td>\n",
              "      <td>4.246111</td>\n",
              "      <td>0.145550</td>\n",
              "      <td>4.55</td>\n",
              "      <td>3.73</td>\n",
              "      <td>car</td>\n",
              "    </tr>\n",
              "  </tbody>\n",
              "</table>\n",
              "</div>\n",
              "      <button class=\"colab-df-convert\" onclick=\"convertToInteractive('df-0c6283a3-6e09-45dd-aeaa-0491de62cd79')\"\n",
              "              title=\"Convert this dataframe to an interactive table.\"\n",
              "              style=\"display:none;\">\n",
              "        \n",
              "  <svg xmlns=\"http://www.w3.org/2000/svg\" height=\"24px\"viewBox=\"0 0 24 24\"\n",
              "       width=\"24px\">\n",
              "    <path d=\"M0 0h24v24H0V0z\" fill=\"none\"/>\n",
              "    <path d=\"M18.56 5.44l.94 2.06.94-2.06 2.06-.94-2.06-.94-.94-2.06-.94 2.06-2.06.94zm-11 1L8.5 8.5l.94-2.06 2.06-.94-2.06-.94L8.5 2.5l-.94 2.06-2.06.94zm10 10l.94 2.06.94-2.06 2.06-.94-2.06-.94-.94-2.06-.94 2.06-2.06.94z\"/><path d=\"M17.41 7.96l-1.37-1.37c-.4-.4-.92-.59-1.43-.59-.52 0-1.04.2-1.43.59L10.3 9.45l-7.72 7.72c-.78.78-.78 2.05 0 2.83L4 21.41c.39.39.9.59 1.41.59.51 0 1.02-.2 1.41-.59l7.78-7.78 2.81-2.81c.8-.78.8-2.07 0-2.86zM5.41 20L4 18.59l7.72-7.72 1.47 1.35L5.41 20z\"/>\n",
              "  </svg>\n",
              "      </button>\n",
              "      \n",
              "  <style>\n",
              "    .colab-df-container {\n",
              "      display:flex;\n",
              "      flex-wrap:wrap;\n",
              "      gap: 12px;\n",
              "    }\n",
              "\n",
              "    .colab-df-convert {\n",
              "      background-color: #E8F0FE;\n",
              "      border: none;\n",
              "      border-radius: 50%;\n",
              "      cursor: pointer;\n",
              "      display: none;\n",
              "      fill: #1967D2;\n",
              "      height: 32px;\n",
              "      padding: 0 0 0 0;\n",
              "      width: 32px;\n",
              "    }\n",
              "\n",
              "    .colab-df-convert:hover {\n",
              "      background-color: #E2EBFA;\n",
              "      box-shadow: 0px 1px 2px rgba(60, 64, 67, 0.3), 0px 1px 3px 1px rgba(60, 64, 67, 0.15);\n",
              "      fill: #174EA6;\n",
              "    }\n",
              "\n",
              "    [theme=dark] .colab-df-convert {\n",
              "      background-color: #3B4455;\n",
              "      fill: #D2E3FC;\n",
              "    }\n",
              "\n",
              "    [theme=dark] .colab-df-convert:hover {\n",
              "      background-color: #434B5C;\n",
              "      box-shadow: 0px 1px 3px 1px rgba(0, 0, 0, 0.15);\n",
              "      filter: drop-shadow(0px 1px 2px rgba(0, 0, 0, 0.3));\n",
              "      fill: #FFFFFF;\n",
              "    }\n",
              "  </style>\n",
              "\n",
              "      <script>\n",
              "        const buttonEl =\n",
              "          document.querySelector('#df-0c6283a3-6e09-45dd-aeaa-0491de62cd79 button.colab-df-convert');\n",
              "        buttonEl.style.display =\n",
              "          google.colab.kernel.accessAllowed ? 'block' : 'none';\n",
              "\n",
              "        async function convertToInteractive(key) {\n",
              "          const element = document.querySelector('#df-0c6283a3-6e09-45dd-aeaa-0491de62cd79');\n",
              "          const dataTable =\n",
              "            await google.colab.kernel.invokeFunction('convertToInteractive',\n",
              "                                                     [key], {});\n",
              "          if (!dataTable) return;\n",
              "\n",
              "          const docLinkHtml = 'Like what you see? Visit the ' +\n",
              "            '<a target=\"_blank\" href=https://colab.research.google.com/notebooks/data_table.ipynb>data table notebook</a>'\n",
              "            + ' to learn more about interactive tables.';\n",
              "          element.innerHTML = '';\n",
              "          dataTable['output_type'] = 'display_data';\n",
              "          await google.colab.output.renderOutput(dataTable, element);\n",
              "          const docLink = document.createElement('div');\n",
              "          docLink.innerHTML = docLinkHtml;\n",
              "          element.appendChild(docLink);\n",
              "        }\n",
              "      </script>\n",
              "    </div>\n",
              "  </div>\n",
              "  "
            ],
            "text/plain": [
              "  part_idx    x_mean     x_std  x_max  y_min    x_mean     x_std  x_max  \\\n",
              "0     1->0  0.800141  0.022135   0.85  -9.18  0.800141  0.022135   0.85   \n",
              "1     1->1  0.810000  0.016903   0.83  -9.14  0.810000  0.016903   0.83   \n",
              "2    10->0  1.850496  0.586150   3.43  -9.38  1.850496  0.586150   3.43   \n",
              "3    10->1  2.299412  0.168355   2.52  -7.75  2.299412  0.168355   2.52   \n",
              "4   100->0  0.250972  0.098798   0.43   8.62  0.250972  0.098798   0.43   \n",
              "\n",
              "   y_min    x_mean     x_std  x_max  y_min  x_min    y_mean     y_std  y_max  \\\n",
              "0  -9.18  0.800141  0.022135   0.85  -9.18   0.75 -9.127324  0.018513  -9.08   \n",
              "1  -9.14  0.810000  0.016903   0.83  -9.14   0.77 -9.118000  0.016125  -9.09   \n",
              "2  -9.38  1.850496  0.586150   3.43  -9.38   0.37 -8.079362  0.534036  -7.10   \n",
              "3  -7.75  2.299412  0.168355   2.52  -7.75   1.97 -7.336471  0.243258  -6.87   \n",
              "4   8.62  0.250972  0.098798   0.43   8.62   0.03  8.907778  0.122051   9.23   \n",
              "\n",
              "     z_mean     z_std  z_max  z_min target  \n",
              "0 -3.747606  0.028709  -3.67  -3.81    bus  \n",
              "1 -3.747333  0.021202  -3.70  -3.78    bus  \n",
              "2 -5.522057  0.646008  -3.44  -6.40    bus  \n",
              "3 -6.140000  0.296036  -5.72  -6.64    bus  \n",
              "4  4.246111  0.145550   4.55   3.73    car  "
            ]
          },
          "execution_count": null,
          "metadata": {},
          "output_type": "execute_result"
        }
      ]
    },
    {
      "cell_type": "code",
      "source": [
        "df5 = df5.drop(['part_idx'],axis = 1) # dropped part_idx column from df5"
      ],
      "metadata": {
        "id": "0bw1snVBnkVo"
      },
      "execution_count": 75,
      "outputs": []
    },
    {
      "cell_type": "code",
      "source": [
        "df5.head()"
      ],
      "metadata": {
        "id": "aWHHoLPfn9cK",
        "colab": {
          "base_uri": "https://localhost:8080/",
          "height": 206
        },
        "outputId": "818ae516-dd74-49fb-8a92-0d0f028c7671"
      },
      "execution_count": 76,
      "outputs": [
        {
          "data": {
            "text/html": [
              "\n",
              "  <div id=\"df-75473dcf-dc34-45d3-97b9-f9b58b6aa8e2\">\n",
              "    <div class=\"colab-df-container\">\n",
              "      <div>\n",
              "<style scoped>\n",
              "    .dataframe tbody tr th:only-of-type {\n",
              "        vertical-align: middle;\n",
              "    }\n",
              "\n",
              "    .dataframe tbody tr th {\n",
              "        vertical-align: top;\n",
              "    }\n",
              "\n",
              "    .dataframe thead th {\n",
              "        text-align: right;\n",
              "    }\n",
              "</style>\n",
              "<table border=\"1\" class=\"dataframe\">\n",
              "  <thead>\n",
              "    <tr style=\"text-align: right;\">\n",
              "      <th></th>\n",
              "      <th>x_mean</th>\n",
              "      <th>x_std</th>\n",
              "      <th>x_max</th>\n",
              "      <th>y_min</th>\n",
              "      <th>x_mean</th>\n",
              "      <th>x_std</th>\n",
              "      <th>x_max</th>\n",
              "      <th>y_min</th>\n",
              "      <th>x_mean</th>\n",
              "      <th>x_std</th>\n",
              "      <th>x_max</th>\n",
              "      <th>y_min</th>\n",
              "      <th>x_min</th>\n",
              "      <th>y_mean</th>\n",
              "      <th>y_std</th>\n",
              "      <th>y_max</th>\n",
              "      <th>z_mean</th>\n",
              "      <th>z_std</th>\n",
              "      <th>z_max</th>\n",
              "      <th>z_min</th>\n",
              "      <th>target</th>\n",
              "    </tr>\n",
              "  </thead>\n",
              "  <tbody>\n",
              "    <tr>\n",
              "      <th>0</th>\n",
              "      <td>0.800141</td>\n",
              "      <td>0.022135</td>\n",
              "      <td>0.85</td>\n",
              "      <td>-9.18</td>\n",
              "      <td>0.800141</td>\n",
              "      <td>0.022135</td>\n",
              "      <td>0.85</td>\n",
              "      <td>-9.18</td>\n",
              "      <td>0.800141</td>\n",
              "      <td>0.022135</td>\n",
              "      <td>0.85</td>\n",
              "      <td>-9.18</td>\n",
              "      <td>0.75</td>\n",
              "      <td>-9.127324</td>\n",
              "      <td>0.018513</td>\n",
              "      <td>-9.08</td>\n",
              "      <td>-3.747606</td>\n",
              "      <td>0.028709</td>\n",
              "      <td>-3.67</td>\n",
              "      <td>-3.81</td>\n",
              "      <td>bus</td>\n",
              "    </tr>\n",
              "    <tr>\n",
              "      <th>1</th>\n",
              "      <td>0.810000</td>\n",
              "      <td>0.016903</td>\n",
              "      <td>0.83</td>\n",
              "      <td>-9.14</td>\n",
              "      <td>0.810000</td>\n",
              "      <td>0.016903</td>\n",
              "      <td>0.83</td>\n",
              "      <td>-9.14</td>\n",
              "      <td>0.810000</td>\n",
              "      <td>0.016903</td>\n",
              "      <td>0.83</td>\n",
              "      <td>-9.14</td>\n",
              "      <td>0.77</td>\n",
              "      <td>-9.118000</td>\n",
              "      <td>0.016125</td>\n",
              "      <td>-9.09</td>\n",
              "      <td>-3.747333</td>\n",
              "      <td>0.021202</td>\n",
              "      <td>-3.70</td>\n",
              "      <td>-3.78</td>\n",
              "      <td>bus</td>\n",
              "    </tr>\n",
              "    <tr>\n",
              "      <th>2</th>\n",
              "      <td>1.850496</td>\n",
              "      <td>0.586150</td>\n",
              "      <td>3.43</td>\n",
              "      <td>-9.38</td>\n",
              "      <td>1.850496</td>\n",
              "      <td>0.586150</td>\n",
              "      <td>3.43</td>\n",
              "      <td>-9.38</td>\n",
              "      <td>1.850496</td>\n",
              "      <td>0.586150</td>\n",
              "      <td>3.43</td>\n",
              "      <td>-9.38</td>\n",
              "      <td>0.37</td>\n",
              "      <td>-8.079362</td>\n",
              "      <td>0.534036</td>\n",
              "      <td>-7.10</td>\n",
              "      <td>-5.522057</td>\n",
              "      <td>0.646008</td>\n",
              "      <td>-3.44</td>\n",
              "      <td>-6.40</td>\n",
              "      <td>bus</td>\n",
              "    </tr>\n",
              "    <tr>\n",
              "      <th>3</th>\n",
              "      <td>2.299412</td>\n",
              "      <td>0.168355</td>\n",
              "      <td>2.52</td>\n",
              "      <td>-7.75</td>\n",
              "      <td>2.299412</td>\n",
              "      <td>0.168355</td>\n",
              "      <td>2.52</td>\n",
              "      <td>-7.75</td>\n",
              "      <td>2.299412</td>\n",
              "      <td>0.168355</td>\n",
              "      <td>2.52</td>\n",
              "      <td>-7.75</td>\n",
              "      <td>1.97</td>\n",
              "      <td>-7.336471</td>\n",
              "      <td>0.243258</td>\n",
              "      <td>-6.87</td>\n",
              "      <td>-6.140000</td>\n",
              "      <td>0.296036</td>\n",
              "      <td>-5.72</td>\n",
              "      <td>-6.64</td>\n",
              "      <td>bus</td>\n",
              "    </tr>\n",
              "    <tr>\n",
              "      <th>4</th>\n",
              "      <td>0.250972</td>\n",
              "      <td>0.098798</td>\n",
              "      <td>0.43</td>\n",
              "      <td>8.62</td>\n",
              "      <td>0.250972</td>\n",
              "      <td>0.098798</td>\n",
              "      <td>0.43</td>\n",
              "      <td>8.62</td>\n",
              "      <td>0.250972</td>\n",
              "      <td>0.098798</td>\n",
              "      <td>0.43</td>\n",
              "      <td>8.62</td>\n",
              "      <td>0.03</td>\n",
              "      <td>8.907778</td>\n",
              "      <td>0.122051</td>\n",
              "      <td>9.23</td>\n",
              "      <td>4.246111</td>\n",
              "      <td>0.145550</td>\n",
              "      <td>4.55</td>\n",
              "      <td>3.73</td>\n",
              "      <td>car</td>\n",
              "    </tr>\n",
              "  </tbody>\n",
              "</table>\n",
              "</div>\n",
              "      <button class=\"colab-df-convert\" onclick=\"convertToInteractive('df-75473dcf-dc34-45d3-97b9-f9b58b6aa8e2')\"\n",
              "              title=\"Convert this dataframe to an interactive table.\"\n",
              "              style=\"display:none;\">\n",
              "        \n",
              "  <svg xmlns=\"http://www.w3.org/2000/svg\" height=\"24px\"viewBox=\"0 0 24 24\"\n",
              "       width=\"24px\">\n",
              "    <path d=\"M0 0h24v24H0V0z\" fill=\"none\"/>\n",
              "    <path d=\"M18.56 5.44l.94 2.06.94-2.06 2.06-.94-2.06-.94-.94-2.06-.94 2.06-2.06.94zm-11 1L8.5 8.5l.94-2.06 2.06-.94-2.06-.94L8.5 2.5l-.94 2.06-2.06.94zm10 10l.94 2.06.94-2.06 2.06-.94-2.06-.94-.94-2.06-.94 2.06-2.06.94z\"/><path d=\"M17.41 7.96l-1.37-1.37c-.4-.4-.92-.59-1.43-.59-.52 0-1.04.2-1.43.59L10.3 9.45l-7.72 7.72c-.78.78-.78 2.05 0 2.83L4 21.41c.39.39.9.59 1.41.59.51 0 1.02-.2 1.41-.59l7.78-7.78 2.81-2.81c.8-.78.8-2.07 0-2.86zM5.41 20L4 18.59l7.72-7.72 1.47 1.35L5.41 20z\"/>\n",
              "  </svg>\n",
              "      </button>\n",
              "      \n",
              "  <style>\n",
              "    .colab-df-container {\n",
              "      display:flex;\n",
              "      flex-wrap:wrap;\n",
              "      gap: 12px;\n",
              "    }\n",
              "\n",
              "    .colab-df-convert {\n",
              "      background-color: #E8F0FE;\n",
              "      border: none;\n",
              "      border-radius: 50%;\n",
              "      cursor: pointer;\n",
              "      display: none;\n",
              "      fill: #1967D2;\n",
              "      height: 32px;\n",
              "      padding: 0 0 0 0;\n",
              "      width: 32px;\n",
              "    }\n",
              "\n",
              "    .colab-df-convert:hover {\n",
              "      background-color: #E2EBFA;\n",
              "      box-shadow: 0px 1px 2px rgba(60, 64, 67, 0.3), 0px 1px 3px 1px rgba(60, 64, 67, 0.15);\n",
              "      fill: #174EA6;\n",
              "    }\n",
              "\n",
              "    [theme=dark] .colab-df-convert {\n",
              "      background-color: #3B4455;\n",
              "      fill: #D2E3FC;\n",
              "    }\n",
              "\n",
              "    [theme=dark] .colab-df-convert:hover {\n",
              "      background-color: #434B5C;\n",
              "      box-shadow: 0px 1px 3px 1px rgba(0, 0, 0, 0.15);\n",
              "      filter: drop-shadow(0px 1px 2px rgba(0, 0, 0, 0.3));\n",
              "      fill: #FFFFFF;\n",
              "    }\n",
              "  </style>\n",
              "\n",
              "      <script>\n",
              "        const buttonEl =\n",
              "          document.querySelector('#df-75473dcf-dc34-45d3-97b9-f9b58b6aa8e2 button.colab-df-convert');\n",
              "        buttonEl.style.display =\n",
              "          google.colab.kernel.accessAllowed ? 'block' : 'none';\n",
              "\n",
              "        async function convertToInteractive(key) {\n",
              "          const element = document.querySelector('#df-75473dcf-dc34-45d3-97b9-f9b58b6aa8e2');\n",
              "          const dataTable =\n",
              "            await google.colab.kernel.invokeFunction('convertToInteractive',\n",
              "                                                     [key], {});\n",
              "          if (!dataTable) return;\n",
              "\n",
              "          const docLinkHtml = 'Like what you see? Visit the ' +\n",
              "            '<a target=\"_blank\" href=https://colab.research.google.com/notebooks/data_table.ipynb>data table notebook</a>'\n",
              "            + ' to learn more about interactive tables.';\n",
              "          element.innerHTML = '';\n",
              "          dataTable['output_type'] = 'display_data';\n",
              "          await google.colab.output.renderOutput(dataTable, element);\n",
              "          const docLink = document.createElement('div');\n",
              "          docLink.innerHTML = docLinkHtml;\n",
              "          element.appendChild(docLink);\n",
              "        }\n",
              "      </script>\n",
              "    </div>\n",
              "  </div>\n",
              "  "
            ],
            "text/plain": [
              "     x_mean     x_std  x_max  y_min    x_mean     x_std  x_max  y_min  \\\n",
              "0  0.800141  0.022135   0.85  -9.18  0.800141  0.022135   0.85  -9.18   \n",
              "1  0.810000  0.016903   0.83  -9.14  0.810000  0.016903   0.83  -9.14   \n",
              "2  1.850496  0.586150   3.43  -9.38  1.850496  0.586150   3.43  -9.38   \n",
              "3  2.299412  0.168355   2.52  -7.75  2.299412  0.168355   2.52  -7.75   \n",
              "4  0.250972  0.098798   0.43   8.62  0.250972  0.098798   0.43   8.62   \n",
              "\n",
              "     x_mean     x_std  x_max  y_min  x_min    y_mean     y_std  y_max  \\\n",
              "0  0.800141  0.022135   0.85  -9.18   0.75 -9.127324  0.018513  -9.08   \n",
              "1  0.810000  0.016903   0.83  -9.14   0.77 -9.118000  0.016125  -9.09   \n",
              "2  1.850496  0.586150   3.43  -9.38   0.37 -8.079362  0.534036  -7.10   \n",
              "3  2.299412  0.168355   2.52  -7.75   1.97 -7.336471  0.243258  -6.87   \n",
              "4  0.250972  0.098798   0.43   8.62   0.03  8.907778  0.122051   9.23   \n",
              "\n",
              "     z_mean     z_std  z_max  z_min target  \n",
              "0 -3.747606  0.028709  -3.67  -3.81    bus  \n",
              "1 -3.747333  0.021202  -3.70  -3.78    bus  \n",
              "2 -5.522057  0.646008  -3.44  -6.40    bus  \n",
              "3 -6.140000  0.296036  -5.72  -6.64    bus  \n",
              "4  4.246111  0.145550   4.55   3.73    car  "
            ]
          },
          "execution_count": null,
          "metadata": {},
          "output_type": "execute_result"
        }
      ]
    },
    {
      "cell_type": "code",
      "source": [
        "df5 = df5.dropna() #dropped NaN values from dataframe df5"
      ],
      "metadata": {
        "id": "Qg-2TYJvoNZY"
      },
      "execution_count": 77,
      "outputs": []
    },
    {
      "cell_type": "code",
      "source": [
        "df5.info()"
      ],
      "metadata": {
        "id": "xa6ZOfavoAqK",
        "colab": {
          "base_uri": "https://localhost:8080/"
        },
        "outputId": "e27ff835-b8fa-40aa-ad6b-5f78a6f6b619"
      },
      "execution_count": 78,
      "outputs": [
        {
          "metadata": {
            "tags": null
          },
          "name": "stdout",
          "output_type": "stream",
          "text": [
            "<class 'pandas.core.frame.DataFrame'>\n",
            "Int64Index: 40413 entries, 0 to 40592\n",
            "Data columns (total 21 columns):\n",
            " #   Column  Non-Null Count  Dtype  \n",
            "---  ------  --------------  -----  \n",
            " 0   x_mean  40413 non-null  float64\n",
            " 1   x_std   40413 non-null  float64\n",
            " 2   x_max   40413 non-null  float64\n",
            " 3   y_min   40413 non-null  float64\n",
            " 4   x_mean  40413 non-null  float64\n",
            " 5   x_std   40413 non-null  float64\n",
            " 6   x_max   40413 non-null  float64\n",
            " 7   y_min   40413 non-null  float64\n",
            " 8   x_mean  40413 non-null  float64\n",
            " 9   x_std   40413 non-null  float64\n",
            " 10  x_max   40413 non-null  float64\n",
            " 11  y_min   40413 non-null  float64\n",
            " 12  x_min   40413 non-null  float64\n",
            " 13  y_mean  40413 non-null  float64\n",
            " 14  y_std   40413 non-null  float64\n",
            " 15  y_max   40413 non-null  float64\n",
            " 16  z_mean  40413 non-null  float64\n",
            " 17  z_std   40413 non-null  float64\n",
            " 18  z_max   40413 non-null  float64\n",
            " 19  z_min   40413 non-null  float64\n",
            " 20  target  40413 non-null  object \n",
            "dtypes: float64(20), object(1)\n",
            "memory usage: 6.8+ MB\n"
          ]
        }
      ]
    },
    {
      "cell_type": "code",
      "source": [
        "from imblearn.under_sampling import NearMiss #imported NearMiss to under sample the data\n",
        "data = df5.values\n",
        "X, y = data[:, :-1], data[:, -1]\n",
        "y = LabelEncoder().fit_transform(y) #label encoded y\n",
        "undersample = NearMiss() #ddefined under sampler\n",
        "X, y = undersample.fit_resample(X, y) \n",
        "counter = Counter(y)\n",
        "#printing no. of data per mode\n",
        "for k,v in counter.items():\n",
        "\tper = v / len(y) * 100\n",
        "\tprint('Class=%d, n=%d (%.3f%%)' % (k, v, per))\n",
        "#plotted balanced data\n",
        "pyplot.bar(counter.keys(), counter.values())\n",
        "pyplot.show()"
      ],
      "metadata": {
        "id": "yGHToVnitbGq",
        "colab": {
          "base_uri": "https://localhost:8080/",
          "height": 369
        },
        "outputId": "e091e0a0-891c-4c55-fed1-26bb686d2b35"
      },
      "execution_count": 79,
      "outputs": [
        {
          "metadata": {
            "tags": null
          },
          "name": "stdout",
          "output_type": "stream",
          "text": [
            "Class=0, n=79 (16.667%)\n",
            "Class=1, n=79 (16.667%)\n",
            "Class=2, n=79 (16.667%)\n",
            "Class=3, n=79 (16.667%)\n",
            "Class=4, n=79 (16.667%)\n",
            "Class=5, n=79 (16.667%)\n"
          ]
        },
        {
          "data": {
            "image/png": "[encoded data removed]",
            "text/plain": [
              "<Figure size 432x288 with 1 Axes>"
            ]
          },
          "metadata": {},
          "output_type": "display_data"
        }
      ]
    },
    {
      "cell_type": "code",
      "source": [
        "len(y)"
      ],
      "metadata": {
        "id": "Vb-br_M-tbIk",
        "colab": {
          "base_uri": "https://localhost:8080/"
        },
        "outputId": "bf6dcd21-ad7c-40a8-b668-9a4e9cfcc4cd"
      },
      "execution_count": 80,
      "outputs": [
        {
          "data": {
            "text/plain": [
              "474"
            ]
          },
          "execution_count": null,
          "metadata": {},
          "output_type": "execute_result"
        }
      ]
    },
    {
      "cell_type": "markdown",
      "source": [
        "###Q6"
      ],
      "metadata": {
        "id": "-cJMnP394LJl"
      }
    },
    {
      "cell_type": "code",
      "source": [
        "#train, test, validation split\n",
        "#train 60%, test 20%, val 20%\n",
        "from sklearn.model_selection import train_test_split\n",
        "X_train, X_rem, y_train, y_rem = train_test_split(X,y, train_size=0.6)\n",
        "X_valid, X_test, y_valid, y_test = train_test_split(X_rem,y_rem, test_size=0.5)"
      ],
      "metadata": {
        "id": "LM8Q0Rv44n_P"
      },
      "execution_count": 81,
      "outputs": []
    },
    {
      "cell_type": "code",
      "source": [
        "print(len(X_train))\n",
        "print(len(X_test))\n",
        "print(len(X_valid))\n"
      ],
      "metadata": {
        "id": "4AppNpqZ4oB3",
        "colab": {
          "base_uri": "https://localhost:8080/"
        },
        "outputId": "672705f8-65a9-4dda-ca9b-0e3ee8bbebcb"
      },
      "execution_count": 82,
      "outputs": [
        {
          "metadata": {
            "tags": null
          },
          "name": "stdout",
          "output_type": "stream",
          "text": [
            "379\n",
            "48\n",
            "47\n"
          ]
        }
      ]
    },
    {
      "cell_type": "code",
      "source": [
        ""
      ],
      "metadata": {
        "id": "k3qx7vTw4oGV"
      },
      "execution_count": 82,
      "outputs": []
    },
    {
      "cell_type": "code",
      "source": [
        ""
      ],
      "metadata": {
        "id": "T3ZKPf7F4oPU"
      },
      "execution_count": 82,
      "outputs": []
    },
    {
      "cell_type": "markdown",
      "source": [
        "###Q7"
      ],
      "metadata": {
        "id": "H8RxshyC4P1i"
      }
    },
    {
      "cell_type": "code",
      "source": [
        "#SVM classifier using using linear kernel \n",
        "from sklearn.svm import SVC  \n",
        "model_svm = SVC(kernel='linear') \n",
        "\n",
        "#trained svm classifier\n",
        "model_svm.fit(X_train, y_train)"
      ],
      "metadata": {
        "id": "ejzTFuPRtbX0",
        "colab": {
          "base_uri": "https://localhost:8080/"
        },
        "outputId": "ae1349bb-4b9b-406d-a244-a210ef4c87ad"
      },
      "execution_count": 83,
      "outputs": [
        {
          "data": {
            "text/plain": [
              "SVC(kernel='linear')"
            ]
          },
          "execution_count": null,
          "metadata": {},
          "output_type": "execute_result"
        }
      ]
    },
    {
      "cell_type": "code",
      "source": [
        "#calculated score for svm model using validation data\n",
        "model_svm.score(X_valid, y_valid)"
      ],
      "metadata": {
        "id": "uQsoHBRG3j9p",
        "colab": {
          "base_uri": "https://localhost:8080/"
        },
        "outputId": "a311d31e-050f-4693-814f-e531d8c2a1c1"
      },
      "execution_count": 84,
      "outputs": [
        {
          "data": {
            "text/plain": [
              "0.851063829787234"
            ]
          },
          "execution_count": null,
          "metadata": {},
          "output_type": "execute_result"
        }
      ]
    },
    {
      "cell_type": "code",
      "source": [
        "#made prediction using test data\n",
        "y_pred=model_svm.predict(X_test)"
      ],
      "metadata": {
        "id": "O0LMFDJB6WVG"
      },
      "execution_count": 85,
      "outputs": []
    },
    {
      "cell_type": "code",
      "source": [
        "#calculated f1 score for svm\n",
        "from sklearn.metrics import f1_score\n",
        "f1_score(y_test, y_pred, average='macro')"
      ],
      "metadata": {
        "id": "0iAAdnp23kAv",
        "colab": {
          "base_uri": "https://localhost:8080/"
        },
        "outputId": "77c6baa4-b565-45c0-962f-d599dca21a99"
      },
      "execution_count": 86,
      "outputs": [
        {
          "data": {
            "text/plain": [
              "0.8801169590643275"
            ]
          },
          "execution_count": null,
          "metadata": {},
          "output_type": "execute_result"
        }
      ]
    },
    {
      "cell_type": "code",
      "source": [
        "#created logistic regression model\n",
        "from sklearn.linear_model import LogisticRegression\n",
        "model_logi = LogisticRegression()\n",
        "#trained logistic regression model\n",
        "model_logi.fit(X_train, y_train)"
      ],
      "metadata": {
        "id": "9sRndbzL3kEN",
        "colab": {
          "base_uri": "https://localhost:8080/"
        },
        "outputId": "9594f4b9-6f1e-4438-907f-8cbaf83f12e7"
      },
      "execution_count": 87,
      "outputs": [
        {
          "metadata": {
            "tags": null
          },
          "name": "stderr",
          "output_type": "stream",
          "text": [
            "/usr/local/lib/python3.7/dist-packages/sklearn/linear_model/_logistic.py:818: ConvergenceWarning: lbfgs failed to converge (status=1):\n",
            "STOP: TOTAL NO. of ITERATIONS REACHED LIMIT.\n",
            "\n",
            "Increase the number of iterations (max_iter) or scale the data as shown in:\n",
            "    https://scikit-learn.org/stable/modules/preprocessing.html\n",
            "Please also refer to the documentation for alternative solver options:\n",
            "    https://scikit-learn.org/stable/modules/linear_model.html#logistic-regression\n",
            "  extra_warning_msg=_LOGISTIC_SOLVER_CONVERGENCE_MSG,\n"
          ]
        },
        {
          "data": {
            "text/plain": [
              "LogisticRegression()"
            ]
          },
          "execution_count": null,
          "metadata": {},
          "output_type": "execute_result"
        }
      ]
    },
    {
      "cell_type": "code",
      "source": [
        "#made prediction using X_test on logistic model\n",
        "y_pred_logi = model_logi.predict(X_test)"
      ],
      "metadata": {
        "id": "26MOHiSB3kHH"
      },
      "execution_count": 88,
      "outputs": []
    },
    {
      "cell_type": "code",
      "source": [
        "#calculated f1 score for logistic model using y_test\n",
        "f1_score(y_test, y_pred_logi, average='macro')"
      ],
      "metadata": {
        "id": "im_AAXbB3kfW",
        "colab": {
          "base_uri": "https://localhost:8080/"
        },
        "outputId": "0b83e40e-cf2b-4d0b-e95b-88065631493a"
      },
      "execution_count": 89,
      "outputs": [
        {
          "data": {
            "text/plain": [
              "0.8423609457278188"
            ]
          },
          "execution_count": null,
          "metadata": {},
          "output_type": "execute_result"
        }
      ]
    },
    {
      "cell_type": "code",
      "source": [
        "#imported necessary packages for model\n",
        "import tensorflow as tf\n",
        "import numpy as np\n",
        "from tensorflow.keras.models import Sequential\n",
        "from tensorflow.keras import layers\n",
        "from tensorflow.keras.layers import Activation\n",
        "import matplotlib.pyplot as plt"
      ],
      "metadata": {
        "id": "1ZSx81403kiw"
      },
      "execution_count": 90,
      "outputs": []
    },
    {
      "cell_type": "code",
      "source": [
        "input_shape = [X_train.shape[1]]\n",
        "#sequential MLP model \n",
        "model = tf.keras.Sequential([\n",
        "    layers.BatchNormalization(input_shape=input_shape),\n",
        "    layers.Dense(12, activation='relu'),\n",
        "    layers.Dropout(0.05),\n",
        "    layers.BatchNormalization(),\n",
        "    layers.Dense(9, activation='relu'),\n",
        "    layers.Dropout(0.05),\n",
        "    layers.BatchNormalization(),\n",
        "    layers.Dense(6, activation = 'sigmoid'),\n",
        "])"
      ],
      "metadata": {
        "id": "lAjW7LY63kui"
      },
      "execution_count": 91,
      "outputs": []
    },
    {
      "cell_type": "code",
      "source": [
        "#compiled the mlp model\n",
        "optimizer = tf.keras.optimizers.Adam(learning_rate=0.001)\n",
        "model.compile(optimizer=optimizer,loss=tf.keras.losses.CategoricalCrossentropy(),metrics=['accuracy'])"
      ],
      "metadata": {
        "id": "TzEvb5F53ky8"
      },
      "execution_count": 92,
      "outputs": []
    },
    {
      "cell_type": "code",
      "source": [
        "# one hot encoding of labels\n",
        "y1_train  = tf.keras.utils.to_categorical(y_train)\n",
        "y1_test = tf.keras.utils.to_categorical(y_test)\n",
        "y1_valid = tf.keras.utils.to_categorical(y_valid)"
      ],
      "metadata": {
        "id": "4QGjnNOq9xUz"
      },
      "execution_count": 93,
      "outputs": []
    },
    {
      "cell_type": "code",
      "source": [
        "y1_train.shape"
      ],
      "metadata": {
        "id": "7vXjccyY-LGr",
        "colab": {
          "base_uri": "https://localhost:8080/"
        },
        "outputId": "9d87a9fc-9677-4e26-ba3b-f7351484f6ce"
      },
      "execution_count": 94,
      "outputs": [
        {
          "data": {
            "text/plain": [
              "(379, 6)"
            ]
          },
          "execution_count": null,
          "metadata": {},
          "output_type": "execute_result"
        }
      ]
    },
    {
      "cell_type": "code",
      "source": [
        "y1_test.shape"
      ],
      "metadata": {
        "id": "RerLdmMm-LYu",
        "colab": {
          "base_uri": "https://localhost:8080/"
        },
        "outputId": "d7c0e475-106e-4fc7-cc6e-0b5cdf6cd37d"
      },
      "execution_count": 95,
      "outputs": [
        {
          "data": {
            "text/plain": [
              "(48, 6)"
            ]
          },
          "execution_count": null,
          "metadata": {},
          "output_type": "execute_result"
        }
      ]
    },
    {
      "cell_type": "code",
      "source": [
        "#training model\n",
        "epochs = 200\n",
        "history = model.fit(X_train, y1_train, batch_size=16,\n",
        "                    epochs=epochs, verbose=1,\n",
        "                    validation_data=(X_test, y1_test)\n",
        ")\n",
        "# plotting training history\n",
        "history_df = pd.DataFrame(history.history)\n",
        "history_df.loc[0:, ['loss', 'val_loss']].plot()\n",
        "history_df.loc[0:, ['accuracy', 'val_accuracy']].plot()\n",
        "print((\"Minimum Validation Loss: {:0.4f}\").format(history_df['val_loss'].min()))"
      ],
      "metadata": {
        "id": "u-vBkbT99SGs",
        "colab": {
          "base_uri": "https://localhost:8080/",
          "height": 1000
        },
        "outputId": "c8b4721f-9b70-4dda-8786-405f1318254b"
      },
      "execution_count": 96,
      "outputs": [
        {
          "output_type": "stream",
          "name": "stdout",
          "text": [
            "Epoch 1/200\n",
            "24/24 [==============================] - 2s 13ms/step - loss: 2.5762 - accuracy: 0.1741 - val_loss: 2.4618 - val_accuracy: 0.1667\n",
            "Epoch 2/200\n",
            "24/24 [==============================] - 0s 5ms/step - loss: 2.2350 - accuracy: 0.2005 - val_loss: 2.1072 - val_accuracy: 0.1250\n",
            "Epoch 3/200\n",
            "24/24 [==============================] - 0s 5ms/step - loss: 1.9208 - accuracy: 0.2427 - val_loss: 1.8613 - val_accuracy: 0.1458\n",
            "Epoch 4/200\n",
            "24/24 [==============================] - 0s 4ms/step - loss: 1.6189 - accuracy: 0.3087 - val_loss: 1.6603 - val_accuracy: 0.2083\n",
            "Epoch 5/200\n",
            "24/24 [==============================] - 0s 5ms/step - loss: 1.4330 - accuracy: 0.4485 - val_loss: 1.4992 - val_accuracy: 0.3542\n",
            "Epoch 6/200\n",
            "24/24 [==============================] - 0s 5ms/step - loss: 1.3329 - accuracy: 0.4934 - val_loss: 1.3570 - val_accuracy: 0.4792\n",
            "Epoch 7/200\n",
            "24/24 [==============================] - 0s 5ms/step - loss: 1.2254 - accuracy: 0.5567 - val_loss: 1.2169 - val_accuracy: 0.6042\n",
            "Epoch 8/200\n",
            "24/24 [==============================] - 0s 5ms/step - loss: 1.1489 - accuracy: 0.5673 - val_loss: 1.1078 - val_accuracy: 0.6458\n",
            "Epoch 9/200\n",
            "24/24 [==============================] - 0s 5ms/step - loss: 1.1058 - accuracy: 0.6069 - val_loss: 1.0432 - val_accuracy: 0.6042\n",
            "Epoch 10/200\n",
            "24/24 [==============================] - 0s 5ms/step - loss: 1.0385 - accuracy: 0.6438 - val_loss: 0.9713 - val_accuracy: 0.6250\n",
            "Epoch 11/200\n",
            "24/24 [==============================] - 0s 5ms/step - loss: 1.0407 - accuracy: 0.6385 - val_loss: 0.9004 - val_accuracy: 0.6458\n",
            "Epoch 12/200\n",
            "24/24 [==============================] - 0s 4ms/step - loss: 1.0084 - accuracy: 0.6174 - val_loss: 0.8523 - val_accuracy: 0.7083\n",
            "Epoch 13/200\n",
            "24/24 [==============================] - 0s 4ms/step - loss: 0.9559 - accuracy: 0.6544 - val_loss: 0.8058 - val_accuracy: 0.7083\n",
            "Epoch 14/200\n",
            "24/24 [==============================] - 0s 4ms/step - loss: 0.9354 - accuracy: 0.6649 - val_loss: 0.7853 - val_accuracy: 0.6667\n",
            "Epoch 15/200\n",
            "24/24 [==============================] - 0s 5ms/step - loss: 0.9522 - accuracy: 0.6438 - val_loss: 0.7750 - val_accuracy: 0.6667\n",
            "Epoch 16/200\n",
            "24/24 [==============================] - 0s 5ms/step - loss: 0.9234 - accuracy: 0.6728 - val_loss: 0.7280 - val_accuracy: 0.6667\n",
            "Epoch 17/200\n",
            "24/24 [==============================] - 0s 5ms/step - loss: 0.8591 - accuracy: 0.6781 - val_loss: 0.7133 - val_accuracy: 0.6875\n",
            "Epoch 18/200\n",
            "24/24 [==============================] - 0s 5ms/step - loss: 0.8834 - accuracy: 0.6623 - val_loss: 0.7022 - val_accuracy: 0.6875\n",
            "Epoch 19/200\n",
            "24/24 [==============================] - 0s 4ms/step - loss: 0.9001 - accuracy: 0.6728 - val_loss: 0.6846 - val_accuracy: 0.6875\n",
            "Epoch 20/200\n",
            "24/24 [==============================] - 0s 5ms/step - loss: 0.8802 - accuracy: 0.6887 - val_loss: 0.6923 - val_accuracy: 0.6875\n",
            "Epoch 21/200\n",
            "24/24 [==============================] - 0s 4ms/step - loss: 0.8260 - accuracy: 0.7203 - val_loss: 0.6492 - val_accuracy: 0.7083\n",
            "Epoch 22/200\n",
            "24/24 [==============================] - 0s 4ms/step - loss: 0.8262 - accuracy: 0.7335 - val_loss: 0.6683 - val_accuracy: 0.6875\n",
            "Epoch 23/200\n",
            "24/24 [==============================] - 0s 5ms/step - loss: 0.7546 - accuracy: 0.7361 - val_loss: 0.6500 - val_accuracy: 0.7083\n",
            "Epoch 24/200\n",
            "24/24 [==============================] - 0s 5ms/step - loss: 0.8385 - accuracy: 0.6807 - val_loss: 0.6261 - val_accuracy: 0.7292\n",
            "Epoch 25/200\n",
            "24/24 [==============================] - 0s 5ms/step - loss: 0.7746 - accuracy: 0.7124 - val_loss: 0.6300 - val_accuracy: 0.6875\n",
            "Epoch 26/200\n",
            "24/24 [==============================] - 0s 5ms/step - loss: 0.7632 - accuracy: 0.7256 - val_loss: 0.6500 - val_accuracy: 0.6875\n",
            "Epoch 27/200\n",
            "24/24 [==============================] - 0s 5ms/step - loss: 0.8842 - accuracy: 0.6887 - val_loss: 0.6558 - val_accuracy: 0.7083\n",
            "Epoch 28/200\n",
            "24/24 [==============================] - 0s 5ms/step - loss: 0.7786 - accuracy: 0.6913 - val_loss: 0.6128 - val_accuracy: 0.7083\n",
            "Epoch 29/200\n",
            "24/24 [==============================] - 0s 5ms/step - loss: 0.7627 - accuracy: 0.7256 - val_loss: 0.5657 - val_accuracy: 0.7292\n",
            "Epoch 30/200\n",
            "24/24 [==============================] - 0s 5ms/step - loss: 0.7315 - accuracy: 0.7414 - val_loss: 0.5646 - val_accuracy: 0.7500\n",
            "Epoch 31/200\n",
            "24/24 [==============================] - 0s 5ms/step - loss: 0.7622 - accuracy: 0.7309 - val_loss: 0.5818 - val_accuracy: 0.7083\n",
            "Epoch 32/200\n",
            "24/24 [==============================] - 0s 5ms/step - loss: 0.7673 - accuracy: 0.7071 - val_loss: 0.5750 - val_accuracy: 0.7083\n",
            "Epoch 33/200\n",
            "24/24 [==============================] - 0s 5ms/step - loss: 0.7776 - accuracy: 0.6966 - val_loss: 0.5713 - val_accuracy: 0.7083\n",
            "Epoch 34/200\n",
            "24/24 [==============================] - 0s 5ms/step - loss: 0.8235 - accuracy: 0.7018 - val_loss: 0.5719 - val_accuracy: 0.7292\n",
            "Epoch 35/200\n",
            "24/24 [==============================] - 0s 5ms/step - loss: 0.7073 - accuracy: 0.7282 - val_loss: 0.5563 - val_accuracy: 0.7292\n",
            "Epoch 36/200\n",
            "24/24 [==============================] - 0s 5ms/step - loss: 0.6901 - accuracy: 0.7467 - val_loss: 0.5685 - val_accuracy: 0.7292\n",
            "Epoch 37/200\n",
            "24/24 [==============================] - 0s 5ms/step - loss: 0.6528 - accuracy: 0.7995 - val_loss: 0.5669 - val_accuracy: 0.7292\n",
            "Epoch 38/200\n",
            "24/24 [==============================] - 0s 5ms/step - loss: 0.7775 - accuracy: 0.7177 - val_loss: 0.5733 - val_accuracy: 0.7500\n",
            "Epoch 39/200\n",
            "24/24 [==============================] - 0s 5ms/step - loss: 0.7300 - accuracy: 0.7335 - val_loss: 0.5630 - val_accuracy: 0.7500\n",
            "Epoch 40/200\n",
            "24/24 [==============================] - 0s 6ms/step - loss: 0.7166 - accuracy: 0.7520 - val_loss: 0.5883 - val_accuracy: 0.7083\n",
            "Epoch 41/200\n",
            "24/24 [==============================] - 0s 5ms/step - loss: 0.6935 - accuracy: 0.7441 - val_loss: 0.5375 - val_accuracy: 0.7292\n",
            "Epoch 42/200\n",
            "24/24 [==============================] - 0s 5ms/step - loss: 0.6996 - accuracy: 0.7599 - val_loss: 0.5219 - val_accuracy: 0.7708\n",
            "Epoch 43/200\n",
            "24/24 [==============================] - 0s 5ms/step - loss: 0.7222 - accuracy: 0.7441 - val_loss: 0.5203 - val_accuracy: 0.7500\n",
            "Epoch 44/200\n",
            "24/24 [==============================] - 0s 5ms/step - loss: 0.6847 - accuracy: 0.7573 - val_loss: 0.5366 - val_accuracy: 0.7500\n",
            "Epoch 45/200\n",
            "24/24 [==============================] - 0s 5ms/step - loss: 0.6477 - accuracy: 0.7784 - val_loss: 0.5058 - val_accuracy: 0.7708\n",
            "Epoch 46/200\n",
            "24/24 [==============================] - 0s 5ms/step - loss: 0.7274 - accuracy: 0.7309 - val_loss: 0.5863 - val_accuracy: 0.7708\n",
            "Epoch 47/200\n",
            "24/24 [==============================] - 0s 5ms/step - loss: 0.6504 - accuracy: 0.7467 - val_loss: 0.5681 - val_accuracy: 0.7083\n",
            "Epoch 48/200\n",
            "24/24 [==============================] - 0s 5ms/step - loss: 0.6880 - accuracy: 0.7441 - val_loss: 0.5654 - val_accuracy: 0.7083\n",
            "Epoch 49/200\n",
            "24/24 [==============================] - 0s 5ms/step - loss: 0.7069 - accuracy: 0.7388 - val_loss: 0.5387 - val_accuracy: 0.7500\n",
            "Epoch 50/200\n",
            "24/24 [==============================] - 0s 6ms/step - loss: 0.6929 - accuracy: 0.7203 - val_loss: 0.4668 - val_accuracy: 0.8333\n",
            "Epoch 51/200\n",
            "24/24 [==============================] - 0s 5ms/step - loss: 0.6023 - accuracy: 0.7968 - val_loss: 0.5066 - val_accuracy: 0.7917\n",
            "Epoch 52/200\n",
            "24/24 [==============================] - 0s 4ms/step - loss: 0.6657 - accuracy: 0.7441 - val_loss: 0.4797 - val_accuracy: 0.8125\n",
            "Epoch 53/200\n",
            "24/24 [==============================] - 0s 5ms/step - loss: 0.6054 - accuracy: 0.7757 - val_loss: 0.5321 - val_accuracy: 0.7500\n",
            "Epoch 54/200\n",
            "24/24 [==============================] - 0s 5ms/step - loss: 0.6739 - accuracy: 0.7520 - val_loss: 0.5850 - val_accuracy: 0.7292\n",
            "Epoch 55/200\n",
            "24/24 [==============================] - 0s 5ms/step - loss: 0.7030 - accuracy: 0.7282 - val_loss: 0.5592 - val_accuracy: 0.7292\n",
            "Epoch 56/200\n",
            "24/24 [==============================] - 0s 5ms/step - loss: 0.6688 - accuracy: 0.7599 - val_loss: 0.4832 - val_accuracy: 0.8333\n",
            "Epoch 57/200\n",
            "24/24 [==============================] - 0s 5ms/step - loss: 0.7337 - accuracy: 0.7230 - val_loss: 0.4718 - val_accuracy: 0.8125\n",
            "Epoch 58/200\n",
            "24/24 [==============================] - 0s 5ms/step - loss: 0.5904 - accuracy: 0.8047 - val_loss: 0.4677 - val_accuracy: 0.8125\n",
            "Epoch 59/200\n",
            "24/24 [==============================] - 0s 5ms/step - loss: 0.6092 - accuracy: 0.7678 - val_loss: 0.5033 - val_accuracy: 0.7708\n",
            "Epoch 60/200\n",
            "24/24 [==============================] - 0s 5ms/step - loss: 0.6197 - accuracy: 0.7731 - val_loss: 0.4792 - val_accuracy: 0.7917\n",
            "Epoch 61/200\n",
            "24/24 [==============================] - 0s 5ms/step - loss: 0.6768 - accuracy: 0.7361 - val_loss: 0.5040 - val_accuracy: 0.7917\n",
            "Epoch 62/200\n",
            "24/24 [==============================] - 0s 5ms/step - loss: 0.6666 - accuracy: 0.7493 - val_loss: 0.5166 - val_accuracy: 0.7500\n",
            "Epoch 63/200\n",
            "24/24 [==============================] - 0s 5ms/step - loss: 0.6120 - accuracy: 0.7678 - val_loss: 0.4748 - val_accuracy: 0.7917\n",
            "Epoch 64/200\n",
            "24/24 [==============================] - 0s 5ms/step - loss: 0.6752 - accuracy: 0.7441 - val_loss: 0.4697 - val_accuracy: 0.8125\n",
            "Epoch 65/200\n",
            "24/24 [==============================] - 0s 5ms/step - loss: 0.6135 - accuracy: 0.7757 - val_loss: 0.5003 - val_accuracy: 0.7708\n",
            "Epoch 66/200\n",
            "24/24 [==============================] - 0s 5ms/step - loss: 0.6244 - accuracy: 0.7652 - val_loss: 0.5017 - val_accuracy: 0.7708\n",
            "Epoch 67/200\n",
            "24/24 [==============================] - 0s 5ms/step - loss: 0.6424 - accuracy: 0.7836 - val_loss: 0.5216 - val_accuracy: 0.7500\n",
            "Epoch 68/200\n",
            "24/24 [==============================] - 0s 5ms/step - loss: 0.6738 - accuracy: 0.7335 - val_loss: 0.5185 - val_accuracy: 0.7500\n",
            "Epoch 69/200\n",
            "24/24 [==============================] - 0s 4ms/step - loss: 0.6425 - accuracy: 0.7520 - val_loss: 0.5527 - val_accuracy: 0.7292\n",
            "Epoch 70/200\n",
            "24/24 [==============================] - 0s 5ms/step - loss: 0.6027 - accuracy: 0.7995 - val_loss: 0.4720 - val_accuracy: 0.7500\n",
            "Epoch 71/200\n",
            "24/24 [==============================] - 0s 5ms/step - loss: 0.6137 - accuracy: 0.7625 - val_loss: 0.4199 - val_accuracy: 0.8125\n",
            "Epoch 72/200\n",
            "24/24 [==============================] - 0s 5ms/step - loss: 0.7012 - accuracy: 0.7520 - val_loss: 0.4614 - val_accuracy: 0.7708\n",
            "Epoch 73/200\n",
            "24/24 [==============================] - 0s 5ms/step - loss: 0.6025 - accuracy: 0.7731 - val_loss: 0.4601 - val_accuracy: 0.7917\n",
            "Epoch 74/200\n",
            "24/24 [==============================] - 0s 5ms/step - loss: 0.5974 - accuracy: 0.7652 - val_loss: 0.4768 - val_accuracy: 0.8125\n",
            "Epoch 75/200\n",
            "24/24 [==============================] - 0s 5ms/step - loss: 0.5789 - accuracy: 0.7995 - val_loss: 0.5023 - val_accuracy: 0.7500\n",
            "Epoch 76/200\n",
            "24/24 [==============================] - 0s 5ms/step - loss: 0.6094 - accuracy: 0.7810 - val_loss: 0.5163 - val_accuracy: 0.7500\n",
            "Epoch 77/200\n",
            "24/24 [==============================] - 0s 5ms/step - loss: 0.5913 - accuracy: 0.7784 - val_loss: 0.4629 - val_accuracy: 0.7917\n",
            "Epoch 78/200\n",
            "24/24 [==============================] - 0s 4ms/step - loss: 0.6264 - accuracy: 0.7573 - val_loss: 0.4637 - val_accuracy: 0.8125\n",
            "Epoch 79/200\n",
            "24/24 [==============================] - 0s 5ms/step - loss: 0.6113 - accuracy: 0.7678 - val_loss: 0.4531 - val_accuracy: 0.8125\n",
            "Epoch 80/200\n",
            "24/24 [==============================] - 0s 5ms/step - loss: 0.5688 - accuracy: 0.7784 - val_loss: 0.4886 - val_accuracy: 0.7917\n",
            "Epoch 81/200\n",
            "24/24 [==============================] - 0s 5ms/step - loss: 0.6201 - accuracy: 0.7441 - val_loss: 0.4825 - val_accuracy: 0.7917\n",
            "Epoch 82/200\n",
            "24/24 [==============================] - 0s 5ms/step - loss: 0.5815 - accuracy: 0.7678 - val_loss: 0.4402 - val_accuracy: 0.8333\n",
            "Epoch 83/200\n",
            "24/24 [==============================] - 0s 5ms/step - loss: 0.5975 - accuracy: 0.7678 - val_loss: 0.4315 - val_accuracy: 0.8333\n",
            "Epoch 84/200\n",
            "24/24 [==============================] - 0s 5ms/step - loss: 0.5477 - accuracy: 0.8127 - val_loss: 0.4638 - val_accuracy: 0.7917\n",
            "Epoch 85/200\n",
            "24/24 [==============================] - 0s 5ms/step - loss: 0.6547 - accuracy: 0.7678 - val_loss: 0.5106 - val_accuracy: 0.7500\n",
            "Epoch 86/200\n",
            "24/24 [==============================] - 0s 5ms/step - loss: 0.6217 - accuracy: 0.7388 - val_loss: 0.4556 - val_accuracy: 0.8125\n",
            "Epoch 87/200\n",
            "24/24 [==============================] - 0s 4ms/step - loss: 0.6092 - accuracy: 0.7731 - val_loss: 0.4424 - val_accuracy: 0.8333\n",
            "Epoch 88/200\n",
            "24/24 [==============================] - 0s 4ms/step - loss: 0.6355 - accuracy: 0.7414 - val_loss: 0.5032 - val_accuracy: 0.7708\n",
            "Epoch 89/200\n",
            "24/24 [==============================] - 0s 5ms/step - loss: 0.5785 - accuracy: 0.7889 - val_loss: 0.4936 - val_accuracy: 0.7500\n",
            "Epoch 90/200\n",
            "24/24 [==============================] - 0s 5ms/step - loss: 0.5691 - accuracy: 0.8047 - val_loss: 0.4846 - val_accuracy: 0.7708\n",
            "Epoch 91/200\n",
            "24/24 [==============================] - 0s 5ms/step - loss: 0.6809 - accuracy: 0.7546 - val_loss: 0.4742 - val_accuracy: 0.7917\n",
            "Epoch 92/200\n",
            "24/24 [==============================] - 0s 5ms/step - loss: 0.5644 - accuracy: 0.7889 - val_loss: 0.4334 - val_accuracy: 0.8333\n",
            "Epoch 93/200\n",
            "24/24 [==============================] - 0s 5ms/step - loss: 0.5743 - accuracy: 0.7652 - val_loss: 0.4162 - val_accuracy: 0.8333\n",
            "Epoch 94/200\n",
            "24/24 [==============================] - 0s 5ms/step - loss: 0.5328 - accuracy: 0.7995 - val_loss: 0.4567 - val_accuracy: 0.7917\n",
            "Epoch 95/200\n",
            "24/24 [==============================] - 0s 5ms/step - loss: 0.6267 - accuracy: 0.7599 - val_loss: 0.4413 - val_accuracy: 0.7917\n",
            "Epoch 96/200\n",
            "24/24 [==============================] - 0s 5ms/step - loss: 0.6262 - accuracy: 0.7863 - val_loss: 0.4544 - val_accuracy: 0.7292\n",
            "Epoch 97/200\n",
            "24/24 [==============================] - 0s 5ms/step - loss: 0.5739 - accuracy: 0.7599 - val_loss: 0.4565 - val_accuracy: 0.7292\n",
            "Epoch 98/200\n",
            "24/24 [==============================] - 0s 5ms/step - loss: 0.5664 - accuracy: 0.8021 - val_loss: 0.4309 - val_accuracy: 0.8125\n",
            "Epoch 99/200\n",
            "24/24 [==============================] - 0s 5ms/step - loss: 0.6078 - accuracy: 0.7599 - val_loss: 0.4200 - val_accuracy: 0.8333\n",
            "Epoch 100/200\n",
            "24/24 [==============================] - 0s 5ms/step - loss: 0.5185 - accuracy: 0.8100 - val_loss: 0.4220 - val_accuracy: 0.8125\n",
            "Epoch 101/200\n",
            "24/24 [==============================] - 0s 5ms/step - loss: 0.5824 - accuracy: 0.8232 - val_loss: 0.4479 - val_accuracy: 0.8125\n",
            "Epoch 102/200\n",
            "24/24 [==============================] - 0s 5ms/step - loss: 0.5631 - accuracy: 0.8074 - val_loss: 0.4832 - val_accuracy: 0.7708\n",
            "Epoch 103/200\n",
            "24/24 [==============================] - 0s 5ms/step - loss: 0.5972 - accuracy: 0.7784 - val_loss: 0.4665 - val_accuracy: 0.7500\n",
            "Epoch 104/200\n",
            "24/24 [==============================] - 0s 5ms/step - loss: 0.6220 - accuracy: 0.7546 - val_loss: 0.4546 - val_accuracy: 0.7917\n",
            "Epoch 105/200\n",
            "24/24 [==============================] - 0s 5ms/step - loss: 0.5389 - accuracy: 0.8100 - val_loss: 0.4510 - val_accuracy: 0.7917\n",
            "Epoch 106/200\n",
            "24/24 [==============================] - 0s 5ms/step - loss: 0.6083 - accuracy: 0.7652 - val_loss: 0.4419 - val_accuracy: 0.7917\n",
            "Epoch 107/200\n",
            "24/24 [==============================] - 0s 5ms/step - loss: 0.5235 - accuracy: 0.8259 - val_loss: 0.4289 - val_accuracy: 0.8333\n",
            "Epoch 108/200\n",
            "24/24 [==============================] - 0s 5ms/step - loss: 0.5662 - accuracy: 0.7916 - val_loss: 0.4242 - val_accuracy: 0.8333\n",
            "Epoch 109/200\n",
            "24/24 [==============================] - 0s 5ms/step - loss: 0.5741 - accuracy: 0.7810 - val_loss: 0.4449 - val_accuracy: 0.8333\n",
            "Epoch 110/200\n",
            "24/24 [==============================] - 0s 5ms/step - loss: 0.4702 - accuracy: 0.8285 - val_loss: 0.4232 - val_accuracy: 0.7917\n",
            "Epoch 111/200\n",
            "24/24 [==============================] - 0s 5ms/step - loss: 0.5236 - accuracy: 0.8179 - val_loss: 0.4275 - val_accuracy: 0.8333\n",
            "Epoch 112/200\n",
            "24/24 [==============================] - 0s 5ms/step - loss: 0.4848 - accuracy: 0.7968 - val_loss: 0.4492 - val_accuracy: 0.7917\n",
            "Epoch 113/200\n",
            "24/24 [==============================] - 0s 5ms/step - loss: 0.5857 - accuracy: 0.7836 - val_loss: 0.4579 - val_accuracy: 0.7917\n",
            "Epoch 114/200\n",
            "24/24 [==============================] - 0s 5ms/step - loss: 0.5570 - accuracy: 0.7968 - val_loss: 0.4488 - val_accuracy: 0.7917\n",
            "Epoch 115/200\n",
            "24/24 [==============================] - 0s 5ms/step - loss: 0.6121 - accuracy: 0.7810 - val_loss: 0.4266 - val_accuracy: 0.8125\n",
            "Epoch 116/200\n",
            "24/24 [==============================] - 0s 5ms/step - loss: 0.5879 - accuracy: 0.7704 - val_loss: 0.4084 - val_accuracy: 0.8333\n",
            "Epoch 117/200\n",
            "24/24 [==============================] - 0s 5ms/step - loss: 0.5145 - accuracy: 0.8100 - val_loss: 0.4059 - val_accuracy: 0.8333\n",
            "Epoch 118/200\n",
            "24/24 [==============================] - 0s 5ms/step - loss: 0.5373 - accuracy: 0.8021 - val_loss: 0.4227 - val_accuracy: 0.8125\n",
            "Epoch 119/200\n",
            "24/24 [==============================] - 0s 5ms/step - loss: 0.6077 - accuracy: 0.7784 - val_loss: 0.4201 - val_accuracy: 0.8125\n",
            "Epoch 120/200\n",
            "24/24 [==============================] - 0s 5ms/step - loss: 0.5279 - accuracy: 0.7942 - val_loss: 0.3786 - val_accuracy: 0.8542\n",
            "Epoch 121/200\n",
            "24/24 [==============================] - 0s 5ms/step - loss: 0.5716 - accuracy: 0.7784 - val_loss: 0.4076 - val_accuracy: 0.8333\n",
            "Epoch 122/200\n",
            "24/24 [==============================] - 0s 5ms/step - loss: 0.5688 - accuracy: 0.8047 - val_loss: 0.4655 - val_accuracy: 0.7917\n",
            "Epoch 123/200\n",
            "24/24 [==============================] - 0s 6ms/step - loss: 0.5691 - accuracy: 0.8074 - val_loss: 0.4440 - val_accuracy: 0.7708\n",
            "Epoch 124/200\n",
            "24/24 [==============================] - 0s 5ms/step - loss: 0.5595 - accuracy: 0.7889 - val_loss: 0.4414 - val_accuracy: 0.7917\n",
            "Epoch 125/200\n",
            "24/24 [==============================] - 0s 6ms/step - loss: 0.5289 - accuracy: 0.8100 - val_loss: 0.4318 - val_accuracy: 0.7708\n",
            "Epoch 126/200\n",
            "24/24 [==============================] - 0s 5ms/step - loss: 0.5758 - accuracy: 0.7968 - val_loss: 0.4411 - val_accuracy: 0.7708\n",
            "Epoch 127/200\n",
            "24/24 [==============================] - 0s 4ms/step - loss: 0.5936 - accuracy: 0.7757 - val_loss: 0.4352 - val_accuracy: 0.7708\n",
            "Epoch 128/200\n",
            "24/24 [==============================] - 0s 5ms/step - loss: 0.5546 - accuracy: 0.7995 - val_loss: 0.4065 - val_accuracy: 0.7708\n",
            "Epoch 129/200\n",
            "24/24 [==============================] - 0s 5ms/step - loss: 0.5554 - accuracy: 0.7916 - val_loss: 0.3983 - val_accuracy: 0.8333\n",
            "Epoch 130/200\n",
            "24/24 [==============================] - 0s 5ms/step - loss: 0.5913 - accuracy: 0.7863 - val_loss: 0.4133 - val_accuracy: 0.8125\n",
            "Epoch 131/200\n",
            "24/24 [==============================] - 0s 5ms/step - loss: 0.5741 - accuracy: 0.7889 - val_loss: 0.4176 - val_accuracy: 0.7917\n",
            "Epoch 132/200\n",
            "24/24 [==============================] - 0s 5ms/step - loss: 0.5897 - accuracy: 0.7836 - val_loss: 0.4399 - val_accuracy: 0.7708\n",
            "Epoch 133/200\n",
            "24/24 [==============================] - 0s 5ms/step - loss: 0.6453 - accuracy: 0.7493 - val_loss: 0.4422 - val_accuracy: 0.7917\n",
            "Epoch 134/200\n",
            "24/24 [==============================] - 0s 5ms/step - loss: 0.4925 - accuracy: 0.8311 - val_loss: 0.4192 - val_accuracy: 0.8333\n",
            "Epoch 135/200\n",
            "24/24 [==============================] - 0s 5ms/step - loss: 0.5277 - accuracy: 0.8047 - val_loss: 0.4235 - val_accuracy: 0.8125\n",
            "Epoch 136/200\n",
            "24/24 [==============================] - 0s 5ms/step - loss: 0.5387 - accuracy: 0.7968 - val_loss: 0.4435 - val_accuracy: 0.7917\n",
            "Epoch 137/200\n",
            "24/24 [==============================] - 0s 5ms/step - loss: 0.5087 - accuracy: 0.8153 - val_loss: 0.4278 - val_accuracy: 0.7917\n",
            "Epoch 138/200\n",
            "24/24 [==============================] - 0s 5ms/step - loss: 0.5390 - accuracy: 0.8074 - val_loss: 0.4026 - val_accuracy: 0.8333\n",
            "Epoch 139/200\n",
            "24/24 [==============================] - 0s 5ms/step - loss: 0.4955 - accuracy: 0.8259 - val_loss: 0.4415 - val_accuracy: 0.7917\n",
            "Epoch 140/200\n",
            "24/24 [==============================] - 0s 5ms/step - loss: 0.5268 - accuracy: 0.7995 - val_loss: 0.4714 - val_accuracy: 0.7917\n",
            "Epoch 141/200\n",
            "24/24 [==============================] - 0s 5ms/step - loss: 0.5248 - accuracy: 0.8047 - val_loss: 0.4166 - val_accuracy: 0.8125\n",
            "Epoch 142/200\n",
            "24/24 [==============================] - 0s 5ms/step - loss: 0.5725 - accuracy: 0.7810 - val_loss: 0.4000 - val_accuracy: 0.8333\n",
            "Epoch 143/200\n",
            "24/24 [==============================] - 0s 5ms/step - loss: 0.5548 - accuracy: 0.8021 - val_loss: 0.3940 - val_accuracy: 0.8333\n",
            "Epoch 144/200\n",
            "24/24 [==============================] - 0s 5ms/step - loss: 0.5215 - accuracy: 0.7916 - val_loss: 0.4340 - val_accuracy: 0.7917\n",
            "Epoch 145/200\n",
            "24/24 [==============================] - 0s 5ms/step - loss: 0.5788 - accuracy: 0.7836 - val_loss: 0.4061 - val_accuracy: 0.8125\n",
            "Epoch 146/200\n",
            "24/24 [==============================] - 0s 5ms/step - loss: 0.5529 - accuracy: 0.8127 - val_loss: 0.4252 - val_accuracy: 0.8333\n",
            "Epoch 147/200\n",
            "24/24 [==============================] - 0s 5ms/step - loss: 0.4984 - accuracy: 0.8074 - val_loss: 0.3946 - val_accuracy: 0.8333\n",
            "Epoch 148/200\n",
            "24/24 [==============================] - 0s 5ms/step - loss: 0.5612 - accuracy: 0.7784 - val_loss: 0.4256 - val_accuracy: 0.7917\n",
            "Epoch 149/200\n",
            "24/24 [==============================] - 0s 5ms/step - loss: 0.5329 - accuracy: 0.8311 - val_loss: 0.4201 - val_accuracy: 0.8125\n",
            "Epoch 150/200\n",
            "24/24 [==============================] - 0s 5ms/step - loss: 0.4858 - accuracy: 0.8364 - val_loss: 0.4425 - val_accuracy: 0.7917\n",
            "Epoch 151/200\n",
            "24/24 [==============================] - 0s 5ms/step - loss: 0.5206 - accuracy: 0.7968 - val_loss: 0.4682 - val_accuracy: 0.7500\n",
            "Epoch 152/200\n",
            "24/24 [==============================] - 0s 5ms/step - loss: 0.6353 - accuracy: 0.7810 - val_loss: 0.4301 - val_accuracy: 0.8125\n",
            "Epoch 153/200\n",
            "24/24 [==============================] - 0s 5ms/step - loss: 0.5630 - accuracy: 0.8047 - val_loss: 0.4047 - val_accuracy: 0.8542\n",
            "Epoch 154/200\n",
            "24/24 [==============================] - 0s 5ms/step - loss: 0.4895 - accuracy: 0.8179 - val_loss: 0.4070 - val_accuracy: 0.8125\n",
            "Epoch 155/200\n",
            "24/24 [==============================] - 0s 5ms/step - loss: 0.5266 - accuracy: 0.8100 - val_loss: 0.4307 - val_accuracy: 0.7917\n",
            "Epoch 156/200\n",
            "24/24 [==============================] - 0s 5ms/step - loss: 0.5735 - accuracy: 0.7889 - val_loss: 0.4324 - val_accuracy: 0.7917\n",
            "Epoch 157/200\n",
            "24/24 [==============================] - 0s 5ms/step - loss: 0.4884 - accuracy: 0.8391 - val_loss: 0.4542 - val_accuracy: 0.7708\n",
            "Epoch 158/200\n",
            "24/24 [==============================] - 0s 5ms/step - loss: 0.5410 - accuracy: 0.7995 - val_loss: 0.4394 - val_accuracy: 0.7708\n",
            "Epoch 159/200\n",
            "24/24 [==============================] - 0s 5ms/step - loss: 0.5098 - accuracy: 0.8232 - val_loss: 0.4173 - val_accuracy: 0.7917\n",
            "Epoch 160/200\n",
            "24/24 [==============================] - 0s 5ms/step - loss: 0.4602 - accuracy: 0.8206 - val_loss: 0.4034 - val_accuracy: 0.7917\n",
            "Epoch 161/200\n",
            "24/24 [==============================] - 0s 5ms/step - loss: 0.5295 - accuracy: 0.8047 - val_loss: 0.3676 - val_accuracy: 0.8125\n",
            "Epoch 162/200\n",
            "24/24 [==============================] - 0s 5ms/step - loss: 0.6111 - accuracy: 0.7836 - val_loss: 0.3749 - val_accuracy: 0.8125\n",
            "Epoch 163/200\n",
            "24/24 [==============================] - 0s 5ms/step - loss: 0.5309 - accuracy: 0.8074 - val_loss: 0.3780 - val_accuracy: 0.8333\n",
            "Epoch 164/200\n",
            "24/24 [==============================] - 0s 5ms/step - loss: 0.5013 - accuracy: 0.8285 - val_loss: 0.3870 - val_accuracy: 0.8125\n",
            "Epoch 165/200\n",
            "24/24 [==============================] - 0s 5ms/step - loss: 0.5945 - accuracy: 0.7836 - val_loss: 0.4347 - val_accuracy: 0.7917\n",
            "Epoch 166/200\n",
            "24/24 [==============================] - 0s 5ms/step - loss: 0.5279 - accuracy: 0.7863 - val_loss: 0.4539 - val_accuracy: 0.7708\n",
            "Epoch 167/200\n",
            "24/24 [==============================] - 0s 5ms/step - loss: 0.6162 - accuracy: 0.7916 - val_loss: 0.4430 - val_accuracy: 0.7708\n",
            "Epoch 168/200\n",
            "24/24 [==============================] - 0s 5ms/step - loss: 0.5068 - accuracy: 0.8153 - val_loss: 0.4225 - val_accuracy: 0.7917\n",
            "Epoch 169/200\n",
            "24/24 [==============================] - 0s 5ms/step - loss: 0.5538 - accuracy: 0.8047 - val_loss: 0.4062 - val_accuracy: 0.7708\n",
            "Epoch 170/200\n",
            "24/24 [==============================] - 0s 5ms/step - loss: 0.5127 - accuracy: 0.8021 - val_loss: 0.4073 - val_accuracy: 0.7917\n",
            "Epoch 171/200\n",
            "24/24 [==============================] - 0s 5ms/step - loss: 0.5326 - accuracy: 0.7942 - val_loss: 0.4381 - val_accuracy: 0.7708\n",
            "Epoch 172/200\n",
            "24/24 [==============================] - 0s 5ms/step - loss: 0.5464 - accuracy: 0.8021 - val_loss: 0.4368 - val_accuracy: 0.7917\n",
            "Epoch 173/200\n",
            "24/24 [==============================] - 0s 5ms/step - loss: 0.5661 - accuracy: 0.7863 - val_loss: 0.4244 - val_accuracy: 0.8125\n",
            "Epoch 174/200\n",
            "24/24 [==============================] - 0s 5ms/step - loss: 0.5254 - accuracy: 0.8047 - val_loss: 0.3971 - val_accuracy: 0.7917\n",
            "Epoch 175/200\n",
            "24/24 [==============================] - 0s 5ms/step - loss: 0.4432 - accuracy: 0.8364 - val_loss: 0.4210 - val_accuracy: 0.7917\n",
            "Epoch 176/200\n",
            "24/24 [==============================] - 0s 5ms/step - loss: 0.5463 - accuracy: 0.8100 - val_loss: 0.4168 - val_accuracy: 0.8125\n",
            "Epoch 177/200\n",
            "24/24 [==============================] - 0s 5ms/step - loss: 0.5742 - accuracy: 0.7889 - val_loss: 0.4284 - val_accuracy: 0.7917\n",
            "Epoch 178/200\n",
            "24/24 [==============================] - 0s 5ms/step - loss: 0.4917 - accuracy: 0.8127 - val_loss: 0.4110 - val_accuracy: 0.8333\n",
            "Epoch 179/200\n",
            "24/24 [==============================] - 0s 5ms/step - loss: 0.5093 - accuracy: 0.8047 - val_loss: 0.4167 - val_accuracy: 0.8125\n",
            "Epoch 180/200\n",
            "24/24 [==============================] - 0s 6ms/step - loss: 0.4759 - accuracy: 0.8127 - val_loss: 0.4210 - val_accuracy: 0.7917\n",
            "Epoch 181/200\n",
            "24/24 [==============================] - 0s 5ms/step - loss: 0.5159 - accuracy: 0.8127 - val_loss: 0.4125 - val_accuracy: 0.8125\n",
            "Epoch 182/200\n",
            "24/24 [==============================] - 0s 5ms/step - loss: 0.5063 - accuracy: 0.8232 - val_loss: 0.4421 - val_accuracy: 0.7917\n",
            "Epoch 183/200\n",
            "24/24 [==============================] - 0s 5ms/step - loss: 0.4693 - accuracy: 0.8311 - val_loss: 0.3950 - val_accuracy: 0.8333\n",
            "Epoch 184/200\n",
            "24/24 [==============================] - 0s 5ms/step - loss: 0.5347 - accuracy: 0.7995 - val_loss: 0.3964 - val_accuracy: 0.8333\n",
            "Epoch 185/200\n",
            "24/24 [==============================] - 0s 6ms/step - loss: 0.5647 - accuracy: 0.7942 - val_loss: 0.3924 - val_accuracy: 0.8333\n",
            "Epoch 186/200\n",
            "24/24 [==============================] - 0s 5ms/step - loss: 0.5286 - accuracy: 0.8047 - val_loss: 0.3929 - val_accuracy: 0.8542\n",
            "Epoch 187/200\n",
            "24/24 [==============================] - 0s 5ms/step - loss: 0.4981 - accuracy: 0.8153 - val_loss: 0.4135 - val_accuracy: 0.7917\n",
            "Epoch 188/200\n",
            "24/24 [==============================] - 0s 6ms/step - loss: 0.5425 - accuracy: 0.7916 - val_loss: 0.4041 - val_accuracy: 0.7917\n",
            "Epoch 189/200\n",
            "24/24 [==============================] - 0s 5ms/step - loss: 0.5001 - accuracy: 0.8074 - val_loss: 0.4156 - val_accuracy: 0.7917\n",
            "Epoch 190/200\n",
            "24/24 [==============================] - 0s 5ms/step - loss: 0.6097 - accuracy: 0.7810 - val_loss: 0.4143 - val_accuracy: 0.7917\n",
            "Epoch 191/200\n",
            "24/24 [==============================] - 0s 5ms/step - loss: 0.4609 - accuracy: 0.8285 - val_loss: 0.4200 - val_accuracy: 0.8125\n",
            "Epoch 192/200\n",
            "24/24 [==============================] - 0s 5ms/step - loss: 0.5339 - accuracy: 0.7995 - val_loss: 0.3985 - val_accuracy: 0.8125\n",
            "Epoch 193/200\n",
            "24/24 [==============================] - 0s 5ms/step - loss: 0.5590 - accuracy: 0.7968 - val_loss: 0.4014 - val_accuracy: 0.7917\n",
            "Epoch 194/200\n",
            "24/24 [==============================] - 0s 5ms/step - loss: 0.5826 - accuracy: 0.7889 - val_loss: 0.4018 - val_accuracy: 0.7917\n",
            "Epoch 195/200\n",
            "24/24 [==============================] - 0s 5ms/step - loss: 0.5748 - accuracy: 0.7889 - val_loss: 0.4130 - val_accuracy: 0.8125\n",
            "Epoch 196/200\n",
            "24/24 [==============================] - 0s 6ms/step - loss: 0.5437 - accuracy: 0.7942 - val_loss: 0.4063 - val_accuracy: 0.7917\n",
            "Epoch 197/200\n",
            "24/24 [==============================] - 0s 5ms/step - loss: 0.5321 - accuracy: 0.8021 - val_loss: 0.4375 - val_accuracy: 0.8125\n",
            "Epoch 198/200\n",
            "24/24 [==============================] - 0s 5ms/step - loss: 0.5191 - accuracy: 0.8179 - val_loss: 0.4186 - val_accuracy: 0.8125\n",
            "Epoch 199/200\n",
            "24/24 [==============================] - 0s 5ms/step - loss: 0.5501 - accuracy: 0.7968 - val_loss: 0.4701 - val_accuracy: 0.7708\n",
            "Epoch 200/200\n",
            "24/24 [==============================] - 0s 5ms/step - loss: 0.4814 - accuracy: 0.8021 - val_loss: 0.4180 - val_accuracy: 0.7917\n",
            "Minimum Validation Loss: 0.3676\n"
          ]
        },
        {
          "output_type": "display_data",
          "data": {
            "image/png": "[encoded data removed]",
            "text/plain": [
              "<Figure size 432x288 with 1 Axes>"
            ]
          },
          "metadata": {
            "needs_background": "light"
          }
        },
        {
          "output_type": "display_data",
          "data": {
            "image/png": "[encoded data removed]",
            "text/plain": [
              "<Figure size 432x288 with 1 Axes>"
            ]
          },
          "metadata": {
            "needs_background": "light"
          }
        }
      ]
    },
    {
      "cell_type": "code",
      "source": [
        "#made predictions on x_test\n",
        "y_pred_ann = model.predict(X_test)"
      ],
      "metadata": {
        "id": "euwt2vsq9q34"
      },
      "execution_count": 97,
      "outputs": []
    },
    {
      "cell_type": "code",
      "source": [
        ""
      ],
      "metadata": {
        "id": "ZENFpzNlzkit"
      },
      "execution_count": 97,
      "outputs": []
    }
  ]
}