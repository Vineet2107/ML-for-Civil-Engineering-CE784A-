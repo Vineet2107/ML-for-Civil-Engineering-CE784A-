{
  "nbformat": 4,
  "nbformat_minor": 0,
  "metadata": {
    "colab": {
      "name": "Assignment2_TMD_CE784.ipynb",
      "provenance": [],
      "mount_file_id": "https://github.com/Vineet2107/ML-for-Civil-Enfineering-CE784A-/blob/main/Assignment2_TMD_CE784.ipynb",
      "authorship_tag": "ABX9TyPIPsC9mgnx7rSFIAll5Pcv",
      "include_colab_link": true
    },
    "kernelspec": {
      "name": "python3",
      "display_name": "Python 3"
    },
    "language_info": {
      "name": "python"
    }
  },
  "cells": [
    {
      "cell_type": "markdown",
      "metadata": {
        "id": "view-in-github",
        "colab_type": "text"
      },
      "source": [
        "<a href=\"https://colab.research.google.com/github/Vineet2107/ML-for-Civil-Enfineering-CE784A-/blob/main/Assignment2_TMD_CE784.ipynb\" target=\"_parent\"><img src=\"https://colab.research.google.com/assets/colab-badge.svg\" alt=\"Open In Colab\"/></a>"
      ]
    },
    {
      "cell_type": "code",
      "execution_count": 18,
      "metadata": {
        "id": "IsLuv7T7EIZy"
      },
      "outputs": [],
      "source": [
        "import numpy as np\n",
        "import pandas as pd\n",
        "import matplotlib.pyplot as plt\n"
      ]
    },
    {
      "cell_type": "code",
      "source": [
        "from google.colab import drive\n",
        "drive.mount('/content/drive')"
      ],
      "metadata": {
        "id": "ydR1EZVq5b5x",
        "outputId": "13993145-1951-45ae-eae1-df52ed9fb6e3",
        "colab": {
          "base_uri": "https://localhost:8080/"
        }
      },
      "execution_count": 19,
      "outputs": [
        {
          "output_type": "stream",
          "name": "stdout",
          "text": [
            "Drive already mounted at /content/drive; to attempt to forcibly remount, call drive.mount(\"/content/drive\", force_remount=True).\n"
          ]
        }
      ]
    },
    {
      "cell_type": "code",
      "source": [
        "df = pd.read_csv('/content/drive/MyDrive/1b80ce01455252fb312ac516e738750eeef007f14ef9c8f64e4431fe3f495dd9_cleaned/cleaned.csv')"
      ],
      "metadata": {
        "id": "1uJoEHwpEhYO"
      },
      "execution_count": 20,
      "outputs": []
    },
    {
      "cell_type": "code",
      "source": [
        "df.head()"
      ],
      "metadata": {
        "colab": {
          "base_uri": "https://localhost:8080/",
          "height": 206
        },
        "id": "_iQ_tF6uEsVH",
        "outputId": "5c1fc655-7144-49c9-bdbf-cce4b88cedc7"
      },
      "execution_count": 35,
      "outputs": [
        {
          "output_type": "execute_result",
          "data": {
            "text/html": [
              "\n",
              "  <div id=\"df-0daeaee4-6fc1-4967-aed5-cf12b1045368\">\n",
              "    <div class=\"colab-df-container\">\n",
              "      <div>\n",
              "<style scoped>\n",
              "    .dataframe tbody tr th:only-of-type {\n",
              "        vertical-align: middle;\n",
              "    }\n",
              "\n",
              "    .dataframe tbody tr th {\n",
              "        vertical-align: top;\n",
              "    }\n",
              "\n",
              "    .dataframe thead th {\n",
              "        text-align: right;\n",
              "    }\n",
              "</style>\n",
              "<table border=\"1\" class=\"dataframe\">\n",
              "  <thead>\n",
              "    <tr style=\"text-align: right;\">\n",
              "      <th></th>\n",
              "      <th>user</th>\n",
              "      <th>timestamp</th>\n",
              "      <th>x</th>\n",
              "      <th>y</th>\n",
              "      <th>z</th>\n",
              "      <th>class</th>\n",
              "      <th>time_s</th>\n",
              "      <th>time_d</th>\n",
              "    </tr>\n",
              "  </thead>\n",
              "  <tbody>\n",
              "    <tr>\n",
              "      <th>0</th>\n",
              "      <td>a2d80ed662f34d32951eb1c6ed076c313e358b73</td>\n",
              "      <td>2018-06-04 16:26:55</td>\n",
              "      <td>0.78</td>\n",
              "      <td>-9.13</td>\n",
              "      <td>-3.74</td>\n",
              "      <td>bus</td>\n",
              "      <td>NaT</td>\n",
              "      <td>NaN</td>\n",
              "    </tr>\n",
              "    <tr>\n",
              "      <th>1</th>\n",
              "      <td>a2d80ed662f34d32951eb1c6ed076c313e358b73</td>\n",
              "      <td>2018-06-04 16:26:55</td>\n",
              "      <td>0.79</td>\n",
              "      <td>-9.11</td>\n",
              "      <td>-3.75</td>\n",
              "      <td>bus</td>\n",
              "      <td>2018-06-04 16:26:55</td>\n",
              "      <td>0.0</td>\n",
              "    </tr>\n",
              "    <tr>\n",
              "      <th>2</th>\n",
              "      <td>a2d80ed662f34d32951eb1c6ed076c313e358b73</td>\n",
              "      <td>2018-06-04 16:26:55</td>\n",
              "      <td>0.80</td>\n",
              "      <td>-9.12</td>\n",
              "      <td>-3.75</td>\n",
              "      <td>bus</td>\n",
              "      <td>2018-06-04 16:26:55</td>\n",
              "      <td>0.0</td>\n",
              "    </tr>\n",
              "    <tr>\n",
              "      <th>3</th>\n",
              "      <td>a2d80ed662f34d32951eb1c6ed076c313e358b73</td>\n",
              "      <td>2018-06-04 16:26:55</td>\n",
              "      <td>0.78</td>\n",
              "      <td>-9.14</td>\n",
              "      <td>-3.76</td>\n",
              "      <td>bus</td>\n",
              "      <td>2018-06-04 16:26:55</td>\n",
              "      <td>0.0</td>\n",
              "    </tr>\n",
              "    <tr>\n",
              "      <th>4</th>\n",
              "      <td>a2d80ed662f34d32951eb1c6ed076c313e358b73</td>\n",
              "      <td>2018-06-04 16:26:55</td>\n",
              "      <td>0.83</td>\n",
              "      <td>-9.12</td>\n",
              "      <td>-3.80</td>\n",
              "      <td>bus</td>\n",
              "      <td>2018-06-04 16:26:55</td>\n",
              "      <td>0.0</td>\n",
              "    </tr>\n",
              "  </tbody>\n",
              "</table>\n",
              "</div>\n",
              "      <button class=\"colab-df-convert\" onclick=\"convertToInteractive('df-0daeaee4-6fc1-4967-aed5-cf12b1045368')\"\n",
              "              title=\"Convert this dataframe to an interactive table.\"\n",
              "              style=\"display:none;\">\n",
              "        \n",
              "  <svg xmlns=\"http://www.w3.org/2000/svg\" height=\"24px\"viewBox=\"0 0 24 24\"\n",
              "       width=\"24px\">\n",
              "    <path d=\"M0 0h24v24H0V0z\" fill=\"none\"/>\n",
              "    <path d=\"M18.56 5.44l.94 2.06.94-2.06 2.06-.94-2.06-.94-.94-2.06-.94 2.06-2.06.94zm-11 1L8.5 8.5l.94-2.06 2.06-.94-2.06-.94L8.5 2.5l-.94 2.06-2.06.94zm10 10l.94 2.06.94-2.06 2.06-.94-2.06-.94-.94-2.06-.94 2.06-2.06.94z\"/><path d=\"M17.41 7.96l-1.37-1.37c-.4-.4-.92-.59-1.43-.59-.52 0-1.04.2-1.43.59L10.3 9.45l-7.72 7.72c-.78.78-.78 2.05 0 2.83L4 21.41c.39.39.9.59 1.41.59.51 0 1.02-.2 1.41-.59l7.78-7.78 2.81-2.81c.8-.78.8-2.07 0-2.86zM5.41 20L4 18.59l7.72-7.72 1.47 1.35L5.41 20z\"/>\n",
              "  </svg>\n",
              "      </button>\n",
              "      \n",
              "  <style>\n",
              "    .colab-df-container {\n",
              "      display:flex;\n",
              "      flex-wrap:wrap;\n",
              "      gap: 12px;\n",
              "    }\n",
              "\n",
              "    .colab-df-convert {\n",
              "      background-color: #E8F0FE;\n",
              "      border: none;\n",
              "      border-radius: 50%;\n",
              "      cursor: pointer;\n",
              "      display: none;\n",
              "      fill: #1967D2;\n",
              "      height: 32px;\n",
              "      padding: 0 0 0 0;\n",
              "      width: 32px;\n",
              "    }\n",
              "\n",
              "    .colab-df-convert:hover {\n",
              "      background-color: #E2EBFA;\n",
              "      box-shadow: 0px 1px 2px rgba(60, 64, 67, 0.3), 0px 1px 3px 1px rgba(60, 64, 67, 0.15);\n",
              "      fill: #174EA6;\n",
              "    }\n",
              "\n",
              "    [theme=dark] .colab-df-convert {\n",
              "      background-color: #3B4455;\n",
              "      fill: #D2E3FC;\n",
              "    }\n",
              "\n",
              "    [theme=dark] .colab-df-convert:hover {\n",
              "      background-color: #434B5C;\n",
              "      box-shadow: 0px 1px 3px 1px rgba(0, 0, 0, 0.15);\n",
              "      filter: drop-shadow(0px 1px 2px rgba(0, 0, 0, 0.3));\n",
              "      fill: #FFFFFF;\n",
              "    }\n",
              "  </style>\n",
              "\n",
              "      <script>\n",
              "        const buttonEl =\n",
              "          document.querySelector('#df-0daeaee4-6fc1-4967-aed5-cf12b1045368 button.colab-df-convert');\n",
              "        buttonEl.style.display =\n",
              "          google.colab.kernel.accessAllowed ? 'block' : 'none';\n",
              "\n",
              "        async function convertToInteractive(key) {\n",
              "          const element = document.querySelector('#df-0daeaee4-6fc1-4967-aed5-cf12b1045368');\n",
              "          const dataTable =\n",
              "            await google.colab.kernel.invokeFunction('convertToInteractive',\n",
              "                                                     [key], {});\n",
              "          if (!dataTable) return;\n",
              "\n",
              "          const docLinkHtml = 'Like what you see? Visit the ' +\n",
              "            '<a target=\"_blank\" href=https://colab.research.google.com/notebooks/data_table.ipynb>data table notebook</a>'\n",
              "            + ' to learn more about interactive tables.';\n",
              "          element.innerHTML = '';\n",
              "          dataTable['output_type'] = 'display_data';\n",
              "          await google.colab.output.renderOutput(dataTable, element);\n",
              "          const docLink = document.createElement('div');\n",
              "          docLink.innerHTML = docLinkHtml;\n",
              "          element.appendChild(docLink);\n",
              "        }\n",
              "      </script>\n",
              "    </div>\n",
              "  </div>\n",
              "  "
            ],
            "text/plain": [
              "                                       user           timestamp     x     y  \\\n",
              "0  a2d80ed662f34d32951eb1c6ed076c313e358b73 2018-06-04 16:26:55  0.78 -9.13   \n",
              "1  a2d80ed662f34d32951eb1c6ed076c313e358b73 2018-06-04 16:26:55  0.79 -9.11   \n",
              "2  a2d80ed662f34d32951eb1c6ed076c313e358b73 2018-06-04 16:26:55  0.80 -9.12   \n",
              "3  a2d80ed662f34d32951eb1c6ed076c313e358b73 2018-06-04 16:26:55  0.78 -9.14   \n",
              "4  a2d80ed662f34d32951eb1c6ed076c313e358b73 2018-06-04 16:26:55  0.83 -9.12   \n",
              "\n",
              "      z class              time_s  time_d  \n",
              "0 -3.74   bus                 NaT     NaN  \n",
              "1 -3.75   bus 2018-06-04 16:26:55     0.0  \n",
              "2 -3.75   bus 2018-06-04 16:26:55     0.0  \n",
              "3 -3.76   bus 2018-06-04 16:26:55     0.0  \n",
              "4 -3.80   bus 2018-06-04 16:26:55     0.0  "
            ]
          },
          "metadata": {},
          "execution_count": 35
        }
      ]
    },
    {
      "cell_type": "code",
      "source": [
        "print(len(df.user.unique())) #number of unique useers\n",
        "print(df.user.unique()) # userID of unique users"
      ],
      "metadata": {
        "colab": {
          "base_uri": "https://localhost:8080/"
        },
        "id": "z2uTy0_AExq6",
        "outputId": "1af12c6e-35b0-4ec4-d0fb-236dfff594cd"
      },
      "execution_count": 36,
      "outputs": [
        {
          "output_type": "stream",
          "name": "stdout",
          "text": [
            "32\n",
            "['a2d80ed662f34d32951eb1c6ed076c313e358b73'\n",
            " 'a526f3566e9c9024dfa7378eb4291d787a09fd37'\n",
            " 'a59868c6eb3645eedbb343ce8c336ec6f2ef2324'\n",
            " 'a92dee88f61123f923dccec01eeecf1a81953b36'\n",
            " 'ac4c17afeb69b39169eb301ab592696a8f353976'\n",
            " 'adaaae1a67ea9e43abd60ba945eccda0cb8821e0'\n",
            " 'b138d165100ef60bc793cac143742eb5aea4d6ba'\n",
            " 'b45157069942d01310c3e7b74034166717bb25f9'\n",
            " 'b7b165e5637b5a0226068d907748f4bbfc61a320'\n",
            " 'c453226e3616ae821cdcb38f38481c2a20f2482f'\n",
            " 'c5702d34b238fe68683f818e82cd3a3cd8a16366'\n",
            " 'ca7950f223a8037b897d0547075dc138f9e43b20'\n",
            " 'cace4ec0999436917986b4fa6e9317262c897bc2'\n",
            " 'cbde60baea002b694ecf2a3ff2d95be16b00efe1'\n",
            " 'ce39f5d0705695fcd70a04ba6d84ac6beecd6f9c'\n",
            " 'd429974540bfd38c3367fe9f0c8682775ff4fa18'\n",
            " 'd7a1230d94f91a32cc079809748e52e8a4a6a22f'\n",
            " 'd7dd12d83c81574137f858034b99f4cc83ab0718'\n",
            " 'd8c047eaaee204b7b5cd71e2d67308b87b038ed3'\n",
            " 'dc0bdce306ec3b624fe0e6ecd1ffbd82cb970120'\n",
            " 'dd82e3df4bebc74ed6b67877be79e29f401c16a3'\n",
            " 'dde95e125d89843f7032baa734ee4d34ec775aaf'\n",
            " 'de9892b879c83ea3d24fb4560873107cc4e86d48'\n",
            " 'dfcfc0404691b73b69884073159f90843f2ac35b'\n",
            " 'e429a95c532f1117130c11e4a18379d84fa4ffa9'\n",
            " 'eb9e7854290fd6ea9ebaf448b640fc1f1dbeb076'\n",
            " 'ecfb0929250fb6dda66a4065441230ab27f094e5'\n",
            " 'ed623d28c1e0071632a6110b8f8ed93f8af78b99'\n",
            " 'f1b7331b66e404c11eebb22933e733117bbb12c9'\n",
            " 'f5edd999397145a2ec1b244226fc83f99631760c'\n",
            " 'f7ae1ce141c26db40ea8b090fb568a0c965310aa'\n",
            " 'faae5be800be2dfa897eea0bd2e5988cd53c4ec0']\n"
          ]
        }
      ]
    },
    {
      "cell_type": "code",
      "source": [
        "df.info()"
      ],
      "metadata": {
        "colab": {
          "base_uri": "https://localhost:8080/"
        },
        "id": "ANRwWJq9FQvs",
        "outputId": "a1973a63-38a4-4208-aa16-85de41622867"
      },
      "execution_count": 37,
      "outputs": [
        {
          "output_type": "stream",
          "name": "stdout",
          "text": [
            "<class 'pandas.core.frame.DataFrame'>\n",
            "RangeIndex: 5653053 entries, 0 to 5653052\n",
            "Data columns (total 8 columns):\n",
            " #   Column     Dtype         \n",
            "---  ------     -----         \n",
            " 0   user       object        \n",
            " 1   timestamp  datetime64[ns]\n",
            " 2   x          float64       \n",
            " 3   y          float64       \n",
            " 4   z          float64       \n",
            " 5   class      object        \n",
            " 6   time_s     datetime64[ns]\n",
            " 7   time_d     float64       \n",
            "dtypes: datetime64[ns](2), float64(4), object(2)\n",
            "memory usage: 345.0+ MB\n"
          ]
        }
      ]
    },
    {
      "cell_type": "code",
      "source": [
        "len(df['user'])\n"
      ],
      "metadata": {
        "colab": {
          "base_uri": "https://localhost:8080/"
        },
        "id": "MOZWg8ODF7Vt",
        "outputId": "b1eae4c0-2669-4820-af11-174c1ad26d73"
      },
      "execution_count": 38,
      "outputs": [
        {
          "output_type": "execute_result",
          "data": {
            "text/plain": [
              "5653053"
            ]
          },
          "metadata": {},
          "execution_count": 38
        }
      ]
    },
    {
      "cell_type": "code",
      "source": [
        "\n",
        "user_c=[]\n",
        "for i in range(len(df['user'])-1):\n",
        "  if (df['user'][i] != df['user'][i+1]):\n",
        "    user_c.append(1)\n",
        "  else:\n",
        "    user_c.append(0)\n",
        "user_c.append(1)\n",
        "df['user_c'] = user_c"
      ],
      "metadata": {
        "id": "5zur8Fhm3GBG"
      },
      "execution_count": 39,
      "outputs": []
    },
    {
      "cell_type": "code",
      "source": [
        "sum(df['user_c'])"
      ],
      "metadata": {
        "id": "v2X2z213Ut9-",
        "outputId": "cccc6010-a4ec-4183-86ed-0e9511005aa0",
        "colab": {
          "base_uri": "https://localhost:8080/"
        }
      },
      "execution_count": 40,
      "outputs": [
        {
          "output_type": "execute_result",
          "data": {
            "text/plain": [
              "32"
            ]
          },
          "metadata": {},
          "execution_count": 40
        }
      ]
    },
    {
      "cell_type": "code",
      "source": [
        "class_c=[]\n",
        "for i in range(len(df['user'])-1):\n",
        "  if (df['class'][i] != df['class'][i+1]):\n",
        "    class_c.append(1)\n",
        "  else:\n",
        "    class_c.append(0)\n",
        "class_c.append(1)\n",
        "df['class_c'] = class_c"
      ],
      "metadata": {
        "id": "tHz4V7FM7pVl"
      },
      "execution_count": 41,
      "outputs": []
    },
    {
      "cell_type": "code",
      "source": [
        "sum(df['class_c'])"
      ],
      "metadata": {
        "id": "vIJedjA8UmMj",
        "outputId": "694aa05c-3be6-4c2b-f11a-bca947762855",
        "colab": {
          "base_uri": "https://localhost:8080/"
        }
      },
      "execution_count": 42,
      "outputs": [
        {
          "output_type": "execute_result",
          "data": {
            "text/plain": [
              "126"
            ]
          },
          "metadata": {},
          "execution_count": 42
        }
      ]
    },
    {
      "cell_type": "code",
      "source": [
        "df.head()"
      ],
      "metadata": {
        "id": "tWYaBths9z_B",
        "outputId": "d08e3cf3-fda2-4ab8-98d3-1f0e37056571",
        "colab": {
          "base_uri": "https://localhost:8080/",
          "height": 206
        }
      },
      "execution_count": 43,
      "outputs": [
        {
          "output_type": "execute_result",
          "data": {
            "text/html": [
              "\n",
              "  <div id=\"df-63d0d7c8-5df4-441a-9379-eda1a6fd6049\">\n",
              "    <div class=\"colab-df-container\">\n",
              "      <div>\n",
              "<style scoped>\n",
              "    .dataframe tbody tr th:only-of-type {\n",
              "        vertical-align: middle;\n",
              "    }\n",
              "\n",
              "    .dataframe tbody tr th {\n",
              "        vertical-align: top;\n",
              "    }\n",
              "\n",
              "    .dataframe thead th {\n",
              "        text-align: right;\n",
              "    }\n",
              "</style>\n",
              "<table border=\"1\" class=\"dataframe\">\n",
              "  <thead>\n",
              "    <tr style=\"text-align: right;\">\n",
              "      <th></th>\n",
              "      <th>user</th>\n",
              "      <th>timestamp</th>\n",
              "      <th>x</th>\n",
              "      <th>y</th>\n",
              "      <th>z</th>\n",
              "      <th>class</th>\n",
              "      <th>time_s</th>\n",
              "      <th>time_d</th>\n",
              "      <th>user_c</th>\n",
              "      <th>class_c</th>\n",
              "    </tr>\n",
              "  </thead>\n",
              "  <tbody>\n",
              "    <tr>\n",
              "      <th>0</th>\n",
              "      <td>a2d80ed662f34d32951eb1c6ed076c313e358b73</td>\n",
              "      <td>2018-06-04 16:26:55</td>\n",
              "      <td>0.78</td>\n",
              "      <td>-9.13</td>\n",
              "      <td>-3.74</td>\n",
              "      <td>bus</td>\n",
              "      <td>NaT</td>\n",
              "      <td>NaN</td>\n",
              "      <td>0</td>\n",
              "      <td>0</td>\n",
              "    </tr>\n",
              "    <tr>\n",
              "      <th>1</th>\n",
              "      <td>a2d80ed662f34d32951eb1c6ed076c313e358b73</td>\n",
              "      <td>2018-06-04 16:26:55</td>\n",
              "      <td>0.79</td>\n",
              "      <td>-9.11</td>\n",
              "      <td>-3.75</td>\n",
              "      <td>bus</td>\n",
              "      <td>2018-06-04 16:26:55</td>\n",
              "      <td>0.0</td>\n",
              "      <td>0</td>\n",
              "      <td>0</td>\n",
              "    </tr>\n",
              "    <tr>\n",
              "      <th>2</th>\n",
              "      <td>a2d80ed662f34d32951eb1c6ed076c313e358b73</td>\n",
              "      <td>2018-06-04 16:26:55</td>\n",
              "      <td>0.80</td>\n",
              "      <td>-9.12</td>\n",
              "      <td>-3.75</td>\n",
              "      <td>bus</td>\n",
              "      <td>2018-06-04 16:26:55</td>\n",
              "      <td>0.0</td>\n",
              "      <td>0</td>\n",
              "      <td>0</td>\n",
              "    </tr>\n",
              "    <tr>\n",
              "      <th>3</th>\n",
              "      <td>a2d80ed662f34d32951eb1c6ed076c313e358b73</td>\n",
              "      <td>2018-06-04 16:26:55</td>\n",
              "      <td>0.78</td>\n",
              "      <td>-9.14</td>\n",
              "      <td>-3.76</td>\n",
              "      <td>bus</td>\n",
              "      <td>2018-06-04 16:26:55</td>\n",
              "      <td>0.0</td>\n",
              "      <td>0</td>\n",
              "      <td>0</td>\n",
              "    </tr>\n",
              "    <tr>\n",
              "      <th>4</th>\n",
              "      <td>a2d80ed662f34d32951eb1c6ed076c313e358b73</td>\n",
              "      <td>2018-06-04 16:26:55</td>\n",
              "      <td>0.83</td>\n",
              "      <td>-9.12</td>\n",
              "      <td>-3.80</td>\n",
              "      <td>bus</td>\n",
              "      <td>2018-06-04 16:26:55</td>\n",
              "      <td>0.0</td>\n",
              "      <td>0</td>\n",
              "      <td>0</td>\n",
              "    </tr>\n",
              "  </tbody>\n",
              "</table>\n",
              "</div>\n",
              "      <button class=\"colab-df-convert\" onclick=\"convertToInteractive('df-63d0d7c8-5df4-441a-9379-eda1a6fd6049')\"\n",
              "              title=\"Convert this dataframe to an interactive table.\"\n",
              "              style=\"display:none;\">\n",
              "        \n",
              "  <svg xmlns=\"http://www.w3.org/2000/svg\" height=\"24px\"viewBox=\"0 0 24 24\"\n",
              "       width=\"24px\">\n",
              "    <path d=\"M0 0h24v24H0V0z\" fill=\"none\"/>\n",
              "    <path d=\"M18.56 5.44l.94 2.06.94-2.06 2.06-.94-2.06-.94-.94-2.06-.94 2.06-2.06.94zm-11 1L8.5 8.5l.94-2.06 2.06-.94-2.06-.94L8.5 2.5l-.94 2.06-2.06.94zm10 10l.94 2.06.94-2.06 2.06-.94-2.06-.94-.94-2.06-.94 2.06-2.06.94z\"/><path d=\"M17.41 7.96l-1.37-1.37c-.4-.4-.92-.59-1.43-.59-.52 0-1.04.2-1.43.59L10.3 9.45l-7.72 7.72c-.78.78-.78 2.05 0 2.83L4 21.41c.39.39.9.59 1.41.59.51 0 1.02-.2 1.41-.59l7.78-7.78 2.81-2.81c.8-.78.8-2.07 0-2.86zM5.41 20L4 18.59l7.72-7.72 1.47 1.35L5.41 20z\"/>\n",
              "  </svg>\n",
              "      </button>\n",
              "      \n",
              "  <style>\n",
              "    .colab-df-container {\n",
              "      display:flex;\n",
              "      flex-wrap:wrap;\n",
              "      gap: 12px;\n",
              "    }\n",
              "\n",
              "    .colab-df-convert {\n",
              "      background-color: #E8F0FE;\n",
              "      border: none;\n",
              "      border-radius: 50%;\n",
              "      cursor: pointer;\n",
              "      display: none;\n",
              "      fill: #1967D2;\n",
              "      height: 32px;\n",
              "      padding: 0 0 0 0;\n",
              "      width: 32px;\n",
              "    }\n",
              "\n",
              "    .colab-df-convert:hover {\n",
              "      background-color: #E2EBFA;\n",
              "      box-shadow: 0px 1px 2px rgba(60, 64, 67, 0.3), 0px 1px 3px 1px rgba(60, 64, 67, 0.15);\n",
              "      fill: #174EA6;\n",
              "    }\n",
              "\n",
              "    [theme=dark] .colab-df-convert {\n",
              "      background-color: #3B4455;\n",
              "      fill: #D2E3FC;\n",
              "    }\n",
              "\n",
              "    [theme=dark] .colab-df-convert:hover {\n",
              "      background-color: #434B5C;\n",
              "      box-shadow: 0px 1px 3px 1px rgba(0, 0, 0, 0.15);\n",
              "      filter: drop-shadow(0px 1px 2px rgba(0, 0, 0, 0.3));\n",
              "      fill: #FFFFFF;\n",
              "    }\n",
              "  </style>\n",
              "\n",
              "      <script>\n",
              "        const buttonEl =\n",
              "          document.querySelector('#df-63d0d7c8-5df4-441a-9379-eda1a6fd6049 button.colab-df-convert');\n",
              "        buttonEl.style.display =\n",
              "          google.colab.kernel.accessAllowed ? 'block' : 'none';\n",
              "\n",
              "        async function convertToInteractive(key) {\n",
              "          const element = document.querySelector('#df-63d0d7c8-5df4-441a-9379-eda1a6fd6049');\n",
              "          const dataTable =\n",
              "            await google.colab.kernel.invokeFunction('convertToInteractive',\n",
              "                                                     [key], {});\n",
              "          if (!dataTable) return;\n",
              "\n",
              "          const docLinkHtml = 'Like what you see? Visit the ' +\n",
              "            '<a target=\"_blank\" href=https://colab.research.google.com/notebooks/data_table.ipynb>data table notebook</a>'\n",
              "            + ' to learn more about interactive tables.';\n",
              "          element.innerHTML = '';\n",
              "          dataTable['output_type'] = 'display_data';\n",
              "          await google.colab.output.renderOutput(dataTable, element);\n",
              "          const docLink = document.createElement('div');\n",
              "          docLink.innerHTML = docLinkHtml;\n",
              "          element.appendChild(docLink);\n",
              "        }\n",
              "      </script>\n",
              "    </div>\n",
              "  </div>\n",
              "  "
            ],
            "text/plain": [
              "                                       user           timestamp     x     y  \\\n",
              "0  a2d80ed662f34d32951eb1c6ed076c313e358b73 2018-06-04 16:26:55  0.78 -9.13   \n",
              "1  a2d80ed662f34d32951eb1c6ed076c313e358b73 2018-06-04 16:26:55  0.79 -9.11   \n",
              "2  a2d80ed662f34d32951eb1c6ed076c313e358b73 2018-06-04 16:26:55  0.80 -9.12   \n",
              "3  a2d80ed662f34d32951eb1c6ed076c313e358b73 2018-06-04 16:26:55  0.78 -9.14   \n",
              "4  a2d80ed662f34d32951eb1c6ed076c313e358b73 2018-06-04 16:26:55  0.83 -9.12   \n",
              "\n",
              "      z class              time_s  time_d  user_c  class_c  \n",
              "0 -3.74   bus                 NaT     NaN       0        0  \n",
              "1 -3.75   bus 2018-06-04 16:26:55     0.0       0        0  \n",
              "2 -3.75   bus 2018-06-04 16:26:55     0.0       0        0  \n",
              "3 -3.76   bus 2018-06-04 16:26:55     0.0       0        0  \n",
              "4 -3.80   bus 2018-06-04 16:26:55     0.0       0        0  "
            ]
          },
          "metadata": {},
          "execution_count": 43
        }
      ]
    },
    {
      "cell_type": "code",
      "source": [
        "seq_c = []\n",
        "for i  in range(len(df['user'])-1):\n",
        "  if (df['class'][i] != df['class'][i+1] or df['user'][i] != df['user'][i+1]):\n",
        "    seq_c.append(1)\n",
        "  else :\n",
        "    seq_c.append(0)\n",
        "seq_c.append(1)\n",
        "df['seq_c'] = seq_c"
      ],
      "metadata": {
        "id": "2CNXpBy_-Hrg"
      },
      "execution_count": 44,
      "outputs": []
    },
    {
      "cell_type": "code",
      "source": [
        "sum(df['seq_c'])"
      ],
      "metadata": {
        "id": "moq-x4KCUanJ",
        "outputId": "28f16f3a-29ba-43ef-8f74-dc3c726a1302",
        "colab": {
          "base_uri": "https://localhost:8080/"
        }
      },
      "execution_count": 45,
      "outputs": [
        {
          "output_type": "execute_result",
          "data": {
            "text/plain": [
              "138"
            ]
          },
          "metadata": {},
          "execution_count": 45
        }
      ]
    },
    {
      "cell_type": "code",
      "source": [
        "df.head()"
      ],
      "metadata": {
        "id": "bPIQBnET-voD",
        "outputId": "8e7d2480-bcd9-4414-9cb0-56d944809e09",
        "colab": {
          "base_uri": "https://localhost:8080/",
          "height": 206
        }
      },
      "execution_count": 46,
      "outputs": [
        {
          "output_type": "execute_result",
          "data": {
            "text/html": [
              "\n",
              "  <div id=\"df-7ad0a23a-8495-4951-bead-7169884c70ae\">\n",
              "    <div class=\"colab-df-container\">\n",
              "      <div>\n",
              "<style scoped>\n",
              "    .dataframe tbody tr th:only-of-type {\n",
              "        vertical-align: middle;\n",
              "    }\n",
              "\n",
              "    .dataframe tbody tr th {\n",
              "        vertical-align: top;\n",
              "    }\n",
              "\n",
              "    .dataframe thead th {\n",
              "        text-align: right;\n",
              "    }\n",
              "</style>\n",
              "<table border=\"1\" class=\"dataframe\">\n",
              "  <thead>\n",
              "    <tr style=\"text-align: right;\">\n",
              "      <th></th>\n",
              "      <th>user</th>\n",
              "      <th>timestamp</th>\n",
              "      <th>x</th>\n",
              "      <th>y</th>\n",
              "      <th>z</th>\n",
              "      <th>class</th>\n",
              "      <th>time_s</th>\n",
              "      <th>time_d</th>\n",
              "      <th>user_c</th>\n",
              "      <th>class_c</th>\n",
              "      <th>seq_c</th>\n",
              "    </tr>\n",
              "  </thead>\n",
              "  <tbody>\n",
              "    <tr>\n",
              "      <th>0</th>\n",
              "      <td>a2d80ed662f34d32951eb1c6ed076c313e358b73</td>\n",
              "      <td>2018-06-04 16:26:55</td>\n",
              "      <td>0.78</td>\n",
              "      <td>-9.13</td>\n",
              "      <td>-3.74</td>\n",
              "      <td>bus</td>\n",
              "      <td>NaT</td>\n",
              "      <td>NaN</td>\n",
              "      <td>0</td>\n",
              "      <td>0</td>\n",
              "      <td>0</td>\n",
              "    </tr>\n",
              "    <tr>\n",
              "      <th>1</th>\n",
              "      <td>a2d80ed662f34d32951eb1c6ed076c313e358b73</td>\n",
              "      <td>2018-06-04 16:26:55</td>\n",
              "      <td>0.79</td>\n",
              "      <td>-9.11</td>\n",
              "      <td>-3.75</td>\n",
              "      <td>bus</td>\n",
              "      <td>2018-06-04 16:26:55</td>\n",
              "      <td>0.0</td>\n",
              "      <td>0</td>\n",
              "      <td>0</td>\n",
              "      <td>0</td>\n",
              "    </tr>\n",
              "    <tr>\n",
              "      <th>2</th>\n",
              "      <td>a2d80ed662f34d32951eb1c6ed076c313e358b73</td>\n",
              "      <td>2018-06-04 16:26:55</td>\n",
              "      <td>0.80</td>\n",
              "      <td>-9.12</td>\n",
              "      <td>-3.75</td>\n",
              "      <td>bus</td>\n",
              "      <td>2018-06-04 16:26:55</td>\n",
              "      <td>0.0</td>\n",
              "      <td>0</td>\n",
              "      <td>0</td>\n",
              "      <td>0</td>\n",
              "    </tr>\n",
              "    <tr>\n",
              "      <th>3</th>\n",
              "      <td>a2d80ed662f34d32951eb1c6ed076c313e358b73</td>\n",
              "      <td>2018-06-04 16:26:55</td>\n",
              "      <td>0.78</td>\n",
              "      <td>-9.14</td>\n",
              "      <td>-3.76</td>\n",
              "      <td>bus</td>\n",
              "      <td>2018-06-04 16:26:55</td>\n",
              "      <td>0.0</td>\n",
              "      <td>0</td>\n",
              "      <td>0</td>\n",
              "      <td>0</td>\n",
              "    </tr>\n",
              "    <tr>\n",
              "      <th>4</th>\n",
              "      <td>a2d80ed662f34d32951eb1c6ed076c313e358b73</td>\n",
              "      <td>2018-06-04 16:26:55</td>\n",
              "      <td>0.83</td>\n",
              "      <td>-9.12</td>\n",
              "      <td>-3.80</td>\n",
              "      <td>bus</td>\n",
              "      <td>2018-06-04 16:26:55</td>\n",
              "      <td>0.0</td>\n",
              "      <td>0</td>\n",
              "      <td>0</td>\n",
              "      <td>0</td>\n",
              "    </tr>\n",
              "  </tbody>\n",
              "</table>\n",
              "</div>\n",
              "      <button class=\"colab-df-convert\" onclick=\"convertToInteractive('df-7ad0a23a-8495-4951-bead-7169884c70ae')\"\n",
              "              title=\"Convert this dataframe to an interactive table.\"\n",
              "              style=\"display:none;\">\n",
              "        \n",
              "  <svg xmlns=\"http://www.w3.org/2000/svg\" height=\"24px\"viewBox=\"0 0 24 24\"\n",
              "       width=\"24px\">\n",
              "    <path d=\"M0 0h24v24H0V0z\" fill=\"none\"/>\n",
              "    <path d=\"M18.56 5.44l.94 2.06.94-2.06 2.06-.94-2.06-.94-.94-2.06-.94 2.06-2.06.94zm-11 1L8.5 8.5l.94-2.06 2.06-.94-2.06-.94L8.5 2.5l-.94 2.06-2.06.94zm10 10l.94 2.06.94-2.06 2.06-.94-2.06-.94-.94-2.06-.94 2.06-2.06.94z\"/><path d=\"M17.41 7.96l-1.37-1.37c-.4-.4-.92-.59-1.43-.59-.52 0-1.04.2-1.43.59L10.3 9.45l-7.72 7.72c-.78.78-.78 2.05 0 2.83L4 21.41c.39.39.9.59 1.41.59.51 0 1.02-.2 1.41-.59l7.78-7.78 2.81-2.81c.8-.78.8-2.07 0-2.86zM5.41 20L4 18.59l7.72-7.72 1.47 1.35L5.41 20z\"/>\n",
              "  </svg>\n",
              "      </button>\n",
              "      \n",
              "  <style>\n",
              "    .colab-df-container {\n",
              "      display:flex;\n",
              "      flex-wrap:wrap;\n",
              "      gap: 12px;\n",
              "    }\n",
              "\n",
              "    .colab-df-convert {\n",
              "      background-color: #E8F0FE;\n",
              "      border: none;\n",
              "      border-radius: 50%;\n",
              "      cursor: pointer;\n",
              "      display: none;\n",
              "      fill: #1967D2;\n",
              "      height: 32px;\n",
              "      padding: 0 0 0 0;\n",
              "      width: 32px;\n",
              "    }\n",
              "\n",
              "    .colab-df-convert:hover {\n",
              "      background-color: #E2EBFA;\n",
              "      box-shadow: 0px 1px 2px rgba(60, 64, 67, 0.3), 0px 1px 3px 1px rgba(60, 64, 67, 0.15);\n",
              "      fill: #174EA6;\n",
              "    }\n",
              "\n",
              "    [theme=dark] .colab-df-convert {\n",
              "      background-color: #3B4455;\n",
              "      fill: #D2E3FC;\n",
              "    }\n",
              "\n",
              "    [theme=dark] .colab-df-convert:hover {\n",
              "      background-color: #434B5C;\n",
              "      box-shadow: 0px 1px 3px 1px rgba(0, 0, 0, 0.15);\n",
              "      filter: drop-shadow(0px 1px 2px rgba(0, 0, 0, 0.3));\n",
              "      fill: #FFFFFF;\n",
              "    }\n",
              "  </style>\n",
              "\n",
              "      <script>\n",
              "        const buttonEl =\n",
              "          document.querySelector('#df-7ad0a23a-8495-4951-bead-7169884c70ae button.colab-df-convert');\n",
              "        buttonEl.style.display =\n",
              "          google.colab.kernel.accessAllowed ? 'block' : 'none';\n",
              "\n",
              "        async function convertToInteractive(key) {\n",
              "          const element = document.querySelector('#df-7ad0a23a-8495-4951-bead-7169884c70ae');\n",
              "          const dataTable =\n",
              "            await google.colab.kernel.invokeFunction('convertToInteractive',\n",
              "                                                     [key], {});\n",
              "          if (!dataTable) return;\n",
              "\n",
              "          const docLinkHtml = 'Like what you see? Visit the ' +\n",
              "            '<a target=\"_blank\" href=https://colab.research.google.com/notebooks/data_table.ipynb>data table notebook</a>'\n",
              "            + ' to learn more about interactive tables.';\n",
              "          element.innerHTML = '';\n",
              "          dataTable['output_type'] = 'display_data';\n",
              "          await google.colab.output.renderOutput(dataTable, element);\n",
              "          const docLink = document.createElement('div');\n",
              "          docLink.innerHTML = docLinkHtml;\n",
              "          element.appendChild(docLink);\n",
              "        }\n",
              "      </script>\n",
              "    </div>\n",
              "  </div>\n",
              "  "
            ],
            "text/plain": [
              "                                       user           timestamp     x     y  \\\n",
              "0  a2d80ed662f34d32951eb1c6ed076c313e358b73 2018-06-04 16:26:55  0.78 -9.13   \n",
              "1  a2d80ed662f34d32951eb1c6ed076c313e358b73 2018-06-04 16:26:55  0.79 -9.11   \n",
              "2  a2d80ed662f34d32951eb1c6ed076c313e358b73 2018-06-04 16:26:55  0.80 -9.12   \n",
              "3  a2d80ed662f34d32951eb1c6ed076c313e358b73 2018-06-04 16:26:55  0.78 -9.14   \n",
              "4  a2d80ed662f34d32951eb1c6ed076c313e358b73 2018-06-04 16:26:55  0.83 -9.12   \n",
              "\n",
              "      z class              time_s  time_d  user_c  class_c  seq_c  \n",
              "0 -3.74   bus                 NaT     NaN       0        0      0  \n",
              "1 -3.75   bus 2018-06-04 16:26:55     0.0       0        0      0  \n",
              "2 -3.75   bus 2018-06-04 16:26:55     0.0       0        0      0  \n",
              "3 -3.76   bus 2018-06-04 16:26:55     0.0       0        0      0  \n",
              "4 -3.80   bus 2018-06-04 16:26:55     0.0       0        0      0  "
            ]
          },
          "metadata": {},
          "execution_count": 46
        }
      ]
    },
    {
      "cell_type": "code",
      "source": [
        "df['time_s'] = df['timestamp'].shift(1, axis=0)"
      ],
      "metadata": {
        "id": "rqWA3wYQk4Ml"
      },
      "execution_count": 47,
      "outputs": []
    },
    {
      "cell_type": "code",
      "source": [
        "df.head()"
      ],
      "metadata": {
        "colab": {
          "base_uri": "https://localhost:8080/",
          "height": 206
        },
        "id": "QnUnwbaHlsSn",
        "outputId": "aa8f7a66-98bd-49e8-bfad-91d8522f9acb"
      },
      "execution_count": 48,
      "outputs": [
        {
          "output_type": "execute_result",
          "data": {
            "text/html": [
              "\n",
              "  <div id=\"df-48dd808f-02d1-43d0-90ba-c2d0ef56c658\">\n",
              "    <div class=\"colab-df-container\">\n",
              "      <div>\n",
              "<style scoped>\n",
              "    .dataframe tbody tr th:only-of-type {\n",
              "        vertical-align: middle;\n",
              "    }\n",
              "\n",
              "    .dataframe tbody tr th {\n",
              "        vertical-align: top;\n",
              "    }\n",
              "\n",
              "    .dataframe thead th {\n",
              "        text-align: right;\n",
              "    }\n",
              "</style>\n",
              "<table border=\"1\" class=\"dataframe\">\n",
              "  <thead>\n",
              "    <tr style=\"text-align: right;\">\n",
              "      <th></th>\n",
              "      <th>user</th>\n",
              "      <th>timestamp</th>\n",
              "      <th>x</th>\n",
              "      <th>y</th>\n",
              "      <th>z</th>\n",
              "      <th>class</th>\n",
              "      <th>time_s</th>\n",
              "      <th>time_d</th>\n",
              "      <th>user_c</th>\n",
              "      <th>class_c</th>\n",
              "      <th>seq_c</th>\n",
              "    </tr>\n",
              "  </thead>\n",
              "  <tbody>\n",
              "    <tr>\n",
              "      <th>0</th>\n",
              "      <td>a2d80ed662f34d32951eb1c6ed076c313e358b73</td>\n",
              "      <td>2018-06-04 16:26:55</td>\n",
              "      <td>0.78</td>\n",
              "      <td>-9.13</td>\n",
              "      <td>-3.74</td>\n",
              "      <td>bus</td>\n",
              "      <td>NaT</td>\n",
              "      <td>NaN</td>\n",
              "      <td>0</td>\n",
              "      <td>0</td>\n",
              "      <td>0</td>\n",
              "    </tr>\n",
              "    <tr>\n",
              "      <th>1</th>\n",
              "      <td>a2d80ed662f34d32951eb1c6ed076c313e358b73</td>\n",
              "      <td>2018-06-04 16:26:55</td>\n",
              "      <td>0.79</td>\n",
              "      <td>-9.11</td>\n",
              "      <td>-3.75</td>\n",
              "      <td>bus</td>\n",
              "      <td>2018-06-04 16:26:55</td>\n",
              "      <td>0.0</td>\n",
              "      <td>0</td>\n",
              "      <td>0</td>\n",
              "      <td>0</td>\n",
              "    </tr>\n",
              "    <tr>\n",
              "      <th>2</th>\n",
              "      <td>a2d80ed662f34d32951eb1c6ed076c313e358b73</td>\n",
              "      <td>2018-06-04 16:26:55</td>\n",
              "      <td>0.80</td>\n",
              "      <td>-9.12</td>\n",
              "      <td>-3.75</td>\n",
              "      <td>bus</td>\n",
              "      <td>2018-06-04 16:26:55</td>\n",
              "      <td>0.0</td>\n",
              "      <td>0</td>\n",
              "      <td>0</td>\n",
              "      <td>0</td>\n",
              "    </tr>\n",
              "    <tr>\n",
              "      <th>3</th>\n",
              "      <td>a2d80ed662f34d32951eb1c6ed076c313e358b73</td>\n",
              "      <td>2018-06-04 16:26:55</td>\n",
              "      <td>0.78</td>\n",
              "      <td>-9.14</td>\n",
              "      <td>-3.76</td>\n",
              "      <td>bus</td>\n",
              "      <td>2018-06-04 16:26:55</td>\n",
              "      <td>0.0</td>\n",
              "      <td>0</td>\n",
              "      <td>0</td>\n",
              "      <td>0</td>\n",
              "    </tr>\n",
              "    <tr>\n",
              "      <th>4</th>\n",
              "      <td>a2d80ed662f34d32951eb1c6ed076c313e358b73</td>\n",
              "      <td>2018-06-04 16:26:55</td>\n",
              "      <td>0.83</td>\n",
              "      <td>-9.12</td>\n",
              "      <td>-3.80</td>\n",
              "      <td>bus</td>\n",
              "      <td>2018-06-04 16:26:55</td>\n",
              "      <td>0.0</td>\n",
              "      <td>0</td>\n",
              "      <td>0</td>\n",
              "      <td>0</td>\n",
              "    </tr>\n",
              "  </tbody>\n",
              "</table>\n",
              "</div>\n",
              "      <button class=\"colab-df-convert\" onclick=\"convertToInteractive('df-48dd808f-02d1-43d0-90ba-c2d0ef56c658')\"\n",
              "              title=\"Convert this dataframe to an interactive table.\"\n",
              "              style=\"display:none;\">\n",
              "        \n",
              "  <svg xmlns=\"http://www.w3.org/2000/svg\" height=\"24px\"viewBox=\"0 0 24 24\"\n",
              "       width=\"24px\">\n",
              "    <path d=\"M0 0h24v24H0V0z\" fill=\"none\"/>\n",
              "    <path d=\"M18.56 5.44l.94 2.06.94-2.06 2.06-.94-2.06-.94-.94-2.06-.94 2.06-2.06.94zm-11 1L8.5 8.5l.94-2.06 2.06-.94-2.06-.94L8.5 2.5l-.94 2.06-2.06.94zm10 10l.94 2.06.94-2.06 2.06-.94-2.06-.94-.94-2.06-.94 2.06-2.06.94z\"/><path d=\"M17.41 7.96l-1.37-1.37c-.4-.4-.92-.59-1.43-.59-.52 0-1.04.2-1.43.59L10.3 9.45l-7.72 7.72c-.78.78-.78 2.05 0 2.83L4 21.41c.39.39.9.59 1.41.59.51 0 1.02-.2 1.41-.59l7.78-7.78 2.81-2.81c.8-.78.8-2.07 0-2.86zM5.41 20L4 18.59l7.72-7.72 1.47 1.35L5.41 20z\"/>\n",
              "  </svg>\n",
              "      </button>\n",
              "      \n",
              "  <style>\n",
              "    .colab-df-container {\n",
              "      display:flex;\n",
              "      flex-wrap:wrap;\n",
              "      gap: 12px;\n",
              "    }\n",
              "\n",
              "    .colab-df-convert {\n",
              "      background-color: #E8F0FE;\n",
              "      border: none;\n",
              "      border-radius: 50%;\n",
              "      cursor: pointer;\n",
              "      display: none;\n",
              "      fill: #1967D2;\n",
              "      height: 32px;\n",
              "      padding: 0 0 0 0;\n",
              "      width: 32px;\n",
              "    }\n",
              "\n",
              "    .colab-df-convert:hover {\n",
              "      background-color: #E2EBFA;\n",
              "      box-shadow: 0px 1px 2px rgba(60, 64, 67, 0.3), 0px 1px 3px 1px rgba(60, 64, 67, 0.15);\n",
              "      fill: #174EA6;\n",
              "    }\n",
              "\n",
              "    [theme=dark] .colab-df-convert {\n",
              "      background-color: #3B4455;\n",
              "      fill: #D2E3FC;\n",
              "    }\n",
              "\n",
              "    [theme=dark] .colab-df-convert:hover {\n",
              "      background-color: #434B5C;\n",
              "      box-shadow: 0px 1px 3px 1px rgba(0, 0, 0, 0.15);\n",
              "      filter: drop-shadow(0px 1px 2px rgba(0, 0, 0, 0.3));\n",
              "      fill: #FFFFFF;\n",
              "    }\n",
              "  </style>\n",
              "\n",
              "      <script>\n",
              "        const buttonEl =\n",
              "          document.querySelector('#df-48dd808f-02d1-43d0-90ba-c2d0ef56c658 button.colab-df-convert');\n",
              "        buttonEl.style.display =\n",
              "          google.colab.kernel.accessAllowed ? 'block' : 'none';\n",
              "\n",
              "        async function convertToInteractive(key) {\n",
              "          const element = document.querySelector('#df-48dd808f-02d1-43d0-90ba-c2d0ef56c658');\n",
              "          const dataTable =\n",
              "            await google.colab.kernel.invokeFunction('convertToInteractive',\n",
              "                                                     [key], {});\n",
              "          if (!dataTable) return;\n",
              "\n",
              "          const docLinkHtml = 'Like what you see? Visit the ' +\n",
              "            '<a target=\"_blank\" href=https://colab.research.google.com/notebooks/data_table.ipynb>data table notebook</a>'\n",
              "            + ' to learn more about interactive tables.';\n",
              "          element.innerHTML = '';\n",
              "          dataTable['output_type'] = 'display_data';\n",
              "          await google.colab.output.renderOutput(dataTable, element);\n",
              "          const docLink = document.createElement('div');\n",
              "          docLink.innerHTML = docLinkHtml;\n",
              "          element.appendChild(docLink);\n",
              "        }\n",
              "      </script>\n",
              "    </div>\n",
              "  </div>\n",
              "  "
            ],
            "text/plain": [
              "                                       user           timestamp     x     y  \\\n",
              "0  a2d80ed662f34d32951eb1c6ed076c313e358b73 2018-06-04 16:26:55  0.78 -9.13   \n",
              "1  a2d80ed662f34d32951eb1c6ed076c313e358b73 2018-06-04 16:26:55  0.79 -9.11   \n",
              "2  a2d80ed662f34d32951eb1c6ed076c313e358b73 2018-06-04 16:26:55  0.80 -9.12   \n",
              "3  a2d80ed662f34d32951eb1c6ed076c313e358b73 2018-06-04 16:26:55  0.78 -9.14   \n",
              "4  a2d80ed662f34d32951eb1c6ed076c313e358b73 2018-06-04 16:26:55  0.83 -9.12   \n",
              "\n",
              "      z class              time_s  time_d  user_c  class_c  seq_c  \n",
              "0 -3.74   bus                 NaT     NaN       0        0      0  \n",
              "1 -3.75   bus 2018-06-04 16:26:55     0.0       0        0      0  \n",
              "2 -3.75   bus 2018-06-04 16:26:55     0.0       0        0      0  \n",
              "3 -3.76   bus 2018-06-04 16:26:55     0.0       0        0      0  \n",
              "4 -3.80   bus 2018-06-04 16:26:55     0.0       0        0      0  "
            ]
          },
          "metadata": {},
          "execution_count": 48
        }
      ]
    },
    {
      "cell_type": "code",
      "source": [
        "df['timestamp'] = df['timestamp'].astype('datetime64[s]')\n",
        "df['time_s'] = df['time_s'].astype('datetime64[s]')"
      ],
      "metadata": {
        "id": "Q2LAR_hYlshL"
      },
      "execution_count": 49,
      "outputs": []
    },
    {
      "cell_type": "code",
      "source": [
        "df['time_d'] = (df['timestamp'] - df['time_s'])/np.timedelta64(1, 's')"
      ],
      "metadata": {
        "id": "igc0QzJz5X-B"
      },
      "execution_count": 50,
      "outputs": []
    },
    {
      "cell_type": "code",
      "source": [
        "df['time_d']"
      ],
      "metadata": {
        "id": "0H3-o7fK5YA4",
        "outputId": "97aa257f-0a5e-497b-a380-304b38ff4d40",
        "colab": {
          "base_uri": "https://localhost:8080/"
        }
      },
      "execution_count": 51,
      "outputs": [
        {
          "output_type": "execute_result",
          "data": {
            "text/plain": [
              "0          NaN\n",
              "1          0.0\n",
              "2          0.0\n",
              "3          0.0\n",
              "4          0.0\n",
              "          ... \n",
              "5653048    0.0\n",
              "5653049    0.0\n",
              "5653050    0.0\n",
              "5653051    0.0\n",
              "5653052    1.0\n",
              "Name: time_d, Length: 5653053, dtype: float64"
            ]
          },
          "metadata": {},
          "execution_count": 51
        }
      ]
    },
    {
      "cell_type": "code",
      "source": [
        ""
      ],
      "metadata": {
        "id": "lP6qXp9E5YEB"
      },
      "execution_count": 60,
      "outputs": []
    },
    {
      "cell_type": "code",
      "source": [
        ""
      ],
      "metadata": {
        "id": "NFY3nQSF5YHh"
      },
      "execution_count": 51,
      "outputs": []
    },
    {
      "cell_type": "code",
      "source": [
        ""
      ],
      "metadata": {
        "id": "D-oDiqB35YTF"
      },
      "execution_count": 51,
      "outputs": []
    },
    {
      "cell_type": "code",
      "source": [
        "rows = df['user'].unique()\n",
        "col = df['class'].unique()"
      ],
      "metadata": {
        "id": "B0gzKGs3EBPj"
      },
      "execution_count": 52,
      "outputs": []
    },
    {
      "cell_type": "code",
      "source": [
        "rows_len = len(df['user'].unique())\n",
        "col_len = len(df['class'].unique())"
      ],
      "metadata": {
        "id": "xysQXXaIAxX4"
      },
      "execution_count": 53,
      "outputs": []
    },
    {
      "cell_type": "code",
      "source": [
        "num_seq = np.zeros((rows_len, col_len))"
      ],
      "metadata": {
        "id": "iJ6QS2Vo-9Q7"
      },
      "execution_count": 54,
      "outputs": []
    },
    {
      "cell_type": "code",
      "source": [
        "df_num_seq = pd.DataFrame(num_seq, index = rows,columns=col)"
      ],
      "metadata": {
        "id": "vICFZlHfBzyv"
      },
      "execution_count": 55,
      "outputs": []
    },
    {
      "cell_type": "code",
      "source": [
        "for i in range(len(df['seq_c'])):\n",
        "  if df['seq_c'][i] == 1 or df['time_d'][i] > 10:\n",
        "    df_num_seq.loc[df['user'][i], df['class'][i]] +=1\n"
      ],
      "metadata": {
        "id": "HstfZ0A0Aki_"
      },
      "execution_count": 56,
      "outputs": []
    },
    {
      "cell_type": "code",
      "source": [
        "df_num_seq"
      ],
      "metadata": {
        "id": "j78QSxfQDO17"
      },
      "execution_count": null,
      "outputs": []
    },
    {
      "cell_type": "code",
      "source": [
        "sum(df_num_seq['bus'])+sum(df_num_seq['walk'])+sum(df_num_seq['car'])+sum(df_num_seq['bike'])+sum(df_num_seq['train'])+sum(df_num_seq['e-bike'])"
      ],
      "metadata": {
        "id": "aAdVGk7AQw6j",
        "colab": {
          "base_uri": "https://localhost:8080/"
        },
        "outputId": "50e452ed-dfd0-4d82-a337-4b59abccb2ec"
      },
      "execution_count": 59,
      "outputs": [
        {
          "output_type": "execute_result",
          "data": {
            "text/plain": [
              "3494.0"
            ]
          },
          "metadata": {},
          "execution_count": 59
        }
      ]
    },
    {
      "cell_type": "code",
      "source": [
        "df"
      ],
      "metadata": {
        "id": "gsqFeeA495H6",
        "outputId": "b6782c03-c069-4dc9-ea1e-1758c7df5fbc",
        "colab": {
          "base_uri": "https://localhost:8080/",
          "height": 424
        }
      },
      "execution_count": 61,
      "outputs": [
        {
          "output_type": "execute_result",
          "data": {
            "text/html": [
              "\n",
              "  <div id=\"df-70ea9d10-9227-40c4-8d19-d582896dc40f\">\n",
              "    <div class=\"colab-df-container\">\n",
              "      <div>\n",
              "<style scoped>\n",
              "    .dataframe tbody tr th:only-of-type {\n",
              "        vertical-align: middle;\n",
              "    }\n",
              "\n",
              "    .dataframe tbody tr th {\n",
              "        vertical-align: top;\n",
              "    }\n",
              "\n",
              "    .dataframe thead th {\n",
              "        text-align: right;\n",
              "    }\n",
              "</style>\n",
              "<table border=\"1\" class=\"dataframe\">\n",
              "  <thead>\n",
              "    <tr style=\"text-align: right;\">\n",
              "      <th></th>\n",
              "      <th>user</th>\n",
              "      <th>timestamp</th>\n",
              "      <th>x</th>\n",
              "      <th>y</th>\n",
              "      <th>z</th>\n",
              "      <th>class</th>\n",
              "      <th>time_s</th>\n",
              "      <th>time_d</th>\n",
              "      <th>user_c</th>\n",
              "      <th>class_c</th>\n",
              "      <th>seq_c</th>\n",
              "    </tr>\n",
              "  </thead>\n",
              "  <tbody>\n",
              "    <tr>\n",
              "      <th>0</th>\n",
              "      <td>a2d80ed662f34d32951eb1c6ed076c313e358b73</td>\n",
              "      <td>2018-06-04 16:26:55</td>\n",
              "      <td>0.78</td>\n",
              "      <td>-9.13</td>\n",
              "      <td>-3.74</td>\n",
              "      <td>bus</td>\n",
              "      <td>NaT</td>\n",
              "      <td>NaN</td>\n",
              "      <td>0</td>\n",
              "      <td>0</td>\n",
              "      <td>0</td>\n",
              "    </tr>\n",
              "    <tr>\n",
              "      <th>1</th>\n",
              "      <td>a2d80ed662f34d32951eb1c6ed076c313e358b73</td>\n",
              "      <td>2018-06-04 16:26:55</td>\n",
              "      <td>0.79</td>\n",
              "      <td>-9.11</td>\n",
              "      <td>-3.75</td>\n",
              "      <td>bus</td>\n",
              "      <td>2018-06-04 16:26:55</td>\n",
              "      <td>0.0</td>\n",
              "      <td>0</td>\n",
              "      <td>0</td>\n",
              "      <td>0</td>\n",
              "    </tr>\n",
              "    <tr>\n",
              "      <th>2</th>\n",
              "      <td>a2d80ed662f34d32951eb1c6ed076c313e358b73</td>\n",
              "      <td>2018-06-04 16:26:55</td>\n",
              "      <td>0.80</td>\n",
              "      <td>-9.12</td>\n",
              "      <td>-3.75</td>\n",
              "      <td>bus</td>\n",
              "      <td>2018-06-04 16:26:55</td>\n",
              "      <td>0.0</td>\n",
              "      <td>0</td>\n",
              "      <td>0</td>\n",
              "      <td>0</td>\n",
              "    </tr>\n",
              "    <tr>\n",
              "      <th>3</th>\n",
              "      <td>a2d80ed662f34d32951eb1c6ed076c313e358b73</td>\n",
              "      <td>2018-06-04 16:26:55</td>\n",
              "      <td>0.78</td>\n",
              "      <td>-9.14</td>\n",
              "      <td>-3.76</td>\n",
              "      <td>bus</td>\n",
              "      <td>2018-06-04 16:26:55</td>\n",
              "      <td>0.0</td>\n",
              "      <td>0</td>\n",
              "      <td>0</td>\n",
              "      <td>0</td>\n",
              "    </tr>\n",
              "    <tr>\n",
              "      <th>4</th>\n",
              "      <td>a2d80ed662f34d32951eb1c6ed076c313e358b73</td>\n",
              "      <td>2018-06-04 16:26:55</td>\n",
              "      <td>0.83</td>\n",
              "      <td>-9.12</td>\n",
              "      <td>-3.80</td>\n",
              "      <td>bus</td>\n",
              "      <td>2018-06-04 16:26:55</td>\n",
              "      <td>0.0</td>\n",
              "      <td>0</td>\n",
              "      <td>0</td>\n",
              "      <td>0</td>\n",
              "    </tr>\n",
              "    <tr>\n",
              "      <th>...</th>\n",
              "      <td>...</td>\n",
              "      <td>...</td>\n",
              "      <td>...</td>\n",
              "      <td>...</td>\n",
              "      <td>...</td>\n",
              "      <td>...</td>\n",
              "      <td>...</td>\n",
              "      <td>...</td>\n",
              "      <td>...</td>\n",
              "      <td>...</td>\n",
              "      <td>...</td>\n",
              "    </tr>\n",
              "    <tr>\n",
              "      <th>5653048</th>\n",
              "      <td>faae5be800be2dfa897eea0bd2e5988cd53c4ec0</td>\n",
              "      <td>2019-09-13 17:04:31</td>\n",
              "      <td>8.25</td>\n",
              "      <td>0.47</td>\n",
              "      <td>1.41</td>\n",
              "      <td>bike</td>\n",
              "      <td>2019-09-13 17:04:31</td>\n",
              "      <td>0.0</td>\n",
              "      <td>0</td>\n",
              "      <td>0</td>\n",
              "      <td>0</td>\n",
              "    </tr>\n",
              "    <tr>\n",
              "      <th>5653049</th>\n",
              "      <td>faae5be800be2dfa897eea0bd2e5988cd53c4ec0</td>\n",
              "      <td>2019-09-13 17:04:31</td>\n",
              "      <td>12.28</td>\n",
              "      <td>2.07</td>\n",
              "      <td>1.87</td>\n",
              "      <td>bike</td>\n",
              "      <td>2019-09-13 17:04:31</td>\n",
              "      <td>0.0</td>\n",
              "      <td>0</td>\n",
              "      <td>0</td>\n",
              "      <td>0</td>\n",
              "    </tr>\n",
              "    <tr>\n",
              "      <th>5653050</th>\n",
              "      <td>faae5be800be2dfa897eea0bd2e5988cd53c4ec0</td>\n",
              "      <td>2019-09-13 17:04:31</td>\n",
              "      <td>9.20</td>\n",
              "      <td>3.39</td>\n",
              "      <td>-1.80</td>\n",
              "      <td>bike</td>\n",
              "      <td>2019-09-13 17:04:31</td>\n",
              "      <td>0.0</td>\n",
              "      <td>0</td>\n",
              "      <td>0</td>\n",
              "      <td>0</td>\n",
              "    </tr>\n",
              "    <tr>\n",
              "      <th>5653051</th>\n",
              "      <td>faae5be800be2dfa897eea0bd2e5988cd53c4ec0</td>\n",
              "      <td>2019-09-13 17:04:31</td>\n",
              "      <td>9.88</td>\n",
              "      <td>4.19</td>\n",
              "      <td>-1.29</td>\n",
              "      <td>bike</td>\n",
              "      <td>2019-09-13 17:04:31</td>\n",
              "      <td>0.0</td>\n",
              "      <td>0</td>\n",
              "      <td>0</td>\n",
              "      <td>0</td>\n",
              "    </tr>\n",
              "    <tr>\n",
              "      <th>5653052</th>\n",
              "      <td>faae5be800be2dfa897eea0bd2e5988cd53c4ec0</td>\n",
              "      <td>2019-09-13 17:04:32</td>\n",
              "      <td>10.91</td>\n",
              "      <td>1.49</td>\n",
              "      <td>3.05</td>\n",
              "      <td>bike</td>\n",
              "      <td>2019-09-13 17:04:31</td>\n",
              "      <td>1.0</td>\n",
              "      <td>1</td>\n",
              "      <td>1</td>\n",
              "      <td>1</td>\n",
              "    </tr>\n",
              "  </tbody>\n",
              "</table>\n",
              "<p>5653053 rows × 11 columns</p>\n",
              "</div>\n",
              "      <button class=\"colab-df-convert\" onclick=\"convertToInteractive('df-70ea9d10-9227-40c4-8d19-d582896dc40f')\"\n",
              "              title=\"Convert this dataframe to an interactive table.\"\n",
              "              style=\"display:none;\">\n",
              "        \n",
              "  <svg xmlns=\"http://www.w3.org/2000/svg\" height=\"24px\"viewBox=\"0 0 24 24\"\n",
              "       width=\"24px\">\n",
              "    <path d=\"M0 0h24v24H0V0z\" fill=\"none\"/>\n",
              "    <path d=\"M18.56 5.44l.94 2.06.94-2.06 2.06-.94-2.06-.94-.94-2.06-.94 2.06-2.06.94zm-11 1L8.5 8.5l.94-2.06 2.06-.94-2.06-.94L8.5 2.5l-.94 2.06-2.06.94zm10 10l.94 2.06.94-2.06 2.06-.94-2.06-.94-.94-2.06-.94 2.06-2.06.94z\"/><path d=\"M17.41 7.96l-1.37-1.37c-.4-.4-.92-.59-1.43-.59-.52 0-1.04.2-1.43.59L10.3 9.45l-7.72 7.72c-.78.78-.78 2.05 0 2.83L4 21.41c.39.39.9.59 1.41.59.51 0 1.02-.2 1.41-.59l7.78-7.78 2.81-2.81c.8-.78.8-2.07 0-2.86zM5.41 20L4 18.59l7.72-7.72 1.47 1.35L5.41 20z\"/>\n",
              "  </svg>\n",
              "      </button>\n",
              "      \n",
              "  <style>\n",
              "    .colab-df-container {\n",
              "      display:flex;\n",
              "      flex-wrap:wrap;\n",
              "      gap: 12px;\n",
              "    }\n",
              "\n",
              "    .colab-df-convert {\n",
              "      background-color: #E8F0FE;\n",
              "      border: none;\n",
              "      border-radius: 50%;\n",
              "      cursor: pointer;\n",
              "      display: none;\n",
              "      fill: #1967D2;\n",
              "      height: 32px;\n",
              "      padding: 0 0 0 0;\n",
              "      width: 32px;\n",
              "    }\n",
              "\n",
              "    .colab-df-convert:hover {\n",
              "      background-color: #E2EBFA;\n",
              "      box-shadow: 0px 1px 2px rgba(60, 64, 67, 0.3), 0px 1px 3px 1px rgba(60, 64, 67, 0.15);\n",
              "      fill: #174EA6;\n",
              "    }\n",
              "\n",
              "    [theme=dark] .colab-df-convert {\n",
              "      background-color: #3B4455;\n",
              "      fill: #D2E3FC;\n",
              "    }\n",
              "\n",
              "    [theme=dark] .colab-df-convert:hover {\n",
              "      background-color: #434B5C;\n",
              "      box-shadow: 0px 1px 3px 1px rgba(0, 0, 0, 0.15);\n",
              "      filter: drop-shadow(0px 1px 2px rgba(0, 0, 0, 0.3));\n",
              "      fill: #FFFFFF;\n",
              "    }\n",
              "  </style>\n",
              "\n",
              "      <script>\n",
              "        const buttonEl =\n",
              "          document.querySelector('#df-70ea9d10-9227-40c4-8d19-d582896dc40f button.colab-df-convert');\n",
              "        buttonEl.style.display =\n",
              "          google.colab.kernel.accessAllowed ? 'block' : 'none';\n",
              "\n",
              "        async function convertToInteractive(key) {\n",
              "          const element = document.querySelector('#df-70ea9d10-9227-40c4-8d19-d582896dc40f');\n",
              "          const dataTable =\n",
              "            await google.colab.kernel.invokeFunction('convertToInteractive',\n",
              "                                                     [key], {});\n",
              "          if (!dataTable) return;\n",
              "\n",
              "          const docLinkHtml = 'Like what you see? Visit the ' +\n",
              "            '<a target=\"_blank\" href=https://colab.research.google.com/notebooks/data_table.ipynb>data table notebook</a>'\n",
              "            + ' to learn more about interactive tables.';\n",
              "          element.innerHTML = '';\n",
              "          dataTable['output_type'] = 'display_data';\n",
              "          await google.colab.output.renderOutput(dataTable, element);\n",
              "          const docLink = document.createElement('div');\n",
              "          docLink.innerHTML = docLinkHtml;\n",
              "          element.appendChild(docLink);\n",
              "        }\n",
              "      </script>\n",
              "    </div>\n",
              "  </div>\n",
              "  "
            ],
            "text/plain": [
              "                                             user           timestamp      x  \\\n",
              "0        a2d80ed662f34d32951eb1c6ed076c313e358b73 2018-06-04 16:26:55   0.78   \n",
              "1        a2d80ed662f34d32951eb1c6ed076c313e358b73 2018-06-04 16:26:55   0.79   \n",
              "2        a2d80ed662f34d32951eb1c6ed076c313e358b73 2018-06-04 16:26:55   0.80   \n",
              "3        a2d80ed662f34d32951eb1c6ed076c313e358b73 2018-06-04 16:26:55   0.78   \n",
              "4        a2d80ed662f34d32951eb1c6ed076c313e358b73 2018-06-04 16:26:55   0.83   \n",
              "...                                           ...                 ...    ...   \n",
              "5653048  faae5be800be2dfa897eea0bd2e5988cd53c4ec0 2019-09-13 17:04:31   8.25   \n",
              "5653049  faae5be800be2dfa897eea0bd2e5988cd53c4ec0 2019-09-13 17:04:31  12.28   \n",
              "5653050  faae5be800be2dfa897eea0bd2e5988cd53c4ec0 2019-09-13 17:04:31   9.20   \n",
              "5653051  faae5be800be2dfa897eea0bd2e5988cd53c4ec0 2019-09-13 17:04:31   9.88   \n",
              "5653052  faae5be800be2dfa897eea0bd2e5988cd53c4ec0 2019-09-13 17:04:32  10.91   \n",
              "\n",
              "            y     z class              time_s  time_d  user_c  class_c  seq_c  \n",
              "0       -9.13 -3.74   bus                 NaT     NaN       0        0      0  \n",
              "1       -9.11 -3.75   bus 2018-06-04 16:26:55     0.0       0        0      0  \n",
              "2       -9.12 -3.75   bus 2018-06-04 16:26:55     0.0       0        0      0  \n",
              "3       -9.14 -3.76   bus 2018-06-04 16:26:55     0.0       0        0      0  \n",
              "4       -9.12 -3.80   bus 2018-06-04 16:26:55     0.0       0        0      0  \n",
              "...       ...   ...   ...                 ...     ...     ...      ...    ...  \n",
              "5653048  0.47  1.41  bike 2019-09-13 17:04:31     0.0       0        0      0  \n",
              "5653049  2.07  1.87  bike 2019-09-13 17:04:31     0.0       0        0      0  \n",
              "5653050  3.39 -1.80  bike 2019-09-13 17:04:31     0.0       0        0      0  \n",
              "5653051  4.19 -1.29  bike 2019-09-13 17:04:31     0.0       0        0      0  \n",
              "5653052  1.49  3.05  bike 2019-09-13 17:04:31     1.0       1        1      1  \n",
              "\n",
              "[5653053 rows x 11 columns]"
            ]
          },
          "metadata": {},
          "execution_count": 61
        }
      ]
    },
    {
      "cell_type": "code",
      "source": [
        ""
      ],
      "metadata": {
        "id": "YrGwvTlJVk9G"
      },
      "execution_count": null,
      "outputs": []
    },
    {
      "cell_type": "code",
      "source": [
        ""
      ],
      "metadata": {
        "id": "BOhjZr1ybOUP"
      },
      "execution_count": null,
      "outputs": []
    }
  ]
}