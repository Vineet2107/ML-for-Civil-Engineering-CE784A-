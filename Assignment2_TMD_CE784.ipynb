{
  "nbformat": 4,
  "nbformat_minor": 0,
  "metadata": {
    "colab": {
      "name": "Assignment2_TMD_CE784.ipynb",
      "provenance": [],
      "mount_file_id": "https://github.com/Vineet2107/ML-for-Civil-Enfineering-CE784A-/blob/main/Assignment2_TMD_CE784.ipynb",
      "authorship_tag": "ABX9TyOvEi/eADavq4oq4998KRm7",
      "include_colab_link": true
    },
    "kernelspec": {
      "name": "python3",
      "display_name": "Python 3"
    },
    "language_info": {
      "name": "python"
    },
    "accelerator": "GPU"
  },
  "cells": [
    {
      "cell_type": "markdown",
      "metadata": {
        "id": "view-in-github",
        "colab_type": "text"
      },
      "source": [
        "<a href=\"https://colab.research.google.com/github/Vineet2107/ML-for-Civil-Engineering-CE784A-/blob/main/Assignment2_TMD_CE784.ipynb\" target=\"_parent\"><img src=\"https://colab.research.google.com/assets/colab-badge.svg\" alt=\"Open In Colab\"/></a>"
      ]
    },
    {
      "cell_type": "code",
      "execution_count": 274,
      "metadata": {
        "id": "IsLuv7T7EIZy"
      },
      "outputs": [],
      "source": [
        "import numpy as np\n",
        "import pandas as pd\n",
        "import matplotlib.pyplot as plt\n"
      ]
    },
    {
      "cell_type": "code",
      "source": [
        "from google.colab import drive\n",
        "drive.mount('/content/drive')"
      ],
      "metadata": {
        "id": "ydR1EZVq5b5x",
        "outputId": "a21250e5-d184-410a-ca34-3777caaeac98",
        "colab": {
          "base_uri": "https://localhost:8080/"
        }
      },
      "execution_count": 275,
      "outputs": [
        {
          "output_type": "stream",
          "name": "stdout",
          "text": [
            "Drive already mounted at /content/drive; to attempt to forcibly remount, call drive.mount(\"/content/drive\", force_remount=True).\n"
          ]
        }
      ]
    },
    {
      "cell_type": "code",
      "source": [
        "df = pd.read_csv('/content/drive/MyDrive/1b80ce01455252fb312ac516e738750eeef007f14ef9c8f64e4431fe3f495dd9_cleaned/cleaned.csv')"
      ],
      "metadata": {
        "id": "1uJoEHwpEhYO"
      },
      "execution_count": 276,
      "outputs": []
    },
    {
      "cell_type": "code",
      "source": [
        "df.head()"
      ],
      "metadata": {
        "colab": {
          "base_uri": "https://localhost:8080/",
          "height": 206
        },
        "id": "_iQ_tF6uEsVH",
        "outputId": "6b971fe8-d964-40d7-fbf9-63386d73f6c0"
      },
      "execution_count": 277,
      "outputs": [
        {
          "output_type": "execute_result",
          "data": {
            "text/html": [
              "\n",
              "  <div id=\"df-07df63d0-94e9-4618-9648-58c6d8511746\">\n",
              "    <div class=\"colab-df-container\">\n",
              "      <div>\n",
              "<style scoped>\n",
              "    .dataframe tbody tr th:only-of-type {\n",
              "        vertical-align: middle;\n",
              "    }\n",
              "\n",
              "    .dataframe tbody tr th {\n",
              "        vertical-align: top;\n",
              "    }\n",
              "\n",
              "    .dataframe thead th {\n",
              "        text-align: right;\n",
              "    }\n",
              "</style>\n",
              "<table border=\"1\" class=\"dataframe\">\n",
              "  <thead>\n",
              "    <tr style=\"text-align: right;\">\n",
              "      <th></th>\n",
              "      <th>user</th>\n",
              "      <th>timestamp</th>\n",
              "      <th>x</th>\n",
              "      <th>y</th>\n",
              "      <th>z</th>\n",
              "      <th>class</th>\n",
              "    </tr>\n",
              "  </thead>\n",
              "  <tbody>\n",
              "    <tr>\n",
              "      <th>0</th>\n",
              "      <td>a2d80ed662f34d32951eb1c6ed076c313e358b73</td>\n",
              "      <td>2018-06-04 16:26:55.053</td>\n",
              "      <td>0.78</td>\n",
              "      <td>-9.13</td>\n",
              "      <td>-3.74</td>\n",
              "      <td>bus</td>\n",
              "    </tr>\n",
              "    <tr>\n",
              "      <th>1</th>\n",
              "      <td>a2d80ed662f34d32951eb1c6ed076c313e358b73</td>\n",
              "      <td>2018-06-04 16:26:55.111</td>\n",
              "      <td>0.79</td>\n",
              "      <td>-9.11</td>\n",
              "      <td>-3.75</td>\n",
              "      <td>bus</td>\n",
              "    </tr>\n",
              "    <tr>\n",
              "      <th>2</th>\n",
              "      <td>a2d80ed662f34d32951eb1c6ed076c313e358b73</td>\n",
              "      <td>2018-06-04 16:26:55.169</td>\n",
              "      <td>0.80</td>\n",
              "      <td>-9.12</td>\n",
              "      <td>-3.75</td>\n",
              "      <td>bus</td>\n",
              "    </tr>\n",
              "    <tr>\n",
              "      <th>3</th>\n",
              "      <td>a2d80ed662f34d32951eb1c6ed076c313e358b73</td>\n",
              "      <td>2018-06-04 16:26:55.228</td>\n",
              "      <td>0.78</td>\n",
              "      <td>-9.14</td>\n",
              "      <td>-3.76</td>\n",
              "      <td>bus</td>\n",
              "    </tr>\n",
              "    <tr>\n",
              "      <th>4</th>\n",
              "      <td>a2d80ed662f34d32951eb1c6ed076c313e358b73</td>\n",
              "      <td>2018-06-04 16:26:55.286</td>\n",
              "      <td>0.83</td>\n",
              "      <td>-9.12</td>\n",
              "      <td>-3.80</td>\n",
              "      <td>bus</td>\n",
              "    </tr>\n",
              "  </tbody>\n",
              "</table>\n",
              "</div>\n",
              "      <button class=\"colab-df-convert\" onclick=\"convertToInteractive('df-07df63d0-94e9-4618-9648-58c6d8511746')\"\n",
              "              title=\"Convert this dataframe to an interactive table.\"\n",
              "              style=\"display:none;\">\n",
              "        \n",
              "  <svg xmlns=\"http://www.w3.org/2000/svg\" height=\"24px\"viewBox=\"0 0 24 24\"\n",
              "       width=\"24px\">\n",
              "    <path d=\"M0 0h24v24H0V0z\" fill=\"none\"/>\n",
              "    <path d=\"M18.56 5.44l.94 2.06.94-2.06 2.06-.94-2.06-.94-.94-2.06-.94 2.06-2.06.94zm-11 1L8.5 8.5l.94-2.06 2.06-.94-2.06-.94L8.5 2.5l-.94 2.06-2.06.94zm10 10l.94 2.06.94-2.06 2.06-.94-2.06-.94-.94-2.06-.94 2.06-2.06.94z\"/><path d=\"M17.41 7.96l-1.37-1.37c-.4-.4-.92-.59-1.43-.59-.52 0-1.04.2-1.43.59L10.3 9.45l-7.72 7.72c-.78.78-.78 2.05 0 2.83L4 21.41c.39.39.9.59 1.41.59.51 0 1.02-.2 1.41-.59l7.78-7.78 2.81-2.81c.8-.78.8-2.07 0-2.86zM5.41 20L4 18.59l7.72-7.72 1.47 1.35L5.41 20z\"/>\n",
              "  </svg>\n",
              "      </button>\n",
              "      \n",
              "  <style>\n",
              "    .colab-df-container {\n",
              "      display:flex;\n",
              "      flex-wrap:wrap;\n",
              "      gap: 12px;\n",
              "    }\n",
              "\n",
              "    .colab-df-convert {\n",
              "      background-color: #E8F0FE;\n",
              "      border: none;\n",
              "      border-radius: 50%;\n",
              "      cursor: pointer;\n",
              "      display: none;\n",
              "      fill: #1967D2;\n",
              "      height: 32px;\n",
              "      padding: 0 0 0 0;\n",
              "      width: 32px;\n",
              "    }\n",
              "\n",
              "    .colab-df-convert:hover {\n",
              "      background-color: #E2EBFA;\n",
              "      box-shadow: 0px 1px 2px rgba(60, 64, 67, 0.3), 0px 1px 3px 1px rgba(60, 64, 67, 0.15);\n",
              "      fill: #174EA6;\n",
              "    }\n",
              "\n",
              "    [theme=dark] .colab-df-convert {\n",
              "      background-color: #3B4455;\n",
              "      fill: #D2E3FC;\n",
              "    }\n",
              "\n",
              "    [theme=dark] .colab-df-convert:hover {\n",
              "      background-color: #434B5C;\n",
              "      box-shadow: 0px 1px 3px 1px rgba(0, 0, 0, 0.15);\n",
              "      filter: drop-shadow(0px 1px 2px rgba(0, 0, 0, 0.3));\n",
              "      fill: #FFFFFF;\n",
              "    }\n",
              "  </style>\n",
              "\n",
              "      <script>\n",
              "        const buttonEl =\n",
              "          document.querySelector('#df-07df63d0-94e9-4618-9648-58c6d8511746 button.colab-df-convert');\n",
              "        buttonEl.style.display =\n",
              "          google.colab.kernel.accessAllowed ? 'block' : 'none';\n",
              "\n",
              "        async function convertToInteractive(key) {\n",
              "          const element = document.querySelector('#df-07df63d0-94e9-4618-9648-58c6d8511746');\n",
              "          const dataTable =\n",
              "            await google.colab.kernel.invokeFunction('convertToInteractive',\n",
              "                                                     [key], {});\n",
              "          if (!dataTable) return;\n",
              "\n",
              "          const docLinkHtml = 'Like what you see? Visit the ' +\n",
              "            '<a target=\"_blank\" href=https://colab.research.google.com/notebooks/data_table.ipynb>data table notebook</a>'\n",
              "            + ' to learn more about interactive tables.';\n",
              "          element.innerHTML = '';\n",
              "          dataTable['output_type'] = 'display_data';\n",
              "          await google.colab.output.renderOutput(dataTable, element);\n",
              "          const docLink = document.createElement('div');\n",
              "          docLink.innerHTML = docLinkHtml;\n",
              "          element.appendChild(docLink);\n",
              "        }\n",
              "      </script>\n",
              "    </div>\n",
              "  </div>\n",
              "  "
            ],
            "text/plain": [
              "                                       user                timestamp     x  \\\n",
              "0  a2d80ed662f34d32951eb1c6ed076c313e358b73  2018-06-04 16:26:55.053  0.78   \n",
              "1  a2d80ed662f34d32951eb1c6ed076c313e358b73  2018-06-04 16:26:55.111  0.79   \n",
              "2  a2d80ed662f34d32951eb1c6ed076c313e358b73  2018-06-04 16:26:55.169  0.80   \n",
              "3  a2d80ed662f34d32951eb1c6ed076c313e358b73  2018-06-04 16:26:55.228  0.78   \n",
              "4  a2d80ed662f34d32951eb1c6ed076c313e358b73  2018-06-04 16:26:55.286  0.83   \n",
              "\n",
              "      y     z class  \n",
              "0 -9.13 -3.74   bus  \n",
              "1 -9.11 -3.75   bus  \n",
              "2 -9.12 -3.75   bus  \n",
              "3 -9.14 -3.76   bus  \n",
              "4 -9.12 -3.80   bus  "
            ]
          },
          "metadata": {},
          "execution_count": 277
        }
      ]
    },
    {
      "cell_type": "code",
      "source": [
        "print(len(df.user.unique())) #number of unique useers\n",
        "print(df.user.unique()) # userID of unique users"
      ],
      "metadata": {
        "colab": {
          "base_uri": "https://localhost:8080/"
        },
        "id": "z2uTy0_AExq6",
        "outputId": "0c03b9d4-867e-46e6-b440-b72e55226dec"
      },
      "execution_count": 278,
      "outputs": [
        {
          "output_type": "stream",
          "name": "stdout",
          "text": [
            "32\n",
            "['a2d80ed662f34d32951eb1c6ed076c313e358b73'\n",
            " 'a526f3566e9c9024dfa7378eb4291d787a09fd37'\n",
            " 'a59868c6eb3645eedbb343ce8c336ec6f2ef2324'\n",
            " 'a92dee88f61123f923dccec01eeecf1a81953b36'\n",
            " 'ac4c17afeb69b39169eb301ab592696a8f353976'\n",
            " 'adaaae1a67ea9e43abd60ba945eccda0cb8821e0'\n",
            " 'b138d165100ef60bc793cac143742eb5aea4d6ba'\n",
            " 'b45157069942d01310c3e7b74034166717bb25f9'\n",
            " 'b7b165e5637b5a0226068d907748f4bbfc61a320'\n",
            " 'c453226e3616ae821cdcb38f38481c2a20f2482f'\n",
            " 'c5702d34b238fe68683f818e82cd3a3cd8a16366'\n",
            " 'ca7950f223a8037b897d0547075dc138f9e43b20'\n",
            " 'cace4ec0999436917986b4fa6e9317262c897bc2'\n",
            " 'cbde60baea002b694ecf2a3ff2d95be16b00efe1'\n",
            " 'ce39f5d0705695fcd70a04ba6d84ac6beecd6f9c'\n",
            " 'd429974540bfd38c3367fe9f0c8682775ff4fa18'\n",
            " 'd7a1230d94f91a32cc079809748e52e8a4a6a22f'\n",
            " 'd7dd12d83c81574137f858034b99f4cc83ab0718'\n",
            " 'd8c047eaaee204b7b5cd71e2d67308b87b038ed3'\n",
            " 'dc0bdce306ec3b624fe0e6ecd1ffbd82cb970120'\n",
            " 'dd82e3df4bebc74ed6b67877be79e29f401c16a3'\n",
            " 'dde95e125d89843f7032baa734ee4d34ec775aaf'\n",
            " 'de9892b879c83ea3d24fb4560873107cc4e86d48'\n",
            " 'dfcfc0404691b73b69884073159f90843f2ac35b'\n",
            " 'e429a95c532f1117130c11e4a18379d84fa4ffa9'\n",
            " 'eb9e7854290fd6ea9ebaf448b640fc1f1dbeb076'\n",
            " 'ecfb0929250fb6dda66a4065441230ab27f094e5'\n",
            " 'ed623d28c1e0071632a6110b8f8ed93f8af78b99'\n",
            " 'f1b7331b66e404c11eebb22933e733117bbb12c9'\n",
            " 'f5edd999397145a2ec1b244226fc83f99631760c'\n",
            " 'f7ae1ce141c26db40ea8b090fb568a0c965310aa'\n",
            " 'faae5be800be2dfa897eea0bd2e5988cd53c4ec0']\n"
          ]
        }
      ]
    },
    {
      "cell_type": "code",
      "source": [
        "df.info()"
      ],
      "metadata": {
        "colab": {
          "base_uri": "https://localhost:8080/"
        },
        "id": "ANRwWJq9FQvs",
        "outputId": "2ae880d9-08a1-41a9-9085-65d35c9c4ec9"
      },
      "execution_count": 279,
      "outputs": [
        {
          "output_type": "stream",
          "name": "stdout",
          "text": [
            "<class 'pandas.core.frame.DataFrame'>\n",
            "RangeIndex: 5653053 entries, 0 to 5653052\n",
            "Data columns (total 6 columns):\n",
            " #   Column     Dtype  \n",
            "---  ------     -----  \n",
            " 0   user       object \n",
            " 1   timestamp  object \n",
            " 2   x          float64\n",
            " 3   y          float64\n",
            " 4   z          float64\n",
            " 5   class      object \n",
            "dtypes: float64(3), object(3)\n",
            "memory usage: 258.8+ MB\n"
          ]
        }
      ]
    },
    {
      "cell_type": "code",
      "source": [
        "len(df['user'])\n"
      ],
      "metadata": {
        "colab": {
          "base_uri": "https://localhost:8080/"
        },
        "id": "MOZWg8ODF7Vt",
        "outputId": "ec8a805a-e10e-47da-cc05-0c9af6a5a904"
      },
      "execution_count": 280,
      "outputs": [
        {
          "output_type": "execute_result",
          "data": {
            "text/plain": [
              "5653053"
            ]
          },
          "metadata": {},
          "execution_count": 280
        }
      ]
    },
    {
      "cell_type": "code",
      "source": [
        "\n",
        "# user_c=[]\n",
        "# for i in range(len(df['user'])-1):\n",
        "#   if (df['user'][i] != df['user'][i+1]):\n",
        "#     user_c.append(1)\n",
        "#   else:\n",
        "#     user_c.append(0)\n",
        "# user_c.append(1)\n",
        "# df['user_c'] = user_c"
      ],
      "metadata": {
        "id": "5zur8Fhm3GBG"
      },
      "execution_count": 281,
      "outputs": []
    },
    {
      "cell_type": "code",
      "source": [
        "# sum(df['user_c'])"
      ],
      "metadata": {
        "id": "v2X2z213Ut9-"
      },
      "execution_count": 282,
      "outputs": []
    },
    {
      "cell_type": "code",
      "source": [
        "# class_c=[]\n",
        "# for i in range(len(df['user'])-1):\n",
        "#   if (df['class'][i] != df['class'][i+1]):\n",
        "#     class_c.append(1)\n",
        "#   else:\n",
        "#     class_c.append(0)\n",
        "# class_c.append(1)\n",
        "# df['class_c'] = class_c"
      ],
      "metadata": {
        "id": "tHz4V7FM7pVl"
      },
      "execution_count": 283,
      "outputs": []
    },
    {
      "cell_type": "code",
      "source": [
        "# df.head()"
      ],
      "metadata": {
        "id": "1Tr5IUhCzjuA"
      },
      "execution_count": 284,
      "outputs": []
    },
    {
      "cell_type": "code",
      "source": [
        "# sum(df['class_c'])"
      ],
      "metadata": {
        "id": "vIJedjA8UmMj"
      },
      "execution_count": 285,
      "outputs": []
    },
    {
      "cell_type": "code",
      "source": [
        "df.head()"
      ],
      "metadata": {
        "id": "tWYaBths9z_B",
        "outputId": "500b935c-00d2-4c6b-c92f-fc378c305093",
        "colab": {
          "base_uri": "https://localhost:8080/",
          "height": 206
        }
      },
      "execution_count": 286,
      "outputs": [
        {
          "output_type": "execute_result",
          "data": {
            "text/html": [
              "\n",
              "  <div id=\"df-24a02094-df66-4d92-a705-35926c0b2291\">\n",
              "    <div class=\"colab-df-container\">\n",
              "      <div>\n",
              "<style scoped>\n",
              "    .dataframe tbody tr th:only-of-type {\n",
              "        vertical-align: middle;\n",
              "    }\n",
              "\n",
              "    .dataframe tbody tr th {\n",
              "        vertical-align: top;\n",
              "    }\n",
              "\n",
              "    .dataframe thead th {\n",
              "        text-align: right;\n",
              "    }\n",
              "</style>\n",
              "<table border=\"1\" class=\"dataframe\">\n",
              "  <thead>\n",
              "    <tr style=\"text-align: right;\">\n",
              "      <th></th>\n",
              "      <th>user</th>\n",
              "      <th>timestamp</th>\n",
              "      <th>x</th>\n",
              "      <th>y</th>\n",
              "      <th>z</th>\n",
              "      <th>class</th>\n",
              "    </tr>\n",
              "  </thead>\n",
              "  <tbody>\n",
              "    <tr>\n",
              "      <th>0</th>\n",
              "      <td>a2d80ed662f34d32951eb1c6ed076c313e358b73</td>\n",
              "      <td>2018-06-04 16:26:55.053</td>\n",
              "      <td>0.78</td>\n",
              "      <td>-9.13</td>\n",
              "      <td>-3.74</td>\n",
              "      <td>bus</td>\n",
              "    </tr>\n",
              "    <tr>\n",
              "      <th>1</th>\n",
              "      <td>a2d80ed662f34d32951eb1c6ed076c313e358b73</td>\n",
              "      <td>2018-06-04 16:26:55.111</td>\n",
              "      <td>0.79</td>\n",
              "      <td>-9.11</td>\n",
              "      <td>-3.75</td>\n",
              "      <td>bus</td>\n",
              "    </tr>\n",
              "    <tr>\n",
              "      <th>2</th>\n",
              "      <td>a2d80ed662f34d32951eb1c6ed076c313e358b73</td>\n",
              "      <td>2018-06-04 16:26:55.169</td>\n",
              "      <td>0.80</td>\n",
              "      <td>-9.12</td>\n",
              "      <td>-3.75</td>\n",
              "      <td>bus</td>\n",
              "    </tr>\n",
              "    <tr>\n",
              "      <th>3</th>\n",
              "      <td>a2d80ed662f34d32951eb1c6ed076c313e358b73</td>\n",
              "      <td>2018-06-04 16:26:55.228</td>\n",
              "      <td>0.78</td>\n",
              "      <td>-9.14</td>\n",
              "      <td>-3.76</td>\n",
              "      <td>bus</td>\n",
              "    </tr>\n",
              "    <tr>\n",
              "      <th>4</th>\n",
              "      <td>a2d80ed662f34d32951eb1c6ed076c313e358b73</td>\n",
              "      <td>2018-06-04 16:26:55.286</td>\n",
              "      <td>0.83</td>\n",
              "      <td>-9.12</td>\n",
              "      <td>-3.80</td>\n",
              "      <td>bus</td>\n",
              "    </tr>\n",
              "  </tbody>\n",
              "</table>\n",
              "</div>\n",
              "      <button class=\"colab-df-convert\" onclick=\"convertToInteractive('df-24a02094-df66-4d92-a705-35926c0b2291')\"\n",
              "              title=\"Convert this dataframe to an interactive table.\"\n",
              "              style=\"display:none;\">\n",
              "        \n",
              "  <svg xmlns=\"http://www.w3.org/2000/svg\" height=\"24px\"viewBox=\"0 0 24 24\"\n",
              "       width=\"24px\">\n",
              "    <path d=\"M0 0h24v24H0V0z\" fill=\"none\"/>\n",
              "    <path d=\"M18.56 5.44l.94 2.06.94-2.06 2.06-.94-2.06-.94-.94-2.06-.94 2.06-2.06.94zm-11 1L8.5 8.5l.94-2.06 2.06-.94-2.06-.94L8.5 2.5l-.94 2.06-2.06.94zm10 10l.94 2.06.94-2.06 2.06-.94-2.06-.94-.94-2.06-.94 2.06-2.06.94z\"/><path d=\"M17.41 7.96l-1.37-1.37c-.4-.4-.92-.59-1.43-.59-.52 0-1.04.2-1.43.59L10.3 9.45l-7.72 7.72c-.78.78-.78 2.05 0 2.83L4 21.41c.39.39.9.59 1.41.59.51 0 1.02-.2 1.41-.59l7.78-7.78 2.81-2.81c.8-.78.8-2.07 0-2.86zM5.41 20L4 18.59l7.72-7.72 1.47 1.35L5.41 20z\"/>\n",
              "  </svg>\n",
              "      </button>\n",
              "      \n",
              "  <style>\n",
              "    .colab-df-container {\n",
              "      display:flex;\n",
              "      flex-wrap:wrap;\n",
              "      gap: 12px;\n",
              "    }\n",
              "\n",
              "    .colab-df-convert {\n",
              "      background-color: #E8F0FE;\n",
              "      border: none;\n",
              "      border-radius: 50%;\n",
              "      cursor: pointer;\n",
              "      display: none;\n",
              "      fill: #1967D2;\n",
              "      height: 32px;\n",
              "      padding: 0 0 0 0;\n",
              "      width: 32px;\n",
              "    }\n",
              "\n",
              "    .colab-df-convert:hover {\n",
              "      background-color: #E2EBFA;\n",
              "      box-shadow: 0px 1px 2px rgba(60, 64, 67, 0.3), 0px 1px 3px 1px rgba(60, 64, 67, 0.15);\n",
              "      fill: #174EA6;\n",
              "    }\n",
              "\n",
              "    [theme=dark] .colab-df-convert {\n",
              "      background-color: #3B4455;\n",
              "      fill: #D2E3FC;\n",
              "    }\n",
              "\n",
              "    [theme=dark] .colab-df-convert:hover {\n",
              "      background-color: #434B5C;\n",
              "      box-shadow: 0px 1px 3px 1px rgba(0, 0, 0, 0.15);\n",
              "      filter: drop-shadow(0px 1px 2px rgba(0, 0, 0, 0.3));\n",
              "      fill: #FFFFFF;\n",
              "    }\n",
              "  </style>\n",
              "\n",
              "      <script>\n",
              "        const buttonEl =\n",
              "          document.querySelector('#df-24a02094-df66-4d92-a705-35926c0b2291 button.colab-df-convert');\n",
              "        buttonEl.style.display =\n",
              "          google.colab.kernel.accessAllowed ? 'block' : 'none';\n",
              "\n",
              "        async function convertToInteractive(key) {\n",
              "          const element = document.querySelector('#df-24a02094-df66-4d92-a705-35926c0b2291');\n",
              "          const dataTable =\n",
              "            await google.colab.kernel.invokeFunction('convertToInteractive',\n",
              "                                                     [key], {});\n",
              "          if (!dataTable) return;\n",
              "\n",
              "          const docLinkHtml = 'Like what you see? Visit the ' +\n",
              "            '<a target=\"_blank\" href=https://colab.research.google.com/notebooks/data_table.ipynb>data table notebook</a>'\n",
              "            + ' to learn more about interactive tables.';\n",
              "          element.innerHTML = '';\n",
              "          dataTable['output_type'] = 'display_data';\n",
              "          await google.colab.output.renderOutput(dataTable, element);\n",
              "          const docLink = document.createElement('div');\n",
              "          docLink.innerHTML = docLinkHtml;\n",
              "          element.appendChild(docLink);\n",
              "        }\n",
              "      </script>\n",
              "    </div>\n",
              "  </div>\n",
              "  "
            ],
            "text/plain": [
              "                                       user                timestamp     x  \\\n",
              "0  a2d80ed662f34d32951eb1c6ed076c313e358b73  2018-06-04 16:26:55.053  0.78   \n",
              "1  a2d80ed662f34d32951eb1c6ed076c313e358b73  2018-06-04 16:26:55.111  0.79   \n",
              "2  a2d80ed662f34d32951eb1c6ed076c313e358b73  2018-06-04 16:26:55.169  0.80   \n",
              "3  a2d80ed662f34d32951eb1c6ed076c313e358b73  2018-06-04 16:26:55.228  0.78   \n",
              "4  a2d80ed662f34d32951eb1c6ed076c313e358b73  2018-06-04 16:26:55.286  0.83   \n",
              "\n",
              "      y     z class  \n",
              "0 -9.13 -3.74   bus  \n",
              "1 -9.11 -3.75   bus  \n",
              "2 -9.12 -3.75   bus  \n",
              "3 -9.14 -3.76   bus  \n",
              "4 -9.12 -3.80   bus  "
            ]
          },
          "metadata": {},
          "execution_count": 286
        }
      ]
    },
    {
      "cell_type": "code",
      "source": [
        "#Added a new column 'seq_c to dataframe df whose value is 1 when user or mode changes otherwise value is zero.\n",
        "seq_c = []\n",
        "for i  in range(len(df['user'])-1):\n",
        "  if (df['class'][i] != df['class'][i+1] or df['user'][i] != df['user'][i+1]):\n",
        "    seq_c.append(1)\n",
        "  else :\n",
        "    seq_c.append(0)\n",
        "seq_c.append(1)\n",
        "df['seq_c'] = seq_c"
      ],
      "metadata": {
        "id": "2CNXpBy_-Hrg"
      },
      "execution_count": 287,
      "outputs": []
    },
    {
      "cell_type": "code",
      "source": [
        "sum(df['seq_c']) # counted no. of sequence change only due to changes in only user and mode"
      ],
      "metadata": {
        "id": "moq-x4KCUanJ",
        "outputId": "6fef5733-7fac-44a8-89a2-86b24cac6043",
        "colab": {
          "base_uri": "https://localhost:8080/"
        }
      },
      "execution_count": 288,
      "outputs": [
        {
          "output_type": "execute_result",
          "data": {
            "text/plain": [
              "138"
            ]
          },
          "metadata": {},
          "execution_count": 288
        }
      ]
    },
    {
      "cell_type": "code",
      "source": [
        "# df.head()"
      ],
      "metadata": {
        "id": "bPIQBnET-voD"
      },
      "execution_count": 289,
      "outputs": []
    },
    {
      "cell_type": "code",
      "source": [
        "df['time_s'] = df['timestamp'].shift(1, axis=0) # created a new column 'time_s' by shifting 'timestamp' column by one"
      ],
      "metadata": {
        "id": "rqWA3wYQk4Ml"
      },
      "execution_count": 290,
      "outputs": []
    },
    {
      "cell_type": "code",
      "source": [
        "df.head() "
      ],
      "metadata": {
        "colab": {
          "base_uri": "https://localhost:8080/",
          "height": 206
        },
        "id": "QnUnwbaHlsSn",
        "outputId": "61e31dfd-098f-459e-91d6-f3d494e9d6b0"
      },
      "execution_count": 291,
      "outputs": [
        {
          "output_type": "execute_result",
          "data": {
            "text/html": [
              "\n",
              "  <div id=\"df-71c68bff-c939-45c4-88b8-676806c36ff2\">\n",
              "    <div class=\"colab-df-container\">\n",
              "      <div>\n",
              "<style scoped>\n",
              "    .dataframe tbody tr th:only-of-type {\n",
              "        vertical-align: middle;\n",
              "    }\n",
              "\n",
              "    .dataframe tbody tr th {\n",
              "        vertical-align: top;\n",
              "    }\n",
              "\n",
              "    .dataframe thead th {\n",
              "        text-align: right;\n",
              "    }\n",
              "</style>\n",
              "<table border=\"1\" class=\"dataframe\">\n",
              "  <thead>\n",
              "    <tr style=\"text-align: right;\">\n",
              "      <th></th>\n",
              "      <th>user</th>\n",
              "      <th>timestamp</th>\n",
              "      <th>x</th>\n",
              "      <th>y</th>\n",
              "      <th>z</th>\n",
              "      <th>class</th>\n",
              "      <th>seq_c</th>\n",
              "      <th>time_s</th>\n",
              "    </tr>\n",
              "  </thead>\n",
              "  <tbody>\n",
              "    <tr>\n",
              "      <th>0</th>\n",
              "      <td>a2d80ed662f34d32951eb1c6ed076c313e358b73</td>\n",
              "      <td>2018-06-04 16:26:55.053</td>\n",
              "      <td>0.78</td>\n",
              "      <td>-9.13</td>\n",
              "      <td>-3.74</td>\n",
              "      <td>bus</td>\n",
              "      <td>0</td>\n",
              "      <td>NaN</td>\n",
              "    </tr>\n",
              "    <tr>\n",
              "      <th>1</th>\n",
              "      <td>a2d80ed662f34d32951eb1c6ed076c313e358b73</td>\n",
              "      <td>2018-06-04 16:26:55.111</td>\n",
              "      <td>0.79</td>\n",
              "      <td>-9.11</td>\n",
              "      <td>-3.75</td>\n",
              "      <td>bus</td>\n",
              "      <td>0</td>\n",
              "      <td>2018-06-04 16:26:55.053</td>\n",
              "    </tr>\n",
              "    <tr>\n",
              "      <th>2</th>\n",
              "      <td>a2d80ed662f34d32951eb1c6ed076c313e358b73</td>\n",
              "      <td>2018-06-04 16:26:55.169</td>\n",
              "      <td>0.80</td>\n",
              "      <td>-9.12</td>\n",
              "      <td>-3.75</td>\n",
              "      <td>bus</td>\n",
              "      <td>0</td>\n",
              "      <td>2018-06-04 16:26:55.111</td>\n",
              "    </tr>\n",
              "    <tr>\n",
              "      <th>3</th>\n",
              "      <td>a2d80ed662f34d32951eb1c6ed076c313e358b73</td>\n",
              "      <td>2018-06-04 16:26:55.228</td>\n",
              "      <td>0.78</td>\n",
              "      <td>-9.14</td>\n",
              "      <td>-3.76</td>\n",
              "      <td>bus</td>\n",
              "      <td>0</td>\n",
              "      <td>2018-06-04 16:26:55.169</td>\n",
              "    </tr>\n",
              "    <tr>\n",
              "      <th>4</th>\n",
              "      <td>a2d80ed662f34d32951eb1c6ed076c313e358b73</td>\n",
              "      <td>2018-06-04 16:26:55.286</td>\n",
              "      <td>0.83</td>\n",
              "      <td>-9.12</td>\n",
              "      <td>-3.80</td>\n",
              "      <td>bus</td>\n",
              "      <td>0</td>\n",
              "      <td>2018-06-04 16:26:55.228</td>\n",
              "    </tr>\n",
              "  </tbody>\n",
              "</table>\n",
              "</div>\n",
              "      <button class=\"colab-df-convert\" onclick=\"convertToInteractive('df-71c68bff-c939-45c4-88b8-676806c36ff2')\"\n",
              "              title=\"Convert this dataframe to an interactive table.\"\n",
              "              style=\"display:none;\">\n",
              "        \n",
              "  <svg xmlns=\"http://www.w3.org/2000/svg\" height=\"24px\"viewBox=\"0 0 24 24\"\n",
              "       width=\"24px\">\n",
              "    <path d=\"M0 0h24v24H0V0z\" fill=\"none\"/>\n",
              "    <path d=\"M18.56 5.44l.94 2.06.94-2.06 2.06-.94-2.06-.94-.94-2.06-.94 2.06-2.06.94zm-11 1L8.5 8.5l.94-2.06 2.06-.94-2.06-.94L8.5 2.5l-.94 2.06-2.06.94zm10 10l.94 2.06.94-2.06 2.06-.94-2.06-.94-.94-2.06-.94 2.06-2.06.94z\"/><path d=\"M17.41 7.96l-1.37-1.37c-.4-.4-.92-.59-1.43-.59-.52 0-1.04.2-1.43.59L10.3 9.45l-7.72 7.72c-.78.78-.78 2.05 0 2.83L4 21.41c.39.39.9.59 1.41.59.51 0 1.02-.2 1.41-.59l7.78-7.78 2.81-2.81c.8-.78.8-2.07 0-2.86zM5.41 20L4 18.59l7.72-7.72 1.47 1.35L5.41 20z\"/>\n",
              "  </svg>\n",
              "      </button>\n",
              "      \n",
              "  <style>\n",
              "    .colab-df-container {\n",
              "      display:flex;\n",
              "      flex-wrap:wrap;\n",
              "      gap: 12px;\n",
              "    }\n",
              "\n",
              "    .colab-df-convert {\n",
              "      background-color: #E8F0FE;\n",
              "      border: none;\n",
              "      border-radius: 50%;\n",
              "      cursor: pointer;\n",
              "      display: none;\n",
              "      fill: #1967D2;\n",
              "      height: 32px;\n",
              "      padding: 0 0 0 0;\n",
              "      width: 32px;\n",
              "    }\n",
              "\n",
              "    .colab-df-convert:hover {\n",
              "      background-color: #E2EBFA;\n",
              "      box-shadow: 0px 1px 2px rgba(60, 64, 67, 0.3), 0px 1px 3px 1px rgba(60, 64, 67, 0.15);\n",
              "      fill: #174EA6;\n",
              "    }\n",
              "\n",
              "    [theme=dark] .colab-df-convert {\n",
              "      background-color: #3B4455;\n",
              "      fill: #D2E3FC;\n",
              "    }\n",
              "\n",
              "    [theme=dark] .colab-df-convert:hover {\n",
              "      background-color: #434B5C;\n",
              "      box-shadow: 0px 1px 3px 1px rgba(0, 0, 0, 0.15);\n",
              "      filter: drop-shadow(0px 1px 2px rgba(0, 0, 0, 0.3));\n",
              "      fill: #FFFFFF;\n",
              "    }\n",
              "  </style>\n",
              "\n",
              "      <script>\n",
              "        const buttonEl =\n",
              "          document.querySelector('#df-71c68bff-c939-45c4-88b8-676806c36ff2 button.colab-df-convert');\n",
              "        buttonEl.style.display =\n",
              "          google.colab.kernel.accessAllowed ? 'block' : 'none';\n",
              "\n",
              "        async function convertToInteractive(key) {\n",
              "          const element = document.querySelector('#df-71c68bff-c939-45c4-88b8-676806c36ff2');\n",
              "          const dataTable =\n",
              "            await google.colab.kernel.invokeFunction('convertToInteractive',\n",
              "                                                     [key], {});\n",
              "          if (!dataTable) return;\n",
              "\n",
              "          const docLinkHtml = 'Like what you see? Visit the ' +\n",
              "            '<a target=\"_blank\" href=https://colab.research.google.com/notebooks/data_table.ipynb>data table notebook</a>'\n",
              "            + ' to learn more about interactive tables.';\n",
              "          element.innerHTML = '';\n",
              "          dataTable['output_type'] = 'display_data';\n",
              "          await google.colab.output.renderOutput(dataTable, element);\n",
              "          const docLink = document.createElement('div');\n",
              "          docLink.innerHTML = docLinkHtml;\n",
              "          element.appendChild(docLink);\n",
              "        }\n",
              "      </script>\n",
              "    </div>\n",
              "  </div>\n",
              "  "
            ],
            "text/plain": [
              "                                       user                timestamp     x  \\\n",
              "0  a2d80ed662f34d32951eb1c6ed076c313e358b73  2018-06-04 16:26:55.053  0.78   \n",
              "1  a2d80ed662f34d32951eb1c6ed076c313e358b73  2018-06-04 16:26:55.111  0.79   \n",
              "2  a2d80ed662f34d32951eb1c6ed076c313e358b73  2018-06-04 16:26:55.169  0.80   \n",
              "3  a2d80ed662f34d32951eb1c6ed076c313e358b73  2018-06-04 16:26:55.228  0.78   \n",
              "4  a2d80ed662f34d32951eb1c6ed076c313e358b73  2018-06-04 16:26:55.286  0.83   \n",
              "\n",
              "      y     z class  seq_c                   time_s  \n",
              "0 -9.13 -3.74   bus      0                      NaN  \n",
              "1 -9.11 -3.75   bus      0  2018-06-04 16:26:55.053  \n",
              "2 -9.12 -3.75   bus      0  2018-06-04 16:26:55.111  \n",
              "3 -9.14 -3.76   bus      0  2018-06-04 16:26:55.169  \n",
              "4 -9.12 -3.80   bus      0  2018-06-04 16:26:55.228  "
            ]
          },
          "metadata": {},
          "execution_count": 291
        }
      ]
    },
    {
      "cell_type": "code",
      "source": [
        "# converted 'timestamp' and 'time_s' columns into datatime64[s]\n",
        "df['timestamp'] = df['timestamp'].astype('datetime64[s]')\n",
        "df['time_s'] = df['time_s'].astype('datetime64[s]')\n"
      ],
      "metadata": {
        "id": "Q2LAR_hYlshL"
      },
      "execution_count": 292,
      "outputs": []
    },
    {
      "cell_type": "code",
      "source": [
        "#created a new columns 'time_d' by taking difference of 'timestam' and 'time_s'\n",
        "df['time_d'] = (df['timestamp'] - df['time_s'])/np.timedelta64(1, 's')"
      ],
      "metadata": {
        "id": "igc0QzJz5X-B"
      },
      "execution_count": 293,
      "outputs": []
    },
    {
      "cell_type": "code",
      "source": [
        "# df['time_d']"
      ],
      "metadata": {
        "id": "0H3-o7fK5YA4"
      },
      "execution_count": 294,
      "outputs": []
    },
    {
      "cell_type": "code",
      "source": [
        "#find unique user and unique mode and assign it to rows and col respectively\n",
        "rows = df['user'].unique()\n",
        "col = df['class'].unique()"
      ],
      "metadata": {
        "id": "B0gzKGs3EBPj"
      },
      "execution_count": 295,
      "outputs": []
    },
    {
      "cell_type": "code",
      "source": [
        "#find unique no. of user and unique no. of mode and assign it to rows_len and col_len respectively\n",
        "rows_len = len(df['user'].unique())\n",
        "col_len = len(df['class'].unique())"
      ],
      "metadata": {
        "id": "xysQXXaIAxX4"
      },
      "execution_count": 296,
      "outputs": []
    },
    {
      "cell_type": "code",
      "source": [
        "#created a 2d array of size (rows_len, col_len) with all elements 0.\n",
        "num_seq = np.zeros((rows_len, col_len))"
      ],
      "metadata": {
        "id": "iJ6QS2Vo-9Q7"
      },
      "execution_count": 297,
      "outputs": []
    },
    {
      "cell_type": "code",
      "source": [
        "#created a dataframe df_num_seg  with index=rows and column = col which will contain sequences corresponding to each users\n",
        "df_num_seq = pd.DataFrame(num_seq, index = rows,columns=col)"
      ],
      "metadata": {
        "id": "Wi-upGGeegl_"
      },
      "execution_count": 298,
      "outputs": []
    },
    {
      "cell_type": "code",
      "source": [
        "df['sequence'] = np.zeros(df.shape[0],int)"
      ],
      "metadata": {
        "id": "S2jfD8-khpJG"
      },
      "execution_count": 299,
      "outputs": []
    },
    {
      "cell_type": "code",
      "source": [
        "df['sequence'][0] = 1"
      ],
      "metadata": {
        "colab": {
          "base_uri": "https://localhost:8080/"
        },
        "id": "i46BzfX-hxeZ",
        "outputId": "28c2f6e3-8fed-4976-dc65-dd8f835d870b"
      },
      "execution_count": 300,
      "outputs": [
        {
          "output_type": "stream",
          "name": "stderr",
          "text": [
            "/usr/local/lib/python3.7/dist-packages/ipykernel_launcher.py:1: SettingWithCopyWarning: \n",
            "A value is trying to be set on a copy of a slice from a DataFrame\n",
            "\n",
            "See the caveats in the documentation: https://pandas.pydata.org/pandas-docs/stable/user_guide/indexing.html#returning-a-view-versus-a-copy\n",
            "  \"\"\"Entry point for launching an IPython kernel.\n"
          ]
        }
      ]
    },
    {
      "cell_type": "code",
      "source": [
        "#here values in dataframe df_num_seq are updated, if df['seq_c'] is equal to one (user or mode changes) or time difference is greater than 10 sec. \n",
        "#we will increment mode corrosponding to that user\n",
        "for i in range(len(df['seq_c'])):\n",
        "  if df['seq_c'][i] == 1 or df['time_d'][i] > 10:\n",
        "\n",
        "    df_num_seq.loc[df['user'][i], df['class'][i]] +=1\n",
        "    df['sequence'][i] = 1\n",
        "    "
      ],
      "metadata": {
        "colab": {
          "base_uri": "https://localhost:8080/"
        },
        "id": "VBbvVLNmeGAc",
        "outputId": "aea3b3f0-2158-43a4-f49e-aebe496dc960"
      },
      "execution_count": 301,
      "outputs": [
        {
          "output_type": "stream",
          "name": "stderr",
          "text": [
            "/usr/local/lib/python3.7/dist-packages/ipykernel_launcher.py:7: SettingWithCopyWarning: \n",
            "A value is trying to be set on a copy of a slice from a DataFrame\n",
            "\n",
            "See the caveats in the documentation: https://pandas.pydata.org/pandas-docs/stable/user_guide/indexing.html#returning-a-view-versus-a-copy\n",
            "  import sys\n"
          ]
        }
      ]
    },
    {
      "cell_type": "code",
      "source": [
        "# Answer of Question no. 2\n",
        "df_num_seq"
      ],
      "metadata": {
        "id": "j78QSxfQDO17",
        "colab": {
          "base_uri": "https://localhost:8080/",
          "height": 1000
        },
        "outputId": "5b38ae67-a2e1-4cda-aaea-4f42615a586e"
      },
      "execution_count": 302,
      "outputs": [
        {
          "output_type": "execute_result",
          "data": {
            "text/html": [
              "\n",
              "  <div id=\"df-c5d5a172-831c-482a-8ae7-992ccf9da038\">\n",
              "    <div class=\"colab-df-container\">\n",
              "      <div>\n",
              "<style scoped>\n",
              "    .dataframe tbody tr th:only-of-type {\n",
              "        vertical-align: middle;\n",
              "    }\n",
              "\n",
              "    .dataframe tbody tr th {\n",
              "        vertical-align: top;\n",
              "    }\n",
              "\n",
              "    .dataframe thead th {\n",
              "        text-align: right;\n",
              "    }\n",
              "</style>\n",
              "<table border=\"1\" class=\"dataframe\">\n",
              "  <thead>\n",
              "    <tr style=\"text-align: right;\">\n",
              "      <th></th>\n",
              "      <th>bus</th>\n",
              "      <th>walk</th>\n",
              "      <th>car</th>\n",
              "      <th>bike</th>\n",
              "      <th>train</th>\n",
              "      <th>e-bike</th>\n",
              "    </tr>\n",
              "  </thead>\n",
              "  <tbody>\n",
              "    <tr>\n",
              "      <th>a2d80ed662f34d32951eb1c6ed076c313e358b73</th>\n",
              "      <td>12.0</td>\n",
              "      <td>0.0</td>\n",
              "      <td>0.0</td>\n",
              "      <td>0.0</td>\n",
              "      <td>0.0</td>\n",
              "      <td>0.0</td>\n",
              "    </tr>\n",
              "    <tr>\n",
              "      <th>a526f3566e9c9024dfa7378eb4291d787a09fd37</th>\n",
              "      <td>0.0</td>\n",
              "      <td>22.0</td>\n",
              "      <td>17.0</td>\n",
              "      <td>0.0</td>\n",
              "      <td>0.0</td>\n",
              "      <td>0.0</td>\n",
              "    </tr>\n",
              "    <tr>\n",
              "      <th>a59868c6eb3645eedbb343ce8c336ec6f2ef2324</th>\n",
              "      <td>20.0</td>\n",
              "      <td>13.0</td>\n",
              "      <td>69.0</td>\n",
              "      <td>40.0</td>\n",
              "      <td>0.0</td>\n",
              "      <td>0.0</td>\n",
              "    </tr>\n",
              "    <tr>\n",
              "      <th>a92dee88f61123f923dccec01eeecf1a81953b36</th>\n",
              "      <td>3.0</td>\n",
              "      <td>0.0</td>\n",
              "      <td>0.0</td>\n",
              "      <td>0.0</td>\n",
              "      <td>0.0</td>\n",
              "      <td>0.0</td>\n",
              "    </tr>\n",
              "    <tr>\n",
              "      <th>ac4c17afeb69b39169eb301ab592696a8f353976</th>\n",
              "      <td>0.0</td>\n",
              "      <td>58.0</td>\n",
              "      <td>21.0</td>\n",
              "      <td>0.0</td>\n",
              "      <td>0.0</td>\n",
              "      <td>0.0</td>\n",
              "    </tr>\n",
              "    <tr>\n",
              "      <th>adaaae1a67ea9e43abd60ba945eccda0cb8821e0</th>\n",
              "      <td>24.0</td>\n",
              "      <td>11.0</td>\n",
              "      <td>20.0</td>\n",
              "      <td>0.0</td>\n",
              "      <td>0.0</td>\n",
              "      <td>0.0</td>\n",
              "    </tr>\n",
              "    <tr>\n",
              "      <th>b138d165100ef60bc793cac143742eb5aea4d6ba</th>\n",
              "      <td>0.0</td>\n",
              "      <td>0.0</td>\n",
              "      <td>10.0</td>\n",
              "      <td>0.0</td>\n",
              "      <td>0.0</td>\n",
              "      <td>0.0</td>\n",
              "    </tr>\n",
              "    <tr>\n",
              "      <th>b45157069942d01310c3e7b74034166717bb25f9</th>\n",
              "      <td>0.0</td>\n",
              "      <td>4.0</td>\n",
              "      <td>5.0</td>\n",
              "      <td>0.0</td>\n",
              "      <td>0.0</td>\n",
              "      <td>0.0</td>\n",
              "    </tr>\n",
              "    <tr>\n",
              "      <th>b7b165e5637b5a0226068d907748f4bbfc61a320</th>\n",
              "      <td>0.0</td>\n",
              "      <td>13.0</td>\n",
              "      <td>194.0</td>\n",
              "      <td>0.0</td>\n",
              "      <td>0.0</td>\n",
              "      <td>0.0</td>\n",
              "    </tr>\n",
              "    <tr>\n",
              "      <th>c453226e3616ae821cdcb38f38481c2a20f2482f</th>\n",
              "      <td>287.0</td>\n",
              "      <td>0.0</td>\n",
              "      <td>0.0</td>\n",
              "      <td>170.0</td>\n",
              "      <td>0.0</td>\n",
              "      <td>0.0</td>\n",
              "    </tr>\n",
              "    <tr>\n",
              "      <th>c5702d34b238fe68683f818e82cd3a3cd8a16366</th>\n",
              "      <td>15.0</td>\n",
              "      <td>123.0</td>\n",
              "      <td>0.0</td>\n",
              "      <td>16.0</td>\n",
              "      <td>0.0</td>\n",
              "      <td>0.0</td>\n",
              "    </tr>\n",
              "    <tr>\n",
              "      <th>ca7950f223a8037b897d0547075dc138f9e43b20</th>\n",
              "      <td>0.0</td>\n",
              "      <td>3.0</td>\n",
              "      <td>0.0</td>\n",
              "      <td>0.0</td>\n",
              "      <td>0.0</td>\n",
              "      <td>0.0</td>\n",
              "    </tr>\n",
              "    <tr>\n",
              "      <th>cace4ec0999436917986b4fa6e9317262c897bc2</th>\n",
              "      <td>0.0</td>\n",
              "      <td>0.0</td>\n",
              "      <td>73.0</td>\n",
              "      <td>0.0</td>\n",
              "      <td>0.0</td>\n",
              "      <td>0.0</td>\n",
              "    </tr>\n",
              "    <tr>\n",
              "      <th>cbde60baea002b694ecf2a3ff2d95be16b00efe1</th>\n",
              "      <td>4.0</td>\n",
              "      <td>0.0</td>\n",
              "      <td>0.0</td>\n",
              "      <td>0.0</td>\n",
              "      <td>0.0</td>\n",
              "      <td>0.0</td>\n",
              "    </tr>\n",
              "    <tr>\n",
              "      <th>ce39f5d0705695fcd70a04ba6d84ac6beecd6f9c</th>\n",
              "      <td>22.0</td>\n",
              "      <td>0.0</td>\n",
              "      <td>80.0</td>\n",
              "      <td>0.0</td>\n",
              "      <td>0.0</td>\n",
              "      <td>0.0</td>\n",
              "    </tr>\n",
              "    <tr>\n",
              "      <th>d429974540bfd38c3367fe9f0c8682775ff4fa18</th>\n",
              "      <td>7.0</td>\n",
              "      <td>3.0</td>\n",
              "      <td>121.0</td>\n",
              "      <td>0.0</td>\n",
              "      <td>0.0</td>\n",
              "      <td>0.0</td>\n",
              "    </tr>\n",
              "    <tr>\n",
              "      <th>d7a1230d94f91a32cc079809748e52e8a4a6a22f</th>\n",
              "      <td>0.0</td>\n",
              "      <td>7.0</td>\n",
              "      <td>0.0</td>\n",
              "      <td>152.0</td>\n",
              "      <td>14.0</td>\n",
              "      <td>0.0</td>\n",
              "    </tr>\n",
              "    <tr>\n",
              "      <th>d7dd12d83c81574137f858034b99f4cc83ab0718</th>\n",
              "      <td>0.0</td>\n",
              "      <td>0.0</td>\n",
              "      <td>144.0</td>\n",
              "      <td>0.0</td>\n",
              "      <td>0.0</td>\n",
              "      <td>0.0</td>\n",
              "    </tr>\n",
              "    <tr>\n",
              "      <th>d8c047eaaee204b7b5cd71e2d67308b87b038ed3</th>\n",
              "      <td>0.0</td>\n",
              "      <td>26.0</td>\n",
              "      <td>14.0</td>\n",
              "      <td>0.0</td>\n",
              "      <td>0.0</td>\n",
              "      <td>0.0</td>\n",
              "    </tr>\n",
              "    <tr>\n",
              "      <th>dc0bdce306ec3b624fe0e6ecd1ffbd82cb970120</th>\n",
              "      <td>0.0</td>\n",
              "      <td>5.0</td>\n",
              "      <td>30.0</td>\n",
              "      <td>110.0</td>\n",
              "      <td>0.0</td>\n",
              "      <td>0.0</td>\n",
              "    </tr>\n",
              "    <tr>\n",
              "      <th>dd82e3df4bebc74ed6b67877be79e29f401c16a3</th>\n",
              "      <td>0.0</td>\n",
              "      <td>3.0</td>\n",
              "      <td>67.0</td>\n",
              "      <td>0.0</td>\n",
              "      <td>0.0</td>\n",
              "      <td>0.0</td>\n",
              "    </tr>\n",
              "    <tr>\n",
              "      <th>dde95e125d89843f7032baa734ee4d34ec775aaf</th>\n",
              "      <td>5.0</td>\n",
              "      <td>9.0</td>\n",
              "      <td>2.0</td>\n",
              "      <td>0.0</td>\n",
              "      <td>0.0</td>\n",
              "      <td>0.0</td>\n",
              "    </tr>\n",
              "    <tr>\n",
              "      <th>de9892b879c83ea3d24fb4560873107cc4e86d48</th>\n",
              "      <td>0.0</td>\n",
              "      <td>35.0</td>\n",
              "      <td>109.0</td>\n",
              "      <td>0.0</td>\n",
              "      <td>0.0</td>\n",
              "      <td>0.0</td>\n",
              "    </tr>\n",
              "    <tr>\n",
              "      <th>dfcfc0404691b73b69884073159f90843f2ac35b</th>\n",
              "      <td>49.0</td>\n",
              "      <td>155.0</td>\n",
              "      <td>104.0</td>\n",
              "      <td>0.0</td>\n",
              "      <td>0.0</td>\n",
              "      <td>0.0</td>\n",
              "    </tr>\n",
              "    <tr>\n",
              "      <th>e429a95c532f1117130c11e4a18379d84fa4ffa9</th>\n",
              "      <td>41.0</td>\n",
              "      <td>0.0</td>\n",
              "      <td>35.0</td>\n",
              "      <td>0.0</td>\n",
              "      <td>0.0</td>\n",
              "      <td>0.0</td>\n",
              "    </tr>\n",
              "    <tr>\n",
              "      <th>eb9e7854290fd6ea9ebaf448b640fc1f1dbeb076</th>\n",
              "      <td>4.0</td>\n",
              "      <td>3.0</td>\n",
              "      <td>0.0</td>\n",
              "      <td>0.0</td>\n",
              "      <td>2.0</td>\n",
              "      <td>0.0</td>\n",
              "    </tr>\n",
              "    <tr>\n",
              "      <th>ecfb0929250fb6dda66a4065441230ab27f094e5</th>\n",
              "      <td>0.0</td>\n",
              "      <td>0.0</td>\n",
              "      <td>140.0</td>\n",
              "      <td>0.0</td>\n",
              "      <td>2.0</td>\n",
              "      <td>16.0</td>\n",
              "    </tr>\n",
              "    <tr>\n",
              "      <th>ed623d28c1e0071632a6110b8f8ed93f8af78b99</th>\n",
              "      <td>11.0</td>\n",
              "      <td>4.0</td>\n",
              "      <td>114.0</td>\n",
              "      <td>0.0</td>\n",
              "      <td>0.0</td>\n",
              "      <td>0.0</td>\n",
              "    </tr>\n",
              "    <tr>\n",
              "      <th>f1b7331b66e404c11eebb22933e733117bbb12c9</th>\n",
              "      <td>0.0</td>\n",
              "      <td>74.0</td>\n",
              "      <td>136.0</td>\n",
              "      <td>175.0</td>\n",
              "      <td>0.0</td>\n",
              "      <td>0.0</td>\n",
              "    </tr>\n",
              "    <tr>\n",
              "      <th>f5edd999397145a2ec1b244226fc83f99631760c</th>\n",
              "      <td>16.0</td>\n",
              "      <td>14.0</td>\n",
              "      <td>0.0</td>\n",
              "      <td>0.0</td>\n",
              "      <td>0.0</td>\n",
              "      <td>0.0</td>\n",
              "    </tr>\n",
              "    <tr>\n",
              "      <th>f7ae1ce141c26db40ea8b090fb568a0c965310aa</th>\n",
              "      <td>0.0</td>\n",
              "      <td>0.0</td>\n",
              "      <td>3.0</td>\n",
              "      <td>0.0</td>\n",
              "      <td>0.0</td>\n",
              "      <td>0.0</td>\n",
              "    </tr>\n",
              "    <tr>\n",
              "      <th>faae5be800be2dfa897eea0bd2e5988cd53c4ec0</th>\n",
              "      <td>0.0</td>\n",
              "      <td>36.0</td>\n",
              "      <td>11.0</td>\n",
              "      <td>137.0</td>\n",
              "      <td>0.0</td>\n",
              "      <td>0.0</td>\n",
              "    </tr>\n",
              "  </tbody>\n",
              "</table>\n",
              "</div>\n",
              "      <button class=\"colab-df-convert\" onclick=\"convertToInteractive('df-c5d5a172-831c-482a-8ae7-992ccf9da038')\"\n",
              "              title=\"Convert this dataframe to an interactive table.\"\n",
              "              style=\"display:none;\">\n",
              "        \n",
              "  <svg xmlns=\"http://www.w3.org/2000/svg\" height=\"24px\"viewBox=\"0 0 24 24\"\n",
              "       width=\"24px\">\n",
              "    <path d=\"M0 0h24v24H0V0z\" fill=\"none\"/>\n",
              "    <path d=\"M18.56 5.44l.94 2.06.94-2.06 2.06-.94-2.06-.94-.94-2.06-.94 2.06-2.06.94zm-11 1L8.5 8.5l.94-2.06 2.06-.94-2.06-.94L8.5 2.5l-.94 2.06-2.06.94zm10 10l.94 2.06.94-2.06 2.06-.94-2.06-.94-.94-2.06-.94 2.06-2.06.94z\"/><path d=\"M17.41 7.96l-1.37-1.37c-.4-.4-.92-.59-1.43-.59-.52 0-1.04.2-1.43.59L10.3 9.45l-7.72 7.72c-.78.78-.78 2.05 0 2.83L4 21.41c.39.39.9.59 1.41.59.51 0 1.02-.2 1.41-.59l7.78-7.78 2.81-2.81c.8-.78.8-2.07 0-2.86zM5.41 20L4 18.59l7.72-7.72 1.47 1.35L5.41 20z\"/>\n",
              "  </svg>\n",
              "      </button>\n",
              "      \n",
              "  <style>\n",
              "    .colab-df-container {\n",
              "      display:flex;\n",
              "      flex-wrap:wrap;\n",
              "      gap: 12px;\n",
              "    }\n",
              "\n",
              "    .colab-df-convert {\n",
              "      background-color: #E8F0FE;\n",
              "      border: none;\n",
              "      border-radius: 50%;\n",
              "      cursor: pointer;\n",
              "      display: none;\n",
              "      fill: #1967D2;\n",
              "      height: 32px;\n",
              "      padding: 0 0 0 0;\n",
              "      width: 32px;\n",
              "    }\n",
              "\n",
              "    .colab-df-convert:hover {\n",
              "      background-color: #E2EBFA;\n",
              "      box-shadow: 0px 1px 2px rgba(60, 64, 67, 0.3), 0px 1px 3px 1px rgba(60, 64, 67, 0.15);\n",
              "      fill: #174EA6;\n",
              "    }\n",
              "\n",
              "    [theme=dark] .colab-df-convert {\n",
              "      background-color: #3B4455;\n",
              "      fill: #D2E3FC;\n",
              "    }\n",
              "\n",
              "    [theme=dark] .colab-df-convert:hover {\n",
              "      background-color: #434B5C;\n",
              "      box-shadow: 0px 1px 3px 1px rgba(0, 0, 0, 0.15);\n",
              "      filter: drop-shadow(0px 1px 2px rgba(0, 0, 0, 0.3));\n",
              "      fill: #FFFFFF;\n",
              "    }\n",
              "  </style>\n",
              "\n",
              "      <script>\n",
              "        const buttonEl =\n",
              "          document.querySelector('#df-c5d5a172-831c-482a-8ae7-992ccf9da038 button.colab-df-convert');\n",
              "        buttonEl.style.display =\n",
              "          google.colab.kernel.accessAllowed ? 'block' : 'none';\n",
              "\n",
              "        async function convertToInteractive(key) {\n",
              "          const element = document.querySelector('#df-c5d5a172-831c-482a-8ae7-992ccf9da038');\n",
              "          const dataTable =\n",
              "            await google.colab.kernel.invokeFunction('convertToInteractive',\n",
              "                                                     [key], {});\n",
              "          if (!dataTable) return;\n",
              "\n",
              "          const docLinkHtml = 'Like what you see? Visit the ' +\n",
              "            '<a target=\"_blank\" href=https://colab.research.google.com/notebooks/data_table.ipynb>data table notebook</a>'\n",
              "            + ' to learn more about interactive tables.';\n",
              "          element.innerHTML = '';\n",
              "          dataTable['output_type'] = 'display_data';\n",
              "          await google.colab.output.renderOutput(dataTable, element);\n",
              "          const docLink = document.createElement('div');\n",
              "          docLink.innerHTML = docLinkHtml;\n",
              "          element.appendChild(docLink);\n",
              "        }\n",
              "      </script>\n",
              "    </div>\n",
              "  </div>\n",
              "  "
            ],
            "text/plain": [
              "                                            bus   walk    car   bike  train  \\\n",
              "a2d80ed662f34d32951eb1c6ed076c313e358b73   12.0    0.0    0.0    0.0    0.0   \n",
              "a526f3566e9c9024dfa7378eb4291d787a09fd37    0.0   22.0   17.0    0.0    0.0   \n",
              "a59868c6eb3645eedbb343ce8c336ec6f2ef2324   20.0   13.0   69.0   40.0    0.0   \n",
              "a92dee88f61123f923dccec01eeecf1a81953b36    3.0    0.0    0.0    0.0    0.0   \n",
              "ac4c17afeb69b39169eb301ab592696a8f353976    0.0   58.0   21.0    0.0    0.0   \n",
              "adaaae1a67ea9e43abd60ba945eccda0cb8821e0   24.0   11.0   20.0    0.0    0.0   \n",
              "b138d165100ef60bc793cac143742eb5aea4d6ba    0.0    0.0   10.0    0.0    0.0   \n",
              "b45157069942d01310c3e7b74034166717bb25f9    0.0    4.0    5.0    0.0    0.0   \n",
              "b7b165e5637b5a0226068d907748f4bbfc61a320    0.0   13.0  194.0    0.0    0.0   \n",
              "c453226e3616ae821cdcb38f38481c2a20f2482f  287.0    0.0    0.0  170.0    0.0   \n",
              "c5702d34b238fe68683f818e82cd3a3cd8a16366   15.0  123.0    0.0   16.0    0.0   \n",
              "ca7950f223a8037b897d0547075dc138f9e43b20    0.0    3.0    0.0    0.0    0.0   \n",
              "cace4ec0999436917986b4fa6e9317262c897bc2    0.0    0.0   73.0    0.0    0.0   \n",
              "cbde60baea002b694ecf2a3ff2d95be16b00efe1    4.0    0.0    0.0    0.0    0.0   \n",
              "ce39f5d0705695fcd70a04ba6d84ac6beecd6f9c   22.0    0.0   80.0    0.0    0.0   \n",
              "d429974540bfd38c3367fe9f0c8682775ff4fa18    7.0    3.0  121.0    0.0    0.0   \n",
              "d7a1230d94f91a32cc079809748e52e8a4a6a22f    0.0    7.0    0.0  152.0   14.0   \n",
              "d7dd12d83c81574137f858034b99f4cc83ab0718    0.0    0.0  144.0    0.0    0.0   \n",
              "d8c047eaaee204b7b5cd71e2d67308b87b038ed3    0.0   26.0   14.0    0.0    0.0   \n",
              "dc0bdce306ec3b624fe0e6ecd1ffbd82cb970120    0.0    5.0   30.0  110.0    0.0   \n",
              "dd82e3df4bebc74ed6b67877be79e29f401c16a3    0.0    3.0   67.0    0.0    0.0   \n",
              "dde95e125d89843f7032baa734ee4d34ec775aaf    5.0    9.0    2.0    0.0    0.0   \n",
              "de9892b879c83ea3d24fb4560873107cc4e86d48    0.0   35.0  109.0    0.0    0.0   \n",
              "dfcfc0404691b73b69884073159f90843f2ac35b   49.0  155.0  104.0    0.0    0.0   \n",
              "e429a95c532f1117130c11e4a18379d84fa4ffa9   41.0    0.0   35.0    0.0    0.0   \n",
              "eb9e7854290fd6ea9ebaf448b640fc1f1dbeb076    4.0    3.0    0.0    0.0    2.0   \n",
              "ecfb0929250fb6dda66a4065441230ab27f094e5    0.0    0.0  140.0    0.0    2.0   \n",
              "ed623d28c1e0071632a6110b8f8ed93f8af78b99   11.0    4.0  114.0    0.0    0.0   \n",
              "f1b7331b66e404c11eebb22933e733117bbb12c9    0.0   74.0  136.0  175.0    0.0   \n",
              "f5edd999397145a2ec1b244226fc83f99631760c   16.0   14.0    0.0    0.0    0.0   \n",
              "f7ae1ce141c26db40ea8b090fb568a0c965310aa    0.0    0.0    3.0    0.0    0.0   \n",
              "faae5be800be2dfa897eea0bd2e5988cd53c4ec0    0.0   36.0   11.0  137.0    0.0   \n",
              "\n",
              "                                          e-bike  \n",
              "a2d80ed662f34d32951eb1c6ed076c313e358b73     0.0  \n",
              "a526f3566e9c9024dfa7378eb4291d787a09fd37     0.0  \n",
              "a59868c6eb3645eedbb343ce8c336ec6f2ef2324     0.0  \n",
              "a92dee88f61123f923dccec01eeecf1a81953b36     0.0  \n",
              "ac4c17afeb69b39169eb301ab592696a8f353976     0.0  \n",
              "adaaae1a67ea9e43abd60ba945eccda0cb8821e0     0.0  \n",
              "b138d165100ef60bc793cac143742eb5aea4d6ba     0.0  \n",
              "b45157069942d01310c3e7b74034166717bb25f9     0.0  \n",
              "b7b165e5637b5a0226068d907748f4bbfc61a320     0.0  \n",
              "c453226e3616ae821cdcb38f38481c2a20f2482f     0.0  \n",
              "c5702d34b238fe68683f818e82cd3a3cd8a16366     0.0  \n",
              "ca7950f223a8037b897d0547075dc138f9e43b20     0.0  \n",
              "cace4ec0999436917986b4fa6e9317262c897bc2     0.0  \n",
              "cbde60baea002b694ecf2a3ff2d95be16b00efe1     0.0  \n",
              "ce39f5d0705695fcd70a04ba6d84ac6beecd6f9c     0.0  \n",
              "d429974540bfd38c3367fe9f0c8682775ff4fa18     0.0  \n",
              "d7a1230d94f91a32cc079809748e52e8a4a6a22f     0.0  \n",
              "d7dd12d83c81574137f858034b99f4cc83ab0718     0.0  \n",
              "d8c047eaaee204b7b5cd71e2d67308b87b038ed3     0.0  \n",
              "dc0bdce306ec3b624fe0e6ecd1ffbd82cb970120     0.0  \n",
              "dd82e3df4bebc74ed6b67877be79e29f401c16a3     0.0  \n",
              "dde95e125d89843f7032baa734ee4d34ec775aaf     0.0  \n",
              "de9892b879c83ea3d24fb4560873107cc4e86d48     0.0  \n",
              "dfcfc0404691b73b69884073159f90843f2ac35b     0.0  \n",
              "e429a95c532f1117130c11e4a18379d84fa4ffa9     0.0  \n",
              "eb9e7854290fd6ea9ebaf448b640fc1f1dbeb076     0.0  \n",
              "ecfb0929250fb6dda66a4065441230ab27f094e5    16.0  \n",
              "ed623d28c1e0071632a6110b8f8ed93f8af78b99     0.0  \n",
              "f1b7331b66e404c11eebb22933e733117bbb12c9     0.0  \n",
              "f5edd999397145a2ec1b244226fc83f99631760c     0.0  \n",
              "f7ae1ce141c26db40ea8b090fb568a0c965310aa     0.0  \n",
              "faae5be800be2dfa897eea0bd2e5988cd53c4ec0     0.0  "
            ]
          },
          "metadata": {},
          "execution_count": 302
        }
      ]
    },
    {
      "cell_type": "code",
      "source": [
        ""
      ],
      "metadata": {
        "id": "4obxwaA_3GWO"
      },
      "execution_count": 302,
      "outputs": []
    },
    {
      "cell_type": "code",
      "source": [
        ""
      ],
      "metadata": {
        "id": "JbzDNofS4vLD"
      },
      "execution_count": 302,
      "outputs": []
    },
    {
      "cell_type": "code",
      "source": [
        ""
      ],
      "metadata": {
        "id": "6M03aelZ3-zR"
      },
      "execution_count": 302,
      "outputs": []
    },
    {
      "cell_type": "code",
      "source": [
        "#Found total no. of sequences\n",
        "sum(df_num_seq['bus'])+sum(df_num_seq['walk'])+sum(df_num_seq['car'])+sum(df_num_seq['bike'])+sum(df_num_seq['train'])+sum(df_num_seq['e-bike'])"
      ],
      "metadata": {
        "id": "aAdVGk7AQw6j",
        "colab": {
          "base_uri": "https://localhost:8080/"
        },
        "outputId": "bae2b78f-7386-4c5b-a89e-c407e22a14bb"
      },
      "execution_count": 303,
      "outputs": [
        {
          "output_type": "execute_result",
          "data": {
            "text/plain": [
              "3494.0"
            ]
          },
          "metadata": {},
          "execution_count": 303
        }
      ]
    },
    {
      "cell_type": "code",
      "source": [
        "#find the cumulative some of sequence column of dataframe df\n",
        "df['sequence'] = df['sequence'].cumsum()"
      ],
      "metadata": {
        "id": "S2HmAcKf4FJ9"
      },
      "execution_count": 304,
      "outputs": []
    },
    {
      "cell_type": "code",
      "source": [
        "sum(df['sequence'])"
      ],
      "metadata": {
        "colab": {
          "base_uri": "https://localhost:8080/"
        },
        "id": "vWAKWaDT4NZ1",
        "outputId": "131bc409-75f8-42fc-c078-6a6dd0617af1"
      },
      "execution_count": 305,
      "outputs": [
        {
          "output_type": "execute_result",
          "data": {
            "text/plain": [
              "8203907963"
            ]
          },
          "metadata": {},
          "execution_count": 305
        }
      ]
    },
    {
      "cell_type": "code",
      "source": [
        "\n",
        "#df"
      ],
      "metadata": {
        "id": "gsqFeeA495H6"
      },
      "execution_count": 306,
      "outputs": []
    },
    {
      "cell_type": "markdown",
      "source": [
        "##Q.3"
      ],
      "metadata": {
        "id": "DbOFt2oZIIoa"
      }
    },
    {
      "cell_type": "code",
      "source": [
        "# df1 = df_num_seq.cumsum(axis = 0, skipna = True)"
      ],
      "metadata": {
        "id": "YrGwvTlJVk9G"
      },
      "execution_count": 307,
      "outputs": []
    },
    {
      "cell_type": "code",
      "source": [
        "df.head()"
      ],
      "metadata": {
        "colab": {
          "base_uri": "https://localhost:8080/",
          "height": 206
        },
        "id": "pdio3vF-L-N6",
        "outputId": "7758f979-73b9-46da-b62c-fd2ddd0c32b3"
      },
      "execution_count": 308,
      "outputs": [
        {
          "output_type": "execute_result",
          "data": {
            "text/html": [
              "\n",
              "  <div id=\"df-60b729d7-ecd3-496f-867f-bcf3117641f0\">\n",
              "    <div class=\"colab-df-container\">\n",
              "      <div>\n",
              "<style scoped>\n",
              "    .dataframe tbody tr th:only-of-type {\n",
              "        vertical-align: middle;\n",
              "    }\n",
              "\n",
              "    .dataframe tbody tr th {\n",
              "        vertical-align: top;\n",
              "    }\n",
              "\n",
              "    .dataframe thead th {\n",
              "        text-align: right;\n",
              "    }\n",
              "</style>\n",
              "<table border=\"1\" class=\"dataframe\">\n",
              "  <thead>\n",
              "    <tr style=\"text-align: right;\">\n",
              "      <th></th>\n",
              "      <th>user</th>\n",
              "      <th>timestamp</th>\n",
              "      <th>x</th>\n",
              "      <th>y</th>\n",
              "      <th>z</th>\n",
              "      <th>class</th>\n",
              "      <th>seq_c</th>\n",
              "      <th>time_s</th>\n",
              "      <th>time_d</th>\n",
              "      <th>sequence</th>\n",
              "    </tr>\n",
              "  </thead>\n",
              "  <tbody>\n",
              "    <tr>\n",
              "      <th>0</th>\n",
              "      <td>a2d80ed662f34d32951eb1c6ed076c313e358b73</td>\n",
              "      <td>2018-06-04 16:26:55</td>\n",
              "      <td>0.78</td>\n",
              "      <td>-9.13</td>\n",
              "      <td>-3.74</td>\n",
              "      <td>bus</td>\n",
              "      <td>0</td>\n",
              "      <td>NaT</td>\n",
              "      <td>NaN</td>\n",
              "      <td>1</td>\n",
              "    </tr>\n",
              "    <tr>\n",
              "      <th>1</th>\n",
              "      <td>a2d80ed662f34d32951eb1c6ed076c313e358b73</td>\n",
              "      <td>2018-06-04 16:26:55</td>\n",
              "      <td>0.79</td>\n",
              "      <td>-9.11</td>\n",
              "      <td>-3.75</td>\n",
              "      <td>bus</td>\n",
              "      <td>0</td>\n",
              "      <td>2018-06-04 16:26:55</td>\n",
              "      <td>0.0</td>\n",
              "      <td>1</td>\n",
              "    </tr>\n",
              "    <tr>\n",
              "      <th>2</th>\n",
              "      <td>a2d80ed662f34d32951eb1c6ed076c313e358b73</td>\n",
              "      <td>2018-06-04 16:26:55</td>\n",
              "      <td>0.80</td>\n",
              "      <td>-9.12</td>\n",
              "      <td>-3.75</td>\n",
              "      <td>bus</td>\n",
              "      <td>0</td>\n",
              "      <td>2018-06-04 16:26:55</td>\n",
              "      <td>0.0</td>\n",
              "      <td>1</td>\n",
              "    </tr>\n",
              "    <tr>\n",
              "      <th>3</th>\n",
              "      <td>a2d80ed662f34d32951eb1c6ed076c313e358b73</td>\n",
              "      <td>2018-06-04 16:26:55</td>\n",
              "      <td>0.78</td>\n",
              "      <td>-9.14</td>\n",
              "      <td>-3.76</td>\n",
              "      <td>bus</td>\n",
              "      <td>0</td>\n",
              "      <td>2018-06-04 16:26:55</td>\n",
              "      <td>0.0</td>\n",
              "      <td>1</td>\n",
              "    </tr>\n",
              "    <tr>\n",
              "      <th>4</th>\n",
              "      <td>a2d80ed662f34d32951eb1c6ed076c313e358b73</td>\n",
              "      <td>2018-06-04 16:26:55</td>\n",
              "      <td>0.83</td>\n",
              "      <td>-9.12</td>\n",
              "      <td>-3.80</td>\n",
              "      <td>bus</td>\n",
              "      <td>0</td>\n",
              "      <td>2018-06-04 16:26:55</td>\n",
              "      <td>0.0</td>\n",
              "      <td>1</td>\n",
              "    </tr>\n",
              "  </tbody>\n",
              "</table>\n",
              "</div>\n",
              "      <button class=\"colab-df-convert\" onclick=\"convertToInteractive('df-60b729d7-ecd3-496f-867f-bcf3117641f0')\"\n",
              "              title=\"Convert this dataframe to an interactive table.\"\n",
              "              style=\"display:none;\">\n",
              "        \n",
              "  <svg xmlns=\"http://www.w3.org/2000/svg\" height=\"24px\"viewBox=\"0 0 24 24\"\n",
              "       width=\"24px\">\n",
              "    <path d=\"M0 0h24v24H0V0z\" fill=\"none\"/>\n",
              "    <path d=\"M18.56 5.44l.94 2.06.94-2.06 2.06-.94-2.06-.94-.94-2.06-.94 2.06-2.06.94zm-11 1L8.5 8.5l.94-2.06 2.06-.94-2.06-.94L8.5 2.5l-.94 2.06-2.06.94zm10 10l.94 2.06.94-2.06 2.06-.94-2.06-.94-.94-2.06-.94 2.06-2.06.94z\"/><path d=\"M17.41 7.96l-1.37-1.37c-.4-.4-.92-.59-1.43-.59-.52 0-1.04.2-1.43.59L10.3 9.45l-7.72 7.72c-.78.78-.78 2.05 0 2.83L4 21.41c.39.39.9.59 1.41.59.51 0 1.02-.2 1.41-.59l7.78-7.78 2.81-2.81c.8-.78.8-2.07 0-2.86zM5.41 20L4 18.59l7.72-7.72 1.47 1.35L5.41 20z\"/>\n",
              "  </svg>\n",
              "      </button>\n",
              "      \n",
              "  <style>\n",
              "    .colab-df-container {\n",
              "      display:flex;\n",
              "      flex-wrap:wrap;\n",
              "      gap: 12px;\n",
              "    }\n",
              "\n",
              "    .colab-df-convert {\n",
              "      background-color: #E8F0FE;\n",
              "      border: none;\n",
              "      border-radius: 50%;\n",
              "      cursor: pointer;\n",
              "      display: none;\n",
              "      fill: #1967D2;\n",
              "      height: 32px;\n",
              "      padding: 0 0 0 0;\n",
              "      width: 32px;\n",
              "    }\n",
              "\n",
              "    .colab-df-convert:hover {\n",
              "      background-color: #E2EBFA;\n",
              "      box-shadow: 0px 1px 2px rgba(60, 64, 67, 0.3), 0px 1px 3px 1px rgba(60, 64, 67, 0.15);\n",
              "      fill: #174EA6;\n",
              "    }\n",
              "\n",
              "    [theme=dark] .colab-df-convert {\n",
              "      background-color: #3B4455;\n",
              "      fill: #D2E3FC;\n",
              "    }\n",
              "\n",
              "    [theme=dark] .colab-df-convert:hover {\n",
              "      background-color: #434B5C;\n",
              "      box-shadow: 0px 1px 3px 1px rgba(0, 0, 0, 0.15);\n",
              "      filter: drop-shadow(0px 1px 2px rgba(0, 0, 0, 0.3));\n",
              "      fill: #FFFFFF;\n",
              "    }\n",
              "  </style>\n",
              "\n",
              "      <script>\n",
              "        const buttonEl =\n",
              "          document.querySelector('#df-60b729d7-ecd3-496f-867f-bcf3117641f0 button.colab-df-convert');\n",
              "        buttonEl.style.display =\n",
              "          google.colab.kernel.accessAllowed ? 'block' : 'none';\n",
              "\n",
              "        async function convertToInteractive(key) {\n",
              "          const element = document.querySelector('#df-60b729d7-ecd3-496f-867f-bcf3117641f0');\n",
              "          const dataTable =\n",
              "            await google.colab.kernel.invokeFunction('convertToInteractive',\n",
              "                                                     [key], {});\n",
              "          if (!dataTable) return;\n",
              "\n",
              "          const docLinkHtml = 'Like what you see? Visit the ' +\n",
              "            '<a target=\"_blank\" href=https://colab.research.google.com/notebooks/data_table.ipynb>data table notebook</a>'\n",
              "            + ' to learn more about interactive tables.';\n",
              "          element.innerHTML = '';\n",
              "          dataTable['output_type'] = 'display_data';\n",
              "          await google.colab.output.renderOutput(dataTable, element);\n",
              "          const docLink = document.createElement('div');\n",
              "          docLink.innerHTML = docLinkHtml;\n",
              "          element.appendChild(docLink);\n",
              "        }\n",
              "      </script>\n",
              "    </div>\n",
              "  </div>\n",
              "  "
            ],
            "text/plain": [
              "                                       user           timestamp     x     y  \\\n",
              "0  a2d80ed662f34d32951eb1c6ed076c313e358b73 2018-06-04 16:26:55  0.78 -9.13   \n",
              "1  a2d80ed662f34d32951eb1c6ed076c313e358b73 2018-06-04 16:26:55  0.79 -9.11   \n",
              "2  a2d80ed662f34d32951eb1c6ed076c313e358b73 2018-06-04 16:26:55  0.80 -9.12   \n",
              "3  a2d80ed662f34d32951eb1c6ed076c313e358b73 2018-06-04 16:26:55  0.78 -9.14   \n",
              "4  a2d80ed662f34d32951eb1c6ed076c313e358b73 2018-06-04 16:26:55  0.83 -9.12   \n",
              "\n",
              "      z class  seq_c              time_s  time_d  sequence  \n",
              "0 -3.74   bus      0                 NaT     NaN         1  \n",
              "1 -3.75   bus      0 2018-06-04 16:26:55     0.0         1  \n",
              "2 -3.75   bus      0 2018-06-04 16:26:55     0.0         1  \n",
              "3 -3.76   bus      0 2018-06-04 16:26:55     0.0         1  \n",
              "4 -3.80   bus      0 2018-06-04 16:26:55     0.0         1  "
            ]
          },
          "metadata": {},
          "execution_count": 308
        }
      ]
    },
    {
      "cell_type": "code",
      "source": [
        "#dropped seq_c column from df\n",
        "df = df.drop(['seq_c'],axis = 1)"
      ],
      "metadata": {
        "id": "hUen_WEx50G_"
      },
      "execution_count": 309,
      "outputs": []
    },
    {
      "cell_type": "code",
      "source": [
        "df['min_t'] = df.groupby('sequence').timestamp.transform('min')"
      ],
      "metadata": {
        "id": "caAiXNvx6hSs"
      },
      "execution_count": 310,
      "outputs": []
    },
    {
      "cell_type": "code",
      "source": [
        "df.head()"
      ],
      "metadata": {
        "colab": {
          "base_uri": "https://localhost:8080/",
          "height": 206
        },
        "id": "70JugKTS56Vh",
        "outputId": "9343e769-04c6-409f-b75c-ad5b129c8d9f"
      },
      "execution_count": 311,
      "outputs": [
        {
          "output_type": "execute_result",
          "data": {
            "text/html": [
              "\n",
              "  <div id=\"df-70c59e8d-db9d-4e0a-8da6-23dab8ec9591\">\n",
              "    <div class=\"colab-df-container\">\n",
              "      <div>\n",
              "<style scoped>\n",
              "    .dataframe tbody tr th:only-of-type {\n",
              "        vertical-align: middle;\n",
              "    }\n",
              "\n",
              "    .dataframe tbody tr th {\n",
              "        vertical-align: top;\n",
              "    }\n",
              "\n",
              "    .dataframe thead th {\n",
              "        text-align: right;\n",
              "    }\n",
              "</style>\n",
              "<table border=\"1\" class=\"dataframe\">\n",
              "  <thead>\n",
              "    <tr style=\"text-align: right;\">\n",
              "      <th></th>\n",
              "      <th>user</th>\n",
              "      <th>timestamp</th>\n",
              "      <th>x</th>\n",
              "      <th>y</th>\n",
              "      <th>z</th>\n",
              "      <th>class</th>\n",
              "      <th>time_s</th>\n",
              "      <th>time_d</th>\n",
              "      <th>sequence</th>\n",
              "      <th>min_t</th>\n",
              "    </tr>\n",
              "  </thead>\n",
              "  <tbody>\n",
              "    <tr>\n",
              "      <th>0</th>\n",
              "      <td>a2d80ed662f34d32951eb1c6ed076c313e358b73</td>\n",
              "      <td>2018-06-04 16:26:55</td>\n",
              "      <td>0.78</td>\n",
              "      <td>-9.13</td>\n",
              "      <td>-3.74</td>\n",
              "      <td>bus</td>\n",
              "      <td>NaT</td>\n",
              "      <td>NaN</td>\n",
              "      <td>1</td>\n",
              "      <td>2018-06-04 16:26:55</td>\n",
              "    </tr>\n",
              "    <tr>\n",
              "      <th>1</th>\n",
              "      <td>a2d80ed662f34d32951eb1c6ed076c313e358b73</td>\n",
              "      <td>2018-06-04 16:26:55</td>\n",
              "      <td>0.79</td>\n",
              "      <td>-9.11</td>\n",
              "      <td>-3.75</td>\n",
              "      <td>bus</td>\n",
              "      <td>2018-06-04 16:26:55</td>\n",
              "      <td>0.0</td>\n",
              "      <td>1</td>\n",
              "      <td>2018-06-04 16:26:55</td>\n",
              "    </tr>\n",
              "    <tr>\n",
              "      <th>2</th>\n",
              "      <td>a2d80ed662f34d32951eb1c6ed076c313e358b73</td>\n",
              "      <td>2018-06-04 16:26:55</td>\n",
              "      <td>0.80</td>\n",
              "      <td>-9.12</td>\n",
              "      <td>-3.75</td>\n",
              "      <td>bus</td>\n",
              "      <td>2018-06-04 16:26:55</td>\n",
              "      <td>0.0</td>\n",
              "      <td>1</td>\n",
              "      <td>2018-06-04 16:26:55</td>\n",
              "    </tr>\n",
              "    <tr>\n",
              "      <th>3</th>\n",
              "      <td>a2d80ed662f34d32951eb1c6ed076c313e358b73</td>\n",
              "      <td>2018-06-04 16:26:55</td>\n",
              "      <td>0.78</td>\n",
              "      <td>-9.14</td>\n",
              "      <td>-3.76</td>\n",
              "      <td>bus</td>\n",
              "      <td>2018-06-04 16:26:55</td>\n",
              "      <td>0.0</td>\n",
              "      <td>1</td>\n",
              "      <td>2018-06-04 16:26:55</td>\n",
              "    </tr>\n",
              "    <tr>\n",
              "      <th>4</th>\n",
              "      <td>a2d80ed662f34d32951eb1c6ed076c313e358b73</td>\n",
              "      <td>2018-06-04 16:26:55</td>\n",
              "      <td>0.83</td>\n",
              "      <td>-9.12</td>\n",
              "      <td>-3.80</td>\n",
              "      <td>bus</td>\n",
              "      <td>2018-06-04 16:26:55</td>\n",
              "      <td>0.0</td>\n",
              "      <td>1</td>\n",
              "      <td>2018-06-04 16:26:55</td>\n",
              "    </tr>\n",
              "  </tbody>\n",
              "</table>\n",
              "</div>\n",
              "      <button class=\"colab-df-convert\" onclick=\"convertToInteractive('df-70c59e8d-db9d-4e0a-8da6-23dab8ec9591')\"\n",
              "              title=\"Convert this dataframe to an interactive table.\"\n",
              "              style=\"display:none;\">\n",
              "        \n",
              "  <svg xmlns=\"http://www.w3.org/2000/svg\" height=\"24px\"viewBox=\"0 0 24 24\"\n",
              "       width=\"24px\">\n",
              "    <path d=\"M0 0h24v24H0V0z\" fill=\"none\"/>\n",
              "    <path d=\"M18.56 5.44l.94 2.06.94-2.06 2.06-.94-2.06-.94-.94-2.06-.94 2.06-2.06.94zm-11 1L8.5 8.5l.94-2.06 2.06-.94-2.06-.94L8.5 2.5l-.94 2.06-2.06.94zm10 10l.94 2.06.94-2.06 2.06-.94-2.06-.94-.94-2.06-.94 2.06-2.06.94z\"/><path d=\"M17.41 7.96l-1.37-1.37c-.4-.4-.92-.59-1.43-.59-.52 0-1.04.2-1.43.59L10.3 9.45l-7.72 7.72c-.78.78-.78 2.05 0 2.83L4 21.41c.39.39.9.59 1.41.59.51 0 1.02-.2 1.41-.59l7.78-7.78 2.81-2.81c.8-.78.8-2.07 0-2.86zM5.41 20L4 18.59l7.72-7.72 1.47 1.35L5.41 20z\"/>\n",
              "  </svg>\n",
              "      </button>\n",
              "      \n",
              "  <style>\n",
              "    .colab-df-container {\n",
              "      display:flex;\n",
              "      flex-wrap:wrap;\n",
              "      gap: 12px;\n",
              "    }\n",
              "\n",
              "    .colab-df-convert {\n",
              "      background-color: #E8F0FE;\n",
              "      border: none;\n",
              "      border-radius: 50%;\n",
              "      cursor: pointer;\n",
              "      display: none;\n",
              "      fill: #1967D2;\n",
              "      height: 32px;\n",
              "      padding: 0 0 0 0;\n",
              "      width: 32px;\n",
              "    }\n",
              "\n",
              "    .colab-df-convert:hover {\n",
              "      background-color: #E2EBFA;\n",
              "      box-shadow: 0px 1px 2px rgba(60, 64, 67, 0.3), 0px 1px 3px 1px rgba(60, 64, 67, 0.15);\n",
              "      fill: #174EA6;\n",
              "    }\n",
              "\n",
              "    [theme=dark] .colab-df-convert {\n",
              "      background-color: #3B4455;\n",
              "      fill: #D2E3FC;\n",
              "    }\n",
              "\n",
              "    [theme=dark] .colab-df-convert:hover {\n",
              "      background-color: #434B5C;\n",
              "      box-shadow: 0px 1px 3px 1px rgba(0, 0, 0, 0.15);\n",
              "      filter: drop-shadow(0px 1px 2px rgba(0, 0, 0, 0.3));\n",
              "      fill: #FFFFFF;\n",
              "    }\n",
              "  </style>\n",
              "\n",
              "      <script>\n",
              "        const buttonEl =\n",
              "          document.querySelector('#df-70c59e8d-db9d-4e0a-8da6-23dab8ec9591 button.colab-df-convert');\n",
              "        buttonEl.style.display =\n",
              "          google.colab.kernel.accessAllowed ? 'block' : 'none';\n",
              "\n",
              "        async function convertToInteractive(key) {\n",
              "          const element = document.querySelector('#df-70c59e8d-db9d-4e0a-8da6-23dab8ec9591');\n",
              "          const dataTable =\n",
              "            await google.colab.kernel.invokeFunction('convertToInteractive',\n",
              "                                                     [key], {});\n",
              "          if (!dataTable) return;\n",
              "\n",
              "          const docLinkHtml = 'Like what you see? Visit the ' +\n",
              "            '<a target=\"_blank\" href=https://colab.research.google.com/notebooks/data_table.ipynb>data table notebook</a>'\n",
              "            + ' to learn more about interactive tables.';\n",
              "          element.innerHTML = '';\n",
              "          dataTable['output_type'] = 'display_data';\n",
              "          await google.colab.output.renderOutput(dataTable, element);\n",
              "          const docLink = document.createElement('div');\n",
              "          docLink.innerHTML = docLinkHtml;\n",
              "          element.appendChild(docLink);\n",
              "        }\n",
              "      </script>\n",
              "    </div>\n",
              "  </div>\n",
              "  "
            ],
            "text/plain": [
              "                                       user           timestamp     x     y  \\\n",
              "0  a2d80ed662f34d32951eb1c6ed076c313e358b73 2018-06-04 16:26:55  0.78 -9.13   \n",
              "1  a2d80ed662f34d32951eb1c6ed076c313e358b73 2018-06-04 16:26:55  0.79 -9.11   \n",
              "2  a2d80ed662f34d32951eb1c6ed076c313e358b73 2018-06-04 16:26:55  0.80 -9.12   \n",
              "3  a2d80ed662f34d32951eb1c6ed076c313e358b73 2018-06-04 16:26:55  0.78 -9.14   \n",
              "4  a2d80ed662f34d32951eb1c6ed076c313e358b73 2018-06-04 16:26:55  0.83 -9.12   \n",
              "\n",
              "      z class              time_s  time_d  sequence               min_t  \n",
              "0 -3.74   bus                 NaT     NaN         1 2018-06-04 16:26:55  \n",
              "1 -3.75   bus 2018-06-04 16:26:55     0.0         1 2018-06-04 16:26:55  \n",
              "2 -3.75   bus 2018-06-04 16:26:55     0.0         1 2018-06-04 16:26:55  \n",
              "3 -3.76   bus 2018-06-04 16:26:55     0.0         1 2018-06-04 16:26:55  \n",
              "4 -3.80   bus 2018-06-04 16:26:55     0.0         1 2018-06-04 16:26:55  "
            ]
          },
          "metadata": {},
          "execution_count": 311
        }
      ]
    },
    {
      "cell_type": "code",
      "source": [
        "def CreatePartition(seq_id, t, minT):\n",
        "  r = (t-minT)/np.timedelta64(1,'s')\n",
        "  r_int = int(r/5)\n",
        "  r_str = str(r_int)\n",
        "  ans = str(seq_id) + \"->\" + r_str\n",
        "  return ans"
      ],
      "metadata": {
        "id": "-aGK-woF6DC0"
      },
      "execution_count": 312,
      "outputs": []
    },
    {
      "cell_type": "code",
      "source": [
        "df['part_idx'] = np.vectorize(CreatePartition)(df['sequence'], df['timestamp'],df['min_t'])"
      ],
      "metadata": {
        "id": "AV2LXIpX-ASi"
      },
      "execution_count": 313,
      "outputs": []
    },
    {
      "cell_type": "code",
      "source": [
        "df['part_idx'].nunique()"
      ],
      "metadata": {
        "colab": {
          "base_uri": "https://localhost:8080/"
        },
        "id": "FwIRPu9hANdx",
        "outputId": "4dff2eb6-9e04-4c32-d2e8-876cc4d59748"
      },
      "execution_count": 314,
      "outputs": [
        {
          "output_type": "execute_result",
          "data": {
            "text/plain": [
              "40593"
            ]
          },
          "metadata": {},
          "execution_count": 314
        }
      ]
    },
    {
      "cell_type": "code",
      "source": [
        "df.head()"
      ],
      "metadata": {
        "colab": {
          "base_uri": "https://localhost:8080/",
          "height": 206
        },
        "id": "Mfez4QO4BItC",
        "outputId": "b3c58319-1845-498f-ba0d-087ebfb6341d"
      },
      "execution_count": 315,
      "outputs": [
        {
          "output_type": "execute_result",
          "data": {
            "text/html": [
              "\n",
              "  <div id=\"df-20842796-931e-4971-bedc-34cd1a918adf\">\n",
              "    <div class=\"colab-df-container\">\n",
              "      <div>\n",
              "<style scoped>\n",
              "    .dataframe tbody tr th:only-of-type {\n",
              "        vertical-align: middle;\n",
              "    }\n",
              "\n",
              "    .dataframe tbody tr th {\n",
              "        vertical-align: top;\n",
              "    }\n",
              "\n",
              "    .dataframe thead th {\n",
              "        text-align: right;\n",
              "    }\n",
              "</style>\n",
              "<table border=\"1\" class=\"dataframe\">\n",
              "  <thead>\n",
              "    <tr style=\"text-align: right;\">\n",
              "      <th></th>\n",
              "      <th>user</th>\n",
              "      <th>timestamp</th>\n",
              "      <th>x</th>\n",
              "      <th>y</th>\n",
              "      <th>z</th>\n",
              "      <th>class</th>\n",
              "      <th>time_s</th>\n",
              "      <th>time_d</th>\n",
              "      <th>sequence</th>\n",
              "      <th>min_t</th>\n",
              "      <th>part_idx</th>\n",
              "    </tr>\n",
              "  </thead>\n",
              "  <tbody>\n",
              "    <tr>\n",
              "      <th>0</th>\n",
              "      <td>a2d80ed662f34d32951eb1c6ed076c313e358b73</td>\n",
              "      <td>2018-06-04 16:26:55</td>\n",
              "      <td>0.78</td>\n",
              "      <td>-9.13</td>\n",
              "      <td>-3.74</td>\n",
              "      <td>bus</td>\n",
              "      <td>NaT</td>\n",
              "      <td>NaN</td>\n",
              "      <td>1</td>\n",
              "      <td>2018-06-04 16:26:55</td>\n",
              "      <td>1-&gt;0</td>\n",
              "    </tr>\n",
              "    <tr>\n",
              "      <th>1</th>\n",
              "      <td>a2d80ed662f34d32951eb1c6ed076c313e358b73</td>\n",
              "      <td>2018-06-04 16:26:55</td>\n",
              "      <td>0.79</td>\n",
              "      <td>-9.11</td>\n",
              "      <td>-3.75</td>\n",
              "      <td>bus</td>\n",
              "      <td>2018-06-04 16:26:55</td>\n",
              "      <td>0.0</td>\n",
              "      <td>1</td>\n",
              "      <td>2018-06-04 16:26:55</td>\n",
              "      <td>1-&gt;0</td>\n",
              "    </tr>\n",
              "    <tr>\n",
              "      <th>2</th>\n",
              "      <td>a2d80ed662f34d32951eb1c6ed076c313e358b73</td>\n",
              "      <td>2018-06-04 16:26:55</td>\n",
              "      <td>0.80</td>\n",
              "      <td>-9.12</td>\n",
              "      <td>-3.75</td>\n",
              "      <td>bus</td>\n",
              "      <td>2018-06-04 16:26:55</td>\n",
              "      <td>0.0</td>\n",
              "      <td>1</td>\n",
              "      <td>2018-06-04 16:26:55</td>\n",
              "      <td>1-&gt;0</td>\n",
              "    </tr>\n",
              "    <tr>\n",
              "      <th>3</th>\n",
              "      <td>a2d80ed662f34d32951eb1c6ed076c313e358b73</td>\n",
              "      <td>2018-06-04 16:26:55</td>\n",
              "      <td>0.78</td>\n",
              "      <td>-9.14</td>\n",
              "      <td>-3.76</td>\n",
              "      <td>bus</td>\n",
              "      <td>2018-06-04 16:26:55</td>\n",
              "      <td>0.0</td>\n",
              "      <td>1</td>\n",
              "      <td>2018-06-04 16:26:55</td>\n",
              "      <td>1-&gt;0</td>\n",
              "    </tr>\n",
              "    <tr>\n",
              "      <th>4</th>\n",
              "      <td>a2d80ed662f34d32951eb1c6ed076c313e358b73</td>\n",
              "      <td>2018-06-04 16:26:55</td>\n",
              "      <td>0.83</td>\n",
              "      <td>-9.12</td>\n",
              "      <td>-3.80</td>\n",
              "      <td>bus</td>\n",
              "      <td>2018-06-04 16:26:55</td>\n",
              "      <td>0.0</td>\n",
              "      <td>1</td>\n",
              "      <td>2018-06-04 16:26:55</td>\n",
              "      <td>1-&gt;0</td>\n",
              "    </tr>\n",
              "  </tbody>\n",
              "</table>\n",
              "</div>\n",
              "      <button class=\"colab-df-convert\" onclick=\"convertToInteractive('df-20842796-931e-4971-bedc-34cd1a918adf')\"\n",
              "              title=\"Convert this dataframe to an interactive table.\"\n",
              "              style=\"display:none;\">\n",
              "        \n",
              "  <svg xmlns=\"http://www.w3.org/2000/svg\" height=\"24px\"viewBox=\"0 0 24 24\"\n",
              "       width=\"24px\">\n",
              "    <path d=\"M0 0h24v24H0V0z\" fill=\"none\"/>\n",
              "    <path d=\"M18.56 5.44l.94 2.06.94-2.06 2.06-.94-2.06-.94-.94-2.06-.94 2.06-2.06.94zm-11 1L8.5 8.5l.94-2.06 2.06-.94-2.06-.94L8.5 2.5l-.94 2.06-2.06.94zm10 10l.94 2.06.94-2.06 2.06-.94-2.06-.94-.94-2.06-.94 2.06-2.06.94z\"/><path d=\"M17.41 7.96l-1.37-1.37c-.4-.4-.92-.59-1.43-.59-.52 0-1.04.2-1.43.59L10.3 9.45l-7.72 7.72c-.78.78-.78 2.05 0 2.83L4 21.41c.39.39.9.59 1.41.59.51 0 1.02-.2 1.41-.59l7.78-7.78 2.81-2.81c.8-.78.8-2.07 0-2.86zM5.41 20L4 18.59l7.72-7.72 1.47 1.35L5.41 20z\"/>\n",
              "  </svg>\n",
              "      </button>\n",
              "      \n",
              "  <style>\n",
              "    .colab-df-container {\n",
              "      display:flex;\n",
              "      flex-wrap:wrap;\n",
              "      gap: 12px;\n",
              "    }\n",
              "\n",
              "    .colab-df-convert {\n",
              "      background-color: #E8F0FE;\n",
              "      border: none;\n",
              "      border-radius: 50%;\n",
              "      cursor: pointer;\n",
              "      display: none;\n",
              "      fill: #1967D2;\n",
              "      height: 32px;\n",
              "      padding: 0 0 0 0;\n",
              "      width: 32px;\n",
              "    }\n",
              "\n",
              "    .colab-df-convert:hover {\n",
              "      background-color: #E2EBFA;\n",
              "      box-shadow: 0px 1px 2px rgba(60, 64, 67, 0.3), 0px 1px 3px 1px rgba(60, 64, 67, 0.15);\n",
              "      fill: #174EA6;\n",
              "    }\n",
              "\n",
              "    [theme=dark] .colab-df-convert {\n",
              "      background-color: #3B4455;\n",
              "      fill: #D2E3FC;\n",
              "    }\n",
              "\n",
              "    [theme=dark] .colab-df-convert:hover {\n",
              "      background-color: #434B5C;\n",
              "      box-shadow: 0px 1px 3px 1px rgba(0, 0, 0, 0.15);\n",
              "      filter: drop-shadow(0px 1px 2px rgba(0, 0, 0, 0.3));\n",
              "      fill: #FFFFFF;\n",
              "    }\n",
              "  </style>\n",
              "\n",
              "      <script>\n",
              "        const buttonEl =\n",
              "          document.querySelector('#df-20842796-931e-4971-bedc-34cd1a918adf button.colab-df-convert');\n",
              "        buttonEl.style.display =\n",
              "          google.colab.kernel.accessAllowed ? 'block' : 'none';\n",
              "\n",
              "        async function convertToInteractive(key) {\n",
              "          const element = document.querySelector('#df-20842796-931e-4971-bedc-34cd1a918adf');\n",
              "          const dataTable =\n",
              "            await google.colab.kernel.invokeFunction('convertToInteractive',\n",
              "                                                     [key], {});\n",
              "          if (!dataTable) return;\n",
              "\n",
              "          const docLinkHtml = 'Like what you see? Visit the ' +\n",
              "            '<a target=\"_blank\" href=https://colab.research.google.com/notebooks/data_table.ipynb>data table notebook</a>'\n",
              "            + ' to learn more about interactive tables.';\n",
              "          element.innerHTML = '';\n",
              "          dataTable['output_type'] = 'display_data';\n",
              "          await google.colab.output.renderOutput(dataTable, element);\n",
              "          const docLink = document.createElement('div');\n",
              "          docLink.innerHTML = docLinkHtml;\n",
              "          element.appendChild(docLink);\n",
              "        }\n",
              "      </script>\n",
              "    </div>\n",
              "  </div>\n",
              "  "
            ],
            "text/plain": [
              "                                       user           timestamp     x     y  \\\n",
              "0  a2d80ed662f34d32951eb1c6ed076c313e358b73 2018-06-04 16:26:55  0.78 -9.13   \n",
              "1  a2d80ed662f34d32951eb1c6ed076c313e358b73 2018-06-04 16:26:55  0.79 -9.11   \n",
              "2  a2d80ed662f34d32951eb1c6ed076c313e358b73 2018-06-04 16:26:55  0.80 -9.12   \n",
              "3  a2d80ed662f34d32951eb1c6ed076c313e358b73 2018-06-04 16:26:55  0.78 -9.14   \n",
              "4  a2d80ed662f34d32951eb1c6ed076c313e358b73 2018-06-04 16:26:55  0.83 -9.12   \n",
              "\n",
              "      z class              time_s  time_d  sequence               min_t  \\\n",
              "0 -3.74   bus                 NaT     NaN         1 2018-06-04 16:26:55   \n",
              "1 -3.75   bus 2018-06-04 16:26:55     0.0         1 2018-06-04 16:26:55   \n",
              "2 -3.75   bus 2018-06-04 16:26:55     0.0         1 2018-06-04 16:26:55   \n",
              "3 -3.76   bus 2018-06-04 16:26:55     0.0         1 2018-06-04 16:26:55   \n",
              "4 -3.80   bus 2018-06-04 16:26:55     0.0         1 2018-06-04 16:26:55   \n",
              "\n",
              "  part_idx  \n",
              "0     1->0  \n",
              "1     1->0  \n",
              "2     1->0  \n",
              "3     1->0  \n",
              "4     1->0  "
            ]
          },
          "metadata": {},
          "execution_count": 315
        }
      ]
    },
    {
      "cell_type": "code",
      "source": [
        "df4 = df.drop(['timestamp','x','y','z','time_s','time_d','sequence','min_t'], axis = 1)"
      ],
      "metadata": {
        "id": "NbdL88sLCWat"
      },
      "execution_count": 316,
      "outputs": []
    },
    {
      "cell_type": "code",
      "source": [
        "df3 = df4.groupby(['user','class']).nunique()"
      ],
      "metadata": {
        "id": "Io0BJvuHBDUA"
      },
      "execution_count": 317,
      "outputs": []
    },
    {
      "cell_type": "code",
      "source": [
        "pd.set_option('display.max_rows',None, 'display.max_columns',None)\n",
        "df3"
      ],
      "metadata": {
        "colab": {
          "base_uri": "https://localhost:8080/",
          "height": 1000
        },
        "id": "xa_cXHikCM2w",
        "outputId": "1dc7a64c-15d5-4e72-edae-b7365e8eab31"
      },
      "execution_count": 318,
      "outputs": [
        {
          "output_type": "execute_result",
          "data": {
            "text/html": [
              "\n",
              "  <div id=\"df-9b323f47-bb15-4985-8dca-bc70d7adbf6b\">\n",
              "    <div class=\"colab-df-container\">\n",
              "      <div>\n",
              "<style scoped>\n",
              "    .dataframe tbody tr th:only-of-type {\n",
              "        vertical-align: middle;\n",
              "    }\n",
              "\n",
              "    .dataframe tbody tr th {\n",
              "        vertical-align: top;\n",
              "    }\n",
              "\n",
              "    .dataframe thead th {\n",
              "        text-align: right;\n",
              "    }\n",
              "</style>\n",
              "<table border=\"1\" class=\"dataframe\">\n",
              "  <thead>\n",
              "    <tr style=\"text-align: right;\">\n",
              "      <th></th>\n",
              "      <th></th>\n",
              "      <th>part_idx</th>\n",
              "    </tr>\n",
              "    <tr>\n",
              "      <th>user</th>\n",
              "      <th>class</th>\n",
              "      <th></th>\n",
              "    </tr>\n",
              "  </thead>\n",
              "  <tbody>\n",
              "    <tr>\n",
              "      <th>a2d80ed662f34d32951eb1c6ed076c313e358b73</th>\n",
              "      <th>bus</th>\n",
              "      <td>35</td>\n",
              "    </tr>\n",
              "    <tr>\n",
              "      <th rowspan=\"2\" valign=\"top\">a526f3566e9c9024dfa7378eb4291d787a09fd37</th>\n",
              "      <th>car</th>\n",
              "      <td>1546</td>\n",
              "    </tr>\n",
              "    <tr>\n",
              "      <th>walk</th>\n",
              "      <td>302</td>\n",
              "    </tr>\n",
              "    <tr>\n",
              "      <th rowspan=\"4\" valign=\"top\">a59868c6eb3645eedbb343ce8c336ec6f2ef2324</th>\n",
              "      <th>bike</th>\n",
              "      <td>572</td>\n",
              "    </tr>\n",
              "    <tr>\n",
              "      <th>bus</th>\n",
              "      <td>3854</td>\n",
              "    </tr>\n",
              "    <tr>\n",
              "      <th>car</th>\n",
              "      <td>2090</td>\n",
              "    </tr>\n",
              "    <tr>\n",
              "      <th>walk</th>\n",
              "      <td>827</td>\n",
              "    </tr>\n",
              "    <tr>\n",
              "      <th>a92dee88f61123f923dccec01eeecf1a81953b36</th>\n",
              "      <th>bus</th>\n",
              "      <td>730</td>\n",
              "    </tr>\n",
              "    <tr>\n",
              "      <th rowspan=\"2\" valign=\"top\">ac4c17afeb69b39169eb301ab592696a8f353976</th>\n",
              "      <th>car</th>\n",
              "      <td>63</td>\n",
              "    </tr>\n",
              "    <tr>\n",
              "      <th>walk</th>\n",
              "      <td>480</td>\n",
              "    </tr>\n",
              "    <tr>\n",
              "      <th rowspan=\"3\" valign=\"top\">adaaae1a67ea9e43abd60ba945eccda0cb8821e0</th>\n",
              "      <th>bus</th>\n",
              "      <td>1160</td>\n",
              "    </tr>\n",
              "    <tr>\n",
              "      <th>car</th>\n",
              "      <td>537</td>\n",
              "    </tr>\n",
              "    <tr>\n",
              "      <th>walk</th>\n",
              "      <td>155</td>\n",
              "    </tr>\n",
              "    <tr>\n",
              "      <th>b138d165100ef60bc793cac143742eb5aea4d6ba</th>\n",
              "      <th>car</th>\n",
              "      <td>416</td>\n",
              "    </tr>\n",
              "    <tr>\n",
              "      <th rowspan=\"2\" valign=\"top\">b45157069942d01310c3e7b74034166717bb25f9</th>\n",
              "      <th>car</th>\n",
              "      <td>430</td>\n",
              "    </tr>\n",
              "    <tr>\n",
              "      <th>walk</th>\n",
              "      <td>76</td>\n",
              "    </tr>\n",
              "    <tr>\n",
              "      <th rowspan=\"2\" valign=\"top\">b7b165e5637b5a0226068d907748f4bbfc61a320</th>\n",
              "      <th>car</th>\n",
              "      <td>2135</td>\n",
              "    </tr>\n",
              "    <tr>\n",
              "      <th>walk</th>\n",
              "      <td>206</td>\n",
              "    </tr>\n",
              "    <tr>\n",
              "      <th rowspan=\"2\" valign=\"top\">c453226e3616ae821cdcb38f38481c2a20f2482f</th>\n",
              "      <th>bike</th>\n",
              "      <td>502</td>\n",
              "    </tr>\n",
              "    <tr>\n",
              "      <th>bus</th>\n",
              "      <td>1469</td>\n",
              "    </tr>\n",
              "    <tr>\n",
              "      <th rowspan=\"3\" valign=\"top\">c5702d34b238fe68683f818e82cd3a3cd8a16366</th>\n",
              "      <th>bike</th>\n",
              "      <td>204</td>\n",
              "    </tr>\n",
              "    <tr>\n",
              "      <th>bus</th>\n",
              "      <td>200</td>\n",
              "    </tr>\n",
              "    <tr>\n",
              "      <th>walk</th>\n",
              "      <td>1243</td>\n",
              "    </tr>\n",
              "    <tr>\n",
              "      <th>ca7950f223a8037b897d0547075dc138f9e43b20</th>\n",
              "      <th>walk</th>\n",
              "      <td>65</td>\n",
              "    </tr>\n",
              "    <tr>\n",
              "      <th>cace4ec0999436917986b4fa6e9317262c897bc2</th>\n",
              "      <th>car</th>\n",
              "      <td>1151</td>\n",
              "    </tr>\n",
              "    <tr>\n",
              "      <th>cbde60baea002b694ecf2a3ff2d95be16b00efe1</th>\n",
              "      <th>bus</th>\n",
              "      <td>414</td>\n",
              "    </tr>\n",
              "    <tr>\n",
              "      <th rowspan=\"2\" valign=\"top\">ce39f5d0705695fcd70a04ba6d84ac6beecd6f9c</th>\n",
              "      <th>bus</th>\n",
              "      <td>448</td>\n",
              "    </tr>\n",
              "    <tr>\n",
              "      <th>car</th>\n",
              "      <td>506</td>\n",
              "    </tr>\n",
              "    <tr>\n",
              "      <th rowspan=\"3\" valign=\"top\">d429974540bfd38c3367fe9f0c8682775ff4fa18</th>\n",
              "      <th>bus</th>\n",
              "      <td>521</td>\n",
              "    </tr>\n",
              "    <tr>\n",
              "      <th>car</th>\n",
              "      <td>921</td>\n",
              "    </tr>\n",
              "    <tr>\n",
              "      <th>walk</th>\n",
              "      <td>102</td>\n",
              "    </tr>\n",
              "    <tr>\n",
              "      <th rowspan=\"3\" valign=\"top\">d7a1230d94f91a32cc079809748e52e8a4a6a22f</th>\n",
              "      <th>bike</th>\n",
              "      <td>369</td>\n",
              "    </tr>\n",
              "    <tr>\n",
              "      <th>train</th>\n",
              "      <td>420</td>\n",
              "    </tr>\n",
              "    <tr>\n",
              "      <th>walk</th>\n",
              "      <td>81</td>\n",
              "    </tr>\n",
              "    <tr>\n",
              "      <th>d7dd12d83c81574137f858034b99f4cc83ab0718</th>\n",
              "      <th>car</th>\n",
              "      <td>674</td>\n",
              "    </tr>\n",
              "    <tr>\n",
              "      <th rowspan=\"2\" valign=\"top\">d8c047eaaee204b7b5cd71e2d67308b87b038ed3</th>\n",
              "      <th>car</th>\n",
              "      <td>1762</td>\n",
              "    </tr>\n",
              "    <tr>\n",
              "      <th>walk</th>\n",
              "      <td>165</td>\n",
              "    </tr>\n",
              "    <tr>\n",
              "      <th rowspan=\"3\" valign=\"top\">dc0bdce306ec3b624fe0e6ecd1ffbd82cb970120</th>\n",
              "      <th>bike</th>\n",
              "      <td>574</td>\n",
              "    </tr>\n",
              "    <tr>\n",
              "      <th>car</th>\n",
              "      <td>148</td>\n",
              "    </tr>\n",
              "    <tr>\n",
              "      <th>walk</th>\n",
              "      <td>37</td>\n",
              "    </tr>\n",
              "    <tr>\n",
              "      <th rowspan=\"2\" valign=\"top\">dd82e3df4bebc74ed6b67877be79e29f401c16a3</th>\n",
              "      <th>car</th>\n",
              "      <td>940</td>\n",
              "    </tr>\n",
              "    <tr>\n",
              "      <th>walk</th>\n",
              "      <td>237</td>\n",
              "    </tr>\n",
              "    <tr>\n",
              "      <th rowspan=\"3\" valign=\"top\">dde95e125d89843f7032baa734ee4d34ec775aaf</th>\n",
              "      <th>bus</th>\n",
              "      <td>35</td>\n",
              "    </tr>\n",
              "    <tr>\n",
              "      <th>car</th>\n",
              "      <td>43</td>\n",
              "    </tr>\n",
              "    <tr>\n",
              "      <th>walk</th>\n",
              "      <td>51</td>\n",
              "    </tr>\n",
              "    <tr>\n",
              "      <th rowspan=\"2\" valign=\"top\">de9892b879c83ea3d24fb4560873107cc4e86d48</th>\n",
              "      <th>car</th>\n",
              "      <td>925</td>\n",
              "    </tr>\n",
              "    <tr>\n",
              "      <th>walk</th>\n",
              "      <td>337</td>\n",
              "    </tr>\n",
              "    <tr>\n",
              "      <th rowspan=\"3\" valign=\"top\">dfcfc0404691b73b69884073159f90843f2ac35b</th>\n",
              "      <th>bus</th>\n",
              "      <td>441</td>\n",
              "    </tr>\n",
              "    <tr>\n",
              "      <th>car</th>\n",
              "      <td>1271</td>\n",
              "    </tr>\n",
              "    <tr>\n",
              "      <th>walk</th>\n",
              "      <td>797</td>\n",
              "    </tr>\n",
              "    <tr>\n",
              "      <th rowspan=\"2\" valign=\"top\">e429a95c532f1117130c11e4a18379d84fa4ffa9</th>\n",
              "      <th>bus</th>\n",
              "      <td>620</td>\n",
              "    </tr>\n",
              "    <tr>\n",
              "      <th>car</th>\n",
              "      <td>185</td>\n",
              "    </tr>\n",
              "    <tr>\n",
              "      <th rowspan=\"3\" valign=\"top\">eb9e7854290fd6ea9ebaf448b640fc1f1dbeb076</th>\n",
              "      <th>bus</th>\n",
              "      <td>359</td>\n",
              "    </tr>\n",
              "    <tr>\n",
              "      <th>train</th>\n",
              "      <td>159</td>\n",
              "    </tr>\n",
              "    <tr>\n",
              "      <th>walk</th>\n",
              "      <td>198</td>\n",
              "    </tr>\n",
              "    <tr>\n",
              "      <th rowspan=\"3\" valign=\"top\">ecfb0929250fb6dda66a4065441230ab27f094e5</th>\n",
              "      <th>car</th>\n",
              "      <td>1029</td>\n",
              "    </tr>\n",
              "    <tr>\n",
              "      <th>e-bike</th>\n",
              "      <td>81</td>\n",
              "    </tr>\n",
              "    <tr>\n",
              "      <th>train</th>\n",
              "      <td>22</td>\n",
              "    </tr>\n",
              "    <tr>\n",
              "      <th rowspan=\"3\" valign=\"top\">ed623d28c1e0071632a6110b8f8ed93f8af78b99</th>\n",
              "      <th>bus</th>\n",
              "      <td>72</td>\n",
              "    </tr>\n",
              "    <tr>\n",
              "      <th>car</th>\n",
              "      <td>2175</td>\n",
              "    </tr>\n",
              "    <tr>\n",
              "      <th>walk</th>\n",
              "      <td>17</td>\n",
              "    </tr>\n",
              "    <tr>\n",
              "      <th rowspan=\"3\" valign=\"top\">f1b7331b66e404c11eebb22933e733117bbb12c9</th>\n",
              "      <th>bike</th>\n",
              "      <td>397</td>\n",
              "    </tr>\n",
              "    <tr>\n",
              "      <th>car</th>\n",
              "      <td>779</td>\n",
              "    </tr>\n",
              "    <tr>\n",
              "      <th>walk</th>\n",
              "      <td>199</td>\n",
              "    </tr>\n",
              "    <tr>\n",
              "      <th rowspan=\"2\" valign=\"top\">f5edd999397145a2ec1b244226fc83f99631760c</th>\n",
              "      <th>bus</th>\n",
              "      <td>303</td>\n",
              "    </tr>\n",
              "    <tr>\n",
              "      <th>walk</th>\n",
              "      <td>120</td>\n",
              "    </tr>\n",
              "    <tr>\n",
              "      <th>f7ae1ce141c26db40ea8b090fb568a0c965310aa</th>\n",
              "      <th>car</th>\n",
              "      <td>290</td>\n",
              "    </tr>\n",
              "    <tr>\n",
              "      <th rowspan=\"3\" valign=\"top\">faae5be800be2dfa897eea0bd2e5988cd53c4ec0</th>\n",
              "      <th>bike</th>\n",
              "      <td>543</td>\n",
              "    </tr>\n",
              "    <tr>\n",
              "      <th>car</th>\n",
              "      <td>226</td>\n",
              "    </tr>\n",
              "    <tr>\n",
              "      <th>walk</th>\n",
              "      <td>152</td>\n",
              "    </tr>\n",
              "  </tbody>\n",
              "</table>\n",
              "</div>\n",
              "      <button class=\"colab-df-convert\" onclick=\"convertToInteractive('df-9b323f47-bb15-4985-8dca-bc70d7adbf6b')\"\n",
              "              title=\"Convert this dataframe to an interactive table.\"\n",
              "              style=\"display:none;\">\n",
              "        \n",
              "  <svg xmlns=\"http://www.w3.org/2000/svg\" height=\"24px\"viewBox=\"0 0 24 24\"\n",
              "       width=\"24px\">\n",
              "    <path d=\"M0 0h24v24H0V0z\" fill=\"none\"/>\n",
              "    <path d=\"M18.56 5.44l.94 2.06.94-2.06 2.06-.94-2.06-.94-.94-2.06-.94 2.06-2.06.94zm-11 1L8.5 8.5l.94-2.06 2.06-.94-2.06-.94L8.5 2.5l-.94 2.06-2.06.94zm10 10l.94 2.06.94-2.06 2.06-.94-2.06-.94-.94-2.06-.94 2.06-2.06.94z\"/><path d=\"M17.41 7.96l-1.37-1.37c-.4-.4-.92-.59-1.43-.59-.52 0-1.04.2-1.43.59L10.3 9.45l-7.72 7.72c-.78.78-.78 2.05 0 2.83L4 21.41c.39.39.9.59 1.41.59.51 0 1.02-.2 1.41-.59l7.78-7.78 2.81-2.81c.8-.78.8-2.07 0-2.86zM5.41 20L4 18.59l7.72-7.72 1.47 1.35L5.41 20z\"/>\n",
              "  </svg>\n",
              "      </button>\n",
              "      \n",
              "  <style>\n",
              "    .colab-df-container {\n",
              "      display:flex;\n",
              "      flex-wrap:wrap;\n",
              "      gap: 12px;\n",
              "    }\n",
              "\n",
              "    .colab-df-convert {\n",
              "      background-color: #E8F0FE;\n",
              "      border: none;\n",
              "      border-radius: 50%;\n",
              "      cursor: pointer;\n",
              "      display: none;\n",
              "      fill: #1967D2;\n",
              "      height: 32px;\n",
              "      padding: 0 0 0 0;\n",
              "      width: 32px;\n",
              "    }\n",
              "\n",
              "    .colab-df-convert:hover {\n",
              "      background-color: #E2EBFA;\n",
              "      box-shadow: 0px 1px 2px rgba(60, 64, 67, 0.3), 0px 1px 3px 1px rgba(60, 64, 67, 0.15);\n",
              "      fill: #174EA6;\n",
              "    }\n",
              "\n",
              "    [theme=dark] .colab-df-convert {\n",
              "      background-color: #3B4455;\n",
              "      fill: #D2E3FC;\n",
              "    }\n",
              "\n",
              "    [theme=dark] .colab-df-convert:hover {\n",
              "      background-color: #434B5C;\n",
              "      box-shadow: 0px 1px 3px 1px rgba(0, 0, 0, 0.15);\n",
              "      filter: drop-shadow(0px 1px 2px rgba(0, 0, 0, 0.3));\n",
              "      fill: #FFFFFF;\n",
              "    }\n",
              "  </style>\n",
              "\n",
              "      <script>\n",
              "        const buttonEl =\n",
              "          document.querySelector('#df-9b323f47-bb15-4985-8dca-bc70d7adbf6b button.colab-df-convert');\n",
              "        buttonEl.style.display =\n",
              "          google.colab.kernel.accessAllowed ? 'block' : 'none';\n",
              "\n",
              "        async function convertToInteractive(key) {\n",
              "          const element = document.querySelector('#df-9b323f47-bb15-4985-8dca-bc70d7adbf6b');\n",
              "          const dataTable =\n",
              "            await google.colab.kernel.invokeFunction('convertToInteractive',\n",
              "                                                     [key], {});\n",
              "          if (!dataTable) return;\n",
              "\n",
              "          const docLinkHtml = 'Like what you see? Visit the ' +\n",
              "            '<a target=\"_blank\" href=https://colab.research.google.com/notebooks/data_table.ipynb>data table notebook</a>'\n",
              "            + ' to learn more about interactive tables.';\n",
              "          element.innerHTML = '';\n",
              "          dataTable['output_type'] = 'display_data';\n",
              "          await google.colab.output.renderOutput(dataTable, element);\n",
              "          const docLink = document.createElement('div');\n",
              "          docLink.innerHTML = docLinkHtml;\n",
              "          element.appendChild(docLink);\n",
              "        }\n",
              "      </script>\n",
              "    </div>\n",
              "  </div>\n",
              "  "
            ],
            "text/plain": [
              "                                                 part_idx\n",
              "user                                     class           \n",
              "a2d80ed662f34d32951eb1c6ed076c313e358b73 bus           35\n",
              "a526f3566e9c9024dfa7378eb4291d787a09fd37 car         1546\n",
              "                                         walk         302\n",
              "a59868c6eb3645eedbb343ce8c336ec6f2ef2324 bike         572\n",
              "                                         bus         3854\n",
              "                                         car         2090\n",
              "                                         walk         827\n",
              "a92dee88f61123f923dccec01eeecf1a81953b36 bus          730\n",
              "ac4c17afeb69b39169eb301ab592696a8f353976 car           63\n",
              "                                         walk         480\n",
              "adaaae1a67ea9e43abd60ba945eccda0cb8821e0 bus         1160\n",
              "                                         car          537\n",
              "                                         walk         155\n",
              "b138d165100ef60bc793cac143742eb5aea4d6ba car          416\n",
              "b45157069942d01310c3e7b74034166717bb25f9 car          430\n",
              "                                         walk          76\n",
              "b7b165e5637b5a0226068d907748f4bbfc61a320 car         2135\n",
              "                                         walk         206\n",
              "c453226e3616ae821cdcb38f38481c2a20f2482f bike         502\n",
              "                                         bus         1469\n",
              "c5702d34b238fe68683f818e82cd3a3cd8a16366 bike         204\n",
              "                                         bus          200\n",
              "                                         walk        1243\n",
              "ca7950f223a8037b897d0547075dc138f9e43b20 walk          65\n",
              "cace4ec0999436917986b4fa6e9317262c897bc2 car         1151\n",
              "cbde60baea002b694ecf2a3ff2d95be16b00efe1 bus          414\n",
              "ce39f5d0705695fcd70a04ba6d84ac6beecd6f9c bus          448\n",
              "                                         car          506\n",
              "d429974540bfd38c3367fe9f0c8682775ff4fa18 bus          521\n",
              "                                         car          921\n",
              "                                         walk         102\n",
              "d7a1230d94f91a32cc079809748e52e8a4a6a22f bike         369\n",
              "                                         train        420\n",
              "                                         walk          81\n",
              "d7dd12d83c81574137f858034b99f4cc83ab0718 car          674\n",
              "d8c047eaaee204b7b5cd71e2d67308b87b038ed3 car         1762\n",
              "                                         walk         165\n",
              "dc0bdce306ec3b624fe0e6ecd1ffbd82cb970120 bike         574\n",
              "                                         car          148\n",
              "                                         walk          37\n",
              "dd82e3df4bebc74ed6b67877be79e29f401c16a3 car          940\n",
              "                                         walk         237\n",
              "dde95e125d89843f7032baa734ee4d34ec775aaf bus           35\n",
              "                                         car           43\n",
              "                                         walk          51\n",
              "de9892b879c83ea3d24fb4560873107cc4e86d48 car          925\n",
              "                                         walk         337\n",
              "dfcfc0404691b73b69884073159f90843f2ac35b bus          441\n",
              "                                         car         1271\n",
              "                                         walk         797\n",
              "e429a95c532f1117130c11e4a18379d84fa4ffa9 bus          620\n",
              "                                         car          185\n",
              "eb9e7854290fd6ea9ebaf448b640fc1f1dbeb076 bus          359\n",
              "                                         train        159\n",
              "                                         walk         198\n",
              "ecfb0929250fb6dda66a4065441230ab27f094e5 car         1029\n",
              "                                         e-bike        81\n",
              "                                         train         22\n",
              "ed623d28c1e0071632a6110b8f8ed93f8af78b99 bus           72\n",
              "                                         car         2175\n",
              "                                         walk          17\n",
              "f1b7331b66e404c11eebb22933e733117bbb12c9 bike         397\n",
              "                                         car          779\n",
              "                                         walk         199\n",
              "f5edd999397145a2ec1b244226fc83f99631760c bus          303\n",
              "                                         walk         120\n",
              "f7ae1ce141c26db40ea8b090fb568a0c965310aa car          290\n",
              "faae5be800be2dfa897eea0bd2e5988cd53c4ec0 bike         543\n",
              "                                         car          226\n",
              "                                         walk         152"
            ]
          },
          "metadata": {},
          "execution_count": 318
        }
      ]
    },
    {
      "cell_type": "code",
      "source": [
        "df4.head()"
      ],
      "metadata": {
        "colab": {
          "base_uri": "https://localhost:8080/",
          "height": 206
        },
        "id": "4jZmZNCUOq4a",
        "outputId": "522a8313-6cea-4fda-b8ef-ecc6c218df78"
      },
      "execution_count": 319,
      "outputs": [
        {
          "output_type": "execute_result",
          "data": {
            "text/html": [
              "\n",
              "  <div id=\"df-4f1f071a-1525-4629-a1ad-3e141f92482b\">\n",
              "    <div class=\"colab-df-container\">\n",
              "      <div>\n",
              "<style scoped>\n",
              "    .dataframe tbody tr th:only-of-type {\n",
              "        vertical-align: middle;\n",
              "    }\n",
              "\n",
              "    .dataframe tbody tr th {\n",
              "        vertical-align: top;\n",
              "    }\n",
              "\n",
              "    .dataframe thead th {\n",
              "        text-align: right;\n",
              "    }\n",
              "</style>\n",
              "<table border=\"1\" class=\"dataframe\">\n",
              "  <thead>\n",
              "    <tr style=\"text-align: right;\">\n",
              "      <th></th>\n",
              "      <th>user</th>\n",
              "      <th>class</th>\n",
              "      <th>part_idx</th>\n",
              "    </tr>\n",
              "  </thead>\n",
              "  <tbody>\n",
              "    <tr>\n",
              "      <th>0</th>\n",
              "      <td>a2d80ed662f34d32951eb1c6ed076c313e358b73</td>\n",
              "      <td>bus</td>\n",
              "      <td>1-&gt;0</td>\n",
              "    </tr>\n",
              "    <tr>\n",
              "      <th>1</th>\n",
              "      <td>a2d80ed662f34d32951eb1c6ed076c313e358b73</td>\n",
              "      <td>bus</td>\n",
              "      <td>1-&gt;0</td>\n",
              "    </tr>\n",
              "    <tr>\n",
              "      <th>2</th>\n",
              "      <td>a2d80ed662f34d32951eb1c6ed076c313e358b73</td>\n",
              "      <td>bus</td>\n",
              "      <td>1-&gt;0</td>\n",
              "    </tr>\n",
              "    <tr>\n",
              "      <th>3</th>\n",
              "      <td>a2d80ed662f34d32951eb1c6ed076c313e358b73</td>\n",
              "      <td>bus</td>\n",
              "      <td>1-&gt;0</td>\n",
              "    </tr>\n",
              "    <tr>\n",
              "      <th>4</th>\n",
              "      <td>a2d80ed662f34d32951eb1c6ed076c313e358b73</td>\n",
              "      <td>bus</td>\n",
              "      <td>1-&gt;0</td>\n",
              "    </tr>\n",
              "  </tbody>\n",
              "</table>\n",
              "</div>\n",
              "      <button class=\"colab-df-convert\" onclick=\"convertToInteractive('df-4f1f071a-1525-4629-a1ad-3e141f92482b')\"\n",
              "              title=\"Convert this dataframe to an interactive table.\"\n",
              "              style=\"display:none;\">\n",
              "        \n",
              "  <svg xmlns=\"http://www.w3.org/2000/svg\" height=\"24px\"viewBox=\"0 0 24 24\"\n",
              "       width=\"24px\">\n",
              "    <path d=\"M0 0h24v24H0V0z\" fill=\"none\"/>\n",
              "    <path d=\"M18.56 5.44l.94 2.06.94-2.06 2.06-.94-2.06-.94-.94-2.06-.94 2.06-2.06.94zm-11 1L8.5 8.5l.94-2.06 2.06-.94-2.06-.94L8.5 2.5l-.94 2.06-2.06.94zm10 10l.94 2.06.94-2.06 2.06-.94-2.06-.94-.94-2.06-.94 2.06-2.06.94z\"/><path d=\"M17.41 7.96l-1.37-1.37c-.4-.4-.92-.59-1.43-.59-.52 0-1.04.2-1.43.59L10.3 9.45l-7.72 7.72c-.78.78-.78 2.05 0 2.83L4 21.41c.39.39.9.59 1.41.59.51 0 1.02-.2 1.41-.59l7.78-7.78 2.81-2.81c.8-.78.8-2.07 0-2.86zM5.41 20L4 18.59l7.72-7.72 1.47 1.35L5.41 20z\"/>\n",
              "  </svg>\n",
              "      </button>\n",
              "      \n",
              "  <style>\n",
              "    .colab-df-container {\n",
              "      display:flex;\n",
              "      flex-wrap:wrap;\n",
              "      gap: 12px;\n",
              "    }\n",
              "\n",
              "    .colab-df-convert {\n",
              "      background-color: #E8F0FE;\n",
              "      border: none;\n",
              "      border-radius: 50%;\n",
              "      cursor: pointer;\n",
              "      display: none;\n",
              "      fill: #1967D2;\n",
              "      height: 32px;\n",
              "      padding: 0 0 0 0;\n",
              "      width: 32px;\n",
              "    }\n",
              "\n",
              "    .colab-df-convert:hover {\n",
              "      background-color: #E2EBFA;\n",
              "      box-shadow: 0px 1px 2px rgba(60, 64, 67, 0.3), 0px 1px 3px 1px rgba(60, 64, 67, 0.15);\n",
              "      fill: #174EA6;\n",
              "    }\n",
              "\n",
              "    [theme=dark] .colab-df-convert {\n",
              "      background-color: #3B4455;\n",
              "      fill: #D2E3FC;\n",
              "    }\n",
              "\n",
              "    [theme=dark] .colab-df-convert:hover {\n",
              "      background-color: #434B5C;\n",
              "      box-shadow: 0px 1px 3px 1px rgba(0, 0, 0, 0.15);\n",
              "      filter: drop-shadow(0px 1px 2px rgba(0, 0, 0, 0.3));\n",
              "      fill: #FFFFFF;\n",
              "    }\n",
              "  </style>\n",
              "\n",
              "      <script>\n",
              "        const buttonEl =\n",
              "          document.querySelector('#df-4f1f071a-1525-4629-a1ad-3e141f92482b button.colab-df-convert');\n",
              "        buttonEl.style.display =\n",
              "          google.colab.kernel.accessAllowed ? 'block' : 'none';\n",
              "\n",
              "        async function convertToInteractive(key) {\n",
              "          const element = document.querySelector('#df-4f1f071a-1525-4629-a1ad-3e141f92482b');\n",
              "          const dataTable =\n",
              "            await google.colab.kernel.invokeFunction('convertToInteractive',\n",
              "                                                     [key], {});\n",
              "          if (!dataTable) return;\n",
              "\n",
              "          const docLinkHtml = 'Like what you see? Visit the ' +\n",
              "            '<a target=\"_blank\" href=https://colab.research.google.com/notebooks/data_table.ipynb>data table notebook</a>'\n",
              "            + ' to learn more about interactive tables.';\n",
              "          element.innerHTML = '';\n",
              "          dataTable['output_type'] = 'display_data';\n",
              "          await google.colab.output.renderOutput(dataTable, element);\n",
              "          const docLink = document.createElement('div');\n",
              "          docLink.innerHTML = docLinkHtml;\n",
              "          element.appendChild(docLink);\n",
              "        }\n",
              "      </script>\n",
              "    </div>\n",
              "  </div>\n",
              "  "
            ],
            "text/plain": [
              "                                       user class part_idx\n",
              "0  a2d80ed662f34d32951eb1c6ed076c313e358b73   bus     1->0\n",
              "1  a2d80ed662f34d32951eb1c6ed076c313e358b73   bus     1->0\n",
              "2  a2d80ed662f34d32951eb1c6ed076c313e358b73   bus     1->0\n",
              "3  a2d80ed662f34d32951eb1c6ed076c313e358b73   bus     1->0\n",
              "4  a2d80ed662f34d32951eb1c6ed076c313e358b73   bus     1->0"
            ]
          },
          "metadata": {},
          "execution_count": 319
        }
      ]
    },
    {
      "cell_type": "code",
      "source": [
        "df.head()"
      ],
      "metadata": {
        "id": "BOhjZr1ybOUP",
        "colab": {
          "base_uri": "https://localhost:8080/",
          "height": 206
        },
        "outputId": "3e99018d-69be-4d9f-8910-71e8364319a1"
      },
      "execution_count": 320,
      "outputs": [
        {
          "output_type": "execute_result",
          "data": {
            "text/html": [
              "\n",
              "  <div id=\"df-267dbc63-584a-4fe8-bc40-1cdc0837d6fe\">\n",
              "    <div class=\"colab-df-container\">\n",
              "      <div>\n",
              "<style scoped>\n",
              "    .dataframe tbody tr th:only-of-type {\n",
              "        vertical-align: middle;\n",
              "    }\n",
              "\n",
              "    .dataframe tbody tr th {\n",
              "        vertical-align: top;\n",
              "    }\n",
              "\n",
              "    .dataframe thead th {\n",
              "        text-align: right;\n",
              "    }\n",
              "</style>\n",
              "<table border=\"1\" class=\"dataframe\">\n",
              "  <thead>\n",
              "    <tr style=\"text-align: right;\">\n",
              "      <th></th>\n",
              "      <th>user</th>\n",
              "      <th>timestamp</th>\n",
              "      <th>x</th>\n",
              "      <th>y</th>\n",
              "      <th>z</th>\n",
              "      <th>class</th>\n",
              "      <th>time_s</th>\n",
              "      <th>time_d</th>\n",
              "      <th>sequence</th>\n",
              "      <th>min_t</th>\n",
              "      <th>part_idx</th>\n",
              "    </tr>\n",
              "  </thead>\n",
              "  <tbody>\n",
              "    <tr>\n",
              "      <th>0</th>\n",
              "      <td>a2d80ed662f34d32951eb1c6ed076c313e358b73</td>\n",
              "      <td>2018-06-04 16:26:55</td>\n",
              "      <td>0.78</td>\n",
              "      <td>-9.13</td>\n",
              "      <td>-3.74</td>\n",
              "      <td>bus</td>\n",
              "      <td>NaT</td>\n",
              "      <td>NaN</td>\n",
              "      <td>1</td>\n",
              "      <td>2018-06-04 16:26:55</td>\n",
              "      <td>1-&gt;0</td>\n",
              "    </tr>\n",
              "    <tr>\n",
              "      <th>1</th>\n",
              "      <td>a2d80ed662f34d32951eb1c6ed076c313e358b73</td>\n",
              "      <td>2018-06-04 16:26:55</td>\n",
              "      <td>0.79</td>\n",
              "      <td>-9.11</td>\n",
              "      <td>-3.75</td>\n",
              "      <td>bus</td>\n",
              "      <td>2018-06-04 16:26:55</td>\n",
              "      <td>0.0</td>\n",
              "      <td>1</td>\n",
              "      <td>2018-06-04 16:26:55</td>\n",
              "      <td>1-&gt;0</td>\n",
              "    </tr>\n",
              "    <tr>\n",
              "      <th>2</th>\n",
              "      <td>a2d80ed662f34d32951eb1c6ed076c313e358b73</td>\n",
              "      <td>2018-06-04 16:26:55</td>\n",
              "      <td>0.80</td>\n",
              "      <td>-9.12</td>\n",
              "      <td>-3.75</td>\n",
              "      <td>bus</td>\n",
              "      <td>2018-06-04 16:26:55</td>\n",
              "      <td>0.0</td>\n",
              "      <td>1</td>\n",
              "      <td>2018-06-04 16:26:55</td>\n",
              "      <td>1-&gt;0</td>\n",
              "    </tr>\n",
              "    <tr>\n",
              "      <th>3</th>\n",
              "      <td>a2d80ed662f34d32951eb1c6ed076c313e358b73</td>\n",
              "      <td>2018-06-04 16:26:55</td>\n",
              "      <td>0.78</td>\n",
              "      <td>-9.14</td>\n",
              "      <td>-3.76</td>\n",
              "      <td>bus</td>\n",
              "      <td>2018-06-04 16:26:55</td>\n",
              "      <td>0.0</td>\n",
              "      <td>1</td>\n",
              "      <td>2018-06-04 16:26:55</td>\n",
              "      <td>1-&gt;0</td>\n",
              "    </tr>\n",
              "    <tr>\n",
              "      <th>4</th>\n",
              "      <td>a2d80ed662f34d32951eb1c6ed076c313e358b73</td>\n",
              "      <td>2018-06-04 16:26:55</td>\n",
              "      <td>0.83</td>\n",
              "      <td>-9.12</td>\n",
              "      <td>-3.80</td>\n",
              "      <td>bus</td>\n",
              "      <td>2018-06-04 16:26:55</td>\n",
              "      <td>0.0</td>\n",
              "      <td>1</td>\n",
              "      <td>2018-06-04 16:26:55</td>\n",
              "      <td>1-&gt;0</td>\n",
              "    </tr>\n",
              "  </tbody>\n",
              "</table>\n",
              "</div>\n",
              "      <button class=\"colab-df-convert\" onclick=\"convertToInteractive('df-267dbc63-584a-4fe8-bc40-1cdc0837d6fe')\"\n",
              "              title=\"Convert this dataframe to an interactive table.\"\n",
              "              style=\"display:none;\">\n",
              "        \n",
              "  <svg xmlns=\"http://www.w3.org/2000/svg\" height=\"24px\"viewBox=\"0 0 24 24\"\n",
              "       width=\"24px\">\n",
              "    <path d=\"M0 0h24v24H0V0z\" fill=\"none\"/>\n",
              "    <path d=\"M18.56 5.44l.94 2.06.94-2.06 2.06-.94-2.06-.94-.94-2.06-.94 2.06-2.06.94zm-11 1L8.5 8.5l.94-2.06 2.06-.94-2.06-.94L8.5 2.5l-.94 2.06-2.06.94zm10 10l.94 2.06.94-2.06 2.06-.94-2.06-.94-.94-2.06-.94 2.06-2.06.94z\"/><path d=\"M17.41 7.96l-1.37-1.37c-.4-.4-.92-.59-1.43-.59-.52 0-1.04.2-1.43.59L10.3 9.45l-7.72 7.72c-.78.78-.78 2.05 0 2.83L4 21.41c.39.39.9.59 1.41.59.51 0 1.02-.2 1.41-.59l7.78-7.78 2.81-2.81c.8-.78.8-2.07 0-2.86zM5.41 20L4 18.59l7.72-7.72 1.47 1.35L5.41 20z\"/>\n",
              "  </svg>\n",
              "      </button>\n",
              "      \n",
              "  <style>\n",
              "    .colab-df-container {\n",
              "      display:flex;\n",
              "      flex-wrap:wrap;\n",
              "      gap: 12px;\n",
              "    }\n",
              "\n",
              "    .colab-df-convert {\n",
              "      background-color: #E8F0FE;\n",
              "      border: none;\n",
              "      border-radius: 50%;\n",
              "      cursor: pointer;\n",
              "      display: none;\n",
              "      fill: #1967D2;\n",
              "      height: 32px;\n",
              "      padding: 0 0 0 0;\n",
              "      width: 32px;\n",
              "    }\n",
              "\n",
              "    .colab-df-convert:hover {\n",
              "      background-color: #E2EBFA;\n",
              "      box-shadow: 0px 1px 2px rgba(60, 64, 67, 0.3), 0px 1px 3px 1px rgba(60, 64, 67, 0.15);\n",
              "      fill: #174EA6;\n",
              "    }\n",
              "\n",
              "    [theme=dark] .colab-df-convert {\n",
              "      background-color: #3B4455;\n",
              "      fill: #D2E3FC;\n",
              "    }\n",
              "\n",
              "    [theme=dark] .colab-df-convert:hover {\n",
              "      background-color: #434B5C;\n",
              "      box-shadow: 0px 1px 3px 1px rgba(0, 0, 0, 0.15);\n",
              "      filter: drop-shadow(0px 1px 2px rgba(0, 0, 0, 0.3));\n",
              "      fill: #FFFFFF;\n",
              "    }\n",
              "  </style>\n",
              "\n",
              "      <script>\n",
              "        const buttonEl =\n",
              "          document.querySelector('#df-267dbc63-584a-4fe8-bc40-1cdc0837d6fe button.colab-df-convert');\n",
              "        buttonEl.style.display =\n",
              "          google.colab.kernel.accessAllowed ? 'block' : 'none';\n",
              "\n",
              "        async function convertToInteractive(key) {\n",
              "          const element = document.querySelector('#df-267dbc63-584a-4fe8-bc40-1cdc0837d6fe');\n",
              "          const dataTable =\n",
              "            await google.colab.kernel.invokeFunction('convertToInteractive',\n",
              "                                                     [key], {});\n",
              "          if (!dataTable) return;\n",
              "\n",
              "          const docLinkHtml = 'Like what you see? Visit the ' +\n",
              "            '<a target=\"_blank\" href=https://colab.research.google.com/notebooks/data_table.ipynb>data table notebook</a>'\n",
              "            + ' to learn more about interactive tables.';\n",
              "          element.innerHTML = '';\n",
              "          dataTable['output_type'] = 'display_data';\n",
              "          await google.colab.output.renderOutput(dataTable, element);\n",
              "          const docLink = document.createElement('div');\n",
              "          docLink.innerHTML = docLinkHtml;\n",
              "          element.appendChild(docLink);\n",
              "        }\n",
              "      </script>\n",
              "    </div>\n",
              "  </div>\n",
              "  "
            ],
            "text/plain": [
              "                                       user           timestamp     x     y  \\\n",
              "0  a2d80ed662f34d32951eb1c6ed076c313e358b73 2018-06-04 16:26:55  0.78 -9.13   \n",
              "1  a2d80ed662f34d32951eb1c6ed076c313e358b73 2018-06-04 16:26:55  0.79 -9.11   \n",
              "2  a2d80ed662f34d32951eb1c6ed076c313e358b73 2018-06-04 16:26:55  0.80 -9.12   \n",
              "3  a2d80ed662f34d32951eb1c6ed076c313e358b73 2018-06-04 16:26:55  0.78 -9.14   \n",
              "4  a2d80ed662f34d32951eb1c6ed076c313e358b73 2018-06-04 16:26:55  0.83 -9.12   \n",
              "\n",
              "      z class              time_s  time_d  sequence               min_t  \\\n",
              "0 -3.74   bus                 NaT     NaN         1 2018-06-04 16:26:55   \n",
              "1 -3.75   bus 2018-06-04 16:26:55     0.0         1 2018-06-04 16:26:55   \n",
              "2 -3.75   bus 2018-06-04 16:26:55     0.0         1 2018-06-04 16:26:55   \n",
              "3 -3.76   bus 2018-06-04 16:26:55     0.0         1 2018-06-04 16:26:55   \n",
              "4 -3.80   bus 2018-06-04 16:26:55     0.0         1 2018-06-04 16:26:55   \n",
              "\n",
              "  part_idx  \n",
              "0     1->0  \n",
              "1     1->0  \n",
              "2     1->0  \n",
              "3     1->0  \n",
              "4     1->0  "
            ]
          },
          "metadata": {},
          "execution_count": 320
        }
      ]
    },
    {
      "cell_type": "code",
      "source": [
        "df5 = pd.DataFrame(columns = ['x_mean', 'x_std', 'x_max', 'y_min', 'x_mean', 'x_std', 'x_max', 'y_min', 'x_mean', 'x_std', 'x_max', 'y_min'])"
      ],
      "metadata": {
        "id": "dUOS0iuiIPV2"
      },
      "execution_count": 321,
      "outputs": []
    },
    {
      "cell_type": "code",
      "source": [
        "df5['x_mean'] = df.groupby(['part_idx'])['x'].mean()\n",
        "df5['x_std'] = df.groupby(['part_idx'])['x'].std()\n",
        "df5['x_max'] = df.groupby(['part_idx'])['x'].max()\n",
        "df5['x_min'] = df.groupby(['part_idx'])['x'].min()\n",
        "\n",
        "df5['y_mean'] = df.groupby(['part_idx'])['y'].mean()\n",
        "df5['y_std'] = df.groupby(['part_idx'])['y'].std()\n",
        "df5['y_max'] = df.groupby(['part_idx'])['y'].max()\n",
        "df5['y_min'] = df.groupby(['part_idx'])['y'].min()\n",
        "\n",
        "df5['z_mean'] = df.groupby(['part_idx'])['z'].mean()\n",
        "df5['z_std'] = df.groupby(['part_idx'])['z'].std()\n",
        "df5['z_max'] = df.groupby(['part_idx'])['z'].max()\n",
        "df5['z_min'] = df.groupby(['part_idx'])['z'].min()\n",
        "\n",
        "df5['target'] =  df.groupby(['part_idx'])['class'].unique()"
      ],
      "metadata": {
        "id": "zvUeCJBuIPTq"
      },
      "execution_count": 322,
      "outputs": []
    },
    {
      "cell_type": "code",
      "source": [
        "df5.head()"
      ],
      "metadata": {
        "colab": {
          "base_uri": "https://localhost:8080/",
          "height": 238
        },
        "id": "fFcmlI8qIPQz",
        "outputId": "b5a97fc0-549f-4dc0-c34f-a4396d379934"
      },
      "execution_count": 323,
      "outputs": [
        {
          "output_type": "execute_result",
          "data": {
            "text/html": [
              "\n",
              "  <div id=\"df-9c80748c-2566-4a8a-912f-336430b6ce3c\">\n",
              "    <div class=\"colab-df-container\">\n",
              "      <div>\n",
              "<style scoped>\n",
              "    .dataframe tbody tr th:only-of-type {\n",
              "        vertical-align: middle;\n",
              "    }\n",
              "\n",
              "    .dataframe tbody tr th {\n",
              "        vertical-align: top;\n",
              "    }\n",
              "\n",
              "    .dataframe thead th {\n",
              "        text-align: right;\n",
              "    }\n",
              "</style>\n",
              "<table border=\"1\" class=\"dataframe\">\n",
              "  <thead>\n",
              "    <tr style=\"text-align: right;\">\n",
              "      <th></th>\n",
              "      <th>x_mean</th>\n",
              "      <th>x_std</th>\n",
              "      <th>x_max</th>\n",
              "      <th>y_min</th>\n",
              "      <th>x_mean</th>\n",
              "      <th>x_std</th>\n",
              "      <th>x_max</th>\n",
              "      <th>y_min</th>\n",
              "      <th>x_mean</th>\n",
              "      <th>x_std</th>\n",
              "      <th>x_max</th>\n",
              "      <th>y_min</th>\n",
              "      <th>x_min</th>\n",
              "      <th>y_mean</th>\n",
              "      <th>y_std</th>\n",
              "      <th>y_max</th>\n",
              "      <th>z_mean</th>\n",
              "      <th>z_std</th>\n",
              "      <th>z_max</th>\n",
              "      <th>z_min</th>\n",
              "      <th>target</th>\n",
              "    </tr>\n",
              "    <tr>\n",
              "      <th>part_idx</th>\n",
              "      <th></th>\n",
              "      <th></th>\n",
              "      <th></th>\n",
              "      <th></th>\n",
              "      <th></th>\n",
              "      <th></th>\n",
              "      <th></th>\n",
              "      <th></th>\n",
              "      <th></th>\n",
              "      <th></th>\n",
              "      <th></th>\n",
              "      <th></th>\n",
              "      <th></th>\n",
              "      <th></th>\n",
              "      <th></th>\n",
              "      <th></th>\n",
              "      <th></th>\n",
              "      <th></th>\n",
              "      <th></th>\n",
              "      <th></th>\n",
              "      <th></th>\n",
              "    </tr>\n",
              "  </thead>\n",
              "  <tbody>\n",
              "    <tr>\n",
              "      <th>1-&gt;0</th>\n",
              "      <td>0.800141</td>\n",
              "      <td>0.022135</td>\n",
              "      <td>0.85</td>\n",
              "      <td>-9.18</td>\n",
              "      <td>0.800141</td>\n",
              "      <td>0.022135</td>\n",
              "      <td>0.85</td>\n",
              "      <td>-9.18</td>\n",
              "      <td>0.800141</td>\n",
              "      <td>0.022135</td>\n",
              "      <td>0.85</td>\n",
              "      <td>-9.18</td>\n",
              "      <td>0.75</td>\n",
              "      <td>-9.127324</td>\n",
              "      <td>0.018513</td>\n",
              "      <td>-9.08</td>\n",
              "      <td>-3.747606</td>\n",
              "      <td>0.028709</td>\n",
              "      <td>-3.67</td>\n",
              "      <td>-3.81</td>\n",
              "      <td>[bus]</td>\n",
              "    </tr>\n",
              "    <tr>\n",
              "      <th>1-&gt;1</th>\n",
              "      <td>0.810000</td>\n",
              "      <td>0.016903</td>\n",
              "      <td>0.83</td>\n",
              "      <td>-9.14</td>\n",
              "      <td>0.810000</td>\n",
              "      <td>0.016903</td>\n",
              "      <td>0.83</td>\n",
              "      <td>-9.14</td>\n",
              "      <td>0.810000</td>\n",
              "      <td>0.016903</td>\n",
              "      <td>0.83</td>\n",
              "      <td>-9.14</td>\n",
              "      <td>0.77</td>\n",
              "      <td>-9.118000</td>\n",
              "      <td>0.016125</td>\n",
              "      <td>-9.09</td>\n",
              "      <td>-3.747333</td>\n",
              "      <td>0.021202</td>\n",
              "      <td>-3.70</td>\n",
              "      <td>-3.78</td>\n",
              "      <td>[bus]</td>\n",
              "    </tr>\n",
              "    <tr>\n",
              "      <th>10-&gt;0</th>\n",
              "      <td>1.850496</td>\n",
              "      <td>0.586150</td>\n",
              "      <td>3.43</td>\n",
              "      <td>-9.38</td>\n",
              "      <td>1.850496</td>\n",
              "      <td>0.586150</td>\n",
              "      <td>3.43</td>\n",
              "      <td>-9.38</td>\n",
              "      <td>1.850496</td>\n",
              "      <td>0.586150</td>\n",
              "      <td>3.43</td>\n",
              "      <td>-9.38</td>\n",
              "      <td>0.37</td>\n",
              "      <td>-8.079362</td>\n",
              "      <td>0.534036</td>\n",
              "      <td>-7.10</td>\n",
              "      <td>-5.522057</td>\n",
              "      <td>0.646008</td>\n",
              "      <td>-3.44</td>\n",
              "      <td>-6.40</td>\n",
              "      <td>[bus]</td>\n",
              "    </tr>\n",
              "    <tr>\n",
              "      <th>10-&gt;1</th>\n",
              "      <td>2.299412</td>\n",
              "      <td>0.168355</td>\n",
              "      <td>2.52</td>\n",
              "      <td>-7.75</td>\n",
              "      <td>2.299412</td>\n",
              "      <td>0.168355</td>\n",
              "      <td>2.52</td>\n",
              "      <td>-7.75</td>\n",
              "      <td>2.299412</td>\n",
              "      <td>0.168355</td>\n",
              "      <td>2.52</td>\n",
              "      <td>-7.75</td>\n",
              "      <td>1.97</td>\n",
              "      <td>-7.336471</td>\n",
              "      <td>0.243258</td>\n",
              "      <td>-6.87</td>\n",
              "      <td>-6.140000</td>\n",
              "      <td>0.296036</td>\n",
              "      <td>-5.72</td>\n",
              "      <td>-6.64</td>\n",
              "      <td>[bus]</td>\n",
              "    </tr>\n",
              "    <tr>\n",
              "      <th>100-&gt;0</th>\n",
              "      <td>0.250972</td>\n",
              "      <td>0.098798</td>\n",
              "      <td>0.43</td>\n",
              "      <td>8.62</td>\n",
              "      <td>0.250972</td>\n",
              "      <td>0.098798</td>\n",
              "      <td>0.43</td>\n",
              "      <td>8.62</td>\n",
              "      <td>0.250972</td>\n",
              "      <td>0.098798</td>\n",
              "      <td>0.43</td>\n",
              "      <td>8.62</td>\n",
              "      <td>0.03</td>\n",
              "      <td>8.907778</td>\n",
              "      <td>0.122051</td>\n",
              "      <td>9.23</td>\n",
              "      <td>4.246111</td>\n",
              "      <td>0.145550</td>\n",
              "      <td>4.55</td>\n",
              "      <td>3.73</td>\n",
              "      <td>[car]</td>\n",
              "    </tr>\n",
              "  </tbody>\n",
              "</table>\n",
              "</div>\n",
              "      <button class=\"colab-df-convert\" onclick=\"convertToInteractive('df-9c80748c-2566-4a8a-912f-336430b6ce3c')\"\n",
              "              title=\"Convert this dataframe to an interactive table.\"\n",
              "              style=\"display:none;\">\n",
              "        \n",
              "  <svg xmlns=\"http://www.w3.org/2000/svg\" height=\"24px\"viewBox=\"0 0 24 24\"\n",
              "       width=\"24px\">\n",
              "    <path d=\"M0 0h24v24H0V0z\" fill=\"none\"/>\n",
              "    <path d=\"M18.56 5.44l.94 2.06.94-2.06 2.06-.94-2.06-.94-.94-2.06-.94 2.06-2.06.94zm-11 1L8.5 8.5l.94-2.06 2.06-.94-2.06-.94L8.5 2.5l-.94 2.06-2.06.94zm10 10l.94 2.06.94-2.06 2.06-.94-2.06-.94-.94-2.06-.94 2.06-2.06.94z\"/><path d=\"M17.41 7.96l-1.37-1.37c-.4-.4-.92-.59-1.43-.59-.52 0-1.04.2-1.43.59L10.3 9.45l-7.72 7.72c-.78.78-.78 2.05 0 2.83L4 21.41c.39.39.9.59 1.41.59.51 0 1.02-.2 1.41-.59l7.78-7.78 2.81-2.81c.8-.78.8-2.07 0-2.86zM5.41 20L4 18.59l7.72-7.72 1.47 1.35L5.41 20z\"/>\n",
              "  </svg>\n",
              "      </button>\n",
              "      \n",
              "  <style>\n",
              "    .colab-df-container {\n",
              "      display:flex;\n",
              "      flex-wrap:wrap;\n",
              "      gap: 12px;\n",
              "    }\n",
              "\n",
              "    .colab-df-convert {\n",
              "      background-color: #E8F0FE;\n",
              "      border: none;\n",
              "      border-radius: 50%;\n",
              "      cursor: pointer;\n",
              "      display: none;\n",
              "      fill: #1967D2;\n",
              "      height: 32px;\n",
              "      padding: 0 0 0 0;\n",
              "      width: 32px;\n",
              "    }\n",
              "\n",
              "    .colab-df-convert:hover {\n",
              "      background-color: #E2EBFA;\n",
              "      box-shadow: 0px 1px 2px rgba(60, 64, 67, 0.3), 0px 1px 3px 1px rgba(60, 64, 67, 0.15);\n",
              "      fill: #174EA6;\n",
              "    }\n",
              "\n",
              "    [theme=dark] .colab-df-convert {\n",
              "      background-color: #3B4455;\n",
              "      fill: #D2E3FC;\n",
              "    }\n",
              "\n",
              "    [theme=dark] .colab-df-convert:hover {\n",
              "      background-color: #434B5C;\n",
              "      box-shadow: 0px 1px 3px 1px rgba(0, 0, 0, 0.15);\n",
              "      filter: drop-shadow(0px 1px 2px rgba(0, 0, 0, 0.3));\n",
              "      fill: #FFFFFF;\n",
              "    }\n",
              "  </style>\n",
              "\n",
              "      <script>\n",
              "        const buttonEl =\n",
              "          document.querySelector('#df-9c80748c-2566-4a8a-912f-336430b6ce3c button.colab-df-convert');\n",
              "        buttonEl.style.display =\n",
              "          google.colab.kernel.accessAllowed ? 'block' : 'none';\n",
              "\n",
              "        async function convertToInteractive(key) {\n",
              "          const element = document.querySelector('#df-9c80748c-2566-4a8a-912f-336430b6ce3c');\n",
              "          const dataTable =\n",
              "            await google.colab.kernel.invokeFunction('convertToInteractive',\n",
              "                                                     [key], {});\n",
              "          if (!dataTable) return;\n",
              "\n",
              "          const docLinkHtml = 'Like what you see? Visit the ' +\n",
              "            '<a target=\"_blank\" href=https://colab.research.google.com/notebooks/data_table.ipynb>data table notebook</a>'\n",
              "            + ' to learn more about interactive tables.';\n",
              "          element.innerHTML = '';\n",
              "          dataTable['output_type'] = 'display_data';\n",
              "          await google.colab.output.renderOutput(dataTable, element);\n",
              "          const docLink = document.createElement('div');\n",
              "          docLink.innerHTML = docLinkHtml;\n",
              "          element.appendChild(docLink);\n",
              "        }\n",
              "      </script>\n",
              "    </div>\n",
              "  </div>\n",
              "  "
            ],
            "text/plain": [
              "            x_mean     x_std  x_max  y_min    x_mean     x_std  x_max  y_min  \\\n",
              "part_idx                                                                       \n",
              "1->0      0.800141  0.022135   0.85  -9.18  0.800141  0.022135   0.85  -9.18   \n",
              "1->1      0.810000  0.016903   0.83  -9.14  0.810000  0.016903   0.83  -9.14   \n",
              "10->0     1.850496  0.586150   3.43  -9.38  1.850496  0.586150   3.43  -9.38   \n",
              "10->1     2.299412  0.168355   2.52  -7.75  2.299412  0.168355   2.52  -7.75   \n",
              "100->0    0.250972  0.098798   0.43   8.62  0.250972  0.098798   0.43   8.62   \n",
              "\n",
              "            x_mean     x_std  x_max  y_min  x_min    y_mean     y_std  y_max  \\\n",
              "part_idx                                                                       \n",
              "1->0      0.800141  0.022135   0.85  -9.18   0.75 -9.127324  0.018513  -9.08   \n",
              "1->1      0.810000  0.016903   0.83  -9.14   0.77 -9.118000  0.016125  -9.09   \n",
              "10->0     1.850496  0.586150   3.43  -9.38   0.37 -8.079362  0.534036  -7.10   \n",
              "10->1     2.299412  0.168355   2.52  -7.75   1.97 -7.336471  0.243258  -6.87   \n",
              "100->0    0.250972  0.098798   0.43   8.62   0.03  8.907778  0.122051   9.23   \n",
              "\n",
              "            z_mean     z_std  z_max  z_min target  \n",
              "part_idx                                           \n",
              "1->0     -3.747606  0.028709  -3.67  -3.81  [bus]  \n",
              "1->1     -3.747333  0.021202  -3.70  -3.78  [bus]  \n",
              "10->0    -5.522057  0.646008  -3.44  -6.40  [bus]  \n",
              "10->1    -6.140000  0.296036  -5.72  -6.64  [bus]  \n",
              "100->0    4.246111  0.145550   4.55   3.73  [car]  "
            ]
          },
          "metadata": {},
          "execution_count": 323
        }
      ]
    },
    {
      "cell_type": "code",
      "source": [
        "def func(x):\n",
        "  return x[0]"
      ],
      "metadata": {
        "id": "1JOOew-IqLAQ"
      },
      "execution_count": 324,
      "outputs": []
    },
    {
      "cell_type": "code",
      "source": [
        "df5['target'] = list(map(func,df5['target']))"
      ],
      "metadata": {
        "id": "7Sh7zZU8qPre"
      },
      "execution_count": 325,
      "outputs": []
    },
    {
      "cell_type": "code",
      "source": [
        "df5.head()"
      ],
      "metadata": {
        "colab": {
          "base_uri": "https://localhost:8080/",
          "height": 238
        },
        "id": "iVva_gLTqnJL",
        "outputId": "c9607c13-8490-4d3d-9cfc-b6d4d6cd3664"
      },
      "execution_count": 326,
      "outputs": [
        {
          "output_type": "execute_result",
          "data": {
            "text/html": [
              "\n",
              "  <div id=\"df-ed925791-c57e-4cd7-a9f4-aae81bc85c06\">\n",
              "    <div class=\"colab-df-container\">\n",
              "      <div>\n",
              "<style scoped>\n",
              "    .dataframe tbody tr th:only-of-type {\n",
              "        vertical-align: middle;\n",
              "    }\n",
              "\n",
              "    .dataframe tbody tr th {\n",
              "        vertical-align: top;\n",
              "    }\n",
              "\n",
              "    .dataframe thead th {\n",
              "        text-align: right;\n",
              "    }\n",
              "</style>\n",
              "<table border=\"1\" class=\"dataframe\">\n",
              "  <thead>\n",
              "    <tr style=\"text-align: right;\">\n",
              "      <th></th>\n",
              "      <th>x_mean</th>\n",
              "      <th>x_std</th>\n",
              "      <th>x_max</th>\n",
              "      <th>y_min</th>\n",
              "      <th>x_mean</th>\n",
              "      <th>x_std</th>\n",
              "      <th>x_max</th>\n",
              "      <th>y_min</th>\n",
              "      <th>x_mean</th>\n",
              "      <th>x_std</th>\n",
              "      <th>x_max</th>\n",
              "      <th>y_min</th>\n",
              "      <th>x_min</th>\n",
              "      <th>y_mean</th>\n",
              "      <th>y_std</th>\n",
              "      <th>y_max</th>\n",
              "      <th>z_mean</th>\n",
              "      <th>z_std</th>\n",
              "      <th>z_max</th>\n",
              "      <th>z_min</th>\n",
              "      <th>target</th>\n",
              "    </tr>\n",
              "    <tr>\n",
              "      <th>part_idx</th>\n",
              "      <th></th>\n",
              "      <th></th>\n",
              "      <th></th>\n",
              "      <th></th>\n",
              "      <th></th>\n",
              "      <th></th>\n",
              "      <th></th>\n",
              "      <th></th>\n",
              "      <th></th>\n",
              "      <th></th>\n",
              "      <th></th>\n",
              "      <th></th>\n",
              "      <th></th>\n",
              "      <th></th>\n",
              "      <th></th>\n",
              "      <th></th>\n",
              "      <th></th>\n",
              "      <th></th>\n",
              "      <th></th>\n",
              "      <th></th>\n",
              "      <th></th>\n",
              "    </tr>\n",
              "  </thead>\n",
              "  <tbody>\n",
              "    <tr>\n",
              "      <th>1-&gt;0</th>\n",
              "      <td>0.800141</td>\n",
              "      <td>0.022135</td>\n",
              "      <td>0.85</td>\n",
              "      <td>-9.18</td>\n",
              "      <td>0.800141</td>\n",
              "      <td>0.022135</td>\n",
              "      <td>0.85</td>\n",
              "      <td>-9.18</td>\n",
              "      <td>0.800141</td>\n",
              "      <td>0.022135</td>\n",
              "      <td>0.85</td>\n",
              "      <td>-9.18</td>\n",
              "      <td>0.75</td>\n",
              "      <td>-9.127324</td>\n",
              "      <td>0.018513</td>\n",
              "      <td>-9.08</td>\n",
              "      <td>-3.747606</td>\n",
              "      <td>0.028709</td>\n",
              "      <td>-3.67</td>\n",
              "      <td>-3.81</td>\n",
              "      <td>bus</td>\n",
              "    </tr>\n",
              "    <tr>\n",
              "      <th>1-&gt;1</th>\n",
              "      <td>0.810000</td>\n",
              "      <td>0.016903</td>\n",
              "      <td>0.83</td>\n",
              "      <td>-9.14</td>\n",
              "      <td>0.810000</td>\n",
              "      <td>0.016903</td>\n",
              "      <td>0.83</td>\n",
              "      <td>-9.14</td>\n",
              "      <td>0.810000</td>\n",
              "      <td>0.016903</td>\n",
              "      <td>0.83</td>\n",
              "      <td>-9.14</td>\n",
              "      <td>0.77</td>\n",
              "      <td>-9.118000</td>\n",
              "      <td>0.016125</td>\n",
              "      <td>-9.09</td>\n",
              "      <td>-3.747333</td>\n",
              "      <td>0.021202</td>\n",
              "      <td>-3.70</td>\n",
              "      <td>-3.78</td>\n",
              "      <td>bus</td>\n",
              "    </tr>\n",
              "    <tr>\n",
              "      <th>10-&gt;0</th>\n",
              "      <td>1.850496</td>\n",
              "      <td>0.586150</td>\n",
              "      <td>3.43</td>\n",
              "      <td>-9.38</td>\n",
              "      <td>1.850496</td>\n",
              "      <td>0.586150</td>\n",
              "      <td>3.43</td>\n",
              "      <td>-9.38</td>\n",
              "      <td>1.850496</td>\n",
              "      <td>0.586150</td>\n",
              "      <td>3.43</td>\n",
              "      <td>-9.38</td>\n",
              "      <td>0.37</td>\n",
              "      <td>-8.079362</td>\n",
              "      <td>0.534036</td>\n",
              "      <td>-7.10</td>\n",
              "      <td>-5.522057</td>\n",
              "      <td>0.646008</td>\n",
              "      <td>-3.44</td>\n",
              "      <td>-6.40</td>\n",
              "      <td>bus</td>\n",
              "    </tr>\n",
              "    <tr>\n",
              "      <th>10-&gt;1</th>\n",
              "      <td>2.299412</td>\n",
              "      <td>0.168355</td>\n",
              "      <td>2.52</td>\n",
              "      <td>-7.75</td>\n",
              "      <td>2.299412</td>\n",
              "      <td>0.168355</td>\n",
              "      <td>2.52</td>\n",
              "      <td>-7.75</td>\n",
              "      <td>2.299412</td>\n",
              "      <td>0.168355</td>\n",
              "      <td>2.52</td>\n",
              "      <td>-7.75</td>\n",
              "      <td>1.97</td>\n",
              "      <td>-7.336471</td>\n",
              "      <td>0.243258</td>\n",
              "      <td>-6.87</td>\n",
              "      <td>-6.140000</td>\n",
              "      <td>0.296036</td>\n",
              "      <td>-5.72</td>\n",
              "      <td>-6.64</td>\n",
              "      <td>bus</td>\n",
              "    </tr>\n",
              "    <tr>\n",
              "      <th>100-&gt;0</th>\n",
              "      <td>0.250972</td>\n",
              "      <td>0.098798</td>\n",
              "      <td>0.43</td>\n",
              "      <td>8.62</td>\n",
              "      <td>0.250972</td>\n",
              "      <td>0.098798</td>\n",
              "      <td>0.43</td>\n",
              "      <td>8.62</td>\n",
              "      <td>0.250972</td>\n",
              "      <td>0.098798</td>\n",
              "      <td>0.43</td>\n",
              "      <td>8.62</td>\n",
              "      <td>0.03</td>\n",
              "      <td>8.907778</td>\n",
              "      <td>0.122051</td>\n",
              "      <td>9.23</td>\n",
              "      <td>4.246111</td>\n",
              "      <td>0.145550</td>\n",
              "      <td>4.55</td>\n",
              "      <td>3.73</td>\n",
              "      <td>car</td>\n",
              "    </tr>\n",
              "  </tbody>\n",
              "</table>\n",
              "</div>\n",
              "      <button class=\"colab-df-convert\" onclick=\"convertToInteractive('df-ed925791-c57e-4cd7-a9f4-aae81bc85c06')\"\n",
              "              title=\"Convert this dataframe to an interactive table.\"\n",
              "              style=\"display:none;\">\n",
              "        \n",
              "  <svg xmlns=\"http://www.w3.org/2000/svg\" height=\"24px\"viewBox=\"0 0 24 24\"\n",
              "       width=\"24px\">\n",
              "    <path d=\"M0 0h24v24H0V0z\" fill=\"none\"/>\n",
              "    <path d=\"M18.56 5.44l.94 2.06.94-2.06 2.06-.94-2.06-.94-.94-2.06-.94 2.06-2.06.94zm-11 1L8.5 8.5l.94-2.06 2.06-.94-2.06-.94L8.5 2.5l-.94 2.06-2.06.94zm10 10l.94 2.06.94-2.06 2.06-.94-2.06-.94-.94-2.06-.94 2.06-2.06.94z\"/><path d=\"M17.41 7.96l-1.37-1.37c-.4-.4-.92-.59-1.43-.59-.52 0-1.04.2-1.43.59L10.3 9.45l-7.72 7.72c-.78.78-.78 2.05 0 2.83L4 21.41c.39.39.9.59 1.41.59.51 0 1.02-.2 1.41-.59l7.78-7.78 2.81-2.81c.8-.78.8-2.07 0-2.86zM5.41 20L4 18.59l7.72-7.72 1.47 1.35L5.41 20z\"/>\n",
              "  </svg>\n",
              "      </button>\n",
              "      \n",
              "  <style>\n",
              "    .colab-df-container {\n",
              "      display:flex;\n",
              "      flex-wrap:wrap;\n",
              "      gap: 12px;\n",
              "    }\n",
              "\n",
              "    .colab-df-convert {\n",
              "      background-color: #E8F0FE;\n",
              "      border: none;\n",
              "      border-radius: 50%;\n",
              "      cursor: pointer;\n",
              "      display: none;\n",
              "      fill: #1967D2;\n",
              "      height: 32px;\n",
              "      padding: 0 0 0 0;\n",
              "      width: 32px;\n",
              "    }\n",
              "\n",
              "    .colab-df-convert:hover {\n",
              "      background-color: #E2EBFA;\n",
              "      box-shadow: 0px 1px 2px rgba(60, 64, 67, 0.3), 0px 1px 3px 1px rgba(60, 64, 67, 0.15);\n",
              "      fill: #174EA6;\n",
              "    }\n",
              "\n",
              "    [theme=dark] .colab-df-convert {\n",
              "      background-color: #3B4455;\n",
              "      fill: #D2E3FC;\n",
              "    }\n",
              "\n",
              "    [theme=dark] .colab-df-convert:hover {\n",
              "      background-color: #434B5C;\n",
              "      box-shadow: 0px 1px 3px 1px rgba(0, 0, 0, 0.15);\n",
              "      filter: drop-shadow(0px 1px 2px rgba(0, 0, 0, 0.3));\n",
              "      fill: #FFFFFF;\n",
              "    }\n",
              "  </style>\n",
              "\n",
              "      <script>\n",
              "        const buttonEl =\n",
              "          document.querySelector('#df-ed925791-c57e-4cd7-a9f4-aae81bc85c06 button.colab-df-convert');\n",
              "        buttonEl.style.display =\n",
              "          google.colab.kernel.accessAllowed ? 'block' : 'none';\n",
              "\n",
              "        async function convertToInteractive(key) {\n",
              "          const element = document.querySelector('#df-ed925791-c57e-4cd7-a9f4-aae81bc85c06');\n",
              "          const dataTable =\n",
              "            await google.colab.kernel.invokeFunction('convertToInteractive',\n",
              "                                                     [key], {});\n",
              "          if (!dataTable) return;\n",
              "\n",
              "          const docLinkHtml = 'Like what you see? Visit the ' +\n",
              "            '<a target=\"_blank\" href=https://colab.research.google.com/notebooks/data_table.ipynb>data table notebook</a>'\n",
              "            + ' to learn more about interactive tables.';\n",
              "          element.innerHTML = '';\n",
              "          dataTable['output_type'] = 'display_data';\n",
              "          await google.colab.output.renderOutput(dataTable, element);\n",
              "          const docLink = document.createElement('div');\n",
              "          docLink.innerHTML = docLinkHtml;\n",
              "          element.appendChild(docLink);\n",
              "        }\n",
              "      </script>\n",
              "    </div>\n",
              "  </div>\n",
              "  "
            ],
            "text/plain": [
              "            x_mean     x_std  x_max  y_min    x_mean     x_std  x_max  y_min  \\\n",
              "part_idx                                                                       \n",
              "1->0      0.800141  0.022135   0.85  -9.18  0.800141  0.022135   0.85  -9.18   \n",
              "1->1      0.810000  0.016903   0.83  -9.14  0.810000  0.016903   0.83  -9.14   \n",
              "10->0     1.850496  0.586150   3.43  -9.38  1.850496  0.586150   3.43  -9.38   \n",
              "10->1     2.299412  0.168355   2.52  -7.75  2.299412  0.168355   2.52  -7.75   \n",
              "100->0    0.250972  0.098798   0.43   8.62  0.250972  0.098798   0.43   8.62   \n",
              "\n",
              "            x_mean     x_std  x_max  y_min  x_min    y_mean     y_std  y_max  \\\n",
              "part_idx                                                                       \n",
              "1->0      0.800141  0.022135   0.85  -9.18   0.75 -9.127324  0.018513  -9.08   \n",
              "1->1      0.810000  0.016903   0.83  -9.14   0.77 -9.118000  0.016125  -9.09   \n",
              "10->0     1.850496  0.586150   3.43  -9.38   0.37 -8.079362  0.534036  -7.10   \n",
              "10->1     2.299412  0.168355   2.52  -7.75   1.97 -7.336471  0.243258  -6.87   \n",
              "100->0    0.250972  0.098798   0.43   8.62   0.03  8.907778  0.122051   9.23   \n",
              "\n",
              "            z_mean     z_std  z_max  z_min target  \n",
              "part_idx                                           \n",
              "1->0     -3.747606  0.028709  -3.67  -3.81    bus  \n",
              "1->1     -3.747333  0.021202  -3.70  -3.78    bus  \n",
              "10->0    -5.522057  0.646008  -3.44  -6.40    bus  \n",
              "10->1    -6.140000  0.296036  -5.72  -6.64    bus  \n",
              "100->0    4.246111  0.145550   4.55   3.73    car  "
            ]
          },
          "metadata": {},
          "execution_count": 326
        }
      ]
    },
    {
      "cell_type": "code",
      "source": [
        "boxplot = df5.boxplot()"
      ],
      "metadata": {
        "id": "jRXMLf7prGMK",
        "outputId": "eb7a2021-2530-46ad-daab-013fc04a0058",
        "colab": {
          "base_uri": "https://localhost:8080/",
          "height": 321
        }
      },
      "execution_count": 327,
      "outputs": [
        {
          "output_type": "stream",
          "name": "stderr",
          "text": [
            "/usr/local/lib/python3.7/dist-packages/matplotlib/cbook/__init__.py:1376: VisibleDeprecationWarning: Creating an ndarray from ragged nested sequences (which is a list-or-tuple of lists-or-tuples-or ndarrays with different lengths or shapes) is deprecated. If you meant to do this, you must specify 'dtype=object' when creating the ndarray.\n",
            "  X = np.atleast_1d(X.T if isinstance(X, np.ndarray) else np.asarray(X))\n"
          ]
        },
        {
          "output_type": "display_data",
          "data": {
            "image/png": "[encoded data removed]",
            "text/plain": [
              "<Figure size 432x288 with 1 Axes>"
            ]
          },
          "metadata": {
            "needs_background": "light"
          }
        }
      ]
    },
    {
      "cell_type": "code",
      "source": [
        "df5.boxplot(column = ['x_mean'], by = 'target')"
      ],
      "metadata": {
        "colab": {
          "base_uri": "https://localhost:8080/",
          "height": 373
        },
        "id": "vu4xqBHoIPOM",
        "outputId": "52823060-f29b-47fd-f57d-59df69fe0a20"
      },
      "execution_count": 328,
      "outputs": [
        {
          "output_type": "stream",
          "name": "stderr",
          "text": [
            "/usr/local/lib/python3.7/dist-packages/matplotlib/cbook/__init__.py:1376: VisibleDeprecationWarning: Creating an ndarray from ragged nested sequences (which is a list-or-tuple of lists-or-tuples-or ndarrays with different lengths or shapes) is deprecated. If you meant to do this, you must specify 'dtype=object' when creating the ndarray.\n",
            "  X = np.atleast_1d(X.T if isinstance(X, np.ndarray) else np.asarray(X))\n"
          ]
        },
        {
          "output_type": "execute_result",
          "data": {
            "text/plain": [
              "<matplotlib.axes._subplots.AxesSubplot at 0x7f4a98bc5c10>"
            ]
          },
          "metadata": {},
          "execution_count": 328
        },
        {
          "output_type": "display_data",
          "data": {
            "image/png": "[encoded data removed]",
            "text/plain": [
              "<Figure size 432x288 with 1 Axes>"
            ]
          },
          "metadata": {
            "needs_background": "light"
          }
        }
      ]
    },
    {
      "cell_type": "code",
      "source": [
        "df5.boxplot(column = ['x_std'], by = 'target')"
      ],
      "metadata": {
        "colab": {
          "base_uri": "https://localhost:8080/",
          "height": 373
        },
        "id": "uC3Il9qgsUxc",
        "outputId": "16fa6ea7-68b3-4c72-af99-e864f0f92de5"
      },
      "execution_count": 329,
      "outputs": [
        {
          "output_type": "stream",
          "name": "stderr",
          "text": [
            "/usr/local/lib/python3.7/dist-packages/matplotlib/cbook/__init__.py:1376: VisibleDeprecationWarning: Creating an ndarray from ragged nested sequences (which is a list-or-tuple of lists-or-tuples-or ndarrays with different lengths or shapes) is deprecated. If you meant to do this, you must specify 'dtype=object' when creating the ndarray.\n",
            "  X = np.atleast_1d(X.T if isinstance(X, np.ndarray) else np.asarray(X))\n"
          ]
        },
        {
          "output_type": "execute_result",
          "data": {
            "text/plain": [
              "<matplotlib.axes._subplots.AxesSubplot at 0x7f4a98bc4090>"
            ]
          },
          "metadata": {},
          "execution_count": 329
        },
        {
          "output_type": "display_data",
          "data": {
            "image/png": "[encoded data removed]",
            "text/plain": [
              "<Figure size 432x288 with 1 Axes>"
            ]
          },
          "metadata": {
            "needs_background": "light"
          }
        }
      ]
    },
    {
      "cell_type": "code",
      "source": [
        "df5.boxplot(column = ['x_max'], by = 'target')"
      ],
      "metadata": {
        "colab": {
          "base_uri": "https://localhost:8080/",
          "height": 373
        },
        "id": "KTmljCldsU0j",
        "outputId": "f04e23a9-f87f-417e-b5ca-1bf03f00fcdb"
      },
      "execution_count": 330,
      "outputs": [
        {
          "output_type": "stream",
          "name": "stderr",
          "text": [
            "/usr/local/lib/python3.7/dist-packages/matplotlib/cbook/__init__.py:1376: VisibleDeprecationWarning: Creating an ndarray from ragged nested sequences (which is a list-or-tuple of lists-or-tuples-or ndarrays with different lengths or shapes) is deprecated. If you meant to do this, you must specify 'dtype=object' when creating the ndarray.\n",
            "  X = np.atleast_1d(X.T if isinstance(X, np.ndarray) else np.asarray(X))\n"
          ]
        },
        {
          "output_type": "execute_result",
          "data": {
            "text/plain": [
              "<matplotlib.axes._subplots.AxesSubplot at 0x7f4a99668d90>"
            ]
          },
          "metadata": {},
          "execution_count": 330
        },
        {
          "output_type": "display_data",
          "data": {
            "image/png": "[encoded data removed]",
            "text/plain": [
              "<Figure size 432x288 with 1 Axes>"
            ]
          },
          "metadata": {
            "needs_background": "light"
          }
        }
      ]
    },
    {
      "cell_type": "code",
      "source": [
        "df5.boxplot(column = ['x_min'], by = 'target')"
      ],
      "metadata": {
        "colab": {
          "base_uri": "https://localhost:8080/",
          "height": 373
        },
        "id": "bpJNKTwxsU3p",
        "outputId": "961edeec-df4b-4243-9020-281e58136a2c"
      },
      "execution_count": 331,
      "outputs": [
        {
          "output_type": "stream",
          "name": "stderr",
          "text": [
            "/usr/local/lib/python3.7/dist-packages/matplotlib/cbook/__init__.py:1376: VisibleDeprecationWarning: Creating an ndarray from ragged nested sequences (which is a list-or-tuple of lists-or-tuples-or ndarrays with different lengths or shapes) is deprecated. If you meant to do this, you must specify 'dtype=object' when creating the ndarray.\n",
            "  X = np.atleast_1d(X.T if isinstance(X, np.ndarray) else np.asarray(X))\n"
          ]
        },
        {
          "output_type": "execute_result",
          "data": {
            "text/plain": [
              "<matplotlib.axes._subplots.AxesSubplot at 0x7f4a998962d0>"
            ]
          },
          "metadata": {},
          "execution_count": 331
        },
        {
          "output_type": "display_data",
          "data": {
            "image/png": "[encoded data removed]",
            "text/plain": [
              "<Figure size 432x288 with 1 Axes>"
            ]
          },
          "metadata": {
            "needs_background": "light"
          }
        }
      ]
    },
    {
      "cell_type": "code",
      "source": [
        "df5.boxplot(column = ['y_mean'], by = 'target')"
      ],
      "metadata": {
        "colab": {
          "base_uri": "https://localhost:8080/",
          "height": 373
        },
        "id": "3T-dvT2xsU6K",
        "outputId": "961db11e-2b53-41dc-8494-84b9b6091999"
      },
      "execution_count": 332,
      "outputs": [
        {
          "output_type": "stream",
          "name": "stderr",
          "text": [
            "/usr/local/lib/python3.7/dist-packages/matplotlib/cbook/__init__.py:1376: VisibleDeprecationWarning: Creating an ndarray from ragged nested sequences (which is a list-or-tuple of lists-or-tuples-or ndarrays with different lengths or shapes) is deprecated. If you meant to do this, you must specify 'dtype=object' when creating the ndarray.\n",
            "  X = np.atleast_1d(X.T if isinstance(X, np.ndarray) else np.asarray(X))\n"
          ]
        },
        {
          "output_type": "execute_result",
          "data": {
            "text/plain": [
              "<matplotlib.axes._subplots.AxesSubplot at 0x7f4a99892e10>"
            ]
          },
          "metadata": {},
          "execution_count": 332
        },
        {
          "output_type": "display_data",
          "data": {
            "image/png": "[encoded data removed]",
            "text/plain": [
              "<Figure size 432x288 with 1 Axes>"
            ]
          },
          "metadata": {
            "needs_background": "light"
          }
        }
      ]
    },
    {
      "cell_type": "code",
      "source": [
        "df5.boxplot(column = ['y_std'], by = 'target')"
      ],
      "metadata": {
        "colab": {
          "base_uri": "https://localhost:8080/",
          "height": 373
        },
        "id": "VLccWd9ZsU8z",
        "outputId": "2aabbb4a-116f-484e-fb0c-6ac1be2d48b2"
      },
      "execution_count": 333,
      "outputs": [
        {
          "output_type": "stream",
          "name": "stderr",
          "text": [
            "/usr/local/lib/python3.7/dist-packages/matplotlib/cbook/__init__.py:1376: VisibleDeprecationWarning: Creating an ndarray from ragged nested sequences (which is a list-or-tuple of lists-or-tuples-or ndarrays with different lengths or shapes) is deprecated. If you meant to do this, you must specify 'dtype=object' when creating the ndarray.\n",
            "  X = np.atleast_1d(X.T if isinstance(X, np.ndarray) else np.asarray(X))\n"
          ]
        },
        {
          "output_type": "execute_result",
          "data": {
            "text/plain": [
              "<matplotlib.axes._subplots.AxesSubplot at 0x7f4a98c60a90>"
            ]
          },
          "metadata": {},
          "execution_count": 333
        },
        {
          "output_type": "display_data",
          "data": {
            "image/png": "[encoded data removed]",
            "text/plain": [
              "<Figure size 432x288 with 1 Axes>"
            ]
          },
          "metadata": {
            "needs_background": "light"
          }
        }
      ]
    },
    {
      "cell_type": "code",
      "source": [
        "df5.boxplot(column = ['y_max'], by = 'target')"
      ],
      "metadata": {
        "colab": {
          "base_uri": "https://localhost:8080/",
          "height": 373
        },
        "id": "QJMsHBmSsU_9",
        "outputId": "c3be1b93-c822-4c93-9130-b00b97779eff"
      },
      "execution_count": 334,
      "outputs": [
        {
          "output_type": "stream",
          "name": "stderr",
          "text": [
            "/usr/local/lib/python3.7/dist-packages/matplotlib/cbook/__init__.py:1376: VisibleDeprecationWarning: Creating an ndarray from ragged nested sequences (which is a list-or-tuple of lists-or-tuples-or ndarrays with different lengths or shapes) is deprecated. If you meant to do this, you must specify 'dtype=object' when creating the ndarray.\n",
            "  X = np.atleast_1d(X.T if isinstance(X, np.ndarray) else np.asarray(X))\n"
          ]
        },
        {
          "output_type": "execute_result",
          "data": {
            "text/plain": [
              "<matplotlib.axes._subplots.AxesSubplot at 0x7f4a99809f90>"
            ]
          },
          "metadata": {},
          "execution_count": 334
        },
        {
          "output_type": "display_data",
          "data": {
            "image/png": "[encoded data removed]",
            "text/plain": [
              "<Figure size 432x288 with 1 Axes>"
            ]
          },
          "metadata": {
            "needs_background": "light"
          }
        }
      ]
    },
    {
      "cell_type": "code",
      "source": [
        "df5.boxplot(column = ['y_min'], by = 'target')"
      ],
      "metadata": {
        "colab": {
          "base_uri": "https://localhost:8080/",
          "height": 373
        },
        "id": "71l4t-bqsVCn",
        "outputId": "026f658d-7f9c-4e52-dbc3-589b24bf0450"
      },
      "execution_count": 335,
      "outputs": [
        {
          "output_type": "stream",
          "name": "stderr",
          "text": [
            "/usr/local/lib/python3.7/dist-packages/matplotlib/cbook/__init__.py:1376: VisibleDeprecationWarning: Creating an ndarray from ragged nested sequences (which is a list-or-tuple of lists-or-tuples-or ndarrays with different lengths or shapes) is deprecated. If you meant to do this, you must specify 'dtype=object' when creating the ndarray.\n",
            "  X = np.atleast_1d(X.T if isinstance(X, np.ndarray) else np.asarray(X))\n"
          ]
        },
        {
          "output_type": "execute_result",
          "data": {
            "text/plain": [
              "<matplotlib.axes._subplots.AxesSubplot at 0x7f4a98d5f190>"
            ]
          },
          "metadata": {},
          "execution_count": 335
        },
        {
          "output_type": "display_data",
          "data": {
            "image/png": "[encoded data removed]",
            "text/plain": [
              "<Figure size 432x288 with 1 Axes>"
            ]
          },
          "metadata": {
            "needs_background": "light"
          }
        }
      ]
    },
    {
      "cell_type": "code",
      "source": [
        "df5.boxplot(column = ['z_mean'], by = 'target')"
      ],
      "metadata": {
        "colab": {
          "base_uri": "https://localhost:8080/",
          "height": 373
        },
        "id": "0j-u5EJfsVFd",
        "outputId": "53d02317-0ed7-4596-e803-7d5e0bf8ae84"
      },
      "execution_count": 336,
      "outputs": [
        {
          "output_type": "stream",
          "name": "stderr",
          "text": [
            "/usr/local/lib/python3.7/dist-packages/matplotlib/cbook/__init__.py:1376: VisibleDeprecationWarning: Creating an ndarray from ragged nested sequences (which is a list-or-tuple of lists-or-tuples-or ndarrays with different lengths or shapes) is deprecated. If you meant to do this, you must specify 'dtype=object' when creating the ndarray.\n",
            "  X = np.atleast_1d(X.T if isinstance(X, np.ndarray) else np.asarray(X))\n"
          ]
        },
        {
          "output_type": "execute_result",
          "data": {
            "text/plain": [
              "<matplotlib.axes._subplots.AxesSubplot at 0x7f4a99456d50>"
            ]
          },
          "metadata": {},
          "execution_count": 336
        },
        {
          "output_type": "display_data",
          "data": {
            "image/png": "[encoded data removed]",
            "text/plain": [
              "<Figure size 432x288 with 1 Axes>"
            ]
          },
          "metadata": {
            "needs_background": "light"
          }
        }
      ]
    },
    {
      "cell_type": "code",
      "source": [
        "df5.boxplot(column = ['z_std'], by = 'target')"
      ],
      "metadata": {
        "colab": {
          "base_uri": "https://localhost:8080/",
          "height": 373
        },
        "id": "sTFDlO6psVIJ",
        "outputId": "10bf2f4a-4b38-4529-a6af-0ce938422dc0"
      },
      "execution_count": 337,
      "outputs": [
        {
          "output_type": "stream",
          "name": "stderr",
          "text": [
            "/usr/local/lib/python3.7/dist-packages/matplotlib/cbook/__init__.py:1376: VisibleDeprecationWarning: Creating an ndarray from ragged nested sequences (which is a list-or-tuple of lists-or-tuples-or ndarrays with different lengths or shapes) is deprecated. If you meant to do this, you must specify 'dtype=object' when creating the ndarray.\n",
            "  X = np.atleast_1d(X.T if isinstance(X, np.ndarray) else np.asarray(X))\n"
          ]
        },
        {
          "output_type": "execute_result",
          "data": {
            "text/plain": [
              "<matplotlib.axes._subplots.AxesSubplot at 0x7f4a993e62d0>"
            ]
          },
          "metadata": {},
          "execution_count": 337
        },
        {
          "output_type": "display_data",
          "data": {
            "image/png": "[encoded data removed]",
            "text/plain": [
              "<Figure size 432x288 with 1 Axes>"
            ]
          },
          "metadata": {
            "needs_background": "light"
          }
        }
      ]
    },
    {
      "cell_type": "code",
      "source": [
        "df5.boxplot(column = ['z_max'], by = 'target')"
      ],
      "metadata": {
        "colab": {
          "base_uri": "https://localhost:8080/",
          "height": 373
        },
        "id": "CKgBKPYisVK3",
        "outputId": "ed528f73-47ca-4c4d-e24d-a1ec5affd116"
      },
      "execution_count": 338,
      "outputs": [
        {
          "output_type": "stream",
          "name": "stderr",
          "text": [
            "/usr/local/lib/python3.7/dist-packages/matplotlib/cbook/__init__.py:1376: VisibleDeprecationWarning: Creating an ndarray from ragged nested sequences (which is a list-or-tuple of lists-or-tuples-or ndarrays with different lengths or shapes) is deprecated. If you meant to do this, you must specify 'dtype=object' when creating the ndarray.\n",
            "  X = np.atleast_1d(X.T if isinstance(X, np.ndarray) else np.asarray(X))\n"
          ]
        },
        {
          "output_type": "execute_result",
          "data": {
            "text/plain": [
              "<matplotlib.axes._subplots.AxesSubplot at 0x7f4a98ff3690>"
            ]
          },
          "metadata": {},
          "execution_count": 338
        },
        {
          "output_type": "display_data",
          "data": {
            "image/png": "[encoded data removed]",
            "text/plain": [
              "<Figure size 432x288 with 1 Axes>"
            ]
          },
          "metadata": {
            "needs_background": "light"
          }
        }
      ]
    },
    {
      "cell_type": "code",
      "source": [
        "df5.boxplot(column = ['z_min'], by = 'target')"
      ],
      "metadata": {
        "colab": {
          "base_uri": "https://localhost:8080/",
          "height": 373
        },
        "id": "-ti64P0csVNw",
        "outputId": "fa143cbc-e8b4-4030-8f71-5ff9b6d853fa"
      },
      "execution_count": 339,
      "outputs": [
        {
          "output_type": "stream",
          "name": "stderr",
          "text": [
            "/usr/local/lib/python3.7/dist-packages/matplotlib/cbook/__init__.py:1376: VisibleDeprecationWarning: Creating an ndarray from ragged nested sequences (which is a list-or-tuple of lists-or-tuples-or ndarrays with different lengths or shapes) is deprecated. If you meant to do this, you must specify 'dtype=object' when creating the ndarray.\n",
            "  X = np.atleast_1d(X.T if isinstance(X, np.ndarray) else np.asarray(X))\n"
          ]
        },
        {
          "output_type": "execute_result",
          "data": {
            "text/plain": [
              "<matplotlib.axes._subplots.AxesSubplot at 0x7f4a98a96690>"
            ]
          },
          "metadata": {},
          "execution_count": 339
        },
        {
          "output_type": "display_data",
          "data": {
            "image/png": "[encoded data removed]",
            "text/plain": [
              "<Figure size 432x288 with 1 Axes>"
            ]
          },
          "metadata": {
            "needs_background": "light"
          }
        }
      ]
    },
    {
      "cell_type": "code",
      "source": [
        "from pandas import read_csv\n",
        "from collections import Counter\n",
        "from matplotlib import pyplot\n",
        "from sklearn.preprocessing import LabelEncoder\n",
        "from imblearn.over_sampling import SMOTE\n",
        "data = df5.values\n",
        "X, y = data[:, :-1], data[:, -1]\n",
        "y = LabelEncoder().fit_transform(y)\n",
        "counter = Counter(y)\n",
        "for k,v in counter.items():\n",
        "\tper = v / len(y) * 100\n",
        "\tprint('Class=%d, n=%d (%.3f%%)' % (k, v, per))\n",
        "pyplot.bar(counter.keys(), counter.values())\n",
        "pyplot.show()"
      ],
      "metadata": {
        "colab": {
          "base_uri": "https://localhost:8080/",
          "height": 369
        },
        "id": "Q-pHmeLdtbCs",
        "outputId": "7c004068-599f-482f-8658-f63137cd3ce3"
      },
      "execution_count": 340,
      "outputs": [
        {
          "output_type": "stream",
          "name": "stdout",
          "text": [
            "Class=1, n=10661 (26.263%)\n",
            "Class=2, n=20242 (49.866%)\n",
            "Class=5, n=5847 (14.404%)\n",
            "Class=0, n=3161 (7.787%)\n",
            "Class=4, n=601 (1.481%)\n",
            "Class=3, n=81 (0.200%)\n"
          ]
        },
        {
          "output_type": "display_data",
          "data": {
            "image/png": "[encoded data removed]",
            "text/plain": [
              "<Figure size 432x288 with 1 Axes>"
            ]
          },
          "metadata": {
            "needs_background": "light"
          }
        }
      ]
    },
    {
      "cell_type": "code",
      "source": [
        "# data = df5.values\n",
        "# X, y = data[:, :-1], data[:, -1]\n",
        "# y = LabelEncoder().fit_transform(y)\n",
        "# undersample = SMOTE()\n",
        "# X, y = undersample.fit_resample(X, y)\n",
        "# counter = Counter(y)\n",
        "# for k,v in counter.items():\n",
        "# \tper = v / len(y) * 100\n",
        "# \tprint('Class=%d, n=%d (%.3f%%)' % (k, v, per))\n",
        "# pyplot.bar(counter.keys(), counter.values())\n",
        "# pyplot.show()"
      ],
      "metadata": {
        "id": "4_YbJk2VvL6U"
      },
      "execution_count": 341,
      "outputs": []
    },
    {
      "cell_type": "code",
      "source": [
        "print(X)"
      ],
      "metadata": {
        "colab": {
          "base_uri": "https://localhost:8080/"
        },
        "id": "dWto-CzJH-Zx",
        "outputId": "a1e56c4f-bd0b-4e9e-e575-f2b2a40e32b4"
      },
      "execution_count": 342,
      "outputs": [
        {
          "output_type": "stream",
          "name": "stdout",
          "text": [
            "[[0.8001408425854964 0.022135491967534483 0.8500000238418579 ...\n",
            "  0.028708596946844855 -3.670000076293945 -3.809999942779541]\n",
            " [0.8099999984105428 0.01690307904956004 0.8299999833106995 ...\n",
            "  0.02120195632779195 -3.700000047683716 -3.7799999713897705]\n",
            " [1.8504964527508891 0.5861500674686537 3.430000066757202 ...\n",
            "  0.6460080789854357 -3.440000057220459 -6.400000095367432]\n",
            " ...\n",
            " [8.20833330684238 0.40935480963454557 9.5600004196167 ...\n",
            "  0.5265630809384949 -3.190000057220459 -5.860000133514404]\n",
            " [8.051666577657064 0.2598472171780208 8.470000267028809 ...\n",
            "  0.35185640569669885 -4.039999961853027 -5.389999866485596]\n",
            " [8.496555548244052 0.3263858447779168 9.4399995803833 ...\n",
            "  0.6381178998676386 -2.5899999141693115 -5.599999904632568]]\n"
          ]
        }
      ]
    },
    {
      "cell_type": "code",
      "source": [
        "print(y)"
      ],
      "metadata": {
        "colab": {
          "base_uri": "https://localhost:8080/"
        },
        "id": "_43cscyaIH0r",
        "outputId": "2c1ebf4e-9e0f-48e7-d4f1-4cc5aeb7ed3d"
      },
      "execution_count": 343,
      "outputs": [
        {
          "output_type": "stream",
          "name": "stdout",
          "text": [
            "[1 1 1 ... 1 1 1]\n"
          ]
        }
      ]
    },
    {
      "cell_type": "code",
      "source": [
        "type(X)"
      ],
      "metadata": {
        "colab": {
          "base_uri": "https://localhost:8080/"
        },
        "id": "xtjTBSE3IRyp",
        "outputId": "22212492-7074-4c6e-bc7f-5e614b790dbc"
      },
      "execution_count": 344,
      "outputs": [
        {
          "output_type": "execute_result",
          "data": {
            "text/plain": [
              "numpy.ndarray"
            ]
          },
          "metadata": {},
          "execution_count": 344
        }
      ]
    },
    {
      "cell_type": "code",
      "source": [
        "df5.head()"
      ],
      "metadata": {
        "colab": {
          "base_uri": "https://localhost:8080/",
          "height": 238
        },
        "id": "d_QOn59JnfQa",
        "outputId": "996dda87-2834-4530-f4dd-1360cdb1f788"
      },
      "execution_count": 345,
      "outputs": [
        {
          "output_type": "execute_result",
          "data": {
            "text/html": [
              "\n",
              "  <div id=\"df-81f3852d-b3a6-474a-857f-531f242f5b2f\">\n",
              "    <div class=\"colab-df-container\">\n",
              "      <div>\n",
              "<style scoped>\n",
              "    .dataframe tbody tr th:only-of-type {\n",
              "        vertical-align: middle;\n",
              "    }\n",
              "\n",
              "    .dataframe tbody tr th {\n",
              "        vertical-align: top;\n",
              "    }\n",
              "\n",
              "    .dataframe thead th {\n",
              "        text-align: right;\n",
              "    }\n",
              "</style>\n",
              "<table border=\"1\" class=\"dataframe\">\n",
              "  <thead>\n",
              "    <tr style=\"text-align: right;\">\n",
              "      <th></th>\n",
              "      <th>x_mean</th>\n",
              "      <th>x_std</th>\n",
              "      <th>x_max</th>\n",
              "      <th>y_min</th>\n",
              "      <th>x_mean</th>\n",
              "      <th>x_std</th>\n",
              "      <th>x_max</th>\n",
              "      <th>y_min</th>\n",
              "      <th>x_mean</th>\n",
              "      <th>x_std</th>\n",
              "      <th>x_max</th>\n",
              "      <th>y_min</th>\n",
              "      <th>x_min</th>\n",
              "      <th>y_mean</th>\n",
              "      <th>y_std</th>\n",
              "      <th>y_max</th>\n",
              "      <th>z_mean</th>\n",
              "      <th>z_std</th>\n",
              "      <th>z_max</th>\n",
              "      <th>z_min</th>\n",
              "      <th>target</th>\n",
              "    </tr>\n",
              "    <tr>\n",
              "      <th>part_idx</th>\n",
              "      <th></th>\n",
              "      <th></th>\n",
              "      <th></th>\n",
              "      <th></th>\n",
              "      <th></th>\n",
              "      <th></th>\n",
              "      <th></th>\n",
              "      <th></th>\n",
              "      <th></th>\n",
              "      <th></th>\n",
              "      <th></th>\n",
              "      <th></th>\n",
              "      <th></th>\n",
              "      <th></th>\n",
              "      <th></th>\n",
              "      <th></th>\n",
              "      <th></th>\n",
              "      <th></th>\n",
              "      <th></th>\n",
              "      <th></th>\n",
              "      <th></th>\n",
              "    </tr>\n",
              "  </thead>\n",
              "  <tbody>\n",
              "    <tr>\n",
              "      <th>1-&gt;0</th>\n",
              "      <td>0.800141</td>\n",
              "      <td>0.022135</td>\n",
              "      <td>0.85</td>\n",
              "      <td>-9.18</td>\n",
              "      <td>0.800141</td>\n",
              "      <td>0.022135</td>\n",
              "      <td>0.85</td>\n",
              "      <td>-9.18</td>\n",
              "      <td>0.800141</td>\n",
              "      <td>0.022135</td>\n",
              "      <td>0.85</td>\n",
              "      <td>-9.18</td>\n",
              "      <td>0.75</td>\n",
              "      <td>-9.127324</td>\n",
              "      <td>0.018513</td>\n",
              "      <td>-9.08</td>\n",
              "      <td>-3.747606</td>\n",
              "      <td>0.028709</td>\n",
              "      <td>-3.67</td>\n",
              "      <td>-3.81</td>\n",
              "      <td>bus</td>\n",
              "    </tr>\n",
              "    <tr>\n",
              "      <th>1-&gt;1</th>\n",
              "      <td>0.810000</td>\n",
              "      <td>0.016903</td>\n",
              "      <td>0.83</td>\n",
              "      <td>-9.14</td>\n",
              "      <td>0.810000</td>\n",
              "      <td>0.016903</td>\n",
              "      <td>0.83</td>\n",
              "      <td>-9.14</td>\n",
              "      <td>0.810000</td>\n",
              "      <td>0.016903</td>\n",
              "      <td>0.83</td>\n",
              "      <td>-9.14</td>\n",
              "      <td>0.77</td>\n",
              "      <td>-9.118000</td>\n",
              "      <td>0.016125</td>\n",
              "      <td>-9.09</td>\n",
              "      <td>-3.747333</td>\n",
              "      <td>0.021202</td>\n",
              "      <td>-3.70</td>\n",
              "      <td>-3.78</td>\n",
              "      <td>bus</td>\n",
              "    </tr>\n",
              "    <tr>\n",
              "      <th>10-&gt;0</th>\n",
              "      <td>1.850496</td>\n",
              "      <td>0.586150</td>\n",
              "      <td>3.43</td>\n",
              "      <td>-9.38</td>\n",
              "      <td>1.850496</td>\n",
              "      <td>0.586150</td>\n",
              "      <td>3.43</td>\n",
              "      <td>-9.38</td>\n",
              "      <td>1.850496</td>\n",
              "      <td>0.586150</td>\n",
              "      <td>3.43</td>\n",
              "      <td>-9.38</td>\n",
              "      <td>0.37</td>\n",
              "      <td>-8.079362</td>\n",
              "      <td>0.534036</td>\n",
              "      <td>-7.10</td>\n",
              "      <td>-5.522057</td>\n",
              "      <td>0.646008</td>\n",
              "      <td>-3.44</td>\n",
              "      <td>-6.40</td>\n",
              "      <td>bus</td>\n",
              "    </tr>\n",
              "    <tr>\n",
              "      <th>10-&gt;1</th>\n",
              "      <td>2.299412</td>\n",
              "      <td>0.168355</td>\n",
              "      <td>2.52</td>\n",
              "      <td>-7.75</td>\n",
              "      <td>2.299412</td>\n",
              "      <td>0.168355</td>\n",
              "      <td>2.52</td>\n",
              "      <td>-7.75</td>\n",
              "      <td>2.299412</td>\n",
              "      <td>0.168355</td>\n",
              "      <td>2.52</td>\n",
              "      <td>-7.75</td>\n",
              "      <td>1.97</td>\n",
              "      <td>-7.336471</td>\n",
              "      <td>0.243258</td>\n",
              "      <td>-6.87</td>\n",
              "      <td>-6.140000</td>\n",
              "      <td>0.296036</td>\n",
              "      <td>-5.72</td>\n",
              "      <td>-6.64</td>\n",
              "      <td>bus</td>\n",
              "    </tr>\n",
              "    <tr>\n",
              "      <th>100-&gt;0</th>\n",
              "      <td>0.250972</td>\n",
              "      <td>0.098798</td>\n",
              "      <td>0.43</td>\n",
              "      <td>8.62</td>\n",
              "      <td>0.250972</td>\n",
              "      <td>0.098798</td>\n",
              "      <td>0.43</td>\n",
              "      <td>8.62</td>\n",
              "      <td>0.250972</td>\n",
              "      <td>0.098798</td>\n",
              "      <td>0.43</td>\n",
              "      <td>8.62</td>\n",
              "      <td>0.03</td>\n",
              "      <td>8.907778</td>\n",
              "      <td>0.122051</td>\n",
              "      <td>9.23</td>\n",
              "      <td>4.246111</td>\n",
              "      <td>0.145550</td>\n",
              "      <td>4.55</td>\n",
              "      <td>3.73</td>\n",
              "      <td>car</td>\n",
              "    </tr>\n",
              "  </tbody>\n",
              "</table>\n",
              "</div>\n",
              "      <button class=\"colab-df-convert\" onclick=\"convertToInteractive('df-81f3852d-b3a6-474a-857f-531f242f5b2f')\"\n",
              "              title=\"Convert this dataframe to an interactive table.\"\n",
              "              style=\"display:none;\">\n",
              "        \n",
              "  <svg xmlns=\"http://www.w3.org/2000/svg\" height=\"24px\"viewBox=\"0 0 24 24\"\n",
              "       width=\"24px\">\n",
              "    <path d=\"M0 0h24v24H0V0z\" fill=\"none\"/>\n",
              "    <path d=\"M18.56 5.44l.94 2.06.94-2.06 2.06-.94-2.06-.94-.94-2.06-.94 2.06-2.06.94zm-11 1L8.5 8.5l.94-2.06 2.06-.94-2.06-.94L8.5 2.5l-.94 2.06-2.06.94zm10 10l.94 2.06.94-2.06 2.06-.94-2.06-.94-.94-2.06-.94 2.06-2.06.94z\"/><path d=\"M17.41 7.96l-1.37-1.37c-.4-.4-.92-.59-1.43-.59-.52 0-1.04.2-1.43.59L10.3 9.45l-7.72 7.72c-.78.78-.78 2.05 0 2.83L4 21.41c.39.39.9.59 1.41.59.51 0 1.02-.2 1.41-.59l7.78-7.78 2.81-2.81c.8-.78.8-2.07 0-2.86zM5.41 20L4 18.59l7.72-7.72 1.47 1.35L5.41 20z\"/>\n",
              "  </svg>\n",
              "      </button>\n",
              "      \n",
              "  <style>\n",
              "    .colab-df-container {\n",
              "      display:flex;\n",
              "      flex-wrap:wrap;\n",
              "      gap: 12px;\n",
              "    }\n",
              "\n",
              "    .colab-df-convert {\n",
              "      background-color: #E8F0FE;\n",
              "      border: none;\n",
              "      border-radius: 50%;\n",
              "      cursor: pointer;\n",
              "      display: none;\n",
              "      fill: #1967D2;\n",
              "      height: 32px;\n",
              "      padding: 0 0 0 0;\n",
              "      width: 32px;\n",
              "    }\n",
              "\n",
              "    .colab-df-convert:hover {\n",
              "      background-color: #E2EBFA;\n",
              "      box-shadow: 0px 1px 2px rgba(60, 64, 67, 0.3), 0px 1px 3px 1px rgba(60, 64, 67, 0.15);\n",
              "      fill: #174EA6;\n",
              "    }\n",
              "\n",
              "    [theme=dark] .colab-df-convert {\n",
              "      background-color: #3B4455;\n",
              "      fill: #D2E3FC;\n",
              "    }\n",
              "\n",
              "    [theme=dark] .colab-df-convert:hover {\n",
              "      background-color: #434B5C;\n",
              "      box-shadow: 0px 1px 3px 1px rgba(0, 0, 0, 0.15);\n",
              "      filter: drop-shadow(0px 1px 2px rgba(0, 0, 0, 0.3));\n",
              "      fill: #FFFFFF;\n",
              "    }\n",
              "  </style>\n",
              "\n",
              "      <script>\n",
              "        const buttonEl =\n",
              "          document.querySelector('#df-81f3852d-b3a6-474a-857f-531f242f5b2f button.colab-df-convert');\n",
              "        buttonEl.style.display =\n",
              "          google.colab.kernel.accessAllowed ? 'block' : 'none';\n",
              "\n",
              "        async function convertToInteractive(key) {\n",
              "          const element = document.querySelector('#df-81f3852d-b3a6-474a-857f-531f242f5b2f');\n",
              "          const dataTable =\n",
              "            await google.colab.kernel.invokeFunction('convertToInteractive',\n",
              "                                                     [key], {});\n",
              "          if (!dataTable) return;\n",
              "\n",
              "          const docLinkHtml = 'Like what you see? Visit the ' +\n",
              "            '<a target=\"_blank\" href=https://colab.research.google.com/notebooks/data_table.ipynb>data table notebook</a>'\n",
              "            + ' to learn more about interactive tables.';\n",
              "          element.innerHTML = '';\n",
              "          dataTable['output_type'] = 'display_data';\n",
              "          await google.colab.output.renderOutput(dataTable, element);\n",
              "          const docLink = document.createElement('div');\n",
              "          docLink.innerHTML = docLinkHtml;\n",
              "          element.appendChild(docLink);\n",
              "        }\n",
              "      </script>\n",
              "    </div>\n",
              "  </div>\n",
              "  "
            ],
            "text/plain": [
              "            x_mean     x_std  x_max  y_min    x_mean     x_std  x_max  y_min  \\\n",
              "part_idx                                                                       \n",
              "1->0      0.800141  0.022135   0.85  -9.18  0.800141  0.022135   0.85  -9.18   \n",
              "1->1      0.810000  0.016903   0.83  -9.14  0.810000  0.016903   0.83  -9.14   \n",
              "10->0     1.850496  0.586150   3.43  -9.38  1.850496  0.586150   3.43  -9.38   \n",
              "10->1     2.299412  0.168355   2.52  -7.75  2.299412  0.168355   2.52  -7.75   \n",
              "100->0    0.250972  0.098798   0.43   8.62  0.250972  0.098798   0.43   8.62   \n",
              "\n",
              "            x_mean     x_std  x_max  y_min  x_min    y_mean     y_std  y_max  \\\n",
              "part_idx                                                                       \n",
              "1->0      0.800141  0.022135   0.85  -9.18   0.75 -9.127324  0.018513  -9.08   \n",
              "1->1      0.810000  0.016903   0.83  -9.14   0.77 -9.118000  0.016125  -9.09   \n",
              "10->0     1.850496  0.586150   3.43  -9.38   0.37 -8.079362  0.534036  -7.10   \n",
              "10->1     2.299412  0.168355   2.52  -7.75   1.97 -7.336471  0.243258  -6.87   \n",
              "100->0    0.250972  0.098798   0.43   8.62   0.03  8.907778  0.122051   9.23   \n",
              "\n",
              "            z_mean     z_std  z_max  z_min target  \n",
              "part_idx                                           \n",
              "1->0     -3.747606  0.028709  -3.67  -3.81    bus  \n",
              "1->1     -3.747333  0.021202  -3.70  -3.78    bus  \n",
              "10->0    -5.522057  0.646008  -3.44  -6.40    bus  \n",
              "10->1    -6.140000  0.296036  -5.72  -6.64    bus  \n",
              "100->0    4.246111  0.145550   4.55   3.73    car  "
            ]
          },
          "metadata": {},
          "execution_count": 345
        }
      ]
    },
    {
      "cell_type": "code",
      "source": [
        "df5 = df5.reset_index()"
      ],
      "metadata": {
        "id": "TW7_3r-vntjZ"
      },
      "execution_count": 346,
      "outputs": []
    },
    {
      "cell_type": "code",
      "source": [
        "df5.head()"
      ],
      "metadata": {
        "colab": {
          "base_uri": "https://localhost:8080/",
          "height": 206
        },
        "id": "2pyokfUwnw8N",
        "outputId": "05d406e4-7ab5-4b43-d73c-ffa4d8557c63"
      },
      "execution_count": 347,
      "outputs": [
        {
          "output_type": "execute_result",
          "data": {
            "text/html": [
              "\n",
              "  <div id=\"df-a073b334-330e-47d5-a289-86347350d4e6\">\n",
              "    <div class=\"colab-df-container\">\n",
              "      <div>\n",
              "<style scoped>\n",
              "    .dataframe tbody tr th:only-of-type {\n",
              "        vertical-align: middle;\n",
              "    }\n",
              "\n",
              "    .dataframe tbody tr th {\n",
              "        vertical-align: top;\n",
              "    }\n",
              "\n",
              "    .dataframe thead th {\n",
              "        text-align: right;\n",
              "    }\n",
              "</style>\n",
              "<table border=\"1\" class=\"dataframe\">\n",
              "  <thead>\n",
              "    <tr style=\"text-align: right;\">\n",
              "      <th></th>\n",
              "      <th>part_idx</th>\n",
              "      <th>x_mean</th>\n",
              "      <th>x_std</th>\n",
              "      <th>x_max</th>\n",
              "      <th>y_min</th>\n",
              "      <th>x_mean</th>\n",
              "      <th>x_std</th>\n",
              "      <th>x_max</th>\n",
              "      <th>y_min</th>\n",
              "      <th>x_mean</th>\n",
              "      <th>x_std</th>\n",
              "      <th>x_max</th>\n",
              "      <th>y_min</th>\n",
              "      <th>x_min</th>\n",
              "      <th>y_mean</th>\n",
              "      <th>y_std</th>\n",
              "      <th>y_max</th>\n",
              "      <th>z_mean</th>\n",
              "      <th>z_std</th>\n",
              "      <th>z_max</th>\n",
              "      <th>z_min</th>\n",
              "      <th>target</th>\n",
              "    </tr>\n",
              "  </thead>\n",
              "  <tbody>\n",
              "    <tr>\n",
              "      <th>0</th>\n",
              "      <td>1-&gt;0</td>\n",
              "      <td>0.800141</td>\n",
              "      <td>0.022135</td>\n",
              "      <td>0.85</td>\n",
              "      <td>-9.18</td>\n",
              "      <td>0.800141</td>\n",
              "      <td>0.022135</td>\n",
              "      <td>0.85</td>\n",
              "      <td>-9.18</td>\n",
              "      <td>0.800141</td>\n",
              "      <td>0.022135</td>\n",
              "      <td>0.85</td>\n",
              "      <td>-9.18</td>\n",
              "      <td>0.75</td>\n",
              "      <td>-9.127324</td>\n",
              "      <td>0.018513</td>\n",
              "      <td>-9.08</td>\n",
              "      <td>-3.747606</td>\n",
              "      <td>0.028709</td>\n",
              "      <td>-3.67</td>\n",
              "      <td>-3.81</td>\n",
              "      <td>bus</td>\n",
              "    </tr>\n",
              "    <tr>\n",
              "      <th>1</th>\n",
              "      <td>1-&gt;1</td>\n",
              "      <td>0.810000</td>\n",
              "      <td>0.016903</td>\n",
              "      <td>0.83</td>\n",
              "      <td>-9.14</td>\n",
              "      <td>0.810000</td>\n",
              "      <td>0.016903</td>\n",
              "      <td>0.83</td>\n",
              "      <td>-9.14</td>\n",
              "      <td>0.810000</td>\n",
              "      <td>0.016903</td>\n",
              "      <td>0.83</td>\n",
              "      <td>-9.14</td>\n",
              "      <td>0.77</td>\n",
              "      <td>-9.118000</td>\n",
              "      <td>0.016125</td>\n",
              "      <td>-9.09</td>\n",
              "      <td>-3.747333</td>\n",
              "      <td>0.021202</td>\n",
              "      <td>-3.70</td>\n",
              "      <td>-3.78</td>\n",
              "      <td>bus</td>\n",
              "    </tr>\n",
              "    <tr>\n",
              "      <th>2</th>\n",
              "      <td>10-&gt;0</td>\n",
              "      <td>1.850496</td>\n",
              "      <td>0.586150</td>\n",
              "      <td>3.43</td>\n",
              "      <td>-9.38</td>\n",
              "      <td>1.850496</td>\n",
              "      <td>0.586150</td>\n",
              "      <td>3.43</td>\n",
              "      <td>-9.38</td>\n",
              "      <td>1.850496</td>\n",
              "      <td>0.586150</td>\n",
              "      <td>3.43</td>\n",
              "      <td>-9.38</td>\n",
              "      <td>0.37</td>\n",
              "      <td>-8.079362</td>\n",
              "      <td>0.534036</td>\n",
              "      <td>-7.10</td>\n",
              "      <td>-5.522057</td>\n",
              "      <td>0.646008</td>\n",
              "      <td>-3.44</td>\n",
              "      <td>-6.40</td>\n",
              "      <td>bus</td>\n",
              "    </tr>\n",
              "    <tr>\n",
              "      <th>3</th>\n",
              "      <td>10-&gt;1</td>\n",
              "      <td>2.299412</td>\n",
              "      <td>0.168355</td>\n",
              "      <td>2.52</td>\n",
              "      <td>-7.75</td>\n",
              "      <td>2.299412</td>\n",
              "      <td>0.168355</td>\n",
              "      <td>2.52</td>\n",
              "      <td>-7.75</td>\n",
              "      <td>2.299412</td>\n",
              "      <td>0.168355</td>\n",
              "      <td>2.52</td>\n",
              "      <td>-7.75</td>\n",
              "      <td>1.97</td>\n",
              "      <td>-7.336471</td>\n",
              "      <td>0.243258</td>\n",
              "      <td>-6.87</td>\n",
              "      <td>-6.140000</td>\n",
              "      <td>0.296036</td>\n",
              "      <td>-5.72</td>\n",
              "      <td>-6.64</td>\n",
              "      <td>bus</td>\n",
              "    </tr>\n",
              "    <tr>\n",
              "      <th>4</th>\n",
              "      <td>100-&gt;0</td>\n",
              "      <td>0.250972</td>\n",
              "      <td>0.098798</td>\n",
              "      <td>0.43</td>\n",
              "      <td>8.62</td>\n",
              "      <td>0.250972</td>\n",
              "      <td>0.098798</td>\n",
              "      <td>0.43</td>\n",
              "      <td>8.62</td>\n",
              "      <td>0.250972</td>\n",
              "      <td>0.098798</td>\n",
              "      <td>0.43</td>\n",
              "      <td>8.62</td>\n",
              "      <td>0.03</td>\n",
              "      <td>8.907778</td>\n",
              "      <td>0.122051</td>\n",
              "      <td>9.23</td>\n",
              "      <td>4.246111</td>\n",
              "      <td>0.145550</td>\n",
              "      <td>4.55</td>\n",
              "      <td>3.73</td>\n",
              "      <td>car</td>\n",
              "    </tr>\n",
              "  </tbody>\n",
              "</table>\n",
              "</div>\n",
              "      <button class=\"colab-df-convert\" onclick=\"convertToInteractive('df-a073b334-330e-47d5-a289-86347350d4e6')\"\n",
              "              title=\"Convert this dataframe to an interactive table.\"\n",
              "              style=\"display:none;\">\n",
              "        \n",
              "  <svg xmlns=\"http://www.w3.org/2000/svg\" height=\"24px\"viewBox=\"0 0 24 24\"\n",
              "       width=\"24px\">\n",
              "    <path d=\"M0 0h24v24H0V0z\" fill=\"none\"/>\n",
              "    <path d=\"M18.56 5.44l.94 2.06.94-2.06 2.06-.94-2.06-.94-.94-2.06-.94 2.06-2.06.94zm-11 1L8.5 8.5l.94-2.06 2.06-.94-2.06-.94L8.5 2.5l-.94 2.06-2.06.94zm10 10l.94 2.06.94-2.06 2.06-.94-2.06-.94-.94-2.06-.94 2.06-2.06.94z\"/><path d=\"M17.41 7.96l-1.37-1.37c-.4-.4-.92-.59-1.43-.59-.52 0-1.04.2-1.43.59L10.3 9.45l-7.72 7.72c-.78.78-.78 2.05 0 2.83L4 21.41c.39.39.9.59 1.41.59.51 0 1.02-.2 1.41-.59l7.78-7.78 2.81-2.81c.8-.78.8-2.07 0-2.86zM5.41 20L4 18.59l7.72-7.72 1.47 1.35L5.41 20z\"/>\n",
              "  </svg>\n",
              "      </button>\n",
              "      \n",
              "  <style>\n",
              "    .colab-df-container {\n",
              "      display:flex;\n",
              "      flex-wrap:wrap;\n",
              "      gap: 12px;\n",
              "    }\n",
              "\n",
              "    .colab-df-convert {\n",
              "      background-color: #E8F0FE;\n",
              "      border: none;\n",
              "      border-radius: 50%;\n",
              "      cursor: pointer;\n",
              "      display: none;\n",
              "      fill: #1967D2;\n",
              "      height: 32px;\n",
              "      padding: 0 0 0 0;\n",
              "      width: 32px;\n",
              "    }\n",
              "\n",
              "    .colab-df-convert:hover {\n",
              "      background-color: #E2EBFA;\n",
              "      box-shadow: 0px 1px 2px rgba(60, 64, 67, 0.3), 0px 1px 3px 1px rgba(60, 64, 67, 0.15);\n",
              "      fill: #174EA6;\n",
              "    }\n",
              "\n",
              "    [theme=dark] .colab-df-convert {\n",
              "      background-color: #3B4455;\n",
              "      fill: #D2E3FC;\n",
              "    }\n",
              "\n",
              "    [theme=dark] .colab-df-convert:hover {\n",
              "      background-color: #434B5C;\n",
              "      box-shadow: 0px 1px 3px 1px rgba(0, 0, 0, 0.15);\n",
              "      filter: drop-shadow(0px 1px 2px rgba(0, 0, 0, 0.3));\n",
              "      fill: #FFFFFF;\n",
              "    }\n",
              "  </style>\n",
              "\n",
              "      <script>\n",
              "        const buttonEl =\n",
              "          document.querySelector('#df-a073b334-330e-47d5-a289-86347350d4e6 button.colab-df-convert');\n",
              "        buttonEl.style.display =\n",
              "          google.colab.kernel.accessAllowed ? 'block' : 'none';\n",
              "\n",
              "        async function convertToInteractive(key) {\n",
              "          const element = document.querySelector('#df-a073b334-330e-47d5-a289-86347350d4e6');\n",
              "          const dataTable =\n",
              "            await google.colab.kernel.invokeFunction('convertToInteractive',\n",
              "                                                     [key], {});\n",
              "          if (!dataTable) return;\n",
              "\n",
              "          const docLinkHtml = 'Like what you see? Visit the ' +\n",
              "            '<a target=\"_blank\" href=https://colab.research.google.com/notebooks/data_table.ipynb>data table notebook</a>'\n",
              "            + ' to learn more about interactive tables.';\n",
              "          element.innerHTML = '';\n",
              "          dataTable['output_type'] = 'display_data';\n",
              "          await google.colab.output.renderOutput(dataTable, element);\n",
              "          const docLink = document.createElement('div');\n",
              "          docLink.innerHTML = docLinkHtml;\n",
              "          element.appendChild(docLink);\n",
              "        }\n",
              "      </script>\n",
              "    </div>\n",
              "  </div>\n",
              "  "
            ],
            "text/plain": [
              "  part_idx    x_mean     x_std  x_max  y_min    x_mean     x_std  x_max  \\\n",
              "0     1->0  0.800141  0.022135   0.85  -9.18  0.800141  0.022135   0.85   \n",
              "1     1->1  0.810000  0.016903   0.83  -9.14  0.810000  0.016903   0.83   \n",
              "2    10->0  1.850496  0.586150   3.43  -9.38  1.850496  0.586150   3.43   \n",
              "3    10->1  2.299412  0.168355   2.52  -7.75  2.299412  0.168355   2.52   \n",
              "4   100->0  0.250972  0.098798   0.43   8.62  0.250972  0.098798   0.43   \n",
              "\n",
              "   y_min    x_mean     x_std  x_max  y_min  x_min    y_mean     y_std  y_max  \\\n",
              "0  -9.18  0.800141  0.022135   0.85  -9.18   0.75 -9.127324  0.018513  -9.08   \n",
              "1  -9.14  0.810000  0.016903   0.83  -9.14   0.77 -9.118000  0.016125  -9.09   \n",
              "2  -9.38  1.850496  0.586150   3.43  -9.38   0.37 -8.079362  0.534036  -7.10   \n",
              "3  -7.75  2.299412  0.168355   2.52  -7.75   1.97 -7.336471  0.243258  -6.87   \n",
              "4   8.62  0.250972  0.098798   0.43   8.62   0.03  8.907778  0.122051   9.23   \n",
              "\n",
              "     z_mean     z_std  z_max  z_min target  \n",
              "0 -3.747606  0.028709  -3.67  -3.81    bus  \n",
              "1 -3.747333  0.021202  -3.70  -3.78    bus  \n",
              "2 -5.522057  0.646008  -3.44  -6.40    bus  \n",
              "3 -6.140000  0.296036  -5.72  -6.64    bus  \n",
              "4  4.246111  0.145550   4.55   3.73    car  "
            ]
          },
          "metadata": {},
          "execution_count": 347
        }
      ]
    },
    {
      "cell_type": "code",
      "source": [
        "df5 = df5.drop(['part_idx'],axis = 1)"
      ],
      "metadata": {
        "id": "0bw1snVBnkVo"
      },
      "execution_count": 348,
      "outputs": []
    },
    {
      "cell_type": "code",
      "source": [
        "df5.head()"
      ],
      "metadata": {
        "colab": {
          "base_uri": "https://localhost:8080/",
          "height": 206
        },
        "id": "aWHHoLPfn9cK",
        "outputId": "6b95325b-217b-4dca-8670-3349f0bf82ba"
      },
      "execution_count": 349,
      "outputs": [
        {
          "output_type": "execute_result",
          "data": {
            "text/html": [
              "\n",
              "  <div id=\"df-b47c6b26-5789-4079-8394-fdc246e1fa30\">\n",
              "    <div class=\"colab-df-container\">\n",
              "      <div>\n",
              "<style scoped>\n",
              "    .dataframe tbody tr th:only-of-type {\n",
              "        vertical-align: middle;\n",
              "    }\n",
              "\n",
              "    .dataframe tbody tr th {\n",
              "        vertical-align: top;\n",
              "    }\n",
              "\n",
              "    .dataframe thead th {\n",
              "        text-align: right;\n",
              "    }\n",
              "</style>\n",
              "<table border=\"1\" class=\"dataframe\">\n",
              "  <thead>\n",
              "    <tr style=\"text-align: right;\">\n",
              "      <th></th>\n",
              "      <th>x_mean</th>\n",
              "      <th>x_std</th>\n",
              "      <th>x_max</th>\n",
              "      <th>y_min</th>\n",
              "      <th>x_mean</th>\n",
              "      <th>x_std</th>\n",
              "      <th>x_max</th>\n",
              "      <th>y_min</th>\n",
              "      <th>x_mean</th>\n",
              "      <th>x_std</th>\n",
              "      <th>x_max</th>\n",
              "      <th>y_min</th>\n",
              "      <th>x_min</th>\n",
              "      <th>y_mean</th>\n",
              "      <th>y_std</th>\n",
              "      <th>y_max</th>\n",
              "      <th>z_mean</th>\n",
              "      <th>z_std</th>\n",
              "      <th>z_max</th>\n",
              "      <th>z_min</th>\n",
              "      <th>target</th>\n",
              "    </tr>\n",
              "  </thead>\n",
              "  <tbody>\n",
              "    <tr>\n",
              "      <th>0</th>\n",
              "      <td>0.800141</td>\n",
              "      <td>0.022135</td>\n",
              "      <td>0.85</td>\n",
              "      <td>-9.18</td>\n",
              "      <td>0.800141</td>\n",
              "      <td>0.022135</td>\n",
              "      <td>0.85</td>\n",
              "      <td>-9.18</td>\n",
              "      <td>0.800141</td>\n",
              "      <td>0.022135</td>\n",
              "      <td>0.85</td>\n",
              "      <td>-9.18</td>\n",
              "      <td>0.75</td>\n",
              "      <td>-9.127324</td>\n",
              "      <td>0.018513</td>\n",
              "      <td>-9.08</td>\n",
              "      <td>-3.747606</td>\n",
              "      <td>0.028709</td>\n",
              "      <td>-3.67</td>\n",
              "      <td>-3.81</td>\n",
              "      <td>bus</td>\n",
              "    </tr>\n",
              "    <tr>\n",
              "      <th>1</th>\n",
              "      <td>0.810000</td>\n",
              "      <td>0.016903</td>\n",
              "      <td>0.83</td>\n",
              "      <td>-9.14</td>\n",
              "      <td>0.810000</td>\n",
              "      <td>0.016903</td>\n",
              "      <td>0.83</td>\n",
              "      <td>-9.14</td>\n",
              "      <td>0.810000</td>\n",
              "      <td>0.016903</td>\n",
              "      <td>0.83</td>\n",
              "      <td>-9.14</td>\n",
              "      <td>0.77</td>\n",
              "      <td>-9.118000</td>\n",
              "      <td>0.016125</td>\n",
              "      <td>-9.09</td>\n",
              "      <td>-3.747333</td>\n",
              "      <td>0.021202</td>\n",
              "      <td>-3.70</td>\n",
              "      <td>-3.78</td>\n",
              "      <td>bus</td>\n",
              "    </tr>\n",
              "    <tr>\n",
              "      <th>2</th>\n",
              "      <td>1.850496</td>\n",
              "      <td>0.586150</td>\n",
              "      <td>3.43</td>\n",
              "      <td>-9.38</td>\n",
              "      <td>1.850496</td>\n",
              "      <td>0.586150</td>\n",
              "      <td>3.43</td>\n",
              "      <td>-9.38</td>\n",
              "      <td>1.850496</td>\n",
              "      <td>0.586150</td>\n",
              "      <td>3.43</td>\n",
              "      <td>-9.38</td>\n",
              "      <td>0.37</td>\n",
              "      <td>-8.079362</td>\n",
              "      <td>0.534036</td>\n",
              "      <td>-7.10</td>\n",
              "      <td>-5.522057</td>\n",
              "      <td>0.646008</td>\n",
              "      <td>-3.44</td>\n",
              "      <td>-6.40</td>\n",
              "      <td>bus</td>\n",
              "    </tr>\n",
              "    <tr>\n",
              "      <th>3</th>\n",
              "      <td>2.299412</td>\n",
              "      <td>0.168355</td>\n",
              "      <td>2.52</td>\n",
              "      <td>-7.75</td>\n",
              "      <td>2.299412</td>\n",
              "      <td>0.168355</td>\n",
              "      <td>2.52</td>\n",
              "      <td>-7.75</td>\n",
              "      <td>2.299412</td>\n",
              "      <td>0.168355</td>\n",
              "      <td>2.52</td>\n",
              "      <td>-7.75</td>\n",
              "      <td>1.97</td>\n",
              "      <td>-7.336471</td>\n",
              "      <td>0.243258</td>\n",
              "      <td>-6.87</td>\n",
              "      <td>-6.140000</td>\n",
              "      <td>0.296036</td>\n",
              "      <td>-5.72</td>\n",
              "      <td>-6.64</td>\n",
              "      <td>bus</td>\n",
              "    </tr>\n",
              "    <tr>\n",
              "      <th>4</th>\n",
              "      <td>0.250972</td>\n",
              "      <td>0.098798</td>\n",
              "      <td>0.43</td>\n",
              "      <td>8.62</td>\n",
              "      <td>0.250972</td>\n",
              "      <td>0.098798</td>\n",
              "      <td>0.43</td>\n",
              "      <td>8.62</td>\n",
              "      <td>0.250972</td>\n",
              "      <td>0.098798</td>\n",
              "      <td>0.43</td>\n",
              "      <td>8.62</td>\n",
              "      <td>0.03</td>\n",
              "      <td>8.907778</td>\n",
              "      <td>0.122051</td>\n",
              "      <td>9.23</td>\n",
              "      <td>4.246111</td>\n",
              "      <td>0.145550</td>\n",
              "      <td>4.55</td>\n",
              "      <td>3.73</td>\n",
              "      <td>car</td>\n",
              "    </tr>\n",
              "  </tbody>\n",
              "</table>\n",
              "</div>\n",
              "      <button class=\"colab-df-convert\" onclick=\"convertToInteractive('df-b47c6b26-5789-4079-8394-fdc246e1fa30')\"\n",
              "              title=\"Convert this dataframe to an interactive table.\"\n",
              "              style=\"display:none;\">\n",
              "        \n",
              "  <svg xmlns=\"http://www.w3.org/2000/svg\" height=\"24px\"viewBox=\"0 0 24 24\"\n",
              "       width=\"24px\">\n",
              "    <path d=\"M0 0h24v24H0V0z\" fill=\"none\"/>\n",
              "    <path d=\"M18.56 5.44l.94 2.06.94-2.06 2.06-.94-2.06-.94-.94-2.06-.94 2.06-2.06.94zm-11 1L8.5 8.5l.94-2.06 2.06-.94-2.06-.94L8.5 2.5l-.94 2.06-2.06.94zm10 10l.94 2.06.94-2.06 2.06-.94-2.06-.94-.94-2.06-.94 2.06-2.06.94z\"/><path d=\"M17.41 7.96l-1.37-1.37c-.4-.4-.92-.59-1.43-.59-.52 0-1.04.2-1.43.59L10.3 9.45l-7.72 7.72c-.78.78-.78 2.05 0 2.83L4 21.41c.39.39.9.59 1.41.59.51 0 1.02-.2 1.41-.59l7.78-7.78 2.81-2.81c.8-.78.8-2.07 0-2.86zM5.41 20L4 18.59l7.72-7.72 1.47 1.35L5.41 20z\"/>\n",
              "  </svg>\n",
              "      </button>\n",
              "      \n",
              "  <style>\n",
              "    .colab-df-container {\n",
              "      display:flex;\n",
              "      flex-wrap:wrap;\n",
              "      gap: 12px;\n",
              "    }\n",
              "\n",
              "    .colab-df-convert {\n",
              "      background-color: #E8F0FE;\n",
              "      border: none;\n",
              "      border-radius: 50%;\n",
              "      cursor: pointer;\n",
              "      display: none;\n",
              "      fill: #1967D2;\n",
              "      height: 32px;\n",
              "      padding: 0 0 0 0;\n",
              "      width: 32px;\n",
              "    }\n",
              "\n",
              "    .colab-df-convert:hover {\n",
              "      background-color: #E2EBFA;\n",
              "      box-shadow: 0px 1px 2px rgba(60, 64, 67, 0.3), 0px 1px 3px 1px rgba(60, 64, 67, 0.15);\n",
              "      fill: #174EA6;\n",
              "    }\n",
              "\n",
              "    [theme=dark] .colab-df-convert {\n",
              "      background-color: #3B4455;\n",
              "      fill: #D2E3FC;\n",
              "    }\n",
              "\n",
              "    [theme=dark] .colab-df-convert:hover {\n",
              "      background-color: #434B5C;\n",
              "      box-shadow: 0px 1px 3px 1px rgba(0, 0, 0, 0.15);\n",
              "      filter: drop-shadow(0px 1px 2px rgba(0, 0, 0, 0.3));\n",
              "      fill: #FFFFFF;\n",
              "    }\n",
              "  </style>\n",
              "\n",
              "      <script>\n",
              "        const buttonEl =\n",
              "          document.querySelector('#df-b47c6b26-5789-4079-8394-fdc246e1fa30 button.colab-df-convert');\n",
              "        buttonEl.style.display =\n",
              "          google.colab.kernel.accessAllowed ? 'block' : 'none';\n",
              "\n",
              "        async function convertToInteractive(key) {\n",
              "          const element = document.querySelector('#df-b47c6b26-5789-4079-8394-fdc246e1fa30');\n",
              "          const dataTable =\n",
              "            await google.colab.kernel.invokeFunction('convertToInteractive',\n",
              "                                                     [key], {});\n",
              "          if (!dataTable) return;\n",
              "\n",
              "          const docLinkHtml = 'Like what you see? Visit the ' +\n",
              "            '<a target=\"_blank\" href=https://colab.research.google.com/notebooks/data_table.ipynb>data table notebook</a>'\n",
              "            + ' to learn more about interactive tables.';\n",
              "          element.innerHTML = '';\n",
              "          dataTable['output_type'] = 'display_data';\n",
              "          await google.colab.output.renderOutput(dataTable, element);\n",
              "          const docLink = document.createElement('div');\n",
              "          docLink.innerHTML = docLinkHtml;\n",
              "          element.appendChild(docLink);\n",
              "        }\n",
              "      </script>\n",
              "    </div>\n",
              "  </div>\n",
              "  "
            ],
            "text/plain": [
              "     x_mean     x_std  x_max  y_min    x_mean     x_std  x_max  y_min  \\\n",
              "0  0.800141  0.022135   0.85  -9.18  0.800141  0.022135   0.85  -9.18   \n",
              "1  0.810000  0.016903   0.83  -9.14  0.810000  0.016903   0.83  -9.14   \n",
              "2  1.850496  0.586150   3.43  -9.38  1.850496  0.586150   3.43  -9.38   \n",
              "3  2.299412  0.168355   2.52  -7.75  2.299412  0.168355   2.52  -7.75   \n",
              "4  0.250972  0.098798   0.43   8.62  0.250972  0.098798   0.43   8.62   \n",
              "\n",
              "     x_mean     x_std  x_max  y_min  x_min    y_mean     y_std  y_max  \\\n",
              "0  0.800141  0.022135   0.85  -9.18   0.75 -9.127324  0.018513  -9.08   \n",
              "1  0.810000  0.016903   0.83  -9.14   0.77 -9.118000  0.016125  -9.09   \n",
              "2  1.850496  0.586150   3.43  -9.38   0.37 -8.079362  0.534036  -7.10   \n",
              "3  2.299412  0.168355   2.52  -7.75   1.97 -7.336471  0.243258  -6.87   \n",
              "4  0.250972  0.098798   0.43   8.62   0.03  8.907778  0.122051   9.23   \n",
              "\n",
              "     z_mean     z_std  z_max  z_min target  \n",
              "0 -3.747606  0.028709  -3.67  -3.81    bus  \n",
              "1 -3.747333  0.021202  -3.70  -3.78    bus  \n",
              "2 -5.522057  0.646008  -3.44  -6.40    bus  \n",
              "3 -6.140000  0.296036  -5.72  -6.64    bus  \n",
              "4  4.246111  0.145550   4.55   3.73    car  "
            ]
          },
          "metadata": {},
          "execution_count": 349
        }
      ]
    },
    {
      "cell_type": "code",
      "source": [
        "df5 = df5.dropna()"
      ],
      "metadata": {
        "id": "Qg-2TYJvoNZY"
      },
      "execution_count": 350,
      "outputs": []
    },
    {
      "cell_type": "code",
      "source": [
        "df5.info()"
      ],
      "metadata": {
        "colab": {
          "base_uri": "https://localhost:8080/"
        },
        "id": "xa6ZOfavoAqK",
        "outputId": "be3580a0-a635-4dc9-9558-0f534d0016b4"
      },
      "execution_count": 351,
      "outputs": [
        {
          "output_type": "stream",
          "name": "stdout",
          "text": [
            "<class 'pandas.core.frame.DataFrame'>\n",
            "Int64Index: 40413 entries, 0 to 40592\n",
            "Data columns (total 21 columns):\n",
            " #   Column  Non-Null Count  Dtype  \n",
            "---  ------  --------------  -----  \n",
            " 0   x_mean  40413 non-null  float64\n",
            " 1   x_std   40413 non-null  float64\n",
            " 2   x_max   40413 non-null  float64\n",
            " 3   y_min   40413 non-null  float64\n",
            " 4   x_mean  40413 non-null  float64\n",
            " 5   x_std   40413 non-null  float64\n",
            " 6   x_max   40413 non-null  float64\n",
            " 7   y_min   40413 non-null  float64\n",
            " 8   x_mean  40413 non-null  float64\n",
            " 9   x_std   40413 non-null  float64\n",
            " 10  x_max   40413 non-null  float64\n",
            " 11  y_min   40413 non-null  float64\n",
            " 12  x_min   40413 non-null  float64\n",
            " 13  y_mean  40413 non-null  float64\n",
            " 14  y_std   40413 non-null  float64\n",
            " 15  y_max   40413 non-null  float64\n",
            " 16  z_mean  40413 non-null  float64\n",
            " 17  z_std   40413 non-null  float64\n",
            " 18  z_max   40413 non-null  float64\n",
            " 19  z_min   40413 non-null  float64\n",
            " 20  target  40413 non-null  object \n",
            "dtypes: float64(20), object(1)\n",
            "memory usage: 6.8+ MB\n"
          ]
        }
      ]
    },
    {
      "cell_type": "code",
      "source": [
        "from imblearn.under_sampling import NearMiss\n",
        "data = df5.values\n",
        "X, y = data[:, :-1], data[:, -1]\n",
        "y = LabelEncoder().fit_transform(y)\n",
        "undersample = NearMiss()\n",
        "X, y = undersample.fit_resample(X, y)\n",
        "counter = Counter(y)\n",
        "for k,v in counter.items():\n",
        "\tper = v / len(y) * 100\n",
        "\tprint('Class=%d, n=%d (%.3f%%)' % (k, v, per))\n",
        "pyplot.bar(counter.keys(), counter.values())\n",
        "pyplot.show()"
      ],
      "metadata": {
        "colab": {
          "base_uri": "https://localhost:8080/",
          "height": 369
        },
        "id": "yGHToVnitbGq",
        "outputId": "fc221610-c7db-49b7-e178-73d061624cd7"
      },
      "execution_count": 352,
      "outputs": [
        {
          "output_type": "stream",
          "name": "stdout",
          "text": [
            "Class=0, n=79 (16.667%)\n",
            "Class=1, n=79 (16.667%)\n",
            "Class=2, n=79 (16.667%)\n",
            "Class=3, n=79 (16.667%)\n",
            "Class=4, n=79 (16.667%)\n",
            "Class=5, n=79 (16.667%)\n"
          ]
        },
        {
          "output_type": "display_data",
          "data": {
            "image/png": "[encoded data removed]",
            "text/plain": [
              "<Figure size 432x288 with 1 Axes>"
            ]
          },
          "metadata": {
            "needs_background": "light"
          }
        }
      ]
    },
    {
      "cell_type": "code",
      "source": [
        "len(y)"
      ],
      "metadata": {
        "id": "Vb-br_M-tbIk",
        "colab": {
          "base_uri": "https://localhost:8080/"
        },
        "outputId": "3d397339-f80c-4d0c-bce7-5fcaa492c008"
      },
      "execution_count": 353,
      "outputs": [
        {
          "output_type": "execute_result",
          "data": {
            "text/plain": [
              "474"
            ]
          },
          "metadata": {},
          "execution_count": 353
        }
      ]
    },
    {
      "cell_type": "code",
      "source": [
        "from sklearn.model_selection import train_test_split\n",
        "X_train, X_rem, y_train, y_rem = train_test_split(X,y, train_size=0.8)\n",
        "X_valid, X_test, y_valid, y_test = train_test_split(X_rem,y_rem, test_size=0.5)"
      ],
      "metadata": {
        "id": "LM8Q0Rv44n_P"
      },
      "execution_count": 354,
      "outputs": []
    },
    {
      "cell_type": "code",
      "source": [
        ""
      ],
      "metadata": {
        "id": "4AppNpqZ4oB3"
      },
      "execution_count": 354,
      "outputs": []
    },
    {
      "cell_type": "code",
      "source": [
        ""
      ],
      "metadata": {
        "id": "k3qx7vTw4oGV"
      },
      "execution_count": 354,
      "outputs": []
    },
    {
      "cell_type": "code",
      "source": [
        ""
      ],
      "metadata": {
        "id": "T3ZKPf7F4oPU"
      },
      "execution_count": 354,
      "outputs": []
    },
    {
      "cell_type": "code",
      "source": [
        "from sklearn.svm import SVC  \n",
        "model_svm = SVC(kernel='linear') \n",
        "\n",
        "model_svm.fit(X_train, y_train)"
      ],
      "metadata": {
        "id": "ejzTFuPRtbX0",
        "colab": {
          "base_uri": "https://localhost:8080/"
        },
        "outputId": "354a41c4-6057-4be6-928b-9a35f7f015e9"
      },
      "execution_count": 355,
      "outputs": [
        {
          "output_type": "execute_result",
          "data": {
            "text/plain": [
              "SVC(kernel='linear')"
            ]
          },
          "metadata": {},
          "execution_count": 355
        }
      ]
    },
    {
      "cell_type": "code",
      "source": [
        "model_svm.score(X_valid, y_valid)"
      ],
      "metadata": {
        "id": "uQsoHBRG3j9p",
        "colab": {
          "base_uri": "https://localhost:8080/"
        },
        "outputId": "57d88e24-dd74-49d1-d64f-a79dc22d451a"
      },
      "execution_count": 356,
      "outputs": [
        {
          "output_type": "execute_result",
          "data": {
            "text/plain": [
              "0.7872340425531915"
            ]
          },
          "metadata": {},
          "execution_count": 356
        }
      ]
    },
    {
      "cell_type": "code",
      "source": [
        "y_pred=model_svm.predict(X_test)"
      ],
      "metadata": {
        "id": "O0LMFDJB6WVG"
      },
      "execution_count": 357,
      "outputs": []
    },
    {
      "cell_type": "code",
      "source": [
        "from sklearn.metrics import f1_score\n",
        "f1_score(y_test, y_pred, average='macro')"
      ],
      "metadata": {
        "id": "0iAAdnp23kAv",
        "colab": {
          "base_uri": "https://localhost:8080/"
        },
        "outputId": "86b2f2d3-7ad4-4b67-ae8e-5b085b120b40"
      },
      "execution_count": 358,
      "outputs": [
        {
          "output_type": "execute_result",
          "data": {
            "text/plain": [
              "0.8426262626262626"
            ]
          },
          "metadata": {},
          "execution_count": 358
        }
      ]
    },
    {
      "cell_type": "code",
      "source": [
        "from sklearn.linear_model import LogisticRegression\n",
        "model_logi = LogisticRegression()\n",
        "model_logi.fit(X_train, y_train)"
      ],
      "metadata": {
        "id": "9sRndbzL3kEN",
        "colab": {
          "base_uri": "https://localhost:8080/"
        },
        "outputId": "02d194eb-b3ca-4eca-9fb8-1646ad72292b"
      },
      "execution_count": 359,
      "outputs": [
        {
          "output_type": "stream",
          "name": "stderr",
          "text": [
            "/usr/local/lib/python3.7/dist-packages/sklearn/linear_model/_logistic.py:818: ConvergenceWarning: lbfgs failed to converge (status=1):\n",
            "STOP: TOTAL NO. of ITERATIONS REACHED LIMIT.\n",
            "\n",
            "Increase the number of iterations (max_iter) or scale the data as shown in:\n",
            "    https://scikit-learn.org/stable/modules/preprocessing.html\n",
            "Please also refer to the documentation for alternative solver options:\n",
            "    https://scikit-learn.org/stable/modules/linear_model.html#logistic-regression\n",
            "  extra_warning_msg=_LOGISTIC_SOLVER_CONVERGENCE_MSG,\n"
          ]
        },
        {
          "output_type": "execute_result",
          "data": {
            "text/plain": [
              "LogisticRegression()"
            ]
          },
          "metadata": {},
          "execution_count": 359
        }
      ]
    },
    {
      "cell_type": "code",
      "source": [
        "y_pred_logi = model_logi.predict(X_test)"
      ],
      "metadata": {
        "id": "26MOHiSB3kHH"
      },
      "execution_count": 360,
      "outputs": []
    },
    {
      "cell_type": "code",
      "source": [
        "f1_score(y_test, y_pred_logi, average='macro')"
      ],
      "metadata": {
        "id": "im_AAXbB3kfW",
        "colab": {
          "base_uri": "https://localhost:8080/"
        },
        "outputId": "aa467f55-14a9-476a-d63e-14f32f15efe4"
      },
      "execution_count": 361,
      "outputs": [
        {
          "output_type": "execute_result",
          "data": {
            "text/plain": [
              "0.8838961038961037"
            ]
          },
          "metadata": {},
          "execution_count": 361
        }
      ]
    },
    {
      "cell_type": "code",
      "source": [
        "#imported necessary packages for model\n",
        "import tensorflow as tf\n",
        "import numpy as np\n",
        "from tensorflow.keras.models import Sequential\n",
        "from tensorflow.keras import layers\n",
        "from tensorflow.keras.layers import Activation\n",
        "import matplotlib.pyplot as plt"
      ],
      "metadata": {
        "id": "1ZSx81403kiw"
      },
      "execution_count": 362,
      "outputs": []
    },
    {
      "cell_type": "code",
      "source": [
        "input_shape = [X_train.shape[1]]\n",
        "#sequential MLP model \n",
        "model = tf.keras.Sequential([\n",
        "    layers.BatchNormalization(input_shape=input_shape),\n",
        "    layers.Dense(12, activation='relu'),\n",
        "    layers.Dropout(0.05),\n",
        "    layers.BatchNormalization(),\n",
        "    layers.Dense(9, activation='relu'),\n",
        "    layers.Dropout(0.05),\n",
        "    layers.BatchNormalization(),\n",
        "    layers.Dense(6, activation = 'sigmoid'),\n",
        "])"
      ],
      "metadata": {
        "id": "lAjW7LY63kui"
      },
      "execution_count": 363,
      "outputs": []
    },
    {
      "cell_type": "code",
      "source": [
        "optimizer = tf.keras.optimizers.Adam(learning_rate=0.001)\n",
        "model.compile(optimizer=optimizer,loss=tf.keras.losses.CategoricalCrossentropy(),metrics=['accuracy'])"
      ],
      "metadata": {
        "id": "TzEvb5F53ky8"
      },
      "execution_count": 364,
      "outputs": []
    },
    {
      "cell_type": "code",
      "source": [
        "y1_train  = tf.keras.utils.to_categorical(y_train)\n",
        "y1_test = tf.keras.utils.to_categorical(y_test)\n",
        "y1_valid = tf.keras.utils.to_categorical(y_valid)"
      ],
      "metadata": {
        "id": "4QGjnNOq9xUz"
      },
      "execution_count": 365,
      "outputs": []
    },
    {
      "cell_type": "code",
      "source": [
        "y1_train.shape"
      ],
      "metadata": {
        "id": "7vXjccyY-LGr",
        "colab": {
          "base_uri": "https://localhost:8080/"
        },
        "outputId": "dd3e9dcd-0269-4a1b-f09d-f666447c20c1"
      },
      "execution_count": 366,
      "outputs": [
        {
          "output_type": "execute_result",
          "data": {
            "text/plain": [
              "(379, 6)"
            ]
          },
          "metadata": {},
          "execution_count": 366
        }
      ]
    },
    {
      "cell_type": "code",
      "source": [
        "y1_test.shape"
      ],
      "metadata": {
        "id": "RerLdmMm-LYu",
        "colab": {
          "base_uri": "https://localhost:8080/"
        },
        "outputId": "2aa405d9-0181-4761-9bee-ed0d6f478f25"
      },
      "execution_count": 367,
      "outputs": [
        {
          "output_type": "execute_result",
          "data": {
            "text/plain": [
              "(48, 6)"
            ]
          },
          "metadata": {},
          "execution_count": 367
        }
      ]
    },
    {
      "cell_type": "code",
      "source": [
        "#training model\n",
        "epochs = 200\n",
        "history = model.fit(X_train, y1_train, batch_size=16,\n",
        "                    epochs=epochs, verbose=1,\n",
        "                    validation_data=(X_test, y1_test)\n",
        ")\n",
        "\n",
        "history_df = pd.DataFrame(history.history)\n",
        "history_df.loc[0:, ['loss', 'val_loss']].plot()\n",
        "history_df.loc[0:, ['accuracy', 'val_accuracy']].plot()\n",
        "print((\"Minimum Validation Loss: {:0.4f}\").format(history_df['val_loss'].min()))"
      ],
      "metadata": {
        "id": "u-vBkbT99SGs",
        "colab": {
          "base_uri": "https://localhost:8080/",
          "height": 1000
        },
        "outputId": "b22f02c0-9776-4ce0-a9a9-a85e58f979b8"
      },
      "execution_count": 368,
      "outputs": [
        {
          "output_type": "stream",
          "name": "stdout",
          "text": [
            "Epoch 1/200\n",
            "24/24 [==============================] - 1s 13ms/step - loss: 1.8351 - accuracy: 0.2401 - val_loss: 1.8481 - val_accuracy: 0.2292\n",
            "Epoch 2/200\n",
            "24/24 [==============================] - 0s 5ms/step - loss: 1.5200 - accuracy: 0.3879 - val_loss: 1.6711 - val_accuracy: 0.2292\n",
            "Epoch 3/200\n",
            "24/24 [==============================] - 0s 5ms/step - loss: 1.3655 - accuracy: 0.4697 - val_loss: 1.5661 - val_accuracy: 0.2500\n",
            "Epoch 4/200\n",
            "24/24 [==============================] - 0s 5ms/step - loss: 1.2484 - accuracy: 0.5119 - val_loss: 1.4757 - val_accuracy: 0.3958\n",
            "Epoch 5/200\n",
            "24/24 [==============================] - 0s 5ms/step - loss: 1.1553 - accuracy: 0.5594 - val_loss: 1.3547 - val_accuracy: 0.5208\n",
            "Epoch 6/200\n",
            "24/24 [==============================] - 0s 6ms/step - loss: 1.0983 - accuracy: 0.5805 - val_loss: 1.2494 - val_accuracy: 0.6042\n",
            "Epoch 7/200\n",
            "24/24 [==============================] - 0s 5ms/step - loss: 1.0991 - accuracy: 0.5884 - val_loss: 1.1802 - val_accuracy: 0.6458\n",
            "Epoch 8/200\n",
            "24/24 [==============================] - 0s 4ms/step - loss: 0.9811 - accuracy: 0.6385 - val_loss: 1.1077 - val_accuracy: 0.5625\n",
            "Epoch 9/200\n",
            "24/24 [==============================] - 0s 5ms/step - loss: 0.9615 - accuracy: 0.6675 - val_loss: 1.0378 - val_accuracy: 0.5417\n",
            "Epoch 10/200\n",
            "24/24 [==============================] - 0s 4ms/step - loss: 0.9495 - accuracy: 0.6781 - val_loss: 0.9582 - val_accuracy: 0.5625\n",
            "Epoch 11/200\n",
            "24/24 [==============================] - 0s 5ms/step - loss: 0.8799 - accuracy: 0.6992 - val_loss: 0.9170 - val_accuracy: 0.5625\n",
            "Epoch 12/200\n",
            "24/24 [==============================] - 0s 5ms/step - loss: 0.8844 - accuracy: 0.6728 - val_loss: 0.8554 - val_accuracy: 0.6042\n",
            "Epoch 13/200\n",
            "24/24 [==============================] - 0s 5ms/step - loss: 0.9213 - accuracy: 0.6517 - val_loss: 0.8133 - val_accuracy: 0.5833\n",
            "Epoch 14/200\n",
            "24/24 [==============================] - 0s 5ms/step - loss: 0.8412 - accuracy: 0.6807 - val_loss: 0.7545 - val_accuracy: 0.5833\n",
            "Epoch 15/200\n",
            "24/24 [==============================] - 0s 5ms/step - loss: 0.8230 - accuracy: 0.6913 - val_loss: 0.7527 - val_accuracy: 0.5625\n",
            "Epoch 16/200\n",
            "24/24 [==============================] - 0s 5ms/step - loss: 0.8366 - accuracy: 0.6728 - val_loss: 0.7340 - val_accuracy: 0.5625\n",
            "Epoch 17/200\n",
            "24/24 [==============================] - 0s 5ms/step - loss: 0.8337 - accuracy: 0.6596 - val_loss: 0.6977 - val_accuracy: 0.5833\n",
            "Epoch 18/200\n",
            "24/24 [==============================] - 0s 5ms/step - loss: 0.8194 - accuracy: 0.7256 - val_loss: 0.6833 - val_accuracy: 0.6042\n",
            "Epoch 19/200\n",
            "24/24 [==============================] - 0s 5ms/step - loss: 0.8221 - accuracy: 0.6675 - val_loss: 0.6976 - val_accuracy: 0.6458\n",
            "Epoch 20/200\n",
            "24/24 [==============================] - 0s 4ms/step - loss: 0.7875 - accuracy: 0.6702 - val_loss: 0.6765 - val_accuracy: 0.6458\n",
            "Epoch 21/200\n",
            "24/24 [==============================] - 0s 5ms/step - loss: 0.7862 - accuracy: 0.6807 - val_loss: 0.6541 - val_accuracy: 0.7083\n",
            "Epoch 22/200\n",
            "24/24 [==============================] - 0s 5ms/step - loss: 0.7388 - accuracy: 0.7335 - val_loss: 0.6264 - val_accuracy: 0.6875\n",
            "Epoch 23/200\n",
            "24/24 [==============================] - 0s 5ms/step - loss: 0.7172 - accuracy: 0.7150 - val_loss: 0.6128 - val_accuracy: 0.7083\n",
            "Epoch 24/200\n",
            "24/24 [==============================] - 0s 4ms/step - loss: 0.8137 - accuracy: 0.6887 - val_loss: 0.5943 - val_accuracy: 0.7083\n",
            "Epoch 25/200\n",
            "24/24 [==============================] - 0s 5ms/step - loss: 0.7175 - accuracy: 0.7388 - val_loss: 0.5935 - val_accuracy: 0.7083\n",
            "Epoch 26/200\n",
            "24/24 [==============================] - 0s 5ms/step - loss: 0.7012 - accuracy: 0.7388 - val_loss: 0.6021 - val_accuracy: 0.7083\n",
            "Epoch 27/200\n",
            "24/24 [==============================] - 0s 5ms/step - loss: 0.7193 - accuracy: 0.7573 - val_loss: 0.6008 - val_accuracy: 0.7708\n",
            "Epoch 28/200\n",
            "24/24 [==============================] - 0s 6ms/step - loss: 0.7247 - accuracy: 0.7361 - val_loss: 0.5715 - val_accuracy: 0.7500\n",
            "Epoch 29/200\n",
            "24/24 [==============================] - 0s 5ms/step - loss: 0.7526 - accuracy: 0.7203 - val_loss: 0.5553 - val_accuracy: 0.7708\n",
            "Epoch 30/200\n",
            "24/24 [==============================] - 0s 5ms/step - loss: 0.6666 - accuracy: 0.7493 - val_loss: 0.5790 - val_accuracy: 0.7500\n",
            "Epoch 31/200\n",
            "24/24 [==============================] - 0s 5ms/step - loss: 0.7289 - accuracy: 0.7361 - val_loss: 0.5204 - val_accuracy: 0.7917\n",
            "Epoch 32/200\n",
            "24/24 [==============================] - 0s 5ms/step - loss: 0.7208 - accuracy: 0.7467 - val_loss: 0.5218 - val_accuracy: 0.7708\n",
            "Epoch 33/200\n",
            "24/24 [==============================] - 0s 5ms/step - loss: 0.7095 - accuracy: 0.7520 - val_loss: 0.5198 - val_accuracy: 0.7708\n",
            "Epoch 34/200\n",
            "24/24 [==============================] - 0s 5ms/step - loss: 0.6814 - accuracy: 0.7441 - val_loss: 0.5289 - val_accuracy: 0.7500\n",
            "Epoch 35/200\n",
            "24/24 [==============================] - 0s 5ms/step - loss: 0.7228 - accuracy: 0.7098 - val_loss: 0.5018 - val_accuracy: 0.7917\n",
            "Epoch 36/200\n",
            "24/24 [==============================] - 0s 5ms/step - loss: 0.7254 - accuracy: 0.7203 - val_loss: 0.4931 - val_accuracy: 0.8125\n",
            "Epoch 37/200\n",
            "24/24 [==============================] - 0s 5ms/step - loss: 0.7328 - accuracy: 0.7098 - val_loss: 0.5223 - val_accuracy: 0.7708\n",
            "Epoch 38/200\n",
            "24/24 [==============================] - 0s 5ms/step - loss: 0.6909 - accuracy: 0.7493 - val_loss: 0.5010 - val_accuracy: 0.7917\n",
            "Epoch 39/200\n",
            "24/24 [==============================] - 0s 5ms/step - loss: 0.6416 - accuracy: 0.7573 - val_loss: 0.4810 - val_accuracy: 0.7917\n",
            "Epoch 40/200\n",
            "24/24 [==============================] - 0s 5ms/step - loss: 0.6370 - accuracy: 0.7493 - val_loss: 0.4912 - val_accuracy: 0.7917\n",
            "Epoch 41/200\n",
            "24/24 [==============================] - 0s 5ms/step - loss: 0.6548 - accuracy: 0.7388 - val_loss: 0.4641 - val_accuracy: 0.8125\n",
            "Epoch 42/200\n",
            "24/24 [==============================] - 0s 4ms/step - loss: 0.6517 - accuracy: 0.7441 - val_loss: 0.5019 - val_accuracy: 0.7917\n",
            "Epoch 43/200\n",
            "24/24 [==============================] - 0s 4ms/step - loss: 0.6646 - accuracy: 0.7282 - val_loss: 0.4930 - val_accuracy: 0.7917\n",
            "Epoch 44/200\n",
            "24/24 [==============================] - 0s 4ms/step - loss: 0.6758 - accuracy: 0.7678 - val_loss: 0.4559 - val_accuracy: 0.7917\n",
            "Epoch 45/200\n",
            "24/24 [==============================] - 0s 5ms/step - loss: 0.6535 - accuracy: 0.7493 - val_loss: 0.4763 - val_accuracy: 0.8125\n",
            "Epoch 46/200\n",
            "24/24 [==============================] - 0s 4ms/step - loss: 0.6885 - accuracy: 0.7230 - val_loss: 0.4664 - val_accuracy: 0.7917\n",
            "Epoch 47/200\n",
            "24/24 [==============================] - 0s 5ms/step - loss: 0.6537 - accuracy: 0.7599 - val_loss: 0.4890 - val_accuracy: 0.8333\n",
            "Epoch 48/200\n",
            "24/24 [==============================] - 0s 5ms/step - loss: 0.6349 - accuracy: 0.7784 - val_loss: 0.4901 - val_accuracy: 0.8333\n",
            "Epoch 49/200\n",
            "24/24 [==============================] - 0s 5ms/step - loss: 0.6547 - accuracy: 0.7573 - val_loss: 0.5031 - val_accuracy: 0.7917\n",
            "Epoch 50/200\n",
            "24/24 [==============================] - 0s 5ms/step - loss: 0.6198 - accuracy: 0.7731 - val_loss: 0.4914 - val_accuracy: 0.8125\n",
            "Epoch 51/200\n",
            "24/24 [==============================] - 0s 5ms/step - loss: 0.6031 - accuracy: 0.7520 - val_loss: 0.4906 - val_accuracy: 0.7917\n",
            "Epoch 52/200\n",
            "24/24 [==============================] - 0s 5ms/step - loss: 0.6145 - accuracy: 0.7652 - val_loss: 0.4531 - val_accuracy: 0.8125\n",
            "Epoch 53/200\n",
            "24/24 [==============================] - 0s 4ms/step - loss: 0.6519 - accuracy: 0.7678 - val_loss: 0.4621 - val_accuracy: 0.8125\n",
            "Epoch 54/200\n",
            "24/24 [==============================] - 0s 5ms/step - loss: 0.6063 - accuracy: 0.7810 - val_loss: 0.4453 - val_accuracy: 0.8333\n",
            "Epoch 55/200\n",
            "24/24 [==============================] - 0s 5ms/step - loss: 0.5666 - accuracy: 0.7784 - val_loss: 0.4732 - val_accuracy: 0.8333\n",
            "Epoch 56/200\n",
            "24/24 [==============================] - 0s 5ms/step - loss: 0.6324 - accuracy: 0.7678 - val_loss: 0.4737 - val_accuracy: 0.8333\n",
            "Epoch 57/200\n",
            "24/24 [==============================] - 0s 5ms/step - loss: 0.6236 - accuracy: 0.7573 - val_loss: 0.4822 - val_accuracy: 0.8333\n",
            "Epoch 58/200\n",
            "24/24 [==============================] - 0s 5ms/step - loss: 0.6244 - accuracy: 0.7625 - val_loss: 0.4917 - val_accuracy: 0.8125\n",
            "Epoch 59/200\n",
            "24/24 [==============================] - 0s 5ms/step - loss: 0.5879 - accuracy: 0.7652 - val_loss: 0.4619 - val_accuracy: 0.8333\n",
            "Epoch 60/200\n",
            "24/24 [==============================] - 0s 5ms/step - loss: 0.6027 - accuracy: 0.7652 - val_loss: 0.4657 - val_accuracy: 0.8333\n",
            "Epoch 61/200\n",
            "24/24 [==============================] - 0s 5ms/step - loss: 0.6287 - accuracy: 0.7599 - val_loss: 0.4421 - val_accuracy: 0.8542\n",
            "Epoch 62/200\n",
            "24/24 [==============================] - 0s 5ms/step - loss: 0.5829 - accuracy: 0.7784 - val_loss: 0.4877 - val_accuracy: 0.8333\n",
            "Epoch 63/200\n",
            "24/24 [==============================] - 0s 5ms/step - loss: 0.6517 - accuracy: 0.7652 - val_loss: 0.4422 - val_accuracy: 0.8542\n",
            "Epoch 64/200\n",
            "24/24 [==============================] - 0s 5ms/step - loss: 0.6238 - accuracy: 0.7678 - val_loss: 0.4499 - val_accuracy: 0.8750\n",
            "Epoch 65/200\n",
            "24/24 [==============================] - 0s 5ms/step - loss: 0.6155 - accuracy: 0.7968 - val_loss: 0.4450 - val_accuracy: 0.8125\n",
            "Epoch 66/200\n",
            "24/24 [==============================] - 0s 5ms/step - loss: 0.6003 - accuracy: 0.7810 - val_loss: 0.4078 - val_accuracy: 0.8542\n",
            "Epoch 67/200\n",
            "24/24 [==============================] - 0s 5ms/step - loss: 0.6007 - accuracy: 0.7704 - val_loss: 0.4353 - val_accuracy: 0.8542\n",
            "Epoch 68/200\n",
            "24/24 [==============================] - 0s 5ms/step - loss: 0.5721 - accuracy: 0.7836 - val_loss: 0.4152 - val_accuracy: 0.8750\n",
            "Epoch 69/200\n",
            "24/24 [==============================] - 0s 5ms/step - loss: 0.5902 - accuracy: 0.7810 - val_loss: 0.4485 - val_accuracy: 0.8333\n",
            "Epoch 70/200\n",
            "24/24 [==============================] - 0s 5ms/step - loss: 0.6126 - accuracy: 0.7731 - val_loss: 0.4477 - val_accuracy: 0.8750\n",
            "Epoch 71/200\n",
            "24/24 [==============================] - 0s 5ms/step - loss: 0.5843 - accuracy: 0.7810 - val_loss: 0.4415 - val_accuracy: 0.8333\n",
            "Epoch 72/200\n",
            "24/24 [==============================] - 0s 5ms/step - loss: 0.5318 - accuracy: 0.7995 - val_loss: 0.4265 - val_accuracy: 0.8750\n",
            "Epoch 73/200\n",
            "24/24 [==============================] - 0s 5ms/step - loss: 0.5719 - accuracy: 0.7889 - val_loss: 0.3915 - val_accuracy: 0.8750\n",
            "Epoch 74/200\n",
            "24/24 [==============================] - 0s 5ms/step - loss: 0.5829 - accuracy: 0.7889 - val_loss: 0.4182 - val_accuracy: 0.8542\n",
            "Epoch 75/200\n",
            "24/24 [==============================] - 0s 4ms/step - loss: 0.5542 - accuracy: 0.8021 - val_loss: 0.4285 - val_accuracy: 0.8958\n",
            "Epoch 76/200\n",
            "24/24 [==============================] - 0s 5ms/step - loss: 0.6314 - accuracy: 0.7388 - val_loss: 0.4162 - val_accuracy: 0.8542\n",
            "Epoch 77/200\n",
            "24/24 [==============================] - 0s 5ms/step - loss: 0.5419 - accuracy: 0.7942 - val_loss: 0.4089 - val_accuracy: 0.8333\n",
            "Epoch 78/200\n",
            "24/24 [==============================] - 0s 5ms/step - loss: 0.5822 - accuracy: 0.7704 - val_loss: 0.3995 - val_accuracy: 0.8542\n",
            "Epoch 79/200\n",
            "24/24 [==============================] - 0s 5ms/step - loss: 0.5500 - accuracy: 0.8100 - val_loss: 0.4098 - val_accuracy: 0.8542\n",
            "Epoch 80/200\n",
            "24/24 [==============================] - 0s 5ms/step - loss: 0.6122 - accuracy: 0.7573 - val_loss: 0.4244 - val_accuracy: 0.8542\n",
            "Epoch 81/200\n",
            "24/24 [==============================] - 0s 5ms/step - loss: 0.5183 - accuracy: 0.8338 - val_loss: 0.4330 - val_accuracy: 0.8542\n",
            "Epoch 82/200\n",
            "24/24 [==============================] - 0s 5ms/step - loss: 0.5702 - accuracy: 0.7757 - val_loss: 0.3759 - val_accuracy: 0.9167\n",
            "Epoch 83/200\n",
            "24/24 [==============================] - 0s 5ms/step - loss: 0.5312 - accuracy: 0.7968 - val_loss: 0.3899 - val_accuracy: 0.9167\n",
            "Epoch 84/200\n",
            "24/24 [==============================] - 0s 5ms/step - loss: 0.5481 - accuracy: 0.8047 - val_loss: 0.4195 - val_accuracy: 0.9167\n",
            "Epoch 85/200\n",
            "24/24 [==============================] - 0s 4ms/step - loss: 0.6033 - accuracy: 0.7784 - val_loss: 0.4080 - val_accuracy: 0.8750\n",
            "Epoch 86/200\n",
            "24/24 [==============================] - 0s 5ms/step - loss: 0.5625 - accuracy: 0.7889 - val_loss: 0.4045 - val_accuracy: 0.9167\n",
            "Epoch 87/200\n",
            "24/24 [==============================] - 0s 5ms/step - loss: 0.5747 - accuracy: 0.7836 - val_loss: 0.3979 - val_accuracy: 0.9167\n",
            "Epoch 88/200\n",
            "24/24 [==============================] - 0s 5ms/step - loss: 0.5696 - accuracy: 0.7916 - val_loss: 0.3841 - val_accuracy: 0.9167\n",
            "Epoch 89/200\n",
            "24/24 [==============================] - 0s 5ms/step - loss: 0.5858 - accuracy: 0.7784 - val_loss: 0.3741 - val_accuracy: 0.8750\n",
            "Epoch 90/200\n",
            "24/24 [==============================] - 0s 5ms/step - loss: 0.5718 - accuracy: 0.7916 - val_loss: 0.3740 - val_accuracy: 0.8750\n",
            "Epoch 91/200\n",
            "24/24 [==============================] - 0s 5ms/step - loss: 0.5506 - accuracy: 0.7942 - val_loss: 0.3820 - val_accuracy: 0.8542\n",
            "Epoch 92/200\n",
            "24/24 [==============================] - 0s 5ms/step - loss: 0.5870 - accuracy: 0.7836 - val_loss: 0.3935 - val_accuracy: 0.8542\n",
            "Epoch 93/200\n",
            "24/24 [==============================] - 0s 5ms/step - loss: 0.6222 - accuracy: 0.7625 - val_loss: 0.4184 - val_accuracy: 0.8542\n",
            "Epoch 94/200\n",
            "24/24 [==============================] - 0s 4ms/step - loss: 0.5209 - accuracy: 0.7889 - val_loss: 0.4152 - val_accuracy: 0.8958\n",
            "Epoch 95/200\n",
            "24/24 [==============================] - 0s 5ms/step - loss: 0.5787 - accuracy: 0.7704 - val_loss: 0.4110 - val_accuracy: 0.8750\n",
            "Epoch 96/200\n",
            "24/24 [==============================] - 0s 5ms/step - loss: 0.5952 - accuracy: 0.7599 - val_loss: 0.4353 - val_accuracy: 0.8542\n",
            "Epoch 97/200\n",
            "24/24 [==============================] - 0s 5ms/step - loss: 0.5931 - accuracy: 0.7573 - val_loss: 0.4030 - val_accuracy: 0.8958\n",
            "Epoch 98/200\n",
            "24/24 [==============================] - 0s 5ms/step - loss: 0.5647 - accuracy: 0.7995 - val_loss: 0.4113 - val_accuracy: 0.8542\n",
            "Epoch 99/200\n",
            "24/24 [==============================] - 0s 5ms/step - loss: 0.5834 - accuracy: 0.7704 - val_loss: 0.4286 - val_accuracy: 0.8542\n",
            "Epoch 100/200\n",
            "24/24 [==============================] - 0s 5ms/step - loss: 0.5717 - accuracy: 0.7968 - val_loss: 0.4078 - val_accuracy: 0.8750\n",
            "Epoch 101/200\n",
            "24/24 [==============================] - 0s 5ms/step - loss: 0.5199 - accuracy: 0.7889 - val_loss: 0.3679 - val_accuracy: 0.8750\n",
            "Epoch 102/200\n",
            "24/24 [==============================] - 0s 5ms/step - loss: 0.5833 - accuracy: 0.7863 - val_loss: 0.3476 - val_accuracy: 0.9167\n",
            "Epoch 103/200\n",
            "24/24 [==============================] - 0s 5ms/step - loss: 0.6201 - accuracy: 0.7441 - val_loss: 0.4071 - val_accuracy: 0.8958\n",
            "Epoch 104/200\n",
            "24/24 [==============================] - 0s 5ms/step - loss: 0.5325 - accuracy: 0.7889 - val_loss: 0.4069 - val_accuracy: 0.8958\n",
            "Epoch 105/200\n",
            "24/24 [==============================] - 0s 5ms/step - loss: 0.5365 - accuracy: 0.8285 - val_loss: 0.3868 - val_accuracy: 0.8750\n",
            "Epoch 106/200\n",
            "24/24 [==============================] - 0s 5ms/step - loss: 0.5591 - accuracy: 0.7731 - val_loss: 0.3835 - val_accuracy: 0.8542\n",
            "Epoch 107/200\n",
            "24/24 [==============================] - 0s 5ms/step - loss: 0.5965 - accuracy: 0.7784 - val_loss: 0.3659 - val_accuracy: 0.8750\n",
            "Epoch 108/200\n",
            "24/24 [==============================] - 0s 5ms/step - loss: 0.4995 - accuracy: 0.8232 - val_loss: 0.3471 - val_accuracy: 0.8958\n",
            "Epoch 109/200\n",
            "24/24 [==============================] - 0s 5ms/step - loss: 0.5445 - accuracy: 0.7968 - val_loss: 0.3454 - val_accuracy: 0.8958\n",
            "Epoch 110/200\n",
            "24/24 [==============================] - 0s 5ms/step - loss: 0.5310 - accuracy: 0.7995 - val_loss: 0.3676 - val_accuracy: 0.8750\n",
            "Epoch 111/200\n",
            "24/24 [==============================] - 0s 5ms/step - loss: 0.5082 - accuracy: 0.8153 - val_loss: 0.3453 - val_accuracy: 0.8750\n",
            "Epoch 112/200\n",
            "24/24 [==============================] - 0s 5ms/step - loss: 0.5780 - accuracy: 0.7784 - val_loss: 0.3471 - val_accuracy: 0.8750\n",
            "Epoch 113/200\n",
            "24/24 [==============================] - 0s 5ms/step - loss: 0.5623 - accuracy: 0.7942 - val_loss: 0.3731 - val_accuracy: 0.9167\n",
            "Epoch 114/200\n",
            "24/24 [==============================] - 0s 5ms/step - loss: 0.6273 - accuracy: 0.7441 - val_loss: 0.3699 - val_accuracy: 0.9167\n",
            "Epoch 115/200\n",
            "24/24 [==============================] - 0s 5ms/step - loss: 0.5714 - accuracy: 0.7942 - val_loss: 0.3617 - val_accuracy: 0.8958\n",
            "Epoch 116/200\n",
            "24/24 [==============================] - 0s 5ms/step - loss: 0.5513 - accuracy: 0.7995 - val_loss: 0.3587 - val_accuracy: 0.8750\n",
            "Epoch 117/200\n",
            "24/24 [==============================] - 0s 5ms/step - loss: 0.5799 - accuracy: 0.7889 - val_loss: 0.3842 - val_accuracy: 0.8750\n",
            "Epoch 118/200\n",
            "24/24 [==============================] - 0s 5ms/step - loss: 0.6735 - accuracy: 0.7625 - val_loss: 0.3722 - val_accuracy: 0.8750\n",
            "Epoch 119/200\n",
            "24/24 [==============================] - 0s 5ms/step - loss: 0.4851 - accuracy: 0.8364 - val_loss: 0.3561 - val_accuracy: 0.8958\n",
            "Epoch 120/200\n",
            "24/24 [==============================] - 0s 5ms/step - loss: 0.5808 - accuracy: 0.7916 - val_loss: 0.3791 - val_accuracy: 0.8958\n",
            "Epoch 121/200\n",
            "24/24 [==============================] - 0s 4ms/step - loss: 0.5605 - accuracy: 0.7968 - val_loss: 0.3429 - val_accuracy: 0.9375\n",
            "Epoch 122/200\n",
            "24/24 [==============================] - 0s 5ms/step - loss: 0.5163 - accuracy: 0.7968 - val_loss: 0.3480 - val_accuracy: 0.9375\n",
            "Epoch 123/200\n",
            "24/24 [==============================] - 0s 5ms/step - loss: 0.5342 - accuracy: 0.7916 - val_loss: 0.3670 - val_accuracy: 0.8958\n",
            "Epoch 124/200\n",
            "24/24 [==============================] - 0s 5ms/step - loss: 0.5730 - accuracy: 0.7810 - val_loss: 0.3882 - val_accuracy: 0.8750\n",
            "Epoch 125/200\n",
            "24/24 [==============================] - 0s 5ms/step - loss: 0.5358 - accuracy: 0.8153 - val_loss: 0.3662 - val_accuracy: 0.8958\n",
            "Epoch 126/200\n",
            "24/24 [==============================] - 0s 5ms/step - loss: 0.5484 - accuracy: 0.7889 - val_loss: 0.3423 - val_accuracy: 0.9167\n",
            "Epoch 127/200\n",
            "24/24 [==============================] - 0s 5ms/step - loss: 0.5595 - accuracy: 0.8047 - val_loss: 0.3388 - val_accuracy: 0.8958\n",
            "Epoch 128/200\n",
            "24/24 [==============================] - 0s 5ms/step - loss: 0.5206 - accuracy: 0.7916 - val_loss: 0.3490 - val_accuracy: 0.8958\n",
            "Epoch 129/200\n",
            "24/24 [==============================] - 0s 5ms/step - loss: 0.5322 - accuracy: 0.8100 - val_loss: 0.3613 - val_accuracy: 0.8750\n",
            "Epoch 130/200\n",
            "24/24 [==============================] - 0s 5ms/step - loss: 0.4890 - accuracy: 0.8232 - val_loss: 0.3579 - val_accuracy: 0.8750\n",
            "Epoch 131/200\n",
            "24/24 [==============================] - 0s 5ms/step - loss: 0.4800 - accuracy: 0.8391 - val_loss: 0.3349 - val_accuracy: 0.9167\n",
            "Epoch 132/200\n",
            "24/24 [==============================] - 0s 5ms/step - loss: 0.5698 - accuracy: 0.7678 - val_loss: 0.3230 - val_accuracy: 0.8750\n",
            "Epoch 133/200\n",
            "24/24 [==============================] - 0s 5ms/step - loss: 0.5425 - accuracy: 0.7968 - val_loss: 0.3566 - val_accuracy: 0.8958\n",
            "Epoch 134/200\n",
            "24/24 [==============================] - 0s 5ms/step - loss: 0.4936 - accuracy: 0.8074 - val_loss: 0.3252 - val_accuracy: 0.8958\n",
            "Epoch 135/200\n",
            "24/24 [==============================] - 0s 5ms/step - loss: 0.5237 - accuracy: 0.8153 - val_loss: 0.3276 - val_accuracy: 0.8958\n",
            "Epoch 136/200\n",
            "24/24 [==============================] - 0s 5ms/step - loss: 0.5180 - accuracy: 0.8100 - val_loss: 0.3187 - val_accuracy: 0.9375\n",
            "Epoch 137/200\n",
            "24/24 [==============================] - 0s 5ms/step - loss: 0.5197 - accuracy: 0.8021 - val_loss: 0.2875 - val_accuracy: 0.9375\n",
            "Epoch 138/200\n",
            "24/24 [==============================] - 0s 5ms/step - loss: 0.4928 - accuracy: 0.8100 - val_loss: 0.3319 - val_accuracy: 0.8958\n",
            "Epoch 139/200\n",
            "24/24 [==============================] - 0s 5ms/step - loss: 0.5130 - accuracy: 0.8100 - val_loss: 0.3437 - val_accuracy: 0.8958\n",
            "Epoch 140/200\n",
            "24/24 [==============================] - 0s 4ms/step - loss: 0.4606 - accuracy: 0.8127 - val_loss: 0.3499 - val_accuracy: 0.8958\n",
            "Epoch 141/200\n",
            "24/24 [==============================] - 0s 5ms/step - loss: 0.4865 - accuracy: 0.8153 - val_loss: 0.3095 - val_accuracy: 0.9375\n",
            "Epoch 142/200\n",
            "24/24 [==============================] - 0s 5ms/step - loss: 0.5194 - accuracy: 0.7836 - val_loss: 0.3411 - val_accuracy: 0.8958\n",
            "Epoch 143/200\n",
            "24/24 [==============================] - 0s 5ms/step - loss: 0.5620 - accuracy: 0.7916 - val_loss: 0.3243 - val_accuracy: 0.8958\n",
            "Epoch 144/200\n",
            "24/24 [==============================] - 0s 5ms/step - loss: 0.4845 - accuracy: 0.8206 - val_loss: 0.3444 - val_accuracy: 0.8958\n",
            "Epoch 145/200\n",
            "24/24 [==============================] - 0s 5ms/step - loss: 0.5418 - accuracy: 0.8074 - val_loss: 0.3183 - val_accuracy: 0.9167\n",
            "Epoch 146/200\n",
            "24/24 [==============================] - 0s 5ms/step - loss: 0.5576 - accuracy: 0.7889 - val_loss: 0.3185 - val_accuracy: 0.8958\n",
            "Epoch 147/200\n",
            "24/24 [==============================] - 0s 6ms/step - loss: 0.5420 - accuracy: 0.7968 - val_loss: 0.3430 - val_accuracy: 0.8750\n",
            "Epoch 148/200\n",
            "24/24 [==============================] - 0s 5ms/step - loss: 0.4996 - accuracy: 0.8100 - val_loss: 0.3303 - val_accuracy: 0.8958\n",
            "Epoch 149/200\n",
            "24/24 [==============================] - 0s 5ms/step - loss: 0.5536 - accuracy: 0.7942 - val_loss: 0.3208 - val_accuracy: 0.8750\n",
            "Epoch 150/200\n",
            "24/24 [==============================] - 0s 4ms/step - loss: 0.5375 - accuracy: 0.7731 - val_loss: 0.3154 - val_accuracy: 0.8958\n",
            "Epoch 151/200\n",
            "24/24 [==============================] - 0s 5ms/step - loss: 0.5187 - accuracy: 0.8047 - val_loss: 0.3163 - val_accuracy: 0.8750\n",
            "Epoch 152/200\n",
            "24/24 [==============================] - 0s 5ms/step - loss: 0.5340 - accuracy: 0.8021 - val_loss: 0.3018 - val_accuracy: 0.9167\n",
            "Epoch 153/200\n",
            "24/24 [==============================] - 0s 5ms/step - loss: 0.5659 - accuracy: 0.7704 - val_loss: 0.3039 - val_accuracy: 0.9375\n",
            "Epoch 154/200\n",
            "24/24 [==============================] - 0s 5ms/step - loss: 0.5295 - accuracy: 0.7678 - val_loss: 0.3056 - val_accuracy: 0.9375\n",
            "Epoch 155/200\n",
            "24/24 [==============================] - 0s 6ms/step - loss: 0.6089 - accuracy: 0.7836 - val_loss: 0.3077 - val_accuracy: 0.9375\n",
            "Epoch 156/200\n",
            "24/24 [==============================] - 0s 5ms/step - loss: 0.5173 - accuracy: 0.7889 - val_loss: 0.3132 - val_accuracy: 0.8958\n",
            "Epoch 157/200\n",
            "24/24 [==============================] - 0s 5ms/step - loss: 0.4632 - accuracy: 0.8127 - val_loss: 0.3253 - val_accuracy: 0.9375\n",
            "Epoch 158/200\n",
            "24/24 [==============================] - 0s 5ms/step - loss: 0.5629 - accuracy: 0.7995 - val_loss: 0.3201 - val_accuracy: 0.8750\n",
            "Epoch 159/200\n",
            "24/24 [==============================] - 0s 5ms/step - loss: 0.4715 - accuracy: 0.8285 - val_loss: 0.3162 - val_accuracy: 0.8958\n",
            "Epoch 160/200\n",
            "24/24 [==============================] - 0s 5ms/step - loss: 0.5262 - accuracy: 0.8074 - val_loss: 0.3313 - val_accuracy: 0.8958\n",
            "Epoch 161/200\n",
            "24/24 [==============================] - 0s 5ms/step - loss: 0.5555 - accuracy: 0.7784 - val_loss: 0.3572 - val_accuracy: 0.9167\n",
            "Epoch 162/200\n",
            "24/24 [==============================] - 0s 5ms/step - loss: 0.4797 - accuracy: 0.8259 - val_loss: 0.3853 - val_accuracy: 0.8750\n",
            "Epoch 163/200\n",
            "24/24 [==============================] - 0s 5ms/step - loss: 0.4869 - accuracy: 0.8285 - val_loss: 0.3306 - val_accuracy: 0.8958\n",
            "Epoch 164/200\n",
            "24/24 [==============================] - 0s 5ms/step - loss: 0.4986 - accuracy: 0.7942 - val_loss: 0.3235 - val_accuracy: 0.9167\n",
            "Epoch 165/200\n",
            "24/24 [==============================] - 0s 5ms/step - loss: 0.4917 - accuracy: 0.8153 - val_loss: 0.3204 - val_accuracy: 0.9375\n",
            "Epoch 166/200\n",
            "24/24 [==============================] - 0s 5ms/step - loss: 0.5634 - accuracy: 0.7863 - val_loss: 0.3398 - val_accuracy: 0.8958\n",
            "Epoch 167/200\n",
            "24/24 [==============================] - 0s 5ms/step - loss: 0.5229 - accuracy: 0.7995 - val_loss: 0.3443 - val_accuracy: 0.8958\n",
            "Epoch 168/200\n",
            "24/24 [==============================] - 0s 5ms/step - loss: 0.5287 - accuracy: 0.7942 - val_loss: 0.3620 - val_accuracy: 0.9167\n",
            "Epoch 169/200\n",
            "24/24 [==============================] - 0s 6ms/step - loss: 0.5358 - accuracy: 0.8153 - val_loss: 0.3439 - val_accuracy: 0.9375\n",
            "Epoch 170/200\n",
            "24/24 [==============================] - 0s 5ms/step - loss: 0.5433 - accuracy: 0.7916 - val_loss: 0.3288 - val_accuracy: 0.8958\n",
            "Epoch 171/200\n",
            "24/24 [==============================] - 0s 5ms/step - loss: 0.4805 - accuracy: 0.8179 - val_loss: 0.3637 - val_accuracy: 0.8958\n",
            "Epoch 172/200\n",
            "24/24 [==============================] - 0s 5ms/step - loss: 0.5067 - accuracy: 0.8127 - val_loss: 0.3483 - val_accuracy: 0.8958\n",
            "Epoch 173/200\n",
            "24/24 [==============================] - 0s 5ms/step - loss: 0.5083 - accuracy: 0.8179 - val_loss: 0.3452 - val_accuracy: 0.9167\n",
            "Epoch 174/200\n",
            "24/24 [==============================] - 0s 5ms/step - loss: 0.5193 - accuracy: 0.8153 - val_loss: 0.3370 - val_accuracy: 0.8958\n",
            "Epoch 175/200\n",
            "24/24 [==============================] - 0s 5ms/step - loss: 0.4864 - accuracy: 0.8206 - val_loss: 0.3319 - val_accuracy: 0.8958\n",
            "Epoch 176/200\n",
            "24/24 [==============================] - 0s 6ms/step - loss: 0.5052 - accuracy: 0.8153 - val_loss: 0.3273 - val_accuracy: 0.9375\n",
            "Epoch 177/200\n",
            "24/24 [==============================] - 0s 5ms/step - loss: 0.4708 - accuracy: 0.8285 - val_loss: 0.3137 - val_accuracy: 0.9375\n",
            "Epoch 178/200\n",
            "24/24 [==============================] - 0s 5ms/step - loss: 0.4886 - accuracy: 0.8259 - val_loss: 0.3635 - val_accuracy: 0.8958\n",
            "Epoch 179/200\n",
            "24/24 [==============================] - 0s 5ms/step - loss: 0.5314 - accuracy: 0.7968 - val_loss: 0.3880 - val_accuracy: 0.8542\n",
            "Epoch 180/200\n",
            "24/24 [==============================] - 0s 5ms/step - loss: 0.4934 - accuracy: 0.8232 - val_loss: 0.3438 - val_accuracy: 0.8958\n",
            "Epoch 181/200\n",
            "24/24 [==============================] - 0s 5ms/step - loss: 0.4662 - accuracy: 0.8232 - val_loss: 0.3203 - val_accuracy: 0.8958\n",
            "Epoch 182/200\n",
            "24/24 [==============================] - 0s 5ms/step - loss: 0.5322 - accuracy: 0.8311 - val_loss: 0.3024 - val_accuracy: 0.9375\n",
            "Epoch 183/200\n",
            "24/24 [==============================] - 0s 5ms/step - loss: 0.4803 - accuracy: 0.8206 - val_loss: 0.3019 - val_accuracy: 0.9375\n",
            "Epoch 184/200\n",
            "24/24 [==============================] - 0s 5ms/step - loss: 0.4611 - accuracy: 0.8338 - val_loss: 0.3250 - val_accuracy: 0.8958\n",
            "Epoch 185/200\n",
            "24/24 [==============================] - 0s 5ms/step - loss: 0.4634 - accuracy: 0.8470 - val_loss: 0.2922 - val_accuracy: 0.9375\n",
            "Epoch 186/200\n",
            "24/24 [==============================] - 0s 5ms/step - loss: 0.4463 - accuracy: 0.8417 - val_loss: 0.2956 - val_accuracy: 0.8958\n",
            "Epoch 187/200\n",
            "24/24 [==============================] - 0s 6ms/step - loss: 0.5334 - accuracy: 0.8206 - val_loss: 0.3240 - val_accuracy: 0.9167\n",
            "Epoch 188/200\n",
            "24/24 [==============================] - 0s 5ms/step - loss: 0.4485 - accuracy: 0.8259 - val_loss: 0.3404 - val_accuracy: 0.8958\n",
            "Epoch 189/200\n",
            "24/24 [==============================] - 0s 4ms/step - loss: 0.4766 - accuracy: 0.8047 - val_loss: 0.3260 - val_accuracy: 0.9375\n",
            "Epoch 190/200\n",
            "24/24 [==============================] - 0s 5ms/step - loss: 0.5441 - accuracy: 0.7784 - val_loss: 0.3041 - val_accuracy: 0.9375\n",
            "Epoch 191/200\n",
            "24/24 [==============================] - 0s 5ms/step - loss: 0.4958 - accuracy: 0.8021 - val_loss: 0.2900 - val_accuracy: 0.9375\n",
            "Epoch 192/200\n",
            "24/24 [==============================] - 0s 5ms/step - loss: 0.4803 - accuracy: 0.8047 - val_loss: 0.3226 - val_accuracy: 0.8958\n",
            "Epoch 193/200\n",
            "24/24 [==============================] - 0s 5ms/step - loss: 0.4863 - accuracy: 0.8179 - val_loss: 0.3101 - val_accuracy: 0.8958\n",
            "Epoch 194/200\n",
            "24/24 [==============================] - 0s 5ms/step - loss: 0.5523 - accuracy: 0.8047 - val_loss: 0.3262 - val_accuracy: 0.9375\n",
            "Epoch 195/200\n",
            "24/24 [==============================] - 0s 5ms/step - loss: 0.4499 - accuracy: 0.8391 - val_loss: 0.3145 - val_accuracy: 0.8958\n",
            "Epoch 196/200\n",
            "24/24 [==============================] - 0s 4ms/step - loss: 0.5386 - accuracy: 0.7942 - val_loss: 0.3739 - val_accuracy: 0.8750\n",
            "Epoch 197/200\n",
            "24/24 [==============================] - 0s 5ms/step - loss: 0.5052 - accuracy: 0.8153 - val_loss: 0.3458 - val_accuracy: 0.8750\n",
            "Epoch 198/200\n",
            "24/24 [==============================] - 0s 5ms/step - loss: 0.5855 - accuracy: 0.7968 - val_loss: 0.3471 - val_accuracy: 0.9167\n",
            "Epoch 199/200\n",
            "24/24 [==============================] - 0s 4ms/step - loss: 0.4664 - accuracy: 0.8338 - val_loss: 0.3595 - val_accuracy: 0.8750\n",
            "Epoch 200/200\n",
            "24/24 [==============================] - 0s 5ms/step - loss: 0.4848 - accuracy: 0.8100 - val_loss: 0.3268 - val_accuracy: 0.9375\n",
            "Minimum Validation Loss: 0.2875\n"
          ]
        },
        {
          "output_type": "display_data",
          "data": {
            "image/png": "[encoded data removed]",
            "text/plain": [
              "<Figure size 432x288 with 1 Axes>"
            ]
          },
          "metadata": {
            "needs_background": "light"
          }
        },
        {
          "output_type": "display_data",
          "data": {
            "image/png": "[encoded data removed]",
            "text/plain": [
              "<Figure size 432x288 with 1 Axes>"
            ]
          },
          "metadata": {
            "needs_background": "light"
          }
        }
      ]
    },
    {
      "cell_type": "code",
      "source": [
        "y_pred_ann = model.predict(X_test)"
      ],
      "metadata": {
        "id": "euwt2vsq9q34"
      },
      "execution_count": 369,
      "outputs": []
    },
    {
      "cell_type": "code",
      "source": [
        ""
      ],
      "metadata": {
        "id": "ZENFpzNlzkit"
      },
      "execution_count": 369,
      "outputs": []
    }
  ]
}