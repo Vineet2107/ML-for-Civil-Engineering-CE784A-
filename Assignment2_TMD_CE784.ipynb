{
  "nbformat": 4,
  "nbformat_minor": 0,
  "metadata": {
    "colab": {
      "name": "Assignment2_TMD_CE784.ipynb",
      "provenance": [],
      "mount_file_id": "https://github.com/Vineet2107/ML-for-Civil-Enfineering-CE784A-/blob/main/Assignment2_TMD_CE784.ipynb",
      "authorship_tag": "ABX9TyNNcX6QsvIwUpQAS+vv1K/w",
      "include_colab_link": true
    },
    "kernelspec": {
      "name": "python3",
      "display_name": "Python 3"
    },
    "language_info": {
      "name": "python"
    }
  },
  "cells": [
    {
      "cell_type": "markdown",
      "metadata": {
        "id": "view-in-github",
        "colab_type": "text"
      },
      "source": [
        "<a href=\"https://colab.research.google.com/github/Vineet2107/ML-for-Civil-Engineering-CE784A-/blob/main/Assignment2_TMD_CE784.ipynb\" target=\"_parent\"><img src=\"https://colab.research.google.com/assets/colab-badge.svg\" alt=\"Open In Colab\"/></a>"
      ]
    },
    {
      "cell_type": "code",
      "execution_count": 1,
      "metadata": {
        "id": "IsLuv7T7EIZy"
      },
      "outputs": [],
      "source": [
        "import numpy as np\n",
        "import pandas as pd\n",
        "import matplotlib.pyplot as plt\n"
      ]
    },
    {
      "cell_type": "code",
      "source": [
        "from google.colab import drive\n",
        "drive.mount('/content/drive')"
      ],
      "metadata": {
        "id": "ydR1EZVq5b5x",
        "outputId": "ef508a17-aaa2-4854-a941-489ef363c422",
        "colab": {
          "base_uri": "https://localhost:8080/"
        }
      },
      "execution_count": 2,
      "outputs": [
        {
          "output_type": "stream",
          "name": "stdout",
          "text": [
            "Drive already mounted at /content/drive; to attempt to forcibly remount, call drive.mount(\"/content/drive\", force_remount=True).\n"
          ]
        }
      ]
    },
    {
      "cell_type": "code",
      "source": [
        "df = pd.read_csv('/content/drive/MyDrive/1b80ce01455252fb312ac516e738750eeef007f14ef9c8f64e4431fe3f495dd9_cleaned/cleaned.csv')"
      ],
      "metadata": {
        "id": "1uJoEHwpEhYO"
      },
      "execution_count": 3,
      "outputs": []
    },
    {
      "cell_type": "code",
      "source": [
        "df.head()"
      ],
      "metadata": {
        "colab": {
          "base_uri": "https://localhost:8080/",
          "height": 206
        },
        "id": "_iQ_tF6uEsVH",
        "outputId": "88c5b5b7-76b4-4fc2-dfef-cd00113fde3a"
      },
      "execution_count": 4,
      "outputs": [
        {
          "output_type": "execute_result",
          "data": {
            "text/html": [
              "\n",
              "  <div id=\"df-e8b69179-6d90-4f9a-95e9-043d134a77b5\">\n",
              "    <div class=\"colab-df-container\">\n",
              "      <div>\n",
              "<style scoped>\n",
              "    .dataframe tbody tr th:only-of-type {\n",
              "        vertical-align: middle;\n",
              "    }\n",
              "\n",
              "    .dataframe tbody tr th {\n",
              "        vertical-align: top;\n",
              "    }\n",
              "\n",
              "    .dataframe thead th {\n",
              "        text-align: right;\n",
              "    }\n",
              "</style>\n",
              "<table border=\"1\" class=\"dataframe\">\n",
              "  <thead>\n",
              "    <tr style=\"text-align: right;\">\n",
              "      <th></th>\n",
              "      <th>user</th>\n",
              "      <th>timestamp</th>\n",
              "      <th>x</th>\n",
              "      <th>y</th>\n",
              "      <th>z</th>\n",
              "      <th>class</th>\n",
              "    </tr>\n",
              "  </thead>\n",
              "  <tbody>\n",
              "    <tr>\n",
              "      <th>0</th>\n",
              "      <td>a2d80ed662f34d32951eb1c6ed076c313e358b73</td>\n",
              "      <td>2018-06-04 16:26:55.053</td>\n",
              "      <td>0.78</td>\n",
              "      <td>-9.13</td>\n",
              "      <td>-3.74</td>\n",
              "      <td>bus</td>\n",
              "    </tr>\n",
              "    <tr>\n",
              "      <th>1</th>\n",
              "      <td>a2d80ed662f34d32951eb1c6ed076c313e358b73</td>\n",
              "      <td>2018-06-04 16:26:55.111</td>\n",
              "      <td>0.79</td>\n",
              "      <td>-9.11</td>\n",
              "      <td>-3.75</td>\n",
              "      <td>bus</td>\n",
              "    </tr>\n",
              "    <tr>\n",
              "      <th>2</th>\n",
              "      <td>a2d80ed662f34d32951eb1c6ed076c313e358b73</td>\n",
              "      <td>2018-06-04 16:26:55.169</td>\n",
              "      <td>0.80</td>\n",
              "      <td>-9.12</td>\n",
              "      <td>-3.75</td>\n",
              "      <td>bus</td>\n",
              "    </tr>\n",
              "    <tr>\n",
              "      <th>3</th>\n",
              "      <td>a2d80ed662f34d32951eb1c6ed076c313e358b73</td>\n",
              "      <td>2018-06-04 16:26:55.228</td>\n",
              "      <td>0.78</td>\n",
              "      <td>-9.14</td>\n",
              "      <td>-3.76</td>\n",
              "      <td>bus</td>\n",
              "    </tr>\n",
              "    <tr>\n",
              "      <th>4</th>\n",
              "      <td>a2d80ed662f34d32951eb1c6ed076c313e358b73</td>\n",
              "      <td>2018-06-04 16:26:55.286</td>\n",
              "      <td>0.83</td>\n",
              "      <td>-9.12</td>\n",
              "      <td>-3.80</td>\n",
              "      <td>bus</td>\n",
              "    </tr>\n",
              "  </tbody>\n",
              "</table>\n",
              "</div>\n",
              "      <button class=\"colab-df-convert\" onclick=\"convertToInteractive('df-e8b69179-6d90-4f9a-95e9-043d134a77b5')\"\n",
              "              title=\"Convert this dataframe to an interactive table.\"\n",
              "              style=\"display:none;\">\n",
              "        \n",
              "  <svg xmlns=\"http://www.w3.org/2000/svg\" height=\"24px\"viewBox=\"0 0 24 24\"\n",
              "       width=\"24px\">\n",
              "    <path d=\"M0 0h24v24H0V0z\" fill=\"none\"/>\n",
              "    <path d=\"M18.56 5.44l.94 2.06.94-2.06 2.06-.94-2.06-.94-.94-2.06-.94 2.06-2.06.94zm-11 1L8.5 8.5l.94-2.06 2.06-.94-2.06-.94L8.5 2.5l-.94 2.06-2.06.94zm10 10l.94 2.06.94-2.06 2.06-.94-2.06-.94-.94-2.06-.94 2.06-2.06.94z\"/><path d=\"M17.41 7.96l-1.37-1.37c-.4-.4-.92-.59-1.43-.59-.52 0-1.04.2-1.43.59L10.3 9.45l-7.72 7.72c-.78.78-.78 2.05 0 2.83L4 21.41c.39.39.9.59 1.41.59.51 0 1.02-.2 1.41-.59l7.78-7.78 2.81-2.81c.8-.78.8-2.07 0-2.86zM5.41 20L4 18.59l7.72-7.72 1.47 1.35L5.41 20z\"/>\n",
              "  </svg>\n",
              "      </button>\n",
              "      \n",
              "  <style>\n",
              "    .colab-df-container {\n",
              "      display:flex;\n",
              "      flex-wrap:wrap;\n",
              "      gap: 12px;\n",
              "    }\n",
              "\n",
              "    .colab-df-convert {\n",
              "      background-color: #E8F0FE;\n",
              "      border: none;\n",
              "      border-radius: 50%;\n",
              "      cursor: pointer;\n",
              "      display: none;\n",
              "      fill: #1967D2;\n",
              "      height: 32px;\n",
              "      padding: 0 0 0 0;\n",
              "      width: 32px;\n",
              "    }\n",
              "\n",
              "    .colab-df-convert:hover {\n",
              "      background-color: #E2EBFA;\n",
              "      box-shadow: 0px 1px 2px rgba(60, 64, 67, 0.3), 0px 1px 3px 1px rgba(60, 64, 67, 0.15);\n",
              "      fill: #174EA6;\n",
              "    }\n",
              "\n",
              "    [theme=dark] .colab-df-convert {\n",
              "      background-color: #3B4455;\n",
              "      fill: #D2E3FC;\n",
              "    }\n",
              "\n",
              "    [theme=dark] .colab-df-convert:hover {\n",
              "      background-color: #434B5C;\n",
              "      box-shadow: 0px 1px 3px 1px rgba(0, 0, 0, 0.15);\n",
              "      filter: drop-shadow(0px 1px 2px rgba(0, 0, 0, 0.3));\n",
              "      fill: #FFFFFF;\n",
              "    }\n",
              "  </style>\n",
              "\n",
              "      <script>\n",
              "        const buttonEl =\n",
              "          document.querySelector('#df-e8b69179-6d90-4f9a-95e9-043d134a77b5 button.colab-df-convert');\n",
              "        buttonEl.style.display =\n",
              "          google.colab.kernel.accessAllowed ? 'block' : 'none';\n",
              "\n",
              "        async function convertToInteractive(key) {\n",
              "          const element = document.querySelector('#df-e8b69179-6d90-4f9a-95e9-043d134a77b5');\n",
              "          const dataTable =\n",
              "            await google.colab.kernel.invokeFunction('convertToInteractive',\n",
              "                                                     [key], {});\n",
              "          if (!dataTable) return;\n",
              "\n",
              "          const docLinkHtml = 'Like what you see? Visit the ' +\n",
              "            '<a target=\"_blank\" href=https://colab.research.google.com/notebooks/data_table.ipynb>data table notebook</a>'\n",
              "            + ' to learn more about interactive tables.';\n",
              "          element.innerHTML = '';\n",
              "          dataTable['output_type'] = 'display_data';\n",
              "          await google.colab.output.renderOutput(dataTable, element);\n",
              "          const docLink = document.createElement('div');\n",
              "          docLink.innerHTML = docLinkHtml;\n",
              "          element.appendChild(docLink);\n",
              "        }\n",
              "      </script>\n",
              "    </div>\n",
              "  </div>\n",
              "  "
            ],
            "text/plain": [
              "                                       user                timestamp     x  \\\n",
              "0  a2d80ed662f34d32951eb1c6ed076c313e358b73  2018-06-04 16:26:55.053  0.78   \n",
              "1  a2d80ed662f34d32951eb1c6ed076c313e358b73  2018-06-04 16:26:55.111  0.79   \n",
              "2  a2d80ed662f34d32951eb1c6ed076c313e358b73  2018-06-04 16:26:55.169  0.80   \n",
              "3  a2d80ed662f34d32951eb1c6ed076c313e358b73  2018-06-04 16:26:55.228  0.78   \n",
              "4  a2d80ed662f34d32951eb1c6ed076c313e358b73  2018-06-04 16:26:55.286  0.83   \n",
              "\n",
              "      y     z class  \n",
              "0 -9.13 -3.74   bus  \n",
              "1 -9.11 -3.75   bus  \n",
              "2 -9.12 -3.75   bus  \n",
              "3 -9.14 -3.76   bus  \n",
              "4 -9.12 -3.80   bus  "
            ]
          },
          "metadata": {},
          "execution_count": 4
        }
      ]
    },
    {
      "cell_type": "code",
      "source": [
        "print(len(df.user.unique())) #number of unique useers\n",
        "print(df.user.unique()) # userID of unique users"
      ],
      "metadata": {
        "colab": {
          "base_uri": "https://localhost:8080/"
        },
        "id": "z2uTy0_AExq6",
        "outputId": "cde93379-955b-4f85-bbb1-c11b6a23a13c"
      },
      "execution_count": 5,
      "outputs": [
        {
          "output_type": "stream",
          "name": "stdout",
          "text": [
            "32\n",
            "['a2d80ed662f34d32951eb1c6ed076c313e358b73'\n",
            " 'a526f3566e9c9024dfa7378eb4291d787a09fd37'\n",
            " 'a59868c6eb3645eedbb343ce8c336ec6f2ef2324'\n",
            " 'a92dee88f61123f923dccec01eeecf1a81953b36'\n",
            " 'ac4c17afeb69b39169eb301ab592696a8f353976'\n",
            " 'adaaae1a67ea9e43abd60ba945eccda0cb8821e0'\n",
            " 'b138d165100ef60bc793cac143742eb5aea4d6ba'\n",
            " 'b45157069942d01310c3e7b74034166717bb25f9'\n",
            " 'b7b165e5637b5a0226068d907748f4bbfc61a320'\n",
            " 'c453226e3616ae821cdcb38f38481c2a20f2482f'\n",
            " 'c5702d34b238fe68683f818e82cd3a3cd8a16366'\n",
            " 'ca7950f223a8037b897d0547075dc138f9e43b20'\n",
            " 'cace4ec0999436917986b4fa6e9317262c897bc2'\n",
            " 'cbde60baea002b694ecf2a3ff2d95be16b00efe1'\n",
            " 'ce39f5d0705695fcd70a04ba6d84ac6beecd6f9c'\n",
            " 'd429974540bfd38c3367fe9f0c8682775ff4fa18'\n",
            " 'd7a1230d94f91a32cc079809748e52e8a4a6a22f'\n",
            " 'd7dd12d83c81574137f858034b99f4cc83ab0718'\n",
            " 'd8c047eaaee204b7b5cd71e2d67308b87b038ed3'\n",
            " 'dc0bdce306ec3b624fe0e6ecd1ffbd82cb970120'\n",
            " 'dd82e3df4bebc74ed6b67877be79e29f401c16a3'\n",
            " 'dde95e125d89843f7032baa734ee4d34ec775aaf'\n",
            " 'de9892b879c83ea3d24fb4560873107cc4e86d48'\n",
            " 'dfcfc0404691b73b69884073159f90843f2ac35b'\n",
            " 'e429a95c532f1117130c11e4a18379d84fa4ffa9'\n",
            " 'eb9e7854290fd6ea9ebaf448b640fc1f1dbeb076'\n",
            " 'ecfb0929250fb6dda66a4065441230ab27f094e5'\n",
            " 'ed623d28c1e0071632a6110b8f8ed93f8af78b99'\n",
            " 'f1b7331b66e404c11eebb22933e733117bbb12c9'\n",
            " 'f5edd999397145a2ec1b244226fc83f99631760c'\n",
            " 'f7ae1ce141c26db40ea8b090fb568a0c965310aa'\n",
            " 'faae5be800be2dfa897eea0bd2e5988cd53c4ec0']\n"
          ]
        }
      ]
    },
    {
      "cell_type": "code",
      "source": [
        "df.info()"
      ],
      "metadata": {
        "colab": {
          "base_uri": "https://localhost:8080/"
        },
        "id": "ANRwWJq9FQvs",
        "outputId": "2cd5ae23-6831-432a-b8fe-bb9b97dc03c3"
      },
      "execution_count": 6,
      "outputs": [
        {
          "output_type": "stream",
          "name": "stdout",
          "text": [
            "<class 'pandas.core.frame.DataFrame'>\n",
            "RangeIndex: 5653053 entries, 0 to 5653052\n",
            "Data columns (total 6 columns):\n",
            " #   Column     Dtype  \n",
            "---  ------     -----  \n",
            " 0   user       object \n",
            " 1   timestamp  object \n",
            " 2   x          float64\n",
            " 3   y          float64\n",
            " 4   z          float64\n",
            " 5   class      object \n",
            "dtypes: float64(3), object(3)\n",
            "memory usage: 258.8+ MB\n"
          ]
        }
      ]
    },
    {
      "cell_type": "code",
      "source": [
        "len(df['user'])\n"
      ],
      "metadata": {
        "colab": {
          "base_uri": "https://localhost:8080/"
        },
        "id": "MOZWg8ODF7Vt",
        "outputId": "05083ff6-f83c-4547-d808-3659a0792d31"
      },
      "execution_count": 7,
      "outputs": [
        {
          "output_type": "execute_result",
          "data": {
            "text/plain": [
              "5653053"
            ]
          },
          "metadata": {},
          "execution_count": 7
        }
      ]
    },
    {
      "cell_type": "code",
      "source": [
        "\n",
        "# user_c=[]\n",
        "# for i in range(len(df['user'])-1):\n",
        "#   if (df['user'][i] != df['user'][i+1]):\n",
        "#     user_c.append(1)\n",
        "#   else:\n",
        "#     user_c.append(0)\n",
        "# user_c.append(1)\n",
        "# df['user_c'] = user_c"
      ],
      "metadata": {
        "id": "5zur8Fhm3GBG"
      },
      "execution_count": 8,
      "outputs": []
    },
    {
      "cell_type": "code",
      "source": [
        "# sum(df['user_c'])"
      ],
      "metadata": {
        "id": "v2X2z213Ut9-"
      },
      "execution_count": 9,
      "outputs": []
    },
    {
      "cell_type": "code",
      "source": [
        "# class_c=[]\n",
        "# for i in range(len(df['user'])-1):\n",
        "#   if (df['class'][i] != df['class'][i+1]):\n",
        "#     class_c.append(1)\n",
        "#   else:\n",
        "#     class_c.append(0)\n",
        "# class_c.append(1)\n",
        "# df['class_c'] = class_c"
      ],
      "metadata": {
        "id": "tHz4V7FM7pVl"
      },
      "execution_count": 10,
      "outputs": []
    },
    {
      "cell_type": "code",
      "source": [
        "# df.head()"
      ],
      "metadata": {
        "id": "1Tr5IUhCzjuA"
      },
      "execution_count": 11,
      "outputs": []
    },
    {
      "cell_type": "code",
      "source": [
        "# sum(df['class_c'])"
      ],
      "metadata": {
        "id": "vIJedjA8UmMj"
      },
      "execution_count": 12,
      "outputs": []
    },
    {
      "cell_type": "code",
      "source": [
        "df.head()"
      ],
      "metadata": {
        "id": "tWYaBths9z_B",
        "outputId": "14d60207-dbf5-4a76-8bcb-40ca3cb30d08",
        "colab": {
          "base_uri": "https://localhost:8080/",
          "height": 206
        }
      },
      "execution_count": 13,
      "outputs": [
        {
          "output_type": "execute_result",
          "data": {
            "text/html": [
              "\n",
              "  <div id=\"df-af808082-d891-41c8-b280-bab1f7348e98\">\n",
              "    <div class=\"colab-df-container\">\n",
              "      <div>\n",
              "<style scoped>\n",
              "    .dataframe tbody tr th:only-of-type {\n",
              "        vertical-align: middle;\n",
              "    }\n",
              "\n",
              "    .dataframe tbody tr th {\n",
              "        vertical-align: top;\n",
              "    }\n",
              "\n",
              "    .dataframe thead th {\n",
              "        text-align: right;\n",
              "    }\n",
              "</style>\n",
              "<table border=\"1\" class=\"dataframe\">\n",
              "  <thead>\n",
              "    <tr style=\"text-align: right;\">\n",
              "      <th></th>\n",
              "      <th>user</th>\n",
              "      <th>timestamp</th>\n",
              "      <th>x</th>\n",
              "      <th>y</th>\n",
              "      <th>z</th>\n",
              "      <th>class</th>\n",
              "    </tr>\n",
              "  </thead>\n",
              "  <tbody>\n",
              "    <tr>\n",
              "      <th>0</th>\n",
              "      <td>a2d80ed662f34d32951eb1c6ed076c313e358b73</td>\n",
              "      <td>2018-06-04 16:26:55.053</td>\n",
              "      <td>0.78</td>\n",
              "      <td>-9.13</td>\n",
              "      <td>-3.74</td>\n",
              "      <td>bus</td>\n",
              "    </tr>\n",
              "    <tr>\n",
              "      <th>1</th>\n",
              "      <td>a2d80ed662f34d32951eb1c6ed076c313e358b73</td>\n",
              "      <td>2018-06-04 16:26:55.111</td>\n",
              "      <td>0.79</td>\n",
              "      <td>-9.11</td>\n",
              "      <td>-3.75</td>\n",
              "      <td>bus</td>\n",
              "    </tr>\n",
              "    <tr>\n",
              "      <th>2</th>\n",
              "      <td>a2d80ed662f34d32951eb1c6ed076c313e358b73</td>\n",
              "      <td>2018-06-04 16:26:55.169</td>\n",
              "      <td>0.80</td>\n",
              "      <td>-9.12</td>\n",
              "      <td>-3.75</td>\n",
              "      <td>bus</td>\n",
              "    </tr>\n",
              "    <tr>\n",
              "      <th>3</th>\n",
              "      <td>a2d80ed662f34d32951eb1c6ed076c313e358b73</td>\n",
              "      <td>2018-06-04 16:26:55.228</td>\n",
              "      <td>0.78</td>\n",
              "      <td>-9.14</td>\n",
              "      <td>-3.76</td>\n",
              "      <td>bus</td>\n",
              "    </tr>\n",
              "    <tr>\n",
              "      <th>4</th>\n",
              "      <td>a2d80ed662f34d32951eb1c6ed076c313e358b73</td>\n",
              "      <td>2018-06-04 16:26:55.286</td>\n",
              "      <td>0.83</td>\n",
              "      <td>-9.12</td>\n",
              "      <td>-3.80</td>\n",
              "      <td>bus</td>\n",
              "    </tr>\n",
              "  </tbody>\n",
              "</table>\n",
              "</div>\n",
              "      <button class=\"colab-df-convert\" onclick=\"convertToInteractive('df-af808082-d891-41c8-b280-bab1f7348e98')\"\n",
              "              title=\"Convert this dataframe to an interactive table.\"\n",
              "              style=\"display:none;\">\n",
              "        \n",
              "  <svg xmlns=\"http://www.w3.org/2000/svg\" height=\"24px\"viewBox=\"0 0 24 24\"\n",
              "       width=\"24px\">\n",
              "    <path d=\"M0 0h24v24H0V0z\" fill=\"none\"/>\n",
              "    <path d=\"M18.56 5.44l.94 2.06.94-2.06 2.06-.94-2.06-.94-.94-2.06-.94 2.06-2.06.94zm-11 1L8.5 8.5l.94-2.06 2.06-.94-2.06-.94L8.5 2.5l-.94 2.06-2.06.94zm10 10l.94 2.06.94-2.06 2.06-.94-2.06-.94-.94-2.06-.94 2.06-2.06.94z\"/><path d=\"M17.41 7.96l-1.37-1.37c-.4-.4-.92-.59-1.43-.59-.52 0-1.04.2-1.43.59L10.3 9.45l-7.72 7.72c-.78.78-.78 2.05 0 2.83L4 21.41c.39.39.9.59 1.41.59.51 0 1.02-.2 1.41-.59l7.78-7.78 2.81-2.81c.8-.78.8-2.07 0-2.86zM5.41 20L4 18.59l7.72-7.72 1.47 1.35L5.41 20z\"/>\n",
              "  </svg>\n",
              "      </button>\n",
              "      \n",
              "  <style>\n",
              "    .colab-df-container {\n",
              "      display:flex;\n",
              "      flex-wrap:wrap;\n",
              "      gap: 12px;\n",
              "    }\n",
              "\n",
              "    .colab-df-convert {\n",
              "      background-color: #E8F0FE;\n",
              "      border: none;\n",
              "      border-radius: 50%;\n",
              "      cursor: pointer;\n",
              "      display: none;\n",
              "      fill: #1967D2;\n",
              "      height: 32px;\n",
              "      padding: 0 0 0 0;\n",
              "      width: 32px;\n",
              "    }\n",
              "\n",
              "    .colab-df-convert:hover {\n",
              "      background-color: #E2EBFA;\n",
              "      box-shadow: 0px 1px 2px rgba(60, 64, 67, 0.3), 0px 1px 3px 1px rgba(60, 64, 67, 0.15);\n",
              "      fill: #174EA6;\n",
              "    }\n",
              "\n",
              "    [theme=dark] .colab-df-convert {\n",
              "      background-color: #3B4455;\n",
              "      fill: #D2E3FC;\n",
              "    }\n",
              "\n",
              "    [theme=dark] .colab-df-convert:hover {\n",
              "      background-color: #434B5C;\n",
              "      box-shadow: 0px 1px 3px 1px rgba(0, 0, 0, 0.15);\n",
              "      filter: drop-shadow(0px 1px 2px rgba(0, 0, 0, 0.3));\n",
              "      fill: #FFFFFF;\n",
              "    }\n",
              "  </style>\n",
              "\n",
              "      <script>\n",
              "        const buttonEl =\n",
              "          document.querySelector('#df-af808082-d891-41c8-b280-bab1f7348e98 button.colab-df-convert');\n",
              "        buttonEl.style.display =\n",
              "          google.colab.kernel.accessAllowed ? 'block' : 'none';\n",
              "\n",
              "        async function convertToInteractive(key) {\n",
              "          const element = document.querySelector('#df-af808082-d891-41c8-b280-bab1f7348e98');\n",
              "          const dataTable =\n",
              "            await google.colab.kernel.invokeFunction('convertToInteractive',\n",
              "                                                     [key], {});\n",
              "          if (!dataTable) return;\n",
              "\n",
              "          const docLinkHtml = 'Like what you see? Visit the ' +\n",
              "            '<a target=\"_blank\" href=https://colab.research.google.com/notebooks/data_table.ipynb>data table notebook</a>'\n",
              "            + ' to learn more about interactive tables.';\n",
              "          element.innerHTML = '';\n",
              "          dataTable['output_type'] = 'display_data';\n",
              "          await google.colab.output.renderOutput(dataTable, element);\n",
              "          const docLink = document.createElement('div');\n",
              "          docLink.innerHTML = docLinkHtml;\n",
              "          element.appendChild(docLink);\n",
              "        }\n",
              "      </script>\n",
              "    </div>\n",
              "  </div>\n",
              "  "
            ],
            "text/plain": [
              "                                       user                timestamp     x  \\\n",
              "0  a2d80ed662f34d32951eb1c6ed076c313e358b73  2018-06-04 16:26:55.053  0.78   \n",
              "1  a2d80ed662f34d32951eb1c6ed076c313e358b73  2018-06-04 16:26:55.111  0.79   \n",
              "2  a2d80ed662f34d32951eb1c6ed076c313e358b73  2018-06-04 16:26:55.169  0.80   \n",
              "3  a2d80ed662f34d32951eb1c6ed076c313e358b73  2018-06-04 16:26:55.228  0.78   \n",
              "4  a2d80ed662f34d32951eb1c6ed076c313e358b73  2018-06-04 16:26:55.286  0.83   \n",
              "\n",
              "      y     z class  \n",
              "0 -9.13 -3.74   bus  \n",
              "1 -9.11 -3.75   bus  \n",
              "2 -9.12 -3.75   bus  \n",
              "3 -9.14 -3.76   bus  \n",
              "4 -9.12 -3.80   bus  "
            ]
          },
          "metadata": {},
          "execution_count": 13
        }
      ]
    },
    {
      "cell_type": "code",
      "source": [
        "seq_c = []\n",
        "for i  in range(len(df['user'])-1):\n",
        "  if (df['class'][i] != df['class'][i+1] or df['user'][i] != df['user'][i+1]):\n",
        "    seq_c.append(1)\n",
        "  else :\n",
        "    seq_c.append(0)\n",
        "seq_c.append(1)\n",
        "df['seq_c'] = seq_c"
      ],
      "metadata": {
        "id": "2CNXpBy_-Hrg"
      },
      "execution_count": 70,
      "outputs": []
    },
    {
      "cell_type": "code",
      "source": [
        "sum(df['seq_c'])"
      ],
      "metadata": {
        "id": "moq-x4KCUanJ",
        "outputId": "25e06f58-a50d-4f0e-fa8a-126655969d87",
        "colab": {
          "base_uri": "https://localhost:8080/"
        }
      },
      "execution_count": 71,
      "outputs": [
        {
          "output_type": "execute_result",
          "data": {
            "text/plain": [
              "138"
            ]
          },
          "metadata": {},
          "execution_count": 71
        }
      ]
    },
    {
      "cell_type": "code",
      "source": [
        "# df.head()"
      ],
      "metadata": {
        "id": "bPIQBnET-voD",
        "outputId": "2812ca7c-71d1-4b04-b771-9b9050feb1f1",
        "colab": {
          "base_uri": "https://localhost:8080/",
          "height": 206
        }
      },
      "execution_count": 16,
      "outputs": [
        {
          "output_type": "execute_result",
          "data": {
            "text/html": [
              "\n",
              "  <div id=\"df-dd655e8b-581d-4db0-80d4-9e0d0172f00b\">\n",
              "    <div class=\"colab-df-container\">\n",
              "      <div>\n",
              "<style scoped>\n",
              "    .dataframe tbody tr th:only-of-type {\n",
              "        vertical-align: middle;\n",
              "    }\n",
              "\n",
              "    .dataframe tbody tr th {\n",
              "        vertical-align: top;\n",
              "    }\n",
              "\n",
              "    .dataframe thead th {\n",
              "        text-align: right;\n",
              "    }\n",
              "</style>\n",
              "<table border=\"1\" class=\"dataframe\">\n",
              "  <thead>\n",
              "    <tr style=\"text-align: right;\">\n",
              "      <th></th>\n",
              "      <th>user</th>\n",
              "      <th>timestamp</th>\n",
              "      <th>x</th>\n",
              "      <th>y</th>\n",
              "      <th>z</th>\n",
              "      <th>class</th>\n",
              "      <th>seq_c</th>\n",
              "    </tr>\n",
              "  </thead>\n",
              "  <tbody>\n",
              "    <tr>\n",
              "      <th>0</th>\n",
              "      <td>a2d80ed662f34d32951eb1c6ed076c313e358b73</td>\n",
              "      <td>2018-06-04 16:26:55.053</td>\n",
              "      <td>0.78</td>\n",
              "      <td>-9.13</td>\n",
              "      <td>-3.74</td>\n",
              "      <td>bus</td>\n",
              "      <td>0</td>\n",
              "    </tr>\n",
              "    <tr>\n",
              "      <th>1</th>\n",
              "      <td>a2d80ed662f34d32951eb1c6ed076c313e358b73</td>\n",
              "      <td>2018-06-04 16:26:55.111</td>\n",
              "      <td>0.79</td>\n",
              "      <td>-9.11</td>\n",
              "      <td>-3.75</td>\n",
              "      <td>bus</td>\n",
              "      <td>0</td>\n",
              "    </tr>\n",
              "    <tr>\n",
              "      <th>2</th>\n",
              "      <td>a2d80ed662f34d32951eb1c6ed076c313e358b73</td>\n",
              "      <td>2018-06-04 16:26:55.169</td>\n",
              "      <td>0.80</td>\n",
              "      <td>-9.12</td>\n",
              "      <td>-3.75</td>\n",
              "      <td>bus</td>\n",
              "      <td>0</td>\n",
              "    </tr>\n",
              "    <tr>\n",
              "      <th>3</th>\n",
              "      <td>a2d80ed662f34d32951eb1c6ed076c313e358b73</td>\n",
              "      <td>2018-06-04 16:26:55.228</td>\n",
              "      <td>0.78</td>\n",
              "      <td>-9.14</td>\n",
              "      <td>-3.76</td>\n",
              "      <td>bus</td>\n",
              "      <td>0</td>\n",
              "    </tr>\n",
              "    <tr>\n",
              "      <th>4</th>\n",
              "      <td>a2d80ed662f34d32951eb1c6ed076c313e358b73</td>\n",
              "      <td>2018-06-04 16:26:55.286</td>\n",
              "      <td>0.83</td>\n",
              "      <td>-9.12</td>\n",
              "      <td>-3.80</td>\n",
              "      <td>bus</td>\n",
              "      <td>0</td>\n",
              "    </tr>\n",
              "  </tbody>\n",
              "</table>\n",
              "</div>\n",
              "      <button class=\"colab-df-convert\" onclick=\"convertToInteractive('df-dd655e8b-581d-4db0-80d4-9e0d0172f00b')\"\n",
              "              title=\"Convert this dataframe to an interactive table.\"\n",
              "              style=\"display:none;\">\n",
              "        \n",
              "  <svg xmlns=\"http://www.w3.org/2000/svg\" height=\"24px\"viewBox=\"0 0 24 24\"\n",
              "       width=\"24px\">\n",
              "    <path d=\"M0 0h24v24H0V0z\" fill=\"none\"/>\n",
              "    <path d=\"M18.56 5.44l.94 2.06.94-2.06 2.06-.94-2.06-.94-.94-2.06-.94 2.06-2.06.94zm-11 1L8.5 8.5l.94-2.06 2.06-.94-2.06-.94L8.5 2.5l-.94 2.06-2.06.94zm10 10l.94 2.06.94-2.06 2.06-.94-2.06-.94-.94-2.06-.94 2.06-2.06.94z\"/><path d=\"M17.41 7.96l-1.37-1.37c-.4-.4-.92-.59-1.43-.59-.52 0-1.04.2-1.43.59L10.3 9.45l-7.72 7.72c-.78.78-.78 2.05 0 2.83L4 21.41c.39.39.9.59 1.41.59.51 0 1.02-.2 1.41-.59l7.78-7.78 2.81-2.81c.8-.78.8-2.07 0-2.86zM5.41 20L4 18.59l7.72-7.72 1.47 1.35L5.41 20z\"/>\n",
              "  </svg>\n",
              "      </button>\n",
              "      \n",
              "  <style>\n",
              "    .colab-df-container {\n",
              "      display:flex;\n",
              "      flex-wrap:wrap;\n",
              "      gap: 12px;\n",
              "    }\n",
              "\n",
              "    .colab-df-convert {\n",
              "      background-color: #E8F0FE;\n",
              "      border: none;\n",
              "      border-radius: 50%;\n",
              "      cursor: pointer;\n",
              "      display: none;\n",
              "      fill: #1967D2;\n",
              "      height: 32px;\n",
              "      padding: 0 0 0 0;\n",
              "      width: 32px;\n",
              "    }\n",
              "\n",
              "    .colab-df-convert:hover {\n",
              "      background-color: #E2EBFA;\n",
              "      box-shadow: 0px 1px 2px rgba(60, 64, 67, 0.3), 0px 1px 3px 1px rgba(60, 64, 67, 0.15);\n",
              "      fill: #174EA6;\n",
              "    }\n",
              "\n",
              "    [theme=dark] .colab-df-convert {\n",
              "      background-color: #3B4455;\n",
              "      fill: #D2E3FC;\n",
              "    }\n",
              "\n",
              "    [theme=dark] .colab-df-convert:hover {\n",
              "      background-color: #434B5C;\n",
              "      box-shadow: 0px 1px 3px 1px rgba(0, 0, 0, 0.15);\n",
              "      filter: drop-shadow(0px 1px 2px rgba(0, 0, 0, 0.3));\n",
              "      fill: #FFFFFF;\n",
              "    }\n",
              "  </style>\n",
              "\n",
              "      <script>\n",
              "        const buttonEl =\n",
              "          document.querySelector('#df-dd655e8b-581d-4db0-80d4-9e0d0172f00b button.colab-df-convert');\n",
              "        buttonEl.style.display =\n",
              "          google.colab.kernel.accessAllowed ? 'block' : 'none';\n",
              "\n",
              "        async function convertToInteractive(key) {\n",
              "          const element = document.querySelector('#df-dd655e8b-581d-4db0-80d4-9e0d0172f00b');\n",
              "          const dataTable =\n",
              "            await google.colab.kernel.invokeFunction('convertToInteractive',\n",
              "                                                     [key], {});\n",
              "          if (!dataTable) return;\n",
              "\n",
              "          const docLinkHtml = 'Like what you see? Visit the ' +\n",
              "            '<a target=\"_blank\" href=https://colab.research.google.com/notebooks/data_table.ipynb>data table notebook</a>'\n",
              "            + ' to learn more about interactive tables.';\n",
              "          element.innerHTML = '';\n",
              "          dataTable['output_type'] = 'display_data';\n",
              "          await google.colab.output.renderOutput(dataTable, element);\n",
              "          const docLink = document.createElement('div');\n",
              "          docLink.innerHTML = docLinkHtml;\n",
              "          element.appendChild(docLink);\n",
              "        }\n",
              "      </script>\n",
              "    </div>\n",
              "  </div>\n",
              "  "
            ],
            "text/plain": [
              "                                       user                timestamp     x  \\\n",
              "0  a2d80ed662f34d32951eb1c6ed076c313e358b73  2018-06-04 16:26:55.053  0.78   \n",
              "1  a2d80ed662f34d32951eb1c6ed076c313e358b73  2018-06-04 16:26:55.111  0.79   \n",
              "2  a2d80ed662f34d32951eb1c6ed076c313e358b73  2018-06-04 16:26:55.169  0.80   \n",
              "3  a2d80ed662f34d32951eb1c6ed076c313e358b73  2018-06-04 16:26:55.228  0.78   \n",
              "4  a2d80ed662f34d32951eb1c6ed076c313e358b73  2018-06-04 16:26:55.286  0.83   \n",
              "\n",
              "      y     z class  seq_c  \n",
              "0 -9.13 -3.74   bus      0  \n",
              "1 -9.11 -3.75   bus      0  \n",
              "2 -9.12 -3.75   bus      0  \n",
              "3 -9.14 -3.76   bus      0  \n",
              "4 -9.12 -3.80   bus      0  "
            ]
          },
          "metadata": {},
          "execution_count": 16
        }
      ]
    },
    {
      "cell_type": "code",
      "source": [
        "df['time_s'] = df['timestamp'].shift(1, axis=0)"
      ],
      "metadata": {
        "id": "rqWA3wYQk4Ml"
      },
      "execution_count": 72,
      "outputs": []
    },
    {
      "cell_type": "code",
      "source": [
        "df.head()"
      ],
      "metadata": {
        "colab": {
          "base_uri": "https://localhost:8080/",
          "height": 206
        },
        "id": "QnUnwbaHlsSn",
        "outputId": "71d3b43c-64cb-4cc7-deeb-f0d54efb2170"
      },
      "execution_count": 73,
      "outputs": [
        {
          "output_type": "execute_result",
          "data": {
            "text/html": [
              "\n",
              "  <div id=\"df-7c3645a9-b0d1-417d-aa70-14affca3a7e9\">\n",
              "    <div class=\"colab-df-container\">\n",
              "      <div>\n",
              "<style scoped>\n",
              "    .dataframe tbody tr th:only-of-type {\n",
              "        vertical-align: middle;\n",
              "    }\n",
              "\n",
              "    .dataframe tbody tr th {\n",
              "        vertical-align: top;\n",
              "    }\n",
              "\n",
              "    .dataframe thead th {\n",
              "        text-align: right;\n",
              "    }\n",
              "</style>\n",
              "<table border=\"1\" class=\"dataframe\">\n",
              "  <thead>\n",
              "    <tr style=\"text-align: right;\">\n",
              "      <th></th>\n",
              "      <th>user</th>\n",
              "      <th>timestamp</th>\n",
              "      <th>x</th>\n",
              "      <th>y</th>\n",
              "      <th>z</th>\n",
              "      <th>class</th>\n",
              "      <th>time_s</th>\n",
              "      <th>time_d</th>\n",
              "      <th>sequence</th>\n",
              "      <th>min_t</th>\n",
              "      <th>part_idx</th>\n",
              "      <th>seq_c</th>\n",
              "    </tr>\n",
              "  </thead>\n",
              "  <tbody>\n",
              "    <tr>\n",
              "      <th>0</th>\n",
              "      <td>a2d80ed662f34d32951eb1c6ed076c313e358b73</td>\n",
              "      <td>2018-06-04 16:26:55</td>\n",
              "      <td>0.78</td>\n",
              "      <td>-9.13</td>\n",
              "      <td>-3.74</td>\n",
              "      <td>bus</td>\n",
              "      <td>NaT</td>\n",
              "      <td>NaN</td>\n",
              "      <td>1</td>\n",
              "      <td>2018-04-10 08:17:42</td>\n",
              "      <td>1-&gt;956270</td>\n",
              "      <td>0</td>\n",
              "    </tr>\n",
              "    <tr>\n",
              "      <th>1</th>\n",
              "      <td>a2d80ed662f34d32951eb1c6ed076c313e358b73</td>\n",
              "      <td>2018-06-04 16:26:55</td>\n",
              "      <td>0.79</td>\n",
              "      <td>-9.11</td>\n",
              "      <td>-3.75</td>\n",
              "      <td>bus</td>\n",
              "      <td>2018-06-04 16:26:55</td>\n",
              "      <td>0.0</td>\n",
              "      <td>0</td>\n",
              "      <td>2018-04-10 08:17:42</td>\n",
              "      <td>1-&gt;956270</td>\n",
              "      <td>0</td>\n",
              "    </tr>\n",
              "    <tr>\n",
              "      <th>2</th>\n",
              "      <td>a2d80ed662f34d32951eb1c6ed076c313e358b73</td>\n",
              "      <td>2018-06-04 16:26:55</td>\n",
              "      <td>0.80</td>\n",
              "      <td>-9.12</td>\n",
              "      <td>-3.75</td>\n",
              "      <td>bus</td>\n",
              "      <td>2018-06-04 16:26:55</td>\n",
              "      <td>0.0</td>\n",
              "      <td>0</td>\n",
              "      <td>2018-04-10 08:17:42</td>\n",
              "      <td>1-&gt;956270</td>\n",
              "      <td>0</td>\n",
              "    </tr>\n",
              "    <tr>\n",
              "      <th>3</th>\n",
              "      <td>a2d80ed662f34d32951eb1c6ed076c313e358b73</td>\n",
              "      <td>2018-06-04 16:26:55</td>\n",
              "      <td>0.78</td>\n",
              "      <td>-9.14</td>\n",
              "      <td>-3.76</td>\n",
              "      <td>bus</td>\n",
              "      <td>2018-06-04 16:26:55</td>\n",
              "      <td>0.0</td>\n",
              "      <td>0</td>\n",
              "      <td>2018-04-10 08:17:42</td>\n",
              "      <td>1-&gt;956270</td>\n",
              "      <td>0</td>\n",
              "    </tr>\n",
              "    <tr>\n",
              "      <th>4</th>\n",
              "      <td>a2d80ed662f34d32951eb1c6ed076c313e358b73</td>\n",
              "      <td>2018-06-04 16:26:55</td>\n",
              "      <td>0.83</td>\n",
              "      <td>-9.12</td>\n",
              "      <td>-3.80</td>\n",
              "      <td>bus</td>\n",
              "      <td>2018-06-04 16:26:55</td>\n",
              "      <td>0.0</td>\n",
              "      <td>0</td>\n",
              "      <td>2018-04-10 08:17:42</td>\n",
              "      <td>1-&gt;956270</td>\n",
              "      <td>0</td>\n",
              "    </tr>\n",
              "  </tbody>\n",
              "</table>\n",
              "</div>\n",
              "      <button class=\"colab-df-convert\" onclick=\"convertToInteractive('df-7c3645a9-b0d1-417d-aa70-14affca3a7e9')\"\n",
              "              title=\"Convert this dataframe to an interactive table.\"\n",
              "              style=\"display:none;\">\n",
              "        \n",
              "  <svg xmlns=\"http://www.w3.org/2000/svg\" height=\"24px\"viewBox=\"0 0 24 24\"\n",
              "       width=\"24px\">\n",
              "    <path d=\"M0 0h24v24H0V0z\" fill=\"none\"/>\n",
              "    <path d=\"M18.56 5.44l.94 2.06.94-2.06 2.06-.94-2.06-.94-.94-2.06-.94 2.06-2.06.94zm-11 1L8.5 8.5l.94-2.06 2.06-.94-2.06-.94L8.5 2.5l-.94 2.06-2.06.94zm10 10l.94 2.06.94-2.06 2.06-.94-2.06-.94-.94-2.06-.94 2.06-2.06.94z\"/><path d=\"M17.41 7.96l-1.37-1.37c-.4-.4-.92-.59-1.43-.59-.52 0-1.04.2-1.43.59L10.3 9.45l-7.72 7.72c-.78.78-.78 2.05 0 2.83L4 21.41c.39.39.9.59 1.41.59.51 0 1.02-.2 1.41-.59l7.78-7.78 2.81-2.81c.8-.78.8-2.07 0-2.86zM5.41 20L4 18.59l7.72-7.72 1.47 1.35L5.41 20z\"/>\n",
              "  </svg>\n",
              "      </button>\n",
              "      \n",
              "  <style>\n",
              "    .colab-df-container {\n",
              "      display:flex;\n",
              "      flex-wrap:wrap;\n",
              "      gap: 12px;\n",
              "    }\n",
              "\n",
              "    .colab-df-convert {\n",
              "      background-color: #E8F0FE;\n",
              "      border: none;\n",
              "      border-radius: 50%;\n",
              "      cursor: pointer;\n",
              "      display: none;\n",
              "      fill: #1967D2;\n",
              "      height: 32px;\n",
              "      padding: 0 0 0 0;\n",
              "      width: 32px;\n",
              "    }\n",
              "\n",
              "    .colab-df-convert:hover {\n",
              "      background-color: #E2EBFA;\n",
              "      box-shadow: 0px 1px 2px rgba(60, 64, 67, 0.3), 0px 1px 3px 1px rgba(60, 64, 67, 0.15);\n",
              "      fill: #174EA6;\n",
              "    }\n",
              "\n",
              "    [theme=dark] .colab-df-convert {\n",
              "      background-color: #3B4455;\n",
              "      fill: #D2E3FC;\n",
              "    }\n",
              "\n",
              "    [theme=dark] .colab-df-convert:hover {\n",
              "      background-color: #434B5C;\n",
              "      box-shadow: 0px 1px 3px 1px rgba(0, 0, 0, 0.15);\n",
              "      filter: drop-shadow(0px 1px 2px rgba(0, 0, 0, 0.3));\n",
              "      fill: #FFFFFF;\n",
              "    }\n",
              "  </style>\n",
              "\n",
              "      <script>\n",
              "        const buttonEl =\n",
              "          document.querySelector('#df-7c3645a9-b0d1-417d-aa70-14affca3a7e9 button.colab-df-convert');\n",
              "        buttonEl.style.display =\n",
              "          google.colab.kernel.accessAllowed ? 'block' : 'none';\n",
              "\n",
              "        async function convertToInteractive(key) {\n",
              "          const element = document.querySelector('#df-7c3645a9-b0d1-417d-aa70-14affca3a7e9');\n",
              "          const dataTable =\n",
              "            await google.colab.kernel.invokeFunction('convertToInteractive',\n",
              "                                                     [key], {});\n",
              "          if (!dataTable) return;\n",
              "\n",
              "          const docLinkHtml = 'Like what you see? Visit the ' +\n",
              "            '<a target=\"_blank\" href=https://colab.research.google.com/notebooks/data_table.ipynb>data table notebook</a>'\n",
              "            + ' to learn more about interactive tables.';\n",
              "          element.innerHTML = '';\n",
              "          dataTable['output_type'] = 'display_data';\n",
              "          await google.colab.output.renderOutput(dataTable, element);\n",
              "          const docLink = document.createElement('div');\n",
              "          docLink.innerHTML = docLinkHtml;\n",
              "          element.appendChild(docLink);\n",
              "        }\n",
              "      </script>\n",
              "    </div>\n",
              "  </div>\n",
              "  "
            ],
            "text/plain": [
              "                                       user           timestamp     x     y  \\\n",
              "0  a2d80ed662f34d32951eb1c6ed076c313e358b73 2018-06-04 16:26:55  0.78 -9.13   \n",
              "1  a2d80ed662f34d32951eb1c6ed076c313e358b73 2018-06-04 16:26:55  0.79 -9.11   \n",
              "2  a2d80ed662f34d32951eb1c6ed076c313e358b73 2018-06-04 16:26:55  0.80 -9.12   \n",
              "3  a2d80ed662f34d32951eb1c6ed076c313e358b73 2018-06-04 16:26:55  0.78 -9.14   \n",
              "4  a2d80ed662f34d32951eb1c6ed076c313e358b73 2018-06-04 16:26:55  0.83 -9.12   \n",
              "\n",
              "      z class              time_s  time_d  sequence               min_t  \\\n",
              "0 -3.74   bus                 NaT     NaN         1 2018-04-10 08:17:42   \n",
              "1 -3.75   bus 2018-06-04 16:26:55     0.0         0 2018-04-10 08:17:42   \n",
              "2 -3.75   bus 2018-06-04 16:26:55     0.0         0 2018-04-10 08:17:42   \n",
              "3 -3.76   bus 2018-06-04 16:26:55     0.0         0 2018-04-10 08:17:42   \n",
              "4 -3.80   bus 2018-06-04 16:26:55     0.0         0 2018-04-10 08:17:42   \n",
              "\n",
              "    part_idx  seq_c  \n",
              "0  1->956270      0  \n",
              "1  1->956270      0  \n",
              "2  1->956270      0  \n",
              "3  1->956270      0  \n",
              "4  1->956270      0  "
            ]
          },
          "metadata": {},
          "execution_count": 73
        }
      ]
    },
    {
      "cell_type": "code",
      "source": [
        "df['timestamp'] = df['timestamp'].astype('datetime64[s]')\n",
        "df['time_s'] = df['time_s'].astype('datetime64[s]')"
      ],
      "metadata": {
        "id": "Q2LAR_hYlshL"
      },
      "execution_count": 76,
      "outputs": []
    },
    {
      "cell_type": "code",
      "source": [
        "df['time_d'] = (df['timestamp'] - df['time_s'])/np.timedelta64(1, 's')"
      ],
      "metadata": {
        "id": "igc0QzJz5X-B"
      },
      "execution_count": 77,
      "outputs": []
    },
    {
      "cell_type": "code",
      "source": [
        "# df['time_d']"
      ],
      "metadata": {
        "id": "0H3-o7fK5YA4",
        "outputId": "cf237a9f-302f-4ca6-d585-22abe061ebd4",
        "colab": {
          "base_uri": "https://localhost:8080/"
        }
      },
      "execution_count": 21,
      "outputs": [
        {
          "output_type": "execute_result",
          "data": {
            "text/plain": [
              "0          NaN\n",
              "1          0.0\n",
              "2          0.0\n",
              "3          0.0\n",
              "4          0.0\n",
              "          ... \n",
              "5653048    0.0\n",
              "5653049    0.0\n",
              "5653050    0.0\n",
              "5653051    0.0\n",
              "5653052    1.0\n",
              "Name: time_d, Length: 5653053, dtype: float64"
            ]
          },
          "metadata": {},
          "execution_count": 21
        }
      ]
    },
    {
      "cell_type": "code",
      "source": [
        "rows = df['user'].unique()\n",
        "col = df['class'].unique()"
      ],
      "metadata": {
        "id": "B0gzKGs3EBPj"
      },
      "execution_count": 78,
      "outputs": []
    },
    {
      "cell_type": "code",
      "source": [
        "rows_len = len(df['user'].unique())\n",
        "col_len = len(df['class'].unique())"
      ],
      "metadata": {
        "id": "xysQXXaIAxX4"
      },
      "execution_count": 79,
      "outputs": []
    },
    {
      "cell_type": "code",
      "source": [
        "num_seq = np.zeros((rows_len, col_len))"
      ],
      "metadata": {
        "id": "iJ6QS2Vo-9Q7"
      },
      "execution_count": 80,
      "outputs": []
    },
    {
      "cell_type": "code",
      "source": [
        "df_num_seq = pd.DataFrame(num_seq, index = rows,columns=col)"
      ],
      "metadata": {
        "id": "Wi-upGGeegl_"
      },
      "execution_count": 81,
      "outputs": []
    },
    {
      "cell_type": "code",
      "source": [
        "df['sequence'] = np.zeros(df.shape[0],int)"
      ],
      "metadata": {
        "id": "S2jfD8-khpJG"
      },
      "execution_count": 82,
      "outputs": []
    },
    {
      "cell_type": "code",
      "source": [
        "df['sequence'][0] = 1"
      ],
      "metadata": {
        "colab": {
          "base_uri": "https://localhost:8080/"
        },
        "id": "i46BzfX-hxeZ",
        "outputId": "707923cf-2088-4fbb-9821-a9210fd69a47"
      },
      "execution_count": 83,
      "outputs": [
        {
          "output_type": "stream",
          "name": "stderr",
          "text": [
            "/usr/local/lib/python3.7/dist-packages/ipykernel_launcher.py:1: SettingWithCopyWarning: \n",
            "A value is trying to be set on a copy of a slice from a DataFrame\n",
            "\n",
            "See the caveats in the documentation: https://pandas.pydata.org/pandas-docs/stable/user_guide/indexing.html#returning-a-view-versus-a-copy\n",
            "  \"\"\"Entry point for launching an IPython kernel.\n"
          ]
        }
      ]
    },
    {
      "cell_type": "code",
      "source": [
        "for i in range(len(df['seq_c'])):\n",
        "  if df['seq_c'][i] == 1 or df['time_d'][i] > 10:\n",
        "\n",
        "    df_num_seq.loc[df['user'][i], df['class'][i]] +=1\n",
        "    df['sequence'][i] = 1\n",
        "    "
      ],
      "metadata": {
        "colab": {
          "base_uri": "https://localhost:8080/"
        },
        "id": "VBbvVLNmeGAc",
        "outputId": "3b3863b5-bb31-4649-ec82-5a1921fa6d58"
      },
      "execution_count": 84,
      "outputs": [
        {
          "output_type": "stream",
          "name": "stderr",
          "text": [
            "/usr/local/lib/python3.7/dist-packages/ipykernel_launcher.py:5: SettingWithCopyWarning: \n",
            "A value is trying to be set on a copy of a slice from a DataFrame\n",
            "\n",
            "See the caveats in the documentation: https://pandas.pydata.org/pandas-docs/stable/user_guide/indexing.html#returning-a-view-versus-a-copy\n",
            "  \"\"\"\n"
          ]
        }
      ]
    },
    {
      "cell_type": "code",
      "source": [
        "df_num_seq"
      ],
      "metadata": {
        "id": "j78QSxfQDO17",
        "colab": {
          "base_uri": "https://localhost:8080/",
          "height": 1000
        },
        "outputId": "5a267a29-ec2a-47ef-9696-47e7edf37900"
      },
      "execution_count": 36,
      "outputs": [
        {
          "output_type": "execute_result",
          "data": {
            "text/html": [
              "\n",
              "  <div id=\"df-fd27b4b8-a145-47b5-aeef-31890bd09115\">\n",
              "    <div class=\"colab-df-container\">\n",
              "      <div>\n",
              "<style scoped>\n",
              "    .dataframe tbody tr th:only-of-type {\n",
              "        vertical-align: middle;\n",
              "    }\n",
              "\n",
              "    .dataframe tbody tr th {\n",
              "        vertical-align: top;\n",
              "    }\n",
              "\n",
              "    .dataframe thead th {\n",
              "        text-align: right;\n",
              "    }\n",
              "</style>\n",
              "<table border=\"1\" class=\"dataframe\">\n",
              "  <thead>\n",
              "    <tr style=\"text-align: right;\">\n",
              "      <th></th>\n",
              "      <th>bus</th>\n",
              "      <th>walk</th>\n",
              "      <th>car</th>\n",
              "      <th>bike</th>\n",
              "      <th>train</th>\n",
              "      <th>e-bike</th>\n",
              "    </tr>\n",
              "  </thead>\n",
              "  <tbody>\n",
              "    <tr>\n",
              "      <th>a2d80ed662f34d32951eb1c6ed076c313e358b73</th>\n",
              "      <td>12.0</td>\n",
              "      <td>0.0</td>\n",
              "      <td>0.0</td>\n",
              "      <td>0.0</td>\n",
              "      <td>0.0</td>\n",
              "      <td>0.0</td>\n",
              "    </tr>\n",
              "    <tr>\n",
              "      <th>a526f3566e9c9024dfa7378eb4291d787a09fd37</th>\n",
              "      <td>0.0</td>\n",
              "      <td>22.0</td>\n",
              "      <td>17.0</td>\n",
              "      <td>0.0</td>\n",
              "      <td>0.0</td>\n",
              "      <td>0.0</td>\n",
              "    </tr>\n",
              "    <tr>\n",
              "      <th>a59868c6eb3645eedbb343ce8c336ec6f2ef2324</th>\n",
              "      <td>20.0</td>\n",
              "      <td>13.0</td>\n",
              "      <td>69.0</td>\n",
              "      <td>40.0</td>\n",
              "      <td>0.0</td>\n",
              "      <td>0.0</td>\n",
              "    </tr>\n",
              "    <tr>\n",
              "      <th>a92dee88f61123f923dccec01eeecf1a81953b36</th>\n",
              "      <td>3.0</td>\n",
              "      <td>0.0</td>\n",
              "      <td>0.0</td>\n",
              "      <td>0.0</td>\n",
              "      <td>0.0</td>\n",
              "      <td>0.0</td>\n",
              "    </tr>\n",
              "    <tr>\n",
              "      <th>ac4c17afeb69b39169eb301ab592696a8f353976</th>\n",
              "      <td>0.0</td>\n",
              "      <td>58.0</td>\n",
              "      <td>21.0</td>\n",
              "      <td>0.0</td>\n",
              "      <td>0.0</td>\n",
              "      <td>0.0</td>\n",
              "    </tr>\n",
              "    <tr>\n",
              "      <th>adaaae1a67ea9e43abd60ba945eccda0cb8821e0</th>\n",
              "      <td>24.0</td>\n",
              "      <td>11.0</td>\n",
              "      <td>20.0</td>\n",
              "      <td>0.0</td>\n",
              "      <td>0.0</td>\n",
              "      <td>0.0</td>\n",
              "    </tr>\n",
              "    <tr>\n",
              "      <th>b138d165100ef60bc793cac143742eb5aea4d6ba</th>\n",
              "      <td>0.0</td>\n",
              "      <td>0.0</td>\n",
              "      <td>10.0</td>\n",
              "      <td>0.0</td>\n",
              "      <td>0.0</td>\n",
              "      <td>0.0</td>\n",
              "    </tr>\n",
              "    <tr>\n",
              "      <th>b45157069942d01310c3e7b74034166717bb25f9</th>\n",
              "      <td>0.0</td>\n",
              "      <td>4.0</td>\n",
              "      <td>5.0</td>\n",
              "      <td>0.0</td>\n",
              "      <td>0.0</td>\n",
              "      <td>0.0</td>\n",
              "    </tr>\n",
              "    <tr>\n",
              "      <th>b7b165e5637b5a0226068d907748f4bbfc61a320</th>\n",
              "      <td>0.0</td>\n",
              "      <td>13.0</td>\n",
              "      <td>194.0</td>\n",
              "      <td>0.0</td>\n",
              "      <td>0.0</td>\n",
              "      <td>0.0</td>\n",
              "    </tr>\n",
              "    <tr>\n",
              "      <th>c453226e3616ae821cdcb38f38481c2a20f2482f</th>\n",
              "      <td>287.0</td>\n",
              "      <td>0.0</td>\n",
              "      <td>0.0</td>\n",
              "      <td>170.0</td>\n",
              "      <td>0.0</td>\n",
              "      <td>0.0</td>\n",
              "    </tr>\n",
              "    <tr>\n",
              "      <th>c5702d34b238fe68683f818e82cd3a3cd8a16366</th>\n",
              "      <td>15.0</td>\n",
              "      <td>123.0</td>\n",
              "      <td>0.0</td>\n",
              "      <td>16.0</td>\n",
              "      <td>0.0</td>\n",
              "      <td>0.0</td>\n",
              "    </tr>\n",
              "    <tr>\n",
              "      <th>ca7950f223a8037b897d0547075dc138f9e43b20</th>\n",
              "      <td>0.0</td>\n",
              "      <td>3.0</td>\n",
              "      <td>0.0</td>\n",
              "      <td>0.0</td>\n",
              "      <td>0.0</td>\n",
              "      <td>0.0</td>\n",
              "    </tr>\n",
              "    <tr>\n",
              "      <th>cace4ec0999436917986b4fa6e9317262c897bc2</th>\n",
              "      <td>0.0</td>\n",
              "      <td>0.0</td>\n",
              "      <td>73.0</td>\n",
              "      <td>0.0</td>\n",
              "      <td>0.0</td>\n",
              "      <td>0.0</td>\n",
              "    </tr>\n",
              "    <tr>\n",
              "      <th>cbde60baea002b694ecf2a3ff2d95be16b00efe1</th>\n",
              "      <td>4.0</td>\n",
              "      <td>0.0</td>\n",
              "      <td>0.0</td>\n",
              "      <td>0.0</td>\n",
              "      <td>0.0</td>\n",
              "      <td>0.0</td>\n",
              "    </tr>\n",
              "    <tr>\n",
              "      <th>ce39f5d0705695fcd70a04ba6d84ac6beecd6f9c</th>\n",
              "      <td>22.0</td>\n",
              "      <td>0.0</td>\n",
              "      <td>80.0</td>\n",
              "      <td>0.0</td>\n",
              "      <td>0.0</td>\n",
              "      <td>0.0</td>\n",
              "    </tr>\n",
              "    <tr>\n",
              "      <th>d429974540bfd38c3367fe9f0c8682775ff4fa18</th>\n",
              "      <td>7.0</td>\n",
              "      <td>3.0</td>\n",
              "      <td>121.0</td>\n",
              "      <td>0.0</td>\n",
              "      <td>0.0</td>\n",
              "      <td>0.0</td>\n",
              "    </tr>\n",
              "    <tr>\n",
              "      <th>d7a1230d94f91a32cc079809748e52e8a4a6a22f</th>\n",
              "      <td>0.0</td>\n",
              "      <td>7.0</td>\n",
              "      <td>0.0</td>\n",
              "      <td>152.0</td>\n",
              "      <td>14.0</td>\n",
              "      <td>0.0</td>\n",
              "    </tr>\n",
              "    <tr>\n",
              "      <th>d7dd12d83c81574137f858034b99f4cc83ab0718</th>\n",
              "      <td>0.0</td>\n",
              "      <td>0.0</td>\n",
              "      <td>144.0</td>\n",
              "      <td>0.0</td>\n",
              "      <td>0.0</td>\n",
              "      <td>0.0</td>\n",
              "    </tr>\n",
              "    <tr>\n",
              "      <th>d8c047eaaee204b7b5cd71e2d67308b87b038ed3</th>\n",
              "      <td>0.0</td>\n",
              "      <td>26.0</td>\n",
              "      <td>14.0</td>\n",
              "      <td>0.0</td>\n",
              "      <td>0.0</td>\n",
              "      <td>0.0</td>\n",
              "    </tr>\n",
              "    <tr>\n",
              "      <th>dc0bdce306ec3b624fe0e6ecd1ffbd82cb970120</th>\n",
              "      <td>0.0</td>\n",
              "      <td>5.0</td>\n",
              "      <td>30.0</td>\n",
              "      <td>110.0</td>\n",
              "      <td>0.0</td>\n",
              "      <td>0.0</td>\n",
              "    </tr>\n",
              "    <tr>\n",
              "      <th>dd82e3df4bebc74ed6b67877be79e29f401c16a3</th>\n",
              "      <td>0.0</td>\n",
              "      <td>3.0</td>\n",
              "      <td>67.0</td>\n",
              "      <td>0.0</td>\n",
              "      <td>0.0</td>\n",
              "      <td>0.0</td>\n",
              "    </tr>\n",
              "    <tr>\n",
              "      <th>dde95e125d89843f7032baa734ee4d34ec775aaf</th>\n",
              "      <td>5.0</td>\n",
              "      <td>9.0</td>\n",
              "      <td>2.0</td>\n",
              "      <td>0.0</td>\n",
              "      <td>0.0</td>\n",
              "      <td>0.0</td>\n",
              "    </tr>\n",
              "    <tr>\n",
              "      <th>de9892b879c83ea3d24fb4560873107cc4e86d48</th>\n",
              "      <td>0.0</td>\n",
              "      <td>35.0</td>\n",
              "      <td>109.0</td>\n",
              "      <td>0.0</td>\n",
              "      <td>0.0</td>\n",
              "      <td>0.0</td>\n",
              "    </tr>\n",
              "    <tr>\n",
              "      <th>dfcfc0404691b73b69884073159f90843f2ac35b</th>\n",
              "      <td>49.0</td>\n",
              "      <td>155.0</td>\n",
              "      <td>104.0</td>\n",
              "      <td>0.0</td>\n",
              "      <td>0.0</td>\n",
              "      <td>0.0</td>\n",
              "    </tr>\n",
              "    <tr>\n",
              "      <th>e429a95c532f1117130c11e4a18379d84fa4ffa9</th>\n",
              "      <td>41.0</td>\n",
              "      <td>0.0</td>\n",
              "      <td>35.0</td>\n",
              "      <td>0.0</td>\n",
              "      <td>0.0</td>\n",
              "      <td>0.0</td>\n",
              "    </tr>\n",
              "    <tr>\n",
              "      <th>eb9e7854290fd6ea9ebaf448b640fc1f1dbeb076</th>\n",
              "      <td>4.0</td>\n",
              "      <td>3.0</td>\n",
              "      <td>0.0</td>\n",
              "      <td>0.0</td>\n",
              "      <td>2.0</td>\n",
              "      <td>0.0</td>\n",
              "    </tr>\n",
              "    <tr>\n",
              "      <th>ecfb0929250fb6dda66a4065441230ab27f094e5</th>\n",
              "      <td>0.0</td>\n",
              "      <td>0.0</td>\n",
              "      <td>140.0</td>\n",
              "      <td>0.0</td>\n",
              "      <td>2.0</td>\n",
              "      <td>16.0</td>\n",
              "    </tr>\n",
              "    <tr>\n",
              "      <th>ed623d28c1e0071632a6110b8f8ed93f8af78b99</th>\n",
              "      <td>11.0</td>\n",
              "      <td>4.0</td>\n",
              "      <td>114.0</td>\n",
              "      <td>0.0</td>\n",
              "      <td>0.0</td>\n",
              "      <td>0.0</td>\n",
              "    </tr>\n",
              "    <tr>\n",
              "      <th>f1b7331b66e404c11eebb22933e733117bbb12c9</th>\n",
              "      <td>0.0</td>\n",
              "      <td>74.0</td>\n",
              "      <td>136.0</td>\n",
              "      <td>175.0</td>\n",
              "      <td>0.0</td>\n",
              "      <td>0.0</td>\n",
              "    </tr>\n",
              "    <tr>\n",
              "      <th>f5edd999397145a2ec1b244226fc83f99631760c</th>\n",
              "      <td>16.0</td>\n",
              "      <td>14.0</td>\n",
              "      <td>0.0</td>\n",
              "      <td>0.0</td>\n",
              "      <td>0.0</td>\n",
              "      <td>0.0</td>\n",
              "    </tr>\n",
              "    <tr>\n",
              "      <th>f7ae1ce141c26db40ea8b090fb568a0c965310aa</th>\n",
              "      <td>0.0</td>\n",
              "      <td>0.0</td>\n",
              "      <td>3.0</td>\n",
              "      <td>0.0</td>\n",
              "      <td>0.0</td>\n",
              "      <td>0.0</td>\n",
              "    </tr>\n",
              "    <tr>\n",
              "      <th>faae5be800be2dfa897eea0bd2e5988cd53c4ec0</th>\n",
              "      <td>0.0</td>\n",
              "      <td>36.0</td>\n",
              "      <td>11.0</td>\n",
              "      <td>137.0</td>\n",
              "      <td>0.0</td>\n",
              "      <td>0.0</td>\n",
              "    </tr>\n",
              "  </tbody>\n",
              "</table>\n",
              "</div>\n",
              "      <button class=\"colab-df-convert\" onclick=\"convertToInteractive('df-fd27b4b8-a145-47b5-aeef-31890bd09115')\"\n",
              "              title=\"Convert this dataframe to an interactive table.\"\n",
              "              style=\"display:none;\">\n",
              "        \n",
              "  <svg xmlns=\"http://www.w3.org/2000/svg\" height=\"24px\"viewBox=\"0 0 24 24\"\n",
              "       width=\"24px\">\n",
              "    <path d=\"M0 0h24v24H0V0z\" fill=\"none\"/>\n",
              "    <path d=\"M18.56 5.44l.94 2.06.94-2.06 2.06-.94-2.06-.94-.94-2.06-.94 2.06-2.06.94zm-11 1L8.5 8.5l.94-2.06 2.06-.94-2.06-.94L8.5 2.5l-.94 2.06-2.06.94zm10 10l.94 2.06.94-2.06 2.06-.94-2.06-.94-.94-2.06-.94 2.06-2.06.94z\"/><path d=\"M17.41 7.96l-1.37-1.37c-.4-.4-.92-.59-1.43-.59-.52 0-1.04.2-1.43.59L10.3 9.45l-7.72 7.72c-.78.78-.78 2.05 0 2.83L4 21.41c.39.39.9.59 1.41.59.51 0 1.02-.2 1.41-.59l7.78-7.78 2.81-2.81c.8-.78.8-2.07 0-2.86zM5.41 20L4 18.59l7.72-7.72 1.47 1.35L5.41 20z\"/>\n",
              "  </svg>\n",
              "      </button>\n",
              "      \n",
              "  <style>\n",
              "    .colab-df-container {\n",
              "      display:flex;\n",
              "      flex-wrap:wrap;\n",
              "      gap: 12px;\n",
              "    }\n",
              "\n",
              "    .colab-df-convert {\n",
              "      background-color: #E8F0FE;\n",
              "      border: none;\n",
              "      border-radius: 50%;\n",
              "      cursor: pointer;\n",
              "      display: none;\n",
              "      fill: #1967D2;\n",
              "      height: 32px;\n",
              "      padding: 0 0 0 0;\n",
              "      width: 32px;\n",
              "    }\n",
              "\n",
              "    .colab-df-convert:hover {\n",
              "      background-color: #E2EBFA;\n",
              "      box-shadow: 0px 1px 2px rgba(60, 64, 67, 0.3), 0px 1px 3px 1px rgba(60, 64, 67, 0.15);\n",
              "      fill: #174EA6;\n",
              "    }\n",
              "\n",
              "    [theme=dark] .colab-df-convert {\n",
              "      background-color: #3B4455;\n",
              "      fill: #D2E3FC;\n",
              "    }\n",
              "\n",
              "    [theme=dark] .colab-df-convert:hover {\n",
              "      background-color: #434B5C;\n",
              "      box-shadow: 0px 1px 3px 1px rgba(0, 0, 0, 0.15);\n",
              "      filter: drop-shadow(0px 1px 2px rgba(0, 0, 0, 0.3));\n",
              "      fill: #FFFFFF;\n",
              "    }\n",
              "  </style>\n",
              "\n",
              "      <script>\n",
              "        const buttonEl =\n",
              "          document.querySelector('#df-fd27b4b8-a145-47b5-aeef-31890bd09115 button.colab-df-convert');\n",
              "        buttonEl.style.display =\n",
              "          google.colab.kernel.accessAllowed ? 'block' : 'none';\n",
              "\n",
              "        async function convertToInteractive(key) {\n",
              "          const element = document.querySelector('#df-fd27b4b8-a145-47b5-aeef-31890bd09115');\n",
              "          const dataTable =\n",
              "            await google.colab.kernel.invokeFunction('convertToInteractive',\n",
              "                                                     [key], {});\n",
              "          if (!dataTable) return;\n",
              "\n",
              "          const docLinkHtml = 'Like what you see? Visit the ' +\n",
              "            '<a target=\"_blank\" href=https://colab.research.google.com/notebooks/data_table.ipynb>data table notebook</a>'\n",
              "            + ' to learn more about interactive tables.';\n",
              "          element.innerHTML = '';\n",
              "          dataTable['output_type'] = 'display_data';\n",
              "          await google.colab.output.renderOutput(dataTable, element);\n",
              "          const docLink = document.createElement('div');\n",
              "          docLink.innerHTML = docLinkHtml;\n",
              "          element.appendChild(docLink);\n",
              "        }\n",
              "      </script>\n",
              "    </div>\n",
              "  </div>\n",
              "  "
            ],
            "text/plain": [
              "                                            bus   walk    car   bike  train  \\\n",
              "a2d80ed662f34d32951eb1c6ed076c313e358b73   12.0    0.0    0.0    0.0    0.0   \n",
              "a526f3566e9c9024dfa7378eb4291d787a09fd37    0.0   22.0   17.0    0.0    0.0   \n",
              "a59868c6eb3645eedbb343ce8c336ec6f2ef2324   20.0   13.0   69.0   40.0    0.0   \n",
              "a92dee88f61123f923dccec01eeecf1a81953b36    3.0    0.0    0.0    0.0    0.0   \n",
              "ac4c17afeb69b39169eb301ab592696a8f353976    0.0   58.0   21.0    0.0    0.0   \n",
              "adaaae1a67ea9e43abd60ba945eccda0cb8821e0   24.0   11.0   20.0    0.0    0.0   \n",
              "b138d165100ef60bc793cac143742eb5aea4d6ba    0.0    0.0   10.0    0.0    0.0   \n",
              "b45157069942d01310c3e7b74034166717bb25f9    0.0    4.0    5.0    0.0    0.0   \n",
              "b7b165e5637b5a0226068d907748f4bbfc61a320    0.0   13.0  194.0    0.0    0.0   \n",
              "c453226e3616ae821cdcb38f38481c2a20f2482f  287.0    0.0    0.0  170.0    0.0   \n",
              "c5702d34b238fe68683f818e82cd3a3cd8a16366   15.0  123.0    0.0   16.0    0.0   \n",
              "ca7950f223a8037b897d0547075dc138f9e43b20    0.0    3.0    0.0    0.0    0.0   \n",
              "cace4ec0999436917986b4fa6e9317262c897bc2    0.0    0.0   73.0    0.0    0.0   \n",
              "cbde60baea002b694ecf2a3ff2d95be16b00efe1    4.0    0.0    0.0    0.0    0.0   \n",
              "ce39f5d0705695fcd70a04ba6d84ac6beecd6f9c   22.0    0.0   80.0    0.0    0.0   \n",
              "d429974540bfd38c3367fe9f0c8682775ff4fa18    7.0    3.0  121.0    0.0    0.0   \n",
              "d7a1230d94f91a32cc079809748e52e8a4a6a22f    0.0    7.0    0.0  152.0   14.0   \n",
              "d7dd12d83c81574137f858034b99f4cc83ab0718    0.0    0.0  144.0    0.0    0.0   \n",
              "d8c047eaaee204b7b5cd71e2d67308b87b038ed3    0.0   26.0   14.0    0.0    0.0   \n",
              "dc0bdce306ec3b624fe0e6ecd1ffbd82cb970120    0.0    5.0   30.0  110.0    0.0   \n",
              "dd82e3df4bebc74ed6b67877be79e29f401c16a3    0.0    3.0   67.0    0.0    0.0   \n",
              "dde95e125d89843f7032baa734ee4d34ec775aaf    5.0    9.0    2.0    0.0    0.0   \n",
              "de9892b879c83ea3d24fb4560873107cc4e86d48    0.0   35.0  109.0    0.0    0.0   \n",
              "dfcfc0404691b73b69884073159f90843f2ac35b   49.0  155.0  104.0    0.0    0.0   \n",
              "e429a95c532f1117130c11e4a18379d84fa4ffa9   41.0    0.0   35.0    0.0    0.0   \n",
              "eb9e7854290fd6ea9ebaf448b640fc1f1dbeb076    4.0    3.0    0.0    0.0    2.0   \n",
              "ecfb0929250fb6dda66a4065441230ab27f094e5    0.0    0.0  140.0    0.0    2.0   \n",
              "ed623d28c1e0071632a6110b8f8ed93f8af78b99   11.0    4.0  114.0    0.0    0.0   \n",
              "f1b7331b66e404c11eebb22933e733117bbb12c9    0.0   74.0  136.0  175.0    0.0   \n",
              "f5edd999397145a2ec1b244226fc83f99631760c   16.0   14.0    0.0    0.0    0.0   \n",
              "f7ae1ce141c26db40ea8b090fb568a0c965310aa    0.0    0.0    3.0    0.0    0.0   \n",
              "faae5be800be2dfa897eea0bd2e5988cd53c4ec0    0.0   36.0   11.0  137.0    0.0   \n",
              "\n",
              "                                          e-bike  \n",
              "a2d80ed662f34d32951eb1c6ed076c313e358b73     0.0  \n",
              "a526f3566e9c9024dfa7378eb4291d787a09fd37     0.0  \n",
              "a59868c6eb3645eedbb343ce8c336ec6f2ef2324     0.0  \n",
              "a92dee88f61123f923dccec01eeecf1a81953b36     0.0  \n",
              "ac4c17afeb69b39169eb301ab592696a8f353976     0.0  \n",
              "adaaae1a67ea9e43abd60ba945eccda0cb8821e0     0.0  \n",
              "b138d165100ef60bc793cac143742eb5aea4d6ba     0.0  \n",
              "b45157069942d01310c3e7b74034166717bb25f9     0.0  \n",
              "b7b165e5637b5a0226068d907748f4bbfc61a320     0.0  \n",
              "c453226e3616ae821cdcb38f38481c2a20f2482f     0.0  \n",
              "c5702d34b238fe68683f818e82cd3a3cd8a16366     0.0  \n",
              "ca7950f223a8037b897d0547075dc138f9e43b20     0.0  \n",
              "cace4ec0999436917986b4fa6e9317262c897bc2     0.0  \n",
              "cbde60baea002b694ecf2a3ff2d95be16b00efe1     0.0  \n",
              "ce39f5d0705695fcd70a04ba6d84ac6beecd6f9c     0.0  \n",
              "d429974540bfd38c3367fe9f0c8682775ff4fa18     0.0  \n",
              "d7a1230d94f91a32cc079809748e52e8a4a6a22f     0.0  \n",
              "d7dd12d83c81574137f858034b99f4cc83ab0718     0.0  \n",
              "d8c047eaaee204b7b5cd71e2d67308b87b038ed3     0.0  \n",
              "dc0bdce306ec3b624fe0e6ecd1ffbd82cb970120     0.0  \n",
              "dd82e3df4bebc74ed6b67877be79e29f401c16a3     0.0  \n",
              "dde95e125d89843f7032baa734ee4d34ec775aaf     0.0  \n",
              "de9892b879c83ea3d24fb4560873107cc4e86d48     0.0  \n",
              "dfcfc0404691b73b69884073159f90843f2ac35b     0.0  \n",
              "e429a95c532f1117130c11e4a18379d84fa4ffa9     0.0  \n",
              "eb9e7854290fd6ea9ebaf448b640fc1f1dbeb076     0.0  \n",
              "ecfb0929250fb6dda66a4065441230ab27f094e5    16.0  \n",
              "ed623d28c1e0071632a6110b8f8ed93f8af78b99     0.0  \n",
              "f1b7331b66e404c11eebb22933e733117bbb12c9     0.0  \n",
              "f5edd999397145a2ec1b244226fc83f99631760c     0.0  \n",
              "f7ae1ce141c26db40ea8b090fb568a0c965310aa     0.0  \n",
              "faae5be800be2dfa897eea0bd2e5988cd53c4ec0     0.0  "
            ]
          },
          "metadata": {},
          "execution_count": 36
        }
      ]
    },
    {
      "cell_type": "code",
      "source": [
        ""
      ],
      "metadata": {
        "id": "4obxwaA_3GWO"
      },
      "execution_count": 84,
      "outputs": []
    },
    {
      "cell_type": "code",
      "source": [
        ""
      ],
      "metadata": {
        "id": "JbzDNofS4vLD"
      },
      "execution_count": 84,
      "outputs": []
    },
    {
      "cell_type": "code",
      "source": [
        ""
      ],
      "metadata": {
        "id": "6M03aelZ3-zR"
      },
      "execution_count": 84,
      "outputs": []
    },
    {
      "cell_type": "code",
      "source": [
        "sum(df_num_seq['bus'])+sum(df_num_seq['walk'])+sum(df_num_seq['car'])+sum(df_num_seq['bike'])+sum(df_num_seq['train'])+sum(df_num_seq['e-bike'])"
      ],
      "metadata": {
        "id": "aAdVGk7AQw6j",
        "colab": {
          "base_uri": "https://localhost:8080/"
        },
        "outputId": "aea89fcd-7cfc-407a-f965-1c4f079fc7eb"
      },
      "execution_count": 85,
      "outputs": [
        {
          "output_type": "execute_result",
          "data": {
            "text/plain": [
              "3494.0"
            ]
          },
          "metadata": {},
          "execution_count": 85
        }
      ]
    },
    {
      "cell_type": "code",
      "source": [
        "df['sequence'] = df['sequence'].cumsum()"
      ],
      "metadata": {
        "id": "S2HmAcKf4FJ9"
      },
      "execution_count": 86,
      "outputs": []
    },
    {
      "cell_type": "code",
      "source": [
        "sum(df['sequence'])"
      ],
      "metadata": {
        "colab": {
          "base_uri": "https://localhost:8080/"
        },
        "id": "vWAKWaDT4NZ1",
        "outputId": "efc773ed-ef05-499f-99ab-aea9c1429407"
      },
      "execution_count": 87,
      "outputs": [
        {
          "output_type": "execute_result",
          "data": {
            "text/plain": [
              "8203907963"
            ]
          },
          "metadata": {},
          "execution_count": 87
        }
      ]
    },
    {
      "cell_type": "code",
      "source": [
        "\n",
        "df"
      ],
      "metadata": {
        "id": "gsqFeeA495H6",
        "outputId": "799a248d-97bc-4a0e-9726-16a49988d2d2",
        "colab": {
          "base_uri": "https://localhost:8080/",
          "height": 363
        }
      },
      "execution_count": 88,
      "outputs": [
        {
          "output_type": "error",
          "ename": "KeyboardInterrupt",
          "evalue": "ignored",
          "traceback": [
            "\u001b[0;31m---------------------------------------------------------------------------\u001b[0m",
            "\u001b[0;31mKeyboardInterrupt\u001b[0m                         Traceback (most recent call last)",
            "\u001b[0;32m<ipython-input-88-ef8964764758>\u001b[0m in \u001b[0;36m<module>\u001b[0;34m()\u001b[0m\n\u001b[1;32m      1\u001b[0m \u001b[0;34m\u001b[0m\u001b[0m\n\u001b[0;32m----> 2\u001b[0;31m \u001b[0mdf\u001b[0m\u001b[0;34m\u001b[0m\u001b[0;34m\u001b[0m\u001b[0m\n\u001b[0m",
            "\u001b[0;32m/usr/local/lib/python3.7/dist-packages/IPython/core/displayhook.py\u001b[0m in \u001b[0;36m__call__\u001b[0;34m(self, result)\u001b[0m\n\u001b[1;32m    244\u001b[0m             \u001b[0mself\u001b[0m\u001b[0;34m.\u001b[0m\u001b[0mstart_displayhook\u001b[0m\u001b[0;34m(\u001b[0m\u001b[0;34m)\u001b[0m\u001b[0;34m\u001b[0m\u001b[0;34m\u001b[0m\u001b[0m\n\u001b[1;32m    245\u001b[0m             \u001b[0mself\u001b[0m\u001b[0;34m.\u001b[0m\u001b[0mwrite_output_prompt\u001b[0m\u001b[0;34m(\u001b[0m\u001b[0;34m)\u001b[0m\u001b[0;34m\u001b[0m\u001b[0;34m\u001b[0m\u001b[0m\n\u001b[0;32m--> 246\u001b[0;31m             \u001b[0mformat_dict\u001b[0m\u001b[0;34m,\u001b[0m \u001b[0mmd_dict\u001b[0m \u001b[0;34m=\u001b[0m \u001b[0mself\u001b[0m\u001b[0;34m.\u001b[0m\u001b[0mcompute_format_data\u001b[0m\u001b[0;34m(\u001b[0m\u001b[0mresult\u001b[0m\u001b[0;34m)\u001b[0m\u001b[0;34m\u001b[0m\u001b[0;34m\u001b[0m\u001b[0m\n\u001b[0m\u001b[1;32m    247\u001b[0m             \u001b[0mself\u001b[0m\u001b[0;34m.\u001b[0m\u001b[0mupdate_user_ns\u001b[0m\u001b[0;34m(\u001b[0m\u001b[0mresult\u001b[0m\u001b[0;34m)\u001b[0m\u001b[0;34m\u001b[0m\u001b[0;34m\u001b[0m\u001b[0m\n\u001b[1;32m    248\u001b[0m             \u001b[0mself\u001b[0m\u001b[0;34m.\u001b[0m\u001b[0mfill_exec_result\u001b[0m\u001b[0;34m(\u001b[0m\u001b[0mresult\u001b[0m\u001b[0;34m)\u001b[0m\u001b[0;34m\u001b[0m\u001b[0;34m\u001b[0m\u001b[0m\n",
            "\u001b[0;32m/usr/local/lib/python3.7/dist-packages/IPython/core/displayhook.py\u001b[0m in \u001b[0;36mcompute_format_data\u001b[0;34m(self, result)\u001b[0m\n\u001b[1;32m    148\u001b[0m \u001b[0;34m\u001b[0m\u001b[0m\n\u001b[1;32m    149\u001b[0m         \"\"\"\n\u001b[0;32m--> 150\u001b[0;31m         \u001b[0;32mreturn\u001b[0m \u001b[0mself\u001b[0m\u001b[0;34m.\u001b[0m\u001b[0mshell\u001b[0m\u001b[0;34m.\u001b[0m\u001b[0mdisplay_formatter\u001b[0m\u001b[0;34m.\u001b[0m\u001b[0mformat\u001b[0m\u001b[0;34m(\u001b[0m\u001b[0mresult\u001b[0m\u001b[0;34m)\u001b[0m\u001b[0;34m\u001b[0m\u001b[0;34m\u001b[0m\u001b[0m\n\u001b[0m\u001b[1;32m    151\u001b[0m \u001b[0;34m\u001b[0m\u001b[0m\n\u001b[1;32m    152\u001b[0m     \u001b[0;31m# This can be set to True by the write_output_prompt method in a subclass\u001b[0m\u001b[0;34m\u001b[0m\u001b[0;34m\u001b[0m\u001b[0;34m\u001b[0m\u001b[0m\n",
            "\u001b[0;32m/usr/local/lib/python3.7/dist-packages/IPython/core/formatters.py\u001b[0m in \u001b[0;36mformat\u001b[0;34m(self, obj, include, exclude)\u001b[0m\n\u001b[1;32m    171\u001b[0m             \u001b[0mmd\u001b[0m \u001b[0;34m=\u001b[0m \u001b[0;32mNone\u001b[0m\u001b[0;34m\u001b[0m\u001b[0;34m\u001b[0m\u001b[0m\n\u001b[1;32m    172\u001b[0m             \u001b[0;32mtry\u001b[0m\u001b[0;34m:\u001b[0m\u001b[0;34m\u001b[0m\u001b[0;34m\u001b[0m\u001b[0m\n\u001b[0;32m--> 173\u001b[0;31m                 \u001b[0mdata\u001b[0m \u001b[0;34m=\u001b[0m \u001b[0mformatter\u001b[0m\u001b[0;34m(\u001b[0m\u001b[0mobj\u001b[0m\u001b[0;34m)\u001b[0m\u001b[0;34m\u001b[0m\u001b[0;34m\u001b[0m\u001b[0m\n\u001b[0m\u001b[1;32m    174\u001b[0m             \u001b[0;32mexcept\u001b[0m\u001b[0;34m:\u001b[0m\u001b[0;34m\u001b[0m\u001b[0;34m\u001b[0m\u001b[0m\n\u001b[1;32m    175\u001b[0m                 \u001b[0;31m# FIXME: log the exception\u001b[0m\u001b[0;34m\u001b[0m\u001b[0;34m\u001b[0m\u001b[0;34m\u001b[0m\u001b[0m\n",
            "\u001b[0;32m<decorator-gen-3>\u001b[0m in \u001b[0;36m__call__\u001b[0;34m(self, obj)\u001b[0m\n",
            "\u001b[0;32m/usr/local/lib/python3.7/dist-packages/IPython/core/formatters.py\u001b[0m in \u001b[0;36mcatch_format_error\u001b[0;34m(method, self, *args, **kwargs)\u001b[0m\n\u001b[1;32m    215\u001b[0m     \u001b[0;34m\"\"\"show traceback on failed format call\"\"\"\u001b[0m\u001b[0;34m\u001b[0m\u001b[0;34m\u001b[0m\u001b[0m\n\u001b[1;32m    216\u001b[0m     \u001b[0;32mtry\u001b[0m\u001b[0;34m:\u001b[0m\u001b[0;34m\u001b[0m\u001b[0;34m\u001b[0m\u001b[0m\n\u001b[0;32m--> 217\u001b[0;31m         \u001b[0mr\u001b[0m \u001b[0;34m=\u001b[0m \u001b[0mmethod\u001b[0m\u001b[0;34m(\u001b[0m\u001b[0mself\u001b[0m\u001b[0;34m,\u001b[0m \u001b[0;34m*\u001b[0m\u001b[0margs\u001b[0m\u001b[0;34m,\u001b[0m \u001b[0;34m**\u001b[0m\u001b[0mkwargs\u001b[0m\u001b[0;34m)\u001b[0m\u001b[0;34m\u001b[0m\u001b[0;34m\u001b[0m\u001b[0m\n\u001b[0m\u001b[1;32m    218\u001b[0m     \u001b[0;32mexcept\u001b[0m \u001b[0mNotImplementedError\u001b[0m\u001b[0;34m:\u001b[0m\u001b[0;34m\u001b[0m\u001b[0;34m\u001b[0m\u001b[0m\n\u001b[1;32m    219\u001b[0m         \u001b[0;31m# don't warn on NotImplementedErrors\u001b[0m\u001b[0;34m\u001b[0m\u001b[0;34m\u001b[0m\u001b[0;34m\u001b[0m\u001b[0m\n",
            "\u001b[0;32m/usr/local/lib/python3.7/dist-packages/IPython/core/formatters.py\u001b[0m in \u001b[0;36m__call__\u001b[0;34m(self, obj)\u001b[0m\n\u001b[1;32m    697\u001b[0m                 \u001b[0mtype_pprinters\u001b[0m\u001b[0;34m=\u001b[0m\u001b[0mself\u001b[0m\u001b[0;34m.\u001b[0m\u001b[0mtype_printers\u001b[0m\u001b[0;34m,\u001b[0m\u001b[0;34m\u001b[0m\u001b[0;34m\u001b[0m\u001b[0m\n\u001b[1;32m    698\u001b[0m                 deferred_pprinters=self.deferred_printers)\n\u001b[0;32m--> 699\u001b[0;31m             \u001b[0mprinter\u001b[0m\u001b[0;34m.\u001b[0m\u001b[0mpretty\u001b[0m\u001b[0;34m(\u001b[0m\u001b[0mobj\u001b[0m\u001b[0;34m)\u001b[0m\u001b[0;34m\u001b[0m\u001b[0;34m\u001b[0m\u001b[0m\n\u001b[0m\u001b[1;32m    700\u001b[0m             \u001b[0mprinter\u001b[0m\u001b[0;34m.\u001b[0m\u001b[0mflush\u001b[0m\u001b[0;34m(\u001b[0m\u001b[0;34m)\u001b[0m\u001b[0;34m\u001b[0m\u001b[0;34m\u001b[0m\u001b[0m\n\u001b[1;32m    701\u001b[0m             \u001b[0;32mreturn\u001b[0m \u001b[0mstream\u001b[0m\u001b[0;34m.\u001b[0m\u001b[0mgetvalue\u001b[0m\u001b[0;34m(\u001b[0m\u001b[0;34m)\u001b[0m\u001b[0;34m\u001b[0m\u001b[0;34m\u001b[0m\u001b[0m\n",
            "\u001b[0;32m/usr/local/lib/python3.7/dist-packages/IPython/lib/pretty.py\u001b[0m in \u001b[0;36mpretty\u001b[0;34m(self, obj)\u001b[0m\n\u001b[1;32m    396\u001b[0m                             \u001b[0;32mif\u001b[0m \u001b[0mcallable\u001b[0m\u001b[0;34m(\u001b[0m\u001b[0mmeth\u001b[0m\u001b[0;34m)\u001b[0m\u001b[0;34m:\u001b[0m\u001b[0;34m\u001b[0m\u001b[0;34m\u001b[0m\u001b[0m\n\u001b[1;32m    397\u001b[0m                                 \u001b[0;32mreturn\u001b[0m \u001b[0mmeth\u001b[0m\u001b[0;34m(\u001b[0m\u001b[0mobj\u001b[0m\u001b[0;34m,\u001b[0m \u001b[0mself\u001b[0m\u001b[0;34m,\u001b[0m \u001b[0mcycle\u001b[0m\u001b[0;34m)\u001b[0m\u001b[0;34m\u001b[0m\u001b[0;34m\u001b[0m\u001b[0m\n\u001b[0;32m--> 398\u001b[0;31m             \u001b[0;32mreturn\u001b[0m \u001b[0m_default_pprint\u001b[0m\u001b[0;34m(\u001b[0m\u001b[0mobj\u001b[0m\u001b[0;34m,\u001b[0m \u001b[0mself\u001b[0m\u001b[0;34m,\u001b[0m \u001b[0mcycle\u001b[0m\u001b[0;34m)\u001b[0m\u001b[0;34m\u001b[0m\u001b[0;34m\u001b[0m\u001b[0m\n\u001b[0m\u001b[1;32m    399\u001b[0m         \u001b[0;32mfinally\u001b[0m\u001b[0;34m:\u001b[0m\u001b[0;34m\u001b[0m\u001b[0;34m\u001b[0m\u001b[0m\n\u001b[1;32m    400\u001b[0m             \u001b[0mself\u001b[0m\u001b[0;34m.\u001b[0m\u001b[0mend_group\u001b[0m\u001b[0;34m(\u001b[0m\u001b[0;34m)\u001b[0m\u001b[0;34m\u001b[0m\u001b[0;34m\u001b[0m\u001b[0m\n",
            "\u001b[0;32m/usr/local/lib/python3.7/dist-packages/IPython/lib/pretty.py\u001b[0m in \u001b[0;36m_default_pprint\u001b[0;34m(obj, p, cycle)\u001b[0m\n\u001b[1;32m    516\u001b[0m     \u001b[0;32mif\u001b[0m \u001b[0m_safe_getattr\u001b[0m\u001b[0;34m(\u001b[0m\u001b[0mklass\u001b[0m\u001b[0;34m,\u001b[0m \u001b[0;34m'__repr__'\u001b[0m\u001b[0;34m,\u001b[0m \u001b[0;32mNone\u001b[0m\u001b[0;34m)\u001b[0m \u001b[0;32mnot\u001b[0m \u001b[0;32min\u001b[0m \u001b[0m_baseclass_reprs\u001b[0m\u001b[0;34m:\u001b[0m\u001b[0;34m\u001b[0m\u001b[0;34m\u001b[0m\u001b[0m\n\u001b[1;32m    517\u001b[0m         \u001b[0;31m# A user-provided repr. Find newlines and replace them with p.break_()\u001b[0m\u001b[0;34m\u001b[0m\u001b[0;34m\u001b[0m\u001b[0;34m\u001b[0m\u001b[0m\n\u001b[0;32m--> 518\u001b[0;31m         \u001b[0m_repr_pprint\u001b[0m\u001b[0;34m(\u001b[0m\u001b[0mobj\u001b[0m\u001b[0;34m,\u001b[0m \u001b[0mp\u001b[0m\u001b[0;34m,\u001b[0m \u001b[0mcycle\u001b[0m\u001b[0;34m)\u001b[0m\u001b[0;34m\u001b[0m\u001b[0;34m\u001b[0m\u001b[0m\n\u001b[0m\u001b[1;32m    519\u001b[0m         \u001b[0;32mreturn\u001b[0m\u001b[0;34m\u001b[0m\u001b[0;34m\u001b[0m\u001b[0m\n\u001b[1;32m    520\u001b[0m     \u001b[0mp\u001b[0m\u001b[0;34m.\u001b[0m\u001b[0mbegin_group\u001b[0m\u001b[0;34m(\u001b[0m\u001b[0;36m1\u001b[0m\u001b[0;34m,\u001b[0m \u001b[0;34m'<'\u001b[0m\u001b[0;34m)\u001b[0m\u001b[0;34m\u001b[0m\u001b[0;34m\u001b[0m\u001b[0m\n",
            "\u001b[0;32m/usr/local/lib/python3.7/dist-packages/IPython/lib/pretty.py\u001b[0m in \u001b[0;36m_repr_pprint\u001b[0;34m(obj, p, cycle)\u001b[0m\n\u001b[1;32m    707\u001b[0m     \u001b[0;34m\"\"\"A pprint that just redirects to the normal repr function.\"\"\"\u001b[0m\u001b[0;34m\u001b[0m\u001b[0;34m\u001b[0m\u001b[0m\n\u001b[1;32m    708\u001b[0m     \u001b[0;31m# Find newlines and replace them with p.break_()\u001b[0m\u001b[0;34m\u001b[0m\u001b[0;34m\u001b[0m\u001b[0;34m\u001b[0m\u001b[0m\n\u001b[0;32m--> 709\u001b[0;31m     \u001b[0moutput\u001b[0m \u001b[0;34m=\u001b[0m \u001b[0mrepr\u001b[0m\u001b[0;34m(\u001b[0m\u001b[0mobj\u001b[0m\u001b[0;34m)\u001b[0m\u001b[0;34m\u001b[0m\u001b[0;34m\u001b[0m\u001b[0m\n\u001b[0m\u001b[1;32m    710\u001b[0m     \u001b[0;32mfor\u001b[0m \u001b[0midx\u001b[0m\u001b[0;34m,\u001b[0m\u001b[0moutput_line\u001b[0m \u001b[0;32min\u001b[0m \u001b[0menumerate\u001b[0m\u001b[0;34m(\u001b[0m\u001b[0moutput\u001b[0m\u001b[0;34m.\u001b[0m\u001b[0msplitlines\u001b[0m\u001b[0;34m(\u001b[0m\u001b[0;34m)\u001b[0m\u001b[0;34m)\u001b[0m\u001b[0;34m:\u001b[0m\u001b[0;34m\u001b[0m\u001b[0;34m\u001b[0m\u001b[0m\n\u001b[1;32m    711\u001b[0m         \u001b[0;32mif\u001b[0m \u001b[0midx\u001b[0m\u001b[0;34m:\u001b[0m\u001b[0;34m\u001b[0m\u001b[0;34m\u001b[0m\u001b[0m\n",
            "\u001b[0;32m/usr/local/lib/python3.7/dist-packages/pandas/core/frame.py\u001b[0m in \u001b[0;36m__repr__\u001b[0;34m(self)\u001b[0m\n\u001b[1;32m   1000\u001b[0m             \u001b[0mline_width\u001b[0m\u001b[0;34m=\u001b[0m\u001b[0mwidth\u001b[0m\u001b[0;34m,\u001b[0m\u001b[0;34m\u001b[0m\u001b[0;34m\u001b[0m\u001b[0m\n\u001b[1;32m   1001\u001b[0m             \u001b[0mmax_colwidth\u001b[0m\u001b[0;34m=\u001b[0m\u001b[0mmax_colwidth\u001b[0m\u001b[0;34m,\u001b[0m\u001b[0;34m\u001b[0m\u001b[0;34m\u001b[0m\u001b[0m\n\u001b[0;32m-> 1002\u001b[0;31m             \u001b[0mshow_dimensions\u001b[0m\u001b[0;34m=\u001b[0m\u001b[0mshow_dimensions\u001b[0m\u001b[0;34m,\u001b[0m\u001b[0;34m\u001b[0m\u001b[0;34m\u001b[0m\u001b[0m\n\u001b[0m\u001b[1;32m   1003\u001b[0m         )\n\u001b[1;32m   1004\u001b[0m \u001b[0;34m\u001b[0m\u001b[0m\n",
            "\u001b[0;32m/usr/local/lib/python3.7/dist-packages/pandas/core/frame.py\u001b[0m in \u001b[0;36mto_string\u001b[0;34m(self, buf, columns, col_space, header, index, na_rep, formatters, float_format, sparsify, index_names, justify, max_rows, min_rows, max_cols, show_dimensions, decimal, line_width, max_colwidth, encoding)\u001b[0m\n\u001b[1;32m   1132\u001b[0m                 \u001b[0mbuf\u001b[0m\u001b[0;34m=\u001b[0m\u001b[0mbuf\u001b[0m\u001b[0;34m,\u001b[0m\u001b[0;34m\u001b[0m\u001b[0;34m\u001b[0m\u001b[0m\n\u001b[1;32m   1133\u001b[0m                 \u001b[0mencoding\u001b[0m\u001b[0;34m=\u001b[0m\u001b[0mencoding\u001b[0m\u001b[0;34m,\u001b[0m\u001b[0;34m\u001b[0m\u001b[0;34m\u001b[0m\u001b[0m\n\u001b[0;32m-> 1134\u001b[0;31m                 \u001b[0mline_width\u001b[0m\u001b[0;34m=\u001b[0m\u001b[0mline_width\u001b[0m\u001b[0;34m,\u001b[0m\u001b[0;34m\u001b[0m\u001b[0;34m\u001b[0m\u001b[0m\n\u001b[0m\u001b[1;32m   1135\u001b[0m             )\n\u001b[1;32m   1136\u001b[0m \u001b[0;34m\u001b[0m\u001b[0m\n",
            "\u001b[0;32m/usr/local/lib/python3.7/dist-packages/pandas/io/formats/format.py\u001b[0m in \u001b[0;36mto_string\u001b[0;34m(self, buf, encoding, line_width)\u001b[0m\n\u001b[1;32m   1051\u001b[0m \u001b[0;34m\u001b[0m\u001b[0m\n\u001b[1;32m   1052\u001b[0m         \u001b[0mstring_formatter\u001b[0m \u001b[0;34m=\u001b[0m \u001b[0mStringFormatter\u001b[0m\u001b[0;34m(\u001b[0m\u001b[0mself\u001b[0m\u001b[0;34m.\u001b[0m\u001b[0mfmt\u001b[0m\u001b[0;34m,\u001b[0m \u001b[0mline_width\u001b[0m\u001b[0;34m=\u001b[0m\u001b[0mline_width\u001b[0m\u001b[0;34m)\u001b[0m\u001b[0;34m\u001b[0m\u001b[0;34m\u001b[0m\u001b[0m\n\u001b[0;32m-> 1053\u001b[0;31m         \u001b[0mstring\u001b[0m \u001b[0;34m=\u001b[0m \u001b[0mstring_formatter\u001b[0m\u001b[0;34m.\u001b[0m\u001b[0mto_string\u001b[0m\u001b[0;34m(\u001b[0m\u001b[0;34m)\u001b[0m\u001b[0;34m\u001b[0m\u001b[0;34m\u001b[0m\u001b[0m\n\u001b[0m\u001b[1;32m   1054\u001b[0m         \u001b[0;32mreturn\u001b[0m \u001b[0msave_to_buffer\u001b[0m\u001b[0;34m(\u001b[0m\u001b[0mstring\u001b[0m\u001b[0;34m,\u001b[0m \u001b[0mbuf\u001b[0m\u001b[0;34m=\u001b[0m\u001b[0mbuf\u001b[0m\u001b[0;34m,\u001b[0m \u001b[0mencoding\u001b[0m\u001b[0;34m=\u001b[0m\u001b[0mencoding\u001b[0m\u001b[0;34m)\u001b[0m\u001b[0;34m\u001b[0m\u001b[0;34m\u001b[0m\u001b[0m\n\u001b[1;32m   1055\u001b[0m \u001b[0;34m\u001b[0m\u001b[0m\n",
            "\u001b[0;32m/usr/local/lib/python3.7/dist-packages/pandas/io/formats/string.py\u001b[0m in \u001b[0;36mto_string\u001b[0;34m(self)\u001b[0m\n\u001b[1;32m     23\u001b[0m \u001b[0;34m\u001b[0m\u001b[0m\n\u001b[1;32m     24\u001b[0m     \u001b[0;32mdef\u001b[0m \u001b[0mto_string\u001b[0m\u001b[0;34m(\u001b[0m\u001b[0mself\u001b[0m\u001b[0;34m)\u001b[0m \u001b[0;34m->\u001b[0m \u001b[0mstr\u001b[0m\u001b[0;34m:\u001b[0m\u001b[0;34m\u001b[0m\u001b[0;34m\u001b[0m\u001b[0m\n\u001b[0;32m---> 25\u001b[0;31m         \u001b[0mtext\u001b[0m \u001b[0;34m=\u001b[0m \u001b[0mself\u001b[0m\u001b[0;34m.\u001b[0m\u001b[0m_get_string_representation\u001b[0m\u001b[0;34m(\u001b[0m\u001b[0;34m)\u001b[0m\u001b[0;34m\u001b[0m\u001b[0;34m\u001b[0m\u001b[0m\n\u001b[0m\u001b[1;32m     26\u001b[0m         \u001b[0;32mif\u001b[0m \u001b[0mself\u001b[0m\u001b[0;34m.\u001b[0m\u001b[0mfmt\u001b[0m\u001b[0;34m.\u001b[0m\u001b[0mshould_show_dimensions\u001b[0m\u001b[0;34m:\u001b[0m\u001b[0;34m\u001b[0m\u001b[0;34m\u001b[0m\u001b[0m\n\u001b[1;32m     27\u001b[0m             \u001b[0mtext\u001b[0m \u001b[0;34m=\u001b[0m \u001b[0;34m\"\"\u001b[0m\u001b[0;34m.\u001b[0m\u001b[0mjoin\u001b[0m\u001b[0;34m(\u001b[0m\u001b[0;34m[\u001b[0m\u001b[0mtext\u001b[0m\u001b[0;34m,\u001b[0m \u001b[0mself\u001b[0m\u001b[0;34m.\u001b[0m\u001b[0mfmt\u001b[0m\u001b[0;34m.\u001b[0m\u001b[0mdimensions_info\u001b[0m\u001b[0;34m]\u001b[0m\u001b[0;34m)\u001b[0m\u001b[0;34m\u001b[0m\u001b[0;34m\u001b[0m\u001b[0m\n",
            "\u001b[0;32m/usr/local/lib/python3.7/dist-packages/pandas/io/formats/string.py\u001b[0m in \u001b[0;36m_get_string_representation\u001b[0;34m(self)\u001b[0m\n\u001b[1;32m     38\u001b[0m             \u001b[0;32mreturn\u001b[0m \u001b[0mself\u001b[0m\u001b[0;34m.\u001b[0m\u001b[0m_empty_info_line\u001b[0m\u001b[0;34m\u001b[0m\u001b[0;34m\u001b[0m\u001b[0m\n\u001b[1;32m     39\u001b[0m \u001b[0;34m\u001b[0m\u001b[0m\n\u001b[0;32m---> 40\u001b[0;31m         \u001b[0mstrcols\u001b[0m \u001b[0;34m=\u001b[0m \u001b[0mself\u001b[0m\u001b[0;34m.\u001b[0m\u001b[0m_get_strcols\u001b[0m\u001b[0;34m(\u001b[0m\u001b[0;34m)\u001b[0m\u001b[0;34m\u001b[0m\u001b[0;34m\u001b[0m\u001b[0m\n\u001b[0m\u001b[1;32m     41\u001b[0m \u001b[0;34m\u001b[0m\u001b[0m\n\u001b[1;32m     42\u001b[0m         \u001b[0;32mif\u001b[0m \u001b[0mself\u001b[0m\u001b[0;34m.\u001b[0m\u001b[0mline_width\u001b[0m \u001b[0;32mis\u001b[0m \u001b[0;32mNone\u001b[0m\u001b[0;34m:\u001b[0m\u001b[0;34m\u001b[0m\u001b[0;34m\u001b[0m\u001b[0m\n",
            "\u001b[0;32m/usr/local/lib/python3.7/dist-packages/pandas/io/formats/string.py\u001b[0m in \u001b[0;36m_get_strcols\u001b[0;34m(self)\u001b[0m\n\u001b[1;32m     29\u001b[0m \u001b[0;34m\u001b[0m\u001b[0m\n\u001b[1;32m     30\u001b[0m     \u001b[0;32mdef\u001b[0m \u001b[0m_get_strcols\u001b[0m\u001b[0;34m(\u001b[0m\u001b[0mself\u001b[0m\u001b[0;34m)\u001b[0m \u001b[0;34m->\u001b[0m \u001b[0mlist\u001b[0m\u001b[0;34m[\u001b[0m\u001b[0mlist\u001b[0m\u001b[0;34m[\u001b[0m\u001b[0mstr\u001b[0m\u001b[0;34m]\u001b[0m\u001b[0;34m]\u001b[0m\u001b[0;34m:\u001b[0m\u001b[0;34m\u001b[0m\u001b[0;34m\u001b[0m\u001b[0m\n\u001b[0;32m---> 31\u001b[0;31m         \u001b[0mstrcols\u001b[0m \u001b[0;34m=\u001b[0m \u001b[0mself\u001b[0m\u001b[0;34m.\u001b[0m\u001b[0mfmt\u001b[0m\u001b[0;34m.\u001b[0m\u001b[0mget_strcols\u001b[0m\u001b[0;34m(\u001b[0m\u001b[0;34m)\u001b[0m\u001b[0;34m\u001b[0m\u001b[0;34m\u001b[0m\u001b[0m\n\u001b[0m\u001b[1;32m     32\u001b[0m         \u001b[0;32mif\u001b[0m \u001b[0mself\u001b[0m\u001b[0;34m.\u001b[0m\u001b[0mfmt\u001b[0m\u001b[0;34m.\u001b[0m\u001b[0mis_truncated\u001b[0m\u001b[0;34m:\u001b[0m\u001b[0;34m\u001b[0m\u001b[0;34m\u001b[0m\u001b[0m\n\u001b[1;32m     33\u001b[0m             \u001b[0mstrcols\u001b[0m \u001b[0;34m=\u001b[0m \u001b[0mself\u001b[0m\u001b[0;34m.\u001b[0m\u001b[0m_insert_dot_separators\u001b[0m\u001b[0;34m(\u001b[0m\u001b[0mstrcols\u001b[0m\u001b[0;34m)\u001b[0m\u001b[0;34m\u001b[0m\u001b[0;34m\u001b[0m\u001b[0m\n",
            "\u001b[0;32m/usr/local/lib/python3.7/dist-packages/pandas/io/formats/format.py\u001b[0m in \u001b[0;36mget_strcols\u001b[0;34m(self)\u001b[0m\n\u001b[1;32m    538\u001b[0m         \u001b[0mRender\u001b[0m \u001b[0ma\u001b[0m \u001b[0mDataFrame\u001b[0m \u001b[0mto\u001b[0m \u001b[0ma\u001b[0m \u001b[0mlist\u001b[0m \u001b[0mof\u001b[0m \u001b[0mcolumns\u001b[0m \u001b[0;34m(\u001b[0m\u001b[0;32mas\u001b[0m \u001b[0mlists\u001b[0m \u001b[0mof\u001b[0m \u001b[0mstrings\u001b[0m\u001b[0;34m)\u001b[0m\u001b[0;34m.\u001b[0m\u001b[0;34m\u001b[0m\u001b[0;34m\u001b[0m\u001b[0m\n\u001b[1;32m    539\u001b[0m         \"\"\"\n\u001b[0;32m--> 540\u001b[0;31m         \u001b[0mstrcols\u001b[0m \u001b[0;34m=\u001b[0m \u001b[0mself\u001b[0m\u001b[0;34m.\u001b[0m\u001b[0m_get_strcols_without_index\u001b[0m\u001b[0;34m(\u001b[0m\u001b[0;34m)\u001b[0m\u001b[0;34m\u001b[0m\u001b[0;34m\u001b[0m\u001b[0m\n\u001b[0m\u001b[1;32m    541\u001b[0m \u001b[0;34m\u001b[0m\u001b[0m\n\u001b[1;32m    542\u001b[0m         \u001b[0;32mif\u001b[0m \u001b[0mself\u001b[0m\u001b[0;34m.\u001b[0m\u001b[0mindex\u001b[0m\u001b[0;34m:\u001b[0m\u001b[0;34m\u001b[0m\u001b[0;34m\u001b[0m\u001b[0m\n",
            "\u001b[0;32m/usr/local/lib/python3.7/dist-packages/pandas/io/formats/format.py\u001b[0m in \u001b[0;36m_get_strcols_without_index\u001b[0;34m(self)\u001b[0m\n\u001b[1;32m    802\u001b[0m                 \u001b[0mint\u001b[0m\u001b[0;34m(\u001b[0m\u001b[0mself\u001b[0m\u001b[0;34m.\u001b[0m\u001b[0mcol_space\u001b[0m\u001b[0;34m.\u001b[0m\u001b[0mget\u001b[0m\u001b[0;34m(\u001b[0m\u001b[0mc\u001b[0m\u001b[0;34m,\u001b[0m \u001b[0;36m0\u001b[0m\u001b[0;34m)\u001b[0m\u001b[0;34m)\u001b[0m\u001b[0;34m,\u001b[0m \u001b[0;34m*\u001b[0m\u001b[0;34m(\u001b[0m\u001b[0mself\u001b[0m\u001b[0;34m.\u001b[0m\u001b[0madj\u001b[0m\u001b[0;34m.\u001b[0m\u001b[0mlen\u001b[0m\u001b[0;34m(\u001b[0m\u001b[0mx\u001b[0m\u001b[0;34m)\u001b[0m \u001b[0;32mfor\u001b[0m \u001b[0mx\u001b[0m \u001b[0;32min\u001b[0m \u001b[0mcheader\u001b[0m\u001b[0;34m)\u001b[0m\u001b[0;34m\u001b[0m\u001b[0;34m\u001b[0m\u001b[0m\n\u001b[1;32m    803\u001b[0m             )\n\u001b[0;32m--> 804\u001b[0;31m             \u001b[0mfmt_values\u001b[0m \u001b[0;34m=\u001b[0m \u001b[0mself\u001b[0m\u001b[0;34m.\u001b[0m\u001b[0mformat_col\u001b[0m\u001b[0;34m(\u001b[0m\u001b[0mi\u001b[0m\u001b[0;34m)\u001b[0m\u001b[0;34m\u001b[0m\u001b[0;34m\u001b[0m\u001b[0m\n\u001b[0m\u001b[1;32m    805\u001b[0m             fmt_values = _make_fixed_width(\n\u001b[1;32m    806\u001b[0m                 \u001b[0mfmt_values\u001b[0m\u001b[0;34m,\u001b[0m \u001b[0mself\u001b[0m\u001b[0;34m.\u001b[0m\u001b[0mjustify\u001b[0m\u001b[0;34m,\u001b[0m \u001b[0mminimum\u001b[0m\u001b[0;34m=\u001b[0m\u001b[0mheader_colwidth\u001b[0m\u001b[0;34m,\u001b[0m \u001b[0madj\u001b[0m\u001b[0;34m=\u001b[0m\u001b[0mself\u001b[0m\u001b[0;34m.\u001b[0m\u001b[0madj\u001b[0m\u001b[0;34m\u001b[0m\u001b[0;34m\u001b[0m\u001b[0m\n",
            "\u001b[0;32m/usr/local/lib/python3.7/dist-packages/pandas/io/formats/format.py\u001b[0m in \u001b[0;36mformat_col\u001b[0;34m(self, i)\u001b[0m\n\u001b[1;32m    823\u001b[0m             \u001b[0mspace\u001b[0m\u001b[0;34m=\u001b[0m\u001b[0mself\u001b[0m\u001b[0;34m.\u001b[0m\u001b[0mcol_space\u001b[0m\u001b[0;34m.\u001b[0m\u001b[0mget\u001b[0m\u001b[0;34m(\u001b[0m\u001b[0mframe\u001b[0m\u001b[0;34m.\u001b[0m\u001b[0mcolumns\u001b[0m\u001b[0;34m[\u001b[0m\u001b[0mi\u001b[0m\u001b[0;34m]\u001b[0m\u001b[0;34m)\u001b[0m\u001b[0;34m,\u001b[0m\u001b[0;34m\u001b[0m\u001b[0;34m\u001b[0m\u001b[0m\n\u001b[1;32m    824\u001b[0m             \u001b[0mdecimal\u001b[0m\u001b[0;34m=\u001b[0m\u001b[0mself\u001b[0m\u001b[0;34m.\u001b[0m\u001b[0mdecimal\u001b[0m\u001b[0;34m,\u001b[0m\u001b[0;34m\u001b[0m\u001b[0;34m\u001b[0m\u001b[0m\n\u001b[0;32m--> 825\u001b[0;31m             \u001b[0mleading_space\u001b[0m\u001b[0;34m=\u001b[0m\u001b[0mself\u001b[0m\u001b[0;34m.\u001b[0m\u001b[0mindex\u001b[0m\u001b[0;34m,\u001b[0m\u001b[0;34m\u001b[0m\u001b[0;34m\u001b[0m\u001b[0m\n\u001b[0m\u001b[1;32m    826\u001b[0m         )\n\u001b[1;32m    827\u001b[0m \u001b[0;34m\u001b[0m\u001b[0m\n",
            "\u001b[0;32m/usr/local/lib/python3.7/dist-packages/pandas/io/formats/format.py\u001b[0m in \u001b[0;36mformat_array\u001b[0;34m(values, formatter, float_format, na_rep, digits, space, justify, decimal, leading_space, quoting)\u001b[0m\n\u001b[1;32m   1238\u001b[0m     )\n\u001b[1;32m   1239\u001b[0m \u001b[0;34m\u001b[0m\u001b[0m\n\u001b[0;32m-> 1240\u001b[0;31m     \u001b[0;32mreturn\u001b[0m \u001b[0mfmt_obj\u001b[0m\u001b[0;34m.\u001b[0m\u001b[0mget_result\u001b[0m\u001b[0;34m(\u001b[0m\u001b[0;34m)\u001b[0m\u001b[0;34m\u001b[0m\u001b[0;34m\u001b[0m\u001b[0m\n\u001b[0m\u001b[1;32m   1241\u001b[0m \u001b[0;34m\u001b[0m\u001b[0m\n\u001b[1;32m   1242\u001b[0m \u001b[0;34m\u001b[0m\u001b[0m\n",
            "\u001b[0;32m/usr/local/lib/python3.7/dist-packages/pandas/io/formats/format.py\u001b[0m in \u001b[0;36mget_result\u001b[0;34m(self)\u001b[0m\n\u001b[1;32m   1269\u001b[0m \u001b[0;34m\u001b[0m\u001b[0m\n\u001b[1;32m   1270\u001b[0m     \u001b[0;32mdef\u001b[0m \u001b[0mget_result\u001b[0m\u001b[0;34m(\u001b[0m\u001b[0mself\u001b[0m\u001b[0;34m)\u001b[0m \u001b[0;34m->\u001b[0m \u001b[0mlist\u001b[0m\u001b[0;34m[\u001b[0m\u001b[0mstr\u001b[0m\u001b[0;34m]\u001b[0m\u001b[0;34m:\u001b[0m\u001b[0;34m\u001b[0m\u001b[0;34m\u001b[0m\u001b[0m\n\u001b[0;32m-> 1271\u001b[0;31m         \u001b[0mfmt_values\u001b[0m \u001b[0;34m=\u001b[0m \u001b[0mself\u001b[0m\u001b[0;34m.\u001b[0m\u001b[0m_format_strings\u001b[0m\u001b[0;34m(\u001b[0m\u001b[0;34m)\u001b[0m\u001b[0;34m\u001b[0m\u001b[0;34m\u001b[0m\u001b[0m\n\u001b[0m\u001b[1;32m   1272\u001b[0m         \u001b[0;32mreturn\u001b[0m \u001b[0m_make_fixed_width\u001b[0m\u001b[0;34m(\u001b[0m\u001b[0mfmt_values\u001b[0m\u001b[0;34m,\u001b[0m \u001b[0mself\u001b[0m\u001b[0;34m.\u001b[0m\u001b[0mjustify\u001b[0m\u001b[0;34m)\u001b[0m\u001b[0;34m\u001b[0m\u001b[0;34m\u001b[0m\u001b[0m\n\u001b[1;32m   1273\u001b[0m \u001b[0;34m\u001b[0m\u001b[0m\n",
            "\u001b[0;32m/usr/local/lib/python3.7/dist-packages/pandas/io/formats/format.py\u001b[0m in \u001b[0;36m_format_strings\u001b[0;34m(self)\u001b[0m\n\u001b[1;32m   1332\u001b[0m         \u001b[0;32mfor\u001b[0m \u001b[0mi\u001b[0m\u001b[0;34m,\u001b[0m \u001b[0mv\u001b[0m \u001b[0;32min\u001b[0m \u001b[0menumerate\u001b[0m\u001b[0;34m(\u001b[0m\u001b[0mvals\u001b[0m\u001b[0;34m)\u001b[0m\u001b[0;34m:\u001b[0m\u001b[0;34m\u001b[0m\u001b[0;34m\u001b[0m\u001b[0m\n\u001b[1;32m   1333\u001b[0m             \u001b[0;32mif\u001b[0m \u001b[0;32mnot\u001b[0m \u001b[0mis_float_type\u001b[0m\u001b[0;34m[\u001b[0m\u001b[0mi\u001b[0m\u001b[0;34m]\u001b[0m \u001b[0;32mand\u001b[0m \u001b[0mleading_space\u001b[0m\u001b[0;34m:\u001b[0m\u001b[0;34m\u001b[0m\u001b[0;34m\u001b[0m\u001b[0m\n\u001b[0;32m-> 1334\u001b[0;31m                 \u001b[0mfmt_values\u001b[0m\u001b[0;34m.\u001b[0m\u001b[0mappend\u001b[0m\u001b[0;34m(\u001b[0m\u001b[0;34mf\" {_format(v)}\"\u001b[0m\u001b[0;34m)\u001b[0m\u001b[0;34m\u001b[0m\u001b[0;34m\u001b[0m\u001b[0m\n\u001b[0m\u001b[1;32m   1335\u001b[0m             \u001b[0;32melif\u001b[0m \u001b[0mis_float_type\u001b[0m\u001b[0;34m[\u001b[0m\u001b[0mi\u001b[0m\u001b[0;34m]\u001b[0m\u001b[0;34m:\u001b[0m\u001b[0;34m\u001b[0m\u001b[0;34m\u001b[0m\u001b[0m\n\u001b[1;32m   1336\u001b[0m                 \u001b[0mfmt_values\u001b[0m\u001b[0;34m.\u001b[0m\u001b[0mappend\u001b[0m\u001b[0;34m(\u001b[0m\u001b[0mfloat_format\u001b[0m\u001b[0;34m(\u001b[0m\u001b[0mv\u001b[0m\u001b[0;34m)\u001b[0m\u001b[0;34m)\u001b[0m\u001b[0;34m\u001b[0m\u001b[0;34m\u001b[0m\u001b[0m\n",
            "\u001b[0;31mKeyboardInterrupt\u001b[0m: "
          ]
        }
      ]
    },
    {
      "cell_type": "markdown",
      "source": [
        "##Q.3"
      ],
      "metadata": {
        "id": "DbOFt2oZIIoa"
      }
    },
    {
      "cell_type": "code",
      "source": [
        "# df1 = df_num_seq.cumsum(axis = 0, skipna = True)"
      ],
      "metadata": {
        "id": "YrGwvTlJVk9G"
      },
      "execution_count": null,
      "outputs": []
    },
    {
      "cell_type": "code",
      "source": [
        "df.head()"
      ],
      "metadata": {
        "colab": {
          "base_uri": "https://localhost:8080/",
          "height": 206
        },
        "id": "pdio3vF-L-N6",
        "outputId": "bc6af682-4f7e-4ba2-9938-5b487d784ed9"
      },
      "execution_count": 89,
      "outputs": [
        {
          "output_type": "execute_result",
          "data": {
            "text/html": [
              "\n",
              "  <div id=\"df-049f7518-72c6-4e2d-b87f-0de26903933a\">\n",
              "    <div class=\"colab-df-container\">\n",
              "      <div>\n",
              "<style scoped>\n",
              "    .dataframe tbody tr th:only-of-type {\n",
              "        vertical-align: middle;\n",
              "    }\n",
              "\n",
              "    .dataframe tbody tr th {\n",
              "        vertical-align: top;\n",
              "    }\n",
              "\n",
              "    .dataframe thead th {\n",
              "        text-align: right;\n",
              "    }\n",
              "</style>\n",
              "<table border=\"1\" class=\"dataframe\">\n",
              "  <thead>\n",
              "    <tr style=\"text-align: right;\">\n",
              "      <th></th>\n",
              "      <th>user</th>\n",
              "      <th>timestamp</th>\n",
              "      <th>x</th>\n",
              "      <th>y</th>\n",
              "      <th>z</th>\n",
              "      <th>class</th>\n",
              "      <th>time_s</th>\n",
              "      <th>time_d</th>\n",
              "      <th>sequence</th>\n",
              "      <th>min_t</th>\n",
              "      <th>part_idx</th>\n",
              "      <th>seq_c</th>\n",
              "    </tr>\n",
              "  </thead>\n",
              "  <tbody>\n",
              "    <tr>\n",
              "      <th>0</th>\n",
              "      <td>a2d80ed662f34d32951eb1c6ed076c313e358b73</td>\n",
              "      <td>2018-06-04 16:26:55</td>\n",
              "      <td>0.78</td>\n",
              "      <td>-9.13</td>\n",
              "      <td>-3.74</td>\n",
              "      <td>bus</td>\n",
              "      <td>NaT</td>\n",
              "      <td>NaN</td>\n",
              "      <td>1</td>\n",
              "      <td>2018-04-10 08:17:42</td>\n",
              "      <td>1-&gt;956270</td>\n",
              "      <td>0</td>\n",
              "    </tr>\n",
              "    <tr>\n",
              "      <th>1</th>\n",
              "      <td>a2d80ed662f34d32951eb1c6ed076c313e358b73</td>\n",
              "      <td>2018-06-04 16:26:55</td>\n",
              "      <td>0.79</td>\n",
              "      <td>-9.11</td>\n",
              "      <td>-3.75</td>\n",
              "      <td>bus</td>\n",
              "      <td>2018-06-04 16:26:55</td>\n",
              "      <td>0.0</td>\n",
              "      <td>1</td>\n",
              "      <td>2018-04-10 08:17:42</td>\n",
              "      <td>1-&gt;956270</td>\n",
              "      <td>0</td>\n",
              "    </tr>\n",
              "    <tr>\n",
              "      <th>2</th>\n",
              "      <td>a2d80ed662f34d32951eb1c6ed076c313e358b73</td>\n",
              "      <td>2018-06-04 16:26:55</td>\n",
              "      <td>0.80</td>\n",
              "      <td>-9.12</td>\n",
              "      <td>-3.75</td>\n",
              "      <td>bus</td>\n",
              "      <td>2018-06-04 16:26:55</td>\n",
              "      <td>0.0</td>\n",
              "      <td>1</td>\n",
              "      <td>2018-04-10 08:17:42</td>\n",
              "      <td>1-&gt;956270</td>\n",
              "      <td>0</td>\n",
              "    </tr>\n",
              "    <tr>\n",
              "      <th>3</th>\n",
              "      <td>a2d80ed662f34d32951eb1c6ed076c313e358b73</td>\n",
              "      <td>2018-06-04 16:26:55</td>\n",
              "      <td>0.78</td>\n",
              "      <td>-9.14</td>\n",
              "      <td>-3.76</td>\n",
              "      <td>bus</td>\n",
              "      <td>2018-06-04 16:26:55</td>\n",
              "      <td>0.0</td>\n",
              "      <td>1</td>\n",
              "      <td>2018-04-10 08:17:42</td>\n",
              "      <td>1-&gt;956270</td>\n",
              "      <td>0</td>\n",
              "    </tr>\n",
              "    <tr>\n",
              "      <th>4</th>\n",
              "      <td>a2d80ed662f34d32951eb1c6ed076c313e358b73</td>\n",
              "      <td>2018-06-04 16:26:55</td>\n",
              "      <td>0.83</td>\n",
              "      <td>-9.12</td>\n",
              "      <td>-3.80</td>\n",
              "      <td>bus</td>\n",
              "      <td>2018-06-04 16:26:55</td>\n",
              "      <td>0.0</td>\n",
              "      <td>1</td>\n",
              "      <td>2018-04-10 08:17:42</td>\n",
              "      <td>1-&gt;956270</td>\n",
              "      <td>0</td>\n",
              "    </tr>\n",
              "  </tbody>\n",
              "</table>\n",
              "</div>\n",
              "      <button class=\"colab-df-convert\" onclick=\"convertToInteractive('df-049f7518-72c6-4e2d-b87f-0de26903933a')\"\n",
              "              title=\"Convert this dataframe to an interactive table.\"\n",
              "              style=\"display:none;\">\n",
              "        \n",
              "  <svg xmlns=\"http://www.w3.org/2000/svg\" height=\"24px\"viewBox=\"0 0 24 24\"\n",
              "       width=\"24px\">\n",
              "    <path d=\"M0 0h24v24H0V0z\" fill=\"none\"/>\n",
              "    <path d=\"M18.56 5.44l.94 2.06.94-2.06 2.06-.94-2.06-.94-.94-2.06-.94 2.06-2.06.94zm-11 1L8.5 8.5l.94-2.06 2.06-.94-2.06-.94L8.5 2.5l-.94 2.06-2.06.94zm10 10l.94 2.06.94-2.06 2.06-.94-2.06-.94-.94-2.06-.94 2.06-2.06.94z\"/><path d=\"M17.41 7.96l-1.37-1.37c-.4-.4-.92-.59-1.43-.59-.52 0-1.04.2-1.43.59L10.3 9.45l-7.72 7.72c-.78.78-.78 2.05 0 2.83L4 21.41c.39.39.9.59 1.41.59.51 0 1.02-.2 1.41-.59l7.78-7.78 2.81-2.81c.8-.78.8-2.07 0-2.86zM5.41 20L4 18.59l7.72-7.72 1.47 1.35L5.41 20z\"/>\n",
              "  </svg>\n",
              "      </button>\n",
              "      \n",
              "  <style>\n",
              "    .colab-df-container {\n",
              "      display:flex;\n",
              "      flex-wrap:wrap;\n",
              "      gap: 12px;\n",
              "    }\n",
              "\n",
              "    .colab-df-convert {\n",
              "      background-color: #E8F0FE;\n",
              "      border: none;\n",
              "      border-radius: 50%;\n",
              "      cursor: pointer;\n",
              "      display: none;\n",
              "      fill: #1967D2;\n",
              "      height: 32px;\n",
              "      padding: 0 0 0 0;\n",
              "      width: 32px;\n",
              "    }\n",
              "\n",
              "    .colab-df-convert:hover {\n",
              "      background-color: #E2EBFA;\n",
              "      box-shadow: 0px 1px 2px rgba(60, 64, 67, 0.3), 0px 1px 3px 1px rgba(60, 64, 67, 0.15);\n",
              "      fill: #174EA6;\n",
              "    }\n",
              "\n",
              "    [theme=dark] .colab-df-convert {\n",
              "      background-color: #3B4455;\n",
              "      fill: #D2E3FC;\n",
              "    }\n",
              "\n",
              "    [theme=dark] .colab-df-convert:hover {\n",
              "      background-color: #434B5C;\n",
              "      box-shadow: 0px 1px 3px 1px rgba(0, 0, 0, 0.15);\n",
              "      filter: drop-shadow(0px 1px 2px rgba(0, 0, 0, 0.3));\n",
              "      fill: #FFFFFF;\n",
              "    }\n",
              "  </style>\n",
              "\n",
              "      <script>\n",
              "        const buttonEl =\n",
              "          document.querySelector('#df-049f7518-72c6-4e2d-b87f-0de26903933a button.colab-df-convert');\n",
              "        buttonEl.style.display =\n",
              "          google.colab.kernel.accessAllowed ? 'block' : 'none';\n",
              "\n",
              "        async function convertToInteractive(key) {\n",
              "          const element = document.querySelector('#df-049f7518-72c6-4e2d-b87f-0de26903933a');\n",
              "          const dataTable =\n",
              "            await google.colab.kernel.invokeFunction('convertToInteractive',\n",
              "                                                     [key], {});\n",
              "          if (!dataTable) return;\n",
              "\n",
              "          const docLinkHtml = 'Like what you see? Visit the ' +\n",
              "            '<a target=\"_blank\" href=https://colab.research.google.com/notebooks/data_table.ipynb>data table notebook</a>'\n",
              "            + ' to learn more about interactive tables.';\n",
              "          element.innerHTML = '';\n",
              "          dataTable['output_type'] = 'display_data';\n",
              "          await google.colab.output.renderOutput(dataTable, element);\n",
              "          const docLink = document.createElement('div');\n",
              "          docLink.innerHTML = docLinkHtml;\n",
              "          element.appendChild(docLink);\n",
              "        }\n",
              "      </script>\n",
              "    </div>\n",
              "  </div>\n",
              "  "
            ],
            "text/plain": [
              "                                       user           timestamp     x     y  \\\n",
              "0  a2d80ed662f34d32951eb1c6ed076c313e358b73 2018-06-04 16:26:55  0.78 -9.13   \n",
              "1  a2d80ed662f34d32951eb1c6ed076c313e358b73 2018-06-04 16:26:55  0.79 -9.11   \n",
              "2  a2d80ed662f34d32951eb1c6ed076c313e358b73 2018-06-04 16:26:55  0.80 -9.12   \n",
              "3  a2d80ed662f34d32951eb1c6ed076c313e358b73 2018-06-04 16:26:55  0.78 -9.14   \n",
              "4  a2d80ed662f34d32951eb1c6ed076c313e358b73 2018-06-04 16:26:55  0.83 -9.12   \n",
              "\n",
              "      z class              time_s  time_d  sequence               min_t  \\\n",
              "0 -3.74   bus                 NaT     NaN         1 2018-04-10 08:17:42   \n",
              "1 -3.75   bus 2018-06-04 16:26:55     0.0         1 2018-04-10 08:17:42   \n",
              "2 -3.75   bus 2018-06-04 16:26:55     0.0         1 2018-04-10 08:17:42   \n",
              "3 -3.76   bus 2018-06-04 16:26:55     0.0         1 2018-04-10 08:17:42   \n",
              "4 -3.80   bus 2018-06-04 16:26:55     0.0         1 2018-04-10 08:17:42   \n",
              "\n",
              "    part_idx  seq_c  \n",
              "0  1->956270      0  \n",
              "1  1->956270      0  \n",
              "2  1->956270      0  \n",
              "3  1->956270      0  \n",
              "4  1->956270      0  "
            ]
          },
          "metadata": {},
          "execution_count": 89
        }
      ]
    },
    {
      "cell_type": "code",
      "source": [
        "df = df.drop(['seq_c'],axis = 1)"
      ],
      "metadata": {
        "id": "hUen_WEx50G_"
      },
      "execution_count": 90,
      "outputs": []
    },
    {
      "cell_type": "code",
      "source": [
        "df['min_t'] = df.groupby('sequence').timestamp.transform('min')"
      ],
      "metadata": {
        "id": "caAiXNvx6hSs"
      },
      "execution_count": 91,
      "outputs": []
    },
    {
      "cell_type": "code",
      "source": [
        "df.head()"
      ],
      "metadata": {
        "colab": {
          "base_uri": "https://localhost:8080/",
          "height": 206
        },
        "id": "70JugKTS56Vh",
        "outputId": "8e222b0c-662f-4ffe-f280-56c6e424e573"
      },
      "execution_count": 92,
      "outputs": [
        {
          "output_type": "execute_result",
          "data": {
            "text/html": [
              "\n",
              "  <div id=\"df-9c306307-595d-4ca7-9135-005b89b875f1\">\n",
              "    <div class=\"colab-df-container\">\n",
              "      <div>\n",
              "<style scoped>\n",
              "    .dataframe tbody tr th:only-of-type {\n",
              "        vertical-align: middle;\n",
              "    }\n",
              "\n",
              "    .dataframe tbody tr th {\n",
              "        vertical-align: top;\n",
              "    }\n",
              "\n",
              "    .dataframe thead th {\n",
              "        text-align: right;\n",
              "    }\n",
              "</style>\n",
              "<table border=\"1\" class=\"dataframe\">\n",
              "  <thead>\n",
              "    <tr style=\"text-align: right;\">\n",
              "      <th></th>\n",
              "      <th>user</th>\n",
              "      <th>timestamp</th>\n",
              "      <th>x</th>\n",
              "      <th>y</th>\n",
              "      <th>z</th>\n",
              "      <th>class</th>\n",
              "      <th>time_s</th>\n",
              "      <th>time_d</th>\n",
              "      <th>sequence</th>\n",
              "      <th>min_t</th>\n",
              "      <th>part_idx</th>\n",
              "    </tr>\n",
              "  </thead>\n",
              "  <tbody>\n",
              "    <tr>\n",
              "      <th>0</th>\n",
              "      <td>a2d80ed662f34d32951eb1c6ed076c313e358b73</td>\n",
              "      <td>2018-06-04 16:26:55</td>\n",
              "      <td>0.78</td>\n",
              "      <td>-9.13</td>\n",
              "      <td>-3.74</td>\n",
              "      <td>bus</td>\n",
              "      <td>NaT</td>\n",
              "      <td>NaN</td>\n",
              "      <td>1</td>\n",
              "      <td>2018-06-04 16:26:55</td>\n",
              "      <td>1-&gt;956270</td>\n",
              "    </tr>\n",
              "    <tr>\n",
              "      <th>1</th>\n",
              "      <td>a2d80ed662f34d32951eb1c6ed076c313e358b73</td>\n",
              "      <td>2018-06-04 16:26:55</td>\n",
              "      <td>0.79</td>\n",
              "      <td>-9.11</td>\n",
              "      <td>-3.75</td>\n",
              "      <td>bus</td>\n",
              "      <td>2018-06-04 16:26:55</td>\n",
              "      <td>0.0</td>\n",
              "      <td>1</td>\n",
              "      <td>2018-06-04 16:26:55</td>\n",
              "      <td>1-&gt;956270</td>\n",
              "    </tr>\n",
              "    <tr>\n",
              "      <th>2</th>\n",
              "      <td>a2d80ed662f34d32951eb1c6ed076c313e358b73</td>\n",
              "      <td>2018-06-04 16:26:55</td>\n",
              "      <td>0.80</td>\n",
              "      <td>-9.12</td>\n",
              "      <td>-3.75</td>\n",
              "      <td>bus</td>\n",
              "      <td>2018-06-04 16:26:55</td>\n",
              "      <td>0.0</td>\n",
              "      <td>1</td>\n",
              "      <td>2018-06-04 16:26:55</td>\n",
              "      <td>1-&gt;956270</td>\n",
              "    </tr>\n",
              "    <tr>\n",
              "      <th>3</th>\n",
              "      <td>a2d80ed662f34d32951eb1c6ed076c313e358b73</td>\n",
              "      <td>2018-06-04 16:26:55</td>\n",
              "      <td>0.78</td>\n",
              "      <td>-9.14</td>\n",
              "      <td>-3.76</td>\n",
              "      <td>bus</td>\n",
              "      <td>2018-06-04 16:26:55</td>\n",
              "      <td>0.0</td>\n",
              "      <td>1</td>\n",
              "      <td>2018-06-04 16:26:55</td>\n",
              "      <td>1-&gt;956270</td>\n",
              "    </tr>\n",
              "    <tr>\n",
              "      <th>4</th>\n",
              "      <td>a2d80ed662f34d32951eb1c6ed076c313e358b73</td>\n",
              "      <td>2018-06-04 16:26:55</td>\n",
              "      <td>0.83</td>\n",
              "      <td>-9.12</td>\n",
              "      <td>-3.80</td>\n",
              "      <td>bus</td>\n",
              "      <td>2018-06-04 16:26:55</td>\n",
              "      <td>0.0</td>\n",
              "      <td>1</td>\n",
              "      <td>2018-06-04 16:26:55</td>\n",
              "      <td>1-&gt;956270</td>\n",
              "    </tr>\n",
              "  </tbody>\n",
              "</table>\n",
              "</div>\n",
              "      <button class=\"colab-df-convert\" onclick=\"convertToInteractive('df-9c306307-595d-4ca7-9135-005b89b875f1')\"\n",
              "              title=\"Convert this dataframe to an interactive table.\"\n",
              "              style=\"display:none;\">\n",
              "        \n",
              "  <svg xmlns=\"http://www.w3.org/2000/svg\" height=\"24px\"viewBox=\"0 0 24 24\"\n",
              "       width=\"24px\">\n",
              "    <path d=\"M0 0h24v24H0V0z\" fill=\"none\"/>\n",
              "    <path d=\"M18.56 5.44l.94 2.06.94-2.06 2.06-.94-2.06-.94-.94-2.06-.94 2.06-2.06.94zm-11 1L8.5 8.5l.94-2.06 2.06-.94-2.06-.94L8.5 2.5l-.94 2.06-2.06.94zm10 10l.94 2.06.94-2.06 2.06-.94-2.06-.94-.94-2.06-.94 2.06-2.06.94z\"/><path d=\"M17.41 7.96l-1.37-1.37c-.4-.4-.92-.59-1.43-.59-.52 0-1.04.2-1.43.59L10.3 9.45l-7.72 7.72c-.78.78-.78 2.05 0 2.83L4 21.41c.39.39.9.59 1.41.59.51 0 1.02-.2 1.41-.59l7.78-7.78 2.81-2.81c.8-.78.8-2.07 0-2.86zM5.41 20L4 18.59l7.72-7.72 1.47 1.35L5.41 20z\"/>\n",
              "  </svg>\n",
              "      </button>\n",
              "      \n",
              "  <style>\n",
              "    .colab-df-container {\n",
              "      display:flex;\n",
              "      flex-wrap:wrap;\n",
              "      gap: 12px;\n",
              "    }\n",
              "\n",
              "    .colab-df-convert {\n",
              "      background-color: #E8F0FE;\n",
              "      border: none;\n",
              "      border-radius: 50%;\n",
              "      cursor: pointer;\n",
              "      display: none;\n",
              "      fill: #1967D2;\n",
              "      height: 32px;\n",
              "      padding: 0 0 0 0;\n",
              "      width: 32px;\n",
              "    }\n",
              "\n",
              "    .colab-df-convert:hover {\n",
              "      background-color: #E2EBFA;\n",
              "      box-shadow: 0px 1px 2px rgba(60, 64, 67, 0.3), 0px 1px 3px 1px rgba(60, 64, 67, 0.15);\n",
              "      fill: #174EA6;\n",
              "    }\n",
              "\n",
              "    [theme=dark] .colab-df-convert {\n",
              "      background-color: #3B4455;\n",
              "      fill: #D2E3FC;\n",
              "    }\n",
              "\n",
              "    [theme=dark] .colab-df-convert:hover {\n",
              "      background-color: #434B5C;\n",
              "      box-shadow: 0px 1px 3px 1px rgba(0, 0, 0, 0.15);\n",
              "      filter: drop-shadow(0px 1px 2px rgba(0, 0, 0, 0.3));\n",
              "      fill: #FFFFFF;\n",
              "    }\n",
              "  </style>\n",
              "\n",
              "      <script>\n",
              "        const buttonEl =\n",
              "          document.querySelector('#df-9c306307-595d-4ca7-9135-005b89b875f1 button.colab-df-convert');\n",
              "        buttonEl.style.display =\n",
              "          google.colab.kernel.accessAllowed ? 'block' : 'none';\n",
              "\n",
              "        async function convertToInteractive(key) {\n",
              "          const element = document.querySelector('#df-9c306307-595d-4ca7-9135-005b89b875f1');\n",
              "          const dataTable =\n",
              "            await google.colab.kernel.invokeFunction('convertToInteractive',\n",
              "                                                     [key], {});\n",
              "          if (!dataTable) return;\n",
              "\n",
              "          const docLinkHtml = 'Like what you see? Visit the ' +\n",
              "            '<a target=\"_blank\" href=https://colab.research.google.com/notebooks/data_table.ipynb>data table notebook</a>'\n",
              "            + ' to learn more about interactive tables.';\n",
              "          element.innerHTML = '';\n",
              "          dataTable['output_type'] = 'display_data';\n",
              "          await google.colab.output.renderOutput(dataTable, element);\n",
              "          const docLink = document.createElement('div');\n",
              "          docLink.innerHTML = docLinkHtml;\n",
              "          element.appendChild(docLink);\n",
              "        }\n",
              "      </script>\n",
              "    </div>\n",
              "  </div>\n",
              "  "
            ],
            "text/plain": [
              "                                       user           timestamp     x     y  \\\n",
              "0  a2d80ed662f34d32951eb1c6ed076c313e358b73 2018-06-04 16:26:55  0.78 -9.13   \n",
              "1  a2d80ed662f34d32951eb1c6ed076c313e358b73 2018-06-04 16:26:55  0.79 -9.11   \n",
              "2  a2d80ed662f34d32951eb1c6ed076c313e358b73 2018-06-04 16:26:55  0.80 -9.12   \n",
              "3  a2d80ed662f34d32951eb1c6ed076c313e358b73 2018-06-04 16:26:55  0.78 -9.14   \n",
              "4  a2d80ed662f34d32951eb1c6ed076c313e358b73 2018-06-04 16:26:55  0.83 -9.12   \n",
              "\n",
              "      z class              time_s  time_d  sequence               min_t  \\\n",
              "0 -3.74   bus                 NaT     NaN         1 2018-06-04 16:26:55   \n",
              "1 -3.75   bus 2018-06-04 16:26:55     0.0         1 2018-06-04 16:26:55   \n",
              "2 -3.75   bus 2018-06-04 16:26:55     0.0         1 2018-06-04 16:26:55   \n",
              "3 -3.76   bus 2018-06-04 16:26:55     0.0         1 2018-06-04 16:26:55   \n",
              "4 -3.80   bus 2018-06-04 16:26:55     0.0         1 2018-06-04 16:26:55   \n",
              "\n",
              "    part_idx  \n",
              "0  1->956270  \n",
              "1  1->956270  \n",
              "2  1->956270  \n",
              "3  1->956270  \n",
              "4  1->956270  "
            ]
          },
          "metadata": {},
          "execution_count": 92
        }
      ]
    },
    {
      "cell_type": "code",
      "source": [
        "def CreatePartition(seq_id, t, minT):\n",
        "  r = (t-minT)/np.timedelta64(1,'s')\n",
        "  r_int = int(r/5)\n",
        "  r_str = str(r_int)\n",
        "  ans = str(seq_id) + \"->\" + r_str\n",
        "  return ans"
      ],
      "metadata": {
        "id": "-aGK-woF6DC0"
      },
      "execution_count": 93,
      "outputs": []
    },
    {
      "cell_type": "code",
      "source": [
        "df['part_idx'] = np.vectorize(CreatePartition)(df['sequence'], df['timestamp'],df['min_t'])"
      ],
      "metadata": {
        "id": "AV2LXIpX-ASi"
      },
      "execution_count": 94,
      "outputs": []
    },
    {
      "cell_type": "code",
      "source": [
        "df['part_idx'].nunique()"
      ],
      "metadata": {
        "colab": {
          "base_uri": "https://localhost:8080/"
        },
        "id": "FwIRPu9hANdx",
        "outputId": "f0e4234b-eee9-4bcc-c8fc-37a5f5e6915f"
      },
      "execution_count": 95,
      "outputs": [
        {
          "output_type": "execute_result",
          "data": {
            "text/plain": [
              "40593"
            ]
          },
          "metadata": {},
          "execution_count": 95
        }
      ]
    },
    {
      "cell_type": "code",
      "source": [
        "df.head()"
      ],
      "metadata": {
        "colab": {
          "base_uri": "https://localhost:8080/",
          "height": 206
        },
        "id": "Mfez4QO4BItC",
        "outputId": "31782b82-e8a3-4a94-f073-f58949c3c143"
      },
      "execution_count": 96,
      "outputs": [
        {
          "output_type": "execute_result",
          "data": {
            "text/html": [
              "\n",
              "  <div id=\"df-19f9db67-329c-49fd-a9f2-863a9e3071aa\">\n",
              "    <div class=\"colab-df-container\">\n",
              "      <div>\n",
              "<style scoped>\n",
              "    .dataframe tbody tr th:only-of-type {\n",
              "        vertical-align: middle;\n",
              "    }\n",
              "\n",
              "    .dataframe tbody tr th {\n",
              "        vertical-align: top;\n",
              "    }\n",
              "\n",
              "    .dataframe thead th {\n",
              "        text-align: right;\n",
              "    }\n",
              "</style>\n",
              "<table border=\"1\" class=\"dataframe\">\n",
              "  <thead>\n",
              "    <tr style=\"text-align: right;\">\n",
              "      <th></th>\n",
              "      <th>user</th>\n",
              "      <th>timestamp</th>\n",
              "      <th>x</th>\n",
              "      <th>y</th>\n",
              "      <th>z</th>\n",
              "      <th>class</th>\n",
              "      <th>time_s</th>\n",
              "      <th>time_d</th>\n",
              "      <th>sequence</th>\n",
              "      <th>min_t</th>\n",
              "      <th>part_idx</th>\n",
              "    </tr>\n",
              "  </thead>\n",
              "  <tbody>\n",
              "    <tr>\n",
              "      <th>0</th>\n",
              "      <td>a2d80ed662f34d32951eb1c6ed076c313e358b73</td>\n",
              "      <td>2018-06-04 16:26:55</td>\n",
              "      <td>0.78</td>\n",
              "      <td>-9.13</td>\n",
              "      <td>-3.74</td>\n",
              "      <td>bus</td>\n",
              "      <td>NaT</td>\n",
              "      <td>NaN</td>\n",
              "      <td>1</td>\n",
              "      <td>2018-06-04 16:26:55</td>\n",
              "      <td>1-&gt;0</td>\n",
              "    </tr>\n",
              "    <tr>\n",
              "      <th>1</th>\n",
              "      <td>a2d80ed662f34d32951eb1c6ed076c313e358b73</td>\n",
              "      <td>2018-06-04 16:26:55</td>\n",
              "      <td>0.79</td>\n",
              "      <td>-9.11</td>\n",
              "      <td>-3.75</td>\n",
              "      <td>bus</td>\n",
              "      <td>2018-06-04 16:26:55</td>\n",
              "      <td>0.0</td>\n",
              "      <td>1</td>\n",
              "      <td>2018-06-04 16:26:55</td>\n",
              "      <td>1-&gt;0</td>\n",
              "    </tr>\n",
              "    <tr>\n",
              "      <th>2</th>\n",
              "      <td>a2d80ed662f34d32951eb1c6ed076c313e358b73</td>\n",
              "      <td>2018-06-04 16:26:55</td>\n",
              "      <td>0.80</td>\n",
              "      <td>-9.12</td>\n",
              "      <td>-3.75</td>\n",
              "      <td>bus</td>\n",
              "      <td>2018-06-04 16:26:55</td>\n",
              "      <td>0.0</td>\n",
              "      <td>1</td>\n",
              "      <td>2018-06-04 16:26:55</td>\n",
              "      <td>1-&gt;0</td>\n",
              "    </tr>\n",
              "    <tr>\n",
              "      <th>3</th>\n",
              "      <td>a2d80ed662f34d32951eb1c6ed076c313e358b73</td>\n",
              "      <td>2018-06-04 16:26:55</td>\n",
              "      <td>0.78</td>\n",
              "      <td>-9.14</td>\n",
              "      <td>-3.76</td>\n",
              "      <td>bus</td>\n",
              "      <td>2018-06-04 16:26:55</td>\n",
              "      <td>0.0</td>\n",
              "      <td>1</td>\n",
              "      <td>2018-06-04 16:26:55</td>\n",
              "      <td>1-&gt;0</td>\n",
              "    </tr>\n",
              "    <tr>\n",
              "      <th>4</th>\n",
              "      <td>a2d80ed662f34d32951eb1c6ed076c313e358b73</td>\n",
              "      <td>2018-06-04 16:26:55</td>\n",
              "      <td>0.83</td>\n",
              "      <td>-9.12</td>\n",
              "      <td>-3.80</td>\n",
              "      <td>bus</td>\n",
              "      <td>2018-06-04 16:26:55</td>\n",
              "      <td>0.0</td>\n",
              "      <td>1</td>\n",
              "      <td>2018-06-04 16:26:55</td>\n",
              "      <td>1-&gt;0</td>\n",
              "    </tr>\n",
              "  </tbody>\n",
              "</table>\n",
              "</div>\n",
              "      <button class=\"colab-df-convert\" onclick=\"convertToInteractive('df-19f9db67-329c-49fd-a9f2-863a9e3071aa')\"\n",
              "              title=\"Convert this dataframe to an interactive table.\"\n",
              "              style=\"display:none;\">\n",
              "        \n",
              "  <svg xmlns=\"http://www.w3.org/2000/svg\" height=\"24px\"viewBox=\"0 0 24 24\"\n",
              "       width=\"24px\">\n",
              "    <path d=\"M0 0h24v24H0V0z\" fill=\"none\"/>\n",
              "    <path d=\"M18.56 5.44l.94 2.06.94-2.06 2.06-.94-2.06-.94-.94-2.06-.94 2.06-2.06.94zm-11 1L8.5 8.5l.94-2.06 2.06-.94-2.06-.94L8.5 2.5l-.94 2.06-2.06.94zm10 10l.94 2.06.94-2.06 2.06-.94-2.06-.94-.94-2.06-.94 2.06-2.06.94z\"/><path d=\"M17.41 7.96l-1.37-1.37c-.4-.4-.92-.59-1.43-.59-.52 0-1.04.2-1.43.59L10.3 9.45l-7.72 7.72c-.78.78-.78 2.05 0 2.83L4 21.41c.39.39.9.59 1.41.59.51 0 1.02-.2 1.41-.59l7.78-7.78 2.81-2.81c.8-.78.8-2.07 0-2.86zM5.41 20L4 18.59l7.72-7.72 1.47 1.35L5.41 20z\"/>\n",
              "  </svg>\n",
              "      </button>\n",
              "      \n",
              "  <style>\n",
              "    .colab-df-container {\n",
              "      display:flex;\n",
              "      flex-wrap:wrap;\n",
              "      gap: 12px;\n",
              "    }\n",
              "\n",
              "    .colab-df-convert {\n",
              "      background-color: #E8F0FE;\n",
              "      border: none;\n",
              "      border-radius: 50%;\n",
              "      cursor: pointer;\n",
              "      display: none;\n",
              "      fill: #1967D2;\n",
              "      height: 32px;\n",
              "      padding: 0 0 0 0;\n",
              "      width: 32px;\n",
              "    }\n",
              "\n",
              "    .colab-df-convert:hover {\n",
              "      background-color: #E2EBFA;\n",
              "      box-shadow: 0px 1px 2px rgba(60, 64, 67, 0.3), 0px 1px 3px 1px rgba(60, 64, 67, 0.15);\n",
              "      fill: #174EA6;\n",
              "    }\n",
              "\n",
              "    [theme=dark] .colab-df-convert {\n",
              "      background-color: #3B4455;\n",
              "      fill: #D2E3FC;\n",
              "    }\n",
              "\n",
              "    [theme=dark] .colab-df-convert:hover {\n",
              "      background-color: #434B5C;\n",
              "      box-shadow: 0px 1px 3px 1px rgba(0, 0, 0, 0.15);\n",
              "      filter: drop-shadow(0px 1px 2px rgba(0, 0, 0, 0.3));\n",
              "      fill: #FFFFFF;\n",
              "    }\n",
              "  </style>\n",
              "\n",
              "      <script>\n",
              "        const buttonEl =\n",
              "          document.querySelector('#df-19f9db67-329c-49fd-a9f2-863a9e3071aa button.colab-df-convert');\n",
              "        buttonEl.style.display =\n",
              "          google.colab.kernel.accessAllowed ? 'block' : 'none';\n",
              "\n",
              "        async function convertToInteractive(key) {\n",
              "          const element = document.querySelector('#df-19f9db67-329c-49fd-a9f2-863a9e3071aa');\n",
              "          const dataTable =\n",
              "            await google.colab.kernel.invokeFunction('convertToInteractive',\n",
              "                                                     [key], {});\n",
              "          if (!dataTable) return;\n",
              "\n",
              "          const docLinkHtml = 'Like what you see? Visit the ' +\n",
              "            '<a target=\"_blank\" href=https://colab.research.google.com/notebooks/data_table.ipynb>data table notebook</a>'\n",
              "            + ' to learn more about interactive tables.';\n",
              "          element.innerHTML = '';\n",
              "          dataTable['output_type'] = 'display_data';\n",
              "          await google.colab.output.renderOutput(dataTable, element);\n",
              "          const docLink = document.createElement('div');\n",
              "          docLink.innerHTML = docLinkHtml;\n",
              "          element.appendChild(docLink);\n",
              "        }\n",
              "      </script>\n",
              "    </div>\n",
              "  </div>\n",
              "  "
            ],
            "text/plain": [
              "                                       user           timestamp     x     y  \\\n",
              "0  a2d80ed662f34d32951eb1c6ed076c313e358b73 2018-06-04 16:26:55  0.78 -9.13   \n",
              "1  a2d80ed662f34d32951eb1c6ed076c313e358b73 2018-06-04 16:26:55  0.79 -9.11   \n",
              "2  a2d80ed662f34d32951eb1c6ed076c313e358b73 2018-06-04 16:26:55  0.80 -9.12   \n",
              "3  a2d80ed662f34d32951eb1c6ed076c313e358b73 2018-06-04 16:26:55  0.78 -9.14   \n",
              "4  a2d80ed662f34d32951eb1c6ed076c313e358b73 2018-06-04 16:26:55  0.83 -9.12   \n",
              "\n",
              "      z class              time_s  time_d  sequence               min_t  \\\n",
              "0 -3.74   bus                 NaT     NaN         1 2018-06-04 16:26:55   \n",
              "1 -3.75   bus 2018-06-04 16:26:55     0.0         1 2018-06-04 16:26:55   \n",
              "2 -3.75   bus 2018-06-04 16:26:55     0.0         1 2018-06-04 16:26:55   \n",
              "3 -3.76   bus 2018-06-04 16:26:55     0.0         1 2018-06-04 16:26:55   \n",
              "4 -3.80   bus 2018-06-04 16:26:55     0.0         1 2018-06-04 16:26:55   \n",
              "\n",
              "  part_idx  \n",
              "0     1->0  \n",
              "1     1->0  \n",
              "2     1->0  \n",
              "3     1->0  \n",
              "4     1->0  "
            ]
          },
          "metadata": {},
          "execution_count": 96
        }
      ]
    },
    {
      "cell_type": "code",
      "source": [
        "df4 = df.drop(['timestamp','x','y','z','time_s','time_d','sequence','min_t'], axis = 1)"
      ],
      "metadata": {
        "id": "NbdL88sLCWat"
      },
      "execution_count": 97,
      "outputs": []
    },
    {
      "cell_type": "code",
      "source": [
        "df3 = df4.groupby(['user','class']).nunique()"
      ],
      "metadata": {
        "id": "Io0BJvuHBDUA"
      },
      "execution_count": 98,
      "outputs": []
    },
    {
      "cell_type": "code",
      "source": [
        "pd.set_option('display.max_rows',None, 'display.max_columns',None)\n",
        "df3"
      ],
      "metadata": {
        "colab": {
          "base_uri": "https://localhost:8080/",
          "height": 1000
        },
        "id": "xa_cXHikCM2w",
        "outputId": "5cec50ee-4590-4ec8-bc24-208e4262de80"
      },
      "execution_count": 99,
      "outputs": [
        {
          "output_type": "execute_result",
          "data": {
            "text/html": [
              "\n",
              "  <div id=\"df-1028b7a1-e9d4-489a-aaa1-ed821741be96\">\n",
              "    <div class=\"colab-df-container\">\n",
              "      <div>\n",
              "<style scoped>\n",
              "    .dataframe tbody tr th:only-of-type {\n",
              "        vertical-align: middle;\n",
              "    }\n",
              "\n",
              "    .dataframe tbody tr th {\n",
              "        vertical-align: top;\n",
              "    }\n",
              "\n",
              "    .dataframe thead th {\n",
              "        text-align: right;\n",
              "    }\n",
              "</style>\n",
              "<table border=\"1\" class=\"dataframe\">\n",
              "  <thead>\n",
              "    <tr style=\"text-align: right;\">\n",
              "      <th></th>\n",
              "      <th></th>\n",
              "      <th>part_idx</th>\n",
              "    </tr>\n",
              "    <tr>\n",
              "      <th>user</th>\n",
              "      <th>class</th>\n",
              "      <th></th>\n",
              "    </tr>\n",
              "  </thead>\n",
              "  <tbody>\n",
              "    <tr>\n",
              "      <th>a2d80ed662f34d32951eb1c6ed076c313e358b73</th>\n",
              "      <th>bus</th>\n",
              "      <td>35</td>\n",
              "    </tr>\n",
              "    <tr>\n",
              "      <th rowspan=\"2\" valign=\"top\">a526f3566e9c9024dfa7378eb4291d787a09fd37</th>\n",
              "      <th>car</th>\n",
              "      <td>1546</td>\n",
              "    </tr>\n",
              "    <tr>\n",
              "      <th>walk</th>\n",
              "      <td>302</td>\n",
              "    </tr>\n",
              "    <tr>\n",
              "      <th rowspan=\"4\" valign=\"top\">a59868c6eb3645eedbb343ce8c336ec6f2ef2324</th>\n",
              "      <th>bike</th>\n",
              "      <td>572</td>\n",
              "    </tr>\n",
              "    <tr>\n",
              "      <th>bus</th>\n",
              "      <td>3854</td>\n",
              "    </tr>\n",
              "    <tr>\n",
              "      <th>car</th>\n",
              "      <td>2090</td>\n",
              "    </tr>\n",
              "    <tr>\n",
              "      <th>walk</th>\n",
              "      <td>827</td>\n",
              "    </tr>\n",
              "    <tr>\n",
              "      <th>a92dee88f61123f923dccec01eeecf1a81953b36</th>\n",
              "      <th>bus</th>\n",
              "      <td>730</td>\n",
              "    </tr>\n",
              "    <tr>\n",
              "      <th rowspan=\"2\" valign=\"top\">ac4c17afeb69b39169eb301ab592696a8f353976</th>\n",
              "      <th>car</th>\n",
              "      <td>63</td>\n",
              "    </tr>\n",
              "    <tr>\n",
              "      <th>walk</th>\n",
              "      <td>480</td>\n",
              "    </tr>\n",
              "    <tr>\n",
              "      <th rowspan=\"3\" valign=\"top\">adaaae1a67ea9e43abd60ba945eccda0cb8821e0</th>\n",
              "      <th>bus</th>\n",
              "      <td>1160</td>\n",
              "    </tr>\n",
              "    <tr>\n",
              "      <th>car</th>\n",
              "      <td>537</td>\n",
              "    </tr>\n",
              "    <tr>\n",
              "      <th>walk</th>\n",
              "      <td>155</td>\n",
              "    </tr>\n",
              "    <tr>\n",
              "      <th>b138d165100ef60bc793cac143742eb5aea4d6ba</th>\n",
              "      <th>car</th>\n",
              "      <td>416</td>\n",
              "    </tr>\n",
              "    <tr>\n",
              "      <th rowspan=\"2\" valign=\"top\">b45157069942d01310c3e7b74034166717bb25f9</th>\n",
              "      <th>car</th>\n",
              "      <td>430</td>\n",
              "    </tr>\n",
              "    <tr>\n",
              "      <th>walk</th>\n",
              "      <td>76</td>\n",
              "    </tr>\n",
              "    <tr>\n",
              "      <th rowspan=\"2\" valign=\"top\">b7b165e5637b5a0226068d907748f4bbfc61a320</th>\n",
              "      <th>car</th>\n",
              "      <td>2135</td>\n",
              "    </tr>\n",
              "    <tr>\n",
              "      <th>walk</th>\n",
              "      <td>206</td>\n",
              "    </tr>\n",
              "    <tr>\n",
              "      <th rowspan=\"2\" valign=\"top\">c453226e3616ae821cdcb38f38481c2a20f2482f</th>\n",
              "      <th>bike</th>\n",
              "      <td>502</td>\n",
              "    </tr>\n",
              "    <tr>\n",
              "      <th>bus</th>\n",
              "      <td>1469</td>\n",
              "    </tr>\n",
              "    <tr>\n",
              "      <th rowspan=\"3\" valign=\"top\">c5702d34b238fe68683f818e82cd3a3cd8a16366</th>\n",
              "      <th>bike</th>\n",
              "      <td>204</td>\n",
              "    </tr>\n",
              "    <tr>\n",
              "      <th>bus</th>\n",
              "      <td>200</td>\n",
              "    </tr>\n",
              "    <tr>\n",
              "      <th>walk</th>\n",
              "      <td>1243</td>\n",
              "    </tr>\n",
              "    <tr>\n",
              "      <th>ca7950f223a8037b897d0547075dc138f9e43b20</th>\n",
              "      <th>walk</th>\n",
              "      <td>65</td>\n",
              "    </tr>\n",
              "    <tr>\n",
              "      <th>cace4ec0999436917986b4fa6e9317262c897bc2</th>\n",
              "      <th>car</th>\n",
              "      <td>1151</td>\n",
              "    </tr>\n",
              "    <tr>\n",
              "      <th>cbde60baea002b694ecf2a3ff2d95be16b00efe1</th>\n",
              "      <th>bus</th>\n",
              "      <td>414</td>\n",
              "    </tr>\n",
              "    <tr>\n",
              "      <th rowspan=\"2\" valign=\"top\">ce39f5d0705695fcd70a04ba6d84ac6beecd6f9c</th>\n",
              "      <th>bus</th>\n",
              "      <td>448</td>\n",
              "    </tr>\n",
              "    <tr>\n",
              "      <th>car</th>\n",
              "      <td>506</td>\n",
              "    </tr>\n",
              "    <tr>\n",
              "      <th rowspan=\"3\" valign=\"top\">d429974540bfd38c3367fe9f0c8682775ff4fa18</th>\n",
              "      <th>bus</th>\n",
              "      <td>521</td>\n",
              "    </tr>\n",
              "    <tr>\n",
              "      <th>car</th>\n",
              "      <td>921</td>\n",
              "    </tr>\n",
              "    <tr>\n",
              "      <th>walk</th>\n",
              "      <td>102</td>\n",
              "    </tr>\n",
              "    <tr>\n",
              "      <th rowspan=\"3\" valign=\"top\">d7a1230d94f91a32cc079809748e52e8a4a6a22f</th>\n",
              "      <th>bike</th>\n",
              "      <td>369</td>\n",
              "    </tr>\n",
              "    <tr>\n",
              "      <th>train</th>\n",
              "      <td>420</td>\n",
              "    </tr>\n",
              "    <tr>\n",
              "      <th>walk</th>\n",
              "      <td>81</td>\n",
              "    </tr>\n",
              "    <tr>\n",
              "      <th>d7dd12d83c81574137f858034b99f4cc83ab0718</th>\n",
              "      <th>car</th>\n",
              "      <td>674</td>\n",
              "    </tr>\n",
              "    <tr>\n",
              "      <th rowspan=\"2\" valign=\"top\">d8c047eaaee204b7b5cd71e2d67308b87b038ed3</th>\n",
              "      <th>car</th>\n",
              "      <td>1762</td>\n",
              "    </tr>\n",
              "    <tr>\n",
              "      <th>walk</th>\n",
              "      <td>165</td>\n",
              "    </tr>\n",
              "    <tr>\n",
              "      <th rowspan=\"3\" valign=\"top\">dc0bdce306ec3b624fe0e6ecd1ffbd82cb970120</th>\n",
              "      <th>bike</th>\n",
              "      <td>574</td>\n",
              "    </tr>\n",
              "    <tr>\n",
              "      <th>car</th>\n",
              "      <td>148</td>\n",
              "    </tr>\n",
              "    <tr>\n",
              "      <th>walk</th>\n",
              "      <td>37</td>\n",
              "    </tr>\n",
              "    <tr>\n",
              "      <th rowspan=\"2\" valign=\"top\">dd82e3df4bebc74ed6b67877be79e29f401c16a3</th>\n",
              "      <th>car</th>\n",
              "      <td>940</td>\n",
              "    </tr>\n",
              "    <tr>\n",
              "      <th>walk</th>\n",
              "      <td>237</td>\n",
              "    </tr>\n",
              "    <tr>\n",
              "      <th rowspan=\"3\" valign=\"top\">dde95e125d89843f7032baa734ee4d34ec775aaf</th>\n",
              "      <th>bus</th>\n",
              "      <td>35</td>\n",
              "    </tr>\n",
              "    <tr>\n",
              "      <th>car</th>\n",
              "      <td>43</td>\n",
              "    </tr>\n",
              "    <tr>\n",
              "      <th>walk</th>\n",
              "      <td>51</td>\n",
              "    </tr>\n",
              "    <tr>\n",
              "      <th rowspan=\"2\" valign=\"top\">de9892b879c83ea3d24fb4560873107cc4e86d48</th>\n",
              "      <th>car</th>\n",
              "      <td>925</td>\n",
              "    </tr>\n",
              "    <tr>\n",
              "      <th>walk</th>\n",
              "      <td>337</td>\n",
              "    </tr>\n",
              "    <tr>\n",
              "      <th rowspan=\"3\" valign=\"top\">dfcfc0404691b73b69884073159f90843f2ac35b</th>\n",
              "      <th>bus</th>\n",
              "      <td>441</td>\n",
              "    </tr>\n",
              "    <tr>\n",
              "      <th>car</th>\n",
              "      <td>1271</td>\n",
              "    </tr>\n",
              "    <tr>\n",
              "      <th>walk</th>\n",
              "      <td>797</td>\n",
              "    </tr>\n",
              "    <tr>\n",
              "      <th rowspan=\"2\" valign=\"top\">e429a95c532f1117130c11e4a18379d84fa4ffa9</th>\n",
              "      <th>bus</th>\n",
              "      <td>620</td>\n",
              "    </tr>\n",
              "    <tr>\n",
              "      <th>car</th>\n",
              "      <td>185</td>\n",
              "    </tr>\n",
              "    <tr>\n",
              "      <th rowspan=\"3\" valign=\"top\">eb9e7854290fd6ea9ebaf448b640fc1f1dbeb076</th>\n",
              "      <th>bus</th>\n",
              "      <td>359</td>\n",
              "    </tr>\n",
              "    <tr>\n",
              "      <th>train</th>\n",
              "      <td>159</td>\n",
              "    </tr>\n",
              "    <tr>\n",
              "      <th>walk</th>\n",
              "      <td>198</td>\n",
              "    </tr>\n",
              "    <tr>\n",
              "      <th rowspan=\"3\" valign=\"top\">ecfb0929250fb6dda66a4065441230ab27f094e5</th>\n",
              "      <th>car</th>\n",
              "      <td>1029</td>\n",
              "    </tr>\n",
              "    <tr>\n",
              "      <th>e-bike</th>\n",
              "      <td>81</td>\n",
              "    </tr>\n",
              "    <tr>\n",
              "      <th>train</th>\n",
              "      <td>22</td>\n",
              "    </tr>\n",
              "    <tr>\n",
              "      <th rowspan=\"3\" valign=\"top\">ed623d28c1e0071632a6110b8f8ed93f8af78b99</th>\n",
              "      <th>bus</th>\n",
              "      <td>72</td>\n",
              "    </tr>\n",
              "    <tr>\n",
              "      <th>car</th>\n",
              "      <td>2175</td>\n",
              "    </tr>\n",
              "    <tr>\n",
              "      <th>walk</th>\n",
              "      <td>17</td>\n",
              "    </tr>\n",
              "    <tr>\n",
              "      <th rowspan=\"3\" valign=\"top\">f1b7331b66e404c11eebb22933e733117bbb12c9</th>\n",
              "      <th>bike</th>\n",
              "      <td>397</td>\n",
              "    </tr>\n",
              "    <tr>\n",
              "      <th>car</th>\n",
              "      <td>779</td>\n",
              "    </tr>\n",
              "    <tr>\n",
              "      <th>walk</th>\n",
              "      <td>199</td>\n",
              "    </tr>\n",
              "    <tr>\n",
              "      <th rowspan=\"2\" valign=\"top\">f5edd999397145a2ec1b244226fc83f99631760c</th>\n",
              "      <th>bus</th>\n",
              "      <td>303</td>\n",
              "    </tr>\n",
              "    <tr>\n",
              "      <th>walk</th>\n",
              "      <td>120</td>\n",
              "    </tr>\n",
              "    <tr>\n",
              "      <th>f7ae1ce141c26db40ea8b090fb568a0c965310aa</th>\n",
              "      <th>car</th>\n",
              "      <td>290</td>\n",
              "    </tr>\n",
              "    <tr>\n",
              "      <th rowspan=\"3\" valign=\"top\">faae5be800be2dfa897eea0bd2e5988cd53c4ec0</th>\n",
              "      <th>bike</th>\n",
              "      <td>543</td>\n",
              "    </tr>\n",
              "    <tr>\n",
              "      <th>car</th>\n",
              "      <td>226</td>\n",
              "    </tr>\n",
              "    <tr>\n",
              "      <th>walk</th>\n",
              "      <td>152</td>\n",
              "    </tr>\n",
              "  </tbody>\n",
              "</table>\n",
              "</div>\n",
              "      <button class=\"colab-df-convert\" onclick=\"convertToInteractive('df-1028b7a1-e9d4-489a-aaa1-ed821741be96')\"\n",
              "              title=\"Convert this dataframe to an interactive table.\"\n",
              "              style=\"display:none;\">\n",
              "        \n",
              "  <svg xmlns=\"http://www.w3.org/2000/svg\" height=\"24px\"viewBox=\"0 0 24 24\"\n",
              "       width=\"24px\">\n",
              "    <path d=\"M0 0h24v24H0V0z\" fill=\"none\"/>\n",
              "    <path d=\"M18.56 5.44l.94 2.06.94-2.06 2.06-.94-2.06-.94-.94-2.06-.94 2.06-2.06.94zm-11 1L8.5 8.5l.94-2.06 2.06-.94-2.06-.94L8.5 2.5l-.94 2.06-2.06.94zm10 10l.94 2.06.94-2.06 2.06-.94-2.06-.94-.94-2.06-.94 2.06-2.06.94z\"/><path d=\"M17.41 7.96l-1.37-1.37c-.4-.4-.92-.59-1.43-.59-.52 0-1.04.2-1.43.59L10.3 9.45l-7.72 7.72c-.78.78-.78 2.05 0 2.83L4 21.41c.39.39.9.59 1.41.59.51 0 1.02-.2 1.41-.59l7.78-7.78 2.81-2.81c.8-.78.8-2.07 0-2.86zM5.41 20L4 18.59l7.72-7.72 1.47 1.35L5.41 20z\"/>\n",
              "  </svg>\n",
              "      </button>\n",
              "      \n",
              "  <style>\n",
              "    .colab-df-container {\n",
              "      display:flex;\n",
              "      flex-wrap:wrap;\n",
              "      gap: 12px;\n",
              "    }\n",
              "\n",
              "    .colab-df-convert {\n",
              "      background-color: #E8F0FE;\n",
              "      border: none;\n",
              "      border-radius: 50%;\n",
              "      cursor: pointer;\n",
              "      display: none;\n",
              "      fill: #1967D2;\n",
              "      height: 32px;\n",
              "      padding: 0 0 0 0;\n",
              "      width: 32px;\n",
              "    }\n",
              "\n",
              "    .colab-df-convert:hover {\n",
              "      background-color: #E2EBFA;\n",
              "      box-shadow: 0px 1px 2px rgba(60, 64, 67, 0.3), 0px 1px 3px 1px rgba(60, 64, 67, 0.15);\n",
              "      fill: #174EA6;\n",
              "    }\n",
              "\n",
              "    [theme=dark] .colab-df-convert {\n",
              "      background-color: #3B4455;\n",
              "      fill: #D2E3FC;\n",
              "    }\n",
              "\n",
              "    [theme=dark] .colab-df-convert:hover {\n",
              "      background-color: #434B5C;\n",
              "      box-shadow: 0px 1px 3px 1px rgba(0, 0, 0, 0.15);\n",
              "      filter: drop-shadow(0px 1px 2px rgba(0, 0, 0, 0.3));\n",
              "      fill: #FFFFFF;\n",
              "    }\n",
              "  </style>\n",
              "\n",
              "      <script>\n",
              "        const buttonEl =\n",
              "          document.querySelector('#df-1028b7a1-e9d4-489a-aaa1-ed821741be96 button.colab-df-convert');\n",
              "        buttonEl.style.display =\n",
              "          google.colab.kernel.accessAllowed ? 'block' : 'none';\n",
              "\n",
              "        async function convertToInteractive(key) {\n",
              "          const element = document.querySelector('#df-1028b7a1-e9d4-489a-aaa1-ed821741be96');\n",
              "          const dataTable =\n",
              "            await google.colab.kernel.invokeFunction('convertToInteractive',\n",
              "                                                     [key], {});\n",
              "          if (!dataTable) return;\n",
              "\n",
              "          const docLinkHtml = 'Like what you see? Visit the ' +\n",
              "            '<a target=\"_blank\" href=https://colab.research.google.com/notebooks/data_table.ipynb>data table notebook</a>'\n",
              "            + ' to learn more about interactive tables.';\n",
              "          element.innerHTML = '';\n",
              "          dataTable['output_type'] = 'display_data';\n",
              "          await google.colab.output.renderOutput(dataTable, element);\n",
              "          const docLink = document.createElement('div');\n",
              "          docLink.innerHTML = docLinkHtml;\n",
              "          element.appendChild(docLink);\n",
              "        }\n",
              "      </script>\n",
              "    </div>\n",
              "  </div>\n",
              "  "
            ],
            "text/plain": [
              "                                                 part_idx\n",
              "user                                     class           \n",
              "a2d80ed662f34d32951eb1c6ed076c313e358b73 bus           35\n",
              "a526f3566e9c9024dfa7378eb4291d787a09fd37 car         1546\n",
              "                                         walk         302\n",
              "a59868c6eb3645eedbb343ce8c336ec6f2ef2324 bike         572\n",
              "                                         bus         3854\n",
              "                                         car         2090\n",
              "                                         walk         827\n",
              "a92dee88f61123f923dccec01eeecf1a81953b36 bus          730\n",
              "ac4c17afeb69b39169eb301ab592696a8f353976 car           63\n",
              "                                         walk         480\n",
              "adaaae1a67ea9e43abd60ba945eccda0cb8821e0 bus         1160\n",
              "                                         car          537\n",
              "                                         walk         155\n",
              "b138d165100ef60bc793cac143742eb5aea4d6ba car          416\n",
              "b45157069942d01310c3e7b74034166717bb25f9 car          430\n",
              "                                         walk          76\n",
              "b7b165e5637b5a0226068d907748f4bbfc61a320 car         2135\n",
              "                                         walk         206\n",
              "c453226e3616ae821cdcb38f38481c2a20f2482f bike         502\n",
              "                                         bus         1469\n",
              "c5702d34b238fe68683f818e82cd3a3cd8a16366 bike         204\n",
              "                                         bus          200\n",
              "                                         walk        1243\n",
              "ca7950f223a8037b897d0547075dc138f9e43b20 walk          65\n",
              "cace4ec0999436917986b4fa6e9317262c897bc2 car         1151\n",
              "cbde60baea002b694ecf2a3ff2d95be16b00efe1 bus          414\n",
              "ce39f5d0705695fcd70a04ba6d84ac6beecd6f9c bus          448\n",
              "                                         car          506\n",
              "d429974540bfd38c3367fe9f0c8682775ff4fa18 bus          521\n",
              "                                         car          921\n",
              "                                         walk         102\n",
              "d7a1230d94f91a32cc079809748e52e8a4a6a22f bike         369\n",
              "                                         train        420\n",
              "                                         walk          81\n",
              "d7dd12d83c81574137f858034b99f4cc83ab0718 car          674\n",
              "d8c047eaaee204b7b5cd71e2d67308b87b038ed3 car         1762\n",
              "                                         walk         165\n",
              "dc0bdce306ec3b624fe0e6ecd1ffbd82cb970120 bike         574\n",
              "                                         car          148\n",
              "                                         walk          37\n",
              "dd82e3df4bebc74ed6b67877be79e29f401c16a3 car          940\n",
              "                                         walk         237\n",
              "dde95e125d89843f7032baa734ee4d34ec775aaf bus           35\n",
              "                                         car           43\n",
              "                                         walk          51\n",
              "de9892b879c83ea3d24fb4560873107cc4e86d48 car          925\n",
              "                                         walk         337\n",
              "dfcfc0404691b73b69884073159f90843f2ac35b bus          441\n",
              "                                         car         1271\n",
              "                                         walk         797\n",
              "e429a95c532f1117130c11e4a18379d84fa4ffa9 bus          620\n",
              "                                         car          185\n",
              "eb9e7854290fd6ea9ebaf448b640fc1f1dbeb076 bus          359\n",
              "                                         train        159\n",
              "                                         walk         198\n",
              "ecfb0929250fb6dda66a4065441230ab27f094e5 car         1029\n",
              "                                         e-bike        81\n",
              "                                         train         22\n",
              "ed623d28c1e0071632a6110b8f8ed93f8af78b99 bus           72\n",
              "                                         car         2175\n",
              "                                         walk          17\n",
              "f1b7331b66e404c11eebb22933e733117bbb12c9 bike         397\n",
              "                                         car          779\n",
              "                                         walk         199\n",
              "f5edd999397145a2ec1b244226fc83f99631760c bus          303\n",
              "                                         walk         120\n",
              "f7ae1ce141c26db40ea8b090fb568a0c965310aa car          290\n",
              "faae5be800be2dfa897eea0bd2e5988cd53c4ec0 bike         543\n",
              "                                         car          226\n",
              "                                         walk         152"
            ]
          },
          "metadata": {},
          "execution_count": 99
        }
      ]
    },
    {
      "cell_type": "code",
      "source": [
        "df4.head()"
      ],
      "metadata": {
        "colab": {
          "base_uri": "https://localhost:8080/",
          "height": 206
        },
        "id": "4jZmZNCUOq4a",
        "outputId": "0c3698e0-5007-4785-a84e-e9efc0e7629a"
      },
      "execution_count": 100,
      "outputs": [
        {
          "output_type": "execute_result",
          "data": {
            "text/html": [
              "\n",
              "  <div id=\"df-41e7b9cb-9902-4337-80a1-d5ab78718fb9\">\n",
              "    <div class=\"colab-df-container\">\n",
              "      <div>\n",
              "<style scoped>\n",
              "    .dataframe tbody tr th:only-of-type {\n",
              "        vertical-align: middle;\n",
              "    }\n",
              "\n",
              "    .dataframe tbody tr th {\n",
              "        vertical-align: top;\n",
              "    }\n",
              "\n",
              "    .dataframe thead th {\n",
              "        text-align: right;\n",
              "    }\n",
              "</style>\n",
              "<table border=\"1\" class=\"dataframe\">\n",
              "  <thead>\n",
              "    <tr style=\"text-align: right;\">\n",
              "      <th></th>\n",
              "      <th>user</th>\n",
              "      <th>class</th>\n",
              "      <th>part_idx</th>\n",
              "    </tr>\n",
              "  </thead>\n",
              "  <tbody>\n",
              "    <tr>\n",
              "      <th>0</th>\n",
              "      <td>a2d80ed662f34d32951eb1c6ed076c313e358b73</td>\n",
              "      <td>bus</td>\n",
              "      <td>1-&gt;0</td>\n",
              "    </tr>\n",
              "    <tr>\n",
              "      <th>1</th>\n",
              "      <td>a2d80ed662f34d32951eb1c6ed076c313e358b73</td>\n",
              "      <td>bus</td>\n",
              "      <td>1-&gt;0</td>\n",
              "    </tr>\n",
              "    <tr>\n",
              "      <th>2</th>\n",
              "      <td>a2d80ed662f34d32951eb1c6ed076c313e358b73</td>\n",
              "      <td>bus</td>\n",
              "      <td>1-&gt;0</td>\n",
              "    </tr>\n",
              "    <tr>\n",
              "      <th>3</th>\n",
              "      <td>a2d80ed662f34d32951eb1c6ed076c313e358b73</td>\n",
              "      <td>bus</td>\n",
              "      <td>1-&gt;0</td>\n",
              "    </tr>\n",
              "    <tr>\n",
              "      <th>4</th>\n",
              "      <td>a2d80ed662f34d32951eb1c6ed076c313e358b73</td>\n",
              "      <td>bus</td>\n",
              "      <td>1-&gt;0</td>\n",
              "    </tr>\n",
              "  </tbody>\n",
              "</table>\n",
              "</div>\n",
              "      <button class=\"colab-df-convert\" onclick=\"convertToInteractive('df-41e7b9cb-9902-4337-80a1-d5ab78718fb9')\"\n",
              "              title=\"Convert this dataframe to an interactive table.\"\n",
              "              style=\"display:none;\">\n",
              "        \n",
              "  <svg xmlns=\"http://www.w3.org/2000/svg\" height=\"24px\"viewBox=\"0 0 24 24\"\n",
              "       width=\"24px\">\n",
              "    <path d=\"M0 0h24v24H0V0z\" fill=\"none\"/>\n",
              "    <path d=\"M18.56 5.44l.94 2.06.94-2.06 2.06-.94-2.06-.94-.94-2.06-.94 2.06-2.06.94zm-11 1L8.5 8.5l.94-2.06 2.06-.94-2.06-.94L8.5 2.5l-.94 2.06-2.06.94zm10 10l.94 2.06.94-2.06 2.06-.94-2.06-.94-.94-2.06-.94 2.06-2.06.94z\"/><path d=\"M17.41 7.96l-1.37-1.37c-.4-.4-.92-.59-1.43-.59-.52 0-1.04.2-1.43.59L10.3 9.45l-7.72 7.72c-.78.78-.78 2.05 0 2.83L4 21.41c.39.39.9.59 1.41.59.51 0 1.02-.2 1.41-.59l7.78-7.78 2.81-2.81c.8-.78.8-2.07 0-2.86zM5.41 20L4 18.59l7.72-7.72 1.47 1.35L5.41 20z\"/>\n",
              "  </svg>\n",
              "      </button>\n",
              "      \n",
              "  <style>\n",
              "    .colab-df-container {\n",
              "      display:flex;\n",
              "      flex-wrap:wrap;\n",
              "      gap: 12px;\n",
              "    }\n",
              "\n",
              "    .colab-df-convert {\n",
              "      background-color: #E8F0FE;\n",
              "      border: none;\n",
              "      border-radius: 50%;\n",
              "      cursor: pointer;\n",
              "      display: none;\n",
              "      fill: #1967D2;\n",
              "      height: 32px;\n",
              "      padding: 0 0 0 0;\n",
              "      width: 32px;\n",
              "    }\n",
              "\n",
              "    .colab-df-convert:hover {\n",
              "      background-color: #E2EBFA;\n",
              "      box-shadow: 0px 1px 2px rgba(60, 64, 67, 0.3), 0px 1px 3px 1px rgba(60, 64, 67, 0.15);\n",
              "      fill: #174EA6;\n",
              "    }\n",
              "\n",
              "    [theme=dark] .colab-df-convert {\n",
              "      background-color: #3B4455;\n",
              "      fill: #D2E3FC;\n",
              "    }\n",
              "\n",
              "    [theme=dark] .colab-df-convert:hover {\n",
              "      background-color: #434B5C;\n",
              "      box-shadow: 0px 1px 3px 1px rgba(0, 0, 0, 0.15);\n",
              "      filter: drop-shadow(0px 1px 2px rgba(0, 0, 0, 0.3));\n",
              "      fill: #FFFFFF;\n",
              "    }\n",
              "  </style>\n",
              "\n",
              "      <script>\n",
              "        const buttonEl =\n",
              "          document.querySelector('#df-41e7b9cb-9902-4337-80a1-d5ab78718fb9 button.colab-df-convert');\n",
              "        buttonEl.style.display =\n",
              "          google.colab.kernel.accessAllowed ? 'block' : 'none';\n",
              "\n",
              "        async function convertToInteractive(key) {\n",
              "          const element = document.querySelector('#df-41e7b9cb-9902-4337-80a1-d5ab78718fb9');\n",
              "          const dataTable =\n",
              "            await google.colab.kernel.invokeFunction('convertToInteractive',\n",
              "                                                     [key], {});\n",
              "          if (!dataTable) return;\n",
              "\n",
              "          const docLinkHtml = 'Like what you see? Visit the ' +\n",
              "            '<a target=\"_blank\" href=https://colab.research.google.com/notebooks/data_table.ipynb>data table notebook</a>'\n",
              "            + ' to learn more about interactive tables.';\n",
              "          element.innerHTML = '';\n",
              "          dataTable['output_type'] = 'display_data';\n",
              "          await google.colab.output.renderOutput(dataTable, element);\n",
              "          const docLink = document.createElement('div');\n",
              "          docLink.innerHTML = docLinkHtml;\n",
              "          element.appendChild(docLink);\n",
              "        }\n",
              "      </script>\n",
              "    </div>\n",
              "  </div>\n",
              "  "
            ],
            "text/plain": [
              "                                       user class part_idx\n",
              "0  a2d80ed662f34d32951eb1c6ed076c313e358b73   bus     1->0\n",
              "1  a2d80ed662f34d32951eb1c6ed076c313e358b73   bus     1->0\n",
              "2  a2d80ed662f34d32951eb1c6ed076c313e358b73   bus     1->0\n",
              "3  a2d80ed662f34d32951eb1c6ed076c313e358b73   bus     1->0\n",
              "4  a2d80ed662f34d32951eb1c6ed076c313e358b73   bus     1->0"
            ]
          },
          "metadata": {},
          "execution_count": 100
        }
      ]
    },
    {
      "cell_type": "code",
      "source": [
        "df.head()"
      ],
      "metadata": {
        "id": "BOhjZr1ybOUP",
        "colab": {
          "base_uri": "https://localhost:8080/",
          "height": 206
        },
        "outputId": "730bf38d-a76b-4f93-c007-8dab0170689f"
      },
      "execution_count": 101,
      "outputs": [
        {
          "output_type": "execute_result",
          "data": {
            "text/html": [
              "\n",
              "  <div id=\"df-5813c2a4-3dea-489d-a94d-b6e69e5c2609\">\n",
              "    <div class=\"colab-df-container\">\n",
              "      <div>\n",
              "<style scoped>\n",
              "    .dataframe tbody tr th:only-of-type {\n",
              "        vertical-align: middle;\n",
              "    }\n",
              "\n",
              "    .dataframe tbody tr th {\n",
              "        vertical-align: top;\n",
              "    }\n",
              "\n",
              "    .dataframe thead th {\n",
              "        text-align: right;\n",
              "    }\n",
              "</style>\n",
              "<table border=\"1\" class=\"dataframe\">\n",
              "  <thead>\n",
              "    <tr style=\"text-align: right;\">\n",
              "      <th></th>\n",
              "      <th>user</th>\n",
              "      <th>timestamp</th>\n",
              "      <th>x</th>\n",
              "      <th>y</th>\n",
              "      <th>z</th>\n",
              "      <th>class</th>\n",
              "      <th>time_s</th>\n",
              "      <th>time_d</th>\n",
              "      <th>sequence</th>\n",
              "      <th>min_t</th>\n",
              "      <th>part_idx</th>\n",
              "    </tr>\n",
              "  </thead>\n",
              "  <tbody>\n",
              "    <tr>\n",
              "      <th>0</th>\n",
              "      <td>a2d80ed662f34d32951eb1c6ed076c313e358b73</td>\n",
              "      <td>2018-06-04 16:26:55</td>\n",
              "      <td>0.78</td>\n",
              "      <td>-9.13</td>\n",
              "      <td>-3.74</td>\n",
              "      <td>bus</td>\n",
              "      <td>NaT</td>\n",
              "      <td>NaN</td>\n",
              "      <td>1</td>\n",
              "      <td>2018-06-04 16:26:55</td>\n",
              "      <td>1-&gt;0</td>\n",
              "    </tr>\n",
              "    <tr>\n",
              "      <th>1</th>\n",
              "      <td>a2d80ed662f34d32951eb1c6ed076c313e358b73</td>\n",
              "      <td>2018-06-04 16:26:55</td>\n",
              "      <td>0.79</td>\n",
              "      <td>-9.11</td>\n",
              "      <td>-3.75</td>\n",
              "      <td>bus</td>\n",
              "      <td>2018-06-04 16:26:55</td>\n",
              "      <td>0.0</td>\n",
              "      <td>1</td>\n",
              "      <td>2018-06-04 16:26:55</td>\n",
              "      <td>1-&gt;0</td>\n",
              "    </tr>\n",
              "    <tr>\n",
              "      <th>2</th>\n",
              "      <td>a2d80ed662f34d32951eb1c6ed076c313e358b73</td>\n",
              "      <td>2018-06-04 16:26:55</td>\n",
              "      <td>0.80</td>\n",
              "      <td>-9.12</td>\n",
              "      <td>-3.75</td>\n",
              "      <td>bus</td>\n",
              "      <td>2018-06-04 16:26:55</td>\n",
              "      <td>0.0</td>\n",
              "      <td>1</td>\n",
              "      <td>2018-06-04 16:26:55</td>\n",
              "      <td>1-&gt;0</td>\n",
              "    </tr>\n",
              "    <tr>\n",
              "      <th>3</th>\n",
              "      <td>a2d80ed662f34d32951eb1c6ed076c313e358b73</td>\n",
              "      <td>2018-06-04 16:26:55</td>\n",
              "      <td>0.78</td>\n",
              "      <td>-9.14</td>\n",
              "      <td>-3.76</td>\n",
              "      <td>bus</td>\n",
              "      <td>2018-06-04 16:26:55</td>\n",
              "      <td>0.0</td>\n",
              "      <td>1</td>\n",
              "      <td>2018-06-04 16:26:55</td>\n",
              "      <td>1-&gt;0</td>\n",
              "    </tr>\n",
              "    <tr>\n",
              "      <th>4</th>\n",
              "      <td>a2d80ed662f34d32951eb1c6ed076c313e358b73</td>\n",
              "      <td>2018-06-04 16:26:55</td>\n",
              "      <td>0.83</td>\n",
              "      <td>-9.12</td>\n",
              "      <td>-3.80</td>\n",
              "      <td>bus</td>\n",
              "      <td>2018-06-04 16:26:55</td>\n",
              "      <td>0.0</td>\n",
              "      <td>1</td>\n",
              "      <td>2018-06-04 16:26:55</td>\n",
              "      <td>1-&gt;0</td>\n",
              "    </tr>\n",
              "  </tbody>\n",
              "</table>\n",
              "</div>\n",
              "      <button class=\"colab-df-convert\" onclick=\"convertToInteractive('df-5813c2a4-3dea-489d-a94d-b6e69e5c2609')\"\n",
              "              title=\"Convert this dataframe to an interactive table.\"\n",
              "              style=\"display:none;\">\n",
              "        \n",
              "  <svg xmlns=\"http://www.w3.org/2000/svg\" height=\"24px\"viewBox=\"0 0 24 24\"\n",
              "       width=\"24px\">\n",
              "    <path d=\"M0 0h24v24H0V0z\" fill=\"none\"/>\n",
              "    <path d=\"M18.56 5.44l.94 2.06.94-2.06 2.06-.94-2.06-.94-.94-2.06-.94 2.06-2.06.94zm-11 1L8.5 8.5l.94-2.06 2.06-.94-2.06-.94L8.5 2.5l-.94 2.06-2.06.94zm10 10l.94 2.06.94-2.06 2.06-.94-2.06-.94-.94-2.06-.94 2.06-2.06.94z\"/><path d=\"M17.41 7.96l-1.37-1.37c-.4-.4-.92-.59-1.43-.59-.52 0-1.04.2-1.43.59L10.3 9.45l-7.72 7.72c-.78.78-.78 2.05 0 2.83L4 21.41c.39.39.9.59 1.41.59.51 0 1.02-.2 1.41-.59l7.78-7.78 2.81-2.81c.8-.78.8-2.07 0-2.86zM5.41 20L4 18.59l7.72-7.72 1.47 1.35L5.41 20z\"/>\n",
              "  </svg>\n",
              "      </button>\n",
              "      \n",
              "  <style>\n",
              "    .colab-df-container {\n",
              "      display:flex;\n",
              "      flex-wrap:wrap;\n",
              "      gap: 12px;\n",
              "    }\n",
              "\n",
              "    .colab-df-convert {\n",
              "      background-color: #E8F0FE;\n",
              "      border: none;\n",
              "      border-radius: 50%;\n",
              "      cursor: pointer;\n",
              "      display: none;\n",
              "      fill: #1967D2;\n",
              "      height: 32px;\n",
              "      padding: 0 0 0 0;\n",
              "      width: 32px;\n",
              "    }\n",
              "\n",
              "    .colab-df-convert:hover {\n",
              "      background-color: #E2EBFA;\n",
              "      box-shadow: 0px 1px 2px rgba(60, 64, 67, 0.3), 0px 1px 3px 1px rgba(60, 64, 67, 0.15);\n",
              "      fill: #174EA6;\n",
              "    }\n",
              "\n",
              "    [theme=dark] .colab-df-convert {\n",
              "      background-color: #3B4455;\n",
              "      fill: #D2E3FC;\n",
              "    }\n",
              "\n",
              "    [theme=dark] .colab-df-convert:hover {\n",
              "      background-color: #434B5C;\n",
              "      box-shadow: 0px 1px 3px 1px rgba(0, 0, 0, 0.15);\n",
              "      filter: drop-shadow(0px 1px 2px rgba(0, 0, 0, 0.3));\n",
              "      fill: #FFFFFF;\n",
              "    }\n",
              "  </style>\n",
              "\n",
              "      <script>\n",
              "        const buttonEl =\n",
              "          document.querySelector('#df-5813c2a4-3dea-489d-a94d-b6e69e5c2609 button.colab-df-convert');\n",
              "        buttonEl.style.display =\n",
              "          google.colab.kernel.accessAllowed ? 'block' : 'none';\n",
              "\n",
              "        async function convertToInteractive(key) {\n",
              "          const element = document.querySelector('#df-5813c2a4-3dea-489d-a94d-b6e69e5c2609');\n",
              "          const dataTable =\n",
              "            await google.colab.kernel.invokeFunction('convertToInteractive',\n",
              "                                                     [key], {});\n",
              "          if (!dataTable) return;\n",
              "\n",
              "          const docLinkHtml = 'Like what you see? Visit the ' +\n",
              "            '<a target=\"_blank\" href=https://colab.research.google.com/notebooks/data_table.ipynb>data table notebook</a>'\n",
              "            + ' to learn more about interactive tables.';\n",
              "          element.innerHTML = '';\n",
              "          dataTable['output_type'] = 'display_data';\n",
              "          await google.colab.output.renderOutput(dataTable, element);\n",
              "          const docLink = document.createElement('div');\n",
              "          docLink.innerHTML = docLinkHtml;\n",
              "          element.appendChild(docLink);\n",
              "        }\n",
              "      </script>\n",
              "    </div>\n",
              "  </div>\n",
              "  "
            ],
            "text/plain": [
              "                                       user           timestamp     x     y  \\\n",
              "0  a2d80ed662f34d32951eb1c6ed076c313e358b73 2018-06-04 16:26:55  0.78 -9.13   \n",
              "1  a2d80ed662f34d32951eb1c6ed076c313e358b73 2018-06-04 16:26:55  0.79 -9.11   \n",
              "2  a2d80ed662f34d32951eb1c6ed076c313e358b73 2018-06-04 16:26:55  0.80 -9.12   \n",
              "3  a2d80ed662f34d32951eb1c6ed076c313e358b73 2018-06-04 16:26:55  0.78 -9.14   \n",
              "4  a2d80ed662f34d32951eb1c6ed076c313e358b73 2018-06-04 16:26:55  0.83 -9.12   \n",
              "\n",
              "      z class              time_s  time_d  sequence               min_t  \\\n",
              "0 -3.74   bus                 NaT     NaN         1 2018-06-04 16:26:55   \n",
              "1 -3.75   bus 2018-06-04 16:26:55     0.0         1 2018-06-04 16:26:55   \n",
              "2 -3.75   bus 2018-06-04 16:26:55     0.0         1 2018-06-04 16:26:55   \n",
              "3 -3.76   bus 2018-06-04 16:26:55     0.0         1 2018-06-04 16:26:55   \n",
              "4 -3.80   bus 2018-06-04 16:26:55     0.0         1 2018-06-04 16:26:55   \n",
              "\n",
              "  part_idx  \n",
              "0     1->0  \n",
              "1     1->0  \n",
              "2     1->0  \n",
              "3     1->0  \n",
              "4     1->0  "
            ]
          },
          "metadata": {},
          "execution_count": 101
        }
      ]
    },
    {
      "cell_type": "code",
      "source": [
        "df5 = pd.DataFrame(columns = ['x_mean', 'x_std', 'x_max', 'y_min', 'x_mean', 'x_std', 'x_max', 'y_min', 'x_mean', 'x_std', 'x_max', 'y_min'])"
      ],
      "metadata": {
        "id": "dUOS0iuiIPV2"
      },
      "execution_count": 104,
      "outputs": []
    },
    {
      "cell_type": "code",
      "source": [
        "df5['x_mean'] = df.groupby(['part_idx'])['x'].mean()\n",
        "df5['x_std'] = df.groupby(['part_idx'])['x'].std()\n",
        "df5['x_max'] = df.groupby(['part_idx'])['x'].max()\n",
        "df5['x_min'] = df.groupby(['part_idx'])['x'].min()\n",
        "\n",
        "df5['y_mean'] = df.groupby(['part_idx'])['y'].mean()\n",
        "df5['y_std'] = df.groupby(['part_idx'])['y'].std()\n",
        "df5['y_max'] = df.groupby(['part_idx'])['y'].max()\n",
        "df5['y_min'] = df.groupby(['part_idx'])['y'].min()\n",
        "\n",
        "df5['z_mean'] = df.groupby(['part_idx'])['z'].mean()\n",
        "df5['z_std'] = df.groupby(['part_idx'])['z'].std()\n",
        "df5['z_max'] = df.groupby(['part_idx'])['z'].max()\n",
        "df5['z_min'] = df.groupby(['part_idx'])['z'].min()\n",
        "\n",
        "df5['target'] =  df.groupby(['part_idx'])['class'].unique()"
      ],
      "metadata": {
        "id": "zvUeCJBuIPTq"
      },
      "execution_count": 116,
      "outputs": []
    },
    {
      "cell_type": "code",
      "source": [
        "df5.head()"
      ],
      "metadata": {
        "colab": {
          "base_uri": "https://localhost:8080/",
          "height": 238
        },
        "id": "fFcmlI8qIPQz",
        "outputId": "dec15530-442d-4193-cbf5-f5b82e74d2c3"
      },
      "execution_count": 117,
      "outputs": [
        {
          "output_type": "execute_result",
          "data": {
            "text/html": [
              "\n",
              "  <div id=\"df-b5c82eed-465e-4cd1-86ea-bccaff19ac62\">\n",
              "    <div class=\"colab-df-container\">\n",
              "      <div>\n",
              "<style scoped>\n",
              "    .dataframe tbody tr th:only-of-type {\n",
              "        vertical-align: middle;\n",
              "    }\n",
              "\n",
              "    .dataframe tbody tr th {\n",
              "        vertical-align: top;\n",
              "    }\n",
              "\n",
              "    .dataframe thead th {\n",
              "        text-align: right;\n",
              "    }\n",
              "</style>\n",
              "<table border=\"1\" class=\"dataframe\">\n",
              "  <thead>\n",
              "    <tr style=\"text-align: right;\">\n",
              "      <th></th>\n",
              "      <th>x_mean</th>\n",
              "      <th>x_std</th>\n",
              "      <th>x_max</th>\n",
              "      <th>y_min</th>\n",
              "      <th>x_mean</th>\n",
              "      <th>x_std</th>\n",
              "      <th>x_max</th>\n",
              "      <th>y_min</th>\n",
              "      <th>x_mean</th>\n",
              "      <th>x_std</th>\n",
              "      <th>x_max</th>\n",
              "      <th>y_min</th>\n",
              "      <th>x_min</th>\n",
              "      <th>y_mean</th>\n",
              "      <th>y_std</th>\n",
              "      <th>y_max</th>\n",
              "      <th>z_mean</th>\n",
              "      <th>z_std</th>\n",
              "      <th>z_max</th>\n",
              "      <th>z_min</th>\n",
              "      <th>target</th>\n",
              "    </tr>\n",
              "    <tr>\n",
              "      <th>part_idx</th>\n",
              "      <th></th>\n",
              "      <th></th>\n",
              "      <th></th>\n",
              "      <th></th>\n",
              "      <th></th>\n",
              "      <th></th>\n",
              "      <th></th>\n",
              "      <th></th>\n",
              "      <th></th>\n",
              "      <th></th>\n",
              "      <th></th>\n",
              "      <th></th>\n",
              "      <th></th>\n",
              "      <th></th>\n",
              "      <th></th>\n",
              "      <th></th>\n",
              "      <th></th>\n",
              "      <th></th>\n",
              "      <th></th>\n",
              "      <th></th>\n",
              "      <th></th>\n",
              "    </tr>\n",
              "  </thead>\n",
              "  <tbody>\n",
              "    <tr>\n",
              "      <th>1-&gt;0</th>\n",
              "      <td>0.800141</td>\n",
              "      <td>0.022135</td>\n",
              "      <td>0.85</td>\n",
              "      <td>-9.18</td>\n",
              "      <td>0.800141</td>\n",
              "      <td>0.022135</td>\n",
              "      <td>0.85</td>\n",
              "      <td>-9.18</td>\n",
              "      <td>0.800141</td>\n",
              "      <td>0.022135</td>\n",
              "      <td>0.85</td>\n",
              "      <td>-9.18</td>\n",
              "      <td>0.75</td>\n",
              "      <td>-9.127324</td>\n",
              "      <td>0.018513</td>\n",
              "      <td>-9.08</td>\n",
              "      <td>-3.747606</td>\n",
              "      <td>0.028709</td>\n",
              "      <td>-3.67</td>\n",
              "      <td>-3.81</td>\n",
              "      <td>[bus]</td>\n",
              "    </tr>\n",
              "    <tr>\n",
              "      <th>1-&gt;1</th>\n",
              "      <td>0.810000</td>\n",
              "      <td>0.016903</td>\n",
              "      <td>0.83</td>\n",
              "      <td>-9.14</td>\n",
              "      <td>0.810000</td>\n",
              "      <td>0.016903</td>\n",
              "      <td>0.83</td>\n",
              "      <td>-9.14</td>\n",
              "      <td>0.810000</td>\n",
              "      <td>0.016903</td>\n",
              "      <td>0.83</td>\n",
              "      <td>-9.14</td>\n",
              "      <td>0.77</td>\n",
              "      <td>-9.118000</td>\n",
              "      <td>0.016125</td>\n",
              "      <td>-9.09</td>\n",
              "      <td>-3.747333</td>\n",
              "      <td>0.021202</td>\n",
              "      <td>-3.70</td>\n",
              "      <td>-3.78</td>\n",
              "      <td>[bus]</td>\n",
              "    </tr>\n",
              "    <tr>\n",
              "      <th>10-&gt;0</th>\n",
              "      <td>1.850496</td>\n",
              "      <td>0.586150</td>\n",
              "      <td>3.43</td>\n",
              "      <td>-9.38</td>\n",
              "      <td>1.850496</td>\n",
              "      <td>0.586150</td>\n",
              "      <td>3.43</td>\n",
              "      <td>-9.38</td>\n",
              "      <td>1.850496</td>\n",
              "      <td>0.586150</td>\n",
              "      <td>3.43</td>\n",
              "      <td>-9.38</td>\n",
              "      <td>0.37</td>\n",
              "      <td>-8.079362</td>\n",
              "      <td>0.534036</td>\n",
              "      <td>-7.10</td>\n",
              "      <td>-5.522057</td>\n",
              "      <td>0.646008</td>\n",
              "      <td>-3.44</td>\n",
              "      <td>-6.40</td>\n",
              "      <td>[bus]</td>\n",
              "    </tr>\n",
              "    <tr>\n",
              "      <th>10-&gt;1</th>\n",
              "      <td>2.299412</td>\n",
              "      <td>0.168355</td>\n",
              "      <td>2.52</td>\n",
              "      <td>-7.75</td>\n",
              "      <td>2.299412</td>\n",
              "      <td>0.168355</td>\n",
              "      <td>2.52</td>\n",
              "      <td>-7.75</td>\n",
              "      <td>2.299412</td>\n",
              "      <td>0.168355</td>\n",
              "      <td>2.52</td>\n",
              "      <td>-7.75</td>\n",
              "      <td>1.97</td>\n",
              "      <td>-7.336471</td>\n",
              "      <td>0.243258</td>\n",
              "      <td>-6.87</td>\n",
              "      <td>-6.140000</td>\n",
              "      <td>0.296036</td>\n",
              "      <td>-5.72</td>\n",
              "      <td>-6.64</td>\n",
              "      <td>[bus]</td>\n",
              "    </tr>\n",
              "    <tr>\n",
              "      <th>100-&gt;0</th>\n",
              "      <td>0.250972</td>\n",
              "      <td>0.098798</td>\n",
              "      <td>0.43</td>\n",
              "      <td>8.62</td>\n",
              "      <td>0.250972</td>\n",
              "      <td>0.098798</td>\n",
              "      <td>0.43</td>\n",
              "      <td>8.62</td>\n",
              "      <td>0.250972</td>\n",
              "      <td>0.098798</td>\n",
              "      <td>0.43</td>\n",
              "      <td>8.62</td>\n",
              "      <td>0.03</td>\n",
              "      <td>8.907778</td>\n",
              "      <td>0.122051</td>\n",
              "      <td>9.23</td>\n",
              "      <td>4.246111</td>\n",
              "      <td>0.145550</td>\n",
              "      <td>4.55</td>\n",
              "      <td>3.73</td>\n",
              "      <td>[car]</td>\n",
              "    </tr>\n",
              "  </tbody>\n",
              "</table>\n",
              "</div>\n",
              "      <button class=\"colab-df-convert\" onclick=\"convertToInteractive('df-b5c82eed-465e-4cd1-86ea-bccaff19ac62')\"\n",
              "              title=\"Convert this dataframe to an interactive table.\"\n",
              "              style=\"display:none;\">\n",
              "        \n",
              "  <svg xmlns=\"http://www.w3.org/2000/svg\" height=\"24px\"viewBox=\"0 0 24 24\"\n",
              "       width=\"24px\">\n",
              "    <path d=\"M0 0h24v24H0V0z\" fill=\"none\"/>\n",
              "    <path d=\"M18.56 5.44l.94 2.06.94-2.06 2.06-.94-2.06-.94-.94-2.06-.94 2.06-2.06.94zm-11 1L8.5 8.5l.94-2.06 2.06-.94-2.06-.94L8.5 2.5l-.94 2.06-2.06.94zm10 10l.94 2.06.94-2.06 2.06-.94-2.06-.94-.94-2.06-.94 2.06-2.06.94z\"/><path d=\"M17.41 7.96l-1.37-1.37c-.4-.4-.92-.59-1.43-.59-.52 0-1.04.2-1.43.59L10.3 9.45l-7.72 7.72c-.78.78-.78 2.05 0 2.83L4 21.41c.39.39.9.59 1.41.59.51 0 1.02-.2 1.41-.59l7.78-7.78 2.81-2.81c.8-.78.8-2.07 0-2.86zM5.41 20L4 18.59l7.72-7.72 1.47 1.35L5.41 20z\"/>\n",
              "  </svg>\n",
              "      </button>\n",
              "      \n",
              "  <style>\n",
              "    .colab-df-container {\n",
              "      display:flex;\n",
              "      flex-wrap:wrap;\n",
              "      gap: 12px;\n",
              "    }\n",
              "\n",
              "    .colab-df-convert {\n",
              "      background-color: #E8F0FE;\n",
              "      border: none;\n",
              "      border-radius: 50%;\n",
              "      cursor: pointer;\n",
              "      display: none;\n",
              "      fill: #1967D2;\n",
              "      height: 32px;\n",
              "      padding: 0 0 0 0;\n",
              "      width: 32px;\n",
              "    }\n",
              "\n",
              "    .colab-df-convert:hover {\n",
              "      background-color: #E2EBFA;\n",
              "      box-shadow: 0px 1px 2px rgba(60, 64, 67, 0.3), 0px 1px 3px 1px rgba(60, 64, 67, 0.15);\n",
              "      fill: #174EA6;\n",
              "    }\n",
              "\n",
              "    [theme=dark] .colab-df-convert {\n",
              "      background-color: #3B4455;\n",
              "      fill: #D2E3FC;\n",
              "    }\n",
              "\n",
              "    [theme=dark] .colab-df-convert:hover {\n",
              "      background-color: #434B5C;\n",
              "      box-shadow: 0px 1px 3px 1px rgba(0, 0, 0, 0.15);\n",
              "      filter: drop-shadow(0px 1px 2px rgba(0, 0, 0, 0.3));\n",
              "      fill: #FFFFFF;\n",
              "    }\n",
              "  </style>\n",
              "\n",
              "      <script>\n",
              "        const buttonEl =\n",
              "          document.querySelector('#df-b5c82eed-465e-4cd1-86ea-bccaff19ac62 button.colab-df-convert');\n",
              "        buttonEl.style.display =\n",
              "          google.colab.kernel.accessAllowed ? 'block' : 'none';\n",
              "\n",
              "        async function convertToInteractive(key) {\n",
              "          const element = document.querySelector('#df-b5c82eed-465e-4cd1-86ea-bccaff19ac62');\n",
              "          const dataTable =\n",
              "            await google.colab.kernel.invokeFunction('convertToInteractive',\n",
              "                                                     [key], {});\n",
              "          if (!dataTable) return;\n",
              "\n",
              "          const docLinkHtml = 'Like what you see? Visit the ' +\n",
              "            '<a target=\"_blank\" href=https://colab.research.google.com/notebooks/data_table.ipynb>data table notebook</a>'\n",
              "            + ' to learn more about interactive tables.';\n",
              "          element.innerHTML = '';\n",
              "          dataTable['output_type'] = 'display_data';\n",
              "          await google.colab.output.renderOutput(dataTable, element);\n",
              "          const docLink = document.createElement('div');\n",
              "          docLink.innerHTML = docLinkHtml;\n",
              "          element.appendChild(docLink);\n",
              "        }\n",
              "      </script>\n",
              "    </div>\n",
              "  </div>\n",
              "  "
            ],
            "text/plain": [
              "            x_mean     x_std  x_max  y_min    x_mean     x_std  x_max  y_min  \\\n",
              "part_idx                                                                       \n",
              "1->0      0.800141  0.022135   0.85  -9.18  0.800141  0.022135   0.85  -9.18   \n",
              "1->1      0.810000  0.016903   0.83  -9.14  0.810000  0.016903   0.83  -9.14   \n",
              "10->0     1.850496  0.586150   3.43  -9.38  1.850496  0.586150   3.43  -9.38   \n",
              "10->1     2.299412  0.168355   2.52  -7.75  2.299412  0.168355   2.52  -7.75   \n",
              "100->0    0.250972  0.098798   0.43   8.62  0.250972  0.098798   0.43   8.62   \n",
              "\n",
              "            x_mean     x_std  x_max  y_min  x_min    y_mean     y_std  y_max  \\\n",
              "part_idx                                                                       \n",
              "1->0      0.800141  0.022135   0.85  -9.18   0.75 -9.127324  0.018513  -9.08   \n",
              "1->1      0.810000  0.016903   0.83  -9.14   0.77 -9.118000  0.016125  -9.09   \n",
              "10->0     1.850496  0.586150   3.43  -9.38   0.37 -8.079362  0.534036  -7.10   \n",
              "10->1     2.299412  0.168355   2.52  -7.75   1.97 -7.336471  0.243258  -6.87   \n",
              "100->0    0.250972  0.098798   0.43   8.62   0.03  8.907778  0.122051   9.23   \n",
              "\n",
              "            z_mean     z_std  z_max  z_min target  \n",
              "part_idx                                           \n",
              "1->0     -3.747606  0.028709  -3.67  -3.81  [bus]  \n",
              "1->1     -3.747333  0.021202  -3.70  -3.78  [bus]  \n",
              "10->0    -5.522057  0.646008  -3.44  -6.40  [bus]  \n",
              "10->1    -6.140000  0.296036  -5.72  -6.64  [bus]  \n",
              "100->0    4.246111  0.145550   4.55   3.73  [car]  "
            ]
          },
          "metadata": {},
          "execution_count": 117
        }
      ]
    },
    {
      "cell_type": "code",
      "source": [
        "def func(x):\n",
        "  return x[0]"
      ],
      "metadata": {
        "id": "1JOOew-IqLAQ"
      },
      "execution_count": 118,
      "outputs": []
    },
    {
      "cell_type": "code",
      "source": [
        "df5['target'] = list(map(func,df5['target']))"
      ],
      "metadata": {
        "id": "7Sh7zZU8qPre"
      },
      "execution_count": 120,
      "outputs": []
    },
    {
      "cell_type": "code",
      "source": [
        "df5.head()"
      ],
      "metadata": {
        "colab": {
          "base_uri": "https://localhost:8080/",
          "height": 238
        },
        "id": "iVva_gLTqnJL",
        "outputId": "f9e22413-c35e-4913-a946-b351b6147d23"
      },
      "execution_count": 121,
      "outputs": [
        {
          "output_type": "execute_result",
          "data": {
            "text/html": [
              "\n",
              "  <div id=\"df-ebed9790-b068-4fef-b6a4-e9092f99d8df\">\n",
              "    <div class=\"colab-df-container\">\n",
              "      <div>\n",
              "<style scoped>\n",
              "    .dataframe tbody tr th:only-of-type {\n",
              "        vertical-align: middle;\n",
              "    }\n",
              "\n",
              "    .dataframe tbody tr th {\n",
              "        vertical-align: top;\n",
              "    }\n",
              "\n",
              "    .dataframe thead th {\n",
              "        text-align: right;\n",
              "    }\n",
              "</style>\n",
              "<table border=\"1\" class=\"dataframe\">\n",
              "  <thead>\n",
              "    <tr style=\"text-align: right;\">\n",
              "      <th></th>\n",
              "      <th>x_mean</th>\n",
              "      <th>x_std</th>\n",
              "      <th>x_max</th>\n",
              "      <th>y_min</th>\n",
              "      <th>x_mean</th>\n",
              "      <th>x_std</th>\n",
              "      <th>x_max</th>\n",
              "      <th>y_min</th>\n",
              "      <th>x_mean</th>\n",
              "      <th>x_std</th>\n",
              "      <th>x_max</th>\n",
              "      <th>y_min</th>\n",
              "      <th>x_min</th>\n",
              "      <th>y_mean</th>\n",
              "      <th>y_std</th>\n",
              "      <th>y_max</th>\n",
              "      <th>z_mean</th>\n",
              "      <th>z_std</th>\n",
              "      <th>z_max</th>\n",
              "      <th>z_min</th>\n",
              "      <th>target</th>\n",
              "    </tr>\n",
              "    <tr>\n",
              "      <th>part_idx</th>\n",
              "      <th></th>\n",
              "      <th></th>\n",
              "      <th></th>\n",
              "      <th></th>\n",
              "      <th></th>\n",
              "      <th></th>\n",
              "      <th></th>\n",
              "      <th></th>\n",
              "      <th></th>\n",
              "      <th></th>\n",
              "      <th></th>\n",
              "      <th></th>\n",
              "      <th></th>\n",
              "      <th></th>\n",
              "      <th></th>\n",
              "      <th></th>\n",
              "      <th></th>\n",
              "      <th></th>\n",
              "      <th></th>\n",
              "      <th></th>\n",
              "      <th></th>\n",
              "    </tr>\n",
              "  </thead>\n",
              "  <tbody>\n",
              "    <tr>\n",
              "      <th>1-&gt;0</th>\n",
              "      <td>0.800141</td>\n",
              "      <td>0.022135</td>\n",
              "      <td>0.85</td>\n",
              "      <td>-9.18</td>\n",
              "      <td>0.800141</td>\n",
              "      <td>0.022135</td>\n",
              "      <td>0.85</td>\n",
              "      <td>-9.18</td>\n",
              "      <td>0.800141</td>\n",
              "      <td>0.022135</td>\n",
              "      <td>0.85</td>\n",
              "      <td>-9.18</td>\n",
              "      <td>0.75</td>\n",
              "      <td>-9.127324</td>\n",
              "      <td>0.018513</td>\n",
              "      <td>-9.08</td>\n",
              "      <td>-3.747606</td>\n",
              "      <td>0.028709</td>\n",
              "      <td>-3.67</td>\n",
              "      <td>-3.81</td>\n",
              "      <td>bus</td>\n",
              "    </tr>\n",
              "    <tr>\n",
              "      <th>1-&gt;1</th>\n",
              "      <td>0.810000</td>\n",
              "      <td>0.016903</td>\n",
              "      <td>0.83</td>\n",
              "      <td>-9.14</td>\n",
              "      <td>0.810000</td>\n",
              "      <td>0.016903</td>\n",
              "      <td>0.83</td>\n",
              "      <td>-9.14</td>\n",
              "      <td>0.810000</td>\n",
              "      <td>0.016903</td>\n",
              "      <td>0.83</td>\n",
              "      <td>-9.14</td>\n",
              "      <td>0.77</td>\n",
              "      <td>-9.118000</td>\n",
              "      <td>0.016125</td>\n",
              "      <td>-9.09</td>\n",
              "      <td>-3.747333</td>\n",
              "      <td>0.021202</td>\n",
              "      <td>-3.70</td>\n",
              "      <td>-3.78</td>\n",
              "      <td>bus</td>\n",
              "    </tr>\n",
              "    <tr>\n",
              "      <th>10-&gt;0</th>\n",
              "      <td>1.850496</td>\n",
              "      <td>0.586150</td>\n",
              "      <td>3.43</td>\n",
              "      <td>-9.38</td>\n",
              "      <td>1.850496</td>\n",
              "      <td>0.586150</td>\n",
              "      <td>3.43</td>\n",
              "      <td>-9.38</td>\n",
              "      <td>1.850496</td>\n",
              "      <td>0.586150</td>\n",
              "      <td>3.43</td>\n",
              "      <td>-9.38</td>\n",
              "      <td>0.37</td>\n",
              "      <td>-8.079362</td>\n",
              "      <td>0.534036</td>\n",
              "      <td>-7.10</td>\n",
              "      <td>-5.522057</td>\n",
              "      <td>0.646008</td>\n",
              "      <td>-3.44</td>\n",
              "      <td>-6.40</td>\n",
              "      <td>bus</td>\n",
              "    </tr>\n",
              "    <tr>\n",
              "      <th>10-&gt;1</th>\n",
              "      <td>2.299412</td>\n",
              "      <td>0.168355</td>\n",
              "      <td>2.52</td>\n",
              "      <td>-7.75</td>\n",
              "      <td>2.299412</td>\n",
              "      <td>0.168355</td>\n",
              "      <td>2.52</td>\n",
              "      <td>-7.75</td>\n",
              "      <td>2.299412</td>\n",
              "      <td>0.168355</td>\n",
              "      <td>2.52</td>\n",
              "      <td>-7.75</td>\n",
              "      <td>1.97</td>\n",
              "      <td>-7.336471</td>\n",
              "      <td>0.243258</td>\n",
              "      <td>-6.87</td>\n",
              "      <td>-6.140000</td>\n",
              "      <td>0.296036</td>\n",
              "      <td>-5.72</td>\n",
              "      <td>-6.64</td>\n",
              "      <td>bus</td>\n",
              "    </tr>\n",
              "    <tr>\n",
              "      <th>100-&gt;0</th>\n",
              "      <td>0.250972</td>\n",
              "      <td>0.098798</td>\n",
              "      <td>0.43</td>\n",
              "      <td>8.62</td>\n",
              "      <td>0.250972</td>\n",
              "      <td>0.098798</td>\n",
              "      <td>0.43</td>\n",
              "      <td>8.62</td>\n",
              "      <td>0.250972</td>\n",
              "      <td>0.098798</td>\n",
              "      <td>0.43</td>\n",
              "      <td>8.62</td>\n",
              "      <td>0.03</td>\n",
              "      <td>8.907778</td>\n",
              "      <td>0.122051</td>\n",
              "      <td>9.23</td>\n",
              "      <td>4.246111</td>\n",
              "      <td>0.145550</td>\n",
              "      <td>4.55</td>\n",
              "      <td>3.73</td>\n",
              "      <td>car</td>\n",
              "    </tr>\n",
              "  </tbody>\n",
              "</table>\n",
              "</div>\n",
              "      <button class=\"colab-df-convert\" onclick=\"convertToInteractive('df-ebed9790-b068-4fef-b6a4-e9092f99d8df')\"\n",
              "              title=\"Convert this dataframe to an interactive table.\"\n",
              "              style=\"display:none;\">\n",
              "        \n",
              "  <svg xmlns=\"http://www.w3.org/2000/svg\" height=\"24px\"viewBox=\"0 0 24 24\"\n",
              "       width=\"24px\">\n",
              "    <path d=\"M0 0h24v24H0V0z\" fill=\"none\"/>\n",
              "    <path d=\"M18.56 5.44l.94 2.06.94-2.06 2.06-.94-2.06-.94-.94-2.06-.94 2.06-2.06.94zm-11 1L8.5 8.5l.94-2.06 2.06-.94-2.06-.94L8.5 2.5l-.94 2.06-2.06.94zm10 10l.94 2.06.94-2.06 2.06-.94-2.06-.94-.94-2.06-.94 2.06-2.06.94z\"/><path d=\"M17.41 7.96l-1.37-1.37c-.4-.4-.92-.59-1.43-.59-.52 0-1.04.2-1.43.59L10.3 9.45l-7.72 7.72c-.78.78-.78 2.05 0 2.83L4 21.41c.39.39.9.59 1.41.59.51 0 1.02-.2 1.41-.59l7.78-7.78 2.81-2.81c.8-.78.8-2.07 0-2.86zM5.41 20L4 18.59l7.72-7.72 1.47 1.35L5.41 20z\"/>\n",
              "  </svg>\n",
              "      </button>\n",
              "      \n",
              "  <style>\n",
              "    .colab-df-container {\n",
              "      display:flex;\n",
              "      flex-wrap:wrap;\n",
              "      gap: 12px;\n",
              "    }\n",
              "\n",
              "    .colab-df-convert {\n",
              "      background-color: #E8F0FE;\n",
              "      border: none;\n",
              "      border-radius: 50%;\n",
              "      cursor: pointer;\n",
              "      display: none;\n",
              "      fill: #1967D2;\n",
              "      height: 32px;\n",
              "      padding: 0 0 0 0;\n",
              "      width: 32px;\n",
              "    }\n",
              "\n",
              "    .colab-df-convert:hover {\n",
              "      background-color: #E2EBFA;\n",
              "      box-shadow: 0px 1px 2px rgba(60, 64, 67, 0.3), 0px 1px 3px 1px rgba(60, 64, 67, 0.15);\n",
              "      fill: #174EA6;\n",
              "    }\n",
              "\n",
              "    [theme=dark] .colab-df-convert {\n",
              "      background-color: #3B4455;\n",
              "      fill: #D2E3FC;\n",
              "    }\n",
              "\n",
              "    [theme=dark] .colab-df-convert:hover {\n",
              "      background-color: #434B5C;\n",
              "      box-shadow: 0px 1px 3px 1px rgba(0, 0, 0, 0.15);\n",
              "      filter: drop-shadow(0px 1px 2px rgba(0, 0, 0, 0.3));\n",
              "      fill: #FFFFFF;\n",
              "    }\n",
              "  </style>\n",
              "\n",
              "      <script>\n",
              "        const buttonEl =\n",
              "          document.querySelector('#df-ebed9790-b068-4fef-b6a4-e9092f99d8df button.colab-df-convert');\n",
              "        buttonEl.style.display =\n",
              "          google.colab.kernel.accessAllowed ? 'block' : 'none';\n",
              "\n",
              "        async function convertToInteractive(key) {\n",
              "          const element = document.querySelector('#df-ebed9790-b068-4fef-b6a4-e9092f99d8df');\n",
              "          const dataTable =\n",
              "            await google.colab.kernel.invokeFunction('convertToInteractive',\n",
              "                                                     [key], {});\n",
              "          if (!dataTable) return;\n",
              "\n",
              "          const docLinkHtml = 'Like what you see? Visit the ' +\n",
              "            '<a target=\"_blank\" href=https://colab.research.google.com/notebooks/data_table.ipynb>data table notebook</a>'\n",
              "            + ' to learn more about interactive tables.';\n",
              "          element.innerHTML = '';\n",
              "          dataTable['output_type'] = 'display_data';\n",
              "          await google.colab.output.renderOutput(dataTable, element);\n",
              "          const docLink = document.createElement('div');\n",
              "          docLink.innerHTML = docLinkHtml;\n",
              "          element.appendChild(docLink);\n",
              "        }\n",
              "      </script>\n",
              "    </div>\n",
              "  </div>\n",
              "  "
            ],
            "text/plain": [
              "            x_mean     x_std  x_max  y_min    x_mean     x_std  x_max  y_min  \\\n",
              "part_idx                                                                       \n",
              "1->0      0.800141  0.022135   0.85  -9.18  0.800141  0.022135   0.85  -9.18   \n",
              "1->1      0.810000  0.016903   0.83  -9.14  0.810000  0.016903   0.83  -9.14   \n",
              "10->0     1.850496  0.586150   3.43  -9.38  1.850496  0.586150   3.43  -9.38   \n",
              "10->1     2.299412  0.168355   2.52  -7.75  2.299412  0.168355   2.52  -7.75   \n",
              "100->0    0.250972  0.098798   0.43   8.62  0.250972  0.098798   0.43   8.62   \n",
              "\n",
              "            x_mean     x_std  x_max  y_min  x_min    y_mean     y_std  y_max  \\\n",
              "part_idx                                                                       \n",
              "1->0      0.800141  0.022135   0.85  -9.18   0.75 -9.127324  0.018513  -9.08   \n",
              "1->1      0.810000  0.016903   0.83  -9.14   0.77 -9.118000  0.016125  -9.09   \n",
              "10->0     1.850496  0.586150   3.43  -9.38   0.37 -8.079362  0.534036  -7.10   \n",
              "10->1     2.299412  0.168355   2.52  -7.75   1.97 -7.336471  0.243258  -6.87   \n",
              "100->0    0.250972  0.098798   0.43   8.62   0.03  8.907778  0.122051   9.23   \n",
              "\n",
              "            z_mean     z_std  z_max  z_min target  \n",
              "part_idx                                           \n",
              "1->0     -3.747606  0.028709  -3.67  -3.81    bus  \n",
              "1->1     -3.747333  0.021202  -3.70  -3.78    bus  \n",
              "10->0    -5.522057  0.646008  -3.44  -6.40    bus  \n",
              "10->1    -6.140000  0.296036  -5.72  -6.64    bus  \n",
              "100->0    4.246111  0.145550   4.55   3.73    car  "
            ]
          },
          "metadata": {},
          "execution_count": 121
        }
      ]
    },
    {
      "cell_type": "code",
      "source": [
        "boxplot = df5.boxplot()"
      ],
      "metadata": {
        "id": "jRXMLf7prGMK"
      },
      "execution_count": null,
      "outputs": []
    },
    {
      "cell_type": "code",
      "source": [
        "df5.boxplot(column = ['x_mean'], by = 'target')"
      ],
      "metadata": {
        "colab": {
          "base_uri": "https://localhost:8080/",
          "height": 373
        },
        "id": "vu4xqBHoIPOM",
        "outputId": "c070b576-1ccd-469a-a307-659858bed892"
      },
      "execution_count": 124,
      "outputs": [
        {
          "output_type": "stream",
          "name": "stderr",
          "text": [
            "/usr/local/lib/python3.7/dist-packages/matplotlib/cbook/__init__.py:1376: VisibleDeprecationWarning: Creating an ndarray from ragged nested sequences (which is a list-or-tuple of lists-or-tuples-or ndarrays with different lengths or shapes) is deprecated. If you meant to do this, you must specify 'dtype=object' when creating the ndarray.\n",
            "  X = np.atleast_1d(X.T if isinstance(X, np.ndarray) else np.asarray(X))\n"
          ]
        },
        {
          "output_type": "execute_result",
          "data": {
            "text/plain": [
              "<matplotlib.axes._subplots.AxesSubplot at 0x7f1397dd2c10>"
            ]
          },
          "metadata": {},
          "execution_count": 124
        },
        {
          "output_type": "display_data",
          "data": {
            "image/png": "[encoded data removed]",
            "text/plain": [
              "<Figure size 432x288 with 1 Axes>"
            ]
          },
          "metadata": {
            "needs_background": "light"
          }
        }
      ]
    },
    {
      "cell_type": "code",
      "source": [
        "df5.boxplot(column = ['x_std'], by = 'target')"
      ],
      "metadata": {
        "colab": {
          "base_uri": "https://localhost:8080/",
          "height": 373
        },
        "id": "uC3Il9qgsUxc",
        "outputId": "64855118-1c02-462d-fac8-b22ea587a7e4"
      },
      "execution_count": 125,
      "outputs": [
        {
          "output_type": "stream",
          "name": "stderr",
          "text": [
            "/usr/local/lib/python3.7/dist-packages/matplotlib/cbook/__init__.py:1376: VisibleDeprecationWarning: Creating an ndarray from ragged nested sequences (which is a list-or-tuple of lists-or-tuples-or ndarrays with different lengths or shapes) is deprecated. If you meant to do this, you must specify 'dtype=object' when creating the ndarray.\n",
            "  X = np.atleast_1d(X.T if isinstance(X, np.ndarray) else np.asarray(X))\n"
          ]
        },
        {
          "output_type": "execute_result",
          "data": {
            "text/plain": [
              "<matplotlib.axes._subplots.AxesSubplot at 0x7f1397dc9750>"
            ]
          },
          "metadata": {},
          "execution_count": 125
        },
        {
          "output_type": "display_data",
          "data": {
            "image/png": "[encoded data removed]",
            "text/plain": [
              "<Figure size 432x288 with 1 Axes>"
            ]
          },
          "metadata": {
            "needs_background": "light"
          }
        }
      ]
    },
    {
      "cell_type": "code",
      "source": [
        "df5.boxplot(column = ['x_max'], by = 'target')"
      ],
      "metadata": {
        "colab": {
          "base_uri": "https://localhost:8080/",
          "height": 373
        },
        "id": "KTmljCldsU0j",
        "outputId": "fb657287-3776-44aa-898b-474751ef3c5a"
      },
      "execution_count": 126,
      "outputs": [
        {
          "output_type": "stream",
          "name": "stderr",
          "text": [
            "/usr/local/lib/python3.7/dist-packages/matplotlib/cbook/__init__.py:1376: VisibleDeprecationWarning: Creating an ndarray from ragged nested sequences (which is a list-or-tuple of lists-or-tuples-or ndarrays with different lengths or shapes) is deprecated. If you meant to do this, you must specify 'dtype=object' when creating the ndarray.\n",
            "  X = np.atleast_1d(X.T if isinstance(X, np.ndarray) else np.asarray(X))\n"
          ]
        },
        {
          "output_type": "execute_result",
          "data": {
            "text/plain": [
              "<matplotlib.axes._subplots.AxesSubplot at 0x7f1396ec7c50>"
            ]
          },
          "metadata": {},
          "execution_count": 126
        },
        {
          "output_type": "display_data",
          "data": {
            "image/png": "[encoded data removed]",
            "text/plain": [
              "<Figure size 432x288 with 1 Axes>"
            ]
          },
          "metadata": {
            "needs_background": "light"
          }
        }
      ]
    },
    {
      "cell_type": "code",
      "source": [
        "df5.boxplot(column = ['x_min'], by = 'target')"
      ],
      "metadata": {
        "colab": {
          "base_uri": "https://localhost:8080/",
          "height": 373
        },
        "id": "bpJNKTwxsU3p",
        "outputId": "285d8e10-d513-45d7-dab7-87d63c053726"
      },
      "execution_count": 127,
      "outputs": [
        {
          "output_type": "stream",
          "name": "stderr",
          "text": [
            "/usr/local/lib/python3.7/dist-packages/matplotlib/cbook/__init__.py:1376: VisibleDeprecationWarning: Creating an ndarray from ragged nested sequences (which is a list-or-tuple of lists-or-tuples-or ndarrays with different lengths or shapes) is deprecated. If you meant to do this, you must specify 'dtype=object' when creating the ndarray.\n",
            "  X = np.atleast_1d(X.T if isinstance(X, np.ndarray) else np.asarray(X))\n"
          ]
        },
        {
          "output_type": "execute_result",
          "data": {
            "text/plain": [
              "<matplotlib.axes._subplots.AxesSubplot at 0x7f13980ea1d0>"
            ]
          },
          "metadata": {},
          "execution_count": 127
        },
        {
          "output_type": "display_data",
          "data": {
            "image/png": "[encoded data removed]",
            "text/plain": [
              "<Figure size 432x288 with 1 Axes>"
            ]
          },
          "metadata": {
            "needs_background": "light"
          }
        }
      ]
    },
    {
      "cell_type": "code",
      "source": [
        "df5.boxplot(column = ['y_mean'], by = 'target')"
      ],
      "metadata": {
        "colab": {
          "base_uri": "https://localhost:8080/",
          "height": 373
        },
        "id": "3T-dvT2xsU6K",
        "outputId": "041566bb-c5d3-44e2-ca6d-30301333cd4b"
      },
      "execution_count": 128,
      "outputs": [
        {
          "output_type": "stream",
          "name": "stderr",
          "text": [
            "/usr/local/lib/python3.7/dist-packages/matplotlib/cbook/__init__.py:1376: VisibleDeprecationWarning: Creating an ndarray from ragged nested sequences (which is a list-or-tuple of lists-or-tuples-or ndarrays with different lengths or shapes) is deprecated. If you meant to do this, you must specify 'dtype=object' when creating the ndarray.\n",
            "  X = np.atleast_1d(X.T if isinstance(X, np.ndarray) else np.asarray(X))\n"
          ]
        },
        {
          "output_type": "execute_result",
          "data": {
            "text/plain": [
              "<matplotlib.axes._subplots.AxesSubplot at 0x7f1396fe5350>"
            ]
          },
          "metadata": {},
          "execution_count": 128
        },
        {
          "output_type": "display_data",
          "data": {
            "image/png": "[encoded data removed]",
            "text/plain": [
              "<Figure size 432x288 with 1 Axes>"
            ]
          },
          "metadata": {
            "needs_background": "light"
          }
        }
      ]
    },
    {
      "cell_type": "code",
      "source": [
        "df5.boxplot(column = ['y_std'], by = 'target')"
      ],
      "metadata": {
        "colab": {
          "base_uri": "https://localhost:8080/",
          "height": 373
        },
        "id": "VLccWd9ZsU8z",
        "outputId": "898ab266-854c-40ac-da79-9aa52a2322fc"
      },
      "execution_count": 129,
      "outputs": [
        {
          "output_type": "stream",
          "name": "stderr",
          "text": [
            "/usr/local/lib/python3.7/dist-packages/matplotlib/cbook/__init__.py:1376: VisibleDeprecationWarning: Creating an ndarray from ragged nested sequences (which is a list-or-tuple of lists-or-tuples-or ndarrays with different lengths or shapes) is deprecated. If you meant to do this, you must specify 'dtype=object' when creating the ndarray.\n",
            "  X = np.atleast_1d(X.T if isinstance(X, np.ndarray) else np.asarray(X))\n"
          ]
        },
        {
          "output_type": "execute_result",
          "data": {
            "text/plain": [
              "<matplotlib.axes._subplots.AxesSubplot at 0x7f1396f6f9d0>"
            ]
          },
          "metadata": {},
          "execution_count": 129
        },
        {
          "output_type": "display_data",
          "data": {
            "image/png": "[encoded data removed]",
            "text/plain": [
              "<Figure size 432x288 with 1 Axes>"
            ]
          },
          "metadata": {
            "needs_background": "light"
          }
        }
      ]
    },
    {
      "cell_type": "code",
      "source": [
        "df5.boxplot(column = ['y_max'], by = 'target')"
      ],
      "metadata": {
        "colab": {
          "base_uri": "https://localhost:8080/",
          "height": 373
        },
        "id": "QJMsHBmSsU_9",
        "outputId": "e4996f4f-1cb1-48fd-c115-0987f25bb7e1"
      },
      "execution_count": 130,
      "outputs": [
        {
          "output_type": "stream",
          "name": "stderr",
          "text": [
            "/usr/local/lib/python3.7/dist-packages/matplotlib/cbook/__init__.py:1376: VisibleDeprecationWarning: Creating an ndarray from ragged nested sequences (which is a list-or-tuple of lists-or-tuples-or ndarrays with different lengths or shapes) is deprecated. If you meant to do this, you must specify 'dtype=object' when creating the ndarray.\n",
            "  X = np.atleast_1d(X.T if isinstance(X, np.ndarray) else np.asarray(X))\n"
          ]
        },
        {
          "output_type": "execute_result",
          "data": {
            "text/plain": [
              "<matplotlib.axes._subplots.AxesSubplot at 0x7f139676a3d0>"
            ]
          },
          "metadata": {},
          "execution_count": 130
        },
        {
          "output_type": "display_data",
          "data": {
            "image/png": "[encoded data removed]",
            "text/plain": [
              "<Figure size 432x288 with 1 Axes>"
            ]
          },
          "metadata": {
            "needs_background": "light"
          }
        }
      ]
    },
    {
      "cell_type": "code",
      "source": [
        "df5.boxplot(column = ['y_min'], by = 'target')"
      ],
      "metadata": {
        "colab": {
          "base_uri": "https://localhost:8080/",
          "height": 373
        },
        "id": "71l4t-bqsVCn",
        "outputId": "0ee95260-5cd1-45bd-8749-41f1ad160c75"
      },
      "execution_count": 131,
      "outputs": [
        {
          "output_type": "stream",
          "name": "stderr",
          "text": [
            "/usr/local/lib/python3.7/dist-packages/matplotlib/cbook/__init__.py:1376: VisibleDeprecationWarning: Creating an ndarray from ragged nested sequences (which is a list-or-tuple of lists-or-tuples-or ndarrays with different lengths or shapes) is deprecated. If you meant to do this, you must specify 'dtype=object' when creating the ndarray.\n",
            "  X = np.atleast_1d(X.T if isinstance(X, np.ndarray) else np.asarray(X))\n"
          ]
        },
        {
          "output_type": "execute_result",
          "data": {
            "text/plain": [
              "<matplotlib.axes._subplots.AxesSubplot at 0x7f1396d3a0d0>"
            ]
          },
          "metadata": {},
          "execution_count": 131
        },
        {
          "output_type": "display_data",
          "data": {
            "image/png": "[encoded data removed]",
            "text/plain": [
              "<Figure size 432x288 with 1 Axes>"
            ]
          },
          "metadata": {
            "needs_background": "light"
          }
        }
      ]
    },
    {
      "cell_type": "code",
      "source": [
        "df5.boxplot(column = ['z_mean'], by = 'target')"
      ],
      "metadata": {
        "colab": {
          "base_uri": "https://localhost:8080/",
          "height": 373
        },
        "id": "0j-u5EJfsVFd",
        "outputId": "b7c93dce-546a-49cd-c946-79a3d33720ed"
      },
      "execution_count": 132,
      "outputs": [
        {
          "output_type": "stream",
          "name": "stderr",
          "text": [
            "/usr/local/lib/python3.7/dist-packages/matplotlib/cbook/__init__.py:1376: VisibleDeprecationWarning: Creating an ndarray from ragged nested sequences (which is a list-or-tuple of lists-or-tuples-or ndarrays with different lengths or shapes) is deprecated. If you meant to do this, you must specify 'dtype=object' when creating the ndarray.\n",
            "  X = np.atleast_1d(X.T if isinstance(X, np.ndarray) else np.asarray(X))\n"
          ]
        },
        {
          "output_type": "execute_result",
          "data": {
            "text/plain": [
              "<matplotlib.axes._subplots.AxesSubplot at 0x7f13966afcd0>"
            ]
          },
          "metadata": {},
          "execution_count": 132
        },
        {
          "output_type": "display_data",
          "data": {
            "image/png": "[encoded data removed]",
            "text/plain": [
              "<Figure size 432x288 with 1 Axes>"
            ]
          },
          "metadata": {
            "needs_background": "light"
          }
        }
      ]
    },
    {
      "cell_type": "code",
      "source": [
        "df5.boxplot(column = ['z_std'], by = 'target')"
      ],
      "metadata": {
        "colab": {
          "base_uri": "https://localhost:8080/",
          "height": 373
        },
        "id": "sTFDlO6psVIJ",
        "outputId": "ba87b83d-492f-4f0d-f16c-e4df350349d4"
      },
      "execution_count": 133,
      "outputs": [
        {
          "output_type": "stream",
          "name": "stderr",
          "text": [
            "/usr/local/lib/python3.7/dist-packages/matplotlib/cbook/__init__.py:1376: VisibleDeprecationWarning: Creating an ndarray from ragged nested sequences (which is a list-or-tuple of lists-or-tuples-or ndarrays with different lengths or shapes) is deprecated. If you meant to do this, you must specify 'dtype=object' when creating the ndarray.\n",
            "  X = np.atleast_1d(X.T if isinstance(X, np.ndarray) else np.asarray(X))\n"
          ]
        },
        {
          "output_type": "execute_result",
          "data": {
            "text/plain": [
              "<matplotlib.axes._subplots.AxesSubplot at 0x7f139685c710>"
            ]
          },
          "metadata": {},
          "execution_count": 133
        },
        {
          "output_type": "display_data",
          "data": {
            "image/png": "[encoded data removed]",
            "text/plain": [
              "<Figure size 432x288 with 1 Axes>"
            ]
          },
          "metadata": {
            "needs_background": "light"
          }
        }
      ]
    },
    {
      "cell_type": "code",
      "source": [
        "df5.boxplot(column = ['z_max'], by = 'target')"
      ],
      "metadata": {
        "colab": {
          "base_uri": "https://localhost:8080/",
          "height": 373
        },
        "id": "CKgBKPYisVK3",
        "outputId": "093dc643-4c1c-40b2-dfb5-0daa67993a6f"
      },
      "execution_count": 134,
      "outputs": [
        {
          "output_type": "stream",
          "name": "stderr",
          "text": [
            "/usr/local/lib/python3.7/dist-packages/matplotlib/cbook/__init__.py:1376: VisibleDeprecationWarning: Creating an ndarray from ragged nested sequences (which is a list-or-tuple of lists-or-tuples-or ndarrays with different lengths or shapes) is deprecated. If you meant to do this, you must specify 'dtype=object' when creating the ndarray.\n",
            "  X = np.atleast_1d(X.T if isinstance(X, np.ndarray) else np.asarray(X))\n"
          ]
        },
        {
          "output_type": "execute_result",
          "data": {
            "text/plain": [
              "<matplotlib.axes._subplots.AxesSubplot at 0x7f1396972990>"
            ]
          },
          "metadata": {},
          "execution_count": 134
        },
        {
          "output_type": "display_data",
          "data": {
            "image/png": "[encoded data removed]",
            "text/plain": [
              "<Figure size 432x288 with 1 Axes>"
            ]
          },
          "metadata": {
            "needs_background": "light"
          }
        }
      ]
    },
    {
      "cell_type": "code",
      "source": [
        "df5.boxplot(column = ['z_min'], by = 'target')"
      ],
      "metadata": {
        "colab": {
          "base_uri": "https://localhost:8080/",
          "height": 373
        },
        "id": "-ti64P0csVNw",
        "outputId": "3f5ebd5d-9867-41c2-e55c-5ce4d914bcb6"
      },
      "execution_count": 135,
      "outputs": [
        {
          "output_type": "stream",
          "name": "stderr",
          "text": [
            "/usr/local/lib/python3.7/dist-packages/matplotlib/cbook/__init__.py:1376: VisibleDeprecationWarning: Creating an ndarray from ragged nested sequences (which is a list-or-tuple of lists-or-tuples-or ndarrays with different lengths or shapes) is deprecated. If you meant to do this, you must specify 'dtype=object' when creating the ndarray.\n",
            "  X = np.atleast_1d(X.T if isinstance(X, np.ndarray) else np.asarray(X))\n"
          ]
        },
        {
          "output_type": "execute_result",
          "data": {
            "text/plain": [
              "<matplotlib.axes._subplots.AxesSubplot at 0x7f139697fd90>"
            ]
          },
          "metadata": {},
          "execution_count": 135
        },
        {
          "output_type": "display_data",
          "data": {
            "image/png": "[encoded data removed]",
            "text/plain": [
              "<Figure size 432x288 with 1 Axes>"
            ]
          },
          "metadata": {
            "needs_background": "light"
          }
        }
      ]
    },
    {
      "cell_type": "code",
      "source": [
        "from pandas import read_csv\n",
        "from collections import Counter\n",
        "from matplotlib import pyplot\n",
        "from sklearn.preprocessing import LabelEncoder\n",
        "from imblearn.over_sampling import SMOTE\n",
        "data = df5.values\n",
        "X, y = data[:, :-1], data[:, -1]\n",
        "y = LabelEncoder().fit_transform(y)\n",
        "counter = Counter(y)\n",
        "for k,v in counter.items():\n",
        "\tper = v / len(y) * 100\n",
        "\tprint('Class=%d, n=%d (%.3f%%)' % (k, v, per))\n",
        "pyplot.bar(counter.keys(), counter.values())\n",
        "pyplot.show()"
      ],
      "metadata": {
        "colab": {
          "base_uri": "https://localhost:8080/",
          "height": 369
        },
        "id": "Q-pHmeLdtbCs",
        "outputId": "ce04d8fb-6a57-4676-bd9f-757aa7ad7adf"
      },
      "execution_count": 155,
      "outputs": [
        {
          "output_type": "stream",
          "name": "stdout",
          "text": [
            "Class=1, n=10661 (26.263%)\n",
            "Class=2, n=20242 (49.866%)\n",
            "Class=5, n=5847 (14.404%)\n",
            "Class=0, n=3161 (7.787%)\n",
            "Class=4, n=601 (1.481%)\n",
            "Class=3, n=81 (0.200%)\n"
          ]
        },
        {
          "output_type": "display_data",
          "data": {
            "image/png": "[encoded data removed]",
            "text/plain": [
              "<Figure size 432x288 with 1 Axes>"
            ]
          },
          "metadata": {
            "needs_background": "light"
          }
        }
      ]
    },
    {
      "cell_type": "code",
      "source": [
        "\n",
        "data = df.values\n",
        "X, y = data[:, :-1], data[:, -1]\n",
        "y = LabelEncoder().fit_transform(y)\n",
        "undersample = SMOTE()\n",
        "X, y = undersample.fit_resample(X, y)\n",
        "counter = Counter(y)\n",
        "for k,v in counter.items():\n",
        "\tper = v / len(y) * 100\n",
        "\tprint('Class=%d, n=%d (%.3f%%)' % (k, v, per))\n",
        "pyplot.bar(counter.keys(), counter.values())\n",
        "pyplot.show()"
      ],
      "metadata": {
        "colab": {
          "base_uri": "https://localhost:8080/",
          "height": 369
        },
        "id": "yGHToVnitbGq",
        "outputId": "9821bf54-fbf5-4b57-f103-f63aa5bc086a"
      },
      "execution_count": 156,
      "outputs": [
        {
          "output_type": "stream",
          "name": "stdout",
          "text": [
            "Class=0, n=76 (16.667%)\n",
            "Class=1, n=76 (16.667%)\n",
            "Class=2, n=76 (16.667%)\n",
            "Class=3, n=76 (16.667%)\n",
            "Class=4, n=76 (16.667%)\n",
            "Class=5, n=76 (16.667%)\n"
          ]
        },
        {
          "output_type": "display_data",
          "data": {
            "image/png": "[encoded data removed]",
            "text/plain": [
              "<Figure size 432x288 with 1 Axes>"
            ]
          },
          "metadata": {
            "needs_background": "light"
          }
        }
      ]
    },
    {
      "cell_type": "code",
      "source": [
        "len(y)"
      ],
      "metadata": {
        "colab": {
          "base_uri": "https://localhost:8080/"
        },
        "id": "Vb-br_M-tbIk",
        "outputId": "6b7e4dbf-8314-4d02-85e0-478e086ab0da"
      },
      "execution_count": 157,
      "outputs": [
        {
          "output_type": "execute_result",
          "data": {
            "text/plain": [
              "456"
            ]
          },
          "metadata": {},
          "execution_count": 157
        }
      ]
    },
    {
      "cell_type": "code",
      "source": [
        "from sklearn.model_selection import train_test_split\n",
        "X_train, X_rem, y_train, y_rem = train_test_split(X,y, train_size=0.8)\n",
        "X_valid, X_test, y_valid, y_test = train_test_split(X_rem,y_rem, test_size=0.5)"
      ],
      "metadata": {
        "id": "LM8Q0Rv44n_P"
      },
      "execution_count": 163,
      "outputs": []
    },
    {
      "cell_type": "code",
      "source": [
        ""
      ],
      "metadata": {
        "id": "4AppNpqZ4oB3"
      },
      "execution_count": null,
      "outputs": []
    },
    {
      "cell_type": "code",
      "source": [
        ""
      ],
      "metadata": {
        "id": "k3qx7vTw4oGV"
      },
      "execution_count": null,
      "outputs": []
    },
    {
      "cell_type": "code",
      "source": [
        ""
      ],
      "metadata": {
        "id": "T3ZKPf7F4oPU"
      },
      "execution_count": null,
      "outputs": []
    },
    {
      "cell_type": "code",
      "source": [
        "from sklearn.svm import SVC  \n",
        "model_svm = SVC(kernel='linear') \n",
        "\n",
        "model_svm.fit(X_train, y_train)"
      ],
      "metadata": {
        "colab": {
          "base_uri": "https://localhost:8080/"
        },
        "id": "ejzTFuPRtbX0",
        "outputId": "0535dffb-c896-4d21-fb2e-148ed4b75e40"
      },
      "execution_count": 168,
      "outputs": [
        {
          "output_type": "execute_result",
          "data": {
            "text/plain": [
              "SVC(kernel='linear')"
            ]
          },
          "metadata": {},
          "execution_count": 168
        }
      ]
    },
    {
      "cell_type": "code",
      "source": [
        "model_svm.score(X_valid, y_valid)"
      ],
      "metadata": {
        "colab": {
          "base_uri": "https://localhost:8080/"
        },
        "id": "uQsoHBRG3j9p",
        "outputId": "4e006199-0858-4855-9fd4-c1250d15c4eb"
      },
      "execution_count": 169,
      "outputs": [
        {
          "output_type": "execute_result",
          "data": {
            "text/plain": [
              "0.8043478260869565"
            ]
          },
          "metadata": {},
          "execution_count": 169
        }
      ]
    },
    {
      "cell_type": "code",
      "source": [
        "y_pred=model_svm.predict(X_test)"
      ],
      "metadata": {
        "id": "O0LMFDJB6WVG"
      },
      "execution_count": 170,
      "outputs": []
    },
    {
      "cell_type": "code",
      "source": [
        "from sklearn.metrics import f1_score\n",
        "f1_score(y_test, y_pred, average='macro')"
      ],
      "metadata": {
        "colab": {
          "base_uri": "https://localhost:8080/"
        },
        "id": "0iAAdnp23kAv",
        "outputId": "dad7de4c-43b0-4c38-b3dc-a7e4f544ea60"
      },
      "execution_count": 171,
      "outputs": [
        {
          "output_type": "execute_result",
          "data": {
            "text/plain": [
              "0.7437079049982276"
            ]
          },
          "metadata": {},
          "execution_count": 171
        }
      ]
    },
    {
      "cell_type": "code",
      "source": [
        "from sklearn.linear_model import LogisticRegression\n",
        "model_logi = LogisticRegression()\n",
        "model_logi.fit(X_train, y_train)"
      ],
      "metadata": {
        "colab": {
          "base_uri": "https://localhost:8080/"
        },
        "id": "9sRndbzL3kEN",
        "outputId": "605a81e3-521d-4080-fae9-361425882779"
      },
      "execution_count": 173,
      "outputs": [
        {
          "output_type": "stream",
          "name": "stderr",
          "text": [
            "/usr/local/lib/python3.7/dist-packages/sklearn/linear_model/_logistic.py:818: ConvergenceWarning: lbfgs failed to converge (status=1):\n",
            "STOP: TOTAL NO. of ITERATIONS REACHED LIMIT.\n",
            "\n",
            "Increase the number of iterations (max_iter) or scale the data as shown in:\n",
            "    https://scikit-learn.org/stable/modules/preprocessing.html\n",
            "Please also refer to the documentation for alternative solver options:\n",
            "    https://scikit-learn.org/stable/modules/linear_model.html#logistic-regression\n",
            "  extra_warning_msg=_LOGISTIC_SOLVER_CONVERGENCE_MSG,\n"
          ]
        },
        {
          "output_type": "execute_result",
          "data": {
            "text/plain": [
              "LogisticRegression()"
            ]
          },
          "metadata": {},
          "execution_count": 173
        }
      ]
    },
    {
      "cell_type": "code",
      "source": [
        "y_pred_logi = model_logi.predict(X_test)"
      ],
      "metadata": {
        "id": "26MOHiSB3kHH"
      },
      "execution_count": 174,
      "outputs": []
    },
    {
      "cell_type": "code",
      "source": [
        "f1_score(y_test, y_pred_logi, average='macro')"
      ],
      "metadata": {
        "colab": {
          "base_uri": "https://localhost:8080/"
        },
        "id": "im_AAXbB3kfW",
        "outputId": "765e0e76-89e3-40a0-8d90-ebb7c805a7de"
      },
      "execution_count": 175,
      "outputs": [
        {
          "output_type": "execute_result",
          "data": {
            "text/plain": [
              "0.6992525992525992"
            ]
          },
          "metadata": {},
          "execution_count": 175
        }
      ]
    },
    {
      "cell_type": "code",
      "source": [
        ""
      ],
      "metadata": {
        "id": "1ZSx81403kiw"
      },
      "execution_count": null,
      "outputs": []
    },
    {
      "cell_type": "code",
      "source": [
        ""
      ],
      "metadata": {
        "id": "lAjW7LY63kui"
      },
      "execution_count": null,
      "outputs": []
    },
    {
      "cell_type": "code",
      "source": [
        ""
      ],
      "metadata": {
        "id": "TzEvb5F53ky8"
      },
      "execution_count": null,
      "outputs": []
    }
  ]
}