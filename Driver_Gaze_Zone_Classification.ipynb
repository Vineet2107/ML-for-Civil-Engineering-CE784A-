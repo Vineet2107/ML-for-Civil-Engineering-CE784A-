{
  "nbformat": 4,
  "nbformat_minor": 0,
  "metadata": {
    "colab": {
      "name": "Driver Gaze Zone Classification.ipynb",
      "provenance": [],
      "mount_file_id": "170YlT7E_fDOdFxPHtbEr2VTYPLtkXurp",
      "authorship_tag": "ABX9TyNqX46LPziQHtiMoepX8CeM",
      "include_colab_link": true
    },
    "kernelspec": {
      "name": "python3",
      "display_name": "Python 3"
    },
    "language_info": {
      "name": "python"
    },
    "accelerator": "GPU"
  },
  "cells": [
    {
      "cell_type": "markdown",
      "metadata": {
        "id": "view-in-github",
        "colab_type": "text"
      },
      "source": [
        "<a href=\"https://colab.research.google.com/github/Vineet2107/ML-for-Civil-Engineering-CE784A-/blob/main/Driver_Gaze_Zone_Classification.ipynb\" target=\"_parent\"><img src=\"https://colab.research.google.com/assets/colab-badge.svg\" alt=\"Open In Colab\"/></a>"
      ]
    },
    {
      "cell_type": "code",
      "source": [
        "from google.colab import drive\n",
        "drive.mount('/content/drive')"
      ],
      "metadata": {
        "colab": {
          "base_uri": "https://localhost:8080/"
        },
        "id": "34XKG48zesWz",
        "outputId": "1dbb318b-0297-4b31-e33d-aa4a665a2833"
      },
      "execution_count": 85,
      "outputs": [
        {
          "output_type": "stream",
          "name": "stdout",
          "text": [
            "Drive already mounted at /content/drive; to attempt to forcibly remount, call drive.mount(\"/content/drive\", force_remount=True).\n"
          ]
        }
      ]
    },
    {
      "cell_type": "code",
      "source": [
        "#imported necessary packages and libraries\n",
        "import matplotlib.pyplot as plt\n",
        "from skimage import io, color\n",
        "import os\n",
        "import glob\n",
        "import numpy as np\n",
        "import pandas as pd\n",
        "from sklearn.model_selection import train_test_split\n",
        "import tensorflow as tf\n",
        "from tensorflow import keras\n",
        "from tensorflow.keras import layers, callbacks\n",
        "from tensorflow.keras.models import Sequential\n",
        "from tensorflow.keras.layers import Flatten\n",
        "from tensorflow.keras.layers import Dense\n",
        "from tensorflow.keras.layers import Activation\n",
        "import matplotlib.pyplot as plt\n",
        "% matplotlib inline"
      ],
      "metadata": {
        "id": "ZAjSzxj5etz1"
      },
      "execution_count": 75,
      "outputs": []
    },
    {
      "cell_type": "code",
      "source": [
        "#path of train and test data\n",
        "train_path = '/content/drive/MyDrive/gaze_dataset/train'\n",
        "test_path = '/content/drive/MyDrive/gaze_dataset/test'"
      ],
      "metadata": {
        "id": "L-FUAEr1fKiI"
      },
      "execution_count": 76,
      "outputs": []
    },
    {
      "cell_type": "code",
      "source": [
        "#path of raveling, non revaling and test data\n",
        "Centerstack_data = '/content/drive/MyDrive/gaze_dataset/train/Centerstack'\n",
        "Forward_data = '/content/drive/MyDrive/gaze_dataset/train/Forward'\n",
        "Left_wm_data = '/content/drive/MyDrive/gaze_dataset/train/Left_wing_mirror'\n",
        "Rearview_data = '/content/drive/MyDrive/gaze_dataset/train/Rearview_mirror'\n",
        "Right_wm_data = '/content/drive/MyDrive/gaze_dataset/train/Right_wing_mirror'\n",
        "test_data = '/content/drive/MyDrive/gaze_dataset/test'"
      ],
      "metadata": {
        "id": "944Fdr6sfjY-"
      },
      "execution_count": 77,
      "outputs": []
    },
    {
      "cell_type": "code",
      "source": [
        "list_cs = os.listdir(Centerstack_data)\n",
        "list_f = os.listdir(Forward_data)\n",
        "list_lwm = os.listdir(Left_wm_data)\n",
        "list_rv = os.listdir(Rearview_data)\n",
        "list_rwm = os.listdir(Right_wm_data)\n",
        "list_test = os.listdir(test_data)"
      ],
      "metadata": {
        "id": "_nVkdBBSgcUu"
      },
      "execution_count": 78,
      "outputs": []
    },
    {
      "cell_type": "code",
      "source": [
        "data_dir = '/content/drive/MyDrive/gaze_dataset/train'\n",
        "\n",
        "\n",
        "BATCH_SIZE = 32\n",
        "# IMG_SIZE = (256, 256, 3)\n",
        "\n",
        "train_dataset = tf.keras.utils.image_dataset_from_directory(data_dir,\n",
        "                                                            shuffle=True,\n",
        "                                                            batch_size=BATCH_SIZE,\n",
        "                                                            )"
      ],
      "metadata": {
        "colab": {
          "base_uri": "https://localhost:8080/"
        },
        "id": "1R1wckJKslhf",
        "outputId": "d0b27445-c8e9-4d8c-950b-4eb99fa09134"
      },
      "execution_count": 79,
      "outputs": [
        {
          "output_type": "stream",
          "name": "stdout",
          "text": [
            "Found 2505 files belonging to 5 classes.\n"
          ]
        }
      ]
    },
    {
      "cell_type": "code",
      "source": [
        "val_ds = tf.keras.utils.image_dataset_from_directory(\n",
        "  data_dir,\n",
        "  validation_split=0.2,\n",
        "  subset=\"validation\",\n",
        "  seed=123,\n",
        "  batch_size=8)"
      ],
      "metadata": {
        "colab": {
          "base_uri": "https://localhost:8080/"
        },
        "id": "0OuJ-tqksnId",
        "outputId": "f9b5e071-bb2a-4e27-bab7-28b726bc8348"
      },
      "execution_count": 80,
      "outputs": [
        {
          "output_type": "stream",
          "name": "stdout",
          "text": [
            "Found 2505 files belonging to 5 classes.\n",
            "Using 501 files for validation.\n"
          ]
        }
      ]
    },
    {
      "cell_type": "code",
      "source": [
        "normalization_layer = tf.keras.layers.Rescaling(1./255)\n",
        "normalized_ds = train_dataset.map(lambda x, y: (normalization_layer(x), y))\n",
        "image_batch, labels_batch = next(iter(normalized_ds))\n",
        "\n",
        "AUTOTUNE = tf.data.AUTOTUNE\n",
        "\n",
        "train_ds = train_dataset.cache().prefetch(buffer_size=AUTOTUNE)"
      ],
      "metadata": {
        "id": "nfT6NWXvsrE0"
      },
      "execution_count": 81,
      "outputs": []
    },
    {
      "cell_type": "code",
      "source": [
        "num_classes = 5\n",
        "model = tf.keras.Sequential([\n",
        "  \n",
        "  tf.keras.layers.BatchNormalization(),\n",
        "  tf.keras.layers.Conv2D(64, 3, activation='relu'),\n",
        "  tf.keras.layers.MaxPooling2D(),\n",
        "  tf.keras.layers.Dropout((0.2)),\n",
        "  tf.keras.layers.BatchNormalization(),\n",
        "  \n",
        "  tf.keras.layers.Flatten(),\n",
        "  tf.keras.layers.BatchNormalization(),\n",
        "  tf.keras.layers.Dense(num_classes,activation = 'softmax')\n",
        "])\n",
        "\n",
        "model.compile(\n",
        "  optimizer='adam',\n",
        "  loss=tf.losses.SparseCategoricalCrossentropy(from_logits=True),\n",
        "  metrics=['accuracy'])\n",
        "\n",
        "model.fit(\n",
        "  train_ds,\n",
        "  validation_data=val_ds,\n",
        "  epochs=20\n",
        ")"
      ],
      "metadata": {
        "colab": {
          "base_uri": "https://localhost:8080/"
        },
        "id": "YzkkxePdsydC",
        "outputId": "2ebf4377-d224-48b4-a5b2-8896b124d713"
      },
      "execution_count": 82,
      "outputs": [
        {
          "metadata": {
            "tags": null
          },
          "name": "stdout",
          "output_type": "stream",
          "text": [
            "Epoch 1/20\n"
          ]
        },
        {
          "metadata": {
            "tags": null
          },
          "name": "stderr",
          "output_type": "stream",
          "text": [
            "/usr/local/lib/python3.7/dist-packages/tensorflow/python/util/dispatch.py:1082: UserWarning: \"`sparse_categorical_crossentropy` received `from_logits=True`, but the `output` argument was produced by a sigmoid or softmax activation and thus does not represent logits. Was this intended?\"\n",
            "  return dispatch_target(*args, **kwargs)\n"
          ]
        },
        {
          "output_type": "stream",
          "name": "stdout",
          "text": [
            "79/79 [==============================] - 26s 306ms/step - loss: 108.6317 - accuracy: 0.2351 - val_loss: 57.0316 - val_accuracy: 0.2974\n",
            "Epoch 2/20\n",
            "79/79 [==============================] - 21s 268ms/step - loss: 97.7923 - accuracy: 0.3066 - val_loss: 69.4945 - val_accuracy: 0.2435\n",
            "Epoch 3/20\n",
            "79/79 [==============================] - 21s 269ms/step - loss: 76.8583 - accuracy: 0.3545 - val_loss: 54.3750 - val_accuracy: 0.3832\n",
            "Epoch 4/20\n",
            "79/79 [==============================] - 21s 268ms/step - loss: 63.9398 - accuracy: 0.4335 - val_loss: 48.7296 - val_accuracy: 0.4531\n",
            "Epoch 5/20\n",
            "79/79 [==============================] - 21s 270ms/step - loss: 59.1971 - accuracy: 0.4922 - val_loss: 46.7392 - val_accuracy: 0.4671\n",
            "Epoch 6/20\n",
            "79/79 [==============================] - 21s 269ms/step - loss: 56.6149 - accuracy: 0.5102 - val_loss: 65.1914 - val_accuracy: 0.4731\n",
            "Epoch 7/20\n",
            "79/79 [==============================] - 21s 270ms/step - loss: 43.1697 - accuracy: 0.5860 - val_loss: 49.3231 - val_accuracy: 0.5689\n",
            "Epoch 8/20\n",
            "79/79 [==============================] - 21s 269ms/step - loss: 36.5509 - accuracy: 0.6263 - val_loss: 30.7649 - val_accuracy: 0.6467\n",
            "Epoch 9/20\n",
            "79/79 [==============================] - 21s 270ms/step - loss: 28.1866 - accuracy: 0.6754 - val_loss: 28.5841 - val_accuracy: 0.6886\n",
            "Epoch 10/20\n",
            "79/79 [==============================] - 21s 268ms/step - loss: 24.5717 - accuracy: 0.7297 - val_loss: 28.4140 - val_accuracy: 0.6986\n",
            "Epoch 11/20\n",
            "79/79 [==============================] - 21s 269ms/step - loss: 23.7365 - accuracy: 0.7457 - val_loss: 45.8353 - val_accuracy: 0.6447\n",
            "Epoch 12/20\n",
            "79/79 [==============================] - 21s 269ms/step - loss: 20.2402 - accuracy: 0.7764 - val_loss: 27.4678 - val_accuracy: 0.7385\n",
            "Epoch 13/20\n",
            "79/79 [==============================] - 21s 269ms/step - loss: 16.5241 - accuracy: 0.7972 - val_loss: 37.4319 - val_accuracy: 0.6786\n",
            "Epoch 14/20\n",
            "79/79 [==============================] - 21s 268ms/step - loss: 16.6471 - accuracy: 0.8140 - val_loss: 31.1730 - val_accuracy: 0.6986\n",
            "Epoch 15/20\n",
            "79/79 [==============================] - 21s 269ms/step - loss: 14.8071 - accuracy: 0.8220 - val_loss: 24.8878 - val_accuracy: 0.7206\n",
            "Epoch 16/20\n",
            "79/79 [==============================] - 21s 269ms/step - loss: 14.1640 - accuracy: 0.8335 - val_loss: 23.6278 - val_accuracy: 0.7585\n",
            "Epoch 17/20\n",
            "79/79 [==============================] - 21s 269ms/step - loss: 13.3104 - accuracy: 0.8443 - val_loss: 13.7390 - val_accuracy: 0.8244\n",
            "Epoch 18/20\n",
            "79/79 [==============================] - 21s 269ms/step - loss: 10.2232 - accuracy: 0.8691 - val_loss: 14.8128 - val_accuracy: 0.8543\n",
            "Epoch 19/20\n",
            "79/79 [==============================] - 21s 269ms/step - loss: 10.8135 - accuracy: 0.8707 - val_loss: 12.4421 - val_accuracy: 0.8503\n",
            "Epoch 20/20\n",
            "79/79 [==============================] - 21s 269ms/step - loss: 8.2789 - accuracy: 0.8794 - val_loss: 12.4844 - val_accuracy: 0.8842\n"
          ]
        },
        {
          "output_type": "execute_result",
          "data": {
            "text/plain": [
              "<keras.callbacks.History at 0x7f399062e3d0>"
            ]
          },
          "metadata": {},
          "execution_count": 82
        }
      ]
    },
    {
      "cell_type": "code",
      "source": [
        ""
      ],
      "metadata": {
        "id": "zwWNr7rsA0JE"
      },
      "execution_count": 82,
      "outputs": []
    },
    {
      "cell_type": "code",
      "source": [
        "from PIL import Image, ImageOps\n",
        "data_dir = '/content/drive/MyDrive/gaze_dataset/test/'\n",
        "test = ([(Image.open(data_dir+str(i+1)+\".jpg\")) for i in range(len(os.listdir(data_dir)))])"
      ],
      "metadata": {
        "id": "AW89NfAlEpn1"
      },
      "execution_count": 98,
      "outputs": []
    },
    {
      "cell_type": "code",
      "source": [
        "y_pred = model.predict(test)"
      ],
      "metadata": {
        "colab": {
          "base_uri": "https://localhost:8080/",
          "height": 311
        },
        "id": "l2N3URvYEpip",
        "outputId": "fa641b24-e573-42fe-975d-13a8d27cac38"
      },
      "execution_count": 99,
      "outputs": [
        {
          "output_type": "error",
          "ename": "ValueError",
          "evalue": "ignored",
          "traceback": [
            "\u001b[0;31m---------------------------------------------------------------------------\u001b[0m",
            "\u001b[0;31mValueError\u001b[0m                                Traceback (most recent call last)",
            "\u001b[0;32m<ipython-input-99-507de3ce63e0>\u001b[0m in \u001b[0;36m<module>\u001b[0;34m()\u001b[0m\n\u001b[0;32m----> 1\u001b[0;31m \u001b[0my_pred\u001b[0m \u001b[0;34m=\u001b[0m \u001b[0mmodel\u001b[0m\u001b[0;34m.\u001b[0m\u001b[0mpredict\u001b[0m\u001b[0;34m(\u001b[0m\u001b[0mtest\u001b[0m\u001b[0;34m)\u001b[0m\u001b[0;34m\u001b[0m\u001b[0;34m\u001b[0m\u001b[0m\n\u001b[0m",
            "\u001b[0;32m/usr/local/lib/python3.7/dist-packages/keras/utils/traceback_utils.py\u001b[0m in \u001b[0;36merror_handler\u001b[0;34m(*args, **kwargs)\u001b[0m\n\u001b[1;32m     65\u001b[0m     \u001b[0;32mexcept\u001b[0m \u001b[0mException\u001b[0m \u001b[0;32mas\u001b[0m \u001b[0me\u001b[0m\u001b[0;34m:\u001b[0m  \u001b[0;31m# pylint: disable=broad-except\u001b[0m\u001b[0;34m\u001b[0m\u001b[0;34m\u001b[0m\u001b[0m\n\u001b[1;32m     66\u001b[0m       \u001b[0mfiltered_tb\u001b[0m \u001b[0;34m=\u001b[0m \u001b[0m_process_traceback_frames\u001b[0m\u001b[0;34m(\u001b[0m\u001b[0me\u001b[0m\u001b[0;34m.\u001b[0m\u001b[0m__traceback__\u001b[0m\u001b[0;34m)\u001b[0m\u001b[0;34m\u001b[0m\u001b[0;34m\u001b[0m\u001b[0m\n\u001b[0;32m---> 67\u001b[0;31m       \u001b[0;32mraise\u001b[0m \u001b[0me\u001b[0m\u001b[0;34m.\u001b[0m\u001b[0mwith_traceback\u001b[0m\u001b[0;34m(\u001b[0m\u001b[0mfiltered_tb\u001b[0m\u001b[0;34m)\u001b[0m \u001b[0;32mfrom\u001b[0m \u001b[0;32mNone\u001b[0m\u001b[0;34m\u001b[0m\u001b[0;34m\u001b[0m\u001b[0m\n\u001b[0m\u001b[1;32m     68\u001b[0m     \u001b[0;32mfinally\u001b[0m\u001b[0;34m:\u001b[0m\u001b[0;34m\u001b[0m\u001b[0;34m\u001b[0m\u001b[0m\n\u001b[1;32m     69\u001b[0m       \u001b[0;32mdel\u001b[0m \u001b[0mfiltered_tb\u001b[0m\u001b[0;34m\u001b[0m\u001b[0;34m\u001b[0m\u001b[0m\n",
            "\u001b[0;32m/usr/local/lib/python3.7/dist-packages/keras/engine/data_adapter.py\u001b[0m in \u001b[0;36mselect_data_adapter\u001b[0;34m(x, y)\u001b[0m\n\u001b[1;32m    985\u001b[0m         \u001b[0;34m\"Failed to find data adapter that can handle \"\u001b[0m\u001b[0;34m\u001b[0m\u001b[0;34m\u001b[0m\u001b[0m\n\u001b[1;32m    986\u001b[0m         \"input: {}, {}\".format(\n\u001b[0;32m--> 987\u001b[0;31m             _type_name(x), _type_name(y)))\n\u001b[0m\u001b[1;32m    988\u001b[0m   \u001b[0;32melif\u001b[0m \u001b[0mlen\u001b[0m\u001b[0;34m(\u001b[0m\u001b[0madapter_cls\u001b[0m\u001b[0;34m)\u001b[0m \u001b[0;34m>\u001b[0m \u001b[0;36m1\u001b[0m\u001b[0;34m:\u001b[0m\u001b[0;34m\u001b[0m\u001b[0;34m\u001b[0m\u001b[0m\n\u001b[1;32m    989\u001b[0m     raise RuntimeError(\n",
            "\u001b[0;31mValueError\u001b[0m: Failed to find data adapter that can handle input: (<class 'list'> containing values of types {\"<class 'PIL.JpegImagePlugin.JpegImageFile'>\"}), <class 'NoneType'>"
          ]
        }
      ]
    },
    {
      "cell_type": "code",
      "source": [
        ""
      ],
      "metadata": {
        "id": "x5AP37IkEpef"
      },
      "execution_count": null,
      "outputs": []
    },
    {
      "cell_type": "code",
      "source": [
        ""
      ],
      "metadata": {
        "id": "bhrCfU-uEpZN"
      },
      "execution_count": null,
      "outputs": []
    },
    {
      "cell_type": "code",
      "source": [
        "test_data = \"/content/drive/MyDrive/gaze_dataset/test/\""
      ],
      "metadata": {
        "id": "2bCT5aHsA0ED"
      },
      "execution_count": 91,
      "outputs": []
    },
    {
      "cell_type": "code",
      "source": [
        "train_dataset = tf.keras.utils.image_dataset_from_directory(test_data,\n",
        "                                                            shuffle=False\n",
        "                                                            )"
      ],
      "metadata": {
        "colab": {
          "base_uri": "https://localhost:8080/",
          "height": 356
        },
        "id": "yjKWOlZmAz9L",
        "outputId": "01f09c07-c41d-4f48-ef00-40cd6bf37ef9"
      },
      "execution_count": 92,
      "outputs": [
        {
          "output_type": "stream",
          "name": "stdout",
          "text": [
            "Found 0 files belonging to 0 classes.\n"
          ]
        },
        {
          "output_type": "error",
          "ename": "ValueError",
          "evalue": "ignored",
          "traceback": [
            "\u001b[0;31m---------------------------------------------------------------------------\u001b[0m",
            "\u001b[0;31mValueError\u001b[0m                                Traceback (most recent call last)",
            "\u001b[0;32m<ipython-input-92-85bfe04dfe1b>\u001b[0m in \u001b[0;36m<module>\u001b[0;34m()\u001b[0m\n\u001b[1;32m      1\u001b[0m train_dataset = tf.keras.utils.image_dataset_from_directory(test_data,\n\u001b[0;32m----> 2\u001b[0;31m                                                             \u001b[0mshuffle\u001b[0m\u001b[0;34m=\u001b[0m\u001b[0;32mFalse\u001b[0m\u001b[0;34m\u001b[0m\u001b[0;34m\u001b[0m\u001b[0m\n\u001b[0m\u001b[1;32m      3\u001b[0m                                                             )\n",
            "\u001b[0;32m/usr/local/lib/python3.7/dist-packages/keras/preprocessing/image_dataset.py\u001b[0m in \u001b[0;36mimage_dataset_from_directory\u001b[0;34m(directory, labels, label_mode, class_names, color_mode, batch_size, image_size, shuffle, seed, validation_split, subset, interpolation, follow_links, crop_to_aspect_ratio, **kwargs)\u001b[0m\n\u001b[1;32m    207\u001b[0m       image_paths, labels, validation_split, subset)\n\u001b[1;32m    208\u001b[0m   \u001b[0;32mif\u001b[0m \u001b[0;32mnot\u001b[0m \u001b[0mimage_paths\u001b[0m\u001b[0;34m:\u001b[0m\u001b[0;34m\u001b[0m\u001b[0;34m\u001b[0m\u001b[0m\n\u001b[0;32m--> 209\u001b[0;31m     raise ValueError(f'No images found in directory {directory}. '\n\u001b[0m\u001b[1;32m    210\u001b[0m                      f'Allowed formats: {ALLOWLIST_FORMATS}')\n\u001b[1;32m    211\u001b[0m \u001b[0;34m\u001b[0m\u001b[0m\n",
            "\u001b[0;31mValueError\u001b[0m: No images found in directory /content/drive/MyDrive/gaze_dataset/test/. Allowed formats: ('.bmp', '.gif', '.jpeg', '.jpg', '.png')"
          ]
        }
      ]
    },
    {
      "cell_type": "code",
      "source": [
        "#predicting on test data X_pred\n",
        "y_pred = model.predict(val_ds)\n",
        "y_output = []"
      ],
      "metadata": {
        "id": "QTYyyIscsy36"
      },
      "execution_count": 73,
      "outputs": []
    },
    {
      "cell_type": "code",
      "source": [
        "y_pred[0]"
      ],
      "metadata": {
        "id": "RLZazqm7szlb"
      },
      "execution_count": null,
      "outputs": []
    },
    {
      "cell_type": "code",
      "source": [
        "result = np.where(y_pred[0] == np.amax(y_pred[0]))\n",
        "print(result[0][0])"
      ],
      "metadata": {
        "id": "N8ZVEAGZ9Fi7"
      },
      "execution_count": null,
      "outputs": []
    },
    {
      "cell_type": "code",
      "source": [
        "for i in range(len(y_pred)):\n",
        "  result = np.where(y_pred[0] == np.amax(y_pred[0]))\n",
        "  \n",
        "  if(result == 0):\n",
        "    y_output.append(\"Right_wing_mirror\")\n",
        "  if(result == 1):\n",
        "    y_output.append(\"Rearview_mirror\")\n",
        "  if(result == 2):\n",
        "    y_output.append(\"Left_wing_mirror\")\n",
        "  if(result == 3):\n",
        "    y_output.append(\"Forward\")\n",
        "  else:\n",
        "    y_output.append(\"Centerstack\")"
      ],
      "metadata": {
        "id": "VI4UDVJr78AU"
      },
      "execution_count": 62,
      "outputs": []
    },
    {
      "cell_type": "code",
      "source": [
        "y_output[:10]"
      ],
      "metadata": {
        "colab": {
          "base_uri": "https://localhost:8080/"
        },
        "id": "h_oFgNtn779T",
        "outputId": "32ec02b7-991b-4d24-9b4a-59eb611c47d6"
      },
      "execution_count": 63,
      "outputs": [
        {
          "output_type": "execute_result",
          "data": {
            "text/plain": [
              "['Centerstack',\n",
              " 'Centerstack',\n",
              " 'Centerstack',\n",
              " 'Centerstack',\n",
              " 'Centerstack',\n",
              " 'Centerstack',\n",
              " 'Centerstack',\n",
              " 'Centerstack',\n",
              " 'Centerstack',\n",
              " 'Centerstack']"
            ]
          },
          "metadata": {},
          "execution_count": 63
        }
      ]
    },
    {
      "cell_type": "code",
      "source": [
        "print(len(list_test))\n",
        "print(len(y_output))"
      ],
      "metadata": {
        "colab": {
          "base_uri": "https://localhost:8080/"
        },
        "id": "W7luqZ6t771e",
        "outputId": "ddd053d1-f1f5-485c-8a29-1e536c4fc34b"
      },
      "execution_count": 64,
      "outputs": [
        {
          "output_type": "stream",
          "name": "stdout",
          "text": [
            "509\n",
            "501\n"
          ]
        }
      ]
    },
    {
      "cell_type": "code",
      "source": [
        ""
      ],
      "metadata": {
        "id": "xIGemr4j_20k"
      },
      "execution_count": null,
      "outputs": []
    },
    {
      "cell_type": "code",
      "source": [
        ""
      ],
      "metadata": {
        "id": "cjiIBeRe_2tQ"
      },
      "execution_count": null,
      "outputs": []
    },
    {
      "cell_type": "code",
      "source": [
        ""
      ],
      "metadata": {
        "id": "hJOCD-PX_2As"
      },
      "execution_count": null,
      "outputs": []
    },
    {
      "cell_type": "code",
      "source": [
        ""
      ],
      "metadata": {
        "id": "KiNXbD8U_18b"
      },
      "execution_count": null,
      "outputs": []
    },
    {
      "cell_type": "code",
      "source": [
        ""
      ],
      "metadata": {
        "id": "f6mPDE5q_131"
      },
      "execution_count": null,
      "outputs": []
    },
    {
      "cell_type": "code",
      "source": [
        ""
      ],
      "metadata": {
        "id": "xVFFzJJy_1v0"
      },
      "execution_count": null,
      "outputs": []
    },
    {
      "cell_type": "code",
      "source": [
        "for i in range(len(y_pred)):\n",
        "  if(y_pred[i][0] > y_pred[i][1]):\n",
        "    y_output.append(\"Non_raveling\")\n",
        "  else:\n",
        "    y_output.append(\"Raveling\")"
      ],
      "metadata": {
        "id": "r0N7EqETsz57"
      },
      "execution_count": null,
      "outputs": []
    },
    {
      "cell_type": "code",
      "source": [
        ""
      ],
      "metadata": {
        "id": "V5E86kids0Kb"
      },
      "execution_count": null,
      "outputs": []
    },
    {
      "cell_type": "code",
      "source": [
        ""
      ],
      "metadata": {
        "id": "BBxRkpQOs0Zc"
      },
      "execution_count": null,
      "outputs": []
    },
    {
      "cell_type": "code",
      "source": [
        ""
      ],
      "metadata": {
        "id": "aKhpyYANs0qN"
      },
      "execution_count": null,
      "outputs": []
    },
    {
      "cell_type": "code",
      "source": [
        "# stored non raveling image array in img_nr\n",
        "img_cs = []\n",
        "for i in range(len(list_cs)):\n",
        "  img = io.imread(os.path.join(Centerstack_data,\n",
        "                               list_cs[i]))\n",
        "  img_cs.append(np.array(img))\n",
        "  io.imshow(img)\n",
        "\n",
        "img_f = []\n",
        "for i in range(len(list_f)):\n",
        "  img = io.imread(os.path.join(Forward_data,\n",
        "                               list_f[i]))\n",
        "  img_f.append(np.array(img))\n",
        "  io.imshow(img)\n",
        "\n",
        "img_lwm = []\n",
        "for i in range(len(list_lwm)):\n",
        "  img = io.imread(os.path.join(Left_wm_data,\n",
        "                               list_lwm[i]))\n",
        "  img_lwm.append(np.array(img))\n",
        "  io.imshow(img)\n",
        "\n",
        "img_rv = []\n",
        "for i in range(len(list_rv)):\n",
        "  img = io.imread(os.path.join(Rearview_data,\n",
        "                               list_rv[i]))\n",
        "  img_rv.append(np.array(img))\n",
        "  io.imshow(img)\n",
        "\n",
        "#stored raveling image array in img_r \n",
        "img_rwm = []\n",
        "for i in range(len(list_rwm)):\n",
        "  img = io.imread(os.path.join(Right_wm_data,\n",
        "                               list_rwm[i]))\n",
        "  img_rwm.append(np.array(img))\n",
        "  io.imshow(img)\n",
        "\n",
        "#stored test image array in img_test\n",
        "img_test = []\n",
        "for i in range(len(list_test)):\n",
        "  img = io.imread(os.path.join(test_data,\n",
        "                               list_test[i]))\n",
        "  img_test.append(np.array(img))\n",
        "  io.imshow(img)"
      ],
      "metadata": {
        "id": "uwBQuraZhBMH"
      },
      "execution_count": null,
      "outputs": []
    },
    {
      "cell_type": "code",
      "source": [
        "y_cs=np.empty(500)\n",
        "y_cs.fill(0)\n",
        "\n",
        "y_f=np.empty(500)\n",
        "y_f.fill(1)\n",
        "\n",
        "y_lwm=np.empty(500)\n",
        "y_lwm.fill(2)\n",
        "\n",
        "y_rv=np.empty(500)\n",
        "y_rv.fill(3)\n",
        "\n",
        "y_rwm=np.empty(500)\n",
        "y_rwm.fill(4)\n",
        "\n",
        "y = np.concatenate((y_cs, y_f, y_lwm, y_rv, y_rwm), axis = 0)"
      ],
      "metadata": {
        "id": "YFM9RAS8pNbU"
      },
      "execution_count": null,
      "outputs": []
    },
    {
      "cell_type": "code",
      "source": [
        "perms = np.random.permutation(2500)"
      ],
      "metadata": {
        "id": "S7W_JC5Hq0PU"
      },
      "execution_count": null,
      "outputs": []
    },
    {
      "cell_type": "code",
      "source": [
        "X = np.concatenate((img_cs, img_f, img_lwm, img_rv, img_rwm), axis = 0)"
      ],
      "metadata": {
        "id": "qlMwX-t_q0Mo"
      },
      "execution_count": null,
      "outputs": []
    },
    {
      "cell_type": "code",
      "source": [
        "X = X[perms]\n",
        "y = y[perms]"
      ],
      "metadata": {
        "id": "hHsHYpVwq0JR"
      },
      "execution_count": null,
      "outputs": []
    },
    {
      "cell_type": "code",
      "source": [
        ""
      ],
      "metadata": {
        "id": "4rPUNemVq0AH"
      },
      "execution_count": null,
      "outputs": []
    }
  ]
}