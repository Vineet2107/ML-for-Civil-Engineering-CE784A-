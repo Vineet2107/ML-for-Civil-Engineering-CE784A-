{
  "nbformat": 4,
  "nbformat_minor": 0,
  "metadata": {
    "colab": {
      "name": "Driver Gaze Zone Classification.ipynb",
      "provenance": [],
      "mount_file_id": "https://github.com/Vineet2107/ML-for-Civil-Engineering-CE784A-/blob/main/Driver_Gaze_Zone_Classification.ipynb",
      "authorship_tag": "ABX9TyODsG6IYgq/TDEIhmqChdiS",
      "include_colab_link": true
    },
    "kernelspec": {
      "name": "python3",
      "display_name": "Python 3"
    },
    "language_info": {
      "name": "python"
    },
    "accelerator": "GPU"
  },
  "cells": [
    {
      "cell_type": "markdown",
      "metadata": {
        "id": "view-in-github",
        "colab_type": "text"
      },
      "source": [
        "<a href=\"https://colab.research.google.com/github/Vineet2107/ML-for-Civil-Engineering-CE784A-/blob/main/Driver_Gaze_Zone_Classification.ipynb\" target=\"_parent\"><img src=\"https://colab.research.google.com/assets/colab-badge.svg\" alt=\"Open In Colab\"/></a>"
      ]
    },
    {
      "cell_type": "code",
      "source": [
        "from google.colab import drive\n",
        "drive.mount('/content/drive')"
      ],
      "metadata": {
        "colab": {
          "base_uri": "https://localhost:8080/"
        },
        "id": "34XKG48zesWz",
        "outputId": "39475823-625f-4179-bddf-7d73f30adfc3"
      },
      "execution_count": 1,
      "outputs": [
        {
          "output_type": "stream",
          "name": "stdout",
          "text": [
            "Mounted at /content/drive\n"
          ]
        }
      ]
    },
    {
      "cell_type": "code",
      "source": [
        "#imported necessary packages and libraries\n",
        "import matplotlib.pyplot as plt\n",
        "from skimage import io, color\n",
        "import os\n",
        "import glob\n",
        "import numpy as np\n",
        "import pandas as pd\n",
        "from sklearn.model_selection import train_test_split\n",
        "import tensorflow as tf\n",
        "from tensorflow import keras\n",
        "from tensorflow.keras import layers, callbacks\n",
        "from tensorflow.keras.models import Sequential\n",
        "from tensorflow.keras.layers import Flatten\n",
        "from tensorflow.keras.layers import Dense\n",
        "from tensorflow.keras.layers import Activation\n",
        "import matplotlib.pyplot as plt\n",
        "% matplotlib inline"
      ],
      "metadata": {
        "id": "ZAjSzxj5etz1"
      },
      "execution_count": 2,
      "outputs": []
    },
    {
      "cell_type": "code",
      "source": [
        "#path of train and test data\n",
        "train_path = '/content/drive/MyDrive/gaze_dataset/train'\n",
        "test_path = '/content/drive/MyDrive/gaze_dataset/test'"
      ],
      "metadata": {
        "id": "L-FUAEr1fKiI"
      },
      "execution_count": 3,
      "outputs": []
    },
    {
      "cell_type": "code",
      "source": [
        "#path of raveling, non revaling and test data\n",
        "Centerstack_data = '/content/drive/MyDrive/gaze_dataset/train/Centerstack'\n",
        "Forward_data = '/content/drive/MyDrive/gaze_dataset/train/Forward'\n",
        "Left_wm_data = '/content/drive/MyDrive/gaze_dataset/train/Left_wing_mirror'\n",
        "Rearview_data = '/content/drive/MyDrive/gaze_dataset/train/Rearview_mirror'\n",
        "Right_wm_data = '/content/drive/MyDrive/gaze_dataset/train/Right_wing_mirror'\n",
        "test_data = '/content/drive/MyDrive/gaze_dataset/test'"
      ],
      "metadata": {
        "id": "944Fdr6sfjY-"
      },
      "execution_count": 4,
      "outputs": []
    },
    {
      "cell_type": "code",
      "source": [
        "list_cs = os.listdir(Centerstack_data)\n",
        "list_f = os.listdir(Forward_data)\n",
        "list_lwm = os.listdir(Left_wm_data)\n",
        "list_rv = os.listdir(Rearview_data)\n",
        "list_rwm = os.listdir(Right_wm_data)\n",
        "list_test = os.listdir(test_data)"
      ],
      "metadata": {
        "id": "_nVkdBBSgcUu"
      },
      "execution_count": 5,
      "outputs": []
    },
    {
      "cell_type": "code",
      "source": [
        "data_dir = '/content/drive/MyDrive/gaze_dataset/train'\n",
        "\n",
        "\n",
        "BATCH_SIZE = 32\n",
        "# IMG_SIZE = (256, 256, 3)\n",
        "\n",
        "train_dataset = tf.keras.utils.image_dataset_from_directory(data_dir,\n",
        "                                                            shuffle=True,\n",
        "                                                            batch_size=BATCH_SIZE,\n",
        "                                                            )"
      ],
      "metadata": {
        "colab": {
          "base_uri": "https://localhost:8080/"
        },
        "id": "1R1wckJKslhf",
        "outputId": "01c5c4d8-ed83-4914-ed6d-627af0be9149"
      },
      "execution_count": 6,
      "outputs": [
        {
          "output_type": "stream",
          "name": "stdout",
          "text": [
            "Found 2505 files belonging to 5 classes.\n"
          ]
        }
      ]
    },
    {
      "cell_type": "code",
      "source": [
        "val_ds = tf.keras.utils.image_dataset_from_directory(\n",
        "  data_dir,\n",
        "  validation_split=0.2,\n",
        "  subset=\"validation\",\n",
        "  seed=123,\n",
        "  batch_size=8)"
      ],
      "metadata": {
        "colab": {
          "base_uri": "https://localhost:8080/"
        },
        "id": "0OuJ-tqksnId",
        "outputId": "46dcef97-8ddf-4ddc-c92b-a875d04d9693"
      },
      "execution_count": 7,
      "outputs": [
        {
          "output_type": "stream",
          "name": "stdout",
          "text": [
            "Found 2505 files belonging to 5 classes.\n",
            "Using 501 files for validation.\n"
          ]
        }
      ]
    },
    {
      "cell_type": "code",
      "source": [
        "normalization_layer = tf.keras.layers.Rescaling(1./255)\n",
        "normalized_ds = train_dataset.map(lambda x, y: (normalization_layer(x), y))\n",
        "image_batch, labels_batch = next(iter(normalized_ds))\n",
        "\n",
        "AUTOTUNE = tf.data.AUTOTUNE\n",
        "\n",
        "train_ds = train_dataset.cache().prefetch(buffer_size=AUTOTUNE)"
      ],
      "metadata": {
        "id": "nfT6NWXvsrE0"
      },
      "execution_count": 8,
      "outputs": []
    },
    {
      "cell_type": "code",
      "source": [
        "num_classes = 5\n",
        "model = tf.keras.Sequential([\n",
        "  \n",
        "  tf.keras.layers.BatchNormalization(),\n",
        "  tf.keras.layers.Conv2D(64, 3, activation='relu'),\n",
        "  tf.keras.layers.MaxPooling2D(),\n",
        "  tf.keras.layers.Dropout((0.2)),\n",
        "  tf.keras.layers.BatchNormalization(),\n",
        "  \n",
        "  tf.keras.layers.Flatten(),\n",
        "  tf.keras.layers.BatchNormalization(),\n",
        "  tf.keras.layers.Dense(num_classes,activation = 'softmax')\n",
        "])\n",
        "\n",
        "model.compile(\n",
        "  optimizer='adam',\n",
        "  loss=tf.losses.SparseCategoricalCrossentropy(from_logits=True),\n",
        "  metrics=['accuracy'])\n",
        "\n",
        "model.fit(\n",
        "  train_ds,\n",
        "  validation_data=val_ds,\n",
        "  epochs=20\n",
        ")"
      ],
      "metadata": {
        "colab": {
          "base_uri": "https://localhost:8080/"
        },
        "id": "YzkkxePdsydC",
        "outputId": "e8a84406-36aa-4b67-80f5-7366b9405642"
      },
      "execution_count": 9,
      "outputs": [
        {
          "output_type": "stream",
          "name": "stdout",
          "text": [
            "Epoch 1/20\n"
          ]
        },
        {
          "output_type": "stream",
          "name": "stderr",
          "text": [
            "/usr/local/lib/python3.7/dist-packages/tensorflow/python/util/dispatch.py:1082: UserWarning: \"`sparse_categorical_crossentropy` received `from_logits=True`, but the `output` argument was produced by a sigmoid or softmax activation and thus does not represent logits. Was this intended?\"\n",
            "  return dispatch_target(*args, **kwargs)\n"
          ]
        },
        {
          "output_type": "stream",
          "name": "stdout",
          "text": [
            "79/79 [==============================] - 458s 6s/step - loss: 117.0189 - accuracy: 0.2144 - val_loss: 78.7188 - val_accuracy: 0.2774\n",
            "Epoch 2/20\n",
            "79/79 [==============================] - 17s 216ms/step - loss: 93.1477 - accuracy: 0.2946 - val_loss: 57.7528 - val_accuracy: 0.2994\n",
            "Epoch 3/20\n",
            "79/79 [==============================] - 17s 215ms/step - loss: 71.3080 - accuracy: 0.3657 - val_loss: 44.0463 - val_accuracy: 0.3493\n",
            "Epoch 4/20\n",
            "79/79 [==============================] - 17s 215ms/step - loss: 59.7077 - accuracy: 0.4367 - val_loss: 56.3950 - val_accuracy: 0.3772\n",
            "Epoch 5/20\n",
            "79/79 [==============================] - 17s 214ms/step - loss: 56.7613 - accuracy: 0.4922 - val_loss: 56.1474 - val_accuracy: 0.4671\n",
            "Epoch 6/20\n",
            "79/79 [==============================] - 17s 216ms/step - loss: 49.0844 - accuracy: 0.5505 - val_loss: 71.1181 - val_accuracy: 0.4830\n",
            "Epoch 7/20\n",
            "79/79 [==============================] - 17s 216ms/step - loss: 43.0663 - accuracy: 0.5932 - val_loss: 50.9524 - val_accuracy: 0.5190\n",
            "Epoch 8/20\n",
            "79/79 [==============================] - 17s 216ms/step - loss: 39.8963 - accuracy: 0.6248 - val_loss: 50.7731 - val_accuracy: 0.5908\n",
            "Epoch 9/20\n",
            "79/79 [==============================] - 17s 222ms/step - loss: 33.7491 - accuracy: 0.6551 - val_loss: 39.7423 - val_accuracy: 0.6307\n",
            "Epoch 10/20\n",
            "79/79 [==============================] - 17s 216ms/step - loss: 24.7618 - accuracy: 0.7238 - val_loss: 49.2038 - val_accuracy: 0.6168\n",
            "Epoch 11/20\n",
            "79/79 [==============================] - 17s 216ms/step - loss: 29.1134 - accuracy: 0.7134 - val_loss: 26.5650 - val_accuracy: 0.7325\n",
            "Epoch 12/20\n",
            "79/79 [==============================] - 17s 216ms/step - loss: 23.1242 - accuracy: 0.7593 - val_loss: 37.6294 - val_accuracy: 0.6966\n",
            "Epoch 13/20\n",
            "79/79 [==============================] - 17s 215ms/step - loss: 21.0399 - accuracy: 0.7772 - val_loss: 36.5437 - val_accuracy: 0.6986\n",
            "Epoch 14/20\n",
            "79/79 [==============================] - 17s 215ms/step - loss: 15.8197 - accuracy: 0.8104 - val_loss: 30.7811 - val_accuracy: 0.7206\n",
            "Epoch 15/20\n",
            "79/79 [==============================] - 17s 213ms/step - loss: 11.4241 - accuracy: 0.8467 - val_loss: 27.6163 - val_accuracy: 0.7405\n",
            "Epoch 16/20\n",
            "79/79 [==============================] - 17s 215ms/step - loss: 14.2370 - accuracy: 0.8395 - val_loss: 16.0540 - val_accuracy: 0.8164\n",
            "Epoch 17/20\n",
            "79/79 [==============================] - 17s 214ms/step - loss: 10.0579 - accuracy: 0.8743 - val_loss: 19.9454 - val_accuracy: 0.7924\n",
            "Epoch 18/20\n",
            "79/79 [==============================] - 17s 215ms/step - loss: 7.9694 - accuracy: 0.9026 - val_loss: 13.0011 - val_accuracy: 0.8523\n",
            "Epoch 19/20\n",
            "79/79 [==============================] - 17s 214ms/step - loss: 6.2398 - accuracy: 0.9150 - val_loss: 9.2454 - val_accuracy: 0.8882\n",
            "Epoch 20/20\n",
            "79/79 [==============================] - 17s 213ms/step - loss: 6.0687 - accuracy: 0.9230 - val_loss: 11.1148 - val_accuracy: 0.8623\n"
          ]
        },
        {
          "output_type": "execute_result",
          "data": {
            "text/plain": [
              "<keras.callbacks.History at 0x7f79122d7dd0>"
            ]
          },
          "metadata": {},
          "execution_count": 9
        }
      ]
    },
    {
      "cell_type": "code",
      "source": [
        ""
      ],
      "metadata": {
        "id": "zwWNr7rsA0JE"
      },
      "execution_count": 9,
      "outputs": []
    },
    {
      "cell_type": "code",
      "source": [
        ""
      ],
      "metadata": {
        "id": "x5AP37IkEpef"
      },
      "execution_count": null,
      "outputs": []
    },
    {
      "cell_type": "code",
      "source": [
        ""
      ],
      "metadata": {
        "id": "bhrCfU-uEpZN"
      },
      "execution_count": null,
      "outputs": []
    },
    {
      "cell_type": "code",
      "source": [
        "test_data = \"/content/drive/MyDrive/gaze_dataset/Test folder\""
      ],
      "metadata": {
        "id": "2bCT5aHsA0ED"
      },
      "execution_count": 31,
      "outputs": []
    },
    {
      "cell_type": "code",
      "source": [
        "train_dataset = tf.keras.utils.image_dataset_from_directory(test_data,\n",
        "                                                            shuffle=True\n",
        "                                                            )"
      ],
      "metadata": {
        "colab": {
          "base_uri": "https://localhost:8080/"
        },
        "id": "yjKWOlZmAz9L",
        "outputId": "07d595e5-3e7e-4cc6-a83f-1a36d60bc67e"
      },
      "execution_count": 32,
      "outputs": [
        {
          "output_type": "stream",
          "name": "stdout",
          "text": [
            "Found 509 files belonging to 1 classes.\n"
          ]
        }
      ]
    },
    {
      "cell_type": "code",
      "source": [
        "#predicting on test data X_pred\n",
        "y_pred = model.predict(val_ds)\n",
        "y_output = []"
      ],
      "metadata": {
        "id": "QTYyyIscsy36"
      },
      "execution_count": 33,
      "outputs": []
    },
    {
      "cell_type": "code",
      "source": [
        "y_pred[0]"
      ],
      "metadata": {
        "id": "RLZazqm7szlb",
        "colab": {
          "base_uri": "https://localhost:8080/"
        },
        "outputId": "7a6876a8-59a0-4687-a836-55d5d4ad340f"
      },
      "execution_count": 34,
      "outputs": [
        {
          "output_type": "execute_result",
          "data": {
            "text/plain": [
              "array([0., 0., 0., 1., 0.], dtype=float32)"
            ]
          },
          "metadata": {},
          "execution_count": 34
        }
      ]
    },
    {
      "cell_type": "code",
      "source": [
        "result = np.where(y_pred[0] == np.amax(y_pred[0]))\n",
        "print(result[0][0])"
      ],
      "metadata": {
        "id": "N8ZVEAGZ9Fi7",
        "colab": {
          "base_uri": "https://localhost:8080/"
        },
        "outputId": "bd1dc8b7-7013-4394-9b29-0ba3707dbf14"
      },
      "execution_count": 35,
      "outputs": [
        {
          "output_type": "stream",
          "name": "stdout",
          "text": [
            "3\n"
          ]
        }
      ]
    },
    {
      "cell_type": "code",
      "source": [
        "t = \"/content/drive/MyDrive/gaze_dataset/test\"\n",
        "\n",
        "dicti = {}\n",
        "dicti['filename'] = []\n",
        "dicti['class'] = []\n",
        "\n",
        "for f in os.listdir(t):\n",
        "  ip = os.path.join(t,f)\n",
        "\n",
        "  image_path = ip\n",
        "  image = tf.keras.preprocessing.image.load_img(image_path,target_size=(256,256))\n",
        "  input_arr = tf.keras.preprocessing.image.img_to_array(image)\n",
        "  input_arr = np.array([input_arr])  # Convert single image to a batch.\n",
        "  predictions = model.predict(input_arr)\n",
        "\n",
        "  dicti['filename'].append(f)\n",
        "  result = np.argmax(predictions,axis = 1)[0]\n",
        "  if(result == 4):\n",
        "    dicti['class'].append(\"Right_wing_mirror\")\n",
        "  elif(result == 3):\n",
        "    dicti['class'].append(\"Rearview_mirror\")\n",
        "  elif(result == 2):\n",
        "    dicti['class'].append(\"Left_wing_mirror\")\n",
        "  elif(result == 1):\n",
        "    dicti['class'].append(\"Forward\")\n",
        "  else:\n",
        "    dicti['class'].append(\"Centerstack\")"
      ],
      "metadata": {
        "id": "PU9Gin9_46rh"
      },
      "execution_count": 42,
      "outputs": []
    },
    {
      "cell_type": "code",
      "source": [
        "df = pd.DataFrame.from_dict(dicti)"
      ],
      "metadata": {
        "id": "2RQrbxPr46mp"
      },
      "execution_count": 43,
      "outputs": []
    },
    {
      "cell_type": "code",
      "source": [
        "df.head()"
      ],
      "metadata": {
        "id": "VQN2VwmN77Bl",
        "outputId": "069a1df0-d646-4056-90ce-dc2c3fd1ea8a",
        "colab": {
          "base_uri": "https://localhost:8080/",
          "height": 206
        }
      },
      "execution_count": 45,
      "outputs": [
        {
          "output_type": "execute_result",
          "data": {
            "text/plain": [
              "  filename              class\n",
              "0  129.jpg   Left_wing_mirror\n",
              "1  128.jpg  Right_wing_mirror\n",
              "2  127.jpg   Left_wing_mirror\n",
              "3  126.jpg   Left_wing_mirror\n",
              "4  121.jpg        Centerstack"
            ],
            "text/html": [
              "\n",
              "  <div id=\"df-bd188184-dec0-4310-a35c-7c6611064e31\">\n",
              "    <div class=\"colab-df-container\">\n",
              "      <div>\n",
              "<style scoped>\n",
              "    .dataframe tbody tr th:only-of-type {\n",
              "        vertical-align: middle;\n",
              "    }\n",
              "\n",
              "    .dataframe tbody tr th {\n",
              "        vertical-align: top;\n",
              "    }\n",
              "\n",
              "    .dataframe thead th {\n",
              "        text-align: right;\n",
              "    }\n",
              "</style>\n",
              "<table border=\"1\" class=\"dataframe\">\n",
              "  <thead>\n",
              "    <tr style=\"text-align: right;\">\n",
              "      <th></th>\n",
              "      <th>filename</th>\n",
              "      <th>class</th>\n",
              "    </tr>\n",
              "  </thead>\n",
              "  <tbody>\n",
              "    <tr>\n",
              "      <th>0</th>\n",
              "      <td>129.jpg</td>\n",
              "      <td>Left_wing_mirror</td>\n",
              "    </tr>\n",
              "    <tr>\n",
              "      <th>1</th>\n",
              "      <td>128.jpg</td>\n",
              "      <td>Right_wing_mirror</td>\n",
              "    </tr>\n",
              "    <tr>\n",
              "      <th>2</th>\n",
              "      <td>127.jpg</td>\n",
              "      <td>Left_wing_mirror</td>\n",
              "    </tr>\n",
              "    <tr>\n",
              "      <th>3</th>\n",
              "      <td>126.jpg</td>\n",
              "      <td>Left_wing_mirror</td>\n",
              "    </tr>\n",
              "    <tr>\n",
              "      <th>4</th>\n",
              "      <td>121.jpg</td>\n",
              "      <td>Centerstack</td>\n",
              "    </tr>\n",
              "  </tbody>\n",
              "</table>\n",
              "</div>\n",
              "      <button class=\"colab-df-convert\" onclick=\"convertToInteractive('df-bd188184-dec0-4310-a35c-7c6611064e31')\"\n",
              "              title=\"Convert this dataframe to an interactive table.\"\n",
              "              style=\"display:none;\">\n",
              "        \n",
              "  <svg xmlns=\"http://www.w3.org/2000/svg\" height=\"24px\"viewBox=\"0 0 24 24\"\n",
              "       width=\"24px\">\n",
              "    <path d=\"M0 0h24v24H0V0z\" fill=\"none\"/>\n",
              "    <path d=\"M18.56 5.44l.94 2.06.94-2.06 2.06-.94-2.06-.94-.94-2.06-.94 2.06-2.06.94zm-11 1L8.5 8.5l.94-2.06 2.06-.94-2.06-.94L8.5 2.5l-.94 2.06-2.06.94zm10 10l.94 2.06.94-2.06 2.06-.94-2.06-.94-.94-2.06-.94 2.06-2.06.94z\"/><path d=\"M17.41 7.96l-1.37-1.37c-.4-.4-.92-.59-1.43-.59-.52 0-1.04.2-1.43.59L10.3 9.45l-7.72 7.72c-.78.78-.78 2.05 0 2.83L4 21.41c.39.39.9.59 1.41.59.51 0 1.02-.2 1.41-.59l7.78-7.78 2.81-2.81c.8-.78.8-2.07 0-2.86zM5.41 20L4 18.59l7.72-7.72 1.47 1.35L5.41 20z\"/>\n",
              "  </svg>\n",
              "      </button>\n",
              "      \n",
              "  <style>\n",
              "    .colab-df-container {\n",
              "      display:flex;\n",
              "      flex-wrap:wrap;\n",
              "      gap: 12px;\n",
              "    }\n",
              "\n",
              "    .colab-df-convert {\n",
              "      background-color: #E8F0FE;\n",
              "      border: none;\n",
              "      border-radius: 50%;\n",
              "      cursor: pointer;\n",
              "      display: none;\n",
              "      fill: #1967D2;\n",
              "      height: 32px;\n",
              "      padding: 0 0 0 0;\n",
              "      width: 32px;\n",
              "    }\n",
              "\n",
              "    .colab-df-convert:hover {\n",
              "      background-color: #E2EBFA;\n",
              "      box-shadow: 0px 1px 2px rgba(60, 64, 67, 0.3), 0px 1px 3px 1px rgba(60, 64, 67, 0.15);\n",
              "      fill: #174EA6;\n",
              "    }\n",
              "\n",
              "    [theme=dark] .colab-df-convert {\n",
              "      background-color: #3B4455;\n",
              "      fill: #D2E3FC;\n",
              "    }\n",
              "\n",
              "    [theme=dark] .colab-df-convert:hover {\n",
              "      background-color: #434B5C;\n",
              "      box-shadow: 0px 1px 3px 1px rgba(0, 0, 0, 0.15);\n",
              "      filter: drop-shadow(0px 1px 2px rgba(0, 0, 0, 0.3));\n",
              "      fill: #FFFFFF;\n",
              "    }\n",
              "  </style>\n",
              "\n",
              "      <script>\n",
              "        const buttonEl =\n",
              "          document.querySelector('#df-bd188184-dec0-4310-a35c-7c6611064e31 button.colab-df-convert');\n",
              "        buttonEl.style.display =\n",
              "          google.colab.kernel.accessAllowed ? 'block' : 'none';\n",
              "\n",
              "        async function convertToInteractive(key) {\n",
              "          const element = document.querySelector('#df-bd188184-dec0-4310-a35c-7c6611064e31');\n",
              "          const dataTable =\n",
              "            await google.colab.kernel.invokeFunction('convertToInteractive',\n",
              "                                                     [key], {});\n",
              "          if (!dataTable) return;\n",
              "\n",
              "          const docLinkHtml = 'Like what you see? Visit the ' +\n",
              "            '<a target=\"_blank\" href=https://colab.research.google.com/notebooks/data_table.ipynb>data table notebook</a>'\n",
              "            + ' to learn more about interactive tables.';\n",
              "          element.innerHTML = '';\n",
              "          dataTable['output_type'] = 'display_data';\n",
              "          await google.colab.output.renderOutput(dataTable, element);\n",
              "          const docLink = document.createElement('div');\n",
              "          docLink.innerHTML = docLinkHtml;\n",
              "          element.appendChild(docLink);\n",
              "        }\n",
              "      </script>\n",
              "    </div>\n",
              "  </div>\n",
              "  "
            ]
          },
          "metadata": {},
          "execution_count": 45
        }
      ]
    },
    {
      "cell_type": "code",
      "source": [
        "df.to_csv(\"OutputM.csv\", index = False)\n",
        "!cp OutputM.csv \"drive/My Drive/\""
      ],
      "metadata": {
        "id": "BjUSokjz46MO"
      },
      "execution_count": 44,
      "outputs": []
    },
    {
      "cell_type": "code",
      "source": [
        ""
      ],
      "metadata": {
        "id": "fUF_T5KV75aI"
      },
      "execution_count": null,
      "outputs": []
    },
    {
      "cell_type": "code",
      "source": [
        ""
      ],
      "metadata": {
        "id": "xqp6PoYX75Wa"
      },
      "execution_count": null,
      "outputs": []
    },
    {
      "cell_type": "code",
      "source": [
        ""
      ],
      "metadata": {
        "id": "losV35tJ75Er"
      },
      "execution_count": null,
      "outputs": []
    },
    {
      "cell_type": "code",
      "source": [
        ""
      ],
      "metadata": {
        "id": "rO3Qvy9L75BB"
      },
      "execution_count": null,
      "outputs": []
    },
    {
      "cell_type": "code",
      "source": [
        ""
      ],
      "metadata": {
        "id": "K12XEg6x74_O"
      },
      "execution_count": null,
      "outputs": []
    },
    {
      "cell_type": "code",
      "source": [
        ""
      ],
      "metadata": {
        "id": "PZ5wyHvt749T"
      },
      "execution_count": null,
      "outputs": []
    },
    {
      "cell_type": "code",
      "source": [
        ""
      ],
      "metadata": {
        "id": "1kX-_ZPd743G"
      },
      "execution_count": null,
      "outputs": []
    },
    {
      "cell_type": "code",
      "source": [
        "for i in range(len(y_pred)):\n",
        "  result = np.where(y_pred[0] == np.amax(y_pred[0]))\n",
        "  \n",
        "  if(result == 0):\n",
        "    y_output.append(\"Right_wing_mirror\")\n",
        "  if(result == 1):\n",
        "    y_output.append(\"Rearview_mirror\")\n",
        "  if(result == 2):\n",
        "    y_output.append(\"Left_wing_mirror\")\n",
        "  if(result == 3):\n",
        "    y_output.append(\"Forward\")\n",
        "  else:\n",
        "    y_output.append(\"Centerstack\")"
      ],
      "metadata": {
        "id": "VI4UDVJr78AU"
      },
      "execution_count": 36,
      "outputs": []
    },
    {
      "cell_type": "code",
      "source": [
        "y_output"
      ],
      "metadata": {
        "colab": {
          "base_uri": "https://localhost:8080/"
        },
        "id": "h_oFgNtn779T",
        "outputId": "28538bbc-2c52-4d4f-d80f-67c5efabf10c"
      },
      "execution_count": 40,
      "outputs": [
        {
          "output_type": "execute_result",
          "data": {
            "text/plain": [
              "['Centerstack',\n",
              " 'Centerstack',\n",
              " 'Centerstack',\n",
              " 'Centerstack',\n",
              " 'Centerstack',\n",
              " 'Centerstack',\n",
              " 'Centerstack',\n",
              " 'Centerstack',\n",
              " 'Centerstack',\n",
              " 'Centerstack',\n",
              " 'Centerstack',\n",
              " 'Centerstack',\n",
              " 'Centerstack',\n",
              " 'Centerstack',\n",
              " 'Centerstack',\n",
              " 'Centerstack',\n",
              " 'Centerstack',\n",
              " 'Centerstack',\n",
              " 'Centerstack',\n",
              " 'Centerstack',\n",
              " 'Centerstack',\n",
              " 'Centerstack',\n",
              " 'Centerstack',\n",
              " 'Centerstack',\n",
              " 'Centerstack',\n",
              " 'Centerstack',\n",
              " 'Centerstack',\n",
              " 'Centerstack',\n",
              " 'Centerstack',\n",
              " 'Centerstack',\n",
              " 'Centerstack',\n",
              " 'Centerstack',\n",
              " 'Centerstack',\n",
              " 'Centerstack',\n",
              " 'Centerstack',\n",
              " 'Centerstack',\n",
              " 'Centerstack',\n",
              " 'Centerstack',\n",
              " 'Centerstack',\n",
              " 'Centerstack',\n",
              " 'Centerstack',\n",
              " 'Centerstack',\n",
              " 'Centerstack',\n",
              " 'Centerstack',\n",
              " 'Centerstack',\n",
              " 'Centerstack',\n",
              " 'Centerstack',\n",
              " 'Centerstack',\n",
              " 'Centerstack',\n",
              " 'Centerstack',\n",
              " 'Centerstack',\n",
              " 'Centerstack',\n",
              " 'Centerstack',\n",
              " 'Centerstack',\n",
              " 'Centerstack',\n",
              " 'Centerstack',\n",
              " 'Centerstack',\n",
              " 'Centerstack',\n",
              " 'Centerstack',\n",
              " 'Centerstack',\n",
              " 'Centerstack',\n",
              " 'Centerstack',\n",
              " 'Centerstack',\n",
              " 'Centerstack',\n",
              " 'Centerstack',\n",
              " 'Centerstack',\n",
              " 'Centerstack',\n",
              " 'Centerstack',\n",
              " 'Centerstack',\n",
              " 'Centerstack',\n",
              " 'Centerstack',\n",
              " 'Centerstack',\n",
              " 'Centerstack',\n",
              " 'Centerstack',\n",
              " 'Centerstack',\n",
              " 'Centerstack',\n",
              " 'Centerstack',\n",
              " 'Centerstack',\n",
              " 'Centerstack',\n",
              " 'Centerstack',\n",
              " 'Centerstack',\n",
              " 'Centerstack',\n",
              " 'Centerstack',\n",
              " 'Centerstack',\n",
              " 'Centerstack',\n",
              " 'Centerstack',\n",
              " 'Centerstack',\n",
              " 'Centerstack',\n",
              " 'Centerstack',\n",
              " 'Centerstack',\n",
              " 'Centerstack',\n",
              " 'Centerstack',\n",
              " 'Centerstack',\n",
              " 'Centerstack',\n",
              " 'Centerstack',\n",
              " 'Centerstack',\n",
              " 'Centerstack',\n",
              " 'Centerstack',\n",
              " 'Centerstack',\n",
              " 'Centerstack',\n",
              " 'Centerstack',\n",
              " 'Centerstack',\n",
              " 'Centerstack',\n",
              " 'Centerstack',\n",
              " 'Centerstack',\n",
              " 'Centerstack',\n",
              " 'Centerstack',\n",
              " 'Centerstack',\n",
              " 'Centerstack',\n",
              " 'Centerstack',\n",
              " 'Centerstack',\n",
              " 'Centerstack',\n",
              " 'Centerstack',\n",
              " 'Centerstack',\n",
              " 'Centerstack',\n",
              " 'Centerstack',\n",
              " 'Centerstack',\n",
              " 'Centerstack',\n",
              " 'Centerstack',\n",
              " 'Centerstack',\n",
              " 'Centerstack',\n",
              " 'Centerstack',\n",
              " 'Centerstack',\n",
              " 'Centerstack',\n",
              " 'Centerstack',\n",
              " 'Centerstack',\n",
              " 'Centerstack',\n",
              " 'Centerstack',\n",
              " 'Centerstack',\n",
              " 'Centerstack',\n",
              " 'Centerstack',\n",
              " 'Centerstack',\n",
              " 'Centerstack',\n",
              " 'Centerstack',\n",
              " 'Centerstack',\n",
              " 'Centerstack',\n",
              " 'Centerstack',\n",
              " 'Centerstack',\n",
              " 'Centerstack',\n",
              " 'Centerstack',\n",
              " 'Centerstack',\n",
              " 'Centerstack',\n",
              " 'Centerstack',\n",
              " 'Centerstack',\n",
              " 'Centerstack',\n",
              " 'Centerstack',\n",
              " 'Centerstack',\n",
              " 'Centerstack',\n",
              " 'Centerstack',\n",
              " 'Centerstack',\n",
              " 'Centerstack',\n",
              " 'Centerstack',\n",
              " 'Centerstack',\n",
              " 'Centerstack',\n",
              " 'Centerstack',\n",
              " 'Centerstack',\n",
              " 'Centerstack',\n",
              " 'Centerstack',\n",
              " 'Centerstack',\n",
              " 'Centerstack',\n",
              " 'Centerstack',\n",
              " 'Centerstack',\n",
              " 'Centerstack',\n",
              " 'Centerstack',\n",
              " 'Centerstack',\n",
              " 'Centerstack',\n",
              " 'Centerstack',\n",
              " 'Centerstack',\n",
              " 'Centerstack',\n",
              " 'Centerstack',\n",
              " 'Centerstack',\n",
              " 'Centerstack',\n",
              " 'Centerstack',\n",
              " 'Centerstack',\n",
              " 'Centerstack',\n",
              " 'Centerstack',\n",
              " 'Centerstack',\n",
              " 'Centerstack',\n",
              " 'Centerstack',\n",
              " 'Centerstack',\n",
              " 'Centerstack',\n",
              " 'Centerstack',\n",
              " 'Centerstack',\n",
              " 'Centerstack',\n",
              " 'Centerstack',\n",
              " 'Centerstack',\n",
              " 'Centerstack',\n",
              " 'Centerstack',\n",
              " 'Centerstack',\n",
              " 'Centerstack',\n",
              " 'Centerstack',\n",
              " 'Centerstack',\n",
              " 'Centerstack',\n",
              " 'Centerstack',\n",
              " 'Centerstack',\n",
              " 'Centerstack',\n",
              " 'Centerstack',\n",
              " 'Centerstack',\n",
              " 'Centerstack',\n",
              " 'Centerstack',\n",
              " 'Centerstack',\n",
              " 'Centerstack',\n",
              " 'Centerstack',\n",
              " 'Centerstack',\n",
              " 'Centerstack',\n",
              " 'Centerstack',\n",
              " 'Centerstack',\n",
              " 'Centerstack',\n",
              " 'Centerstack',\n",
              " 'Centerstack',\n",
              " 'Centerstack',\n",
              " 'Centerstack',\n",
              " 'Centerstack',\n",
              " 'Centerstack',\n",
              " 'Centerstack',\n",
              " 'Centerstack',\n",
              " 'Centerstack',\n",
              " 'Centerstack',\n",
              " 'Centerstack',\n",
              " 'Centerstack',\n",
              " 'Centerstack',\n",
              " 'Centerstack',\n",
              " 'Centerstack',\n",
              " 'Centerstack',\n",
              " 'Centerstack',\n",
              " 'Centerstack',\n",
              " 'Centerstack',\n",
              " 'Centerstack',\n",
              " 'Centerstack',\n",
              " 'Centerstack',\n",
              " 'Centerstack',\n",
              " 'Centerstack',\n",
              " 'Centerstack',\n",
              " 'Centerstack',\n",
              " 'Centerstack',\n",
              " 'Centerstack',\n",
              " 'Centerstack',\n",
              " 'Centerstack',\n",
              " 'Centerstack',\n",
              " 'Centerstack',\n",
              " 'Centerstack',\n",
              " 'Centerstack',\n",
              " 'Centerstack',\n",
              " 'Centerstack',\n",
              " 'Centerstack',\n",
              " 'Centerstack',\n",
              " 'Centerstack',\n",
              " 'Centerstack',\n",
              " 'Centerstack',\n",
              " 'Centerstack',\n",
              " 'Centerstack',\n",
              " 'Centerstack',\n",
              " 'Centerstack',\n",
              " 'Centerstack',\n",
              " 'Centerstack',\n",
              " 'Centerstack',\n",
              " 'Centerstack',\n",
              " 'Centerstack',\n",
              " 'Centerstack',\n",
              " 'Centerstack',\n",
              " 'Centerstack',\n",
              " 'Centerstack',\n",
              " 'Centerstack',\n",
              " 'Centerstack',\n",
              " 'Centerstack',\n",
              " 'Centerstack',\n",
              " 'Centerstack',\n",
              " 'Centerstack',\n",
              " 'Centerstack',\n",
              " 'Centerstack',\n",
              " 'Centerstack',\n",
              " 'Centerstack',\n",
              " 'Centerstack',\n",
              " 'Centerstack',\n",
              " 'Centerstack',\n",
              " 'Centerstack',\n",
              " 'Centerstack',\n",
              " 'Centerstack',\n",
              " 'Centerstack',\n",
              " 'Centerstack',\n",
              " 'Centerstack',\n",
              " 'Centerstack',\n",
              " 'Centerstack',\n",
              " 'Centerstack',\n",
              " 'Centerstack',\n",
              " 'Centerstack',\n",
              " 'Centerstack',\n",
              " 'Centerstack',\n",
              " 'Centerstack',\n",
              " 'Centerstack',\n",
              " 'Centerstack',\n",
              " 'Centerstack',\n",
              " 'Centerstack',\n",
              " 'Centerstack',\n",
              " 'Centerstack',\n",
              " 'Centerstack',\n",
              " 'Centerstack',\n",
              " 'Centerstack',\n",
              " 'Centerstack',\n",
              " 'Centerstack',\n",
              " 'Centerstack',\n",
              " 'Centerstack',\n",
              " 'Centerstack',\n",
              " 'Centerstack',\n",
              " 'Centerstack',\n",
              " 'Centerstack',\n",
              " 'Centerstack',\n",
              " 'Centerstack',\n",
              " 'Centerstack',\n",
              " 'Centerstack',\n",
              " 'Centerstack',\n",
              " 'Centerstack',\n",
              " 'Centerstack',\n",
              " 'Centerstack',\n",
              " 'Centerstack',\n",
              " 'Centerstack',\n",
              " 'Centerstack',\n",
              " 'Centerstack',\n",
              " 'Centerstack',\n",
              " 'Centerstack',\n",
              " 'Centerstack',\n",
              " 'Centerstack',\n",
              " 'Centerstack',\n",
              " 'Centerstack',\n",
              " 'Centerstack',\n",
              " 'Centerstack',\n",
              " 'Centerstack',\n",
              " 'Centerstack',\n",
              " 'Centerstack',\n",
              " 'Centerstack',\n",
              " 'Centerstack',\n",
              " 'Centerstack',\n",
              " 'Centerstack',\n",
              " 'Centerstack',\n",
              " 'Centerstack',\n",
              " 'Centerstack',\n",
              " 'Centerstack',\n",
              " 'Centerstack',\n",
              " 'Centerstack',\n",
              " 'Centerstack',\n",
              " 'Centerstack',\n",
              " 'Centerstack',\n",
              " 'Centerstack',\n",
              " 'Centerstack',\n",
              " 'Centerstack',\n",
              " 'Centerstack',\n",
              " 'Centerstack',\n",
              " 'Centerstack',\n",
              " 'Centerstack',\n",
              " 'Centerstack',\n",
              " 'Centerstack',\n",
              " 'Centerstack',\n",
              " 'Centerstack',\n",
              " 'Centerstack',\n",
              " 'Centerstack',\n",
              " 'Centerstack',\n",
              " 'Centerstack',\n",
              " 'Centerstack',\n",
              " 'Centerstack',\n",
              " 'Centerstack',\n",
              " 'Centerstack',\n",
              " 'Centerstack',\n",
              " 'Centerstack',\n",
              " 'Centerstack',\n",
              " 'Centerstack',\n",
              " 'Centerstack',\n",
              " 'Centerstack',\n",
              " 'Centerstack',\n",
              " 'Centerstack',\n",
              " 'Centerstack',\n",
              " 'Centerstack',\n",
              " 'Centerstack',\n",
              " 'Centerstack',\n",
              " 'Centerstack',\n",
              " 'Centerstack',\n",
              " 'Centerstack',\n",
              " 'Centerstack',\n",
              " 'Centerstack',\n",
              " 'Centerstack',\n",
              " 'Centerstack',\n",
              " 'Centerstack',\n",
              " 'Centerstack',\n",
              " 'Centerstack',\n",
              " 'Centerstack',\n",
              " 'Centerstack',\n",
              " 'Centerstack',\n",
              " 'Centerstack',\n",
              " 'Centerstack',\n",
              " 'Centerstack',\n",
              " 'Centerstack',\n",
              " 'Centerstack',\n",
              " 'Centerstack',\n",
              " 'Centerstack',\n",
              " 'Centerstack',\n",
              " 'Centerstack',\n",
              " 'Centerstack',\n",
              " 'Centerstack',\n",
              " 'Centerstack',\n",
              " 'Centerstack',\n",
              " 'Centerstack',\n",
              " 'Centerstack',\n",
              " 'Centerstack',\n",
              " 'Centerstack',\n",
              " 'Centerstack',\n",
              " 'Centerstack',\n",
              " 'Centerstack',\n",
              " 'Centerstack',\n",
              " 'Centerstack',\n",
              " 'Centerstack',\n",
              " 'Centerstack',\n",
              " 'Centerstack',\n",
              " 'Centerstack',\n",
              " 'Centerstack',\n",
              " 'Centerstack',\n",
              " 'Centerstack',\n",
              " 'Centerstack',\n",
              " 'Centerstack',\n",
              " 'Centerstack',\n",
              " 'Centerstack',\n",
              " 'Centerstack',\n",
              " 'Centerstack',\n",
              " 'Centerstack',\n",
              " 'Centerstack',\n",
              " 'Centerstack',\n",
              " 'Centerstack',\n",
              " 'Centerstack',\n",
              " 'Centerstack',\n",
              " 'Centerstack',\n",
              " 'Centerstack',\n",
              " 'Centerstack',\n",
              " 'Centerstack',\n",
              " 'Centerstack',\n",
              " 'Centerstack',\n",
              " 'Centerstack',\n",
              " 'Centerstack',\n",
              " 'Centerstack',\n",
              " 'Centerstack',\n",
              " 'Centerstack',\n",
              " 'Centerstack',\n",
              " 'Centerstack',\n",
              " 'Centerstack',\n",
              " 'Centerstack',\n",
              " 'Centerstack',\n",
              " 'Centerstack',\n",
              " 'Centerstack',\n",
              " 'Centerstack',\n",
              " 'Centerstack',\n",
              " 'Centerstack',\n",
              " 'Centerstack',\n",
              " 'Centerstack',\n",
              " 'Centerstack',\n",
              " 'Centerstack',\n",
              " 'Centerstack',\n",
              " 'Centerstack',\n",
              " 'Centerstack',\n",
              " 'Centerstack',\n",
              " 'Centerstack',\n",
              " 'Centerstack',\n",
              " 'Centerstack',\n",
              " 'Centerstack',\n",
              " 'Centerstack',\n",
              " 'Centerstack',\n",
              " 'Centerstack',\n",
              " 'Centerstack',\n",
              " 'Centerstack',\n",
              " 'Centerstack',\n",
              " 'Centerstack',\n",
              " 'Centerstack',\n",
              " 'Centerstack',\n",
              " 'Centerstack',\n",
              " 'Centerstack',\n",
              " 'Centerstack',\n",
              " 'Centerstack',\n",
              " 'Centerstack',\n",
              " 'Centerstack',\n",
              " 'Centerstack',\n",
              " 'Centerstack',\n",
              " 'Centerstack',\n",
              " 'Centerstack',\n",
              " 'Centerstack',\n",
              " 'Centerstack',\n",
              " 'Centerstack',\n",
              " 'Centerstack',\n",
              " 'Centerstack',\n",
              " 'Centerstack',\n",
              " 'Centerstack',\n",
              " 'Centerstack',\n",
              " 'Centerstack',\n",
              " 'Centerstack',\n",
              " 'Centerstack',\n",
              " 'Centerstack',\n",
              " 'Centerstack',\n",
              " 'Centerstack',\n",
              " 'Centerstack',\n",
              " 'Centerstack',\n",
              " 'Centerstack',\n",
              " 'Centerstack',\n",
              " 'Centerstack',\n",
              " 'Centerstack',\n",
              " 'Centerstack',\n",
              " 'Centerstack']"
            ]
          },
          "metadata": {},
          "execution_count": 40
        }
      ]
    },
    {
      "cell_type": "code",
      "source": [
        "print(len(list_test))\n",
        "print(len(y_output))"
      ],
      "metadata": {
        "colab": {
          "base_uri": "https://localhost:8080/"
        },
        "id": "W7luqZ6t771e",
        "outputId": "588c2cb5-b8b9-4275-b523-2fffd6033052"
      },
      "execution_count": 41,
      "outputs": [
        {
          "output_type": "stream",
          "name": "stdout",
          "text": [
            "509\n",
            "501\n"
          ]
        }
      ]
    },
    {
      "cell_type": "code",
      "source": [
        ""
      ],
      "metadata": {
        "id": "xIGemr4j_20k"
      },
      "execution_count": null,
      "outputs": []
    },
    {
      "cell_type": "code",
      "source": [
        ""
      ],
      "metadata": {
        "id": "cjiIBeRe_2tQ"
      },
      "execution_count": null,
      "outputs": []
    },
    {
      "cell_type": "code",
      "source": [
        ""
      ],
      "metadata": {
        "id": "hJOCD-PX_2As"
      },
      "execution_count": null,
      "outputs": []
    },
    {
      "cell_type": "code",
      "source": [
        ""
      ],
      "metadata": {
        "id": "KiNXbD8U_18b"
      },
      "execution_count": null,
      "outputs": []
    },
    {
      "cell_type": "code",
      "source": [
        ""
      ],
      "metadata": {
        "id": "f6mPDE5q_131"
      },
      "execution_count": null,
      "outputs": []
    },
    {
      "cell_type": "code",
      "source": [
        ""
      ],
      "metadata": {
        "id": "xVFFzJJy_1v0"
      },
      "execution_count": null,
      "outputs": []
    },
    {
      "cell_type": "code",
      "source": [
        "for i in range(len(y_pred)):\n",
        "  if(y_pred[i][0] > y_pred[i][1]):\n",
        "    y_output.append(\"Non_raveling\")\n",
        "  else:\n",
        "    y_output.append(\"Raveling\")"
      ],
      "metadata": {
        "id": "r0N7EqETsz57"
      },
      "execution_count": null,
      "outputs": []
    },
    {
      "cell_type": "code",
      "source": [
        ""
      ],
      "metadata": {
        "id": "V5E86kids0Kb"
      },
      "execution_count": null,
      "outputs": []
    },
    {
      "cell_type": "code",
      "source": [
        ""
      ],
      "metadata": {
        "id": "BBxRkpQOs0Zc"
      },
      "execution_count": null,
      "outputs": []
    },
    {
      "cell_type": "code",
      "source": [
        ""
      ],
      "metadata": {
        "id": "aKhpyYANs0qN"
      },
      "execution_count": null,
      "outputs": []
    },
    {
      "cell_type": "code",
      "source": [
        "# stored non raveling image array in img_nr\n",
        "img_cs = []\n",
        "for i in range(len(list_cs)):\n",
        "  img = io.imread(os.path.join(Centerstack_data,\n",
        "                               list_cs[i]))\n",
        "  img_cs.append(np.array(img))\n",
        "  io.imshow(img)\n",
        "\n",
        "img_f = []\n",
        "for i in range(len(list_f)):\n",
        "  img = io.imread(os.path.join(Forward_data,\n",
        "                               list_f[i]))\n",
        "  img_f.append(np.array(img))\n",
        "  io.imshow(img)\n",
        "\n",
        "img_lwm = []\n",
        "for i in range(len(list_lwm)):\n",
        "  img = io.imread(os.path.join(Left_wm_data,\n",
        "                               list_lwm[i]))\n",
        "  img_lwm.append(np.array(img))\n",
        "  io.imshow(img)\n",
        "\n",
        "img_rv = []\n",
        "for i in range(len(list_rv)):\n",
        "  img = io.imread(os.path.join(Rearview_data,\n",
        "                               list_rv[i]))\n",
        "  img_rv.append(np.array(img))\n",
        "  io.imshow(img)\n",
        "\n",
        "#stored raveling image array in img_r \n",
        "img_rwm = []\n",
        "for i in range(len(list_rwm)):\n",
        "  img = io.imread(os.path.join(Right_wm_data,\n",
        "                               list_rwm[i]))\n",
        "  img_rwm.append(np.array(img))\n",
        "  io.imshow(img)\n",
        "\n",
        "#stored test image array in img_test\n",
        "img_test = []\n",
        "for i in range(len(list_test)):\n",
        "  img = io.imread(os.path.join(test_data,\n",
        "                               list_test[i]))\n",
        "  img_test.append(np.array(img))\n",
        "  io.imshow(img)"
      ],
      "metadata": {
        "id": "uwBQuraZhBMH"
      },
      "execution_count": null,
      "outputs": []
    },
    {
      "cell_type": "code",
      "source": [
        "y_cs=np.empty(500)\n",
        "y_cs.fill(0)\n",
        "\n",
        "y_f=np.empty(500)\n",
        "y_f.fill(1)\n",
        "\n",
        "y_lwm=np.empty(500)\n",
        "y_lwm.fill(2)\n",
        "\n",
        "y_rv=np.empty(500)\n",
        "y_rv.fill(3)\n",
        "\n",
        "y_rwm=np.empty(500)\n",
        "y_rwm.fill(4)\n",
        "\n",
        "y = np.concatenate((y_cs, y_f, y_lwm, y_rv, y_rwm), axis = 0)"
      ],
      "metadata": {
        "id": "YFM9RAS8pNbU"
      },
      "execution_count": null,
      "outputs": []
    },
    {
      "cell_type": "code",
      "source": [
        "perms = np.random.permutation(2500)"
      ],
      "metadata": {
        "id": "S7W_JC5Hq0PU"
      },
      "execution_count": null,
      "outputs": []
    },
    {
      "cell_type": "code",
      "source": [
        "X = np.concatenate((img_cs, img_f, img_lwm, img_rv, img_rwm), axis = 0)"
      ],
      "metadata": {
        "id": "qlMwX-t_q0Mo"
      },
      "execution_count": null,
      "outputs": []
    },
    {
      "cell_type": "code",
      "source": [
        "X = X[perms]\n",
        "y = y[perms]"
      ],
      "metadata": {
        "id": "hHsHYpVwq0JR"
      },
      "execution_count": null,
      "outputs": []
    },
    {
      "cell_type": "code",
      "source": [
        ""
      ],
      "metadata": {
        "id": "4rPUNemVq0AH"
      },
      "execution_count": null,
      "outputs": []
    }
  ]
}