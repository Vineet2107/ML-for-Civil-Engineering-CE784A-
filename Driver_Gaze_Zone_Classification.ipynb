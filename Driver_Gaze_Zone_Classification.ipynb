{
  "nbformat": 4,
  "nbformat_minor": 0,
  "metadata": {
    "colab": {
      "name": "Driver Gaze Zone Classification.ipynb",
      "provenance": [],
      "mount_file_id": "170YlT7E_fDOdFxPHtbEr2VTYPLtkXurp",
      "authorship_tag": "ABX9TyPrEUICWzgVZmAMqHlgWio1",
      "include_colab_link": true
    },
    "kernelspec": {
      "name": "python3",
      "display_name": "Python 3"
    },
    "language_info": {
      "name": "python"
    },
    "accelerator": "GPU"
  },
  "cells": [
    {
      "cell_type": "markdown",
      "metadata": {
        "id": "view-in-github",
        "colab_type": "text"
      },
      "source": [
        "<a href=\"https://colab.research.google.com/github/Vineet2107/ML-for-Civil-Engineering-CE784A-/blob/main/Driver_Gaze_Zone_Classification.ipynb\" target=\"_parent\"><img src=\"https://colab.research.google.com/assets/colab-badge.svg\" alt=\"Open In Colab\"/></a>"
      ]
    },
    {
      "cell_type": "code",
      "source": [
        "from google.colab import drive\n",
        "drive.mount('/content/drive')"
      ],
      "metadata": {
        "colab": {
          "base_uri": "https://localhost:8080/"
        },
        "id": "34XKG48zesWz",
        "outputId": "cb08c6fa-6e85-41ff-a607-811ced96c184"
      },
      "execution_count": 74,
      "outputs": [
        {
          "output_type": "stream",
          "name": "stdout",
          "text": [
            "Drive already mounted at /content/drive; to attempt to forcibly remount, call drive.mount(\"/content/drive\", force_remount=True).\n"
          ]
        }
      ]
    },
    {
      "cell_type": "code",
      "source": [
        "#imported necessary packages and libraries\n",
        "import matplotlib.pyplot as plt\n",
        "from skimage import io, color\n",
        "import os\n",
        "import glob\n",
        "import numpy as np\n",
        "import pandas as pd\n",
        "from sklearn.model_selection import train_test_split\n",
        "import tensorflow as tf\n",
        "from tensorflow import keras\n",
        "from tensorflow.keras import layers, callbacks\n",
        "from tensorflow.keras.models import Sequential\n",
        "from tensorflow.keras.layers import Flatten\n",
        "from tensorflow.keras.layers import Dense\n",
        "from tensorflow.keras.layers import Activation\n",
        "import matplotlib.pyplot as plt\n",
        "% matplotlib inline"
      ],
      "metadata": {
        "id": "ZAjSzxj5etz1"
      },
      "execution_count": 75,
      "outputs": []
    },
    {
      "cell_type": "code",
      "source": [
        "#path of train and test data\n",
        "train_path = '/content/drive/MyDrive/gaze_dataset/train'\n",
        "test_path = '/content/drive/MyDrive/gaze_dataset/test'"
      ],
      "metadata": {
        "id": "L-FUAEr1fKiI"
      },
      "execution_count": 76,
      "outputs": []
    },
    {
      "cell_type": "code",
      "source": [
        "#path of raveling, non revaling and test data\n",
        "Centerstack_data = '/content/drive/MyDrive/gaze_dataset/train/Centerstack'\n",
        "Forward_data = '/content/drive/MyDrive/gaze_dataset/train/Forward'\n",
        "Left_wm_data = '/content/drive/MyDrive/gaze_dataset/train/Left_wing_mirror'\n",
        "Rearview_data = '/content/drive/MyDrive/gaze_dataset/train/Rearview_mirror'\n",
        "Right_wm_data = '/content/drive/MyDrive/gaze_dataset/train/Right_wing_mirror'\n",
        "test_data = '/content/drive/MyDrive/gaze_dataset/test'"
      ],
      "metadata": {
        "id": "944Fdr6sfjY-"
      },
      "execution_count": 77,
      "outputs": []
    },
    {
      "cell_type": "code",
      "source": [
        "list_cs = os.listdir(Centerstack_data)\n",
        "list_f = os.listdir(Forward_data)\n",
        "list_lwm = os.listdir(Left_wm_data)\n",
        "list_rv = os.listdir(Rearview_data)\n",
        "list_rwm = os.listdir(Right_wm_data)\n",
        "list_test = os.listdir(test_data)"
      ],
      "metadata": {
        "id": "_nVkdBBSgcUu"
      },
      "execution_count": 78,
      "outputs": []
    },
    {
      "cell_type": "code",
      "source": [
        "data_dir = '/content/drive/MyDrive/gaze_dataset/train'\n",
        "\n",
        "\n",
        "BATCH_SIZE = 32\n",
        "# IMG_SIZE = (256, 256, 3)\n",
        "\n",
        "train_dataset = tf.keras.utils.image_dataset_from_directory(data_dir,\n",
        "                                                            shuffle=True,\n",
        "                                                            batch_size=BATCH_SIZE,\n",
        "                                                            )"
      ],
      "metadata": {
        "id": "1R1wckJKslhf",
        "outputId": "d0b27445-c8e9-4d8c-950b-4eb99fa09134",
        "colab": {
          "base_uri": "https://localhost:8080/"
        }
      },
      "execution_count": 79,
      "outputs": [
        {
          "output_type": "stream",
          "name": "stdout",
          "text": [
            "Found 2505 files belonging to 5 classes.\n"
          ]
        }
      ]
    },
    {
      "cell_type": "code",
      "source": [
        "val_ds = tf.keras.utils.image_dataset_from_directory(\n",
        "  data_dir,\n",
        "  validation_split=0.2,\n",
        "  subset=\"validation\",\n",
        "  seed=123,\n",
        "  batch_size=8)"
      ],
      "metadata": {
        "id": "0OuJ-tqksnId",
        "outputId": "f9b5e071-bb2a-4e27-bab7-28b726bc8348",
        "colab": {
          "base_uri": "https://localhost:8080/"
        }
      },
      "execution_count": 80,
      "outputs": [
        {
          "output_type": "stream",
          "name": "stdout",
          "text": [
            "Found 2505 files belonging to 5 classes.\n",
            "Using 501 files for validation.\n"
          ]
        }
      ]
    },
    {
      "cell_type": "code",
      "source": [
        "normalization_layer = tf.keras.layers.Rescaling(1./255)\n",
        "normalized_ds = train_dataset.map(lambda x, y: (normalization_layer(x), y))\n",
        "image_batch, labels_batch = next(iter(normalized_ds))\n",
        "\n",
        "AUTOTUNE = tf.data.AUTOTUNE\n",
        "\n",
        "train_ds = train_dataset.cache().prefetch(buffer_size=AUTOTUNE)"
      ],
      "metadata": {
        "id": "nfT6NWXvsrE0"
      },
      "execution_count": 81,
      "outputs": []
    },
    {
      "cell_type": "code",
      "source": [
        "num_classes = 5\n",
        "model = tf.keras.Sequential([\n",
        "  \n",
        "  tf.keras.layers.BatchNormalization(),\n",
        "  tf.keras.layers.Conv2D(64, 3, activation='relu'),\n",
        "  tf.keras.layers.MaxPooling2D(),\n",
        "  tf.keras.layers.Dropout((0.2)),\n",
        "  tf.keras.layers.BatchNormalization(),\n",
        "  \n",
        "  tf.keras.layers.Flatten(),\n",
        "  tf.keras.layers.BatchNormalization(),\n",
        "  tf.keras.layers.Dense(num_classes,activation = 'softmax')\n",
        "])\n",
        "\n",
        "model.compile(\n",
        "  optimizer='adam',\n",
        "  loss=tf.losses.SparseCategoricalCrossentropy(from_logits=True),\n",
        "  metrics=['accuracy'])\n",
        "\n",
        "model.fit(\n",
        "  train_ds,\n",
        "  validation_data=val_ds,\n",
        "  epochs=20\n",
        ")"
      ],
      "metadata": {
        "id": "YzkkxePdsydC",
        "outputId": "3f105139-a7da-4df3-86d0-23b491284186",
        "colab": {
          "base_uri": "https://localhost:8080/"
        }
      },
      "execution_count": null,
      "outputs": [
        {
          "metadata": {
            "tags": null
          },
          "name": "stdout",
          "output_type": "stream",
          "text": [
            "Epoch 1/20\n"
          ]
        },
        {
          "metadata": {
            "tags": null
          },
          "name": "stderr",
          "output_type": "stream",
          "text": [
            "/usr/local/lib/python3.7/dist-packages/tensorflow/python/util/dispatch.py:1082: UserWarning: \"`sparse_categorical_crossentropy` received `from_logits=True`, but the `output` argument was produced by a sigmoid or softmax activation and thus does not represent logits. Was this intended?\"\n",
            "  return dispatch_target(*args, **kwargs)\n"
          ]
        },
        {
          "output_type": "stream",
          "name": "stdout",
          "text": [
            "79/79 [==============================] - 26s 306ms/step - loss: 108.6317 - accuracy: 0.2351 - val_loss: 57.0316 - val_accuracy: 0.2974\n",
            "Epoch 2/20\n",
            "79/79 [==============================] - 21s 268ms/step - loss: 97.7923 - accuracy: 0.3066 - val_loss: 69.4945 - val_accuracy: 0.2435\n"
          ]
        }
      ]
    },
    {
      "cell_type": "code",
      "source": [
        ""
      ],
      "metadata": {
        "id": "zwWNr7rsA0JE"
      },
      "execution_count": null,
      "outputs": []
    },
    {
      "cell_type": "code",
      "source": [
        "from PIL import Image, ImageOps\n",
        "data_dir = '/content/drive/MyDrive/gaze_dataset/test'\n",
        "test = np.array([tf.image.resize(np.array(Image.open(data_dir+str(i+1)+\".jpg\")),[160,160]) for i in range(len(os.listdir(data_dir)))])"
      ],
      "metadata": {
        "id": "AW89NfAlEpn1"
      },
      "execution_count": null,
      "outputs": []
    },
    {
      "cell_type": "code",
      "source": [
        ""
      ],
      "metadata": {
        "id": "l2N3URvYEpip"
      },
      "execution_count": null,
      "outputs": []
    },
    {
      "cell_type": "code",
      "source": [
        ""
      ],
      "metadata": {
        "id": "x5AP37IkEpef"
      },
      "execution_count": null,
      "outputs": []
    },
    {
      "cell_type": "code",
      "source": [
        ""
      ],
      "metadata": {
        "id": "bhrCfU-uEpZN"
      },
      "execution_count": null,
      "outputs": []
    },
    {
      "cell_type": "code",
      "source": [
        "test_data = \"/content/drive/MyDrive/gaze_dataset/test\""
      ],
      "metadata": {
        "id": "2bCT5aHsA0ED"
      },
      "execution_count": null,
      "outputs": []
    },
    {
      "cell_type": "code",
      "source": [
        "train_dataset = tf.keras.utils.image_dataset_from_directory(test_data,\n",
        "                                                            shuffle=False\n",
        "                                                            )"
      ],
      "metadata": {
        "id": "yjKWOlZmAz9L"
      },
      "execution_count": null,
      "outputs": []
    },
    {
      "cell_type": "code",
      "source": [
        "#predicting on test data X_pred\n",
        "y_pred = model.predict(val_ds)\n",
        "y_output = []"
      ],
      "metadata": {
        "id": "QTYyyIscsy36"
      },
      "execution_count": 73,
      "outputs": []
    },
    {
      "cell_type": "code",
      "source": [
        "y_pred[0]"
      ],
      "metadata": {
        "id": "RLZazqm7szlb"
      },
      "execution_count": null,
      "outputs": []
    },
    {
      "cell_type": "code",
      "source": [
        "result = np.where(y_pred[0] == np.amax(y_pred[0]))\n",
        "print(result[0][0])"
      ],
      "metadata": {
        "id": "N8ZVEAGZ9Fi7"
      },
      "execution_count": null,
      "outputs": []
    },
    {
      "cell_type": "code",
      "source": [
        "for i in range(len(y_pred)):\n",
        "  result = np.where(y_pred[0] == np.amax(y_pred[0]))\n",
        "  \n",
        "  if(result == 0):\n",
        "    y_output.append(\"Right_wing_mirror\")\n",
        "  if(result == 1):\n",
        "    y_output.append(\"Rearview_mirror\")\n",
        "  if(result == 2):\n",
        "    y_output.append(\"Left_wing_mirror\")\n",
        "  if(result == 3):\n",
        "    y_output.append(\"Forward\")\n",
        "  else:\n",
        "    y_output.append(\"Centerstack\")"
      ],
      "metadata": {
        "id": "VI4UDVJr78AU"
      },
      "execution_count": 62,
      "outputs": []
    },
    {
      "cell_type": "code",
      "source": [
        "y_output[:10]"
      ],
      "metadata": {
        "id": "h_oFgNtn779T",
        "outputId": "32ec02b7-991b-4d24-9b4a-59eb611c47d6",
        "colab": {
          "base_uri": "https://localhost:8080/"
        }
      },
      "execution_count": 63,
      "outputs": [
        {
          "output_type": "execute_result",
          "data": {
            "text/plain": [
              "['Centerstack',\n",
              " 'Centerstack',\n",
              " 'Centerstack',\n",
              " 'Centerstack',\n",
              " 'Centerstack',\n",
              " 'Centerstack',\n",
              " 'Centerstack',\n",
              " 'Centerstack',\n",
              " 'Centerstack',\n",
              " 'Centerstack']"
            ]
          },
          "metadata": {},
          "execution_count": 63
        }
      ]
    },
    {
      "cell_type": "code",
      "source": [
        "print(len(list_test))\n",
        "print(len(y_output))"
      ],
      "metadata": {
        "id": "W7luqZ6t771e",
        "outputId": "ddd053d1-f1f5-485c-8a29-1e536c4fc34b",
        "colab": {
          "base_uri": "https://localhost:8080/"
        }
      },
      "execution_count": 64,
      "outputs": [
        {
          "output_type": "stream",
          "name": "stdout",
          "text": [
            "509\n",
            "501\n"
          ]
        }
      ]
    },
    {
      "cell_type": "code",
      "source": [
        ""
      ],
      "metadata": {
        "id": "xIGemr4j_20k"
      },
      "execution_count": null,
      "outputs": []
    },
    {
      "cell_type": "code",
      "source": [
        ""
      ],
      "metadata": {
        "id": "cjiIBeRe_2tQ"
      },
      "execution_count": null,
      "outputs": []
    },
    {
      "cell_type": "code",
      "source": [
        ""
      ],
      "metadata": {
        "id": "hJOCD-PX_2As"
      },
      "execution_count": null,
      "outputs": []
    },
    {
      "cell_type": "code",
      "source": [
        ""
      ],
      "metadata": {
        "id": "KiNXbD8U_18b"
      },
      "execution_count": null,
      "outputs": []
    },
    {
      "cell_type": "code",
      "source": [
        ""
      ],
      "metadata": {
        "id": "f6mPDE5q_131"
      },
      "execution_count": null,
      "outputs": []
    },
    {
      "cell_type": "code",
      "source": [
        ""
      ],
      "metadata": {
        "id": "xVFFzJJy_1v0"
      },
      "execution_count": null,
      "outputs": []
    },
    {
      "cell_type": "code",
      "source": [
        "for i in range(len(y_pred)):\n",
        "  if(y_pred[i][0] > y_pred[i][1]):\n",
        "    y_output.append(\"Non_raveling\")\n",
        "  else:\n",
        "    y_output.append(\"Raveling\")"
      ],
      "metadata": {
        "id": "r0N7EqETsz57"
      },
      "execution_count": null,
      "outputs": []
    },
    {
      "cell_type": "code",
      "source": [
        ""
      ],
      "metadata": {
        "id": "V5E86kids0Kb"
      },
      "execution_count": null,
      "outputs": []
    },
    {
      "cell_type": "code",
      "source": [
        ""
      ],
      "metadata": {
        "id": "BBxRkpQOs0Zc"
      },
      "execution_count": null,
      "outputs": []
    },
    {
      "cell_type": "code",
      "source": [
        ""
      ],
      "metadata": {
        "id": "aKhpyYANs0qN"
      },
      "execution_count": null,
      "outputs": []
    },
    {
      "cell_type": "code",
      "source": [
        "# stored non raveling image array in img_nr\n",
        "img_cs = []\n",
        "for i in range(len(list_cs)):\n",
        "  img = io.imread(os.path.join(Centerstack_data,\n",
        "                               list_cs[i]))\n",
        "  img_cs.append(np.array(img))\n",
        "  io.imshow(img)\n",
        "\n",
        "img_f = []\n",
        "for i in range(len(list_f)):\n",
        "  img = io.imread(os.path.join(Forward_data,\n",
        "                               list_f[i]))\n",
        "  img_f.append(np.array(img))\n",
        "  io.imshow(img)\n",
        "\n",
        "img_lwm = []\n",
        "for i in range(len(list_lwm)):\n",
        "  img = io.imread(os.path.join(Left_wm_data,\n",
        "                               list_lwm[i]))\n",
        "  img_lwm.append(np.array(img))\n",
        "  io.imshow(img)\n",
        "\n",
        "img_rv = []\n",
        "for i in range(len(list_rv)):\n",
        "  img = io.imread(os.path.join(Rearview_data,\n",
        "                               list_rv[i]))\n",
        "  img_rv.append(np.array(img))\n",
        "  io.imshow(img)\n",
        "\n",
        "#stored raveling image array in img_r \n",
        "img_rwm = []\n",
        "for i in range(len(list_rwm)):\n",
        "  img = io.imread(os.path.join(Right_wm_data,\n",
        "                               list_rwm[i]))\n",
        "  img_rwm.append(np.array(img))\n",
        "  io.imshow(img)\n",
        "\n",
        "#stored test image array in img_test\n",
        "img_test = []\n",
        "for i in range(len(list_test)):\n",
        "  img = io.imread(os.path.join(test_data,\n",
        "                               list_test[i]))\n",
        "  img_test.append(np.array(img))\n",
        "  io.imshow(img)"
      ],
      "metadata": {
        "id": "uwBQuraZhBMH"
      },
      "execution_count": null,
      "outputs": []
    },
    {
      "cell_type": "code",
      "source": [
        "y_cs=np.empty(500)\n",
        "y_cs.fill(0)\n",
        "\n",
        "y_f=np.empty(500)\n",
        "y_f.fill(1)\n",
        "\n",
        "y_lwm=np.empty(500)\n",
        "y_lwm.fill(2)\n",
        "\n",
        "y_rv=np.empty(500)\n",
        "y_rv.fill(3)\n",
        "\n",
        "y_rwm=np.empty(500)\n",
        "y_rwm.fill(4)\n",
        "\n",
        "y = np.concatenate((y_cs, y_f, y_lwm, y_rv, y_rwm), axis = 0)"
      ],
      "metadata": {
        "id": "YFM9RAS8pNbU"
      },
      "execution_count": null,
      "outputs": []
    },
    {
      "cell_type": "code",
      "source": [
        "perms = np.random.permutation(2500)"
      ],
      "metadata": {
        "id": "S7W_JC5Hq0PU"
      },
      "execution_count": null,
      "outputs": []
    },
    {
      "cell_type": "code",
      "source": [
        "X = np.concatenate((img_cs, img_f, img_lwm, img_rv, img_rwm), axis = 0)"
      ],
      "metadata": {
        "id": "qlMwX-t_q0Mo"
      },
      "execution_count": null,
      "outputs": []
    },
    {
      "cell_type": "code",
      "source": [
        "X = X[perms]\n",
        "y = y[perms]"
      ],
      "metadata": {
        "id": "hHsHYpVwq0JR"
      },
      "execution_count": null,
      "outputs": []
    },
    {
      "cell_type": "code",
      "source": [
        ""
      ],
      "metadata": {
        "id": "4rPUNemVq0AH"
      },
      "execution_count": null,
      "outputs": []
    }
  ]
}