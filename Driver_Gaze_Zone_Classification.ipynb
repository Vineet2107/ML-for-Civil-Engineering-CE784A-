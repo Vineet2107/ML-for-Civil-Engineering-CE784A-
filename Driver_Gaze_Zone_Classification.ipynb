{
  "nbformat": 4,
  "nbformat_minor": 0,
  "metadata": {
    "colab": {
      "name": "Driver Gaze Zone Classification.ipynb",
      "provenance": [],
      "mount_file_id": "https://github.com/Vineet2107/ML-for-Civil-Engineering-CE784A-/blob/main/Driver_Gaze_Zone_Classification.ipynb",
      "authorship_tag": "ABX9TyP9eEaDjeyZx9o7YOiFUO70",
      "include_colab_link": true
    },
    "kernelspec": {
      "name": "python3",
      "display_name": "Python 3"
    },
    "language_info": {
      "name": "python"
    },
    "accelerator": "GPU"
  },
  "cells": [
    {
      "cell_type": "markdown",
      "metadata": {
        "id": "view-in-github",
        "colab_type": "text"
      },
      "source": [
        "<a href=\"https://colab.research.google.com/github/Vineet2107/ML-for-Civil-Engineering-CE784A-/blob/main/Driver_Gaze_Zone_Classification.ipynb\" target=\"_parent\"><img src=\"https://colab.research.google.com/assets/colab-badge.svg\" alt=\"Open In Colab\"/></a>"
      ]
    },
    {
      "cell_type": "code",
      "source": [
        "from google.colab import drive\n",
        "drive.mount('/content/drive')"
      ],
      "metadata": {
        "colab": {
          "base_uri": "https://localhost:8080/",
          "height": 0
        },
        "id": "34XKG48zesWz",
        "outputId": "190bb974-6a51-4a3c-cb9b-babd6a0c1e7d"
      },
      "execution_count": 6,
      "outputs": [
        {
          "output_type": "stream",
          "name": "stdout",
          "text": [
            "Drive already mounted at /content/drive; to attempt to forcibly remount, call drive.mount(\"/content/drive\", force_remount=True).\n"
          ]
        }
      ]
    },
    {
      "cell_type": "code",
      "source": [
        "#imported necessary packages and libraries\n",
        "import matplotlib.pyplot as plt\n",
        "from skimage import io, color\n",
        "import os\n",
        "import glob\n",
        "import numpy as np\n",
        "import pandas as pd\n",
        "from sklearn.model_selection import train_test_split\n",
        "import tensorflow as tf\n",
        "from tensorflow import keras\n",
        "from tensorflow.keras import layers, callbacks\n",
        "from tensorflow.keras.models import Sequential\n",
        "from keras import models\n",
        "from tensorflow.keras.layers import Flatten\n",
        "from tensorflow.keras.layers import Dense\n",
        "from tensorflow.keras.layers import Activation\n",
        "from keras import regularizers\n",
        "import matplotlib.pyplot as plt\n",
        "% matplotlib inline"
      ],
      "metadata": {
        "id": "ZAjSzxj5etz1"
      },
      "execution_count": 57,
      "outputs": []
    },
    {
      "cell_type": "code",
      "source": [
        "#path of train and test data\n",
        "# train_path = '/content/drive/MyDrive/gaze_dataset/train'\n",
        "# test_path = '/content/drive/MyDrive/gaze_dataset/test'"
      ],
      "metadata": {
        "id": "L-FUAEr1fKiI"
      },
      "execution_count": 8,
      "outputs": []
    },
    {
      "cell_type": "code",
      "source": [
        "# #path of raveling, non revaling and test data\n",
        "# Centerstack_data = '/content/drive/MyDrive/gaze_dataset/train/Centerstack'\n",
        "# Forward_data = '/content/drive/MyDrive/gaze_dataset/train/Forward'\n",
        "# Left_wm_data = '/content/drive/MyDrive/gaze_dataset/train/Left_wing_mirror'\n",
        "# Rearview_data = '/content/drive/MyDrive/gaze_dataset/train/Rearview_mirror'\n",
        "# Right_wm_data = '/content/drive/MyDrive/gaze_dataset/train/Right_wing_mirror'\n",
        "# test_data = '/content/drive/MyDrive/gaze_dataset/test'"
      ],
      "metadata": {
        "id": "944Fdr6sfjY-"
      },
      "execution_count": 9,
      "outputs": []
    },
    {
      "cell_type": "code",
      "source": [
        "# list_cs = os.listdir(Centerstack_data)\n",
        "# list_f = os.listdir(Forward_data)\n",
        "# list_lwm = os.listdir(Left_wm_data)\n",
        "# list_rv = os.listdir(Rearview_data)\n",
        "# list_rwm = os.listdir(Right_wm_data)\n",
        "# list_test = os.listdir(test_data)"
      ],
      "metadata": {
        "id": "_nVkdBBSgcUu"
      },
      "execution_count": 10,
      "outputs": []
    },
    {
      "cell_type": "code",
      "source": [
        "#Reading the data\n",
        "data_dir = '/content/drive/MyDrive/gaze_dataset/train'\n",
        "\n",
        "\n",
        "BATCH_SIZE = 32\n",
        "# IMG_SIZE = (256, 256, 3)\n",
        "\n",
        "#creating training data\n",
        "train_dataset = tf.keras.utils.image_dataset_from_directory(data_dir,\n",
        "                                                            shuffle=True,\n",
        "                                                            batch_size=BATCH_SIZE,\n",
        "                                                            )"
      ],
      "metadata": {
        "colab": {
          "base_uri": "https://localhost:8080/",
          "height": 0
        },
        "id": "1R1wckJKslhf",
        "outputId": "051a81a7-a0bc-4f63-81bf-ea46aef7e7c3"
      },
      "execution_count": 26,
      "outputs": [
        {
          "output_type": "stream",
          "name": "stdout",
          "text": [
            "Found 2505 files belonging to 5 classes.\n"
          ]
        }
      ]
    },
    {
      "cell_type": "code",
      "source": [
        "#creating validation data\n",
        "val_ds = tf.keras.utils.image_dataset_from_directory(\n",
        "  data_dir,\n",
        "  validation_split=0.2,\n",
        "  subset=\"validation\",\n",
        "  seed=123,\n",
        "  batch_size=8)"
      ],
      "metadata": {
        "colab": {
          "base_uri": "https://localhost:8080/",
          "height": 0
        },
        "id": "0OuJ-tqksnId",
        "outputId": "efc652c7-9c4b-4d05-82fa-fd9a323a7619"
      },
      "execution_count": 27,
      "outputs": [
        {
          "output_type": "stream",
          "name": "stdout",
          "text": [
            "Found 2505 files belonging to 5 classes.\n",
            "Using 501 files for validation.\n"
          ]
        }
      ]
    },
    {
      "cell_type": "code",
      "source": [
        "# Apply data augmentation\n",
        "img_height = 240\n",
        "img_width = 240\n",
        "data_augmentation = keras.Sequential(\n",
        "  [\n",
        "    layers.experimental.preprocessing.RandomFlip(\"horizontal\", \n",
        "                                                 input_shape=(img_height, \n",
        "                                                              img_width,\n",
        "                                                              3)),\n",
        "    layers.experimental.preprocessing.RandomRotation(0.1),\n",
        "    layers.experimental.preprocessing.RandomZoom(0.1),\n",
        "  ]\n",
        ")"
      ],
      "metadata": {
        "id": "2-U5Xr9HHepb"
      },
      "execution_count": 28,
      "outputs": []
    },
    {
      "cell_type": "code",
      "source": [
        ""
      ],
      "metadata": {
        "id": "o6SQWCu9M33I"
      },
      "execution_count": 28,
      "outputs": []
    },
    {
      "cell_type": "code",
      "source": [
        "#normalizing the data\n",
        "normalization_layer = tf.keras.layers.Rescaling(1./255)\n",
        "normalized_ds = train_dataset.map(lambda x, y: (normalization_layer(x), y))\n",
        "\n",
        "#auto tuning the data\n",
        "AUTOTUNE = tf.data.AUTOTUNE\n",
        "\n",
        "train_ds = train_dataset.cache().prefetch(buffer_size=AUTOTUNE)\n",
        "#extracting inputs and labels from the data\n",
        "image, labels = next(iter(train_ds))"
      ],
      "metadata": {
        "id": "nfT6NWXvsrE0"
      },
      "execution_count": 29,
      "outputs": []
    },
    {
      "cell_type": "code",
      "source": [
        "IMG_SIZE = 240\n",
        "\n",
        "#reshaping and rescaling the images\n",
        "resize_and_rescale = tf.keras.Sequential([\n",
        "  layers.Resizing(IMG_SIZE, IMG_SIZE),\n",
        "  layers.Rescaling(1./255)\n",
        "])"
      ],
      "metadata": {
        "id": "zJ3EVCDrOj9T"
      },
      "execution_count": 49,
      "outputs": []
    },
    {
      "cell_type": "code",
      "source": [
        "# Applying data augmentation\n",
        "img_height = 240\n",
        "img_width = 240\n",
        "data_augmentation = keras.Sequential(\n",
        "  [\n",
        "    layers.experimental.preprocessing.RandomFlip(\"horizontal\", \n",
        "                                                 input_shape=(img_height, \n",
        "                                                              img_width,\n",
        "                                                              3)),\n",
        "    layers.experimental.preprocessing.RandomRotation(0.1),\n",
        "    layers.experimental.preprocessing.RandomZoom(0.1),\n",
        "  ]\n",
        ")"
      ],
      "metadata": {
        "id": "Pd4KoA2-Olol"
      },
      "execution_count": 50,
      "outputs": []
    },
    {
      "cell_type": "code",
      "source": [
        "num_classes = 5\n",
        "# model = tf.keras.Sequential([\n",
        "  \n",
        "#   resize_and_rescale,\n",
        "#   data_augmentation,\n",
        "#   tf.keras.layers.BatchNormalization(),\n",
        "#   tf.keras.layers.Conv2D(64, 3, activation='relu'),\n",
        "#   tf.keras.layers.MaxPooling2D(),\n",
        "#   tf.keras.layers.Dropout((0.2)),\n",
        "#   tf.keras.layers.BatchNormalization(),\n",
        "  \n",
        "#   tf.keras.layers.Flatten(),\n",
        "#   tf.keras.layers.BatchNormalization(),\n",
        "#   tf.keras.layers.Dense(num_classes,activation = 'softmax')\n",
        "# ])\n",
        "for i in range(100):\n",
        "  reg=10**(np.random.uniform(-4,0)) \n",
        "\n",
        "\n",
        "#defining the model\n",
        "model=tf.keras.Sequential()\n",
        "# model.add(resize_and_rescale)\n",
        "# model.add(data_augmentation)\n",
        "\n",
        "model.add(layers.Conv2D(32,(3,3),activation='relu',input_shape=(256,256,3)))\n",
        "\n",
        "model.add(layers.MaxPooling2D((2,2)))\n",
        "\n",
        "model.add(layers.Conv2D(64,(3,3),activation='relu'))\n",
        "\n",
        "model.add(layers.MaxPooling2D(2,2))\n",
        "\n",
        "model.add(layers.Conv2D(128,(3,3),activation='relu'))\n",
        "\n",
        "model.add(layers.MaxPooling2D((2,2)))\n",
        "\n",
        "model.add(layers.Conv2D(128,(3,3),activation='relu'))\n",
        "\n",
        "model.add(layers.MaxPooling2D((2,2)))\n",
        "\n",
        "model.add(layers.Flatten())\n",
        "\n",
        "model.add(layers.Dense(512,activation='relu',kernel_regularizer=regularizers.l2(reg)))\n",
        "\n",
        "model.add(layers.Dense(5,activation='sigmoid',kernel_regularizer=regularizers.l2(reg)))\n",
        "\n",
        "\n",
        "#compiling the model\n",
        "model.compile(\n",
        "  optimizer='adam',\n",
        "  loss=tf.losses.SparseCategoricalCrossentropy(from_logits=True),\n",
        "  metrics=['acc'])\n",
        "\n",
        "#training the model\n",
        "history = model.fit(\n",
        "  train_ds,\n",
        "  validation_data=val_ds,\n",
        "  epochs=50\n",
        ")"
      ],
      "metadata": {
        "colab": {
          "base_uri": "https://localhost:8080/"
        },
        "id": "YzkkxePdsydC",
        "outputId": "dd903c53-b83c-4346-a1a4-5e674ad14ef8"
      },
      "execution_count": 106,
      "outputs": [
        {
          "metadata": {
            "tags": null
          },
          "name": "stdout",
          "output_type": "stream",
          "text": [
            "Epoch 1/50\n"
          ]
        },
        {
          "metadata": {
            "tags": null
          },
          "name": "stderr",
          "output_type": "stream",
          "text": [
            "/usr/local/lib/python3.7/dist-packages/tensorflow/python/util/dispatch.py:1082: UserWarning: \"`sparse_categorical_crossentropy` received `from_logits=True`, but the `output` argument was produced by a sigmoid or softmax activation and thus does not represent logits. Was this intended?\"\n",
            "  return dispatch_target(*args, **kwargs)\n"
          ]
        },
        {
          "output_type": "stream",
          "name": "stdout",
          "text": [
            "79/79 [==============================] - 15s 171ms/step - loss: 20.0869 - acc: 0.1988 - val_loss: 3.6401 - val_acc: 0.1956\n",
            "Epoch 2/50\n",
            "79/79 [==============================] - 13s 168ms/step - loss: 3.5028 - acc: 0.2044 - val_loss: 3.3747 - val_acc: 0.2036\n",
            "Epoch 3/50\n",
            "79/79 [==============================] - 13s 168ms/step - loss: 3.2761 - acc: 0.2048 - val_loss: 3.1817 - val_acc: 0.2096\n",
            "Epoch 4/50\n",
            "79/79 [==============================] - 13s 168ms/step - loss: 3.1118 - acc: 0.1936 - val_loss: 3.0386 - val_acc: 0.1996\n",
            "Epoch 5/50\n",
            "79/79 [==============================] - 13s 168ms/step - loss: 2.9730 - acc: 0.2100 - val_loss: 2.9090 - val_acc: 0.2236\n",
            "Epoch 6/50\n",
            "79/79 [==============================] - 13s 167ms/step - loss: 2.8680 - acc: 0.1908 - val_loss: 2.8165 - val_acc: 0.2036\n",
            "Epoch 7/50\n",
            "79/79 [==============================] - 14s 177ms/step - loss: 2.7713 - acc: 0.1824 - val_loss: 2.7257 - val_acc: 0.2036\n",
            "Epoch 8/50\n",
            "79/79 [==============================] - 13s 167ms/step - loss: 2.6822 - acc: 0.2040 - val_loss: 2.6291 - val_acc: 0.2156\n",
            "Epoch 9/50\n",
            "79/79 [==============================] - 13s 169ms/step - loss: 2.6068 - acc: 0.2156 - val_loss: 2.5827 - val_acc: 0.2056\n",
            "Epoch 10/50\n",
            "79/79 [==============================] - 17s 212ms/step - loss: 2.5420 - acc: 0.2000 - val_loss: 2.4768 - val_acc: 0.2196\n",
            "Epoch 11/50\n",
            "79/79 [==============================] - 13s 170ms/step - loss: 2.6069 - acc: 0.2160 - val_loss: 2.5930 - val_acc: 0.2036\n",
            "Epoch 12/50\n",
            "79/79 [==============================] - 13s 168ms/step - loss: 2.5744 - acc: 0.1948 - val_loss: 2.5129 - val_acc: 0.2076\n",
            "Epoch 13/50\n",
            "79/79 [==============================] - 13s 167ms/step - loss: 2.4759 - acc: 0.2060 - val_loss: 2.4329 - val_acc: 0.2156\n",
            "Epoch 14/50\n",
            "79/79 [==============================] - 13s 168ms/step - loss: 2.3998 - acc: 0.2044 - val_loss: 2.3672 - val_acc: 0.2156\n",
            "Epoch 15/50\n",
            "79/79 [==============================] - 13s 167ms/step - loss: 2.3397 - acc: 0.2064 - val_loss: 2.3053 - val_acc: 0.2275\n",
            "Epoch 16/50\n",
            "79/79 [==============================] - 13s 167ms/step - loss: 2.2871 - acc: 0.2000 - val_loss: 2.2571 - val_acc: 0.2116\n",
            "Epoch 17/50\n",
            "79/79 [==============================] - 13s 168ms/step - loss: 2.2425 - acc: 0.1948 - val_loss: 2.2859 - val_acc: 0.2415\n",
            "Epoch 18/50\n",
            "79/79 [==============================] - 13s 167ms/step - loss: 2.2027 - acc: 0.2008 - val_loss: 2.5848 - val_acc: 0.2096\n",
            "Epoch 19/50\n",
            "79/79 [==============================] - 13s 167ms/step - loss: 2.1902 - acc: 0.2032 - val_loss: 2.1617 - val_acc: 0.1996\n",
            "Epoch 20/50\n",
            "79/79 [==============================] - 13s 168ms/step - loss: 2.1440 - acc: 0.1932 - val_loss: 2.1255 - val_acc: 0.1996\n",
            "Epoch 21/50\n",
            "79/79 [==============================] - 13s 167ms/step - loss: 2.1084 - acc: 0.1868 - val_loss: 2.0922 - val_acc: 0.2036\n",
            "Epoch 22/50\n",
            "79/79 [==============================] - 13s 167ms/step - loss: 2.0773 - acc: 0.1836 - val_loss: 2.0637 - val_acc: 0.1996\n",
            "Epoch 23/50\n",
            "79/79 [==============================] - 13s 168ms/step - loss: 2.0466 - acc: 0.1888 - val_loss: 2.0305 - val_acc: 0.2096\n",
            "Epoch 24/50\n",
            "79/79 [==============================] - 13s 169ms/step - loss: 2.0241 - acc: 0.1848 - val_loss: 2.0120 - val_acc: 0.1996\n",
            "Epoch 25/50\n",
            "79/79 [==============================] - 13s 169ms/step - loss: 1.9993 - acc: 0.1816 - val_loss: 1.9874 - val_acc: 0.1996\n",
            "Epoch 26/50\n",
            "79/79 [==============================] - 13s 168ms/step - loss: 1.9690 - acc: 0.1956 - val_loss: 1.9379 - val_acc: 0.2295\n",
            "Epoch 27/50\n",
            "79/79 [==============================] - 13s 168ms/step - loss: 1.9552 - acc: 0.1816 - val_loss: 1.9454 - val_acc: 0.1996\n",
            "Epoch 28/50\n",
            "79/79 [==============================] - 13s 168ms/step - loss: 1.9345 - acc: 0.1832 - val_loss: 1.9244 - val_acc: 0.1956\n",
            "Epoch 29/50\n",
            "79/79 [==============================] - 13s 170ms/step - loss: 1.9131 - acc: 0.1832 - val_loss: 1.9051 - val_acc: 0.1996\n",
            "Epoch 30/50\n",
            "79/79 [==============================] - 13s 169ms/step - loss: 1.8953 - acc: 0.1964 - val_loss: 1.8879 - val_acc: 0.1956\n",
            "Epoch 31/50\n",
            "79/79 [==============================] - 13s 169ms/step - loss: 1.8774 - acc: 0.1908 - val_loss: 1.8654 - val_acc: 0.2016\n",
            "Epoch 32/50\n",
            "79/79 [==============================] - 13s 169ms/step - loss: 1.8492 - acc: 0.2072 - val_loss: 1.8565 - val_acc: 0.1996\n",
            "Epoch 33/50\n",
            "79/79 [==============================] - 13s 168ms/step - loss: 1.8442 - acc: 0.1924 - val_loss: 1.8411 - val_acc: 0.1996\n",
            "Epoch 34/50\n",
            "79/79 [==============================] - 13s 168ms/step - loss: 1.8297 - acc: 0.1900 - val_loss: 1.8227 - val_acc: 0.2076\n",
            "Epoch 35/50\n",
            "79/79 [==============================] - 13s 170ms/step - loss: 1.8059 - acc: 0.2104 - val_loss: 1.8162 - val_acc: 0.1996\n",
            "Epoch 36/50\n",
            "79/79 [==============================] - 13s 169ms/step - loss: 1.8075 - acc: 0.1920 - val_loss: 1.7995 - val_acc: 0.2056\n",
            "Epoch 37/50\n",
            "79/79 [==============================] - 13s 169ms/step - loss: 1.7774 - acc: 0.2116 - val_loss: 1.7944 - val_acc: 0.2036\n",
            "Epoch 38/50\n",
            "79/79 [==============================] - 13s 168ms/step - loss: 1.7879 - acc: 0.1836 - val_loss: 1.7802 - val_acc: 0.1996\n",
            "Epoch 39/50\n",
            "79/79 [==============================] - 13s 169ms/step - loss: 1.7725 - acc: 0.1824 - val_loss: 1.7677 - val_acc: 0.2036\n",
            "Epoch 40/50\n",
            "79/79 [==============================] - 13s 169ms/step - loss: 1.7521 - acc: 0.1912 - val_loss: 1.7591 - val_acc: 0.1996\n",
            "Epoch 41/50\n",
            "79/79 [==============================] - 13s 169ms/step - loss: 1.7512 - acc: 0.1828 - val_loss: 1.7479 - val_acc: 0.2016\n",
            "Epoch 42/50\n",
            "79/79 [==============================] - 13s 170ms/step - loss: 1.7392 - acc: 0.1888 - val_loss: 1.7347 - val_acc: 0.2056\n",
            "Epoch 43/50\n",
            "79/79 [==============================] - 13s 169ms/step - loss: 1.8773 - acc: 0.2056 - val_loss: 1.8297 - val_acc: 0.1976\n",
            "Epoch 44/50\n",
            "79/79 [==============================] - 13s 168ms/step - loss: 1.8152 - acc: 0.1876 - val_loss: 1.7992 - val_acc: 0.2016\n",
            "Epoch 45/50\n",
            "79/79 [==============================] - 13s 169ms/step - loss: 1.7892 - acc: 0.1776 - val_loss: 1.7793 - val_acc: 0.2016\n",
            "Epoch 46/50\n",
            "79/79 [==============================] - 13s 168ms/step - loss: 1.7723 - acc: 0.1764 - val_loss: 1.7645 - val_acc: 0.2036\n",
            "Epoch 47/50\n",
            "79/79 [==============================] - 13s 168ms/step - loss: 1.7588 - acc: 0.1844 - val_loss: 1.7520 - val_acc: 0.2036\n",
            "Epoch 48/50\n",
            "79/79 [==============================] - 13s 169ms/step - loss: 1.7469 - acc: 0.1844 - val_loss: 1.7420 - val_acc: 0.2016\n",
            "Epoch 49/50\n",
            "79/79 [==============================] - 13s 168ms/step - loss: 1.7430 - acc: 0.1892 - val_loss: 1.7344 - val_acc: 0.1996\n",
            "Epoch 50/50\n",
            "79/79 [==============================] - 13s 168ms/step - loss: 1.7394 - acc: 0.1812 - val_loss: 1.7342 - val_acc: 0.1996\n"
          ]
        }
      ]
    },
    {
      "cell_type": "code",
      "source": [
        "# plotting training history\n",
        "history_df = pd.DataFrame(history.history)\n",
        "history_df.loc[0:, ['loss', 'val_loss']].plot()\n",
        "history_df.loc[0:, ['acc', 'val_acc']].plot()\n",
        "print((\"Minimum Validation Loss: {:0.4f}\").format(history_df['val_loss'].min()))"
      ],
      "metadata": {
        "id": "zwWNr7rsA0JE",
        "colab": {
          "base_uri": "https://localhost:8080/",
          "height": 530
        },
        "outputId": "f6746c04-8f5d-46ed-fbd1-9c2611ed934b"
      },
      "execution_count": 109,
      "outputs": [
        {
          "output_type": "stream",
          "name": "stdout",
          "text": [
            "Minimum Validation Loss: 1.7342\n"
          ]
        },
        {
          "output_type": "display_data",
          "data": {
            "text/plain": [
              "<Figure size 432x288 with 1 Axes>"
            ],
            "image/png": "[encoded data removed]"
          },
          "metadata": {
            "needs_background": "light"
          }
        },
        {
          "output_type": "display_data",
          "data": {
            "text/plain": [
              "<Figure size 432x288 with 1 Axes>"
            ],
            "image/png": "[encoded data removed]"
          },
          "metadata": {
            "needs_background": "light"
          }
        }
      ]
    },
    {
      "cell_type": "code",
      "source": [
        ""
      ],
      "metadata": {
        "id": "x5AP37IkEpef"
      },
      "execution_count": 84,
      "outputs": []
    },
    {
      "cell_type": "code",
      "source": [
        ""
      ],
      "metadata": {
        "id": "bhrCfU-uEpZN"
      },
      "execution_count": 84,
      "outputs": []
    },
    {
      "cell_type": "code",
      "source": [
        "test_data = \"/content/drive/MyDrive/gaze_dataset/Test folder\" #test data set path"
      ],
      "metadata": {
        "id": "2bCT5aHsA0ED"
      },
      "execution_count": 95,
      "outputs": []
    },
    {
      "cell_type": "code",
      "source": [
        "# train_dataset = tf.keras.utils.image_dataset_from_directory(test_data,\n",
        "#                                                             shuffle=True\n",
        "#                                                             )"
      ],
      "metadata": {
        "id": "yjKWOlZmAz9L"
      },
      "execution_count": 96,
      "outputs": []
    },
    {
      "cell_type": "code",
      "source": [
        "#predicting on test data X_pred\n",
        "# y_pred = model.predict(val_ds)\n",
        "# y_output = []"
      ],
      "metadata": {
        "id": "QTYyyIscsy36"
      },
      "execution_count": 97,
      "outputs": []
    },
    {
      "cell_type": "code",
      "source": [
        "# y_pred[0]"
      ],
      "metadata": {
        "id": "RLZazqm7szlb"
      },
      "execution_count": 98,
      "outputs": []
    },
    {
      "cell_type": "code",
      "source": [
        "# result = np.where(y_pred[0] == np.amax(y_pred[0]))\n",
        "# print(result[0][0])"
      ],
      "metadata": {
        "id": "N8ZVEAGZ9Fi7"
      },
      "execution_count": 99,
      "outputs": []
    },
    {
      "cell_type": "code",
      "source": [
        "#creating a dictionary whose filename consists of name of test images and class consists of the pridected class\n",
        "t = \"/content/drive/MyDrive/gaze_dataset/test\"\n",
        "\n",
        "dicti = {}\n",
        "dicti['filename'] = []\n",
        "dicti['class'] = []\n",
        "\n",
        "for f in os.listdir(t):\n",
        "  ip = os.path.join(t,f)\n",
        "\n",
        "  \n",
        "  image = tf.keras.preprocessing.image.load_img(ip,target_size=(256,256))\n",
        "  input = tf.keras.preprocessing.image.img_to_array(image)\n",
        "  input = np.array([input])  # Convert single image to a batch.\n",
        "  predictions = model.predict(input)\n",
        "\n",
        "  dicti['filename'].append(f)\n",
        "  result = np.argmax(predictions,axis = 1)[0]\n",
        "  if(result == 4):\n",
        "    dicti['class'].append(\"Right_wing_mirror\")\n",
        "  elif(result == 3):\n",
        "    dicti['class'].append(\"Rearview_mirror\")\n",
        "  elif(result == 2):\n",
        "    dicti['class'].append(\"Left_wing_mirror\")\n",
        "  elif(result == 1):\n",
        "    dicti['class'].append(\"Forward\")\n",
        "  else:\n",
        "    dicti['class'].append(\"Centerstack\")"
      ],
      "metadata": {
        "id": "PU9Gin9_46rh"
      },
      "execution_count": 100,
      "outputs": []
    },
    {
      "cell_type": "code",
      "source": [
        "#converting dictonary to data frame\n",
        "df = pd.DataFrame.from_dict(dicti)"
      ],
      "metadata": {
        "id": "2RQrbxPr46mp"
      },
      "execution_count": 101,
      "outputs": []
    },
    {
      "cell_type": "code",
      "source": [
        "df.head(10)"
      ],
      "metadata": {
        "colab": {
          "base_uri": "https://localhost:8080/",
          "height": 363
        },
        "id": "VQN2VwmN77Bl",
        "outputId": "431bb345-2cd3-484e-dd5c-16d081e99b81"
      },
      "execution_count": 104,
      "outputs": [
        {
          "output_type": "execute_result",
          "data": {
            "text/plain": [
              "  filename              class\n",
              "0  158.jpg    Rearview_mirror\n",
              "1  164.jpg    Rearview_mirror\n",
              "2    2.jpg  Right_wing_mirror\n",
              "3  358.jpg            Forward\n",
              "4  132.jpg    Rearview_mirror\n",
              "5  354.jpg   Left_wing_mirror\n",
              "6  415.jpg    Rearview_mirror\n",
              "7  280.jpg    Rearview_mirror\n",
              "8  431.jpg  Right_wing_mirror\n",
              "9  116.jpg        Centerstack"
            ],
            "text/html": [
              "\n",
              "  <div id=\"df-e120ab71-2933-4443-b7fa-b841ce3a80e1\">\n",
              "    <div class=\"colab-df-container\">\n",
              "      <div>\n",
              "<style scoped>\n",
              "    .dataframe tbody tr th:only-of-type {\n",
              "        vertical-align: middle;\n",
              "    }\n",
              "\n",
              "    .dataframe tbody tr th {\n",
              "        vertical-align: top;\n",
              "    }\n",
              "\n",
              "    .dataframe thead th {\n",
              "        text-align: right;\n",
              "    }\n",
              "</style>\n",
              "<table border=\"1\" class=\"dataframe\">\n",
              "  <thead>\n",
              "    <tr style=\"text-align: right;\">\n",
              "      <th></th>\n",
              "      <th>filename</th>\n",
              "      <th>class</th>\n",
              "    </tr>\n",
              "  </thead>\n",
              "  <tbody>\n",
              "    <tr>\n",
              "      <th>0</th>\n",
              "      <td>158.jpg</td>\n",
              "      <td>Rearview_mirror</td>\n",
              "    </tr>\n",
              "    <tr>\n",
              "      <th>1</th>\n",
              "      <td>164.jpg</td>\n",
              "      <td>Rearview_mirror</td>\n",
              "    </tr>\n",
              "    <tr>\n",
              "      <th>2</th>\n",
              "      <td>2.jpg</td>\n",
              "      <td>Right_wing_mirror</td>\n",
              "    </tr>\n",
              "    <tr>\n",
              "      <th>3</th>\n",
              "      <td>358.jpg</td>\n",
              "      <td>Forward</td>\n",
              "    </tr>\n",
              "    <tr>\n",
              "      <th>4</th>\n",
              "      <td>132.jpg</td>\n",
              "      <td>Rearview_mirror</td>\n",
              "    </tr>\n",
              "    <tr>\n",
              "      <th>5</th>\n",
              "      <td>354.jpg</td>\n",
              "      <td>Left_wing_mirror</td>\n",
              "    </tr>\n",
              "    <tr>\n",
              "      <th>6</th>\n",
              "      <td>415.jpg</td>\n",
              "      <td>Rearview_mirror</td>\n",
              "    </tr>\n",
              "    <tr>\n",
              "      <th>7</th>\n",
              "      <td>280.jpg</td>\n",
              "      <td>Rearview_mirror</td>\n",
              "    </tr>\n",
              "    <tr>\n",
              "      <th>8</th>\n",
              "      <td>431.jpg</td>\n",
              "      <td>Right_wing_mirror</td>\n",
              "    </tr>\n",
              "    <tr>\n",
              "      <th>9</th>\n",
              "      <td>116.jpg</td>\n",
              "      <td>Centerstack</td>\n",
              "    </tr>\n",
              "  </tbody>\n",
              "</table>\n",
              "</div>\n",
              "      <button class=\"colab-df-convert\" onclick=\"convertToInteractive('df-e120ab71-2933-4443-b7fa-b841ce3a80e1')\"\n",
              "              title=\"Convert this dataframe to an interactive table.\"\n",
              "              style=\"display:none;\">\n",
              "        \n",
              "  <svg xmlns=\"http://www.w3.org/2000/svg\" height=\"24px\"viewBox=\"0 0 24 24\"\n",
              "       width=\"24px\">\n",
              "    <path d=\"M0 0h24v24H0V0z\" fill=\"none\"/>\n",
              "    <path d=\"M18.56 5.44l.94 2.06.94-2.06 2.06-.94-2.06-.94-.94-2.06-.94 2.06-2.06.94zm-11 1L8.5 8.5l.94-2.06 2.06-.94-2.06-.94L8.5 2.5l-.94 2.06-2.06.94zm10 10l.94 2.06.94-2.06 2.06-.94-2.06-.94-.94-2.06-.94 2.06-2.06.94z\"/><path d=\"M17.41 7.96l-1.37-1.37c-.4-.4-.92-.59-1.43-.59-.52 0-1.04.2-1.43.59L10.3 9.45l-7.72 7.72c-.78.78-.78 2.05 0 2.83L4 21.41c.39.39.9.59 1.41.59.51 0 1.02-.2 1.41-.59l7.78-7.78 2.81-2.81c.8-.78.8-2.07 0-2.86zM5.41 20L4 18.59l7.72-7.72 1.47 1.35L5.41 20z\"/>\n",
              "  </svg>\n",
              "      </button>\n",
              "      \n",
              "  <style>\n",
              "    .colab-df-container {\n",
              "      display:flex;\n",
              "      flex-wrap:wrap;\n",
              "      gap: 12px;\n",
              "    }\n",
              "\n",
              "    .colab-df-convert {\n",
              "      background-color: #E8F0FE;\n",
              "      border: none;\n",
              "      border-radius: 50%;\n",
              "      cursor: pointer;\n",
              "      display: none;\n",
              "      fill: #1967D2;\n",
              "      height: 32px;\n",
              "      padding: 0 0 0 0;\n",
              "      width: 32px;\n",
              "    }\n",
              "\n",
              "    .colab-df-convert:hover {\n",
              "      background-color: #E2EBFA;\n",
              "      box-shadow: 0px 1px 2px rgba(60, 64, 67, 0.3), 0px 1px 3px 1px rgba(60, 64, 67, 0.15);\n",
              "      fill: #174EA6;\n",
              "    }\n",
              "\n",
              "    [theme=dark] .colab-df-convert {\n",
              "      background-color: #3B4455;\n",
              "      fill: #D2E3FC;\n",
              "    }\n",
              "\n",
              "    [theme=dark] .colab-df-convert:hover {\n",
              "      background-color: #434B5C;\n",
              "      box-shadow: 0px 1px 3px 1px rgba(0, 0, 0, 0.15);\n",
              "      filter: drop-shadow(0px 1px 2px rgba(0, 0, 0, 0.3));\n",
              "      fill: #FFFFFF;\n",
              "    }\n",
              "  </style>\n",
              "\n",
              "      <script>\n",
              "        const buttonEl =\n",
              "          document.querySelector('#df-e120ab71-2933-4443-b7fa-b841ce3a80e1 button.colab-df-convert');\n",
              "        buttonEl.style.display =\n",
              "          google.colab.kernel.accessAllowed ? 'block' : 'none';\n",
              "\n",
              "        async function convertToInteractive(key) {\n",
              "          const element = document.querySelector('#df-e120ab71-2933-4443-b7fa-b841ce3a80e1');\n",
              "          const dataTable =\n",
              "            await google.colab.kernel.invokeFunction('convertToInteractive',\n",
              "                                                     [key], {});\n",
              "          if (!dataTable) return;\n",
              "\n",
              "          const docLinkHtml = 'Like what you see? Visit the ' +\n",
              "            '<a target=\"_blank\" href=https://colab.research.google.com/notebooks/data_table.ipynb>data table notebook</a>'\n",
              "            + ' to learn more about interactive tables.';\n",
              "          element.innerHTML = '';\n",
              "          dataTable['output_type'] = 'display_data';\n",
              "          await google.colab.output.renderOutput(dataTable, element);\n",
              "          const docLink = document.createElement('div');\n",
              "          docLink.innerHTML = docLinkHtml;\n",
              "          element.appendChild(docLink);\n",
              "        }\n",
              "      </script>\n",
              "    </div>\n",
              "  </div>\n",
              "  "
            ]
          },
          "metadata": {},
          "execution_count": 104
        }
      ]
    },
    {
      "cell_type": "code",
      "source": [
        "#saving csv file in drive\n",
        "df.to_csv(\"OutputM.csv\", index = False)\n",
        "!cp OutputM.csv \"drive/My Drive/\""
      ],
      "metadata": {
        "id": "BjUSokjz46MO"
      },
      "execution_count": 103,
      "outputs": []
    },
    {
      "cell_type": "code",
      "source": [
        ""
      ],
      "metadata": {
        "id": "raSYJmf-DqPy"
      },
      "execution_count": null,
      "outputs": []
    },
    {
      "cell_type": "code",
      "source": [
        ""
      ],
      "metadata": {
        "id": "hyOXjnj3DqOc"
      },
      "execution_count": null,
      "outputs": []
    },
    {
      "cell_type": "code",
      "source": [
        "# for i in range(len(y_pred)):\n",
        "#   result = np.where(y_pred[0] == np.amax(y_pred[0]))\n",
        "  \n",
        "  # if(result == 0):\n",
        "  #   y_output.append(\"Right_wing_mirror\")\n",
        "  # if(result == 1):\n",
        "  #   y_output.append(\"Rearview_mirror\")\n",
        "  # if(result == 2):\n",
        "  #   y_output.append(\"Left_wing_mirror\")\n",
        "  # if(result == 3):\n",
        "  #   y_output.append(\"Forward\")\n",
        "  # else:\n",
        "  #   y_output.append(\"Centerstack\")"
      ],
      "metadata": {
        "id": "VI4UDVJr78AU"
      },
      "execution_count": null,
      "outputs": []
    },
    {
      "cell_type": "code",
      "source": [
        "# y_output"
      ],
      "metadata": {
        "id": "h_oFgNtn779T"
      },
      "execution_count": null,
      "outputs": []
    },
    {
      "cell_type": "code",
      "source": [
        "# print(len(list_test))\n",
        "# print(len(y_output))"
      ],
      "metadata": {
        "colab": {
          "base_uri": "https://localhost:8080/"
        },
        "id": "W7luqZ6t771e",
        "outputId": "588c2cb5-b8b9-4275-b523-2fffd6033052"
      },
      "execution_count": null,
      "outputs": [
        {
          "output_type": "stream",
          "name": "stdout",
          "text": [
            "509\n",
            "501\n"
          ]
        }
      ]
    },
    {
      "cell_type": "code",
      "source": [
        "# stored non raveling image array in img_nr\n",
        "# img_cs = []\n",
        "# for i in range(len(list_cs)):\n",
        "#   img = io.imread(os.path.join(Centerstack_data,\n",
        "#                                list_cs[i]))\n",
        "#   img_cs.append(np.array(img))\n",
        "#   io.imshow(img)\n",
        "\n",
        "# img_f = []\n",
        "# for i in range(len(list_f)):\n",
        "#   img = io.imread(os.path.join(Forward_data,\n",
        "#                                list_f[i]))\n",
        "#   img_f.append(np.array(img))\n",
        "#   io.imshow(img)\n",
        "\n",
        "# img_lwm = []\n",
        "# for i in range(len(list_lwm)):\n",
        "#   img = io.imread(os.path.join(Left_wm_data,\n",
        "#                                list_lwm[i]))\n",
        "#   img_lwm.append(np.array(img))\n",
        "#   io.imshow(img)\n",
        "\n",
        "# img_rv = []\n",
        "# for i in range(len(list_rv)):\n",
        "#   img = io.imread(os.path.join(Rearview_data,\n",
        "#                                list_rv[i]))\n",
        "#   img_rv.append(np.array(img))\n",
        "#   io.imshow(img)\n",
        "\n",
        "# #stored raveling image array in img_r \n",
        "# img_rwm = []\n",
        "# for i in range(len(list_rwm)):\n",
        "#   img = io.imread(os.path.join(Right_wm_data,\n",
        "#                                list_rwm[i]))\n",
        "#   img_rwm.append(np.array(img))\n",
        "#   io.imshow(img)\n",
        "\n",
        "# #stored test image array in img_test\n",
        "# img_test = []\n",
        "# for i in range(len(list_test)):\n",
        "#   img = io.imread(os.path.join(test_data,\n",
        "#                                list_test[i]))\n",
        "#   img_test.append(np.array(img))\n",
        "#   io.imshow(img)"
      ],
      "metadata": {
        "id": "uwBQuraZhBMH"
      },
      "execution_count": 107,
      "outputs": []
    },
    {
      "cell_type": "code",
      "source": [
        "# y_cs=np.empty(500)\n",
        "# y_cs.fill(0)\n",
        "\n",
        "# y_f=np.empty(500)\n",
        "# y_f.fill(1)\n",
        "\n",
        "# y_lwm=np.empty(500)\n",
        "# y_lwm.fill(2)\n",
        "\n",
        "# y_rv=np.empty(500)\n",
        "# y_rv.fill(3)\n",
        "\n",
        "# y_rwm=np.empty(500)\n",
        "# y_rwm.fill(4)\n",
        "\n",
        "# y = np.concatenate((y_cs, y_f, y_lwm, y_rv, y_rwm), axis = 0)"
      ],
      "metadata": {
        "id": "YFM9RAS8pNbU"
      },
      "execution_count": null,
      "outputs": []
    },
    {
      "cell_type": "code",
      "source": [
        "# perms = np.random.permutation(2500)"
      ],
      "metadata": {
        "id": "S7W_JC5Hq0PU"
      },
      "execution_count": null,
      "outputs": []
    },
    {
      "cell_type": "code",
      "source": [
        "# X = np.concatenate((img_cs, img_f, img_lwm, img_rv, img_rwm), axis = 0)"
      ],
      "metadata": {
        "id": "qlMwX-t_q0Mo"
      },
      "execution_count": null,
      "outputs": []
    },
    {
      "cell_type": "code",
      "source": [
        "# X = X[perms]\n",
        "# y = y[perms]"
      ],
      "metadata": {
        "id": "hHsHYpVwq0JR"
      },
      "execution_count": null,
      "outputs": []
    },
    {
      "cell_type": "code",
      "source": [
        ""
      ],
      "metadata": {
        "id": "4rPUNemVq0AH"
      },
      "execution_count": null,
      "outputs": []
    }
  ]
}