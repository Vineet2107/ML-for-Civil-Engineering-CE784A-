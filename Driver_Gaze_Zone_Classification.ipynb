{
  "nbformat": 4,
  "nbformat_minor": 0,
  "metadata": {
    "colab": {
      "name": "Driver Gaze Zone Classification.ipynb",
      "provenance": [],
      "mount_file_id": "https://github.com/Vineet2107/ML-for-Civil-Engineering-CE784A-/blob/main/Driver_Gaze_Zone_Classification.ipynb",
      "authorship_tag": "ABX9TyM/3jsETYdpYOE98PAH4gjA",
      "include_colab_link": true
    },
    "kernelspec": {
      "name": "python3",
      "display_name": "Python 3"
    },
    "language_info": {
      "name": "python"
    },
    "accelerator": "GPU"
  },
  "cells": [
    {
      "cell_type": "markdown",
      "metadata": {
        "id": "view-in-github",
        "colab_type": "text"
      },
      "source": [
        "<a href=\"https://colab.research.google.com/github/Vineet2107/ML-for-Civil-Engineering-CE784A-/blob/main/Driver_Gaze_Zone_Classification.ipynb\" target=\"_parent\"><img src=\"https://colab.research.google.com/assets/colab-badge.svg\" alt=\"Open In Colab\"/></a>"
      ]
    },
    {
      "cell_type": "code",
      "source": [
        "from google.colab import drive\n",
        "drive.mount('/content/drive')"
      ],
      "metadata": {
        "colab": {
          "base_uri": "https://localhost:8080/"
        },
        "id": "34XKG48zesWz",
        "outputId": "190bb974-6a51-4a3c-cb9b-babd6a0c1e7d"
      },
      "execution_count": 6,
      "outputs": [
        {
          "output_type": "stream",
          "name": "stdout",
          "text": [
            "Drive already mounted at /content/drive; to attempt to forcibly remount, call drive.mount(\"/content/drive\", force_remount=True).\n"
          ]
        }
      ]
    },
    {
      "cell_type": "code",
      "source": [
        "#imported necessary packages and libraries\n",
        "import matplotlib.pyplot as plt\n",
        "from skimage import io, color\n",
        "import os\n",
        "import glob\n",
        "import numpy as np\n",
        "import pandas as pd\n",
        "from sklearn.model_selection import train_test_split\n",
        "import tensorflow as tf\n",
        "from tensorflow import keras\n",
        "from tensorflow.keras import layers, callbacks\n",
        "from tensorflow.keras.models import Sequential\n",
        "from keras import models\n",
        "from tensorflow.keras.layers import Flatten\n",
        "from tensorflow.keras.layers import Dense\n",
        "from tensorflow.keras.layers import Activation\n",
        "from keras import regularizers\n",
        "import matplotlib.pyplot as plt\n",
        "% matplotlib inline"
      ],
      "metadata": {
        "id": "ZAjSzxj5etz1"
      },
      "execution_count": 57,
      "outputs": []
    },
    {
      "cell_type": "code",
      "source": [
        "#path of train and test data\n",
        "# train_path = '/content/drive/MyDrive/gaze_dataset/train'\n",
        "# test_path = '/content/drive/MyDrive/gaze_dataset/test'"
      ],
      "metadata": {
        "id": "L-FUAEr1fKiI"
      },
      "execution_count": 8,
      "outputs": []
    },
    {
      "cell_type": "code",
      "source": [
        "# #path of raveling, non revaling and test data\n",
        "# Centerstack_data = '/content/drive/MyDrive/gaze_dataset/train/Centerstack'\n",
        "# Forward_data = '/content/drive/MyDrive/gaze_dataset/train/Forward'\n",
        "# Left_wm_data = '/content/drive/MyDrive/gaze_dataset/train/Left_wing_mirror'\n",
        "# Rearview_data = '/content/drive/MyDrive/gaze_dataset/train/Rearview_mirror'\n",
        "# Right_wm_data = '/content/drive/MyDrive/gaze_dataset/train/Right_wing_mirror'\n",
        "# test_data = '/content/drive/MyDrive/gaze_dataset/test'"
      ],
      "metadata": {
        "id": "944Fdr6sfjY-"
      },
      "execution_count": 9,
      "outputs": []
    },
    {
      "cell_type": "code",
      "source": [
        "# list_cs = os.listdir(Centerstack_data)\n",
        "# list_f = os.listdir(Forward_data)\n",
        "# list_lwm = os.listdir(Left_wm_data)\n",
        "# list_rv = os.listdir(Rearview_data)\n",
        "# list_rwm = os.listdir(Right_wm_data)\n",
        "# list_test = os.listdir(test_data)"
      ],
      "metadata": {
        "id": "_nVkdBBSgcUu"
      },
      "execution_count": 10,
      "outputs": []
    },
    {
      "cell_type": "code",
      "source": [
        "data_dir = '/content/drive/MyDrive/gaze_dataset/train'\n",
        "\n",
        "\n",
        "BATCH_SIZE = 32\n",
        "# IMG_SIZE = (256, 256, 3)\n",
        "\n",
        "#creating training data\n",
        "train_dataset = tf.keras.utils.image_dataset_from_directory(data_dir,\n",
        "                                                            shuffle=True,\n",
        "                                                            batch_size=BATCH_SIZE,\n",
        "                                                            )"
      ],
      "metadata": {
        "colab": {
          "base_uri": "https://localhost:8080/"
        },
        "id": "1R1wckJKslhf",
        "outputId": "051a81a7-a0bc-4f63-81bf-ea46aef7e7c3"
      },
      "execution_count": 26,
      "outputs": [
        {
          "output_type": "stream",
          "name": "stdout",
          "text": [
            "Found 2505 files belonging to 5 classes.\n"
          ]
        }
      ]
    },
    {
      "cell_type": "code",
      "source": [
        "#creating validation data\n",
        "val_ds = tf.keras.utils.image_dataset_from_directory(\n",
        "  data_dir,\n",
        "  validation_split=0.2,\n",
        "  subset=\"validation\",\n",
        "  seed=123,\n",
        "  batch_size=8)"
      ],
      "metadata": {
        "colab": {
          "base_uri": "https://localhost:8080/"
        },
        "id": "0OuJ-tqksnId",
        "outputId": "efc652c7-9c4b-4d05-82fa-fd9a323a7619"
      },
      "execution_count": 27,
      "outputs": [
        {
          "output_type": "stream",
          "name": "stdout",
          "text": [
            "Found 2505 files belonging to 5 classes.\n",
            "Using 501 files for validation.\n"
          ]
        }
      ]
    },
    {
      "cell_type": "code",
      "source": [
        "# Apply data augmentation\n",
        "img_height = 240\n",
        "img_width = 240\n",
        "data_augmentation = keras.Sequential(\n",
        "  [\n",
        "    layers.experimental.preprocessing.RandomFlip(\"horizontal\", \n",
        "                                                 input_shape=(img_height, \n",
        "                                                              img_width,\n",
        "                                                              3)),\n",
        "    layers.experimental.preprocessing.RandomRotation(0.1),\n",
        "    layers.experimental.preprocessing.RandomZoom(0.1),\n",
        "  ]\n",
        ")"
      ],
      "metadata": {
        "id": "2-U5Xr9HHepb"
      },
      "execution_count": 28,
      "outputs": []
    },
    {
      "cell_type": "code",
      "source": [
        ""
      ],
      "metadata": {
        "id": "o6SQWCu9M33I"
      },
      "execution_count": 28,
      "outputs": []
    },
    {
      "cell_type": "code",
      "source": [
        "#normalizing the data\n",
        "normalization_layer = tf.keras.layers.Rescaling(1./255)\n",
        "normalized_ds = train_dataset.map(lambda x, y: (normalization_layer(x), y))\n",
        "\n",
        "#auto tuning the data\n",
        "AUTOTUNE = tf.data.AUTOTUNE\n",
        "\n",
        "train_ds = train_dataset.cache().prefetch(buffer_size=AUTOTUNE)\n",
        "#extracting inputs and labels from the data\n",
        "image, labels = next(iter(train_ds))"
      ],
      "metadata": {
        "id": "nfT6NWXvsrE0"
      },
      "execution_count": 29,
      "outputs": []
    },
    {
      "cell_type": "code",
      "source": [
        "IMG_SIZE = 240\n",
        "\n",
        "#reshaping and rescaling the images\n",
        "resize_and_rescale = tf.keras.Sequential([\n",
        "  layers.Resizing(IMG_SIZE, IMG_SIZE),\n",
        "  layers.Rescaling(1./255)\n",
        "])"
      ],
      "metadata": {
        "id": "zJ3EVCDrOj9T"
      },
      "execution_count": 49,
      "outputs": []
    },
    {
      "cell_type": "code",
      "source": [
        "# Applying data augmentation\n",
        "img_height = 240\n",
        "img_width = 240\n",
        "data_augmentation = keras.Sequential(\n",
        "  [\n",
        "    layers.experimental.preprocessing.RandomFlip(\"horizontal\", \n",
        "                                                 input_shape=(img_height, \n",
        "                                                              img_width,\n",
        "                                                              3)),\n",
        "    layers.experimental.preprocessing.RandomRotation(0.1),\n",
        "    layers.experimental.preprocessing.RandomZoom(0.1),\n",
        "  ]\n",
        ")"
      ],
      "metadata": {
        "id": "Pd4KoA2-Olol"
      },
      "execution_count": 50,
      "outputs": []
    },
    {
      "cell_type": "code",
      "source": [
        "num_classes = 5\n",
        "# model = tf.keras.Sequential([\n",
        "  \n",
        "#   resize_and_rescale,\n",
        "#   data_augmentation,\n",
        "#   tf.keras.layers.BatchNormalization(),\n",
        "#   tf.keras.layers.Conv2D(64, 3, activation='relu'),\n",
        "#   tf.keras.layers.MaxPooling2D(),\n",
        "#   tf.keras.layers.Dropout((0.2)),\n",
        "#   tf.keras.layers.BatchNormalization(),\n",
        "  \n",
        "#   tf.keras.layers.Flatten(),\n",
        "#   tf.keras.layers.BatchNormalization(),\n",
        "#   tf.keras.layers.Dense(num_classes,activation = 'softmax')\n",
        "# ])\n",
        "for i in range(100):\n",
        "  reg=10**(np.random.uniform(-4,0)) \n",
        "\n",
        "\n",
        "#defining the model\n",
        "model=tf.keras.Sequential()\n",
        "# model.add(resize_and_rescale)\n",
        "# model.add(data_augmentation)\n",
        "\n",
        "model.add(layers.Conv2D(32,(3,3),activation='relu',input_shape=(256,256,3)))\n",
        "\n",
        "model.add(layers.MaxPooling2D((2,2)))\n",
        "\n",
        "model.add(layers.Conv2D(64,(3,3),activation='relu'))\n",
        "\n",
        "model.add(layers.MaxPooling2D(2,2))\n",
        "\n",
        "model.add(layers.Conv2D(128,(3,3),activation='relu'))\n",
        "\n",
        "model.add(layers.MaxPooling2D((2,2)))\n",
        "\n",
        "model.add(layers.Conv2D(128,(3,3),activation='relu'))\n",
        "\n",
        "model.add(layers.MaxPooling2D((2,2)))\n",
        "\n",
        "model.add(layers.Flatten())\n",
        "\n",
        "model.add(layers.Dense(512,activation='relu',kernel_regularizer=regularizers.l2(reg)))\n",
        "\n",
        "model.add(layers.Dense(5,activation='sigmoid',kernel_regularizer=regularizers.l2(reg)))\n",
        "\n",
        "\n",
        "#compiling the model\n",
        "model.compile(\n",
        "  optimizer='adam',\n",
        "  loss=tf.losses.SparseCategoricalCrossentropy(from_logits=True),\n",
        "  metrics=['acc'])\n",
        "\n",
        "#training the model\n",
        "model.fit(\n",
        "  train_ds,\n",
        "  validation_data=val_ds,\n",
        "  epochs=100\n",
        ")"
      ],
      "metadata": {
        "colab": {
          "base_uri": "https://localhost:8080/"
        },
        "id": "YzkkxePdsydC",
        "outputId": "4ce84664-4396-469e-e838-5ba2bfc13ab2"
      },
      "execution_count": 94,
      "outputs": [
        {
          "output_type": "stream",
          "name": "stdout",
          "text": [
            "Epoch 1/100\n"
          ]
        },
        {
          "output_type": "stream",
          "name": "stderr",
          "text": [
            "/usr/local/lib/python3.7/dist-packages/tensorflow/python/util/dispatch.py:1082: UserWarning: \"`sparse_categorical_crossentropy` received `from_logits=True`, but the `output` argument was produced by a sigmoid or softmax activation and thus does not represent logits. Was this intended?\"\n",
            "  return dispatch_target(*args, **kwargs)\n"
          ]
        },
        {
          "output_type": "stream",
          "name": "stdout",
          "text": [
            "79/79 [==============================] - 14s 171ms/step - loss: 14.4706 - acc: 0.1948 - val_loss: 1.7508 - val_acc: 0.2036\n",
            "Epoch 2/100\n",
            "79/79 [==============================] - 13s 169ms/step - loss: 1.7492 - acc: 0.2052 - val_loss: 1.7470 - val_acc: 0.1996\n",
            "Epoch 3/100\n",
            "79/79 [==============================] - 14s 174ms/step - loss: 1.7448 - acc: 0.1888 - val_loss: 1.7412 - val_acc: 0.2036\n",
            "Epoch 4/100\n",
            "79/79 [==============================] - 13s 168ms/step - loss: 1.7425 - acc: 0.2004 - val_loss: 1.7365 - val_acc: 0.1976\n",
            "Epoch 5/100\n",
            "79/79 [==============================] - 13s 168ms/step - loss: 1.7344 - acc: 0.1952 - val_loss: 1.7278 - val_acc: 0.2116\n",
            "Epoch 6/100\n",
            "79/79 [==============================] - 13s 169ms/step - loss: 1.7304 - acc: 0.1968 - val_loss: 1.7258 - val_acc: 0.2136\n",
            "Epoch 7/100\n",
            "79/79 [==============================] - 13s 168ms/step - loss: 1.7227 - acc: 0.1924 - val_loss: 1.7172 - val_acc: 0.2475\n",
            "Epoch 8/100\n",
            "79/79 [==============================] - 13s 167ms/step - loss: 1.7226 - acc: 0.1920 - val_loss: 1.7206 - val_acc: 0.2156\n",
            "Epoch 9/100\n",
            "79/79 [==============================] - 13s 169ms/step - loss: 1.7193 - acc: 0.1920 - val_loss: 1.7172 - val_acc: 0.2156\n",
            "Epoch 10/100\n",
            "79/79 [==============================] - 13s 168ms/step - loss: 1.7159 - acc: 0.1928 - val_loss: 1.7140 - val_acc: 0.2156\n",
            "Epoch 11/100\n",
            "79/79 [==============================] - 13s 168ms/step - loss: 1.7098 - acc: 0.1916 - val_loss: 1.7010 - val_acc: 0.2216\n",
            "Epoch 12/100\n",
            "79/79 [==============================] - 13s 168ms/step - loss: 1.7099 - acc: 0.1812 - val_loss: 1.7086 - val_acc: 0.1996\n",
            "Epoch 13/100\n",
            "79/79 [==============================] - 13s 168ms/step - loss: 1.7064 - acc: 0.1840 - val_loss: 1.7059 - val_acc: 0.2156\n",
            "Epoch 14/100\n",
            "79/79 [==============================] - 13s 169ms/step - loss: 1.7021 - acc: 0.1932 - val_loss: 1.7030 - val_acc: 0.2156\n",
            "Epoch 15/100\n",
            "79/79 [==============================] - 13s 168ms/step - loss: 1.6964 - acc: 0.1920 - val_loss: 1.6852 - val_acc: 0.1996\n",
            "Epoch 16/100\n",
            "79/79 [==============================] - 13s 167ms/step - loss: 1.6947 - acc: 0.1852 - val_loss: 1.6975 - val_acc: 0.2036\n",
            "Epoch 17/100\n",
            "79/79 [==============================] - 13s 168ms/step - loss: 1.6877 - acc: 0.1992 - val_loss: 1.6971 - val_acc: 0.1996\n",
            "Epoch 18/100\n",
            "79/79 [==============================] - 13s 168ms/step - loss: 1.6945 - acc: 0.1828 - val_loss: 1.6949 - val_acc: 0.1996\n",
            "Epoch 19/100\n",
            "79/79 [==============================] - 13s 167ms/step - loss: 1.6925 - acc: 0.1884 - val_loss: 1.6891 - val_acc: 0.2096\n",
            "Epoch 20/100\n",
            "79/79 [==============================] - 13s 168ms/step - loss: 1.6849 - acc: 0.2000 - val_loss: 1.6760 - val_acc: 0.2275\n",
            "Epoch 21/100\n",
            "79/79 [==============================] - 13s 168ms/step - loss: 1.6769 - acc: 0.2084 - val_loss: 1.6752 - val_acc: 0.2335\n",
            "Epoch 22/100\n",
            "79/79 [==============================] - 13s 169ms/step - loss: 1.6630 - acc: 0.2216 - val_loss: 1.6614 - val_acc: 0.2116\n",
            "Epoch 23/100\n",
            "79/79 [==============================] - 13s 167ms/step - loss: 1.6690 - acc: 0.1980 - val_loss: 1.7064 - val_acc: 0.2295\n",
            "Epoch 24/100\n",
            "79/79 [==============================] - 13s 169ms/step - loss: 1.6661 - acc: 0.2160 - val_loss: 1.8180 - val_acc: 0.2335\n",
            "Epoch 25/100\n",
            "79/79 [==============================] - 13s 168ms/step - loss: 1.6722 - acc: 0.2032 - val_loss: 1.6950 - val_acc: 0.2475\n",
            "Epoch 26/100\n",
            "79/79 [==============================] - 13s 169ms/step - loss: 1.6694 - acc: 0.2044 - val_loss: 1.9889 - val_acc: 0.2076\n",
            "Epoch 27/100\n",
            "79/79 [==============================] - 13s 168ms/step - loss: 1.6595 - acc: 0.2267 - val_loss: 1.8266 - val_acc: 0.2395\n",
            "Epoch 28/100\n",
            "79/79 [==============================] - 13s 168ms/step - loss: 1.6751 - acc: 0.1984 - val_loss: 1.6815 - val_acc: 0.2156\n",
            "Epoch 29/100\n",
            "79/79 [==============================] - 13s 169ms/step - loss: 1.6783 - acc: 0.1788 - val_loss: 1.6809 - val_acc: 0.1996\n",
            "Epoch 30/100\n",
            "79/79 [==============================] - 13s 170ms/step - loss: 1.6744 - acc: 0.1824 - val_loss: 1.6764 - val_acc: 0.1996\n",
            "Epoch 31/100\n",
            "79/79 [==============================] - 13s 168ms/step - loss: 1.6625 - acc: 0.2024 - val_loss: 1.7423 - val_acc: 0.2196\n",
            "Epoch 32/100\n",
            "79/79 [==============================] - 14s 176ms/step - loss: 1.6708 - acc: 0.2136 - val_loss: 1.6799 - val_acc: 0.2036\n",
            "Epoch 33/100\n",
            "79/79 [==============================] - 14s 177ms/step - loss: 1.6783 - acc: 0.1968 - val_loss: 1.6773 - val_acc: 0.1996\n",
            "Epoch 34/100\n",
            "79/79 [==============================] - 13s 170ms/step - loss: 1.6764 - acc: 0.1896 - val_loss: 1.6727 - val_acc: 0.2096\n",
            "Epoch 35/100\n",
            "79/79 [==============================] - 13s 169ms/step - loss: 1.6694 - acc: 0.1888 - val_loss: 1.6713 - val_acc: 0.2056\n",
            "Epoch 36/100\n",
            "79/79 [==============================] - 13s 169ms/step - loss: 1.6703 - acc: 0.1896 - val_loss: 1.6716 - val_acc: 0.1956\n",
            "Epoch 37/100\n",
            "79/79 [==============================] - 15s 185ms/step - loss: 1.6671 - acc: 0.1952 - val_loss: 1.6595 - val_acc: 0.2196\n",
            "Epoch 38/100\n",
            "79/79 [==============================] - 14s 181ms/step - loss: 1.6642 - acc: 0.1872 - val_loss: 1.6556 - val_acc: 0.2116\n",
            "Epoch 39/100\n",
            "79/79 [==============================] - 13s 168ms/step - loss: 1.6531 - acc: 0.2000 - val_loss: 1.6339 - val_acc: 0.2295\n",
            "Epoch 40/100\n",
            "79/79 [==============================] - 13s 168ms/step - loss: 1.6438 - acc: 0.2100 - val_loss: 1.6215 - val_acc: 0.2415\n",
            "Epoch 41/100\n",
            "79/79 [==============================] - 14s 172ms/step - loss: 1.6374 - acc: 0.2224 - val_loss: 1.6563 - val_acc: 0.2116\n",
            "Epoch 42/100\n",
            "79/79 [==============================] - 13s 169ms/step - loss: 1.6501 - acc: 0.2152 - val_loss: 1.6414 - val_acc: 0.2395\n",
            "Epoch 43/100\n",
            "79/79 [==============================] - 13s 169ms/step - loss: 1.6657 - acc: 0.2128 - val_loss: 1.6534 - val_acc: 0.2535\n",
            "Epoch 44/100\n",
            "79/79 [==============================] - 13s 170ms/step - loss: 1.6442 - acc: 0.2399 - val_loss: 1.6374 - val_acc: 0.2255\n",
            "Epoch 45/100\n",
            "79/79 [==============================] - 14s 172ms/step - loss: 1.6216 - acc: 0.2423 - val_loss: 1.6590 - val_acc: 0.2475\n",
            "Epoch 46/100\n",
            "79/79 [==============================] - 16s 209ms/step - loss: 1.5992 - acc: 0.2671 - val_loss: 1.6275 - val_acc: 0.2495\n",
            "Epoch 47/100\n",
            "79/79 [==============================] - 14s 172ms/step - loss: 1.6150 - acc: 0.2499 - val_loss: 1.6535 - val_acc: 0.2575\n",
            "Epoch 48/100\n",
            "79/79 [==============================] - 14s 178ms/step - loss: 1.6274 - acc: 0.2475 - val_loss: 2.1729 - val_acc: 0.2735\n",
            "Epoch 49/100\n",
            "79/79 [==============================] - 13s 169ms/step - loss: 1.6413 - acc: 0.2463 - val_loss: 1.6763 - val_acc: 0.2595\n",
            "Epoch 50/100\n",
            "79/79 [==============================] - 13s 166ms/step - loss: 1.6368 - acc: 0.2423 - val_loss: 1.6147 - val_acc: 0.2595\n",
            "Epoch 51/100\n",
            "79/79 [==============================] - 13s 169ms/step - loss: 1.5825 - acc: 0.2774 - val_loss: 1.6790 - val_acc: 0.2974\n",
            "Epoch 52/100\n",
            "79/79 [==============================] - 14s 172ms/step - loss: 1.5785 - acc: 0.2838 - val_loss: 1.5418 - val_acc: 0.3353\n",
            "Epoch 53/100\n",
            "79/79 [==============================] - 17s 212ms/step - loss: 1.5578 - acc: 0.3130 - val_loss: 1.5141 - val_acc: 0.3373\n",
            "Epoch 54/100\n",
            "79/79 [==============================] - 14s 174ms/step - loss: 1.5189 - acc: 0.3242 - val_loss: 1.4791 - val_acc: 0.3812\n",
            "Epoch 55/100\n",
            "79/79 [==============================] - 13s 170ms/step - loss: 1.4698 - acc: 0.3573 - val_loss: 1.4204 - val_acc: 0.3992\n",
            "Epoch 56/100\n",
            "79/79 [==============================] - 13s 170ms/step - loss: 1.4593 - acc: 0.3685 - val_loss: 1.4413 - val_acc: 0.3852\n",
            "Epoch 57/100\n",
            "79/79 [==============================] - 14s 174ms/step - loss: 1.4882 - acc: 0.3449 - val_loss: 1.5568 - val_acc: 0.2894\n",
            "Epoch 58/100\n",
            "79/79 [==============================] - 14s 180ms/step - loss: 1.5169 - acc: 0.3521 - val_loss: 1.4433 - val_acc: 0.4251\n",
            "Epoch 59/100\n",
            "79/79 [==============================] - 13s 171ms/step - loss: 1.4525 - acc: 0.3888 - val_loss: 1.3989 - val_acc: 0.4092\n",
            "Epoch 60/100\n",
            "79/79 [==============================] - 14s 181ms/step - loss: 1.4080 - acc: 0.4259 - val_loss: 1.4030 - val_acc: 0.4391\n",
            "Epoch 61/100\n",
            "79/79 [==============================] - 14s 173ms/step - loss: 1.3743 - acc: 0.4383 - val_loss: 1.4562 - val_acc: 0.4611\n",
            "Epoch 62/100\n",
            "79/79 [==============================] - 13s 168ms/step - loss: 1.3743 - acc: 0.4435 - val_loss: 1.4475 - val_acc: 0.4731\n",
            "Epoch 63/100\n",
            "79/79 [==============================] - 13s 171ms/step - loss: 1.3187 - acc: 0.4683 - val_loss: 1.2651 - val_acc: 0.4830\n",
            "Epoch 64/100\n",
            "79/79 [==============================] - 13s 168ms/step - loss: 1.3170 - acc: 0.4870 - val_loss: 1.2732 - val_acc: 0.4930\n",
            "Epoch 65/100\n",
            "79/79 [==============================] - 13s 169ms/step - loss: 1.2397 - acc: 0.5385 - val_loss: 1.2801 - val_acc: 0.5030\n",
            "Epoch 66/100\n",
            "79/79 [==============================] - 13s 168ms/step - loss: 1.1853 - acc: 0.5709 - val_loss: 1.2123 - val_acc: 0.5170\n",
            "Epoch 67/100\n",
            "79/79 [==============================] - 13s 168ms/step - loss: 1.1404 - acc: 0.6012 - val_loss: 1.1932 - val_acc: 0.5529\n",
            "Epoch 68/100\n",
            "79/79 [==============================] - 13s 168ms/step - loss: 1.0759 - acc: 0.6359 - val_loss: 1.1871 - val_acc: 0.5768\n",
            "Epoch 69/100\n",
            "79/79 [==============================] - 13s 169ms/step - loss: 0.9677 - acc: 0.6635 - val_loss: 1.1777 - val_acc: 0.5888\n",
            "Epoch 70/100\n",
            "79/79 [==============================] - 13s 168ms/step - loss: 0.9497 - acc: 0.6986 - val_loss: 1.1630 - val_acc: 0.6128\n",
            "Epoch 71/100\n",
            "79/79 [==============================] - 13s 168ms/step - loss: 0.9486 - acc: 0.7074 - val_loss: 1.1748 - val_acc: 0.6327\n",
            "Epoch 72/100\n",
            "79/79 [==============================] - 13s 168ms/step - loss: 0.9146 - acc: 0.7321 - val_loss: 1.0371 - val_acc: 0.6846\n",
            "Epoch 73/100\n",
            "79/79 [==============================] - 13s 170ms/step - loss: 0.8854 - acc: 0.7329 - val_loss: 0.9263 - val_acc: 0.7226\n",
            "Epoch 74/100\n",
            "79/79 [==============================] - 13s 168ms/step - loss: 0.7391 - acc: 0.7772 - val_loss: 1.0129 - val_acc: 0.7345\n",
            "Epoch 75/100\n",
            "79/79 [==============================] - 13s 169ms/step - loss: 0.7899 - acc: 0.7764 - val_loss: 0.9261 - val_acc: 0.7525\n",
            "Epoch 76/100\n",
            "79/79 [==============================] - 13s 168ms/step - loss: 0.6939 - acc: 0.8120 - val_loss: 0.8262 - val_acc: 0.7984\n",
            "Epoch 77/100\n",
            "79/79 [==============================] - 13s 168ms/step - loss: 0.7148 - acc: 0.8080 - val_loss: 1.1033 - val_acc: 0.7246\n",
            "Epoch 78/100\n",
            "79/79 [==============================] - 13s 169ms/step - loss: 0.7074 - acc: 0.8140 - val_loss: 0.9131 - val_acc: 0.7685\n",
            "Epoch 79/100\n",
            "79/79 [==============================] - 13s 169ms/step - loss: 0.6195 - acc: 0.8439 - val_loss: 0.8273 - val_acc: 0.7884\n",
            "Epoch 80/100\n",
            "79/79 [==============================] - 13s 167ms/step - loss: 0.5069 - acc: 0.8806 - val_loss: 0.6768 - val_acc: 0.8363\n",
            "Epoch 81/100\n",
            "79/79 [==============================] - 13s 168ms/step - loss: 0.4165 - acc: 0.9198 - val_loss: 0.6295 - val_acc: 0.8703\n",
            "Epoch 82/100\n",
            "79/79 [==============================] - 13s 169ms/step - loss: 0.4355 - acc: 0.9198 - val_loss: 0.4872 - val_acc: 0.9002\n",
            "Epoch 83/100\n",
            "79/79 [==============================] - 13s 170ms/step - loss: 0.3895 - acc: 0.9253 - val_loss: 0.5363 - val_acc: 0.9062\n",
            "Epoch 84/100\n",
            "79/79 [==============================] - 13s 168ms/step - loss: 0.3480 - acc: 0.9465 - val_loss: 0.4597 - val_acc: 0.9242\n",
            "Epoch 85/100\n",
            "79/79 [==============================] - 13s 168ms/step - loss: 0.3274 - acc: 0.9533 - val_loss: 0.4283 - val_acc: 0.9301\n",
            "Epoch 86/100\n",
            "79/79 [==============================] - 13s 168ms/step - loss: 0.3315 - acc: 0.9561 - val_loss: 0.3375 - val_acc: 0.9501\n",
            "Epoch 87/100\n",
            "79/79 [==============================] - 13s 168ms/step - loss: 0.3047 - acc: 0.9621 - val_loss: 0.4030 - val_acc: 0.9381\n",
            "Epoch 88/100\n",
            "79/79 [==============================] - 13s 169ms/step - loss: 0.2962 - acc: 0.9645 - val_loss: 0.6061 - val_acc: 0.8962\n",
            "Epoch 89/100\n",
            "79/79 [==============================] - 13s 169ms/step - loss: 0.2641 - acc: 0.9729 - val_loss: 0.3322 - val_acc: 0.9521\n",
            "Epoch 90/100\n",
            "79/79 [==============================] - 13s 168ms/step - loss: 0.2716 - acc: 0.9729 - val_loss: 0.4243 - val_acc: 0.9242\n",
            "Epoch 91/100\n",
            "79/79 [==============================] - 13s 167ms/step - loss: 0.2670 - acc: 0.9784 - val_loss: 0.3200 - val_acc: 0.9561\n",
            "Epoch 92/100\n",
            "79/79 [==============================] - 13s 167ms/step - loss: 0.2426 - acc: 0.9780 - val_loss: 0.3480 - val_acc: 0.9601\n",
            "Epoch 93/100\n",
            "79/79 [==============================] - 13s 168ms/step - loss: 0.2330 - acc: 0.9816 - val_loss: 0.3092 - val_acc: 0.9541\n",
            "Epoch 94/100\n",
            "79/79 [==============================] - 13s 168ms/step - loss: 0.2411 - acc: 0.9820 - val_loss: 0.3172 - val_acc: 0.9541\n",
            "Epoch 95/100\n",
            "79/79 [==============================] - 13s 169ms/step - loss: 0.2535 - acc: 0.9756 - val_loss: 0.2691 - val_acc: 0.9661\n",
            "Epoch 96/100\n",
            "79/79 [==============================] - 13s 169ms/step - loss: 0.2589 - acc: 0.9760 - val_loss: 0.3262 - val_acc: 0.9581\n",
            "Epoch 97/100\n",
            "79/79 [==============================] - 13s 169ms/step - loss: 0.2443 - acc: 0.9812 - val_loss: 0.2632 - val_acc: 0.9721\n",
            "Epoch 98/100\n",
            "79/79 [==============================] - 13s 168ms/step - loss: 0.2343 - acc: 0.9832 - val_loss: 0.2120 - val_acc: 0.9800\n",
            "Epoch 99/100\n",
            "79/79 [==============================] - 13s 167ms/step - loss: 0.2142 - acc: 0.9888 - val_loss: 0.2823 - val_acc: 0.9800\n",
            "Epoch 100/100\n",
            "79/79 [==============================] - 13s 169ms/step - loss: 0.1926 - acc: 0.9916 - val_loss: 0.1959 - val_acc: 0.9880\n"
          ]
        },
        {
          "output_type": "execute_result",
          "data": {
            "text/plain": [
              "<keras.callbacks.History at 0x7f685be10850>"
            ]
          },
          "metadata": {},
          "execution_count": 94
        }
      ]
    },
    {
      "cell_type": "code",
      "source": [
        ""
      ],
      "metadata": {
        "id": "zwWNr7rsA0JE"
      },
      "execution_count": 84,
      "outputs": []
    },
    {
      "cell_type": "code",
      "source": [
        ""
      ],
      "metadata": {
        "id": "x5AP37IkEpef"
      },
      "execution_count": 84,
      "outputs": []
    },
    {
      "cell_type": "code",
      "source": [
        ""
      ],
      "metadata": {
        "id": "bhrCfU-uEpZN"
      },
      "execution_count": 84,
      "outputs": []
    },
    {
      "cell_type": "code",
      "source": [
        "test_data = \"/content/drive/MyDrive/gaze_dataset/Test folder\" #test data set path"
      ],
      "metadata": {
        "id": "2bCT5aHsA0ED"
      },
      "execution_count": 95,
      "outputs": []
    },
    {
      "cell_type": "code",
      "source": [
        "# train_dataset = tf.keras.utils.image_dataset_from_directory(test_data,\n",
        "#                                                             shuffle=True\n",
        "#                                                             )"
      ],
      "metadata": {
        "id": "yjKWOlZmAz9L"
      },
      "execution_count": 96,
      "outputs": []
    },
    {
      "cell_type": "code",
      "source": [
        "#predicting on test data X_pred\n",
        "# y_pred = model.predict(val_ds)\n",
        "# y_output = []"
      ],
      "metadata": {
        "id": "QTYyyIscsy36"
      },
      "execution_count": 97,
      "outputs": []
    },
    {
      "cell_type": "code",
      "source": [
        "# y_pred[0]"
      ],
      "metadata": {
        "id": "RLZazqm7szlb"
      },
      "execution_count": 98,
      "outputs": []
    },
    {
      "cell_type": "code",
      "source": [
        "# result = np.where(y_pred[0] == np.amax(y_pred[0]))\n",
        "# print(result[0][0])"
      ],
      "metadata": {
        "id": "N8ZVEAGZ9Fi7"
      },
      "execution_count": 99,
      "outputs": []
    },
    {
      "cell_type": "code",
      "source": [
        "#creating a dictionary whose filename consists of name of test images and class consists of the pridected class\n",
        "t = \"/content/drive/MyDrive/gaze_dataset/test\"\n",
        "\n",
        "dicti = {}\n",
        "dicti['filename'] = []\n",
        "dicti['class'] = []\n",
        "\n",
        "for f in os.listdir(t):\n",
        "  ip = os.path.join(t,f)\n",
        "\n",
        "  image_path = ip\n",
        "  image = tf.keras.preprocessing.image.load_img(image_path,target_size=(256,256))\n",
        "  input_arr = tf.keras.preprocessing.image.img_to_array(image)\n",
        "  input_arr = np.array([input_arr])  # Convert single image to a batch.\n",
        "  predictions = model.predict(input_arr)\n",
        "\n",
        "  dicti['filename'].append(f)\n",
        "  result = np.argmax(predictions,axis = 1)[0]\n",
        "  if(result == 4):\n",
        "    dicti['class'].append(\"Right_wing_mirror\")\n",
        "  elif(result == 3):\n",
        "    dicti['class'].append(\"Rearview_mirror\")\n",
        "  elif(result == 2):\n",
        "    dicti['class'].append(\"Left_wing_mirror\")\n",
        "  elif(result == 1):\n",
        "    dicti['class'].append(\"Forward\")\n",
        "  else:\n",
        "    dicti['class'].append(\"Centerstack\")"
      ],
      "metadata": {
        "id": "PU9Gin9_46rh"
      },
      "execution_count": 100,
      "outputs": []
    },
    {
      "cell_type": "code",
      "source": [
        "#converting dictonary to data frame\n",
        "df = pd.DataFrame.from_dict(dicti)"
      ],
      "metadata": {
        "id": "2RQrbxPr46mp"
      },
      "execution_count": 101,
      "outputs": []
    },
    {
      "cell_type": "code",
      "source": [
        "df.head(10)"
      ],
      "metadata": {
        "colab": {
          "base_uri": "https://localhost:8080/",
          "height": 363
        },
        "id": "VQN2VwmN77Bl",
        "outputId": "431bb345-2cd3-484e-dd5c-16d081e99b81"
      },
      "execution_count": 104,
      "outputs": [
        {
          "output_type": "execute_result",
          "data": {
            "text/plain": [
              "  filename              class\n",
              "0  158.jpg    Rearview_mirror\n",
              "1  164.jpg    Rearview_mirror\n",
              "2    2.jpg  Right_wing_mirror\n",
              "3  358.jpg            Forward\n",
              "4  132.jpg    Rearview_mirror\n",
              "5  354.jpg   Left_wing_mirror\n",
              "6  415.jpg    Rearview_mirror\n",
              "7  280.jpg    Rearview_mirror\n",
              "8  431.jpg  Right_wing_mirror\n",
              "9  116.jpg        Centerstack"
            ],
            "text/html": [
              "\n",
              "  <div id=\"df-e120ab71-2933-4443-b7fa-b841ce3a80e1\">\n",
              "    <div class=\"colab-df-container\">\n",
              "      <div>\n",
              "<style scoped>\n",
              "    .dataframe tbody tr th:only-of-type {\n",
              "        vertical-align: middle;\n",
              "    }\n",
              "\n",
              "    .dataframe tbody tr th {\n",
              "        vertical-align: top;\n",
              "    }\n",
              "\n",
              "    .dataframe thead th {\n",
              "        text-align: right;\n",
              "    }\n",
              "</style>\n",
              "<table border=\"1\" class=\"dataframe\">\n",
              "  <thead>\n",
              "    <tr style=\"text-align: right;\">\n",
              "      <th></th>\n",
              "      <th>filename</th>\n",
              "      <th>class</th>\n",
              "    </tr>\n",
              "  </thead>\n",
              "  <tbody>\n",
              "    <tr>\n",
              "      <th>0</th>\n",
              "      <td>158.jpg</td>\n",
              "      <td>Rearview_mirror</td>\n",
              "    </tr>\n",
              "    <tr>\n",
              "      <th>1</th>\n",
              "      <td>164.jpg</td>\n",
              "      <td>Rearview_mirror</td>\n",
              "    </tr>\n",
              "    <tr>\n",
              "      <th>2</th>\n",
              "      <td>2.jpg</td>\n",
              "      <td>Right_wing_mirror</td>\n",
              "    </tr>\n",
              "    <tr>\n",
              "      <th>3</th>\n",
              "      <td>358.jpg</td>\n",
              "      <td>Forward</td>\n",
              "    </tr>\n",
              "    <tr>\n",
              "      <th>4</th>\n",
              "      <td>132.jpg</td>\n",
              "      <td>Rearview_mirror</td>\n",
              "    </tr>\n",
              "    <tr>\n",
              "      <th>5</th>\n",
              "      <td>354.jpg</td>\n",
              "      <td>Left_wing_mirror</td>\n",
              "    </tr>\n",
              "    <tr>\n",
              "      <th>6</th>\n",
              "      <td>415.jpg</td>\n",
              "      <td>Rearview_mirror</td>\n",
              "    </tr>\n",
              "    <tr>\n",
              "      <th>7</th>\n",
              "      <td>280.jpg</td>\n",
              "      <td>Rearview_mirror</td>\n",
              "    </tr>\n",
              "    <tr>\n",
              "      <th>8</th>\n",
              "      <td>431.jpg</td>\n",
              "      <td>Right_wing_mirror</td>\n",
              "    </tr>\n",
              "    <tr>\n",
              "      <th>9</th>\n",
              "      <td>116.jpg</td>\n",
              "      <td>Centerstack</td>\n",
              "    </tr>\n",
              "  </tbody>\n",
              "</table>\n",
              "</div>\n",
              "      <button class=\"colab-df-convert\" onclick=\"convertToInteractive('df-e120ab71-2933-4443-b7fa-b841ce3a80e1')\"\n",
              "              title=\"Convert this dataframe to an interactive table.\"\n",
              "              style=\"display:none;\">\n",
              "        \n",
              "  <svg xmlns=\"http://www.w3.org/2000/svg\" height=\"24px\"viewBox=\"0 0 24 24\"\n",
              "       width=\"24px\">\n",
              "    <path d=\"M0 0h24v24H0V0z\" fill=\"none\"/>\n",
              "    <path d=\"M18.56 5.44l.94 2.06.94-2.06 2.06-.94-2.06-.94-.94-2.06-.94 2.06-2.06.94zm-11 1L8.5 8.5l.94-2.06 2.06-.94-2.06-.94L8.5 2.5l-.94 2.06-2.06.94zm10 10l.94 2.06.94-2.06 2.06-.94-2.06-.94-.94-2.06-.94 2.06-2.06.94z\"/><path d=\"M17.41 7.96l-1.37-1.37c-.4-.4-.92-.59-1.43-.59-.52 0-1.04.2-1.43.59L10.3 9.45l-7.72 7.72c-.78.78-.78 2.05 0 2.83L4 21.41c.39.39.9.59 1.41.59.51 0 1.02-.2 1.41-.59l7.78-7.78 2.81-2.81c.8-.78.8-2.07 0-2.86zM5.41 20L4 18.59l7.72-7.72 1.47 1.35L5.41 20z\"/>\n",
              "  </svg>\n",
              "      </button>\n",
              "      \n",
              "  <style>\n",
              "    .colab-df-container {\n",
              "      display:flex;\n",
              "      flex-wrap:wrap;\n",
              "      gap: 12px;\n",
              "    }\n",
              "\n",
              "    .colab-df-convert {\n",
              "      background-color: #E8F0FE;\n",
              "      border: none;\n",
              "      border-radius: 50%;\n",
              "      cursor: pointer;\n",
              "      display: none;\n",
              "      fill: #1967D2;\n",
              "      height: 32px;\n",
              "      padding: 0 0 0 0;\n",
              "      width: 32px;\n",
              "    }\n",
              "\n",
              "    .colab-df-convert:hover {\n",
              "      background-color: #E2EBFA;\n",
              "      box-shadow: 0px 1px 2px rgba(60, 64, 67, 0.3), 0px 1px 3px 1px rgba(60, 64, 67, 0.15);\n",
              "      fill: #174EA6;\n",
              "    }\n",
              "\n",
              "    [theme=dark] .colab-df-convert {\n",
              "      background-color: #3B4455;\n",
              "      fill: #D2E3FC;\n",
              "    }\n",
              "\n",
              "    [theme=dark] .colab-df-convert:hover {\n",
              "      background-color: #434B5C;\n",
              "      box-shadow: 0px 1px 3px 1px rgba(0, 0, 0, 0.15);\n",
              "      filter: drop-shadow(0px 1px 2px rgba(0, 0, 0, 0.3));\n",
              "      fill: #FFFFFF;\n",
              "    }\n",
              "  </style>\n",
              "\n",
              "      <script>\n",
              "        const buttonEl =\n",
              "          document.querySelector('#df-e120ab71-2933-4443-b7fa-b841ce3a80e1 button.colab-df-convert');\n",
              "        buttonEl.style.display =\n",
              "          google.colab.kernel.accessAllowed ? 'block' : 'none';\n",
              "\n",
              "        async function convertToInteractive(key) {\n",
              "          const element = document.querySelector('#df-e120ab71-2933-4443-b7fa-b841ce3a80e1');\n",
              "          const dataTable =\n",
              "            await google.colab.kernel.invokeFunction('convertToInteractive',\n",
              "                                                     [key], {});\n",
              "          if (!dataTable) return;\n",
              "\n",
              "          const docLinkHtml = 'Like what you see? Visit the ' +\n",
              "            '<a target=\"_blank\" href=https://colab.research.google.com/notebooks/data_table.ipynb>data table notebook</a>'\n",
              "            + ' to learn more about interactive tables.';\n",
              "          element.innerHTML = '';\n",
              "          dataTable['output_type'] = 'display_data';\n",
              "          await google.colab.output.renderOutput(dataTable, element);\n",
              "          const docLink = document.createElement('div');\n",
              "          docLink.innerHTML = docLinkHtml;\n",
              "          element.appendChild(docLink);\n",
              "        }\n",
              "      </script>\n",
              "    </div>\n",
              "  </div>\n",
              "  "
            ]
          },
          "metadata": {},
          "execution_count": 104
        }
      ]
    },
    {
      "cell_type": "code",
      "source": [
        "#saving csv file in drive\n",
        "df.to_csv(\"OutputM.csv\", index = False)\n",
        "!cp OutputM.csv \"drive/My Drive/\""
      ],
      "metadata": {
        "id": "BjUSokjz46MO"
      },
      "execution_count": 103,
      "outputs": []
    },
    {
      "cell_type": "code",
      "source": [
        ""
      ],
      "metadata": {
        "id": "fUF_T5KV75aI"
      },
      "execution_count": null,
      "outputs": []
    },
    {
      "cell_type": "code",
      "source": [
        ""
      ],
      "metadata": {
        "id": "xqp6PoYX75Wa"
      },
      "execution_count": null,
      "outputs": []
    },
    {
      "cell_type": "code",
      "source": [
        ""
      ],
      "metadata": {
        "id": "losV35tJ75Er"
      },
      "execution_count": null,
      "outputs": []
    },
    {
      "cell_type": "code",
      "source": [
        ""
      ],
      "metadata": {
        "id": "rO3Qvy9L75BB"
      },
      "execution_count": null,
      "outputs": []
    },
    {
      "cell_type": "code",
      "source": [
        ""
      ],
      "metadata": {
        "id": "K12XEg6x74_O"
      },
      "execution_count": null,
      "outputs": []
    },
    {
      "cell_type": "code",
      "source": [
        ""
      ],
      "metadata": {
        "id": "PZ5wyHvt749T"
      },
      "execution_count": null,
      "outputs": []
    },
    {
      "cell_type": "code",
      "source": [
        ""
      ],
      "metadata": {
        "id": "1kX-_ZPd743G"
      },
      "execution_count": null,
      "outputs": []
    },
    {
      "cell_type": "code",
      "source": [
        "for i in range(len(y_pred)):\n",
        "  result = np.where(y_pred[0] == np.amax(y_pred[0]))\n",
        "  \n",
        "  if(result == 0):\n",
        "    y_output.append(\"Right_wing_mirror\")\n",
        "  if(result == 1):\n",
        "    y_output.append(\"Rearview_mirror\")\n",
        "  if(result == 2):\n",
        "    y_output.append(\"Left_wing_mirror\")\n",
        "  if(result == 3):\n",
        "    y_output.append(\"Forward\")\n",
        "  else:\n",
        "    y_output.append(\"Centerstack\")"
      ],
      "metadata": {
        "id": "VI4UDVJr78AU"
      },
      "execution_count": null,
      "outputs": []
    },
    {
      "cell_type": "code",
      "source": [
        "y_output"
      ],
      "metadata": {
        "colab": {
          "base_uri": "https://localhost:8080/"
        },
        "id": "h_oFgNtn779T",
        "outputId": "28538bbc-2c52-4d4f-d80f-67c5efabf10c"
      },
      "execution_count": null,
      "outputs": [
        {
          "output_type": "execute_result",
          "data": {
            "text/plain": [
              "['Centerstack',\n",
              " 'Centerstack',\n",
              " 'Centerstack',\n",
              " 'Centerstack',\n",
              " 'Centerstack',\n",
              " 'Centerstack',\n",
              " 'Centerstack',\n",
              " 'Centerstack',\n",
              " 'Centerstack',\n",
              " 'Centerstack',\n",
              " 'Centerstack',\n",
              " 'Centerstack',\n",
              " 'Centerstack',\n",
              " 'Centerstack',\n",
              " 'Centerstack',\n",
              " 'Centerstack',\n",
              " 'Centerstack',\n",
              " 'Centerstack',\n",
              " 'Centerstack',\n",
              " 'Centerstack',\n",
              " 'Centerstack',\n",
              " 'Centerstack',\n",
              " 'Centerstack',\n",
              " 'Centerstack',\n",
              " 'Centerstack',\n",
              " 'Centerstack',\n",
              " 'Centerstack',\n",
              " 'Centerstack',\n",
              " 'Centerstack',\n",
              " 'Centerstack',\n",
              " 'Centerstack',\n",
              " 'Centerstack',\n",
              " 'Centerstack',\n",
              " 'Centerstack',\n",
              " 'Centerstack',\n",
              " 'Centerstack',\n",
              " 'Centerstack',\n",
              " 'Centerstack',\n",
              " 'Centerstack',\n",
              " 'Centerstack',\n",
              " 'Centerstack',\n",
              " 'Centerstack',\n",
              " 'Centerstack',\n",
              " 'Centerstack',\n",
              " 'Centerstack',\n",
              " 'Centerstack',\n",
              " 'Centerstack',\n",
              " 'Centerstack',\n",
              " 'Centerstack',\n",
              " 'Centerstack',\n",
              " 'Centerstack',\n",
              " 'Centerstack',\n",
              " 'Centerstack',\n",
              " 'Centerstack',\n",
              " 'Centerstack',\n",
              " 'Centerstack',\n",
              " 'Centerstack',\n",
              " 'Centerstack',\n",
              " 'Centerstack',\n",
              " 'Centerstack',\n",
              " 'Centerstack',\n",
              " 'Centerstack',\n",
              " 'Centerstack',\n",
              " 'Centerstack',\n",
              " 'Centerstack',\n",
              " 'Centerstack',\n",
              " 'Centerstack',\n",
              " 'Centerstack',\n",
              " 'Centerstack',\n",
              " 'Centerstack',\n",
              " 'Centerstack',\n",
              " 'Centerstack',\n",
              " 'Centerstack',\n",
              " 'Centerstack',\n",
              " 'Centerstack',\n",
              " 'Centerstack',\n",
              " 'Centerstack',\n",
              " 'Centerstack',\n",
              " 'Centerstack',\n",
              " 'Centerstack',\n",
              " 'Centerstack',\n",
              " 'Centerstack',\n",
              " 'Centerstack',\n",
              " 'Centerstack',\n",
              " 'Centerstack',\n",
              " 'Centerstack',\n",
              " 'Centerstack',\n",
              " 'Centerstack',\n",
              " 'Centerstack',\n",
              " 'Centerstack',\n",
              " 'Centerstack',\n",
              " 'Centerstack',\n",
              " 'Centerstack',\n",
              " 'Centerstack',\n",
              " 'Centerstack',\n",
              " 'Centerstack',\n",
              " 'Centerstack',\n",
              " 'Centerstack',\n",
              " 'Centerstack',\n",
              " 'Centerstack',\n",
              " 'Centerstack',\n",
              " 'Centerstack',\n",
              " 'Centerstack',\n",
              " 'Centerstack',\n",
              " 'Centerstack',\n",
              " 'Centerstack',\n",
              " 'Centerstack',\n",
              " 'Centerstack',\n",
              " 'Centerstack',\n",
              " 'Centerstack',\n",
              " 'Centerstack',\n",
              " 'Centerstack',\n",
              " 'Centerstack',\n",
              " 'Centerstack',\n",
              " 'Centerstack',\n",
              " 'Centerstack',\n",
              " 'Centerstack',\n",
              " 'Centerstack',\n",
              " 'Centerstack',\n",
              " 'Centerstack',\n",
              " 'Centerstack',\n",
              " 'Centerstack',\n",
              " 'Centerstack',\n",
              " 'Centerstack',\n",
              " 'Centerstack',\n",
              " 'Centerstack',\n",
              " 'Centerstack',\n",
              " 'Centerstack',\n",
              " 'Centerstack',\n",
              " 'Centerstack',\n",
              " 'Centerstack',\n",
              " 'Centerstack',\n",
              " 'Centerstack',\n",
              " 'Centerstack',\n",
              " 'Centerstack',\n",
              " 'Centerstack',\n",
              " 'Centerstack',\n",
              " 'Centerstack',\n",
              " 'Centerstack',\n",
              " 'Centerstack',\n",
              " 'Centerstack',\n",
              " 'Centerstack',\n",
              " 'Centerstack',\n",
              " 'Centerstack',\n",
              " 'Centerstack',\n",
              " 'Centerstack',\n",
              " 'Centerstack',\n",
              " 'Centerstack',\n",
              " 'Centerstack',\n",
              " 'Centerstack',\n",
              " 'Centerstack',\n",
              " 'Centerstack',\n",
              " 'Centerstack',\n",
              " 'Centerstack',\n",
              " 'Centerstack',\n",
              " 'Centerstack',\n",
              " 'Centerstack',\n",
              " 'Centerstack',\n",
              " 'Centerstack',\n",
              " 'Centerstack',\n",
              " 'Centerstack',\n",
              " 'Centerstack',\n",
              " 'Centerstack',\n",
              " 'Centerstack',\n",
              " 'Centerstack',\n",
              " 'Centerstack',\n",
              " 'Centerstack',\n",
              " 'Centerstack',\n",
              " 'Centerstack',\n",
              " 'Centerstack',\n",
              " 'Centerstack',\n",
              " 'Centerstack',\n",
              " 'Centerstack',\n",
              " 'Centerstack',\n",
              " 'Centerstack',\n",
              " 'Centerstack',\n",
              " 'Centerstack',\n",
              " 'Centerstack',\n",
              " 'Centerstack',\n",
              " 'Centerstack',\n",
              " 'Centerstack',\n",
              " 'Centerstack',\n",
              " 'Centerstack',\n",
              " 'Centerstack',\n",
              " 'Centerstack',\n",
              " 'Centerstack',\n",
              " 'Centerstack',\n",
              " 'Centerstack',\n",
              " 'Centerstack',\n",
              " 'Centerstack',\n",
              " 'Centerstack',\n",
              " 'Centerstack',\n",
              " 'Centerstack',\n",
              " 'Centerstack',\n",
              " 'Centerstack',\n",
              " 'Centerstack',\n",
              " 'Centerstack',\n",
              " 'Centerstack',\n",
              " 'Centerstack',\n",
              " 'Centerstack',\n",
              " 'Centerstack',\n",
              " 'Centerstack',\n",
              " 'Centerstack',\n",
              " 'Centerstack',\n",
              " 'Centerstack',\n",
              " 'Centerstack',\n",
              " 'Centerstack',\n",
              " 'Centerstack',\n",
              " 'Centerstack',\n",
              " 'Centerstack',\n",
              " 'Centerstack',\n",
              " 'Centerstack',\n",
              " 'Centerstack',\n",
              " 'Centerstack',\n",
              " 'Centerstack',\n",
              " 'Centerstack',\n",
              " 'Centerstack',\n",
              " 'Centerstack',\n",
              " 'Centerstack',\n",
              " 'Centerstack',\n",
              " 'Centerstack',\n",
              " 'Centerstack',\n",
              " 'Centerstack',\n",
              " 'Centerstack',\n",
              " 'Centerstack',\n",
              " 'Centerstack',\n",
              " 'Centerstack',\n",
              " 'Centerstack',\n",
              " 'Centerstack',\n",
              " 'Centerstack',\n",
              " 'Centerstack',\n",
              " 'Centerstack',\n",
              " 'Centerstack',\n",
              " 'Centerstack',\n",
              " 'Centerstack',\n",
              " 'Centerstack',\n",
              " 'Centerstack',\n",
              " 'Centerstack',\n",
              " 'Centerstack',\n",
              " 'Centerstack',\n",
              " 'Centerstack',\n",
              " 'Centerstack',\n",
              " 'Centerstack',\n",
              " 'Centerstack',\n",
              " 'Centerstack',\n",
              " 'Centerstack',\n",
              " 'Centerstack',\n",
              " 'Centerstack',\n",
              " 'Centerstack',\n",
              " 'Centerstack',\n",
              " 'Centerstack',\n",
              " 'Centerstack',\n",
              " 'Centerstack',\n",
              " 'Centerstack',\n",
              " 'Centerstack',\n",
              " 'Centerstack',\n",
              " 'Centerstack',\n",
              " 'Centerstack',\n",
              " 'Centerstack',\n",
              " 'Centerstack',\n",
              " 'Centerstack',\n",
              " 'Centerstack',\n",
              " 'Centerstack',\n",
              " 'Centerstack',\n",
              " 'Centerstack',\n",
              " 'Centerstack',\n",
              " 'Centerstack',\n",
              " 'Centerstack',\n",
              " 'Centerstack',\n",
              " 'Centerstack',\n",
              " 'Centerstack',\n",
              " 'Centerstack',\n",
              " 'Centerstack',\n",
              " 'Centerstack',\n",
              " 'Centerstack',\n",
              " 'Centerstack',\n",
              " 'Centerstack',\n",
              " 'Centerstack',\n",
              " 'Centerstack',\n",
              " 'Centerstack',\n",
              " 'Centerstack',\n",
              " 'Centerstack',\n",
              " 'Centerstack',\n",
              " 'Centerstack',\n",
              " 'Centerstack',\n",
              " 'Centerstack',\n",
              " 'Centerstack',\n",
              " 'Centerstack',\n",
              " 'Centerstack',\n",
              " 'Centerstack',\n",
              " 'Centerstack',\n",
              " 'Centerstack',\n",
              " 'Centerstack',\n",
              " 'Centerstack',\n",
              " 'Centerstack',\n",
              " 'Centerstack',\n",
              " 'Centerstack',\n",
              " 'Centerstack',\n",
              " 'Centerstack',\n",
              " 'Centerstack',\n",
              " 'Centerstack',\n",
              " 'Centerstack',\n",
              " 'Centerstack',\n",
              " 'Centerstack',\n",
              " 'Centerstack',\n",
              " 'Centerstack',\n",
              " 'Centerstack',\n",
              " 'Centerstack',\n",
              " 'Centerstack',\n",
              " 'Centerstack',\n",
              " 'Centerstack',\n",
              " 'Centerstack',\n",
              " 'Centerstack',\n",
              " 'Centerstack',\n",
              " 'Centerstack',\n",
              " 'Centerstack',\n",
              " 'Centerstack',\n",
              " 'Centerstack',\n",
              " 'Centerstack',\n",
              " 'Centerstack',\n",
              " 'Centerstack',\n",
              " 'Centerstack',\n",
              " 'Centerstack',\n",
              " 'Centerstack',\n",
              " 'Centerstack',\n",
              " 'Centerstack',\n",
              " 'Centerstack',\n",
              " 'Centerstack',\n",
              " 'Centerstack',\n",
              " 'Centerstack',\n",
              " 'Centerstack',\n",
              " 'Centerstack',\n",
              " 'Centerstack',\n",
              " 'Centerstack',\n",
              " 'Centerstack',\n",
              " 'Centerstack',\n",
              " 'Centerstack',\n",
              " 'Centerstack',\n",
              " 'Centerstack',\n",
              " 'Centerstack',\n",
              " 'Centerstack',\n",
              " 'Centerstack',\n",
              " 'Centerstack',\n",
              " 'Centerstack',\n",
              " 'Centerstack',\n",
              " 'Centerstack',\n",
              " 'Centerstack',\n",
              " 'Centerstack',\n",
              " 'Centerstack',\n",
              " 'Centerstack',\n",
              " 'Centerstack',\n",
              " 'Centerstack',\n",
              " 'Centerstack',\n",
              " 'Centerstack',\n",
              " 'Centerstack',\n",
              " 'Centerstack',\n",
              " 'Centerstack',\n",
              " 'Centerstack',\n",
              " 'Centerstack',\n",
              " 'Centerstack',\n",
              " 'Centerstack',\n",
              " 'Centerstack',\n",
              " 'Centerstack',\n",
              " 'Centerstack',\n",
              " 'Centerstack',\n",
              " 'Centerstack',\n",
              " 'Centerstack',\n",
              " 'Centerstack',\n",
              " 'Centerstack',\n",
              " 'Centerstack',\n",
              " 'Centerstack',\n",
              " 'Centerstack',\n",
              " 'Centerstack',\n",
              " 'Centerstack',\n",
              " 'Centerstack',\n",
              " 'Centerstack',\n",
              " 'Centerstack',\n",
              " 'Centerstack',\n",
              " 'Centerstack',\n",
              " 'Centerstack',\n",
              " 'Centerstack',\n",
              " 'Centerstack',\n",
              " 'Centerstack',\n",
              " 'Centerstack',\n",
              " 'Centerstack',\n",
              " 'Centerstack',\n",
              " 'Centerstack',\n",
              " 'Centerstack',\n",
              " 'Centerstack',\n",
              " 'Centerstack',\n",
              " 'Centerstack',\n",
              " 'Centerstack',\n",
              " 'Centerstack',\n",
              " 'Centerstack',\n",
              " 'Centerstack',\n",
              " 'Centerstack',\n",
              " 'Centerstack',\n",
              " 'Centerstack',\n",
              " 'Centerstack',\n",
              " 'Centerstack',\n",
              " 'Centerstack',\n",
              " 'Centerstack',\n",
              " 'Centerstack',\n",
              " 'Centerstack',\n",
              " 'Centerstack',\n",
              " 'Centerstack',\n",
              " 'Centerstack',\n",
              " 'Centerstack',\n",
              " 'Centerstack',\n",
              " 'Centerstack',\n",
              " 'Centerstack',\n",
              " 'Centerstack',\n",
              " 'Centerstack',\n",
              " 'Centerstack',\n",
              " 'Centerstack',\n",
              " 'Centerstack',\n",
              " 'Centerstack',\n",
              " 'Centerstack',\n",
              " 'Centerstack',\n",
              " 'Centerstack',\n",
              " 'Centerstack',\n",
              " 'Centerstack',\n",
              " 'Centerstack',\n",
              " 'Centerstack',\n",
              " 'Centerstack',\n",
              " 'Centerstack',\n",
              " 'Centerstack',\n",
              " 'Centerstack',\n",
              " 'Centerstack',\n",
              " 'Centerstack',\n",
              " 'Centerstack',\n",
              " 'Centerstack',\n",
              " 'Centerstack',\n",
              " 'Centerstack',\n",
              " 'Centerstack',\n",
              " 'Centerstack',\n",
              " 'Centerstack',\n",
              " 'Centerstack',\n",
              " 'Centerstack',\n",
              " 'Centerstack',\n",
              " 'Centerstack',\n",
              " 'Centerstack',\n",
              " 'Centerstack',\n",
              " 'Centerstack',\n",
              " 'Centerstack',\n",
              " 'Centerstack',\n",
              " 'Centerstack',\n",
              " 'Centerstack',\n",
              " 'Centerstack',\n",
              " 'Centerstack',\n",
              " 'Centerstack',\n",
              " 'Centerstack',\n",
              " 'Centerstack',\n",
              " 'Centerstack',\n",
              " 'Centerstack',\n",
              " 'Centerstack',\n",
              " 'Centerstack',\n",
              " 'Centerstack',\n",
              " 'Centerstack',\n",
              " 'Centerstack',\n",
              " 'Centerstack',\n",
              " 'Centerstack',\n",
              " 'Centerstack',\n",
              " 'Centerstack',\n",
              " 'Centerstack',\n",
              " 'Centerstack',\n",
              " 'Centerstack',\n",
              " 'Centerstack',\n",
              " 'Centerstack',\n",
              " 'Centerstack',\n",
              " 'Centerstack',\n",
              " 'Centerstack',\n",
              " 'Centerstack',\n",
              " 'Centerstack',\n",
              " 'Centerstack',\n",
              " 'Centerstack',\n",
              " 'Centerstack',\n",
              " 'Centerstack',\n",
              " 'Centerstack',\n",
              " 'Centerstack',\n",
              " 'Centerstack',\n",
              " 'Centerstack',\n",
              " 'Centerstack',\n",
              " 'Centerstack',\n",
              " 'Centerstack',\n",
              " 'Centerstack',\n",
              " 'Centerstack',\n",
              " 'Centerstack',\n",
              " 'Centerstack',\n",
              " 'Centerstack',\n",
              " 'Centerstack',\n",
              " 'Centerstack',\n",
              " 'Centerstack',\n",
              " 'Centerstack',\n",
              " 'Centerstack',\n",
              " 'Centerstack',\n",
              " 'Centerstack',\n",
              " 'Centerstack',\n",
              " 'Centerstack',\n",
              " 'Centerstack',\n",
              " 'Centerstack']"
            ]
          },
          "metadata": {},
          "execution_count": 40
        }
      ]
    },
    {
      "cell_type": "code",
      "source": [
        "print(len(list_test))\n",
        "print(len(y_output))"
      ],
      "metadata": {
        "colab": {
          "base_uri": "https://localhost:8080/"
        },
        "id": "W7luqZ6t771e",
        "outputId": "588c2cb5-b8b9-4275-b523-2fffd6033052"
      },
      "execution_count": null,
      "outputs": [
        {
          "output_type": "stream",
          "name": "stdout",
          "text": [
            "509\n",
            "501\n"
          ]
        }
      ]
    },
    {
      "cell_type": "code",
      "source": [
        ""
      ],
      "metadata": {
        "id": "xIGemr4j_20k"
      },
      "execution_count": null,
      "outputs": []
    },
    {
      "cell_type": "code",
      "source": [
        ""
      ],
      "metadata": {
        "id": "cjiIBeRe_2tQ"
      },
      "execution_count": null,
      "outputs": []
    },
    {
      "cell_type": "code",
      "source": [
        ""
      ],
      "metadata": {
        "id": "hJOCD-PX_2As"
      },
      "execution_count": null,
      "outputs": []
    },
    {
      "cell_type": "code",
      "source": [
        ""
      ],
      "metadata": {
        "id": "KiNXbD8U_18b"
      },
      "execution_count": null,
      "outputs": []
    },
    {
      "cell_type": "code",
      "source": [
        ""
      ],
      "metadata": {
        "id": "f6mPDE5q_131"
      },
      "execution_count": null,
      "outputs": []
    },
    {
      "cell_type": "code",
      "source": [
        ""
      ],
      "metadata": {
        "id": "xVFFzJJy_1v0"
      },
      "execution_count": null,
      "outputs": []
    },
    {
      "cell_type": "code",
      "source": [
        "for i in range(len(y_pred)):\n",
        "  if(y_pred[i][0] > y_pred[i][1]):\n",
        "    y_output.append(\"Non_raveling\")\n",
        "  else:\n",
        "    y_output.append(\"Raveling\")"
      ],
      "metadata": {
        "id": "r0N7EqETsz57"
      },
      "execution_count": null,
      "outputs": []
    },
    {
      "cell_type": "code",
      "source": [
        ""
      ],
      "metadata": {
        "id": "V5E86kids0Kb"
      },
      "execution_count": null,
      "outputs": []
    },
    {
      "cell_type": "code",
      "source": [
        ""
      ],
      "metadata": {
        "id": "BBxRkpQOs0Zc"
      },
      "execution_count": null,
      "outputs": []
    },
    {
      "cell_type": "code",
      "source": [
        ""
      ],
      "metadata": {
        "id": "aKhpyYANs0qN"
      },
      "execution_count": null,
      "outputs": []
    },
    {
      "cell_type": "code",
      "source": [
        "# stored non raveling image array in img_nr\n",
        "img_cs = []\n",
        "for i in range(len(list_cs)):\n",
        "  img = io.imread(os.path.join(Centerstack_data,\n",
        "                               list_cs[i]))\n",
        "  img_cs.append(np.array(img))\n",
        "  io.imshow(img)\n",
        "\n",
        "img_f = []\n",
        "for i in range(len(list_f)):\n",
        "  img = io.imread(os.path.join(Forward_data,\n",
        "                               list_f[i]))\n",
        "  img_f.append(np.array(img))\n",
        "  io.imshow(img)\n",
        "\n",
        "img_lwm = []\n",
        "for i in range(len(list_lwm)):\n",
        "  img = io.imread(os.path.join(Left_wm_data,\n",
        "                               list_lwm[i]))\n",
        "  img_lwm.append(np.array(img))\n",
        "  io.imshow(img)\n",
        "\n",
        "img_rv = []\n",
        "for i in range(len(list_rv)):\n",
        "  img = io.imread(os.path.join(Rearview_data,\n",
        "                               list_rv[i]))\n",
        "  img_rv.append(np.array(img))\n",
        "  io.imshow(img)\n",
        "\n",
        "#stored raveling image array in img_r \n",
        "img_rwm = []\n",
        "for i in range(len(list_rwm)):\n",
        "  img = io.imread(os.path.join(Right_wm_data,\n",
        "                               list_rwm[i]))\n",
        "  img_rwm.append(np.array(img))\n",
        "  io.imshow(img)\n",
        "\n",
        "#stored test image array in img_test\n",
        "img_test = []\n",
        "for i in range(len(list_test)):\n",
        "  img = io.imread(os.path.join(test_data,\n",
        "                               list_test[i]))\n",
        "  img_test.append(np.array(img))\n",
        "  io.imshow(img)"
      ],
      "metadata": {
        "id": "uwBQuraZhBMH"
      },
      "execution_count": null,
      "outputs": []
    },
    {
      "cell_type": "code",
      "source": [
        "y_cs=np.empty(500)\n",
        "y_cs.fill(0)\n",
        "\n",
        "y_f=np.empty(500)\n",
        "y_f.fill(1)\n",
        "\n",
        "y_lwm=np.empty(500)\n",
        "y_lwm.fill(2)\n",
        "\n",
        "y_rv=np.empty(500)\n",
        "y_rv.fill(3)\n",
        "\n",
        "y_rwm=np.empty(500)\n",
        "y_rwm.fill(4)\n",
        "\n",
        "y = np.concatenate((y_cs, y_f, y_lwm, y_rv, y_rwm), axis = 0)"
      ],
      "metadata": {
        "id": "YFM9RAS8pNbU"
      },
      "execution_count": null,
      "outputs": []
    },
    {
      "cell_type": "code",
      "source": [
        "perms = np.random.permutation(2500)"
      ],
      "metadata": {
        "id": "S7W_JC5Hq0PU"
      },
      "execution_count": null,
      "outputs": []
    },
    {
      "cell_type": "code",
      "source": [
        "X = np.concatenate((img_cs, img_f, img_lwm, img_rv, img_rwm), axis = 0)"
      ],
      "metadata": {
        "id": "qlMwX-t_q0Mo"
      },
      "execution_count": null,
      "outputs": []
    },
    {
      "cell_type": "code",
      "source": [
        "X = X[perms]\n",
        "y = y[perms]"
      ],
      "metadata": {
        "id": "hHsHYpVwq0JR"
      },
      "execution_count": null,
      "outputs": []
    },
    {
      "cell_type": "code",
      "source": [
        ""
      ],
      "metadata": {
        "id": "4rPUNemVq0AH"
      },
      "execution_count": null,
      "outputs": []
    }
  ]
}