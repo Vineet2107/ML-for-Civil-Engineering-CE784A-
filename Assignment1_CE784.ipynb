{
  "nbformat": 4,
  "nbformat_minor": 0,
  "metadata": {
    "colab": {
      "name": "Assignment1_CE784.ipynb",
      "provenance": [],
      "collapsed_sections": [],
      "mount_file_id": "https://github.com/Vineet2107/Deep-Neural-Networks-with-PyTorch/blob/main/Assignment1_CE784.ipynb",
      "authorship_tag": "ABX9TyMSdhAYHG09OupbllDoKufD",
      "include_colab_link": true
    },
    "kernelspec": {
      "name": "python3",
      "display_name": "Python 3"
    },
    "language_info": {
      "name": "python"
    }
  },
  "cells": [
    {
      "cell_type": "markdown",
      "metadata": {
        "id": "view-in-github",
        "colab_type": "text"
      },
      "source": [
        "<a href=\"https://colab.research.google.com/github/Vineet2107/ML-for-Civil-Enfineering-CE784A-/blob/main/Assignment1_CE784.ipynb\" target=\"_parent\"><img src=\"https://colab.research.google.com/assets/colab-badge.svg\" alt=\"Open In Colab\"/></a>"
      ]
    },
    {
      "cell_type": "code",
      "source": [
        "import matplotlib.pyplot as plt\n",
        "import os\n",
        "import glob\n",
        "from skimage import io, color\n",
        "from skimage.feature.texture import greycomatrix, greycoprops\n",
        "import numpy as np\n",
        "import pandas as pd\n",
        "from scipy.stats import kurtosis\n",
        "from scipy.stats import skew\n",
        "from scipy.stats import entropy\n",
        "import cv2 \n",
        "import pandas as pd\n",
        "import numpy as np\n",
        "from sklearn.model_selection import train_test_split\n",
        "import tensorflow as tf\n",
        "from tensorflow import keras\n",
        "from tensorflow.keras import layers, callbacks\n",
        "from tensorflow.keras.models import Sequential\n",
        "from tensorflow.keras.layers import Flatten\n",
        "from tensorflow.keras.layers import Dense\n",
        "from tensorflow.keras.layers import Activation\n",
        "import matplotlib.pyplot as plt\n",
        "% matplotlib inline"
      ],
      "metadata": {
        "id": "gTqUwVaVyItU"
      },
      "execution_count": 275,
      "outputs": []
    },
    {
      "cell_type": "code",
      "source": [
        "from google.colab import drive\n",
        "drive.mount('/content/drive')"
      ],
      "metadata": {
        "id": "KIbtFOLrifxk",
        "outputId": "dc6ec5e3-c64b-4ed9-b581-9a25d2fc6a16",
        "colab": {
          "base_uri": "https://localhost:8080/"
        }
      },
      "execution_count": 276,
      "outputs": [
        {
          "output_type": "stream",
          "name": "stdout",
          "text": [
            "Drive already mounted at /content/drive; to attempt to forcibly remount, call drive.mount(\"/content/drive\", force_remount=True).\n"
          ]
        }
      ]
    },
    {
      "cell_type": "code",
      "source": [
        "train_path = '/content/drive/MyDrive/mod_ravelling_dataset/train'\n",
        "test_path = '/content/drive/MyDrive/mod_ravelling_dataset/test'"
      ],
      "metadata": {
        "id": "FKDsbN3nziSX"
      },
      "execution_count": 36,
      "outputs": []
    },
    {
      "cell_type": "code",
      "source": [
        "Non_raveling_data = '/content/drive/MyDrive/mod_ravelling_dataset/train/Non_raveling'\n",
        "Raveling_data = '/content/drive/MyDrive/mod_ravelling_dataset/train/Raveling'\n",
        "test_data = '/content/drive/MyDrive/mod_ravelling_dataset/test'"
      ],
      "metadata": {
        "id": "044J6hjc1X0z"
      },
      "execution_count": 37,
      "outputs": []
    },
    {
      "cell_type": "code",
      "source": [
        "Non_raveling_data"
      ],
      "metadata": {
        "colab": {
          "base_uri": "https://localhost:8080/",
          "height": 36
        },
        "id": "lPhMNjvZ7tSn",
        "outputId": "03a564b0-9594-4f6f-a7b1-a4d577bf0dec"
      },
      "execution_count": 38,
      "outputs": [
        {
          "output_type": "execute_result",
          "data": {
            "application/vnd.google.colaboratory.intrinsic+json": {
              "type": "string"
            },
            "text/plain": [
              "'/content/drive/MyDrive/mod_ravelling_dataset/train/Non_raveling'"
            ]
          },
          "metadata": {},
          "execution_count": 38
        }
      ]
    },
    {
      "cell_type": "code",
      "source": [
        "list_nr = os.listdir(Non_raveling_data)\n",
        "list_r = os.listdir(Raveling_data)\n",
        "list_test = os.listdir(test_data)"
      ],
      "metadata": {
        "id": "7L9yei2u45R6"
      },
      "execution_count": 160,
      "outputs": []
    },
    {
      "cell_type": "code",
      "source": [
        "list_test[0]"
      ],
      "metadata": {
        "colab": {
          "base_uri": "https://localhost:8080/",
          "height": 36
        },
        "id": "zIjTrPAA8L4_",
        "outputId": "ee162120-50a0-4649-f729-808afb77446d"
      },
      "execution_count": 161,
      "outputs": [
        {
          "output_type": "execute_result",
          "data": {
            "application/vnd.google.colaboratory.intrinsic+json": {
              "type": "string"
            },
            "text/plain": [
              "'2.jpg'"
            ]
          },
          "metadata": {},
          "execution_count": 161
        }
      ]
    },
    {
      "cell_type": "code",
      "source": [
        "#list_r = (os.listdir(Raveling))"
      ],
      "metadata": {
        "id": "UbK2DQWU5OyI"
      },
      "execution_count": 162,
      "outputs": []
    },
    {
      "cell_type": "code",
      "source": [
        "#list_r[:5]"
      ],
      "metadata": {
        "id": "9ESuginqAXk0"
      },
      "execution_count": 163,
      "outputs": []
    },
    {
      "cell_type": "code",
      "source": [
        "img = []"
      ],
      "metadata": {
        "id": "eT6MH_m7Etq9"
      },
      "execution_count": 164,
      "outputs": []
    },
    {
      "cell_type": "code",
      "source": [
        "img_nr = []\n",
        "\n",
        "for i in range(len(list_nr)):\n",
        "  img = io.imread(os.path.join(Non_raveling_data,list_nr[i]))\n",
        "  img_nr.append(np.array(img))\n",
        "  io.imshow(img)\n"
      ],
      "metadata": {
        "colab": {
          "base_uri": "https://localhost:8080/",
          "height": 332
        },
        "id": "G7ZWAKXX5b95",
        "outputId": "872c5f3c-96b0-46fc-ceff-1d2e14460960"
      },
      "execution_count": 165,
      "outputs": [
        {
          "output_type": "stream",
          "name": "stderr",
          "text": [
            "/usr/local/lib/python3.7/dist-packages/skimage/io/_plugins/matplotlib_plugin.py:150: UserWarning: Low image data range; displaying image with stretched contrast.\n",
            "  lo, hi, cmap = _get_display_range(image)\n"
          ]
        },
        {
          "output_type": "display_data",
          "data": {
            "image/png": "[encoded data removed]",
            "text/plain": [
              "<Figure size 432x288 with 2 Axes>"
            ]
          },
          "metadata": {
            "needs_background": "light"
          }
        }
      ]
    },
    {
      "cell_type": "code",
      "source": [
        "img_r = []\n",
        "\n",
        "for i in range(len(list_r)):\n",
        "  img = io.imread(os.path.join(Raveling_data,list_r[i]))\n",
        "  img_r.append(np.array(img))\n",
        "  io.imshow(img)"
      ],
      "metadata": {
        "id": "q9gpBzGwNQF3",
        "outputId": "39ce3f99-472d-40ce-c925-d2e60a839112",
        "colab": {
          "base_uri": "https://localhost:8080/",
          "height": 297
        }
      },
      "execution_count": 166,
      "outputs": [
        {
          "output_type": "display_data",
          "data": {
            "image/png": "[encoded data removed]",
            "text/plain": [
              "<Figure size 432x288 with 1 Axes>"
            ]
          },
          "metadata": {
            "needs_background": "light"
          }
        }
      ]
    },
    {
      "cell_type": "code",
      "source": [
        "img_test = []\n",
        "\n",
        "for i in range(len(list_test)):\n",
        "  img = io.imread(os.path.join(test_data,list_test[i]))\n",
        "  img_test.append(np.array(img))\n",
        "  io.imshow(img)"
      ],
      "metadata": {
        "colab": {
          "base_uri": "https://localhost:8080/",
          "height": 297
        },
        "id": "3UlIFsTdh9tR",
        "outputId": "b35be8e4-df3d-47df-9878-6b79e8b93e7f"
      },
      "execution_count": 167,
      "outputs": [
        {
          "output_type": "display_data",
          "data": {
            "image/png": "[encoded data removed]",
            "text/plain": [
              "<Figure size 432x288 with 1 Axes>"
            ]
          },
          "metadata": {
            "needs_background": "light"
          }
        }
      ]
    },
    {
      "cell_type": "code",
      "source": [
        "print(len(img_nr))\n",
        "print(len(img_r))\n",
        "print(len(img_test))"
      ],
      "metadata": {
        "colab": {
          "base_uri": "https://localhost:8080/"
        },
        "id": "dFeaF1-QFJn9",
        "outputId": "59428259-64e6-4255-a447-eeeb7fb80242"
      },
      "execution_count": 168,
      "outputs": [
        {
          "output_type": "stream",
          "name": "stdout",
          "text": [
            "351\n",
            "349\n",
            "300\n"
          ]
        }
      ]
    },
    {
      "cell_type": "code",
      "source": [
        "img_nr = np.array(img_nr)\n",
        "img_r = np.array(img_r)\n",
        "img_test = np.array(img_test)"
      ],
      "metadata": {
        "id": "rlEbdlmHLUd4"
      },
      "execution_count": 169,
      "outputs": []
    },
    {
      "cell_type": "code",
      "source": [
        "print(img_nr.shape)\n",
        "print(img_r.shape)\n",
        "print(img_test.shape)"
      ],
      "metadata": {
        "colab": {
          "base_uri": "https://localhost:8080/"
        },
        "id": "lDK7YBLGKW67",
        "outputId": "9ce061c3-d3aa-4988-e18c-faafdb787c3d"
      },
      "execution_count": 170,
      "outputs": [
        {
          "output_type": "stream",
          "name": "stdout",
          "text": [
            "(351, 100, 100, 3)\n",
            "(349, 100, 100, 3)\n",
            "(300, 100, 100, 3)\n"
          ]
        }
      ]
    },
    {
      "cell_type": "code",
      "source": [
        "#def mean(arr[][]):\n"
      ],
      "metadata": {
        "id": "_ggQVx8aO5WH"
      },
      "execution_count": 171,
      "outputs": []
    },
    {
      "cell_type": "code",
      "source": [
        ""
      ],
      "metadata": {
        "id": "75CxD1PzCvXT"
      },
      "execution_count": 171,
      "outputs": []
    },
    {
      "cell_type": "code",
      "source": [
        ""
      ],
      "metadata": {
        "id": "7-mFh_hCO5ZT"
      },
      "execution_count": 171,
      "outputs": []
    },
    {
      "cell_type": "code",
      "source": [
        ""
      ],
      "metadata": {
        "id": "JEiVY3rkO5b_"
      },
      "execution_count": 171,
      "outputs": []
    },
    {
      "cell_type": "code",
      "source": [
        "imgprop = []\n",
        "\n",
        "imgprop_test = []\n"
      ],
      "metadata": {
        "id": "u2SMnk-yO5fe"
      },
      "execution_count": 254,
      "outputs": []
    },
    {
      "cell_type": "code",
      "source": [
        "for i in range(len(img_nr)):\n",
        "  \n",
        "  imgprop.append(\n",
        "      [np.mean(img_nr[i][:,:,0]), np.std(img_nr[i][:,:,0]), kurtosis((img_nr[i][:,:,0]).flatten()), skew((img_nr[i][:,:,0]).flatten()), \n",
        "       np.mean(img_nr[i][:,:,1]), np.std(img_nr[i][:,:,1]), kurtosis((img_nr[i][:,:,1]).flatten()), skew((img_nr[i][:,:,1]).flatten()),\n",
        "       np.mean(img_nr[i][:,:,2]), np.std(img_nr[i][:,:,2]), kurtosis((img_nr[i][:,:,2]).flatten()), skew((img_nr[i][:,:,2]).flatten()),\n",
        "       entropy((img_nr[i][:,:,0]).flatten()), entropy((img_nr[i][:,:,1]).flatten()), entropy((img_nr[i][:,:,2]).flatten())]\n",
        "  )\n",
        "\n",
        "\n",
        "for i in range(len(img_r)):\n",
        "  \n",
        "  imgprop.append(\n",
        "      [np.mean(img_r[i][:,:,0]), np.std(img_r[i][:,:,0]), kurtosis((img_r[i][:,:,0]).flatten()), skew((img_r[i][:,:,0]).flatten()), \n",
        "       np.mean(img_r[i][:,:,1]), np.std(img_r[i][:,:,1]), kurtosis((img_r[i][:,:,1]).flatten()), skew((img_r[i][:,:,1]).flatten()),\n",
        "       np.mean(img_r[i][:,:,2]), np.std(img_r[i][:,:,2]), kurtosis((img_r[i][:,:,2]).flatten()), skew((img_r[i][:,:,2]).flatten()),\n",
        "       entropy((img_r[i][:,:,0]).flatten()), entropy((img_r[i][:,:,1]).flatten()), entropy((img_r[i][:,:,2]).flatten())]\n",
        "  )\n",
        "\n",
        "\n",
        "\n"
      ],
      "metadata": {
        "id": "JfJ1vBqKFLUo"
      },
      "execution_count": 179,
      "outputs": []
    },
    {
      "cell_type": "code",
      "source": [
        "for i in range(len(img_test)):\n",
        "  \n",
        "  imgprop_test.append(\n",
        "      [np.mean(img_test[i][:,:,0]), np.std(img_test[i][:,:,0]), kurtosis((img_test[i][:,:,0]).flatten()), skew((img_test[i][:,:,0]).flatten()), \n",
        "       np.mean(img_test[i][:,:,1]), np.std(img_test[i][:,:,1]), kurtosis((img_test[i][:,:,1]).flatten()), skew((img_test[i][:,:,1]).flatten()),\n",
        "       np.mean(img_test[i][:,:,2]), np.std(img_test[i][:,:,2]), kurtosis((img_test[i][:,:,2]).flatten()), skew((img_test[i][:,:,2]).flatten()),\n",
        "       entropy((img_test[i][:,:,0]).flatten()), entropy((img_test[i][:,:,1]).flatten()), entropy((img_test[i][:,:,2]).flatten())]\n",
        "  )\n",
        "  "
      ],
      "metadata": {
        "id": "NbRhQDVJNOMZ"
      },
      "execution_count": 255,
      "outputs": []
    },
    {
      "cell_type": "code",
      "source": [
        "len(imgprop_test)"
      ],
      "metadata": {
        "colab": {
          "base_uri": "https://localhost:8080/"
        },
        "id": "Zlg7FQMsTz4Y",
        "outputId": "63a9ebee-6368-44b2-f9b5-4a7093dcf801"
      },
      "execution_count": 256,
      "outputs": [
        {
          "output_type": "execute_result",
          "data": {
            "text/plain": [
              "300"
            ]
          },
          "metadata": {},
          "execution_count": 256
        }
      ]
    },
    {
      "cell_type": "code",
      "source": [
        "imgprop = np.array(imgprop)"
      ],
      "metadata": {
        "id": "dcKNcI9hLC37"
      },
      "execution_count": 181,
      "outputs": []
    },
    {
      "cell_type": "code",
      "source": [
        "imgprop.shape"
      ],
      "metadata": {
        "colab": {
          "base_uri": "https://localhost:8080/"
        },
        "id": "-W4FmPCELcB7",
        "outputId": "d9e20340-253f-4b92-9f90-f6df49835f07"
      },
      "execution_count": 183,
      "outputs": [
        {
          "output_type": "execute_result",
          "data": {
            "text/plain": [
              "(700, 15)"
            ]
          },
          "metadata": {},
          "execution_count": 183
        }
      ]
    },
    {
      "cell_type": "code",
      "source": [
        "# for i in range(len(img_r)):\n",
        "#   imgprop_r[i][0] = np.mean(img_r[i][:,:,0])\n",
        "#   imgprop_r[i][1] = np.std(img_r[i][:,:,0])\n",
        "#   imgprop_r[i][2] = kurtosis((img_r[i][:,:,0]).flatten())\n",
        "#   imgprop_r[i][3] = skew((img_r[i][:,:,0]).flatten())\n",
        "#   imgprop_r[i][4] = np.mean(img_r[i][:,:,1])\n",
        "#   imgprop_r[i][5] = np.std(img_r[i][:,:,1])\n",
        "#   imgprop_r[i][6] = kurtosis((img_r[i][:,:,1]).flatten())\n",
        "#   imgprop_r[i][7] = skew((img_r[i][:,:,1]).flatten())\n",
        "#   imgprop_r[i][8] = np.mean(img_r[i][:,:,2])\n",
        "#   imgprop_r[i][9] = np.std(img_r[i][:,:,2])\n",
        "#   imgprop_r[i][10] = kurtosis((img_r[i][:,:,2]).flatten())\n",
        "#   imgprop_r[i][11] = skew((img_r[i][:,:,2]).flatten())\n",
        "#   imgprop_r[i][12] = entropy((img_r[i][:,:,0]).flatten())\n",
        "#   imgprop_r[i][13] = entropy((img_r[i][:,:,1]).flatten())\n",
        "#   imgprop_r[i][14] = entropy((img_r[i][:,:,2]).flatten())"
      ],
      "metadata": {
        "id": "ST6o2zruO-dJ"
      },
      "execution_count": 184,
      "outputs": []
    },
    {
      "cell_type": "code",
      "source": [
        "print(imgprop)"
      ],
      "metadata": {
        "id": "0xGH6PidPqp8",
        "outputId": "dda494f4-7dc0-48d4-c1bd-65615910dc19",
        "colab": {
          "base_uri": "https://localhost:8080/"
        }
      },
      "execution_count": 186,
      "outputs": [
        {
          "output_type": "stream",
          "name": "stdout",
          "text": [
            "[[ 1.38337900e+02  2.84643448e+01  9.43863116e-02 ...  9.18858074e+00\n",
            "   9.19034281e+00  9.19242996e+00]\n",
            " [ 1.18611600e+02  2.32703018e+01  1.02089073e+00 ...  9.18943146e+00\n",
            "   9.19384166e+00  9.19563871e+00]\n",
            " [ 7.54408000e+01  1.50918884e+01  2.09268515e+00 ...  9.19065347e+00\n",
            "   9.19593358e+00  9.19959092e+00]\n",
            " ...\n",
            " [ 1.19122000e+02  3.68910682e+01  1.52116804e-01 ...  9.16104581e+00\n",
            "   9.15946492e+00  9.16230873e+00]\n",
            " [ 1.49974000e+02  3.36586649e+01 -7.37567366e-01 ...  9.18462085e+00\n",
            "   9.19120574e+00  9.19531866e+00]\n",
            " [ 1.80892800e+02  2.84121437e+01 -2.97238148e-01 ...  9.19759906e+00\n",
            "   9.19681359e+00  9.19741479e+00]]\n"
          ]
        }
      ]
    },
    {
      "cell_type": "code",
      "source": [
        "print(imgprop_test)"
      ],
      "metadata": {
        "colab": {
          "base_uri": "https://localhost:8080/"
        },
        "id": "Y4wCaM_Fjms0",
        "outputId": "b25c4d4c-3e9e-419d-a24b-10388f149c75"
      },
      "execution_count": 59,
      "outputs": [
        {
          "output_type": "stream",
          "name": "stdout",
          "text": [
            "[[124.9043, 45.58866680996495, -0.919347511432759, -0.08668077495600902, 124.0693, 42.829154760630054, -0.9123556300208255, -0.0763804150515785, 120.9571, 39.66162956296677, -0.8752134916474739, -0.08522591829456029, 9.13912355522308, 9.147177859797333, 9.1535622804405, 0, 0, 0, 0], [124.9043, 45.58866680996495, -0.919347511432759, -0.08668077495600902, 124.0693, 42.829154760630054, -0.9123556300208255, -0.0763804150515785, 120.9571, 39.66162956296677, -0.8752134916474739, -0.08522591829456029, 9.13912355522308, 9.147177859797333, 9.1535622804405, 0, 0, 0, 0], [124.9043, 45.58866680996495, -0.919347511432759, -0.08668077495600902, 124.0693, 42.829154760630054, -0.9123556300208255, -0.0763804150515785, 120.9571, 39.66162956296677, -0.8752134916474739, -0.08522591829456029, 9.13912355522308, 9.147177859797333, 9.1535622804405, 0, 0, 0, 0], [124.9043, 45.58866680996495, -0.919347511432759, -0.08668077495600902, 124.0693, 42.829154760630054, -0.9123556300208255, -0.0763804150515785, 120.9571, 39.66162956296677, -0.8752134916474739, -0.08522591829456029, 9.13912355522308, 9.147177859797333, 9.1535622804405, 0, 0, 0, 0], [124.9043, 45.58866680996495, -0.919347511432759, -0.08668077495600902, 124.0693, 42.829154760630054, -0.9123556300208255, -0.0763804150515785, 120.9571, 39.66162956296677, -0.8752134916474739, -0.08522591829456029, 9.13912355522308, 9.147177859797333, 9.1535622804405, 0, 0, 0, 0], [124.9043, 45.58866680996495, -0.919347511432759, -0.08668077495600902, 124.0693, 42.829154760630054, -0.9123556300208255, -0.0763804150515785, 120.9571, 39.66162956296677, -0.8752134916474739, -0.08522591829456029, 9.13912355522308, 9.147177859797333, 9.1535622804405, 0, 0, 0, 0], [124.9043, 45.58866680996495, -0.919347511432759, -0.08668077495600902, 124.0693, 42.829154760630054, -0.9123556300208255, -0.0763804150515785, 120.9571, 39.66162956296677, -0.8752134916474739, -0.08522591829456029, 9.13912355522308, 9.147177859797333, 9.1535622804405, 0, 0, 0, 0], [124.9043, 45.58866680996495, -0.919347511432759, -0.08668077495600902, 124.0693, 42.829154760630054, -0.9123556300208255, -0.0763804150515785, 120.9571, 39.66162956296677, -0.8752134916474739, -0.08522591829456029, 9.13912355522308, 9.147177859797333, 9.1535622804405, 0, 0, 0, 0], [124.9043, 45.58866680996495, -0.919347511432759, -0.08668077495600902, 124.0693, 42.829154760630054, -0.9123556300208255, -0.0763804150515785, 120.9571, 39.66162956296677, -0.8752134916474739, -0.08522591829456029, 9.13912355522308, 9.147177859797333, 9.1535622804405, 0, 0, 0, 0], [124.9043, 45.58866680996495, -0.919347511432759, -0.08668077495600902, 124.0693, 42.829154760630054, -0.9123556300208255, -0.0763804150515785, 120.9571, 39.66162956296677, -0.8752134916474739, -0.08522591829456029, 9.13912355522308, 9.147177859797333, 9.1535622804405, 0, 0, 0, 0], [124.9043, 45.58866680996495, -0.919347511432759, -0.08668077495600902, 124.0693, 42.829154760630054, -0.9123556300208255, -0.0763804150515785, 120.9571, 39.66162956296677, -0.8752134916474739, -0.08522591829456029, 9.13912355522308, 9.147177859797333, 9.1535622804405, 0, 0, 0, 0], [124.9043, 45.58866680996495, -0.919347511432759, -0.08668077495600902, 124.0693, 42.829154760630054, -0.9123556300208255, -0.0763804150515785, 120.9571, 39.66162956296677, -0.8752134916474739, -0.08522591829456029, 9.13912355522308, 9.147177859797333, 9.1535622804405, 0, 0, 0, 0], [124.9043, 45.58866680996495, -0.919347511432759, -0.08668077495600902, 124.0693, 42.829154760630054, -0.9123556300208255, -0.0763804150515785, 120.9571, 39.66162956296677, -0.8752134916474739, -0.08522591829456029, 9.13912355522308, 9.147177859797333, 9.1535622804405, 0, 0, 0, 0], [124.9043, 45.58866680996495, -0.919347511432759, -0.08668077495600902, 124.0693, 42.829154760630054, -0.9123556300208255, -0.0763804150515785, 120.9571, 39.66162956296677, -0.8752134916474739, -0.08522591829456029, 9.13912355522308, 9.147177859797333, 9.1535622804405, 0, 0, 0, 0], [124.9043, 45.58866680996495, -0.919347511432759, -0.08668077495600902, 124.0693, 42.829154760630054, -0.9123556300208255, -0.0763804150515785, 120.9571, 39.66162956296677, -0.8752134916474739, -0.08522591829456029, 9.13912355522308, 9.147177859797333, 9.1535622804405, 0, 0, 0, 0], [124.9043, 45.58866680996495, -0.919347511432759, -0.08668077495600902, 124.0693, 42.829154760630054, -0.9123556300208255, -0.0763804150515785, 120.9571, 39.66162956296677, -0.8752134916474739, -0.08522591829456029, 9.13912355522308, 9.147177859797333, 9.1535622804405, 0, 0, 0, 0], [124.9043, 45.58866680996495, -0.919347511432759, -0.08668077495600902, 124.0693, 42.829154760630054, -0.9123556300208255, -0.0763804150515785, 120.9571, 39.66162956296677, -0.8752134916474739, -0.08522591829456029, 9.13912355522308, 9.147177859797333, 9.1535622804405, 0, 0, 0, 0], [124.9043, 45.58866680996495, -0.919347511432759, -0.08668077495600902, 124.0693, 42.829154760630054, -0.9123556300208255, -0.0763804150515785, 120.9571, 39.66162956296677, -0.8752134916474739, -0.08522591829456029, 9.13912355522308, 9.147177859797333, 9.1535622804405, 0, 0, 0, 0], [124.9043, 45.58866680996495, -0.919347511432759, -0.08668077495600902, 124.0693, 42.829154760630054, -0.9123556300208255, -0.0763804150515785, 120.9571, 39.66162956296677, -0.8752134916474739, -0.08522591829456029, 9.13912355522308, 9.147177859797333, 9.1535622804405, 0, 0, 0, 0], [124.9043, 45.58866680996495, -0.919347511432759, -0.08668077495600902, 124.0693, 42.829154760630054, -0.9123556300208255, -0.0763804150515785, 120.9571, 39.66162956296677, -0.8752134916474739, -0.08522591829456029, 9.13912355522308, 9.147177859797333, 9.1535622804405, 0, 0, 0, 0], [124.9043, 45.58866680996495, -0.919347511432759, -0.08668077495600902, 124.0693, 42.829154760630054, -0.9123556300208255, -0.0763804150515785, 120.9571, 39.66162956296677, -0.8752134916474739, -0.08522591829456029, 9.13912355522308, 9.147177859797333, 9.1535622804405, 0, 0, 0, 0], [124.9043, 45.58866680996495, -0.919347511432759, -0.08668077495600902, 124.0693, 42.829154760630054, -0.9123556300208255, -0.0763804150515785, 120.9571, 39.66162956296677, -0.8752134916474739, -0.08522591829456029, 9.13912355522308, 9.147177859797333, 9.1535622804405, 0, 0, 0, 0], [124.9043, 45.58866680996495, -0.919347511432759, -0.08668077495600902, 124.0693, 42.829154760630054, -0.9123556300208255, -0.0763804150515785, 120.9571, 39.66162956296677, -0.8752134916474739, -0.08522591829456029, 9.13912355522308, 9.147177859797333, 9.1535622804405, 0, 0, 0, 0], [124.9043, 45.58866680996495, -0.919347511432759, -0.08668077495600902, 124.0693, 42.829154760630054, -0.9123556300208255, -0.0763804150515785, 120.9571, 39.66162956296677, -0.8752134916474739, -0.08522591829456029, 9.13912355522308, 9.147177859797333, 9.1535622804405, 0, 0, 0, 0], [124.9043, 45.58866680996495, -0.919347511432759, -0.08668077495600902, 124.0693, 42.829154760630054, -0.9123556300208255, -0.0763804150515785, 120.9571, 39.66162956296677, -0.8752134916474739, -0.08522591829456029, 9.13912355522308, 9.147177859797333, 9.1535622804405, 0, 0, 0, 0], [124.9043, 45.58866680996495, -0.919347511432759, -0.08668077495600902, 124.0693, 42.829154760630054, -0.9123556300208255, -0.0763804150515785, 120.9571, 39.66162956296677, -0.8752134916474739, -0.08522591829456029, 9.13912355522308, 9.147177859797333, 9.1535622804405, 0, 0, 0, 0], [124.9043, 45.58866680996495, -0.919347511432759, -0.08668077495600902, 124.0693, 42.829154760630054, -0.9123556300208255, -0.0763804150515785, 120.9571, 39.66162956296677, -0.8752134916474739, -0.08522591829456029, 9.13912355522308, 9.147177859797333, 9.1535622804405, 0, 0, 0, 0], [124.9043, 45.58866680996495, -0.919347511432759, -0.08668077495600902, 124.0693, 42.829154760630054, -0.9123556300208255, -0.0763804150515785, 120.9571, 39.66162956296677, -0.8752134916474739, -0.08522591829456029, 9.13912355522308, 9.147177859797333, 9.1535622804405, 0, 0, 0, 0], [124.9043, 45.58866680996495, -0.919347511432759, -0.08668077495600902, 124.0693, 42.829154760630054, -0.9123556300208255, -0.0763804150515785, 120.9571, 39.66162956296677, -0.8752134916474739, -0.08522591829456029, 9.13912355522308, 9.147177859797333, 9.1535622804405, 0, 0, 0, 0], [124.9043, 45.58866680996495, -0.919347511432759, -0.08668077495600902, 124.0693, 42.829154760630054, -0.9123556300208255, -0.0763804150515785, 120.9571, 39.66162956296677, -0.8752134916474739, -0.08522591829456029, 9.13912355522308, 9.147177859797333, 9.1535622804405, 0, 0, 0, 0], [124.9043, 45.58866680996495, -0.919347511432759, -0.08668077495600902, 124.0693, 42.829154760630054, -0.9123556300208255, -0.0763804150515785, 120.9571, 39.66162956296677, -0.8752134916474739, -0.08522591829456029, 9.13912355522308, 9.147177859797333, 9.1535622804405, 0, 0, 0, 0], [124.9043, 45.58866680996495, -0.919347511432759, -0.08668077495600902, 124.0693, 42.829154760630054, -0.9123556300208255, -0.0763804150515785, 120.9571, 39.66162956296677, -0.8752134916474739, -0.08522591829456029, 9.13912355522308, 9.147177859797333, 9.1535622804405, 0, 0, 0, 0], [124.9043, 45.58866680996495, -0.919347511432759, -0.08668077495600902, 124.0693, 42.829154760630054, -0.9123556300208255, -0.0763804150515785, 120.9571, 39.66162956296677, -0.8752134916474739, -0.08522591829456029, 9.13912355522308, 9.147177859797333, 9.1535622804405, 0, 0, 0, 0], [124.9043, 45.58866680996495, -0.919347511432759, -0.08668077495600902, 124.0693, 42.829154760630054, -0.9123556300208255, -0.0763804150515785, 120.9571, 39.66162956296677, -0.8752134916474739, -0.08522591829456029, 9.13912355522308, 9.147177859797333, 9.1535622804405, 0, 0, 0, 0], [124.9043, 45.58866680996495, -0.919347511432759, -0.08668077495600902, 124.0693, 42.829154760630054, -0.9123556300208255, -0.0763804150515785, 120.9571, 39.66162956296677, -0.8752134916474739, -0.08522591829456029, 9.13912355522308, 9.147177859797333, 9.1535622804405, 0, 0, 0, 0], [124.9043, 45.58866680996495, -0.919347511432759, -0.08668077495600902, 124.0693, 42.829154760630054, -0.9123556300208255, -0.0763804150515785, 120.9571, 39.66162956296677, -0.8752134916474739, -0.08522591829456029, 9.13912355522308, 9.147177859797333, 9.1535622804405, 0, 0, 0, 0], [124.9043, 45.58866680996495, -0.919347511432759, -0.08668077495600902, 124.0693, 42.829154760630054, -0.9123556300208255, -0.0763804150515785, 120.9571, 39.66162956296677, -0.8752134916474739, -0.08522591829456029, 9.13912355522308, 9.147177859797333, 9.1535622804405, 0, 0, 0, 0], [124.9043, 45.58866680996495, -0.919347511432759, -0.08668077495600902, 124.0693, 42.829154760630054, -0.9123556300208255, -0.0763804150515785, 120.9571, 39.66162956296677, -0.8752134916474739, -0.08522591829456029, 9.13912355522308, 9.147177859797333, 9.1535622804405, 0, 0, 0, 0], [124.9043, 45.58866680996495, -0.919347511432759, -0.08668077495600902, 124.0693, 42.829154760630054, -0.9123556300208255, -0.0763804150515785, 120.9571, 39.66162956296677, -0.8752134916474739, -0.08522591829456029, 9.13912355522308, 9.147177859797333, 9.1535622804405, 0, 0, 0, 0], [124.9043, 45.58866680996495, -0.919347511432759, -0.08668077495600902, 124.0693, 42.829154760630054, -0.9123556300208255, -0.0763804150515785, 120.9571, 39.66162956296677, -0.8752134916474739, -0.08522591829456029, 9.13912355522308, 9.147177859797333, 9.1535622804405, 0, 0, 0, 0], [124.9043, 45.58866680996495, -0.919347511432759, -0.08668077495600902, 124.0693, 42.829154760630054, -0.9123556300208255, -0.0763804150515785, 120.9571, 39.66162956296677, -0.8752134916474739, -0.08522591829456029, 9.13912355522308, 9.147177859797333, 9.1535622804405, 0, 0, 0, 0], [124.9043, 45.58866680996495, -0.919347511432759, -0.08668077495600902, 124.0693, 42.829154760630054, -0.9123556300208255, -0.0763804150515785, 120.9571, 39.66162956296677, -0.8752134916474739, -0.08522591829456029, 9.13912355522308, 9.147177859797333, 9.1535622804405, 0, 0, 0, 0], [124.9043, 45.58866680996495, -0.919347511432759, -0.08668077495600902, 124.0693, 42.829154760630054, -0.9123556300208255, -0.0763804150515785, 120.9571, 39.66162956296677, -0.8752134916474739, -0.08522591829456029, 9.13912355522308, 9.147177859797333, 9.1535622804405, 0, 0, 0, 0], [124.9043, 45.58866680996495, -0.919347511432759, -0.08668077495600902, 124.0693, 42.829154760630054, -0.9123556300208255, -0.0763804150515785, 120.9571, 39.66162956296677, -0.8752134916474739, -0.08522591829456029, 9.13912355522308, 9.147177859797333, 9.1535622804405, 0, 0, 0, 0], [124.9043, 45.58866680996495, -0.919347511432759, -0.08668077495600902, 124.0693, 42.829154760630054, -0.9123556300208255, -0.0763804150515785, 120.9571, 39.66162956296677, -0.8752134916474739, -0.08522591829456029, 9.13912355522308, 9.147177859797333, 9.1535622804405, 0, 0, 0, 0], [124.9043, 45.58866680996495, -0.919347511432759, -0.08668077495600902, 124.0693, 42.829154760630054, -0.9123556300208255, -0.0763804150515785, 120.9571, 39.66162956296677, -0.8752134916474739, -0.08522591829456029, 9.13912355522308, 9.147177859797333, 9.1535622804405, 0, 0, 0, 0], [124.9043, 45.58866680996495, -0.919347511432759, -0.08668077495600902, 124.0693, 42.829154760630054, -0.9123556300208255, -0.0763804150515785, 120.9571, 39.66162956296677, -0.8752134916474739, -0.08522591829456029, 9.13912355522308, 9.147177859797333, 9.1535622804405, 0, 0, 0, 0], [124.9043, 45.58866680996495, -0.919347511432759, -0.08668077495600902, 124.0693, 42.829154760630054, -0.9123556300208255, -0.0763804150515785, 120.9571, 39.66162956296677, -0.8752134916474739, -0.08522591829456029, 9.13912355522308, 9.147177859797333, 9.1535622804405, 0, 0, 0, 0], [124.9043, 45.58866680996495, -0.919347511432759, -0.08668077495600902, 124.0693, 42.829154760630054, -0.9123556300208255, -0.0763804150515785, 120.9571, 39.66162956296677, -0.8752134916474739, -0.08522591829456029, 9.13912355522308, 9.147177859797333, 9.1535622804405, 0, 0, 0, 0], [124.9043, 45.58866680996495, -0.919347511432759, -0.08668077495600902, 124.0693, 42.829154760630054, -0.9123556300208255, -0.0763804150515785, 120.9571, 39.66162956296677, -0.8752134916474739, -0.08522591829456029, 9.13912355522308, 9.147177859797333, 9.1535622804405, 0, 0, 0, 0], [124.9043, 45.58866680996495, -0.919347511432759, -0.08668077495600902, 124.0693, 42.829154760630054, -0.9123556300208255, -0.0763804150515785, 120.9571, 39.66162956296677, -0.8752134916474739, -0.08522591829456029, 9.13912355522308, 9.147177859797333, 9.1535622804405, 0, 0, 0, 0], [124.9043, 45.58866680996495, -0.919347511432759, -0.08668077495600902, 124.0693, 42.829154760630054, -0.9123556300208255, -0.0763804150515785, 120.9571, 39.66162956296677, -0.8752134916474739, -0.08522591829456029, 9.13912355522308, 9.147177859797333, 9.1535622804405, 0, 0, 0, 0], [124.9043, 45.58866680996495, -0.919347511432759, -0.08668077495600902, 124.0693, 42.829154760630054, -0.9123556300208255, -0.0763804150515785, 120.9571, 39.66162956296677, -0.8752134916474739, -0.08522591829456029, 9.13912355522308, 9.147177859797333, 9.1535622804405, 0, 0, 0, 0], [124.9043, 45.58866680996495, -0.919347511432759, -0.08668077495600902, 124.0693, 42.829154760630054, -0.9123556300208255, -0.0763804150515785, 120.9571, 39.66162956296677, -0.8752134916474739, -0.08522591829456029, 9.13912355522308, 9.147177859797333, 9.1535622804405, 0, 0, 0, 0], [124.9043, 45.58866680996495, -0.919347511432759, -0.08668077495600902, 124.0693, 42.829154760630054, -0.9123556300208255, -0.0763804150515785, 120.9571, 39.66162956296677, -0.8752134916474739, -0.08522591829456029, 9.13912355522308, 9.147177859797333, 9.1535622804405, 0, 0, 0, 0], [124.9043, 45.58866680996495, -0.919347511432759, -0.08668077495600902, 124.0693, 42.829154760630054, -0.9123556300208255, -0.0763804150515785, 120.9571, 39.66162956296677, -0.8752134916474739, -0.08522591829456029, 9.13912355522308, 9.147177859797333, 9.1535622804405, 0, 0, 0, 0], [124.9043, 45.58866680996495, -0.919347511432759, -0.08668077495600902, 124.0693, 42.829154760630054, -0.9123556300208255, -0.0763804150515785, 120.9571, 39.66162956296677, -0.8752134916474739, -0.08522591829456029, 9.13912355522308, 9.147177859797333, 9.1535622804405, 0, 0, 0, 0], [124.9043, 45.58866680996495, -0.919347511432759, -0.08668077495600902, 124.0693, 42.829154760630054, -0.9123556300208255, -0.0763804150515785, 120.9571, 39.66162956296677, -0.8752134916474739, -0.08522591829456029, 9.13912355522308, 9.147177859797333, 9.1535622804405, 0, 0, 0, 0], [124.9043, 45.58866680996495, -0.919347511432759, -0.08668077495600902, 124.0693, 42.829154760630054, -0.9123556300208255, -0.0763804150515785, 120.9571, 39.66162956296677, -0.8752134916474739, -0.08522591829456029, 9.13912355522308, 9.147177859797333, 9.1535622804405, 0, 0, 0, 0], [124.9043, 45.58866680996495, -0.919347511432759, -0.08668077495600902, 124.0693, 42.829154760630054, -0.9123556300208255, -0.0763804150515785, 120.9571, 39.66162956296677, -0.8752134916474739, -0.08522591829456029, 9.13912355522308, 9.147177859797333, 9.1535622804405, 0, 0, 0, 0], [124.9043, 45.58866680996495, -0.919347511432759, -0.08668077495600902, 124.0693, 42.829154760630054, -0.9123556300208255, -0.0763804150515785, 120.9571, 39.66162956296677, -0.8752134916474739, -0.08522591829456029, 9.13912355522308, 9.147177859797333, 9.1535622804405, 0, 0, 0, 0], [124.9043, 45.58866680996495, -0.919347511432759, -0.08668077495600902, 124.0693, 42.829154760630054, -0.9123556300208255, -0.0763804150515785, 120.9571, 39.66162956296677, -0.8752134916474739, -0.08522591829456029, 9.13912355522308, 9.147177859797333, 9.1535622804405, 0, 0, 0, 0], [124.9043, 45.58866680996495, -0.919347511432759, -0.08668077495600902, 124.0693, 42.829154760630054, -0.9123556300208255, -0.0763804150515785, 120.9571, 39.66162956296677, -0.8752134916474739, -0.08522591829456029, 9.13912355522308, 9.147177859797333, 9.1535622804405, 0, 0, 0, 0], [124.9043, 45.58866680996495, -0.919347511432759, -0.08668077495600902, 124.0693, 42.829154760630054, -0.9123556300208255, -0.0763804150515785, 120.9571, 39.66162956296677, -0.8752134916474739, -0.08522591829456029, 9.13912355522308, 9.147177859797333, 9.1535622804405, 0, 0, 0, 0], [124.9043, 45.58866680996495, -0.919347511432759, -0.08668077495600902, 124.0693, 42.829154760630054, -0.9123556300208255, -0.0763804150515785, 120.9571, 39.66162956296677, -0.8752134916474739, -0.08522591829456029, 9.13912355522308, 9.147177859797333, 9.1535622804405, 0, 0, 0, 0], [124.9043, 45.58866680996495, -0.919347511432759, -0.08668077495600902, 124.0693, 42.829154760630054, -0.9123556300208255, -0.0763804150515785, 120.9571, 39.66162956296677, -0.8752134916474739, -0.08522591829456029, 9.13912355522308, 9.147177859797333, 9.1535622804405, 0, 0, 0, 0], [124.9043, 45.58866680996495, -0.919347511432759, -0.08668077495600902, 124.0693, 42.829154760630054, -0.9123556300208255, -0.0763804150515785, 120.9571, 39.66162956296677, -0.8752134916474739, -0.08522591829456029, 9.13912355522308, 9.147177859797333, 9.1535622804405, 0, 0, 0, 0], [124.9043, 45.58866680996495, -0.919347511432759, -0.08668077495600902, 124.0693, 42.829154760630054, -0.9123556300208255, -0.0763804150515785, 120.9571, 39.66162956296677, -0.8752134916474739, -0.08522591829456029, 9.13912355522308, 9.147177859797333, 9.1535622804405, 0, 0, 0, 0], [124.9043, 45.58866680996495, -0.919347511432759, -0.08668077495600902, 124.0693, 42.829154760630054, -0.9123556300208255, -0.0763804150515785, 120.9571, 39.66162956296677, -0.8752134916474739, -0.08522591829456029, 9.13912355522308, 9.147177859797333, 9.1535622804405, 0, 0, 0, 0], [124.9043, 45.58866680996495, -0.919347511432759, -0.08668077495600902, 124.0693, 42.829154760630054, -0.9123556300208255, -0.0763804150515785, 120.9571, 39.66162956296677, -0.8752134916474739, -0.08522591829456029, 9.13912355522308, 9.147177859797333, 9.1535622804405, 0, 0, 0, 0], [124.9043, 45.58866680996495, -0.919347511432759, -0.08668077495600902, 124.0693, 42.829154760630054, -0.9123556300208255, -0.0763804150515785, 120.9571, 39.66162956296677, -0.8752134916474739, -0.08522591829456029, 9.13912355522308, 9.147177859797333, 9.1535622804405, 0, 0, 0, 0], [124.9043, 45.58866680996495, -0.919347511432759, -0.08668077495600902, 124.0693, 42.829154760630054, -0.9123556300208255, -0.0763804150515785, 120.9571, 39.66162956296677, -0.8752134916474739, -0.08522591829456029, 9.13912355522308, 9.147177859797333, 9.1535622804405, 0, 0, 0, 0], [124.9043, 45.58866680996495, -0.919347511432759, -0.08668077495600902, 124.0693, 42.829154760630054, -0.9123556300208255, -0.0763804150515785, 120.9571, 39.66162956296677, -0.8752134916474739, -0.08522591829456029, 9.13912355522308, 9.147177859797333, 9.1535622804405, 0, 0, 0, 0], [124.9043, 45.58866680996495, -0.919347511432759, -0.08668077495600902, 124.0693, 42.829154760630054, -0.9123556300208255, -0.0763804150515785, 120.9571, 39.66162956296677, -0.8752134916474739, -0.08522591829456029, 9.13912355522308, 9.147177859797333, 9.1535622804405, 0, 0, 0, 0], [124.9043, 45.58866680996495, -0.919347511432759, -0.08668077495600902, 124.0693, 42.829154760630054, -0.9123556300208255, -0.0763804150515785, 120.9571, 39.66162956296677, -0.8752134916474739, -0.08522591829456029, 9.13912355522308, 9.147177859797333, 9.1535622804405, 0, 0, 0, 0], [124.9043, 45.58866680996495, -0.919347511432759, -0.08668077495600902, 124.0693, 42.829154760630054, -0.9123556300208255, -0.0763804150515785, 120.9571, 39.66162956296677, -0.8752134916474739, -0.08522591829456029, 9.13912355522308, 9.147177859797333, 9.1535622804405, 0, 0, 0, 0], [124.9043, 45.58866680996495, -0.919347511432759, -0.08668077495600902, 124.0693, 42.829154760630054, -0.9123556300208255, -0.0763804150515785, 120.9571, 39.66162956296677, -0.8752134916474739, -0.08522591829456029, 9.13912355522308, 9.147177859797333, 9.1535622804405, 0, 0, 0, 0], [124.9043, 45.58866680996495, -0.919347511432759, -0.08668077495600902, 124.0693, 42.829154760630054, -0.9123556300208255, -0.0763804150515785, 120.9571, 39.66162956296677, -0.8752134916474739, -0.08522591829456029, 9.13912355522308, 9.147177859797333, 9.1535622804405, 0, 0, 0, 0], [124.9043, 45.58866680996495, -0.919347511432759, -0.08668077495600902, 124.0693, 42.829154760630054, -0.9123556300208255, -0.0763804150515785, 120.9571, 39.66162956296677, -0.8752134916474739, -0.08522591829456029, 9.13912355522308, 9.147177859797333, 9.1535622804405, 0, 0, 0, 0], [124.9043, 45.58866680996495, -0.919347511432759, -0.08668077495600902, 124.0693, 42.829154760630054, -0.9123556300208255, -0.0763804150515785, 120.9571, 39.66162956296677, -0.8752134916474739, -0.08522591829456029, 9.13912355522308, 9.147177859797333, 9.1535622804405, 0, 0, 0, 0], [124.9043, 45.58866680996495, -0.919347511432759, -0.08668077495600902, 124.0693, 42.829154760630054, -0.9123556300208255, -0.0763804150515785, 120.9571, 39.66162956296677, -0.8752134916474739, -0.08522591829456029, 9.13912355522308, 9.147177859797333, 9.1535622804405, 0, 0, 0, 0], [124.9043, 45.58866680996495, -0.919347511432759, -0.08668077495600902, 124.0693, 42.829154760630054, -0.9123556300208255, -0.0763804150515785, 120.9571, 39.66162956296677, -0.8752134916474739, -0.08522591829456029, 9.13912355522308, 9.147177859797333, 9.1535622804405, 0, 0, 0, 0], [124.9043, 45.58866680996495, -0.919347511432759, -0.08668077495600902, 124.0693, 42.829154760630054, -0.9123556300208255, -0.0763804150515785, 120.9571, 39.66162956296677, -0.8752134916474739, -0.08522591829456029, 9.13912355522308, 9.147177859797333, 9.1535622804405, 0, 0, 0, 0], [124.9043, 45.58866680996495, -0.919347511432759, -0.08668077495600902, 124.0693, 42.829154760630054, -0.9123556300208255, -0.0763804150515785, 120.9571, 39.66162956296677, -0.8752134916474739, -0.08522591829456029, 9.13912355522308, 9.147177859797333, 9.1535622804405, 0, 0, 0, 0], [124.9043, 45.58866680996495, -0.919347511432759, -0.08668077495600902, 124.0693, 42.829154760630054, -0.9123556300208255, -0.0763804150515785, 120.9571, 39.66162956296677, -0.8752134916474739, -0.08522591829456029, 9.13912355522308, 9.147177859797333, 9.1535622804405, 0, 0, 0, 0], [124.9043, 45.58866680996495, -0.919347511432759, -0.08668077495600902, 124.0693, 42.829154760630054, -0.9123556300208255, -0.0763804150515785, 120.9571, 39.66162956296677, -0.8752134916474739, -0.08522591829456029, 9.13912355522308, 9.147177859797333, 9.1535622804405, 0, 0, 0, 0], [124.9043, 45.58866680996495, -0.919347511432759, -0.08668077495600902, 124.0693, 42.829154760630054, -0.9123556300208255, -0.0763804150515785, 120.9571, 39.66162956296677, -0.8752134916474739, -0.08522591829456029, 9.13912355522308, 9.147177859797333, 9.1535622804405, 0, 0, 0, 0], [124.9043, 45.58866680996495, -0.919347511432759, -0.08668077495600902, 124.0693, 42.829154760630054, -0.9123556300208255, -0.0763804150515785, 120.9571, 39.66162956296677, -0.8752134916474739, -0.08522591829456029, 9.13912355522308, 9.147177859797333, 9.1535622804405, 0, 0, 0, 0], [124.9043, 45.58866680996495, -0.919347511432759, -0.08668077495600902, 124.0693, 42.829154760630054, -0.9123556300208255, -0.0763804150515785, 120.9571, 39.66162956296677, -0.8752134916474739, -0.08522591829456029, 9.13912355522308, 9.147177859797333, 9.1535622804405, 0, 0, 0, 0], [124.9043, 45.58866680996495, -0.919347511432759, -0.08668077495600902, 124.0693, 42.829154760630054, -0.9123556300208255, -0.0763804150515785, 120.9571, 39.66162956296677, -0.8752134916474739, -0.08522591829456029, 9.13912355522308, 9.147177859797333, 9.1535622804405, 0, 0, 0, 0], [124.9043, 45.58866680996495, -0.919347511432759, -0.08668077495600902, 124.0693, 42.829154760630054, -0.9123556300208255, -0.0763804150515785, 120.9571, 39.66162956296677, -0.8752134916474739, -0.08522591829456029, 9.13912355522308, 9.147177859797333, 9.1535622804405, 0, 0, 0, 0], [124.9043, 45.58866680996495, -0.919347511432759, -0.08668077495600902, 124.0693, 42.829154760630054, -0.9123556300208255, -0.0763804150515785, 120.9571, 39.66162956296677, -0.8752134916474739, -0.08522591829456029, 9.13912355522308, 9.147177859797333, 9.1535622804405, 0, 0, 0, 0], [124.9043, 45.58866680996495, -0.919347511432759, -0.08668077495600902, 124.0693, 42.829154760630054, -0.9123556300208255, -0.0763804150515785, 120.9571, 39.66162956296677, -0.8752134916474739, -0.08522591829456029, 9.13912355522308, 9.147177859797333, 9.1535622804405, 0, 0, 0, 0], [124.9043, 45.58866680996495, -0.919347511432759, -0.08668077495600902, 124.0693, 42.829154760630054, -0.9123556300208255, -0.0763804150515785, 120.9571, 39.66162956296677, -0.8752134916474739, -0.08522591829456029, 9.13912355522308, 9.147177859797333, 9.1535622804405, 0, 0, 0, 0], [124.9043, 45.58866680996495, -0.919347511432759, -0.08668077495600902, 124.0693, 42.829154760630054, -0.9123556300208255, -0.0763804150515785, 120.9571, 39.66162956296677, -0.8752134916474739, -0.08522591829456029, 9.13912355522308, 9.147177859797333, 9.1535622804405, 0, 0, 0, 0], [124.9043, 45.58866680996495, -0.919347511432759, -0.08668077495600902, 124.0693, 42.829154760630054, -0.9123556300208255, -0.0763804150515785, 120.9571, 39.66162956296677, -0.8752134916474739, -0.08522591829456029, 9.13912355522308, 9.147177859797333, 9.1535622804405, 0, 0, 0, 0], [124.9043, 45.58866680996495, -0.919347511432759, -0.08668077495600902, 124.0693, 42.829154760630054, -0.9123556300208255, -0.0763804150515785, 120.9571, 39.66162956296677, -0.8752134916474739, -0.08522591829456029, 9.13912355522308, 9.147177859797333, 9.1535622804405, 0, 0, 0, 0], [124.9043, 45.58866680996495, -0.919347511432759, -0.08668077495600902, 124.0693, 42.829154760630054, -0.9123556300208255, -0.0763804150515785, 120.9571, 39.66162956296677, -0.8752134916474739, -0.08522591829456029, 9.13912355522308, 9.147177859797333, 9.1535622804405, 0, 0, 0, 0], [124.9043, 45.58866680996495, -0.919347511432759, -0.08668077495600902, 124.0693, 42.829154760630054, -0.9123556300208255, -0.0763804150515785, 120.9571, 39.66162956296677, -0.8752134916474739, -0.08522591829456029, 9.13912355522308, 9.147177859797333, 9.1535622804405, 0, 0, 0, 0], [124.9043, 45.58866680996495, -0.919347511432759, -0.08668077495600902, 124.0693, 42.829154760630054, -0.9123556300208255, -0.0763804150515785, 120.9571, 39.66162956296677, -0.8752134916474739, -0.08522591829456029, 9.13912355522308, 9.147177859797333, 9.1535622804405, 0, 0, 0, 0], [124.9043, 45.58866680996495, -0.919347511432759, -0.08668077495600902, 124.0693, 42.829154760630054, -0.9123556300208255, -0.0763804150515785, 120.9571, 39.66162956296677, -0.8752134916474739, -0.08522591829456029, 9.13912355522308, 9.147177859797333, 9.1535622804405, 0, 0, 0, 0], [124.9043, 45.58866680996495, -0.919347511432759, -0.08668077495600902, 124.0693, 42.829154760630054, -0.9123556300208255, -0.0763804150515785, 120.9571, 39.66162956296677, -0.8752134916474739, -0.08522591829456029, 9.13912355522308, 9.147177859797333, 9.1535622804405, 0, 0, 0, 0], [124.9043, 45.58866680996495, -0.919347511432759, -0.08668077495600902, 124.0693, 42.829154760630054, -0.9123556300208255, -0.0763804150515785, 120.9571, 39.66162956296677, -0.8752134916474739, -0.08522591829456029, 9.13912355522308, 9.147177859797333, 9.1535622804405, 0, 0, 0, 0], [124.9043, 45.58866680996495, -0.919347511432759, -0.08668077495600902, 124.0693, 42.829154760630054, -0.9123556300208255, -0.0763804150515785, 120.9571, 39.66162956296677, -0.8752134916474739, -0.08522591829456029, 9.13912355522308, 9.147177859797333, 9.1535622804405, 0, 0, 0, 0], [124.9043, 45.58866680996495, -0.919347511432759, -0.08668077495600902, 124.0693, 42.829154760630054, -0.9123556300208255, -0.0763804150515785, 120.9571, 39.66162956296677, -0.8752134916474739, -0.08522591829456029, 9.13912355522308, 9.147177859797333, 9.1535622804405, 0, 0, 0, 0], [124.9043, 45.58866680996495, -0.919347511432759, -0.08668077495600902, 124.0693, 42.829154760630054, -0.9123556300208255, -0.0763804150515785, 120.9571, 39.66162956296677, -0.8752134916474739, -0.08522591829456029, 9.13912355522308, 9.147177859797333, 9.1535622804405, 0, 0, 0, 0], [124.9043, 45.58866680996495, -0.919347511432759, -0.08668077495600902, 124.0693, 42.829154760630054, -0.9123556300208255, -0.0763804150515785, 120.9571, 39.66162956296677, -0.8752134916474739, -0.08522591829456029, 9.13912355522308, 9.147177859797333, 9.1535622804405, 0, 0, 0, 0], [124.9043, 45.58866680996495, -0.919347511432759, -0.08668077495600902, 124.0693, 42.829154760630054, -0.9123556300208255, -0.0763804150515785, 120.9571, 39.66162956296677, -0.8752134916474739, -0.08522591829456029, 9.13912355522308, 9.147177859797333, 9.1535622804405, 0, 0, 0, 0], [124.9043, 45.58866680996495, -0.919347511432759, -0.08668077495600902, 124.0693, 42.829154760630054, -0.9123556300208255, -0.0763804150515785, 120.9571, 39.66162956296677, -0.8752134916474739, -0.08522591829456029, 9.13912355522308, 9.147177859797333, 9.1535622804405, 0, 0, 0, 0], [124.9043, 45.58866680996495, -0.919347511432759, -0.08668077495600902, 124.0693, 42.829154760630054, -0.9123556300208255, -0.0763804150515785, 120.9571, 39.66162956296677, -0.8752134916474739, -0.08522591829456029, 9.13912355522308, 9.147177859797333, 9.1535622804405, 0, 0, 0, 0], [124.9043, 45.58866680996495, -0.919347511432759, -0.08668077495600902, 124.0693, 42.829154760630054, -0.9123556300208255, -0.0763804150515785, 120.9571, 39.66162956296677, -0.8752134916474739, -0.08522591829456029, 9.13912355522308, 9.147177859797333, 9.1535622804405, 0, 0, 0, 0], [124.9043, 45.58866680996495, -0.919347511432759, -0.08668077495600902, 124.0693, 42.829154760630054, -0.9123556300208255, -0.0763804150515785, 120.9571, 39.66162956296677, -0.8752134916474739, -0.08522591829456029, 9.13912355522308, 9.147177859797333, 9.1535622804405, 0, 0, 0, 0], [124.9043, 45.58866680996495, -0.919347511432759, -0.08668077495600902, 124.0693, 42.829154760630054, -0.9123556300208255, -0.0763804150515785, 120.9571, 39.66162956296677, -0.8752134916474739, -0.08522591829456029, 9.13912355522308, 9.147177859797333, 9.1535622804405, 0, 0, 0, 0], [124.9043, 45.58866680996495, -0.919347511432759, -0.08668077495600902, 124.0693, 42.829154760630054, -0.9123556300208255, -0.0763804150515785, 120.9571, 39.66162956296677, -0.8752134916474739, -0.08522591829456029, 9.13912355522308, 9.147177859797333, 9.1535622804405, 0, 0, 0, 0], [124.9043, 45.58866680996495, -0.919347511432759, -0.08668077495600902, 124.0693, 42.829154760630054, -0.9123556300208255, -0.0763804150515785, 120.9571, 39.66162956296677, -0.8752134916474739, -0.08522591829456029, 9.13912355522308, 9.147177859797333, 9.1535622804405, 0, 0, 0, 0], [124.9043, 45.58866680996495, -0.919347511432759, -0.08668077495600902, 124.0693, 42.829154760630054, -0.9123556300208255, -0.0763804150515785, 120.9571, 39.66162956296677, -0.8752134916474739, -0.08522591829456029, 9.13912355522308, 9.147177859797333, 9.1535622804405, 0, 0, 0, 0], [124.9043, 45.58866680996495, -0.919347511432759, -0.08668077495600902, 124.0693, 42.829154760630054, -0.9123556300208255, -0.0763804150515785, 120.9571, 39.66162956296677, -0.8752134916474739, -0.08522591829456029, 9.13912355522308, 9.147177859797333, 9.1535622804405, 0, 0, 0, 0], [124.9043, 45.58866680996495, -0.919347511432759, -0.08668077495600902, 124.0693, 42.829154760630054, -0.9123556300208255, -0.0763804150515785, 120.9571, 39.66162956296677, -0.8752134916474739, -0.08522591829456029, 9.13912355522308, 9.147177859797333, 9.1535622804405, 0, 0, 0, 0], [124.9043, 45.58866680996495, -0.919347511432759, -0.08668077495600902, 124.0693, 42.829154760630054, -0.9123556300208255, -0.0763804150515785, 120.9571, 39.66162956296677, -0.8752134916474739, -0.08522591829456029, 9.13912355522308, 9.147177859797333, 9.1535622804405, 0, 0, 0, 0], [124.9043, 45.58866680996495, -0.919347511432759, -0.08668077495600902, 124.0693, 42.829154760630054, -0.9123556300208255, -0.0763804150515785, 120.9571, 39.66162956296677, -0.8752134916474739, -0.08522591829456029, 9.13912355522308, 9.147177859797333, 9.1535622804405, 0, 0, 0, 0], [124.9043, 45.58866680996495, -0.919347511432759, -0.08668077495600902, 124.0693, 42.829154760630054, -0.9123556300208255, -0.0763804150515785, 120.9571, 39.66162956296677, -0.8752134916474739, -0.08522591829456029, 9.13912355522308, 9.147177859797333, 9.1535622804405, 0, 0, 0, 0], [124.9043, 45.58866680996495, -0.919347511432759, -0.08668077495600902, 124.0693, 42.829154760630054, -0.9123556300208255, -0.0763804150515785, 120.9571, 39.66162956296677, -0.8752134916474739, -0.08522591829456029, 9.13912355522308, 9.147177859797333, 9.1535622804405, 0, 0, 0, 0], [124.9043, 45.58866680996495, -0.919347511432759, -0.08668077495600902, 124.0693, 42.829154760630054, -0.9123556300208255, -0.0763804150515785, 120.9571, 39.66162956296677, -0.8752134916474739, -0.08522591829456029, 9.13912355522308, 9.147177859797333, 9.1535622804405, 0, 0, 0, 0], [124.9043, 45.58866680996495, -0.919347511432759, -0.08668077495600902, 124.0693, 42.829154760630054, -0.9123556300208255, -0.0763804150515785, 120.9571, 39.66162956296677, -0.8752134916474739, -0.08522591829456029, 9.13912355522308, 9.147177859797333, 9.1535622804405, 0, 0, 0, 0], [124.9043, 45.58866680996495, -0.919347511432759, -0.08668077495600902, 124.0693, 42.829154760630054, -0.9123556300208255, -0.0763804150515785, 120.9571, 39.66162956296677, -0.8752134916474739, -0.08522591829456029, 9.13912355522308, 9.147177859797333, 9.1535622804405, 0, 0, 0, 0], [124.9043, 45.58866680996495, -0.919347511432759, -0.08668077495600902, 124.0693, 42.829154760630054, -0.9123556300208255, -0.0763804150515785, 120.9571, 39.66162956296677, -0.8752134916474739, -0.08522591829456029, 9.13912355522308, 9.147177859797333, 9.1535622804405, 0, 0, 0, 0], [124.9043, 45.58866680996495, -0.919347511432759, -0.08668077495600902, 124.0693, 42.829154760630054, -0.9123556300208255, -0.0763804150515785, 120.9571, 39.66162956296677, -0.8752134916474739, -0.08522591829456029, 9.13912355522308, 9.147177859797333, 9.1535622804405, 0, 0, 0, 0], [124.9043, 45.58866680996495, -0.919347511432759, -0.08668077495600902, 124.0693, 42.829154760630054, -0.9123556300208255, -0.0763804150515785, 120.9571, 39.66162956296677, -0.8752134916474739, -0.08522591829456029, 9.13912355522308, 9.147177859797333, 9.1535622804405, 0, 0, 0, 0], [124.9043, 45.58866680996495, -0.919347511432759, -0.08668077495600902, 124.0693, 42.829154760630054, -0.9123556300208255, -0.0763804150515785, 120.9571, 39.66162956296677, -0.8752134916474739, -0.08522591829456029, 9.13912355522308, 9.147177859797333, 9.1535622804405, 0, 0, 0, 0], [124.9043, 45.58866680996495, -0.919347511432759, -0.08668077495600902, 124.0693, 42.829154760630054, -0.9123556300208255, -0.0763804150515785, 120.9571, 39.66162956296677, -0.8752134916474739, -0.08522591829456029, 9.13912355522308, 9.147177859797333, 9.1535622804405, 0, 0, 0, 0], [124.9043, 45.58866680996495, -0.919347511432759, -0.08668077495600902, 124.0693, 42.829154760630054, -0.9123556300208255, -0.0763804150515785, 120.9571, 39.66162956296677, -0.8752134916474739, -0.08522591829456029, 9.13912355522308, 9.147177859797333, 9.1535622804405, 0, 0, 0, 0], [124.9043, 45.58866680996495, -0.919347511432759, -0.08668077495600902, 124.0693, 42.829154760630054, -0.9123556300208255, -0.0763804150515785, 120.9571, 39.66162956296677, -0.8752134916474739, -0.08522591829456029, 9.13912355522308, 9.147177859797333, 9.1535622804405, 0, 0, 0, 0], [124.9043, 45.58866680996495, -0.919347511432759, -0.08668077495600902, 124.0693, 42.829154760630054, -0.9123556300208255, -0.0763804150515785, 120.9571, 39.66162956296677, -0.8752134916474739, -0.08522591829456029, 9.13912355522308, 9.147177859797333, 9.1535622804405, 0, 0, 0, 0], [124.9043, 45.58866680996495, -0.919347511432759, -0.08668077495600902, 124.0693, 42.829154760630054, -0.9123556300208255, -0.0763804150515785, 120.9571, 39.66162956296677, -0.8752134916474739, -0.08522591829456029, 9.13912355522308, 9.147177859797333, 9.1535622804405, 0, 0, 0, 0], [124.9043, 45.58866680996495, -0.919347511432759, -0.08668077495600902, 124.0693, 42.829154760630054, -0.9123556300208255, -0.0763804150515785, 120.9571, 39.66162956296677, -0.8752134916474739, -0.08522591829456029, 9.13912355522308, 9.147177859797333, 9.1535622804405, 0, 0, 0, 0], [124.9043, 45.58866680996495, -0.919347511432759, -0.08668077495600902, 124.0693, 42.829154760630054, -0.9123556300208255, -0.0763804150515785, 120.9571, 39.66162956296677, -0.8752134916474739, -0.08522591829456029, 9.13912355522308, 9.147177859797333, 9.1535622804405, 0, 0, 0, 0], [124.9043, 45.58866680996495, -0.919347511432759, -0.08668077495600902, 124.0693, 42.829154760630054, -0.9123556300208255, -0.0763804150515785, 120.9571, 39.66162956296677, -0.8752134916474739, -0.08522591829456029, 9.13912355522308, 9.147177859797333, 9.1535622804405, 0, 0, 0, 0], [124.9043, 45.58866680996495, -0.919347511432759, -0.08668077495600902, 124.0693, 42.829154760630054, -0.9123556300208255, -0.0763804150515785, 120.9571, 39.66162956296677, -0.8752134916474739, -0.08522591829456029, 9.13912355522308, 9.147177859797333, 9.1535622804405, 0, 0, 0, 0], [124.9043, 45.58866680996495, -0.919347511432759, -0.08668077495600902, 124.0693, 42.829154760630054, -0.9123556300208255, -0.0763804150515785, 120.9571, 39.66162956296677, -0.8752134916474739, -0.08522591829456029, 9.13912355522308, 9.147177859797333, 9.1535622804405, 0, 0, 0, 0], [124.9043, 45.58866680996495, -0.919347511432759, -0.08668077495600902, 124.0693, 42.829154760630054, -0.9123556300208255, -0.0763804150515785, 120.9571, 39.66162956296677, -0.8752134916474739, -0.08522591829456029, 9.13912355522308, 9.147177859797333, 9.1535622804405, 0, 0, 0, 0], [124.9043, 45.58866680996495, -0.919347511432759, -0.08668077495600902, 124.0693, 42.829154760630054, -0.9123556300208255, -0.0763804150515785, 120.9571, 39.66162956296677, -0.8752134916474739, -0.08522591829456029, 9.13912355522308, 9.147177859797333, 9.1535622804405, 0, 0, 0, 0], [124.9043, 45.58866680996495, -0.919347511432759, -0.08668077495600902, 124.0693, 42.829154760630054, -0.9123556300208255, -0.0763804150515785, 120.9571, 39.66162956296677, -0.8752134916474739, -0.08522591829456029, 9.13912355522308, 9.147177859797333, 9.1535622804405, 0, 0, 0, 0], [124.9043, 45.58866680996495, -0.919347511432759, -0.08668077495600902, 124.0693, 42.829154760630054, -0.9123556300208255, -0.0763804150515785, 120.9571, 39.66162956296677, -0.8752134916474739, -0.08522591829456029, 9.13912355522308, 9.147177859797333, 9.1535622804405, 0, 0, 0, 0], [124.9043, 45.58866680996495, -0.919347511432759, -0.08668077495600902, 124.0693, 42.829154760630054, -0.9123556300208255, -0.0763804150515785, 120.9571, 39.66162956296677, -0.8752134916474739, -0.08522591829456029, 9.13912355522308, 9.147177859797333, 9.1535622804405, 0, 0, 0, 0], [124.9043, 45.58866680996495, -0.919347511432759, -0.08668077495600902, 124.0693, 42.829154760630054, -0.9123556300208255, -0.0763804150515785, 120.9571, 39.66162956296677, -0.8752134916474739, -0.08522591829456029, 9.13912355522308, 9.147177859797333, 9.1535622804405, 0, 0, 0, 0], [124.9043, 45.58866680996495, -0.919347511432759, -0.08668077495600902, 124.0693, 42.829154760630054, -0.9123556300208255, -0.0763804150515785, 120.9571, 39.66162956296677, -0.8752134916474739, -0.08522591829456029, 9.13912355522308, 9.147177859797333, 9.1535622804405, 0, 0, 0, 0], [124.9043, 45.58866680996495, -0.919347511432759, -0.08668077495600902, 124.0693, 42.829154760630054, -0.9123556300208255, -0.0763804150515785, 120.9571, 39.66162956296677, -0.8752134916474739, -0.08522591829456029, 9.13912355522308, 9.147177859797333, 9.1535622804405, 0, 0, 0, 0], [124.9043, 45.58866680996495, -0.919347511432759, -0.08668077495600902, 124.0693, 42.829154760630054, -0.9123556300208255, -0.0763804150515785, 120.9571, 39.66162956296677, -0.8752134916474739, -0.08522591829456029, 9.13912355522308, 9.147177859797333, 9.1535622804405, 0, 0, 0, 0], [124.9043, 45.58866680996495, -0.919347511432759, -0.08668077495600902, 124.0693, 42.829154760630054, -0.9123556300208255, -0.0763804150515785, 120.9571, 39.66162956296677, -0.8752134916474739, -0.08522591829456029, 9.13912355522308, 9.147177859797333, 9.1535622804405, 0, 0, 0, 0], [124.9043, 45.58866680996495, -0.919347511432759, -0.08668077495600902, 124.0693, 42.829154760630054, -0.9123556300208255, -0.0763804150515785, 120.9571, 39.66162956296677, -0.8752134916474739, -0.08522591829456029, 9.13912355522308, 9.147177859797333, 9.1535622804405, 0, 0, 0, 0], [124.9043, 45.58866680996495, -0.919347511432759, -0.08668077495600902, 124.0693, 42.829154760630054, -0.9123556300208255, -0.0763804150515785, 120.9571, 39.66162956296677, -0.8752134916474739, -0.08522591829456029, 9.13912355522308, 9.147177859797333, 9.1535622804405, 0, 0, 0, 0], [124.9043, 45.58866680996495, -0.919347511432759, -0.08668077495600902, 124.0693, 42.829154760630054, -0.9123556300208255, -0.0763804150515785, 120.9571, 39.66162956296677, -0.8752134916474739, -0.08522591829456029, 9.13912355522308, 9.147177859797333, 9.1535622804405, 0, 0, 0, 0], [124.9043, 45.58866680996495, -0.919347511432759, -0.08668077495600902, 124.0693, 42.829154760630054, -0.9123556300208255, -0.0763804150515785, 120.9571, 39.66162956296677, -0.8752134916474739, -0.08522591829456029, 9.13912355522308, 9.147177859797333, 9.1535622804405, 0, 0, 0, 0], [124.9043, 45.58866680996495, -0.919347511432759, -0.08668077495600902, 124.0693, 42.829154760630054, -0.9123556300208255, -0.0763804150515785, 120.9571, 39.66162956296677, -0.8752134916474739, -0.08522591829456029, 9.13912355522308, 9.147177859797333, 9.1535622804405, 0, 0, 0, 0], [124.9043, 45.58866680996495, -0.919347511432759, -0.08668077495600902, 124.0693, 42.829154760630054, -0.9123556300208255, -0.0763804150515785, 120.9571, 39.66162956296677, -0.8752134916474739, -0.08522591829456029, 9.13912355522308, 9.147177859797333, 9.1535622804405, 0, 0, 0, 0], [124.9043, 45.58866680996495, -0.919347511432759, -0.08668077495600902, 124.0693, 42.829154760630054, -0.9123556300208255, -0.0763804150515785, 120.9571, 39.66162956296677, -0.8752134916474739, -0.08522591829456029, 9.13912355522308, 9.147177859797333, 9.1535622804405, 0, 0, 0, 0], [124.9043, 45.58866680996495, -0.919347511432759, -0.08668077495600902, 124.0693, 42.829154760630054, -0.9123556300208255, -0.0763804150515785, 120.9571, 39.66162956296677, -0.8752134916474739, -0.08522591829456029, 9.13912355522308, 9.147177859797333, 9.1535622804405, 0, 0, 0, 0], [124.9043, 45.58866680996495, -0.919347511432759, -0.08668077495600902, 124.0693, 42.829154760630054, -0.9123556300208255, -0.0763804150515785, 120.9571, 39.66162956296677, -0.8752134916474739, -0.08522591829456029, 9.13912355522308, 9.147177859797333, 9.1535622804405, 0, 0, 0, 0], [124.9043, 45.58866680996495, -0.919347511432759, -0.08668077495600902, 124.0693, 42.829154760630054, -0.9123556300208255, -0.0763804150515785, 120.9571, 39.66162956296677, -0.8752134916474739, -0.08522591829456029, 9.13912355522308, 9.147177859797333, 9.1535622804405, 0, 0, 0, 0], [124.9043, 45.58866680996495, -0.919347511432759, -0.08668077495600902, 124.0693, 42.829154760630054, -0.9123556300208255, -0.0763804150515785, 120.9571, 39.66162956296677, -0.8752134916474739, -0.08522591829456029, 9.13912355522308, 9.147177859797333, 9.1535622804405, 0, 0, 0, 0], [124.9043, 45.58866680996495, -0.919347511432759, -0.08668077495600902, 124.0693, 42.829154760630054, -0.9123556300208255, -0.0763804150515785, 120.9571, 39.66162956296677, -0.8752134916474739, -0.08522591829456029, 9.13912355522308, 9.147177859797333, 9.1535622804405, 0, 0, 0, 0], [124.9043, 45.58866680996495, -0.919347511432759, -0.08668077495600902, 124.0693, 42.829154760630054, -0.9123556300208255, -0.0763804150515785, 120.9571, 39.66162956296677, -0.8752134916474739, -0.08522591829456029, 9.13912355522308, 9.147177859797333, 9.1535622804405, 0, 0, 0, 0], [124.9043, 45.58866680996495, -0.919347511432759, -0.08668077495600902, 124.0693, 42.829154760630054, -0.9123556300208255, -0.0763804150515785, 120.9571, 39.66162956296677, -0.8752134916474739, -0.08522591829456029, 9.13912355522308, 9.147177859797333, 9.1535622804405, 0, 0, 0, 0], [124.9043, 45.58866680996495, -0.919347511432759, -0.08668077495600902, 124.0693, 42.829154760630054, -0.9123556300208255, -0.0763804150515785, 120.9571, 39.66162956296677, -0.8752134916474739, -0.08522591829456029, 9.13912355522308, 9.147177859797333, 9.1535622804405, 0, 0, 0, 0], [124.9043, 45.58866680996495, -0.919347511432759, -0.08668077495600902, 124.0693, 42.829154760630054, -0.9123556300208255, -0.0763804150515785, 120.9571, 39.66162956296677, -0.8752134916474739, -0.08522591829456029, 9.13912355522308, 9.147177859797333, 9.1535622804405, 0, 0, 0, 0], [124.9043, 45.58866680996495, -0.919347511432759, -0.08668077495600902, 124.0693, 42.829154760630054, -0.9123556300208255, -0.0763804150515785, 120.9571, 39.66162956296677, -0.8752134916474739, -0.08522591829456029, 9.13912355522308, 9.147177859797333, 9.1535622804405, 0, 0, 0, 0], [124.9043, 45.58866680996495, -0.919347511432759, -0.08668077495600902, 124.0693, 42.829154760630054, -0.9123556300208255, -0.0763804150515785, 120.9571, 39.66162956296677, -0.8752134916474739, -0.08522591829456029, 9.13912355522308, 9.147177859797333, 9.1535622804405, 0, 0, 0, 0], [124.9043, 45.58866680996495, -0.919347511432759, -0.08668077495600902, 124.0693, 42.829154760630054, -0.9123556300208255, -0.0763804150515785, 120.9571, 39.66162956296677, -0.8752134916474739, -0.08522591829456029, 9.13912355522308, 9.147177859797333, 9.1535622804405, 0, 0, 0, 0], [124.9043, 45.58866680996495, -0.919347511432759, -0.08668077495600902, 124.0693, 42.829154760630054, -0.9123556300208255, -0.0763804150515785, 120.9571, 39.66162956296677, -0.8752134916474739, -0.08522591829456029, 9.13912355522308, 9.147177859797333, 9.1535622804405, 0, 0, 0, 0], [124.9043, 45.58866680996495, -0.919347511432759, -0.08668077495600902, 124.0693, 42.829154760630054, -0.9123556300208255, -0.0763804150515785, 120.9571, 39.66162956296677, -0.8752134916474739, -0.08522591829456029, 9.13912355522308, 9.147177859797333, 9.1535622804405, 0, 0, 0, 0], [124.9043, 45.58866680996495, -0.919347511432759, -0.08668077495600902, 124.0693, 42.829154760630054, -0.9123556300208255, -0.0763804150515785, 120.9571, 39.66162956296677, -0.8752134916474739, -0.08522591829456029, 9.13912355522308, 9.147177859797333, 9.1535622804405, 0, 0, 0, 0], [124.9043, 45.58866680996495, -0.919347511432759, -0.08668077495600902, 124.0693, 42.829154760630054, -0.9123556300208255, -0.0763804150515785, 120.9571, 39.66162956296677, -0.8752134916474739, -0.08522591829456029, 9.13912355522308, 9.147177859797333, 9.1535622804405, 0, 0, 0, 0], [124.9043, 45.58866680996495, -0.919347511432759, -0.08668077495600902, 124.0693, 42.829154760630054, -0.9123556300208255, -0.0763804150515785, 120.9571, 39.66162956296677, -0.8752134916474739, -0.08522591829456029, 9.13912355522308, 9.147177859797333, 9.1535622804405, 0, 0, 0, 0], [124.9043, 45.58866680996495, -0.919347511432759, -0.08668077495600902, 124.0693, 42.829154760630054, -0.9123556300208255, -0.0763804150515785, 120.9571, 39.66162956296677, -0.8752134916474739, -0.08522591829456029, 9.13912355522308, 9.147177859797333, 9.1535622804405, 0, 0, 0, 0], [124.9043, 45.58866680996495, -0.919347511432759, -0.08668077495600902, 124.0693, 42.829154760630054, -0.9123556300208255, -0.0763804150515785, 120.9571, 39.66162956296677, -0.8752134916474739, -0.08522591829456029, 9.13912355522308, 9.147177859797333, 9.1535622804405, 0, 0, 0, 0], [124.9043, 45.58866680996495, -0.919347511432759, -0.08668077495600902, 124.0693, 42.829154760630054, -0.9123556300208255, -0.0763804150515785, 120.9571, 39.66162956296677, -0.8752134916474739, -0.08522591829456029, 9.13912355522308, 9.147177859797333, 9.1535622804405, 0, 0, 0, 0], [124.9043, 45.58866680996495, -0.919347511432759, -0.08668077495600902, 124.0693, 42.829154760630054, -0.9123556300208255, -0.0763804150515785, 120.9571, 39.66162956296677, -0.8752134916474739, -0.08522591829456029, 9.13912355522308, 9.147177859797333, 9.1535622804405, 0, 0, 0, 0], [124.9043, 45.58866680996495, -0.919347511432759, -0.08668077495600902, 124.0693, 42.829154760630054, -0.9123556300208255, -0.0763804150515785, 120.9571, 39.66162956296677, -0.8752134916474739, -0.08522591829456029, 9.13912355522308, 9.147177859797333, 9.1535622804405, 0, 0, 0, 0], [124.9043, 45.58866680996495, -0.919347511432759, -0.08668077495600902, 124.0693, 42.829154760630054, -0.9123556300208255, -0.0763804150515785, 120.9571, 39.66162956296677, -0.8752134916474739, -0.08522591829456029, 9.13912355522308, 9.147177859797333, 9.1535622804405, 0, 0, 0, 0], [124.9043, 45.58866680996495, -0.919347511432759, -0.08668077495600902, 124.0693, 42.829154760630054, -0.9123556300208255, -0.0763804150515785, 120.9571, 39.66162956296677, -0.8752134916474739, -0.08522591829456029, 9.13912355522308, 9.147177859797333, 9.1535622804405, 0, 0, 0, 0], [124.9043, 45.58866680996495, -0.919347511432759, -0.08668077495600902, 124.0693, 42.829154760630054, -0.9123556300208255, -0.0763804150515785, 120.9571, 39.66162956296677, -0.8752134916474739, -0.08522591829456029, 9.13912355522308, 9.147177859797333, 9.1535622804405, 0, 0, 0, 0], [124.9043, 45.58866680996495, -0.919347511432759, -0.08668077495600902, 124.0693, 42.829154760630054, -0.9123556300208255, -0.0763804150515785, 120.9571, 39.66162956296677, -0.8752134916474739, -0.08522591829456029, 9.13912355522308, 9.147177859797333, 9.1535622804405, 0, 0, 0, 0], [124.9043, 45.58866680996495, -0.919347511432759, -0.08668077495600902, 124.0693, 42.829154760630054, -0.9123556300208255, -0.0763804150515785, 120.9571, 39.66162956296677, -0.8752134916474739, -0.08522591829456029, 9.13912355522308, 9.147177859797333, 9.1535622804405, 0, 0, 0, 0], [124.9043, 45.58866680996495, -0.919347511432759, -0.08668077495600902, 124.0693, 42.829154760630054, -0.9123556300208255, -0.0763804150515785, 120.9571, 39.66162956296677, -0.8752134916474739, -0.08522591829456029, 9.13912355522308, 9.147177859797333, 9.1535622804405, 0, 0, 0, 0], [124.9043, 45.58866680996495, -0.919347511432759, -0.08668077495600902, 124.0693, 42.829154760630054, -0.9123556300208255, -0.0763804150515785, 120.9571, 39.66162956296677, -0.8752134916474739, -0.08522591829456029, 9.13912355522308, 9.147177859797333, 9.1535622804405, 0, 0, 0, 0], [124.9043, 45.58866680996495, -0.919347511432759, -0.08668077495600902, 124.0693, 42.829154760630054, -0.9123556300208255, -0.0763804150515785, 120.9571, 39.66162956296677, -0.8752134916474739, -0.08522591829456029, 9.13912355522308, 9.147177859797333, 9.1535622804405, 0, 0, 0, 0], [124.9043, 45.58866680996495, -0.919347511432759, -0.08668077495600902, 124.0693, 42.829154760630054, -0.9123556300208255, -0.0763804150515785, 120.9571, 39.66162956296677, -0.8752134916474739, -0.08522591829456029, 9.13912355522308, 9.147177859797333, 9.1535622804405, 0, 0, 0, 0], [124.9043, 45.58866680996495, -0.919347511432759, -0.08668077495600902, 124.0693, 42.829154760630054, -0.9123556300208255, -0.0763804150515785, 120.9571, 39.66162956296677, -0.8752134916474739, -0.08522591829456029, 9.13912355522308, 9.147177859797333, 9.1535622804405, 0, 0, 0, 0], [124.9043, 45.58866680996495, -0.919347511432759, -0.08668077495600902, 124.0693, 42.829154760630054, -0.9123556300208255, -0.0763804150515785, 120.9571, 39.66162956296677, -0.8752134916474739, -0.08522591829456029, 9.13912355522308, 9.147177859797333, 9.1535622804405, 0, 0, 0, 0], [124.9043, 45.58866680996495, -0.919347511432759, -0.08668077495600902, 124.0693, 42.829154760630054, -0.9123556300208255, -0.0763804150515785, 120.9571, 39.66162956296677, -0.8752134916474739, -0.08522591829456029, 9.13912355522308, 9.147177859797333, 9.1535622804405, 0, 0, 0, 0], [124.9043, 45.58866680996495, -0.919347511432759, -0.08668077495600902, 124.0693, 42.829154760630054, -0.9123556300208255, -0.0763804150515785, 120.9571, 39.66162956296677, -0.8752134916474739, -0.08522591829456029, 9.13912355522308, 9.147177859797333, 9.1535622804405, 0, 0, 0, 0], [124.9043, 45.58866680996495, -0.919347511432759, -0.08668077495600902, 124.0693, 42.829154760630054, -0.9123556300208255, -0.0763804150515785, 120.9571, 39.66162956296677, -0.8752134916474739, -0.08522591829456029, 9.13912355522308, 9.147177859797333, 9.1535622804405, 0, 0, 0, 0], [124.9043, 45.58866680996495, -0.919347511432759, -0.08668077495600902, 124.0693, 42.829154760630054, -0.9123556300208255, -0.0763804150515785, 120.9571, 39.66162956296677, -0.8752134916474739, -0.08522591829456029, 9.13912355522308, 9.147177859797333, 9.1535622804405, 0, 0, 0, 0], [124.9043, 45.58866680996495, -0.919347511432759, -0.08668077495600902, 124.0693, 42.829154760630054, -0.9123556300208255, -0.0763804150515785, 120.9571, 39.66162956296677, -0.8752134916474739, -0.08522591829456029, 9.13912355522308, 9.147177859797333, 9.1535622804405, 0, 0, 0, 0], [124.9043, 45.58866680996495, -0.919347511432759, -0.08668077495600902, 124.0693, 42.829154760630054, -0.9123556300208255, -0.0763804150515785, 120.9571, 39.66162956296677, -0.8752134916474739, -0.08522591829456029, 9.13912355522308, 9.147177859797333, 9.1535622804405, 0, 0, 0, 0], [124.9043, 45.58866680996495, -0.919347511432759, -0.08668077495600902, 124.0693, 42.829154760630054, -0.9123556300208255, -0.0763804150515785, 120.9571, 39.66162956296677, -0.8752134916474739, -0.08522591829456029, 9.13912355522308, 9.147177859797333, 9.1535622804405, 0, 0, 0, 0], [124.9043, 45.58866680996495, -0.919347511432759, -0.08668077495600902, 124.0693, 42.829154760630054, -0.9123556300208255, -0.0763804150515785, 120.9571, 39.66162956296677, -0.8752134916474739, -0.08522591829456029, 9.13912355522308, 9.147177859797333, 9.1535622804405, 0, 0, 0, 0], [124.9043, 45.58866680996495, -0.919347511432759, -0.08668077495600902, 124.0693, 42.829154760630054, -0.9123556300208255, -0.0763804150515785, 120.9571, 39.66162956296677, -0.8752134916474739, -0.08522591829456029, 9.13912355522308, 9.147177859797333, 9.1535622804405, 0, 0, 0, 0], [124.9043, 45.58866680996495, -0.919347511432759, -0.08668077495600902, 124.0693, 42.829154760630054, -0.9123556300208255, -0.0763804150515785, 120.9571, 39.66162956296677, -0.8752134916474739, -0.08522591829456029, 9.13912355522308, 9.147177859797333, 9.1535622804405, 0, 0, 0, 0], [124.9043, 45.58866680996495, -0.919347511432759, -0.08668077495600902, 124.0693, 42.829154760630054, -0.9123556300208255, -0.0763804150515785, 120.9571, 39.66162956296677, -0.8752134916474739, -0.08522591829456029, 9.13912355522308, 9.147177859797333, 9.1535622804405, 0, 0, 0, 0], [124.9043, 45.58866680996495, -0.919347511432759, -0.08668077495600902, 124.0693, 42.829154760630054, -0.9123556300208255, -0.0763804150515785, 120.9571, 39.66162956296677, -0.8752134916474739, -0.08522591829456029, 9.13912355522308, 9.147177859797333, 9.1535622804405, 0, 0, 0, 0], [124.9043, 45.58866680996495, -0.919347511432759, -0.08668077495600902, 124.0693, 42.829154760630054, -0.9123556300208255, -0.0763804150515785, 120.9571, 39.66162956296677, -0.8752134916474739, -0.08522591829456029, 9.13912355522308, 9.147177859797333, 9.1535622804405, 0, 0, 0, 0], [124.9043, 45.58866680996495, -0.919347511432759, -0.08668077495600902, 124.0693, 42.829154760630054, -0.9123556300208255, -0.0763804150515785, 120.9571, 39.66162956296677, -0.8752134916474739, -0.08522591829456029, 9.13912355522308, 9.147177859797333, 9.1535622804405, 0, 0, 0, 0], [124.9043, 45.58866680996495, -0.919347511432759, -0.08668077495600902, 124.0693, 42.829154760630054, -0.9123556300208255, -0.0763804150515785, 120.9571, 39.66162956296677, -0.8752134916474739, -0.08522591829456029, 9.13912355522308, 9.147177859797333, 9.1535622804405, 0, 0, 0, 0], [124.9043, 45.58866680996495, -0.919347511432759, -0.08668077495600902, 124.0693, 42.829154760630054, -0.9123556300208255, -0.0763804150515785, 120.9571, 39.66162956296677, -0.8752134916474739, -0.08522591829456029, 9.13912355522308, 9.147177859797333, 9.1535622804405, 0, 0, 0, 0], [124.9043, 45.58866680996495, -0.919347511432759, -0.08668077495600902, 124.0693, 42.829154760630054, -0.9123556300208255, -0.0763804150515785, 120.9571, 39.66162956296677, -0.8752134916474739, -0.08522591829456029, 9.13912355522308, 9.147177859797333, 9.1535622804405, 0, 0, 0, 0], [124.9043, 45.58866680996495, -0.919347511432759, -0.08668077495600902, 124.0693, 42.829154760630054, -0.9123556300208255, -0.0763804150515785, 120.9571, 39.66162956296677, -0.8752134916474739, -0.08522591829456029, 9.13912355522308, 9.147177859797333, 9.1535622804405, 0, 0, 0, 0], [124.9043, 45.58866680996495, -0.919347511432759, -0.08668077495600902, 124.0693, 42.829154760630054, -0.9123556300208255, -0.0763804150515785, 120.9571, 39.66162956296677, -0.8752134916474739, -0.08522591829456029, 9.13912355522308, 9.147177859797333, 9.1535622804405, 0, 0, 0, 0], [124.9043, 45.58866680996495, -0.919347511432759, -0.08668077495600902, 124.0693, 42.829154760630054, -0.9123556300208255, -0.0763804150515785, 120.9571, 39.66162956296677, -0.8752134916474739, -0.08522591829456029, 9.13912355522308, 9.147177859797333, 9.1535622804405, 0, 0, 0, 0], [124.9043, 45.58866680996495, -0.919347511432759, -0.08668077495600902, 124.0693, 42.829154760630054, -0.9123556300208255, -0.0763804150515785, 120.9571, 39.66162956296677, -0.8752134916474739, -0.08522591829456029, 9.13912355522308, 9.147177859797333, 9.1535622804405, 0, 0, 0, 0], [124.9043, 45.58866680996495, -0.919347511432759, -0.08668077495600902, 124.0693, 42.829154760630054, -0.9123556300208255, -0.0763804150515785, 120.9571, 39.66162956296677, -0.8752134916474739, -0.08522591829456029, 9.13912355522308, 9.147177859797333, 9.1535622804405, 0, 0, 0, 0], [124.9043, 45.58866680996495, -0.919347511432759, -0.08668077495600902, 124.0693, 42.829154760630054, -0.9123556300208255, -0.0763804150515785, 120.9571, 39.66162956296677, -0.8752134916474739, -0.08522591829456029, 9.13912355522308, 9.147177859797333, 9.1535622804405, 0, 0, 0, 0], [124.9043, 45.58866680996495, -0.919347511432759, -0.08668077495600902, 124.0693, 42.829154760630054, -0.9123556300208255, -0.0763804150515785, 120.9571, 39.66162956296677, -0.8752134916474739, -0.08522591829456029, 9.13912355522308, 9.147177859797333, 9.1535622804405, 0, 0, 0, 0], [124.9043, 45.58866680996495, -0.919347511432759, -0.08668077495600902, 124.0693, 42.829154760630054, -0.9123556300208255, -0.0763804150515785, 120.9571, 39.66162956296677, -0.8752134916474739, -0.08522591829456029, 9.13912355522308, 9.147177859797333, 9.1535622804405, 0, 0, 0, 0], [124.9043, 45.58866680996495, -0.919347511432759, -0.08668077495600902, 124.0693, 42.829154760630054, -0.9123556300208255, -0.0763804150515785, 120.9571, 39.66162956296677, -0.8752134916474739, -0.08522591829456029, 9.13912355522308, 9.147177859797333, 9.1535622804405, 0, 0, 0, 0], [124.9043, 45.58866680996495, -0.919347511432759, -0.08668077495600902, 124.0693, 42.829154760630054, -0.9123556300208255, -0.0763804150515785, 120.9571, 39.66162956296677, -0.8752134916474739, -0.08522591829456029, 9.13912355522308, 9.147177859797333, 9.1535622804405, 0, 0, 0, 0], [124.9043, 45.58866680996495, -0.919347511432759, -0.08668077495600902, 124.0693, 42.829154760630054, -0.9123556300208255, -0.0763804150515785, 120.9571, 39.66162956296677, -0.8752134916474739, -0.08522591829456029, 9.13912355522308, 9.147177859797333, 9.1535622804405, 0, 0, 0, 0], [124.9043, 45.58866680996495, -0.919347511432759, -0.08668077495600902, 124.0693, 42.829154760630054, -0.9123556300208255, -0.0763804150515785, 120.9571, 39.66162956296677, -0.8752134916474739, -0.08522591829456029, 9.13912355522308, 9.147177859797333, 9.1535622804405, 0, 0, 0, 0], [124.9043, 45.58866680996495, -0.919347511432759, -0.08668077495600902, 124.0693, 42.829154760630054, -0.9123556300208255, -0.0763804150515785, 120.9571, 39.66162956296677, -0.8752134916474739, -0.08522591829456029, 9.13912355522308, 9.147177859797333, 9.1535622804405, 0, 0, 0, 0], [124.9043, 45.58866680996495, -0.919347511432759, -0.08668077495600902, 124.0693, 42.829154760630054, -0.9123556300208255, -0.0763804150515785, 120.9571, 39.66162956296677, -0.8752134916474739, -0.08522591829456029, 9.13912355522308, 9.147177859797333, 9.1535622804405, 0, 0, 0, 0], [124.9043, 45.58866680996495, -0.919347511432759, -0.08668077495600902, 124.0693, 42.829154760630054, -0.9123556300208255, -0.0763804150515785, 120.9571, 39.66162956296677, -0.8752134916474739, -0.08522591829456029, 9.13912355522308, 9.147177859797333, 9.1535622804405, 0, 0, 0, 0], [124.9043, 45.58866680996495, -0.919347511432759, -0.08668077495600902, 124.0693, 42.829154760630054, -0.9123556300208255, -0.0763804150515785, 120.9571, 39.66162956296677, -0.8752134916474739, -0.08522591829456029, 9.13912355522308, 9.147177859797333, 9.1535622804405, 0, 0, 0, 0], [124.9043, 45.58866680996495, -0.919347511432759, -0.08668077495600902, 124.0693, 42.829154760630054, -0.9123556300208255, -0.0763804150515785, 120.9571, 39.66162956296677, -0.8752134916474739, -0.08522591829456029, 9.13912355522308, 9.147177859797333, 9.1535622804405, 0, 0, 0, 0], [124.9043, 45.58866680996495, -0.919347511432759, -0.08668077495600902, 124.0693, 42.829154760630054, -0.9123556300208255, -0.0763804150515785, 120.9571, 39.66162956296677, -0.8752134916474739, -0.08522591829456029, 9.13912355522308, 9.147177859797333, 9.1535622804405, 0, 0, 0, 0], [124.9043, 45.58866680996495, -0.919347511432759, -0.08668077495600902, 124.0693, 42.829154760630054, -0.9123556300208255, -0.0763804150515785, 120.9571, 39.66162956296677, -0.8752134916474739, -0.08522591829456029, 9.13912355522308, 9.147177859797333, 9.1535622804405, 0, 0, 0, 0], [124.9043, 45.58866680996495, -0.919347511432759, -0.08668077495600902, 124.0693, 42.829154760630054, -0.9123556300208255, -0.0763804150515785, 120.9571, 39.66162956296677, -0.8752134916474739, -0.08522591829456029, 9.13912355522308, 9.147177859797333, 9.1535622804405, 0, 0, 0, 0], [124.9043, 45.58866680996495, -0.919347511432759, -0.08668077495600902, 124.0693, 42.829154760630054, -0.9123556300208255, -0.0763804150515785, 120.9571, 39.66162956296677, -0.8752134916474739, -0.08522591829456029, 9.13912355522308, 9.147177859797333, 9.1535622804405, 0, 0, 0, 0], [124.9043, 45.58866680996495, -0.919347511432759, -0.08668077495600902, 124.0693, 42.829154760630054, -0.9123556300208255, -0.0763804150515785, 120.9571, 39.66162956296677, -0.8752134916474739, -0.08522591829456029, 9.13912355522308, 9.147177859797333, 9.1535622804405, 0, 0, 0, 0], [124.9043, 45.58866680996495, -0.919347511432759, -0.08668077495600902, 124.0693, 42.829154760630054, -0.9123556300208255, -0.0763804150515785, 120.9571, 39.66162956296677, -0.8752134916474739, -0.08522591829456029, 9.13912355522308, 9.147177859797333, 9.1535622804405, 0, 0, 0, 0], [124.9043, 45.58866680996495, -0.919347511432759, -0.08668077495600902, 124.0693, 42.829154760630054, -0.9123556300208255, -0.0763804150515785, 120.9571, 39.66162956296677, -0.8752134916474739, -0.08522591829456029, 9.13912355522308, 9.147177859797333, 9.1535622804405, 0, 0, 0, 0], [124.9043, 45.58866680996495, -0.919347511432759, -0.08668077495600902, 124.0693, 42.829154760630054, -0.9123556300208255, -0.0763804150515785, 120.9571, 39.66162956296677, -0.8752134916474739, -0.08522591829456029, 9.13912355522308, 9.147177859797333, 9.1535622804405, 0, 0, 0, 0], [124.9043, 45.58866680996495, -0.919347511432759, -0.08668077495600902, 124.0693, 42.829154760630054, -0.9123556300208255, -0.0763804150515785, 120.9571, 39.66162956296677, -0.8752134916474739, -0.08522591829456029, 9.13912355522308, 9.147177859797333, 9.1535622804405, 0, 0, 0, 0], [124.9043, 45.58866680996495, -0.919347511432759, -0.08668077495600902, 124.0693, 42.829154760630054, -0.9123556300208255, -0.0763804150515785, 120.9571, 39.66162956296677, -0.8752134916474739, -0.08522591829456029, 9.13912355522308, 9.147177859797333, 9.1535622804405, 0, 0, 0, 0], [124.9043, 45.58866680996495, -0.919347511432759, -0.08668077495600902, 124.0693, 42.829154760630054, -0.9123556300208255, -0.0763804150515785, 120.9571, 39.66162956296677, -0.8752134916474739, -0.08522591829456029, 9.13912355522308, 9.147177859797333, 9.1535622804405, 0, 0, 0, 0], [124.9043, 45.58866680996495, -0.919347511432759, -0.08668077495600902, 124.0693, 42.829154760630054, -0.9123556300208255, -0.0763804150515785, 120.9571, 39.66162956296677, -0.8752134916474739, -0.08522591829456029, 9.13912355522308, 9.147177859797333, 9.1535622804405, 0, 0, 0, 0], [124.9043, 45.58866680996495, -0.919347511432759, -0.08668077495600902, 124.0693, 42.829154760630054, -0.9123556300208255, -0.0763804150515785, 120.9571, 39.66162956296677, -0.8752134916474739, -0.08522591829456029, 9.13912355522308, 9.147177859797333, 9.1535622804405, 0, 0, 0, 0], [124.9043, 45.58866680996495, -0.919347511432759, -0.08668077495600902, 124.0693, 42.829154760630054, -0.9123556300208255, -0.0763804150515785, 120.9571, 39.66162956296677, -0.8752134916474739, -0.08522591829456029, 9.13912355522308, 9.147177859797333, 9.1535622804405, 0, 0, 0, 0], [124.9043, 45.58866680996495, -0.919347511432759, -0.08668077495600902, 124.0693, 42.829154760630054, -0.9123556300208255, -0.0763804150515785, 120.9571, 39.66162956296677, -0.8752134916474739, -0.08522591829456029, 9.13912355522308, 9.147177859797333, 9.1535622804405, 0, 0, 0, 0], [124.9043, 45.58866680996495, -0.919347511432759, -0.08668077495600902, 124.0693, 42.829154760630054, -0.9123556300208255, -0.0763804150515785, 120.9571, 39.66162956296677, -0.8752134916474739, -0.08522591829456029, 9.13912355522308, 9.147177859797333, 9.1535622804405, 0, 0, 0, 0], [124.9043, 45.58866680996495, -0.919347511432759, -0.08668077495600902, 124.0693, 42.829154760630054, -0.9123556300208255, -0.0763804150515785, 120.9571, 39.66162956296677, -0.8752134916474739, -0.08522591829456029, 9.13912355522308, 9.147177859797333, 9.1535622804405, 0, 0, 0, 0], [124.9043, 45.58866680996495, -0.919347511432759, -0.08668077495600902, 124.0693, 42.829154760630054, -0.9123556300208255, -0.0763804150515785, 120.9571, 39.66162956296677, -0.8752134916474739, -0.08522591829456029, 9.13912355522308, 9.147177859797333, 9.1535622804405, 0, 0, 0, 0], [124.9043, 45.58866680996495, -0.919347511432759, -0.08668077495600902, 124.0693, 42.829154760630054, -0.9123556300208255, -0.0763804150515785, 120.9571, 39.66162956296677, -0.8752134916474739, -0.08522591829456029, 9.13912355522308, 9.147177859797333, 9.1535622804405, 0, 0, 0, 0], [124.9043, 45.58866680996495, -0.919347511432759, -0.08668077495600902, 124.0693, 42.829154760630054, -0.9123556300208255, -0.0763804150515785, 120.9571, 39.66162956296677, -0.8752134916474739, -0.08522591829456029, 9.13912355522308, 9.147177859797333, 9.1535622804405, 0, 0, 0, 0], [124.9043, 45.58866680996495, -0.919347511432759, -0.08668077495600902, 124.0693, 42.829154760630054, -0.9123556300208255, -0.0763804150515785, 120.9571, 39.66162956296677, -0.8752134916474739, -0.08522591829456029, 9.13912355522308, 9.147177859797333, 9.1535622804405, 0, 0, 0, 0], [124.9043, 45.58866680996495, -0.919347511432759, -0.08668077495600902, 124.0693, 42.829154760630054, -0.9123556300208255, -0.0763804150515785, 120.9571, 39.66162956296677, -0.8752134916474739, -0.08522591829456029, 9.13912355522308, 9.147177859797333, 9.1535622804405, 0, 0, 0, 0], [124.9043, 45.58866680996495, -0.919347511432759, -0.08668077495600902, 124.0693, 42.829154760630054, -0.9123556300208255, -0.0763804150515785, 120.9571, 39.66162956296677, -0.8752134916474739, -0.08522591829456029, 9.13912355522308, 9.147177859797333, 9.1535622804405, 0, 0, 0, 0], [124.9043, 45.58866680996495, -0.919347511432759, -0.08668077495600902, 124.0693, 42.829154760630054, -0.9123556300208255, -0.0763804150515785, 120.9571, 39.66162956296677, -0.8752134916474739, -0.08522591829456029, 9.13912355522308, 9.147177859797333, 9.1535622804405, 0, 0, 0, 0], [124.9043, 45.58866680996495, -0.919347511432759, -0.08668077495600902, 124.0693, 42.829154760630054, -0.9123556300208255, -0.0763804150515785, 120.9571, 39.66162956296677, -0.8752134916474739, -0.08522591829456029, 9.13912355522308, 9.147177859797333, 9.1535622804405, 0, 0, 0, 0], [124.9043, 45.58866680996495, -0.919347511432759, -0.08668077495600902, 124.0693, 42.829154760630054, -0.9123556300208255, -0.0763804150515785, 120.9571, 39.66162956296677, -0.8752134916474739, -0.08522591829456029, 9.13912355522308, 9.147177859797333, 9.1535622804405, 0, 0, 0, 0], [124.9043, 45.58866680996495, -0.919347511432759, -0.08668077495600902, 124.0693, 42.829154760630054, -0.9123556300208255, -0.0763804150515785, 120.9571, 39.66162956296677, -0.8752134916474739, -0.08522591829456029, 9.13912355522308, 9.147177859797333, 9.1535622804405, 0, 0, 0, 0], [124.9043, 45.58866680996495, -0.919347511432759, -0.08668077495600902, 124.0693, 42.829154760630054, -0.9123556300208255, -0.0763804150515785, 120.9571, 39.66162956296677, -0.8752134916474739, -0.08522591829456029, 9.13912355522308, 9.147177859797333, 9.1535622804405, 0, 0, 0, 0], [124.9043, 45.58866680996495, -0.919347511432759, -0.08668077495600902, 124.0693, 42.829154760630054, -0.9123556300208255, -0.0763804150515785, 120.9571, 39.66162956296677, -0.8752134916474739, -0.08522591829456029, 9.13912355522308, 9.147177859797333, 9.1535622804405, 0, 0, 0, 0], [124.9043, 45.58866680996495, -0.919347511432759, -0.08668077495600902, 124.0693, 42.829154760630054, -0.9123556300208255, -0.0763804150515785, 120.9571, 39.66162956296677, -0.8752134916474739, -0.08522591829456029, 9.13912355522308, 9.147177859797333, 9.1535622804405, 0, 0, 0, 0], [124.9043, 45.58866680996495, -0.919347511432759, -0.08668077495600902, 124.0693, 42.829154760630054, -0.9123556300208255, -0.0763804150515785, 120.9571, 39.66162956296677, -0.8752134916474739, -0.08522591829456029, 9.13912355522308, 9.147177859797333, 9.1535622804405, 0, 0, 0, 0], [124.9043, 45.58866680996495, -0.919347511432759, -0.08668077495600902, 124.0693, 42.829154760630054, -0.9123556300208255, -0.0763804150515785, 120.9571, 39.66162956296677, -0.8752134916474739, -0.08522591829456029, 9.13912355522308, 9.147177859797333, 9.1535622804405, 0, 0, 0, 0], [124.9043, 45.58866680996495, -0.919347511432759, -0.08668077495600902, 124.0693, 42.829154760630054, -0.9123556300208255, -0.0763804150515785, 120.9571, 39.66162956296677, -0.8752134916474739, -0.08522591829456029, 9.13912355522308, 9.147177859797333, 9.1535622804405, 0, 0, 0, 0], [124.9043, 45.58866680996495, -0.919347511432759, -0.08668077495600902, 124.0693, 42.829154760630054, -0.9123556300208255, -0.0763804150515785, 120.9571, 39.66162956296677, -0.8752134916474739, -0.08522591829456029, 9.13912355522308, 9.147177859797333, 9.1535622804405, 0, 0, 0, 0], [124.9043, 45.58866680996495, -0.919347511432759, -0.08668077495600902, 124.0693, 42.829154760630054, -0.9123556300208255, -0.0763804150515785, 120.9571, 39.66162956296677, -0.8752134916474739, -0.08522591829456029, 9.13912355522308, 9.147177859797333, 9.1535622804405, 0, 0, 0, 0], [124.9043, 45.58866680996495, -0.919347511432759, -0.08668077495600902, 124.0693, 42.829154760630054, -0.9123556300208255, -0.0763804150515785, 120.9571, 39.66162956296677, -0.8752134916474739, -0.08522591829456029, 9.13912355522308, 9.147177859797333, 9.1535622804405, 0, 0, 0, 0], [124.9043, 45.58866680996495, -0.919347511432759, -0.08668077495600902, 124.0693, 42.829154760630054, -0.9123556300208255, -0.0763804150515785, 120.9571, 39.66162956296677, -0.8752134916474739, -0.08522591829456029, 9.13912355522308, 9.147177859797333, 9.1535622804405, 0, 0, 0, 0], [124.9043, 45.58866680996495, -0.919347511432759, -0.08668077495600902, 124.0693, 42.829154760630054, -0.9123556300208255, -0.0763804150515785, 120.9571, 39.66162956296677, -0.8752134916474739, -0.08522591829456029, 9.13912355522308, 9.147177859797333, 9.1535622804405, 0, 0, 0, 0], [124.9043, 45.58866680996495, -0.919347511432759, -0.08668077495600902, 124.0693, 42.829154760630054, -0.9123556300208255, -0.0763804150515785, 120.9571, 39.66162956296677, -0.8752134916474739, -0.08522591829456029, 9.13912355522308, 9.147177859797333, 9.1535622804405, 0, 0, 0, 0], [124.9043, 45.58866680996495, -0.919347511432759, -0.08668077495600902, 124.0693, 42.829154760630054, -0.9123556300208255, -0.0763804150515785, 120.9571, 39.66162956296677, -0.8752134916474739, -0.08522591829456029, 9.13912355522308, 9.147177859797333, 9.1535622804405, 0, 0, 0, 0], [124.9043, 45.58866680996495, -0.919347511432759, -0.08668077495600902, 124.0693, 42.829154760630054, -0.9123556300208255, -0.0763804150515785, 120.9571, 39.66162956296677, -0.8752134916474739, -0.08522591829456029, 9.13912355522308, 9.147177859797333, 9.1535622804405, 0, 0, 0, 0], [124.9043, 45.58866680996495, -0.919347511432759, -0.08668077495600902, 124.0693, 42.829154760630054, -0.9123556300208255, -0.0763804150515785, 120.9571, 39.66162956296677, -0.8752134916474739, -0.08522591829456029, 9.13912355522308, 9.147177859797333, 9.1535622804405, 0, 0, 0, 0], [124.9043, 45.58866680996495, -0.919347511432759, -0.08668077495600902, 124.0693, 42.829154760630054, -0.9123556300208255, -0.0763804150515785, 120.9571, 39.66162956296677, -0.8752134916474739, -0.08522591829456029, 9.13912355522308, 9.147177859797333, 9.1535622804405, 0, 0, 0, 0], [124.9043, 45.58866680996495, -0.919347511432759, -0.08668077495600902, 124.0693, 42.829154760630054, -0.9123556300208255, -0.0763804150515785, 120.9571, 39.66162956296677, -0.8752134916474739, -0.08522591829456029, 9.13912355522308, 9.147177859797333, 9.1535622804405, 0, 0, 0, 0], [124.9043, 45.58866680996495, -0.919347511432759, -0.08668077495600902, 124.0693, 42.829154760630054, -0.9123556300208255, -0.0763804150515785, 120.9571, 39.66162956296677, -0.8752134916474739, -0.08522591829456029, 9.13912355522308, 9.147177859797333, 9.1535622804405, 0, 0, 0, 0], [124.9043, 45.58866680996495, -0.919347511432759, -0.08668077495600902, 124.0693, 42.829154760630054, -0.9123556300208255, -0.0763804150515785, 120.9571, 39.66162956296677, -0.8752134916474739, -0.08522591829456029, 9.13912355522308, 9.147177859797333, 9.1535622804405, 0, 0, 0, 0], [124.9043, 45.58866680996495, -0.919347511432759, -0.08668077495600902, 124.0693, 42.829154760630054, -0.9123556300208255, -0.0763804150515785, 120.9571, 39.66162956296677, -0.8752134916474739, -0.08522591829456029, 9.13912355522308, 9.147177859797333, 9.1535622804405, 0, 0, 0, 0], [124.9043, 45.58866680996495, -0.919347511432759, -0.08668077495600902, 124.0693, 42.829154760630054, -0.9123556300208255, -0.0763804150515785, 120.9571, 39.66162956296677, -0.8752134916474739, -0.08522591829456029, 9.13912355522308, 9.147177859797333, 9.1535622804405, 0, 0, 0, 0], [124.9043, 45.58866680996495, -0.919347511432759, -0.08668077495600902, 124.0693, 42.829154760630054, -0.9123556300208255, -0.0763804150515785, 120.9571, 39.66162956296677, -0.8752134916474739, -0.08522591829456029, 9.13912355522308, 9.147177859797333, 9.1535622804405, 0, 0, 0, 0], [124.9043, 45.58866680996495, -0.919347511432759, -0.08668077495600902, 124.0693, 42.829154760630054, -0.9123556300208255, -0.0763804150515785, 120.9571, 39.66162956296677, -0.8752134916474739, -0.08522591829456029, 9.13912355522308, 9.147177859797333, 9.1535622804405, 0, 0, 0, 0], [124.9043, 45.58866680996495, -0.919347511432759, -0.08668077495600902, 124.0693, 42.829154760630054, -0.9123556300208255, -0.0763804150515785, 120.9571, 39.66162956296677, -0.8752134916474739, -0.08522591829456029, 9.13912355522308, 9.147177859797333, 9.1535622804405, 0, 0, 0, 0], [124.9043, 45.58866680996495, -0.919347511432759, -0.08668077495600902, 124.0693, 42.829154760630054, -0.9123556300208255, -0.0763804150515785, 120.9571, 39.66162956296677, -0.8752134916474739, -0.08522591829456029, 9.13912355522308, 9.147177859797333, 9.1535622804405, 0, 0, 0, 0], [124.9043, 45.58866680996495, -0.919347511432759, -0.08668077495600902, 124.0693, 42.829154760630054, -0.9123556300208255, -0.0763804150515785, 120.9571, 39.66162956296677, -0.8752134916474739, -0.08522591829456029, 9.13912355522308, 9.147177859797333, 9.1535622804405, 0, 0, 0, 0], [124.9043, 45.58866680996495, -0.919347511432759, -0.08668077495600902, 124.0693, 42.829154760630054, -0.9123556300208255, -0.0763804150515785, 120.9571, 39.66162956296677, -0.8752134916474739, -0.08522591829456029, 9.13912355522308, 9.147177859797333, 9.1535622804405, 0, 0, 0, 0], [124.9043, 45.58866680996495, -0.919347511432759, -0.08668077495600902, 124.0693, 42.829154760630054, -0.9123556300208255, -0.0763804150515785, 120.9571, 39.66162956296677, -0.8752134916474739, -0.08522591829456029, 9.13912355522308, 9.147177859797333, 9.1535622804405, 0, 0, 0, 0], [124.9043, 45.58866680996495, -0.919347511432759, -0.08668077495600902, 124.0693, 42.829154760630054, -0.9123556300208255, -0.0763804150515785, 120.9571, 39.66162956296677, -0.8752134916474739, -0.08522591829456029, 9.13912355522308, 9.147177859797333, 9.1535622804405, 0, 0, 0, 0], [124.9043, 45.58866680996495, -0.919347511432759, -0.08668077495600902, 124.0693, 42.829154760630054, -0.9123556300208255, -0.0763804150515785, 120.9571, 39.66162956296677, -0.8752134916474739, -0.08522591829456029, 9.13912355522308, 9.147177859797333, 9.1535622804405, 0, 0, 0, 0], [124.9043, 45.58866680996495, -0.919347511432759, -0.08668077495600902, 124.0693, 42.829154760630054, -0.9123556300208255, -0.0763804150515785, 120.9571, 39.66162956296677, -0.8752134916474739, -0.08522591829456029, 9.13912355522308, 9.147177859797333, 9.1535622804405, 0, 0, 0, 0], [124.9043, 45.58866680996495, -0.919347511432759, -0.08668077495600902, 124.0693, 42.829154760630054, -0.9123556300208255, -0.0763804150515785, 120.9571, 39.66162956296677, -0.8752134916474739, -0.08522591829456029, 9.13912355522308, 9.147177859797333, 9.1535622804405, 0, 0, 0, 0], [124.9043, 45.58866680996495, -0.919347511432759, -0.08668077495600902, 124.0693, 42.829154760630054, -0.9123556300208255, -0.0763804150515785, 120.9571, 39.66162956296677, -0.8752134916474739, -0.08522591829456029, 9.13912355522308, 9.147177859797333, 9.1535622804405, 0, 0, 0, 0], [124.9043, 45.58866680996495, -0.919347511432759, -0.08668077495600902, 124.0693, 42.829154760630054, -0.9123556300208255, -0.0763804150515785, 120.9571, 39.66162956296677, -0.8752134916474739, -0.08522591829456029, 9.13912355522308, 9.147177859797333, 9.1535622804405, 0, 0, 0, 0], [124.9043, 45.58866680996495, -0.919347511432759, -0.08668077495600902, 124.0693, 42.829154760630054, -0.9123556300208255, -0.0763804150515785, 120.9571, 39.66162956296677, -0.8752134916474739, -0.08522591829456029, 9.13912355522308, 9.147177859797333, 9.1535622804405, 0, 0, 0, 0], [124.9043, 45.58866680996495, -0.919347511432759, -0.08668077495600902, 124.0693, 42.829154760630054, -0.9123556300208255, -0.0763804150515785, 120.9571, 39.66162956296677, -0.8752134916474739, -0.08522591829456029, 9.13912355522308, 9.147177859797333, 9.1535622804405, 0, 0, 0, 0], [124.9043, 45.58866680996495, -0.919347511432759, -0.08668077495600902, 124.0693, 42.829154760630054, -0.9123556300208255, -0.0763804150515785, 120.9571, 39.66162956296677, -0.8752134916474739, -0.08522591829456029, 9.13912355522308, 9.147177859797333, 9.1535622804405, 0, 0, 0, 0], [124.9043, 45.58866680996495, -0.919347511432759, -0.08668077495600902, 124.0693, 42.829154760630054, -0.9123556300208255, -0.0763804150515785, 120.9571, 39.66162956296677, -0.8752134916474739, -0.08522591829456029, 9.13912355522308, 9.147177859797333, 9.1535622804405, 0, 0, 0, 0], [124.9043, 45.58866680996495, -0.919347511432759, -0.08668077495600902, 124.0693, 42.829154760630054, -0.9123556300208255, -0.0763804150515785, 120.9571, 39.66162956296677, -0.8752134916474739, -0.08522591829456029, 9.13912355522308, 9.147177859797333, 9.1535622804405, 0, 0, 0, 0], [124.9043, 45.58866680996495, -0.919347511432759, -0.08668077495600902, 124.0693, 42.829154760630054, -0.9123556300208255, -0.0763804150515785, 120.9571, 39.66162956296677, -0.8752134916474739, -0.08522591829456029, 9.13912355522308, 9.147177859797333, 9.1535622804405, 0, 0, 0, 0], [124.9043, 45.58866680996495, -0.919347511432759, -0.08668077495600902, 124.0693, 42.829154760630054, -0.9123556300208255, -0.0763804150515785, 120.9571, 39.66162956296677, -0.8752134916474739, -0.08522591829456029, 9.13912355522308, 9.147177859797333, 9.1535622804405, 0, 0, 0, 0], [124.9043, 45.58866680996495, -0.919347511432759, -0.08668077495600902, 124.0693, 42.829154760630054, -0.9123556300208255, -0.0763804150515785, 120.9571, 39.66162956296677, -0.8752134916474739, -0.08522591829456029, 9.13912355522308, 9.147177859797333, 9.1535622804405, 0, 0, 0, 0], [124.9043, 45.58866680996495, -0.919347511432759, -0.08668077495600902, 124.0693, 42.829154760630054, -0.9123556300208255, -0.0763804150515785, 120.9571, 39.66162956296677, -0.8752134916474739, -0.08522591829456029, 9.13912355522308, 9.147177859797333, 9.1535622804405, 0, 0, 0, 0], [124.9043, 45.58866680996495, -0.919347511432759, -0.08668077495600902, 124.0693, 42.829154760630054, -0.9123556300208255, -0.0763804150515785, 120.9571, 39.66162956296677, -0.8752134916474739, -0.08522591829456029, 9.13912355522308, 9.147177859797333, 9.1535622804405, 0, 0, 0, 0], [124.9043, 45.58866680996495, -0.919347511432759, -0.08668077495600902, 124.0693, 42.829154760630054, -0.9123556300208255, -0.0763804150515785, 120.9571, 39.66162956296677, -0.8752134916474739, -0.08522591829456029, 9.13912355522308, 9.147177859797333, 9.1535622804405, 0, 0, 0, 0], [124.9043, 45.58866680996495, -0.919347511432759, -0.08668077495600902, 124.0693, 42.829154760630054, -0.9123556300208255, -0.0763804150515785, 120.9571, 39.66162956296677, -0.8752134916474739, -0.08522591829456029, 9.13912355522308, 9.147177859797333, 9.1535622804405, 0, 0, 0, 0], [124.9043, 45.58866680996495, -0.919347511432759, -0.08668077495600902, 124.0693, 42.829154760630054, -0.9123556300208255, -0.0763804150515785, 120.9571, 39.66162956296677, -0.8752134916474739, -0.08522591829456029, 9.13912355522308, 9.147177859797333, 9.1535622804405, 0, 0, 0, 0], [124.9043, 45.58866680996495, -0.919347511432759, -0.08668077495600902, 124.0693, 42.829154760630054, -0.9123556300208255, -0.0763804150515785, 120.9571, 39.66162956296677, -0.8752134916474739, -0.08522591829456029, 9.13912355522308, 9.147177859797333, 9.1535622804405, 0, 0, 0, 0], [124.9043, 45.58866680996495, -0.919347511432759, -0.08668077495600902, 124.0693, 42.829154760630054, -0.9123556300208255, -0.0763804150515785, 120.9571, 39.66162956296677, -0.8752134916474739, -0.08522591829456029, 9.13912355522308, 9.147177859797333, 9.1535622804405, 0, 0, 0, 0], [124.9043, 45.58866680996495, -0.919347511432759, -0.08668077495600902, 124.0693, 42.829154760630054, -0.9123556300208255, -0.0763804150515785, 120.9571, 39.66162956296677, -0.8752134916474739, -0.08522591829456029, 9.13912355522308, 9.147177859797333, 9.1535622804405, 0, 0, 0, 0]]\n"
          ]
        }
      ]
    },
    {
      "cell_type": "code",
      "source": [
        "y_nr = np.zeros(351)\n",
        "y_r = np.ones(349)\n",
        "\n",
        "y = np.concatenate((y_nr, y_r), axis = 0)\n",
        "print(y.shape)"
      ],
      "metadata": {
        "colab": {
          "base_uri": "https://localhost:8080/"
        },
        "id": "AeLrCGMsOGnb",
        "outputId": "631fa200-099a-45a3-b779-0a67eb262e43"
      },
      "execution_count": 203,
      "outputs": [
        {
          "output_type": "stream",
          "name": "stdout",
          "text": [
            "(700,)\n"
          ]
        }
      ]
    },
    {
      "cell_type": "code",
      "source": [
        "df = pd.DataFrame(imgprop, columns = ['mean_r','std_r','kur_r', 'skew_r','mean_g','std_g','kur_g', 'skew_g','mean_b','std_b','kur_b', 'skew_b','entropy_r', 'entropy_g', 'entropy_b','range_r', 'range_g', 'range_b', 'output'])"
      ],
      "metadata": {
        "id": "MoSVSC0bi0FY"
      },
      "execution_count": 70,
      "outputs": []
    },
    {
      "cell_type": "code",
      "source": [
        "df.head()"
      ],
      "metadata": {
        "id": "NKL73fLfi0JB",
        "outputId": "f4734446-0e92-43a1-faed-dc1d6b385134",
        "colab": {
          "base_uri": "https://localhost:8080/",
          "height": 206
        }
      },
      "execution_count": 143,
      "outputs": [
        {
          "output_type": "execute_result",
          "data": {
            "text/html": [
              "\n",
              "  <div id=\"df-c68a7a16-8e39-44ff-a1fe-875798dfea48\">\n",
              "    <div class=\"colab-df-container\">\n",
              "      <div>\n",
              "<style scoped>\n",
              "    .dataframe tbody tr th:only-of-type {\n",
              "        vertical-align: middle;\n",
              "    }\n",
              "\n",
              "    .dataframe tbody tr th {\n",
              "        vertical-align: top;\n",
              "    }\n",
              "\n",
              "    .dataframe thead th {\n",
              "        text-align: right;\n",
              "    }\n",
              "</style>\n",
              "<table border=\"1\" class=\"dataframe\">\n",
              "  <thead>\n",
              "    <tr style=\"text-align: right;\">\n",
              "      <th></th>\n",
              "      <th>mean_r</th>\n",
              "      <th>std_r</th>\n",
              "      <th>kur_r</th>\n",
              "      <th>skew_r</th>\n",
              "      <th>mean_g</th>\n",
              "      <th>std_g</th>\n",
              "      <th>kur_g</th>\n",
              "      <th>skew_g</th>\n",
              "      <th>mean_b</th>\n",
              "      <th>std_b</th>\n",
              "      <th>kur_b</th>\n",
              "      <th>skew_b</th>\n",
              "      <th>entropy_r</th>\n",
              "      <th>entropy_g</th>\n",
              "      <th>entropy_b</th>\n",
              "      <th>range_r</th>\n",
              "      <th>range_g</th>\n",
              "      <th>range_b</th>\n",
              "      <th>output</th>\n",
              "    </tr>\n",
              "  </thead>\n",
              "  <tbody>\n",
              "    <tr>\n",
              "      <th>0</th>\n",
              "      <td>142.5871</td>\n",
              "      <td>40.165871</td>\n",
              "      <td>-0.784133</td>\n",
              "      <td>-0.695581</td>\n",
              "      <td>141.5965</td>\n",
              "      <td>39.808149</td>\n",
              "      <td>-0.788184</td>\n",
              "      <td>-0.692292</td>\n",
              "      <td>140.069</td>\n",
              "      <td>38.79233</td>\n",
              "      <td>-0.762611</td>\n",
              "      <td>-0.69602</td>\n",
              "      <td>9.166303</td>\n",
              "      <td>9.166507</td>\n",
              "      <td>9.167864</td>\n",
              "      <td>0</td>\n",
              "      <td>0</td>\n",
              "      <td>0</td>\n",
              "      <td>0</td>\n",
              "    </tr>\n",
              "    <tr>\n",
              "      <th>1</th>\n",
              "      <td>142.5871</td>\n",
              "      <td>40.165871</td>\n",
              "      <td>-0.784133</td>\n",
              "      <td>-0.695581</td>\n",
              "      <td>141.5965</td>\n",
              "      <td>39.808149</td>\n",
              "      <td>-0.788184</td>\n",
              "      <td>-0.692292</td>\n",
              "      <td>140.069</td>\n",
              "      <td>38.79233</td>\n",
              "      <td>-0.762611</td>\n",
              "      <td>-0.69602</td>\n",
              "      <td>9.166303</td>\n",
              "      <td>9.166507</td>\n",
              "      <td>9.167864</td>\n",
              "      <td>0</td>\n",
              "      <td>0</td>\n",
              "      <td>0</td>\n",
              "      <td>0</td>\n",
              "    </tr>\n",
              "    <tr>\n",
              "      <th>2</th>\n",
              "      <td>142.5871</td>\n",
              "      <td>40.165871</td>\n",
              "      <td>-0.784133</td>\n",
              "      <td>-0.695581</td>\n",
              "      <td>141.5965</td>\n",
              "      <td>39.808149</td>\n",
              "      <td>-0.788184</td>\n",
              "      <td>-0.692292</td>\n",
              "      <td>140.069</td>\n",
              "      <td>38.79233</td>\n",
              "      <td>-0.762611</td>\n",
              "      <td>-0.69602</td>\n",
              "      <td>9.166303</td>\n",
              "      <td>9.166507</td>\n",
              "      <td>9.167864</td>\n",
              "      <td>0</td>\n",
              "      <td>0</td>\n",
              "      <td>0</td>\n",
              "      <td>0</td>\n",
              "    </tr>\n",
              "    <tr>\n",
              "      <th>3</th>\n",
              "      <td>142.5871</td>\n",
              "      <td>40.165871</td>\n",
              "      <td>-0.784133</td>\n",
              "      <td>-0.695581</td>\n",
              "      <td>141.5965</td>\n",
              "      <td>39.808149</td>\n",
              "      <td>-0.788184</td>\n",
              "      <td>-0.692292</td>\n",
              "      <td>140.069</td>\n",
              "      <td>38.79233</td>\n",
              "      <td>-0.762611</td>\n",
              "      <td>-0.69602</td>\n",
              "      <td>9.166303</td>\n",
              "      <td>9.166507</td>\n",
              "      <td>9.167864</td>\n",
              "      <td>0</td>\n",
              "      <td>0</td>\n",
              "      <td>0</td>\n",
              "      <td>0</td>\n",
              "    </tr>\n",
              "    <tr>\n",
              "      <th>4</th>\n",
              "      <td>142.5871</td>\n",
              "      <td>40.165871</td>\n",
              "      <td>-0.784133</td>\n",
              "      <td>-0.695581</td>\n",
              "      <td>141.5965</td>\n",
              "      <td>39.808149</td>\n",
              "      <td>-0.788184</td>\n",
              "      <td>-0.692292</td>\n",
              "      <td>140.069</td>\n",
              "      <td>38.79233</td>\n",
              "      <td>-0.762611</td>\n",
              "      <td>-0.69602</td>\n",
              "      <td>9.166303</td>\n",
              "      <td>9.166507</td>\n",
              "      <td>9.167864</td>\n",
              "      <td>0</td>\n",
              "      <td>0</td>\n",
              "      <td>0</td>\n",
              "      <td>0</td>\n",
              "    </tr>\n",
              "  </tbody>\n",
              "</table>\n",
              "</div>\n",
              "      <button class=\"colab-df-convert\" onclick=\"convertToInteractive('df-c68a7a16-8e39-44ff-a1fe-875798dfea48')\"\n",
              "              title=\"Convert this dataframe to an interactive table.\"\n",
              "              style=\"display:none;\">\n",
              "        \n",
              "  <svg xmlns=\"http://www.w3.org/2000/svg\" height=\"24px\"viewBox=\"0 0 24 24\"\n",
              "       width=\"24px\">\n",
              "    <path d=\"M0 0h24v24H0V0z\" fill=\"none\"/>\n",
              "    <path d=\"M18.56 5.44l.94 2.06.94-2.06 2.06-.94-2.06-.94-.94-2.06-.94 2.06-2.06.94zm-11 1L8.5 8.5l.94-2.06 2.06-.94-2.06-.94L8.5 2.5l-.94 2.06-2.06.94zm10 10l.94 2.06.94-2.06 2.06-.94-2.06-.94-.94-2.06-.94 2.06-2.06.94z\"/><path d=\"M17.41 7.96l-1.37-1.37c-.4-.4-.92-.59-1.43-.59-.52 0-1.04.2-1.43.59L10.3 9.45l-7.72 7.72c-.78.78-.78 2.05 0 2.83L4 21.41c.39.39.9.59 1.41.59.51 0 1.02-.2 1.41-.59l7.78-7.78 2.81-2.81c.8-.78.8-2.07 0-2.86zM5.41 20L4 18.59l7.72-7.72 1.47 1.35L5.41 20z\"/>\n",
              "  </svg>\n",
              "      </button>\n",
              "      \n",
              "  <style>\n",
              "    .colab-df-container {\n",
              "      display:flex;\n",
              "      flex-wrap:wrap;\n",
              "      gap: 12px;\n",
              "    }\n",
              "\n",
              "    .colab-df-convert {\n",
              "      background-color: #E8F0FE;\n",
              "      border: none;\n",
              "      border-radius: 50%;\n",
              "      cursor: pointer;\n",
              "      display: none;\n",
              "      fill: #1967D2;\n",
              "      height: 32px;\n",
              "      padding: 0 0 0 0;\n",
              "      width: 32px;\n",
              "    }\n",
              "\n",
              "    .colab-df-convert:hover {\n",
              "      background-color: #E2EBFA;\n",
              "      box-shadow: 0px 1px 2px rgba(60, 64, 67, 0.3), 0px 1px 3px 1px rgba(60, 64, 67, 0.15);\n",
              "      fill: #174EA6;\n",
              "    }\n",
              "\n",
              "    [theme=dark] .colab-df-convert {\n",
              "      background-color: #3B4455;\n",
              "      fill: #D2E3FC;\n",
              "    }\n",
              "\n",
              "    [theme=dark] .colab-df-convert:hover {\n",
              "      background-color: #434B5C;\n",
              "      box-shadow: 0px 1px 3px 1px rgba(0, 0, 0, 0.15);\n",
              "      filter: drop-shadow(0px 1px 2px rgba(0, 0, 0, 0.3));\n",
              "      fill: #FFFFFF;\n",
              "    }\n",
              "  </style>\n",
              "\n",
              "      <script>\n",
              "        const buttonEl =\n",
              "          document.querySelector('#df-c68a7a16-8e39-44ff-a1fe-875798dfea48 button.colab-df-convert');\n",
              "        buttonEl.style.display =\n",
              "          google.colab.kernel.accessAllowed ? 'block' : 'none';\n",
              "\n",
              "        async function convertToInteractive(key) {\n",
              "          const element = document.querySelector('#df-c68a7a16-8e39-44ff-a1fe-875798dfea48');\n",
              "          const dataTable =\n",
              "            await google.colab.kernel.invokeFunction('convertToInteractive',\n",
              "                                                     [key], {});\n",
              "          if (!dataTable) return;\n",
              "\n",
              "          const docLinkHtml = 'Like what you see? Visit the ' +\n",
              "            '<a target=\"_blank\" href=https://colab.research.google.com/notebooks/data_table.ipynb>data table notebook</a>'\n",
              "            + ' to learn more about interactive tables.';\n",
              "          element.innerHTML = '';\n",
              "          dataTable['output_type'] = 'display_data';\n",
              "          await google.colab.output.renderOutput(dataTable, element);\n",
              "          const docLink = document.createElement('div');\n",
              "          docLink.innerHTML = docLinkHtml;\n",
              "          element.appendChild(docLink);\n",
              "        }\n",
              "      </script>\n",
              "    </div>\n",
              "  </div>\n",
              "  "
            ],
            "text/plain": [
              "     mean_r      std_r     kur_r    skew_r  ...  range_r  range_g  range_b  output\n",
              "0  142.5871  40.165871 -0.784133 -0.695581  ...        0        0        0       0\n",
              "1  142.5871  40.165871 -0.784133 -0.695581  ...        0        0        0       0\n",
              "2  142.5871  40.165871 -0.784133 -0.695581  ...        0        0        0       0\n",
              "3  142.5871  40.165871 -0.784133 -0.695581  ...        0        0        0       0\n",
              "4  142.5871  40.165871 -0.784133 -0.695581  ...        0        0        0       0\n",
              "\n",
              "[5 rows x 19 columns]"
            ]
          },
          "metadata": {},
          "execution_count": 143
        }
      ]
    },
    {
      "cell_type": "code",
      "source": [
        "df_test = pd.DataFrame(imgprop_test, columns = ['mean_r','std_r','kur_r', 'skew_r','mean_g','std_g','kur_g', 'skew_g','mean_b','std_b','kur_b', 'skew_b','entropy_r', 'entropy_g', 'entropy_b','range_r', 'range_g', 'range_b', 'output'])"
      ],
      "metadata": {
        "id": "5wyNa1fe_pvt"
      },
      "execution_count": 72,
      "outputs": []
    },
    {
      "cell_type": "code",
      "source": [
        "df_test.head()"
      ],
      "metadata": {
        "colab": {
          "base_uri": "https://localhost:8080/",
          "height": 250
        },
        "id": "u-fSNhhx_vNU",
        "outputId": "b3ffffa2-84c6-4fd3-9e00-539af9af5e37"
      },
      "execution_count": 73,
      "outputs": [
        {
          "output_type": "execute_result",
          "data": {
            "text/html": [
              "\n",
              "  <div id=\"df-e2d36673-7aa5-4cda-b6c6-0aeb053ccb69\">\n",
              "    <div class=\"colab-df-container\">\n",
              "      <div>\n",
              "<style scoped>\n",
              "    .dataframe tbody tr th:only-of-type {\n",
              "        vertical-align: middle;\n",
              "    }\n",
              "\n",
              "    .dataframe tbody tr th {\n",
              "        vertical-align: top;\n",
              "    }\n",
              "\n",
              "    .dataframe thead th {\n",
              "        text-align: right;\n",
              "    }\n",
              "</style>\n",
              "<table border=\"1\" class=\"dataframe\">\n",
              "  <thead>\n",
              "    <tr style=\"text-align: right;\">\n",
              "      <th></th>\n",
              "      <th>mean_r</th>\n",
              "      <th>std_r</th>\n",
              "      <th>kur_r</th>\n",
              "      <th>skew_r</th>\n",
              "      <th>mean_g</th>\n",
              "      <th>std_g</th>\n",
              "      <th>kur_g</th>\n",
              "      <th>skew_g</th>\n",
              "      <th>mean_b</th>\n",
              "      <th>std_b</th>\n",
              "      <th>kur_b</th>\n",
              "      <th>skew_b</th>\n",
              "      <th>entropy_r</th>\n",
              "      <th>entropy_g</th>\n",
              "      <th>entropy_b</th>\n",
              "      <th>range_r</th>\n",
              "      <th>range_g</th>\n",
              "      <th>range_b</th>\n",
              "      <th>output</th>\n",
              "    </tr>\n",
              "  </thead>\n",
              "  <tbody>\n",
              "    <tr>\n",
              "      <th>0</th>\n",
              "      <td>124.9043</td>\n",
              "      <td>45.588667</td>\n",
              "      <td>-0.919348</td>\n",
              "      <td>-0.086681</td>\n",
              "      <td>124.0693</td>\n",
              "      <td>42.829155</td>\n",
              "      <td>-0.912356</td>\n",
              "      <td>-0.07638</td>\n",
              "      <td>120.9571</td>\n",
              "      <td>39.66163</td>\n",
              "      <td>-0.875213</td>\n",
              "      <td>-0.085226</td>\n",
              "      <td>9.139124</td>\n",
              "      <td>9.147178</td>\n",
              "      <td>9.153562</td>\n",
              "      <td>0</td>\n",
              "      <td>0</td>\n",
              "      <td>0</td>\n",
              "      <td>0</td>\n",
              "    </tr>\n",
              "    <tr>\n",
              "      <th>1</th>\n",
              "      <td>124.9043</td>\n",
              "      <td>45.588667</td>\n",
              "      <td>-0.919348</td>\n",
              "      <td>-0.086681</td>\n",
              "      <td>124.0693</td>\n",
              "      <td>42.829155</td>\n",
              "      <td>-0.912356</td>\n",
              "      <td>-0.07638</td>\n",
              "      <td>120.9571</td>\n",
              "      <td>39.66163</td>\n",
              "      <td>-0.875213</td>\n",
              "      <td>-0.085226</td>\n",
              "      <td>9.139124</td>\n",
              "      <td>9.147178</td>\n",
              "      <td>9.153562</td>\n",
              "      <td>0</td>\n",
              "      <td>0</td>\n",
              "      <td>0</td>\n",
              "      <td>0</td>\n",
              "    </tr>\n",
              "    <tr>\n",
              "      <th>2</th>\n",
              "      <td>124.9043</td>\n",
              "      <td>45.588667</td>\n",
              "      <td>-0.919348</td>\n",
              "      <td>-0.086681</td>\n",
              "      <td>124.0693</td>\n",
              "      <td>42.829155</td>\n",
              "      <td>-0.912356</td>\n",
              "      <td>-0.07638</td>\n",
              "      <td>120.9571</td>\n",
              "      <td>39.66163</td>\n",
              "      <td>-0.875213</td>\n",
              "      <td>-0.085226</td>\n",
              "      <td>9.139124</td>\n",
              "      <td>9.147178</td>\n",
              "      <td>9.153562</td>\n",
              "      <td>0</td>\n",
              "      <td>0</td>\n",
              "      <td>0</td>\n",
              "      <td>0</td>\n",
              "    </tr>\n",
              "    <tr>\n",
              "      <th>3</th>\n",
              "      <td>124.9043</td>\n",
              "      <td>45.588667</td>\n",
              "      <td>-0.919348</td>\n",
              "      <td>-0.086681</td>\n",
              "      <td>124.0693</td>\n",
              "      <td>42.829155</td>\n",
              "      <td>-0.912356</td>\n",
              "      <td>-0.07638</td>\n",
              "      <td>120.9571</td>\n",
              "      <td>39.66163</td>\n",
              "      <td>-0.875213</td>\n",
              "      <td>-0.085226</td>\n",
              "      <td>9.139124</td>\n",
              "      <td>9.147178</td>\n",
              "      <td>9.153562</td>\n",
              "      <td>0</td>\n",
              "      <td>0</td>\n",
              "      <td>0</td>\n",
              "      <td>0</td>\n",
              "    </tr>\n",
              "    <tr>\n",
              "      <th>4</th>\n",
              "      <td>124.9043</td>\n",
              "      <td>45.588667</td>\n",
              "      <td>-0.919348</td>\n",
              "      <td>-0.086681</td>\n",
              "      <td>124.0693</td>\n",
              "      <td>42.829155</td>\n",
              "      <td>-0.912356</td>\n",
              "      <td>-0.07638</td>\n",
              "      <td>120.9571</td>\n",
              "      <td>39.66163</td>\n",
              "      <td>-0.875213</td>\n",
              "      <td>-0.085226</td>\n",
              "      <td>9.139124</td>\n",
              "      <td>9.147178</td>\n",
              "      <td>9.153562</td>\n",
              "      <td>0</td>\n",
              "      <td>0</td>\n",
              "      <td>0</td>\n",
              "      <td>0</td>\n",
              "    </tr>\n",
              "  </tbody>\n",
              "</table>\n",
              "</div>\n",
              "      <button class=\"colab-df-convert\" onclick=\"convertToInteractive('df-e2d36673-7aa5-4cda-b6c6-0aeb053ccb69')\"\n",
              "              title=\"Convert this dataframe to an interactive table.\"\n",
              "              style=\"display:none;\">\n",
              "        \n",
              "  <svg xmlns=\"http://www.w3.org/2000/svg\" height=\"24px\"viewBox=\"0 0 24 24\"\n",
              "       width=\"24px\">\n",
              "    <path d=\"M0 0h24v24H0V0z\" fill=\"none\"/>\n",
              "    <path d=\"M18.56 5.44l.94 2.06.94-2.06 2.06-.94-2.06-.94-.94-2.06-.94 2.06-2.06.94zm-11 1L8.5 8.5l.94-2.06 2.06-.94-2.06-.94L8.5 2.5l-.94 2.06-2.06.94zm10 10l.94 2.06.94-2.06 2.06-.94-2.06-.94-.94-2.06-.94 2.06-2.06.94z\"/><path d=\"M17.41 7.96l-1.37-1.37c-.4-.4-.92-.59-1.43-.59-.52 0-1.04.2-1.43.59L10.3 9.45l-7.72 7.72c-.78.78-.78 2.05 0 2.83L4 21.41c.39.39.9.59 1.41.59.51 0 1.02-.2 1.41-.59l7.78-7.78 2.81-2.81c.8-.78.8-2.07 0-2.86zM5.41 20L4 18.59l7.72-7.72 1.47 1.35L5.41 20z\"/>\n",
              "  </svg>\n",
              "      </button>\n",
              "      \n",
              "  <style>\n",
              "    .colab-df-container {\n",
              "      display:flex;\n",
              "      flex-wrap:wrap;\n",
              "      gap: 12px;\n",
              "    }\n",
              "\n",
              "    .colab-df-convert {\n",
              "      background-color: #E8F0FE;\n",
              "      border: none;\n",
              "      border-radius: 50%;\n",
              "      cursor: pointer;\n",
              "      display: none;\n",
              "      fill: #1967D2;\n",
              "      height: 32px;\n",
              "      padding: 0 0 0 0;\n",
              "      width: 32px;\n",
              "    }\n",
              "\n",
              "    .colab-df-convert:hover {\n",
              "      background-color: #E2EBFA;\n",
              "      box-shadow: 0px 1px 2px rgba(60, 64, 67, 0.3), 0px 1px 3px 1px rgba(60, 64, 67, 0.15);\n",
              "      fill: #174EA6;\n",
              "    }\n",
              "\n",
              "    [theme=dark] .colab-df-convert {\n",
              "      background-color: #3B4455;\n",
              "      fill: #D2E3FC;\n",
              "    }\n",
              "\n",
              "    [theme=dark] .colab-df-convert:hover {\n",
              "      background-color: #434B5C;\n",
              "      box-shadow: 0px 1px 3px 1px rgba(0, 0, 0, 0.15);\n",
              "      filter: drop-shadow(0px 1px 2px rgba(0, 0, 0, 0.3));\n",
              "      fill: #FFFFFF;\n",
              "    }\n",
              "  </style>\n",
              "\n",
              "      <script>\n",
              "        const buttonEl =\n",
              "          document.querySelector('#df-e2d36673-7aa5-4cda-b6c6-0aeb053ccb69 button.colab-df-convert');\n",
              "        buttonEl.style.display =\n",
              "          google.colab.kernel.accessAllowed ? 'block' : 'none';\n",
              "\n",
              "        async function convertToInteractive(key) {\n",
              "          const element = document.querySelector('#df-e2d36673-7aa5-4cda-b6c6-0aeb053ccb69');\n",
              "          const dataTable =\n",
              "            await google.colab.kernel.invokeFunction('convertToInteractive',\n",
              "                                                     [key], {});\n",
              "          if (!dataTable) return;\n",
              "\n",
              "          const docLinkHtml = 'Like what you see? Visit the ' +\n",
              "            '<a target=\"_blank\" href=https://colab.research.google.com/notebooks/data_table.ipynb>data table notebook</a>'\n",
              "            + ' to learn more about interactive tables.';\n",
              "          element.innerHTML = '';\n",
              "          dataTable['output_type'] = 'display_data';\n",
              "          await google.colab.output.renderOutput(dataTable, element);\n",
              "          const docLink = document.createElement('div');\n",
              "          docLink.innerHTML = docLinkHtml;\n",
              "          element.appendChild(docLink);\n",
              "        }\n",
              "      </script>\n",
              "    </div>\n",
              "  </div>\n",
              "  "
            ],
            "text/plain": [
              "     mean_r      std_r     kur_r    skew_r  ...  range_r  range_g  range_b  output\n",
              "0  124.9043  45.588667 -0.919348 -0.086681  ...        0        0        0       0\n",
              "1  124.9043  45.588667 -0.919348 -0.086681  ...        0        0        0       0\n",
              "2  124.9043  45.588667 -0.919348 -0.086681  ...        0        0        0       0\n",
              "3  124.9043  45.588667 -0.919348 -0.086681  ...        0        0        0       0\n",
              "4  124.9043  45.588667 -0.919348 -0.086681  ...        0        0        0       0\n",
              "\n",
              "[5 rows x 19 columns]"
            ]
          },
          "metadata": {},
          "execution_count": 73
        }
      ]
    },
    {
      "cell_type": "code",
      "source": [
        "X_pred = df_test[['mean_r','std_r','kur_r', 'skew_r','mean_g','std_g','kur_g', 'skew_g','mean_b','std_b','kur_b', 'skew_b','entropy_r', 'entropy_g', 'entropy_b']]"
      ],
      "metadata": {
        "id": "ZlQ-_UWx_5b1"
      },
      "execution_count": 74,
      "outputs": []
    },
    {
      "cell_type": "code",
      "source": [
        "X_pred.head()"
      ],
      "metadata": {
        "colab": {
          "base_uri": "https://localhost:8080/",
          "height": 206
        },
        "id": "tkNe_FFtALpB",
        "outputId": "b6a25838-acce-4124-c8bb-7fe48d33fa7b"
      },
      "execution_count": 75,
      "outputs": [
        {
          "output_type": "execute_result",
          "data": {
            "text/html": [
              "\n",
              "  <div id=\"df-6410cd7d-acf4-410a-b65f-30858d5299de\">\n",
              "    <div class=\"colab-df-container\">\n",
              "      <div>\n",
              "<style scoped>\n",
              "    .dataframe tbody tr th:only-of-type {\n",
              "        vertical-align: middle;\n",
              "    }\n",
              "\n",
              "    .dataframe tbody tr th {\n",
              "        vertical-align: top;\n",
              "    }\n",
              "\n",
              "    .dataframe thead th {\n",
              "        text-align: right;\n",
              "    }\n",
              "</style>\n",
              "<table border=\"1\" class=\"dataframe\">\n",
              "  <thead>\n",
              "    <tr style=\"text-align: right;\">\n",
              "      <th></th>\n",
              "      <th>mean_r</th>\n",
              "      <th>std_r</th>\n",
              "      <th>kur_r</th>\n",
              "      <th>skew_r</th>\n",
              "      <th>mean_g</th>\n",
              "      <th>std_g</th>\n",
              "      <th>kur_g</th>\n",
              "      <th>skew_g</th>\n",
              "      <th>mean_b</th>\n",
              "      <th>std_b</th>\n",
              "      <th>kur_b</th>\n",
              "      <th>skew_b</th>\n",
              "      <th>entropy_r</th>\n",
              "      <th>entropy_g</th>\n",
              "      <th>entropy_b</th>\n",
              "    </tr>\n",
              "  </thead>\n",
              "  <tbody>\n",
              "    <tr>\n",
              "      <th>0</th>\n",
              "      <td>124.9043</td>\n",
              "      <td>45.588667</td>\n",
              "      <td>-0.919348</td>\n",
              "      <td>-0.086681</td>\n",
              "      <td>124.0693</td>\n",
              "      <td>42.829155</td>\n",
              "      <td>-0.912356</td>\n",
              "      <td>-0.07638</td>\n",
              "      <td>120.9571</td>\n",
              "      <td>39.66163</td>\n",
              "      <td>-0.875213</td>\n",
              "      <td>-0.085226</td>\n",
              "      <td>9.139124</td>\n",
              "      <td>9.147178</td>\n",
              "      <td>9.153562</td>\n",
              "    </tr>\n",
              "    <tr>\n",
              "      <th>1</th>\n",
              "      <td>124.9043</td>\n",
              "      <td>45.588667</td>\n",
              "      <td>-0.919348</td>\n",
              "      <td>-0.086681</td>\n",
              "      <td>124.0693</td>\n",
              "      <td>42.829155</td>\n",
              "      <td>-0.912356</td>\n",
              "      <td>-0.07638</td>\n",
              "      <td>120.9571</td>\n",
              "      <td>39.66163</td>\n",
              "      <td>-0.875213</td>\n",
              "      <td>-0.085226</td>\n",
              "      <td>9.139124</td>\n",
              "      <td>9.147178</td>\n",
              "      <td>9.153562</td>\n",
              "    </tr>\n",
              "    <tr>\n",
              "      <th>2</th>\n",
              "      <td>124.9043</td>\n",
              "      <td>45.588667</td>\n",
              "      <td>-0.919348</td>\n",
              "      <td>-0.086681</td>\n",
              "      <td>124.0693</td>\n",
              "      <td>42.829155</td>\n",
              "      <td>-0.912356</td>\n",
              "      <td>-0.07638</td>\n",
              "      <td>120.9571</td>\n",
              "      <td>39.66163</td>\n",
              "      <td>-0.875213</td>\n",
              "      <td>-0.085226</td>\n",
              "      <td>9.139124</td>\n",
              "      <td>9.147178</td>\n",
              "      <td>9.153562</td>\n",
              "    </tr>\n",
              "    <tr>\n",
              "      <th>3</th>\n",
              "      <td>124.9043</td>\n",
              "      <td>45.588667</td>\n",
              "      <td>-0.919348</td>\n",
              "      <td>-0.086681</td>\n",
              "      <td>124.0693</td>\n",
              "      <td>42.829155</td>\n",
              "      <td>-0.912356</td>\n",
              "      <td>-0.07638</td>\n",
              "      <td>120.9571</td>\n",
              "      <td>39.66163</td>\n",
              "      <td>-0.875213</td>\n",
              "      <td>-0.085226</td>\n",
              "      <td>9.139124</td>\n",
              "      <td>9.147178</td>\n",
              "      <td>9.153562</td>\n",
              "    </tr>\n",
              "    <tr>\n",
              "      <th>4</th>\n",
              "      <td>124.9043</td>\n",
              "      <td>45.588667</td>\n",
              "      <td>-0.919348</td>\n",
              "      <td>-0.086681</td>\n",
              "      <td>124.0693</td>\n",
              "      <td>42.829155</td>\n",
              "      <td>-0.912356</td>\n",
              "      <td>-0.07638</td>\n",
              "      <td>120.9571</td>\n",
              "      <td>39.66163</td>\n",
              "      <td>-0.875213</td>\n",
              "      <td>-0.085226</td>\n",
              "      <td>9.139124</td>\n",
              "      <td>9.147178</td>\n",
              "      <td>9.153562</td>\n",
              "    </tr>\n",
              "  </tbody>\n",
              "</table>\n",
              "</div>\n",
              "      <button class=\"colab-df-convert\" onclick=\"convertToInteractive('df-6410cd7d-acf4-410a-b65f-30858d5299de')\"\n",
              "              title=\"Convert this dataframe to an interactive table.\"\n",
              "              style=\"display:none;\">\n",
              "        \n",
              "  <svg xmlns=\"http://www.w3.org/2000/svg\" height=\"24px\"viewBox=\"0 0 24 24\"\n",
              "       width=\"24px\">\n",
              "    <path d=\"M0 0h24v24H0V0z\" fill=\"none\"/>\n",
              "    <path d=\"M18.56 5.44l.94 2.06.94-2.06 2.06-.94-2.06-.94-.94-2.06-.94 2.06-2.06.94zm-11 1L8.5 8.5l.94-2.06 2.06-.94-2.06-.94L8.5 2.5l-.94 2.06-2.06.94zm10 10l.94 2.06.94-2.06 2.06-.94-2.06-.94-.94-2.06-.94 2.06-2.06.94z\"/><path d=\"M17.41 7.96l-1.37-1.37c-.4-.4-.92-.59-1.43-.59-.52 0-1.04.2-1.43.59L10.3 9.45l-7.72 7.72c-.78.78-.78 2.05 0 2.83L4 21.41c.39.39.9.59 1.41.59.51 0 1.02-.2 1.41-.59l7.78-7.78 2.81-2.81c.8-.78.8-2.07 0-2.86zM5.41 20L4 18.59l7.72-7.72 1.47 1.35L5.41 20z\"/>\n",
              "  </svg>\n",
              "      </button>\n",
              "      \n",
              "  <style>\n",
              "    .colab-df-container {\n",
              "      display:flex;\n",
              "      flex-wrap:wrap;\n",
              "      gap: 12px;\n",
              "    }\n",
              "\n",
              "    .colab-df-convert {\n",
              "      background-color: #E8F0FE;\n",
              "      border: none;\n",
              "      border-radius: 50%;\n",
              "      cursor: pointer;\n",
              "      display: none;\n",
              "      fill: #1967D2;\n",
              "      height: 32px;\n",
              "      padding: 0 0 0 0;\n",
              "      width: 32px;\n",
              "    }\n",
              "\n",
              "    .colab-df-convert:hover {\n",
              "      background-color: #E2EBFA;\n",
              "      box-shadow: 0px 1px 2px rgba(60, 64, 67, 0.3), 0px 1px 3px 1px rgba(60, 64, 67, 0.15);\n",
              "      fill: #174EA6;\n",
              "    }\n",
              "\n",
              "    [theme=dark] .colab-df-convert {\n",
              "      background-color: #3B4455;\n",
              "      fill: #D2E3FC;\n",
              "    }\n",
              "\n",
              "    [theme=dark] .colab-df-convert:hover {\n",
              "      background-color: #434B5C;\n",
              "      box-shadow: 0px 1px 3px 1px rgba(0, 0, 0, 0.15);\n",
              "      filter: drop-shadow(0px 1px 2px rgba(0, 0, 0, 0.3));\n",
              "      fill: #FFFFFF;\n",
              "    }\n",
              "  </style>\n",
              "\n",
              "      <script>\n",
              "        const buttonEl =\n",
              "          document.querySelector('#df-6410cd7d-acf4-410a-b65f-30858d5299de button.colab-df-convert');\n",
              "        buttonEl.style.display =\n",
              "          google.colab.kernel.accessAllowed ? 'block' : 'none';\n",
              "\n",
              "        async function convertToInteractive(key) {\n",
              "          const element = document.querySelector('#df-6410cd7d-acf4-410a-b65f-30858d5299de');\n",
              "          const dataTable =\n",
              "            await google.colab.kernel.invokeFunction('convertToInteractive',\n",
              "                                                     [key], {});\n",
              "          if (!dataTable) return;\n",
              "\n",
              "          const docLinkHtml = 'Like what you see? Visit the ' +\n",
              "            '<a target=\"_blank\" href=https://colab.research.google.com/notebooks/data_table.ipynb>data table notebook</a>'\n",
              "            + ' to learn more about interactive tables.';\n",
              "          element.innerHTML = '';\n",
              "          dataTable['output_type'] = 'display_data';\n",
              "          await google.colab.output.renderOutput(dataTable, element);\n",
              "          const docLink = document.createElement('div');\n",
              "          docLink.innerHTML = docLinkHtml;\n",
              "          element.appendChild(docLink);\n",
              "        }\n",
              "      </script>\n",
              "    </div>\n",
              "  </div>\n",
              "  "
            ],
            "text/plain": [
              "     mean_r      std_r     kur_r  ...  entropy_r  entropy_g  entropy_b\n",
              "0  124.9043  45.588667 -0.919348  ...   9.139124   9.147178   9.153562\n",
              "1  124.9043  45.588667 -0.919348  ...   9.139124   9.147178   9.153562\n",
              "2  124.9043  45.588667 -0.919348  ...   9.139124   9.147178   9.153562\n",
              "3  124.9043  45.588667 -0.919348  ...   9.139124   9.147178   9.153562\n",
              "4  124.9043  45.588667 -0.919348  ...   9.139124   9.147178   9.153562\n",
              "\n",
              "[5 rows x 15 columns]"
            ]
          },
          "metadata": {},
          "execution_count": 75
        }
      ]
    },
    {
      "cell_type": "code",
      "source": [
        "X_pred = np.array(imgprop_test)"
      ],
      "metadata": {
        "id": "PX1vmP1VATsO"
      },
      "execution_count": 257,
      "outputs": []
    },
    {
      "cell_type": "code",
      "source": [
        "len(imgprop_test)"
      ],
      "metadata": {
        "colab": {
          "base_uri": "https://localhost:8080/"
        },
        "id": "0KoCn0f2TfGa",
        "outputId": "f377a696-bad6-45fe-f43d-333cca0e552a"
      },
      "execution_count": 258,
      "outputs": [
        {
          "output_type": "execute_result",
          "data": {
            "text/plain": [
              "300"
            ]
          },
          "metadata": {},
          "execution_count": 258
        }
      ]
    },
    {
      "cell_type": "code",
      "source": [
        "X_pred"
      ],
      "metadata": {
        "colab": {
          "base_uri": "https://localhost:8080/"
        },
        "id": "iImhL89GAdWg",
        "outputId": "83f6b463-0286-49a6-c027-cadca33ca4c1"
      },
      "execution_count": 259,
      "outputs": [
        {
          "output_type": "execute_result",
          "data": {
            "text/plain": [
              "array([[ 1.22803000e+02,  4.40175555e+01, -1.02285405e-01, ...,\n",
              "         9.14506030e+00,  9.13944678e+00,  9.13730015e+00],\n",
              "       [ 1.40251700e+02,  3.40239525e+01, -9.09163116e-01, ...,\n",
              "         9.17972271e+00,  9.18450009e+00,  9.18680675e+00],\n",
              "       [ 1.19094800e+02,  2.86761611e+01,  6.30627138e-01, ...,\n",
              "         9.18259893e+00,  9.17959417e+00,  9.18106373e+00],\n",
              "       ...,\n",
              "       [ 1.15458700e+02,  3.72116177e+01, -1.19692485e+00, ...,\n",
              "         9.15708730e+00,  9.17015979e+00,  9.17847898e+00],\n",
              "       [ 2.00243900e+02,  2.65784351e+01,  8.28827027e-01, ...,\n",
              "         9.20108939e+00,  9.19922634e+00,  9.19763043e+00],\n",
              "       [ 1.24904300e+02,  4.55886668e+01, -9.19347511e-01, ...,\n",
              "         9.13912356e+00,  9.14717786e+00,  9.15356228e+00]])"
            ]
          },
          "metadata": {},
          "execution_count": 259
        }
      ]
    },
    {
      "cell_type": "code",
      "source": [
        "# X = df[['mean_r','std_r','kur_r', 'skew_r','mean_g','std_g','kur_g', 'skew_g','mean_b','std_b','kur_b', 'skew_b','entropy_r', 'entropy_g', 'entropy_b']]\n",
        "# X = np.array(X)"
      ],
      "metadata": {
        "id": "4c9dE1Z4i0Mb"
      },
      "execution_count": 260,
      "outputs": []
    },
    {
      "cell_type": "code",
      "source": [
        "X = imgprop"
      ],
      "metadata": {
        "id": "JprLKFU0OmoJ"
      },
      "execution_count": 261,
      "outputs": []
    },
    {
      "cell_type": "code",
      "source": [
        "#len(df['kur_r'][0])\n",
        "perms = np.random.permutation(700)"
      ],
      "metadata": {
        "id": "VV6dbYPRN6zq"
      },
      "execution_count": 262,
      "outputs": []
    },
    {
      "cell_type": "code",
      "source": [
        "# y = df['output']\n",
        "y = np.array(y)"
      ],
      "metadata": {
        "id": "WwEwaraii0Pu"
      },
      "execution_count": 206,
      "outputs": []
    },
    {
      "cell_type": "code",
      "source": [
        "X = X[perms]\n",
        "y = y[perms]"
      ],
      "metadata": {
        "id": "CDYC9yQZfFT3"
      },
      "execution_count": 207,
      "outputs": []
    },
    {
      "cell_type": "code",
      "source": [
        "y = tf.keras.utils.to_categorical(y)"
      ],
      "metadata": {
        "id": "aBVUh1SGPxYV"
      },
      "execution_count": 208,
      "outputs": []
    },
    {
      "cell_type": "code",
      "source": [
        "y"
      ],
      "metadata": {
        "colab": {
          "base_uri": "https://localhost:8080/"
        },
        "id": "FcvA65igPeHn",
        "outputId": "9d48f4a8-c533-43f5-ef53-9349a5fb684d"
      },
      "execution_count": 209,
      "outputs": [
        {
          "output_type": "execute_result",
          "data": {
            "text/plain": [
              "array([[1., 0.],\n",
              "       [0., 1.],\n",
              "       [1., 0.],\n",
              "       ...,\n",
              "       [0., 1.],\n",
              "       [1., 0.],\n",
              "       [0., 1.]], dtype=float32)"
            ]
          },
          "metadata": {},
          "execution_count": 209
        }
      ]
    },
    {
      "cell_type": "code",
      "source": [
        "X_train, X_test, y_train, y_test = train_test_split(X, y, test_size=0.20, random_state=42)"
      ],
      "metadata": {
        "id": "kxd3EDgybaX-"
      },
      "execution_count": 210,
      "outputs": []
    },
    {
      "cell_type": "code",
      "source": [
        ""
      ],
      "metadata": {
        "id": "-GGzjs8pbaba"
      },
      "execution_count": 210,
      "outputs": []
    },
    {
      "cell_type": "code",
      "source": [
        ""
      ],
      "metadata": {
        "id": "t4vohse1basH"
      },
      "execution_count": 210,
      "outputs": []
    },
    {
      "cell_type": "code",
      "source": [
        "import tensorflow as tf\n",
        "import numpy as np\n",
        "from tensorflow.keras.models import Sequential\n",
        "from tensorflow.keras import layers\n",
        "from tensorflow.keras.layers import Activation\n",
        "import matplotlib.pyplot as plt"
      ],
      "metadata": {
        "id": "wlFYKQcrluJQ"
      },
      "execution_count": 345,
      "outputs": []
    },
    {
      "cell_type": "code",
      "source": [
        "input_shape = [X_train.shape[1]]"
      ],
      "metadata": {
        "id": "-03R8ipGc6p7"
      },
      "execution_count": 346,
      "outputs": []
    },
    {
      "cell_type": "code",
      "source": [
        "model = keras.Sequential([\n",
        "    layers.BatchNormalization(input_shape=input_shape),\n",
        "    layers.Dense(16, activation='relu'),\n",
        "    layers.Dropout(0.2),\n",
        "    layers.BatchNormalization(),\n",
        "    layers.Dense(8, activation='relu'),\n",
        "    layers.Dropout(0.2),\n",
        "    layers.BatchNormalization(),\n",
        "    layers.Dense(2, activation = 'sigmoid'),\n",
        "])"
      ],
      "metadata": {
        "id": "Nu1L4srlcfBy"
      },
      "execution_count": 381,
      "outputs": []
    },
    {
      "cell_type": "code",
      "source": [
        "opt = keras.optimizers.Adam(learning_rate=0.001)\n",
        "\n",
        "loss_fn = keras.losses.BinaryCrossentropy()\n",
        "model.compile(\n",
        "    optimizer=opt,\n",
        "    loss=loss_fn,\n",
        "    metrics=['accuracy']\n",
        ")"
      ],
      "metadata": {
        "id": "QjmclLGicfFF"
      },
      "execution_count": 382,
      "outputs": []
    },
    {
      "cell_type": "code",
      "source": [
        "epochs = 500\n",
        "history = model.fit(\n",
        "    X_train, y_train,\n",
        "    validation_split=0.1,\n",
        "    batch_size=16,  \n",
        "    epochs=epochs,\n",
        "    verbose=1,\n",
        "    #validation_data=(X_test, y_test)\n",
        ")\n",
        "\n",
        "history_df = pd.DataFrame(history.history)\n",
        "history_df.loc[0:, ['loss', 'val_loss']].plot()\n",
        "print((\"Minimum Validation Loss: {:0.4f}\").format(history_df['val_loss'].min()))"
      ],
      "metadata": {
        "id": "yZNGzHQFcfHz",
        "outputId": "e12a001d-f026-448a-a306-9d75736f268e",
        "colab": {
          "base_uri": "https://localhost:8080/",
          "height": 1000
        }
      },
      "execution_count": 384,
      "outputs": [
        {
          "output_type": "stream",
          "name": "stdout",
          "text": [
            "Epoch 1/500\n",
            "32/32 [==============================] - 0s 3ms/step - loss: 0.5447 - accuracy: 0.7599 - val_loss: 0.5129 - val_accuracy: 0.8214\n",
            "Epoch 2/500\n",
            "32/32 [==============================] - 0s 4ms/step - loss: 0.5386 - accuracy: 0.7540 - val_loss: 0.5096 - val_accuracy: 0.8036\n",
            "Epoch 3/500\n",
            "32/32 [==============================] - 0s 3ms/step - loss: 0.5293 - accuracy: 0.7758 - val_loss: 0.5051 - val_accuracy: 0.8036\n",
            "Epoch 4/500\n",
            "32/32 [==============================] - 0s 3ms/step - loss: 0.5292 - accuracy: 0.7599 - val_loss: 0.5088 - val_accuracy: 0.7679\n",
            "Epoch 5/500\n",
            "32/32 [==============================] - 0s 4ms/step - loss: 0.5440 - accuracy: 0.7579 - val_loss: 0.5089 - val_accuracy: 0.7679\n",
            "Epoch 6/500\n",
            "32/32 [==============================] - 0s 3ms/step - loss: 0.4961 - accuracy: 0.7738 - val_loss: 0.5122 - val_accuracy: 0.7321\n",
            "Epoch 7/500\n",
            "32/32 [==============================] - 0s 4ms/step - loss: 0.5304 - accuracy: 0.7520 - val_loss: 0.5186 - val_accuracy: 0.7321\n",
            "Epoch 8/500\n",
            "32/32 [==============================] - 0s 3ms/step - loss: 0.5424 - accuracy: 0.7460 - val_loss: 0.5188 - val_accuracy: 0.7321\n",
            "Epoch 9/500\n",
            "32/32 [==============================] - 0s 4ms/step - loss: 0.5156 - accuracy: 0.7679 - val_loss: 0.5133 - val_accuracy: 0.7321\n",
            "Epoch 10/500\n",
            "32/32 [==============================] - 0s 3ms/step - loss: 0.4984 - accuracy: 0.7540 - val_loss: 0.5156 - val_accuracy: 0.7143\n",
            "Epoch 11/500\n",
            "32/32 [==============================] - 0s 4ms/step - loss: 0.4894 - accuracy: 0.7857 - val_loss: 0.5123 - val_accuracy: 0.7143\n",
            "Epoch 12/500\n",
            "32/32 [==============================] - 0s 3ms/step - loss: 0.5037 - accuracy: 0.7817 - val_loss: 0.5102 - val_accuracy: 0.6964\n",
            "Epoch 13/500\n",
            "32/32 [==============================] - 0s 3ms/step - loss: 0.5078 - accuracy: 0.7619 - val_loss: 0.5114 - val_accuracy: 0.7321\n",
            "Epoch 14/500\n",
            "32/32 [==============================] - 0s 4ms/step - loss: 0.4921 - accuracy: 0.7817 - val_loss: 0.5071 - val_accuracy: 0.7143\n",
            "Epoch 15/500\n",
            "32/32 [==============================] - 0s 4ms/step - loss: 0.4868 - accuracy: 0.7659 - val_loss: 0.5083 - val_accuracy: 0.7143\n",
            "Epoch 16/500\n",
            "32/32 [==============================] - 0s 3ms/step - loss: 0.4900 - accuracy: 0.7679 - val_loss: 0.5016 - val_accuracy: 0.7143\n",
            "Epoch 17/500\n",
            "32/32 [==============================] - 0s 3ms/step - loss: 0.5038 - accuracy: 0.7679 - val_loss: 0.4916 - val_accuracy: 0.7143\n",
            "Epoch 18/500\n",
            "32/32 [==============================] - 0s 3ms/step - loss: 0.4864 - accuracy: 0.7698 - val_loss: 0.4911 - val_accuracy: 0.7143\n",
            "Epoch 19/500\n",
            "32/32 [==============================] - 0s 3ms/step - loss: 0.5082 - accuracy: 0.7599 - val_loss: 0.4931 - val_accuracy: 0.7143\n",
            "Epoch 20/500\n",
            "32/32 [==============================] - 0s 4ms/step - loss: 0.4909 - accuracy: 0.7817 - val_loss: 0.4980 - val_accuracy: 0.7143\n",
            "Epoch 21/500\n",
            "32/32 [==============================] - 0s 3ms/step - loss: 0.4995 - accuracy: 0.7599 - val_loss: 0.5018 - val_accuracy: 0.7143\n",
            "Epoch 22/500\n",
            "32/32 [==============================] - 0s 4ms/step - loss: 0.4947 - accuracy: 0.7718 - val_loss: 0.4958 - val_accuracy: 0.7143\n",
            "Epoch 23/500\n",
            "32/32 [==============================] - 0s 3ms/step - loss: 0.4677 - accuracy: 0.7956 - val_loss: 0.4982 - val_accuracy: 0.7143\n",
            "Epoch 24/500\n",
            "32/32 [==============================] - 0s 3ms/step - loss: 0.4750 - accuracy: 0.7937 - val_loss: 0.5010 - val_accuracy: 0.6964\n",
            "Epoch 25/500\n",
            "32/32 [==============================] - 0s 3ms/step - loss: 0.4833 - accuracy: 0.7698 - val_loss: 0.5030 - val_accuracy: 0.6964\n",
            "Epoch 26/500\n",
            "32/32 [==============================] - 0s 3ms/step - loss: 0.4753 - accuracy: 0.7897 - val_loss: 0.5038 - val_accuracy: 0.6964\n",
            "Epoch 27/500\n",
            "32/32 [==============================] - 0s 3ms/step - loss: 0.4532 - accuracy: 0.7897 - val_loss: 0.5115 - val_accuracy: 0.7143\n",
            "Epoch 28/500\n",
            "32/32 [==============================] - 0s 3ms/step - loss: 0.4798 - accuracy: 0.7857 - val_loss: 0.5119 - val_accuracy: 0.7143\n",
            "Epoch 29/500\n",
            "32/32 [==============================] - 0s 4ms/step - loss: 0.4555 - accuracy: 0.8036 - val_loss: 0.5005 - val_accuracy: 0.7143\n",
            "Epoch 30/500\n",
            "32/32 [==============================] - 0s 3ms/step - loss: 0.4570 - accuracy: 0.7996 - val_loss: 0.5017 - val_accuracy: 0.7143\n",
            "Epoch 31/500\n",
            "32/32 [==============================] - 0s 3ms/step - loss: 0.4640 - accuracy: 0.7917 - val_loss: 0.5023 - val_accuracy: 0.7143\n",
            "Epoch 32/500\n",
            "32/32 [==============================] - 0s 3ms/step - loss: 0.4614 - accuracy: 0.7877 - val_loss: 0.5031 - val_accuracy: 0.7321\n",
            "Epoch 33/500\n",
            "32/32 [==============================] - 0s 3ms/step - loss: 0.4310 - accuracy: 0.8095 - val_loss: 0.5049 - val_accuracy: 0.7143\n",
            "Epoch 34/500\n",
            "32/32 [==============================] - 0s 3ms/step - loss: 0.4372 - accuracy: 0.7976 - val_loss: 0.4951 - val_accuracy: 0.7143\n",
            "Epoch 35/500\n",
            "32/32 [==============================] - 0s 3ms/step - loss: 0.4334 - accuracy: 0.7996 - val_loss: 0.4794 - val_accuracy: 0.7321\n",
            "Epoch 36/500\n",
            "32/32 [==============================] - 0s 3ms/step - loss: 0.4469 - accuracy: 0.7996 - val_loss: 0.4715 - val_accuracy: 0.7500\n",
            "Epoch 37/500\n",
            "32/32 [==============================] - 0s 3ms/step - loss: 0.4316 - accuracy: 0.8095 - val_loss: 0.4846 - val_accuracy: 0.7321\n",
            "Epoch 38/500\n",
            "32/32 [==============================] - 0s 4ms/step - loss: 0.4502 - accuracy: 0.8036 - val_loss: 0.4751 - val_accuracy: 0.7679\n",
            "Epoch 39/500\n",
            "32/32 [==============================] - 0s 3ms/step - loss: 0.4515 - accuracy: 0.8036 - val_loss: 0.4714 - val_accuracy: 0.7679\n",
            "Epoch 40/500\n",
            "32/32 [==============================] - 0s 4ms/step - loss: 0.4353 - accuracy: 0.8115 - val_loss: 0.4692 - val_accuracy: 0.7679\n",
            "Epoch 41/500\n",
            "32/32 [==============================] - 0s 4ms/step - loss: 0.4505 - accuracy: 0.8016 - val_loss: 0.4646 - val_accuracy: 0.7679\n",
            "Epoch 42/500\n",
            "32/32 [==============================] - 0s 4ms/step - loss: 0.4087 - accuracy: 0.8135 - val_loss: 0.4561 - val_accuracy: 0.7679\n",
            "Epoch 43/500\n",
            "32/32 [==============================] - 0s 3ms/step - loss: 0.4460 - accuracy: 0.7897 - val_loss: 0.4465 - val_accuracy: 0.7857\n",
            "Epoch 44/500\n",
            "32/32 [==============================] - 0s 4ms/step - loss: 0.4569 - accuracy: 0.7917 - val_loss: 0.4552 - val_accuracy: 0.7500\n",
            "Epoch 45/500\n",
            "32/32 [==============================] - 0s 4ms/step - loss: 0.4298 - accuracy: 0.8115 - val_loss: 0.4592 - val_accuracy: 0.7679\n",
            "Epoch 46/500\n",
            "32/32 [==============================] - 0s 3ms/step - loss: 0.3939 - accuracy: 0.8393 - val_loss: 0.4409 - val_accuracy: 0.8036\n",
            "Epoch 47/500\n",
            "32/32 [==============================] - 0s 3ms/step - loss: 0.4031 - accuracy: 0.8175 - val_loss: 0.4301 - val_accuracy: 0.8214\n",
            "Epoch 48/500\n",
            "32/32 [==============================] - 0s 4ms/step - loss: 0.4242 - accuracy: 0.8353 - val_loss: 0.4212 - val_accuracy: 0.8214\n",
            "Epoch 49/500\n",
            "32/32 [==============================] - 0s 4ms/step - loss: 0.4311 - accuracy: 0.8135 - val_loss: 0.4150 - val_accuracy: 0.8036\n",
            "Epoch 50/500\n",
            "32/32 [==============================] - 0s 3ms/step - loss: 0.4285 - accuracy: 0.8294 - val_loss: 0.4260 - val_accuracy: 0.8036\n",
            "Epoch 51/500\n",
            "32/32 [==============================] - 0s 3ms/step - loss: 0.4152 - accuracy: 0.8016 - val_loss: 0.4265 - val_accuracy: 0.8036\n",
            "Epoch 52/500\n",
            "32/32 [==============================] - 0s 4ms/step - loss: 0.4281 - accuracy: 0.8056 - val_loss: 0.4287 - val_accuracy: 0.8036\n",
            "Epoch 53/500\n",
            "32/32 [==============================] - 0s 3ms/step - loss: 0.3971 - accuracy: 0.8333 - val_loss: 0.4306 - val_accuracy: 0.8036\n",
            "Epoch 54/500\n",
            "32/32 [==============================] - 0s 3ms/step - loss: 0.4050 - accuracy: 0.8194 - val_loss: 0.4205 - val_accuracy: 0.8036\n",
            "Epoch 55/500\n",
            "32/32 [==============================] - 0s 3ms/step - loss: 0.4245 - accuracy: 0.8214 - val_loss: 0.4177 - val_accuracy: 0.7857\n",
            "Epoch 56/500\n",
            "32/32 [==============================] - 0s 3ms/step - loss: 0.3935 - accuracy: 0.8393 - val_loss: 0.4003 - val_accuracy: 0.8036\n",
            "Epoch 57/500\n",
            "32/32 [==============================] - 0s 4ms/step - loss: 0.3929 - accuracy: 0.8155 - val_loss: 0.4079 - val_accuracy: 0.8214\n",
            "Epoch 58/500\n",
            "32/32 [==============================] - 0s 4ms/step - loss: 0.3890 - accuracy: 0.8313 - val_loss: 0.4012 - val_accuracy: 0.8214\n",
            "Epoch 59/500\n",
            "32/32 [==============================] - 0s 3ms/step - loss: 0.4134 - accuracy: 0.8036 - val_loss: 0.4018 - val_accuracy: 0.8393\n",
            "Epoch 60/500\n",
            "32/32 [==============================] - 0s 3ms/step - loss: 0.4342 - accuracy: 0.8095 - val_loss: 0.4091 - val_accuracy: 0.8036\n",
            "Epoch 61/500\n",
            "32/32 [==============================] - 0s 4ms/step - loss: 0.3941 - accuracy: 0.8313 - val_loss: 0.4098 - val_accuracy: 0.7679\n",
            "Epoch 62/500\n",
            "32/32 [==============================] - 0s 3ms/step - loss: 0.4177 - accuracy: 0.8214 - val_loss: 0.3931 - val_accuracy: 0.8036\n",
            "Epoch 63/500\n",
            "32/32 [==============================] - 0s 3ms/step - loss: 0.3847 - accuracy: 0.8333 - val_loss: 0.3913 - val_accuracy: 0.8393\n",
            "Epoch 64/500\n",
            "32/32 [==============================] - 0s 4ms/step - loss: 0.4066 - accuracy: 0.8155 - val_loss: 0.3690 - val_accuracy: 0.8393\n",
            "Epoch 65/500\n",
            "32/32 [==============================] - 0s 3ms/step - loss: 0.4358 - accuracy: 0.7996 - val_loss: 0.3737 - val_accuracy: 0.8393\n",
            "Epoch 66/500\n",
            "32/32 [==============================] - 0s 4ms/step - loss: 0.4078 - accuracy: 0.8254 - val_loss: 0.3795 - val_accuracy: 0.8214\n",
            "Epoch 67/500\n",
            "32/32 [==============================] - 0s 3ms/step - loss: 0.4148 - accuracy: 0.8194 - val_loss: 0.3850 - val_accuracy: 0.8393\n",
            "Epoch 68/500\n",
            "32/32 [==============================] - 0s 3ms/step - loss: 0.3917 - accuracy: 0.8353 - val_loss: 0.3695 - val_accuracy: 0.8750\n",
            "Epoch 69/500\n",
            "32/32 [==============================] - 0s 3ms/step - loss: 0.3929 - accuracy: 0.8234 - val_loss: 0.3931 - val_accuracy: 0.8036\n",
            "Epoch 70/500\n",
            "32/32 [==============================] - 0s 4ms/step - loss: 0.3804 - accuracy: 0.8373 - val_loss: 0.3680 - val_accuracy: 0.8929\n",
            "Epoch 71/500\n",
            "32/32 [==============================] - 0s 3ms/step - loss: 0.4293 - accuracy: 0.8155 - val_loss: 0.3635 - val_accuracy: 0.8929\n",
            "Epoch 72/500\n",
            "32/32 [==============================] - 0s 3ms/step - loss: 0.4205 - accuracy: 0.8056 - val_loss: 0.3715 - val_accuracy: 0.8571\n",
            "Epoch 73/500\n",
            "32/32 [==============================] - 0s 4ms/step - loss: 0.3952 - accuracy: 0.8373 - val_loss: 0.3830 - val_accuracy: 0.8393\n",
            "Epoch 74/500\n",
            "32/32 [==============================] - 0s 4ms/step - loss: 0.4004 - accuracy: 0.8194 - val_loss: 0.3667 - val_accuracy: 0.8571\n",
            "Epoch 75/500\n",
            "32/32 [==============================] - 0s 3ms/step - loss: 0.4531 - accuracy: 0.7897 - val_loss: 0.3577 - val_accuracy: 0.8571\n",
            "Epoch 76/500\n",
            "32/32 [==============================] - 0s 3ms/step - loss: 0.4036 - accuracy: 0.8175 - val_loss: 0.3581 - val_accuracy: 0.8929\n",
            "Epoch 77/500\n",
            "32/32 [==============================] - 0s 3ms/step - loss: 0.4390 - accuracy: 0.8155 - val_loss: 0.3731 - val_accuracy: 0.8750\n",
            "Epoch 78/500\n",
            "32/32 [==============================] - 0s 3ms/step - loss: 0.4109 - accuracy: 0.8234 - val_loss: 0.3743 - val_accuracy: 0.8750\n",
            "Epoch 79/500\n",
            "32/32 [==============================] - 0s 3ms/step - loss: 0.3968 - accuracy: 0.8194 - val_loss: 0.3716 - val_accuracy: 0.8571\n",
            "Epoch 80/500\n",
            "32/32 [==============================] - 0s 3ms/step - loss: 0.4067 - accuracy: 0.8115 - val_loss: 0.3701 - val_accuracy: 0.8929\n",
            "Epoch 81/500\n",
            "32/32 [==============================] - 0s 3ms/step - loss: 0.3521 - accuracy: 0.8552 - val_loss: 0.3749 - val_accuracy: 0.8750\n",
            "Epoch 82/500\n",
            "32/32 [==============================] - 0s 4ms/step - loss: 0.3893 - accuracy: 0.8393 - val_loss: 0.3653 - val_accuracy: 0.8750\n",
            "Epoch 83/500\n",
            "32/32 [==============================] - 0s 4ms/step - loss: 0.3783 - accuracy: 0.8313 - val_loss: 0.3613 - val_accuracy: 0.8929\n",
            "Epoch 84/500\n",
            "32/32 [==============================] - 0s 3ms/step - loss: 0.4272 - accuracy: 0.8175 - val_loss: 0.3721 - val_accuracy: 0.8571\n",
            "Epoch 85/500\n",
            "32/32 [==============================] - 0s 3ms/step - loss: 0.4156 - accuracy: 0.8175 - val_loss: 0.3666 - val_accuracy: 0.8750\n",
            "Epoch 86/500\n",
            "32/32 [==============================] - 0s 3ms/step - loss: 0.3923 - accuracy: 0.8155 - val_loss: 0.3612 - val_accuracy: 0.8750\n",
            "Epoch 87/500\n",
            "32/32 [==============================] - 0s 3ms/step - loss: 0.4174 - accuracy: 0.8095 - val_loss: 0.3692 - val_accuracy: 0.8571\n",
            "Epoch 88/500\n",
            "32/32 [==============================] - 0s 3ms/step - loss: 0.3907 - accuracy: 0.8373 - val_loss: 0.3612 - val_accuracy: 0.8750\n",
            "Epoch 89/500\n",
            "32/32 [==============================] - 0s 3ms/step - loss: 0.4315 - accuracy: 0.8194 - val_loss: 0.3578 - val_accuracy: 0.8214\n",
            "Epoch 90/500\n",
            "32/32 [==============================] - 0s 3ms/step - loss: 0.3925 - accuracy: 0.8373 - val_loss: 0.3564 - val_accuracy: 0.8571\n",
            "Epoch 91/500\n",
            "32/32 [==============================] - 0s 3ms/step - loss: 0.4044 - accuracy: 0.8313 - val_loss: 0.3515 - val_accuracy: 0.8393\n",
            "Epoch 92/500\n",
            "32/32 [==============================] - 0s 3ms/step - loss: 0.3678 - accuracy: 0.8472 - val_loss: 0.3469 - val_accuracy: 0.8750\n",
            "Epoch 93/500\n",
            "32/32 [==============================] - 0s 3ms/step - loss: 0.3895 - accuracy: 0.8373 - val_loss: 0.3648 - val_accuracy: 0.8214\n",
            "Epoch 94/500\n",
            "32/32 [==============================] - 0s 3ms/step - loss: 0.3953 - accuracy: 0.8313 - val_loss: 0.3614 - val_accuracy: 0.8214\n",
            "Epoch 95/500\n",
            "32/32 [==============================] - 0s 3ms/step - loss: 0.3709 - accuracy: 0.8452 - val_loss: 0.3388 - val_accuracy: 0.8929\n",
            "Epoch 96/500\n",
            "32/32 [==============================] - 0s 4ms/step - loss: 0.3679 - accuracy: 0.8353 - val_loss: 0.3515 - val_accuracy: 0.8393\n",
            "Epoch 97/500\n",
            "32/32 [==============================] - 0s 3ms/step - loss: 0.3856 - accuracy: 0.8353 - val_loss: 0.3350 - val_accuracy: 0.8393\n",
            "Epoch 98/500\n",
            "32/32 [==============================] - 0s 3ms/step - loss: 0.4085 - accuracy: 0.8214 - val_loss: 0.3400 - val_accuracy: 0.8750\n",
            "Epoch 99/500\n",
            "32/32 [==============================] - 0s 3ms/step - loss: 0.3919 - accuracy: 0.8194 - val_loss: 0.3459 - val_accuracy: 0.8929\n",
            "Epoch 100/500\n",
            "32/32 [==============================] - 0s 3ms/step - loss: 0.3743 - accuracy: 0.8353 - val_loss: 0.3579 - val_accuracy: 0.8750\n",
            "Epoch 101/500\n",
            "32/32 [==============================] - 0s 3ms/step - loss: 0.3680 - accuracy: 0.8472 - val_loss: 0.3453 - val_accuracy: 0.8750\n",
            "Epoch 102/500\n",
            "32/32 [==============================] - 0s 4ms/step - loss: 0.3888 - accuracy: 0.8214 - val_loss: 0.3521 - val_accuracy: 0.8750\n",
            "Epoch 103/500\n",
            "32/32 [==============================] - 0s 3ms/step - loss: 0.3796 - accuracy: 0.8333 - val_loss: 0.3395 - val_accuracy: 0.8750\n",
            "Epoch 104/500\n",
            "32/32 [==============================] - 0s 3ms/step - loss: 0.3677 - accuracy: 0.8413 - val_loss: 0.3329 - val_accuracy: 0.8571\n",
            "Epoch 105/500\n",
            "32/32 [==============================] - 0s 3ms/step - loss: 0.3646 - accuracy: 0.8393 - val_loss: 0.3327 - val_accuracy: 0.8750\n",
            "Epoch 106/500\n",
            "32/32 [==============================] - 0s 3ms/step - loss: 0.4096 - accuracy: 0.8274 - val_loss: 0.3396 - val_accuracy: 0.8750\n",
            "Epoch 107/500\n",
            "32/32 [==============================] - 0s 4ms/step - loss: 0.4314 - accuracy: 0.8155 - val_loss: 0.3560 - val_accuracy: 0.8393\n",
            "Epoch 108/500\n",
            "32/32 [==============================] - 0s 3ms/step - loss: 0.3926 - accuracy: 0.8333 - val_loss: 0.3456 - val_accuracy: 0.8750\n",
            "Epoch 109/500\n",
            "32/32 [==============================] - 0s 3ms/step - loss: 0.3586 - accuracy: 0.8274 - val_loss: 0.3686 - val_accuracy: 0.8393\n",
            "Epoch 110/500\n",
            "32/32 [==============================] - 0s 3ms/step - loss: 0.3826 - accuracy: 0.8413 - val_loss: 0.3347 - val_accuracy: 0.8571\n",
            "Epoch 111/500\n",
            "32/32 [==============================] - 0s 3ms/step - loss: 0.3994 - accuracy: 0.8214 - val_loss: 0.3428 - val_accuracy: 0.8750\n",
            "Epoch 112/500\n",
            "32/32 [==============================] - 0s 3ms/step - loss: 0.3676 - accuracy: 0.8532 - val_loss: 0.3522 - val_accuracy: 0.8750\n",
            "Epoch 113/500\n",
            "32/32 [==============================] - 0s 3ms/step - loss: 0.3731 - accuracy: 0.8552 - val_loss: 0.3480 - val_accuracy: 0.8393\n",
            "Epoch 114/500\n",
            "32/32 [==============================] - 0s 3ms/step - loss: 0.3890 - accuracy: 0.8333 - val_loss: 0.3410 - val_accuracy: 0.8929\n",
            "Epoch 115/500\n",
            "32/32 [==============================] - 0s 3ms/step - loss: 0.3676 - accuracy: 0.8373 - val_loss: 0.3556 - val_accuracy: 0.8571\n",
            "Epoch 116/500\n",
            "32/32 [==============================] - 0s 3ms/step - loss: 0.3586 - accuracy: 0.8472 - val_loss: 0.3495 - val_accuracy: 0.8571\n",
            "Epoch 117/500\n",
            "32/32 [==============================] - 0s 3ms/step - loss: 0.3537 - accuracy: 0.8413 - val_loss: 0.3544 - val_accuracy: 0.8393\n",
            "Epoch 118/500\n",
            "32/32 [==============================] - 0s 3ms/step - loss: 0.4027 - accuracy: 0.8194 - val_loss: 0.3563 - val_accuracy: 0.8571\n",
            "Epoch 119/500\n",
            "32/32 [==============================] - 0s 3ms/step - loss: 0.3814 - accuracy: 0.8254 - val_loss: 0.3332 - val_accuracy: 0.8929\n",
            "Epoch 120/500\n",
            "32/32 [==============================] - 0s 3ms/step - loss: 0.3604 - accuracy: 0.8512 - val_loss: 0.3486 - val_accuracy: 0.8571\n",
            "Epoch 121/500\n",
            "32/32 [==============================] - 0s 3ms/step - loss: 0.3531 - accuracy: 0.8492 - val_loss: 0.3586 - val_accuracy: 0.8571\n",
            "Epoch 122/500\n",
            "32/32 [==============================] - 0s 4ms/step - loss: 0.3767 - accuracy: 0.8373 - val_loss: 0.3638 - val_accuracy: 0.8571\n",
            "Epoch 123/500\n",
            "32/32 [==============================] - 0s 4ms/step - loss: 0.4058 - accuracy: 0.8313 - val_loss: 0.3718 - val_accuracy: 0.8036\n",
            "Epoch 124/500\n",
            "32/32 [==============================] - 0s 3ms/step - loss: 0.3809 - accuracy: 0.8532 - val_loss: 0.3642 - val_accuracy: 0.8214\n",
            "Epoch 125/500\n",
            "32/32 [==============================] - 0s 3ms/step - loss: 0.3841 - accuracy: 0.8433 - val_loss: 0.3700 - val_accuracy: 0.8393\n",
            "Epoch 126/500\n",
            "32/32 [==============================] - 0s 4ms/step - loss: 0.3504 - accuracy: 0.8492 - val_loss: 0.3647 - val_accuracy: 0.8571\n",
            "Epoch 127/500\n",
            "32/32 [==============================] - 0s 3ms/step - loss: 0.3664 - accuracy: 0.8492 - val_loss: 0.3430 - val_accuracy: 0.8214\n",
            "Epoch 128/500\n",
            "32/32 [==============================] - 0s 4ms/step - loss: 0.4126 - accuracy: 0.8373 - val_loss: 0.3547 - val_accuracy: 0.8214\n",
            "Epoch 129/500\n",
            "32/32 [==============================] - 0s 4ms/step - loss: 0.3799 - accuracy: 0.8472 - val_loss: 0.3444 - val_accuracy: 0.8571\n",
            "Epoch 130/500\n",
            "32/32 [==============================] - 0s 4ms/step - loss: 0.3714 - accuracy: 0.8532 - val_loss: 0.3287 - val_accuracy: 0.8750\n",
            "Epoch 131/500\n",
            "32/32 [==============================] - 0s 4ms/step - loss: 0.3680 - accuracy: 0.8313 - val_loss: 0.3269 - val_accuracy: 0.8571\n",
            "Epoch 132/500\n",
            "32/32 [==============================] - 0s 3ms/step - loss: 0.4088 - accuracy: 0.8373 - val_loss: 0.3403 - val_accuracy: 0.8571\n",
            "Epoch 133/500\n",
            "32/32 [==============================] - 0s 3ms/step - loss: 0.4017 - accuracy: 0.8353 - val_loss: 0.3506 - val_accuracy: 0.8571\n",
            "Epoch 134/500\n",
            "32/32 [==============================] - 0s 3ms/step - loss: 0.3771 - accuracy: 0.8413 - val_loss: 0.3473 - val_accuracy: 0.8750\n",
            "Epoch 135/500\n",
            "32/32 [==============================] - 0s 3ms/step - loss: 0.3912 - accuracy: 0.8333 - val_loss: 0.3375 - val_accuracy: 0.8929\n",
            "Epoch 136/500\n",
            "32/32 [==============================] - 0s 4ms/step - loss: 0.3676 - accuracy: 0.8452 - val_loss: 0.3446 - val_accuracy: 0.8750\n",
            "Epoch 137/500\n",
            "32/32 [==============================] - 0s 3ms/step - loss: 0.4022 - accuracy: 0.8254 - val_loss: 0.3605 - val_accuracy: 0.8750\n",
            "Epoch 138/500\n",
            "32/32 [==============================] - 0s 3ms/step - loss: 0.3828 - accuracy: 0.8532 - val_loss: 0.3499 - val_accuracy: 0.8571\n",
            "Epoch 139/500\n",
            "32/32 [==============================] - 0s 4ms/step - loss: 0.3831 - accuracy: 0.8452 - val_loss: 0.3552 - val_accuracy: 0.8571\n",
            "Epoch 140/500\n",
            "32/32 [==============================] - 0s 3ms/step - loss: 0.3777 - accuracy: 0.8413 - val_loss: 0.3483 - val_accuracy: 0.8750\n",
            "Epoch 141/500\n",
            "32/32 [==============================] - 0s 4ms/step - loss: 0.3728 - accuracy: 0.8413 - val_loss: 0.3487 - val_accuracy: 0.8750\n",
            "Epoch 142/500\n",
            "32/32 [==============================] - 0s 3ms/step - loss: 0.3991 - accuracy: 0.8115 - val_loss: 0.3373 - val_accuracy: 0.8750\n",
            "Epoch 143/500\n",
            "32/32 [==============================] - 0s 3ms/step - loss: 0.3783 - accuracy: 0.8333 - val_loss: 0.3376 - val_accuracy: 0.8929\n",
            "Epoch 144/500\n",
            "32/32 [==============================] - 0s 4ms/step - loss: 0.3591 - accuracy: 0.8552 - val_loss: 0.3342 - val_accuracy: 0.9107\n",
            "Epoch 145/500\n",
            "32/32 [==============================] - 0s 3ms/step - loss: 0.3633 - accuracy: 0.8671 - val_loss: 0.3524 - val_accuracy: 0.8571\n",
            "Epoch 146/500\n",
            "32/32 [==============================] - 0s 3ms/step - loss: 0.3764 - accuracy: 0.8175 - val_loss: 0.3513 - val_accuracy: 0.8571\n",
            "Epoch 147/500\n",
            "32/32 [==============================] - 0s 3ms/step - loss: 0.3720 - accuracy: 0.8413 - val_loss: 0.3494 - val_accuracy: 0.8571\n",
            "Epoch 148/500\n",
            "32/32 [==============================] - 0s 3ms/step - loss: 0.3667 - accuracy: 0.8373 - val_loss: 0.3806 - val_accuracy: 0.7857\n",
            "Epoch 149/500\n",
            "32/32 [==============================] - 0s 3ms/step - loss: 0.3562 - accuracy: 0.8373 - val_loss: 0.3787 - val_accuracy: 0.7857\n",
            "Epoch 150/500\n",
            "32/32 [==============================] - 0s 4ms/step - loss: 0.3798 - accuracy: 0.8413 - val_loss: 0.3529 - val_accuracy: 0.8214\n",
            "Epoch 151/500\n",
            "32/32 [==============================] - 0s 3ms/step - loss: 0.4057 - accuracy: 0.8413 - val_loss: 0.3574 - val_accuracy: 0.8393\n",
            "Epoch 152/500\n",
            "32/32 [==============================] - 0s 3ms/step - loss: 0.3762 - accuracy: 0.8274 - val_loss: 0.3567 - val_accuracy: 0.8214\n",
            "Epoch 153/500\n",
            "32/32 [==============================] - 0s 4ms/step - loss: 0.3344 - accuracy: 0.8671 - val_loss: 0.3709 - val_accuracy: 0.8214\n",
            "Epoch 154/500\n",
            "32/32 [==============================] - 0s 4ms/step - loss: 0.3682 - accuracy: 0.8353 - val_loss: 0.3848 - val_accuracy: 0.8036\n",
            "Epoch 155/500\n",
            "32/32 [==============================] - 0s 3ms/step - loss: 0.3363 - accuracy: 0.8671 - val_loss: 0.3551 - val_accuracy: 0.8393\n",
            "Epoch 156/500\n",
            "32/32 [==============================] - 0s 4ms/step - loss: 0.3869 - accuracy: 0.8234 - val_loss: 0.3410 - val_accuracy: 0.8571\n",
            "Epoch 157/500\n",
            "32/32 [==============================] - 0s 4ms/step - loss: 0.3688 - accuracy: 0.8294 - val_loss: 0.3449 - val_accuracy: 0.8393\n",
            "Epoch 158/500\n",
            "32/32 [==============================] - 0s 3ms/step - loss: 0.3791 - accuracy: 0.8274 - val_loss: 0.3348 - val_accuracy: 0.8750\n",
            "Epoch 159/500\n",
            "32/32 [==============================] - 0s 4ms/step - loss: 0.3668 - accuracy: 0.8472 - val_loss: 0.3584 - val_accuracy: 0.8214\n",
            "Epoch 160/500\n",
            "32/32 [==============================] - 0s 3ms/step - loss: 0.4153 - accuracy: 0.7996 - val_loss: 0.3494 - val_accuracy: 0.8393\n",
            "Epoch 161/500\n",
            "32/32 [==============================] - 0s 3ms/step - loss: 0.3822 - accuracy: 0.8234 - val_loss: 0.3570 - val_accuracy: 0.8393\n",
            "Epoch 162/500\n",
            "32/32 [==============================] - 0s 3ms/step - loss: 0.3775 - accuracy: 0.8413 - val_loss: 0.3485 - val_accuracy: 0.8571\n",
            "Epoch 163/500\n",
            "32/32 [==============================] - 0s 3ms/step - loss: 0.3250 - accuracy: 0.8730 - val_loss: 0.3510 - val_accuracy: 0.8571\n",
            "Epoch 164/500\n",
            "32/32 [==============================] - 0s 4ms/step - loss: 0.3735 - accuracy: 0.8393 - val_loss: 0.3389 - val_accuracy: 0.8750\n",
            "Epoch 165/500\n",
            "32/32 [==============================] - 0s 3ms/step - loss: 0.3857 - accuracy: 0.8353 - val_loss: 0.3608 - val_accuracy: 0.8393\n",
            "Epoch 166/500\n",
            "32/32 [==============================] - 0s 3ms/step - loss: 0.3565 - accuracy: 0.8433 - val_loss: 0.3654 - val_accuracy: 0.8214\n",
            "Epoch 167/500\n",
            "32/32 [==============================] - 0s 4ms/step - loss: 0.3704 - accuracy: 0.8433 - val_loss: 0.3587 - val_accuracy: 0.8214\n",
            "Epoch 168/500\n",
            "32/32 [==============================] - 0s 4ms/step - loss: 0.4040 - accuracy: 0.8254 - val_loss: 0.3532 - val_accuracy: 0.8393\n",
            "Epoch 169/500\n",
            "32/32 [==============================] - 0s 3ms/step - loss: 0.3872 - accuracy: 0.8393 - val_loss: 0.3553 - val_accuracy: 0.8214\n",
            "Epoch 170/500\n",
            "32/32 [==============================] - 0s 3ms/step - loss: 0.3581 - accuracy: 0.8492 - val_loss: 0.3555 - val_accuracy: 0.8214\n",
            "Epoch 171/500\n",
            "32/32 [==============================] - 0s 4ms/step - loss: 0.3823 - accuracy: 0.8393 - val_loss: 0.3459 - val_accuracy: 0.8571\n",
            "Epoch 172/500\n",
            "32/32 [==============================] - 0s 3ms/step - loss: 0.3589 - accuracy: 0.8413 - val_loss: 0.3416 - val_accuracy: 0.8571\n",
            "Epoch 173/500\n",
            "32/32 [==============================] - 0s 3ms/step - loss: 0.3677 - accuracy: 0.8492 - val_loss: 0.3352 - val_accuracy: 0.8571\n",
            "Epoch 174/500\n",
            "32/32 [==============================] - 0s 3ms/step - loss: 0.4000 - accuracy: 0.8294 - val_loss: 0.3344 - val_accuracy: 0.8750\n",
            "Epoch 175/500\n",
            "32/32 [==============================] - 0s 4ms/step - loss: 0.3772 - accuracy: 0.8452 - val_loss: 0.3370 - val_accuracy: 0.8750\n",
            "Epoch 176/500\n",
            "32/32 [==============================] - 0s 3ms/step - loss: 0.3920 - accuracy: 0.8234 - val_loss: 0.3409 - val_accuracy: 0.8571\n",
            "Epoch 177/500\n",
            "32/32 [==============================] - 0s 3ms/step - loss: 0.3793 - accuracy: 0.8492 - val_loss: 0.3458 - val_accuracy: 0.8571\n",
            "Epoch 178/500\n",
            "32/32 [==============================] - 0s 3ms/step - loss: 0.4291 - accuracy: 0.8155 - val_loss: 0.3603 - val_accuracy: 0.8036\n",
            "Epoch 179/500\n",
            "32/32 [==============================] - 0s 3ms/step - loss: 0.3357 - accuracy: 0.8631 - val_loss: 0.3572 - val_accuracy: 0.8393\n",
            "Epoch 180/500\n",
            "32/32 [==============================] - 0s 4ms/step - loss: 0.3601 - accuracy: 0.8512 - val_loss: 0.3401 - val_accuracy: 0.8214\n",
            "Epoch 181/500\n",
            "32/32 [==============================] - 0s 4ms/step - loss: 0.3641 - accuracy: 0.8433 - val_loss: 0.3207 - val_accuracy: 0.8393\n",
            "Epoch 182/500\n",
            "32/32 [==============================] - 0s 3ms/step - loss: 0.4219 - accuracy: 0.8393 - val_loss: 0.3459 - val_accuracy: 0.8393\n",
            "Epoch 183/500\n",
            "32/32 [==============================] - 0s 3ms/step - loss: 0.3672 - accuracy: 0.8373 - val_loss: 0.3732 - val_accuracy: 0.8036\n",
            "Epoch 184/500\n",
            "32/32 [==============================] - 0s 3ms/step - loss: 0.4041 - accuracy: 0.8115 - val_loss: 0.3704 - val_accuracy: 0.7679\n",
            "Epoch 185/500\n",
            "32/32 [==============================] - 0s 4ms/step - loss: 0.3747 - accuracy: 0.8452 - val_loss: 0.3402 - val_accuracy: 0.8393\n",
            "Epoch 186/500\n",
            "32/32 [==============================] - 0s 4ms/step - loss: 0.3704 - accuracy: 0.8353 - val_loss: 0.3385 - val_accuracy: 0.8393\n",
            "Epoch 187/500\n",
            "32/32 [==============================] - 0s 3ms/step - loss: 0.3718 - accuracy: 0.8591 - val_loss: 0.3325 - val_accuracy: 0.8750\n",
            "Epoch 188/500\n",
            "32/32 [==============================] - 0s 4ms/step - loss: 0.3481 - accuracy: 0.8373 - val_loss: 0.3550 - val_accuracy: 0.8393\n",
            "Epoch 189/500\n",
            "32/32 [==============================] - 0s 3ms/step - loss: 0.3398 - accuracy: 0.8492 - val_loss: 0.3302 - val_accuracy: 0.8393\n",
            "Epoch 190/500\n",
            "32/32 [==============================] - 0s 4ms/step - loss: 0.3560 - accuracy: 0.8591 - val_loss: 0.3419 - val_accuracy: 0.8750\n",
            "Epoch 191/500\n",
            "32/32 [==============================] - 0s 3ms/step - loss: 0.3241 - accuracy: 0.8591 - val_loss: 0.3490 - val_accuracy: 0.8571\n",
            "Epoch 192/500\n",
            "32/32 [==============================] - 0s 3ms/step - loss: 0.3699 - accuracy: 0.8353 - val_loss: 0.3395 - val_accuracy: 0.8571\n",
            "Epoch 193/500\n",
            "32/32 [==============================] - 0s 3ms/step - loss: 0.4155 - accuracy: 0.8254 - val_loss: 0.3389 - val_accuracy: 0.8750\n",
            "Epoch 194/500\n",
            "32/32 [==============================] - 0s 3ms/step - loss: 0.3362 - accuracy: 0.8591 - val_loss: 0.3332 - val_accuracy: 0.8571\n",
            "Epoch 195/500\n",
            "32/32 [==============================] - 0s 4ms/step - loss: 0.3721 - accuracy: 0.8373 - val_loss: 0.3264 - val_accuracy: 0.8750\n",
            "Epoch 196/500\n",
            "32/32 [==============================] - 0s 3ms/step - loss: 0.3571 - accuracy: 0.8452 - val_loss: 0.3471 - val_accuracy: 0.8571\n",
            "Epoch 197/500\n",
            "32/32 [==============================] - 0s 4ms/step - loss: 0.3445 - accuracy: 0.8611 - val_loss: 0.3432 - val_accuracy: 0.8571\n",
            "Epoch 198/500\n",
            "32/32 [==============================] - 0s 3ms/step - loss: 0.3617 - accuracy: 0.8512 - val_loss: 0.3497 - val_accuracy: 0.8750\n",
            "Epoch 199/500\n",
            "32/32 [==============================] - 0s 3ms/step - loss: 0.3506 - accuracy: 0.8532 - val_loss: 0.3502 - val_accuracy: 0.8571\n",
            "Epoch 200/500\n",
            "32/32 [==============================] - 0s 4ms/step - loss: 0.3690 - accuracy: 0.8472 - val_loss: 0.3615 - val_accuracy: 0.8214\n",
            "Epoch 201/500\n",
            "32/32 [==============================] - 0s 4ms/step - loss: 0.3588 - accuracy: 0.8373 - val_loss: 0.3552 - val_accuracy: 0.8214\n",
            "Epoch 202/500\n",
            "32/32 [==============================] - 0s 4ms/step - loss: 0.3664 - accuracy: 0.8452 - val_loss: 0.3704 - val_accuracy: 0.8036\n",
            "Epoch 203/500\n",
            "32/32 [==============================] - 0s 3ms/step - loss: 0.3644 - accuracy: 0.8452 - val_loss: 0.3449 - val_accuracy: 0.8393\n",
            "Epoch 204/500\n",
            "32/32 [==============================] - 0s 3ms/step - loss: 0.3258 - accuracy: 0.8651 - val_loss: 0.3522 - val_accuracy: 0.8214\n",
            "Epoch 205/500\n",
            "32/32 [==============================] - 0s 3ms/step - loss: 0.3716 - accuracy: 0.8393 - val_loss: 0.3519 - val_accuracy: 0.8393\n",
            "Epoch 206/500\n",
            "32/32 [==============================] - 0s 4ms/step - loss: 0.3251 - accuracy: 0.8532 - val_loss: 0.3731 - val_accuracy: 0.8214\n",
            "Epoch 207/500\n",
            "32/32 [==============================] - 0s 3ms/step - loss: 0.3440 - accuracy: 0.8373 - val_loss: 0.3591 - val_accuracy: 0.8214\n",
            "Epoch 208/500\n",
            "32/32 [==============================] - 0s 3ms/step - loss: 0.3604 - accuracy: 0.8353 - val_loss: 0.3501 - val_accuracy: 0.8036\n",
            "Epoch 209/500\n",
            "32/32 [==============================] - 0s 4ms/step - loss: 0.3608 - accuracy: 0.8611 - val_loss: 0.3408 - val_accuracy: 0.8393\n",
            "Epoch 210/500\n",
            "32/32 [==============================] - 0s 4ms/step - loss: 0.3508 - accuracy: 0.8651 - val_loss: 0.3478 - val_accuracy: 0.8393\n",
            "Epoch 211/500\n",
            "32/32 [==============================] - 0s 4ms/step - loss: 0.3578 - accuracy: 0.8532 - val_loss: 0.3208 - val_accuracy: 0.8571\n",
            "Epoch 212/500\n",
            "32/32 [==============================] - 0s 4ms/step - loss: 0.3316 - accuracy: 0.8631 - val_loss: 0.3216 - val_accuracy: 0.8571\n",
            "Epoch 213/500\n",
            "32/32 [==============================] - 0s 3ms/step - loss: 0.3687 - accuracy: 0.8313 - val_loss: 0.3062 - val_accuracy: 0.8750\n",
            "Epoch 214/500\n",
            "32/32 [==============================] - 0s 3ms/step - loss: 0.3899 - accuracy: 0.8413 - val_loss: 0.3020 - val_accuracy: 0.8929\n",
            "Epoch 215/500\n",
            "32/32 [==============================] - 0s 3ms/step - loss: 0.3830 - accuracy: 0.8433 - val_loss: 0.3168 - val_accuracy: 0.8929\n",
            "Epoch 216/500\n",
            "32/32 [==============================] - 0s 4ms/step - loss: 0.3878 - accuracy: 0.8413 - val_loss: 0.3355 - val_accuracy: 0.8750\n",
            "Epoch 217/500\n",
            "32/32 [==============================] - 0s 3ms/step - loss: 0.3435 - accuracy: 0.8433 - val_loss: 0.3262 - val_accuracy: 0.8571\n",
            "Epoch 218/500\n",
            "32/32 [==============================] - 0s 3ms/step - loss: 0.4108 - accuracy: 0.8274 - val_loss: 0.3217 - val_accuracy: 0.8929\n",
            "Epoch 219/500\n",
            "32/32 [==============================] - 0s 4ms/step - loss: 0.3558 - accuracy: 0.8532 - val_loss: 0.3229 - val_accuracy: 0.9107\n",
            "Epoch 220/500\n",
            "32/32 [==============================] - 0s 3ms/step - loss: 0.3446 - accuracy: 0.8591 - val_loss: 0.3248 - val_accuracy: 0.8929\n",
            "Epoch 221/500\n",
            "32/32 [==============================] - 0s 3ms/step - loss: 0.3872 - accuracy: 0.8294 - val_loss: 0.3185 - val_accuracy: 0.9107\n",
            "Epoch 222/500\n",
            "32/32 [==============================] - 0s 4ms/step - loss: 0.3472 - accuracy: 0.8611 - val_loss: 0.3244 - val_accuracy: 0.8929\n",
            "Epoch 223/500\n",
            "32/32 [==============================] - 0s 4ms/step - loss: 0.3634 - accuracy: 0.8591 - val_loss: 0.3373 - val_accuracy: 0.8929\n",
            "Epoch 224/500\n",
            "32/32 [==============================] - 0s 4ms/step - loss: 0.3564 - accuracy: 0.8512 - val_loss: 0.3374 - val_accuracy: 0.8750\n",
            "Epoch 225/500\n",
            "32/32 [==============================] - 0s 4ms/step - loss: 0.3548 - accuracy: 0.8492 - val_loss: 0.3381 - val_accuracy: 0.8571\n",
            "Epoch 226/500\n",
            "32/32 [==============================] - 0s 4ms/step - loss: 0.3712 - accuracy: 0.8472 - val_loss: 0.3284 - val_accuracy: 0.8750\n",
            "Epoch 227/500\n",
            "32/32 [==============================] - 0s 4ms/step - loss: 0.3434 - accuracy: 0.8571 - val_loss: 0.3373 - val_accuracy: 0.8393\n",
            "Epoch 228/500\n",
            "32/32 [==============================] - 0s 3ms/step - loss: 0.3757 - accuracy: 0.8472 - val_loss: 0.3360 - val_accuracy: 0.8393\n",
            "Epoch 229/500\n",
            "32/32 [==============================] - 0s 3ms/step - loss: 0.3481 - accuracy: 0.8413 - val_loss: 0.3299 - val_accuracy: 0.8750\n",
            "Epoch 230/500\n",
            "32/32 [==============================] - 0s 4ms/step - loss: 0.3515 - accuracy: 0.8492 - val_loss: 0.3363 - val_accuracy: 0.8750\n",
            "Epoch 231/500\n",
            "32/32 [==============================] - 0s 4ms/step - loss: 0.3842 - accuracy: 0.8433 - val_loss: 0.3505 - val_accuracy: 0.8393\n",
            "Epoch 232/500\n",
            "32/32 [==============================] - 0s 4ms/step - loss: 0.3292 - accuracy: 0.8671 - val_loss: 0.3358 - val_accuracy: 0.8393\n",
            "Epoch 233/500\n",
            "32/32 [==============================] - 0s 4ms/step - loss: 0.3761 - accuracy: 0.8433 - val_loss: 0.3318 - val_accuracy: 0.8393\n",
            "Epoch 234/500\n",
            "32/32 [==============================] - 0s 4ms/step - loss: 0.3426 - accuracy: 0.8552 - val_loss: 0.3148 - val_accuracy: 0.8750\n",
            "Epoch 235/500\n",
            "32/32 [==============================] - 0s 3ms/step - loss: 0.3921 - accuracy: 0.8353 - val_loss: 0.3072 - val_accuracy: 0.8750\n",
            "Epoch 236/500\n",
            "32/32 [==============================] - 0s 4ms/step - loss: 0.3526 - accuracy: 0.8373 - val_loss: 0.3009 - val_accuracy: 0.8750\n",
            "Epoch 237/500\n",
            "32/32 [==============================] - 0s 3ms/step - loss: 0.3676 - accuracy: 0.8472 - val_loss: 0.3138 - val_accuracy: 0.8929\n",
            "Epoch 238/500\n",
            "32/32 [==============================] - 0s 3ms/step - loss: 0.3805 - accuracy: 0.8433 - val_loss: 0.3124 - val_accuracy: 0.8750\n",
            "Epoch 239/500\n",
            "32/32 [==============================] - 0s 4ms/step - loss: 0.3546 - accuracy: 0.8512 - val_loss: 0.3199 - val_accuracy: 0.8929\n",
            "Epoch 240/500\n",
            "32/32 [==============================] - 0s 4ms/step - loss: 0.3704 - accuracy: 0.8333 - val_loss: 0.3253 - val_accuracy: 0.8929\n",
            "Epoch 241/500\n",
            "32/32 [==============================] - 0s 3ms/step - loss: 0.3561 - accuracy: 0.8333 - val_loss: 0.3281 - val_accuracy: 0.9107\n",
            "Epoch 242/500\n",
            "32/32 [==============================] - 0s 4ms/step - loss: 0.3515 - accuracy: 0.8552 - val_loss: 0.3201 - val_accuracy: 0.9107\n",
            "Epoch 243/500\n",
            "32/32 [==============================] - 0s 3ms/step - loss: 0.3886 - accuracy: 0.8452 - val_loss: 0.3351 - val_accuracy: 0.8393\n",
            "Epoch 244/500\n",
            "32/32 [==============================] - 0s 4ms/step - loss: 0.3907 - accuracy: 0.8353 - val_loss: 0.3546 - val_accuracy: 0.8214\n",
            "Epoch 245/500\n",
            "32/32 [==============================] - 0s 4ms/step - loss: 0.3454 - accuracy: 0.8690 - val_loss: 0.3328 - val_accuracy: 0.8929\n",
            "Epoch 246/500\n",
            "32/32 [==============================] - 0s 4ms/step - loss: 0.3794 - accuracy: 0.8512 - val_loss: 0.3198 - val_accuracy: 0.8929\n",
            "Epoch 247/500\n",
            "32/32 [==============================] - 0s 3ms/step - loss: 0.3673 - accuracy: 0.8413 - val_loss: 0.3277 - val_accuracy: 0.8750\n",
            "Epoch 248/500\n",
            "32/32 [==============================] - 0s 4ms/step - loss: 0.3433 - accuracy: 0.8492 - val_loss: 0.3083 - val_accuracy: 0.8929\n",
            "Epoch 249/500\n",
            "32/32 [==============================] - 0s 3ms/step - loss: 0.3678 - accuracy: 0.8512 - val_loss: 0.2974 - val_accuracy: 0.8929\n",
            "Epoch 250/500\n",
            "32/32 [==============================] - 0s 3ms/step - loss: 0.3569 - accuracy: 0.8552 - val_loss: 0.3170 - val_accuracy: 0.8750\n",
            "Epoch 251/500\n",
            "32/32 [==============================] - 0s 3ms/step - loss: 0.3685 - accuracy: 0.8393 - val_loss: 0.3183 - val_accuracy: 0.8929\n",
            "Epoch 252/500\n",
            "32/32 [==============================] - 0s 4ms/step - loss: 0.3713 - accuracy: 0.8452 - val_loss: 0.3372 - val_accuracy: 0.8750\n",
            "Epoch 253/500\n",
            "32/32 [==============================] - 0s 4ms/step - loss: 0.3587 - accuracy: 0.8393 - val_loss: 0.3239 - val_accuracy: 0.8929\n",
            "Epoch 254/500\n",
            "32/32 [==============================] - 0s 4ms/step - loss: 0.3552 - accuracy: 0.8671 - val_loss: 0.3399 - val_accuracy: 0.8571\n",
            "Epoch 255/500\n",
            "32/32 [==============================] - 0s 4ms/step - loss: 0.3661 - accuracy: 0.8472 - val_loss: 0.3628 - val_accuracy: 0.8393\n",
            "Epoch 256/500\n",
            "32/32 [==============================] - 0s 4ms/step - loss: 0.3816 - accuracy: 0.8353 - val_loss: 0.3494 - val_accuracy: 0.8393\n",
            "Epoch 257/500\n",
            "32/32 [==============================] - 0s 4ms/step - loss: 0.4011 - accuracy: 0.8294 - val_loss: 0.3380 - val_accuracy: 0.8750\n",
            "Epoch 258/500\n",
            "32/32 [==============================] - 0s 3ms/step - loss: 0.3237 - accuracy: 0.8770 - val_loss: 0.3429 - val_accuracy: 0.8214\n",
            "Epoch 259/500\n",
            "32/32 [==============================] - 0s 3ms/step - loss: 0.3881 - accuracy: 0.8413 - val_loss: 0.3362 - val_accuracy: 0.8750\n",
            "Epoch 260/500\n",
            "32/32 [==============================] - 0s 4ms/step - loss: 0.3824 - accuracy: 0.8472 - val_loss: 0.3273 - val_accuracy: 0.8571\n",
            "Epoch 261/500\n",
            "32/32 [==============================] - 0s 3ms/step - loss: 0.3584 - accuracy: 0.8571 - val_loss: 0.3298 - val_accuracy: 0.8750\n",
            "Epoch 262/500\n",
            "32/32 [==============================] - 0s 3ms/step - loss: 0.3750 - accuracy: 0.8552 - val_loss: 0.3305 - val_accuracy: 0.8750\n",
            "Epoch 263/500\n",
            "32/32 [==============================] - 0s 3ms/step - loss: 0.3590 - accuracy: 0.8492 - val_loss: 0.3283 - val_accuracy: 0.8393\n",
            "Epoch 264/500\n",
            "32/32 [==============================] - 0s 3ms/step - loss: 0.3612 - accuracy: 0.8591 - val_loss: 0.3370 - val_accuracy: 0.8393\n",
            "Epoch 265/500\n",
            "32/32 [==============================] - 0s 4ms/step - loss: 0.3730 - accuracy: 0.8135 - val_loss: 0.3305 - val_accuracy: 0.8750\n",
            "Epoch 266/500\n",
            "32/32 [==============================] - 0s 3ms/step - loss: 0.3658 - accuracy: 0.8433 - val_loss: 0.3161 - val_accuracy: 0.8750\n",
            "Epoch 267/500\n",
            "32/32 [==============================] - 0s 4ms/step - loss: 0.3899 - accuracy: 0.8393 - val_loss: 0.3148 - val_accuracy: 0.8929\n",
            "Epoch 268/500\n",
            "32/32 [==============================] - 0s 3ms/step - loss: 0.3184 - accuracy: 0.8710 - val_loss: 0.3046 - val_accuracy: 0.8929\n",
            "Epoch 269/500\n",
            "32/32 [==============================] - 0s 3ms/step - loss: 0.3748 - accuracy: 0.8472 - val_loss: 0.3081 - val_accuracy: 0.9107\n",
            "Epoch 270/500\n",
            "32/32 [==============================] - 0s 3ms/step - loss: 0.3354 - accuracy: 0.8413 - val_loss: 0.3038 - val_accuracy: 0.9107\n",
            "Epoch 271/500\n",
            "32/32 [==============================] - 0s 4ms/step - loss: 0.3786 - accuracy: 0.8353 - val_loss: 0.3250 - val_accuracy: 0.8929\n",
            "Epoch 272/500\n",
            "32/32 [==============================] - 0s 3ms/step - loss: 0.3409 - accuracy: 0.8611 - val_loss: 0.3370 - val_accuracy: 0.8929\n",
            "Epoch 273/500\n",
            "32/32 [==============================] - 0s 4ms/step - loss: 0.3619 - accuracy: 0.8512 - val_loss: 0.3312 - val_accuracy: 0.8929\n",
            "Epoch 274/500\n",
            "32/32 [==============================] - 0s 3ms/step - loss: 0.3560 - accuracy: 0.8591 - val_loss: 0.3555 - val_accuracy: 0.8214\n",
            "Epoch 275/500\n",
            "32/32 [==============================] - 0s 4ms/step - loss: 0.3241 - accuracy: 0.8651 - val_loss: 0.3313 - val_accuracy: 0.8750\n",
            "Epoch 276/500\n",
            "32/32 [==============================] - 0s 4ms/step - loss: 0.3693 - accuracy: 0.8373 - val_loss: 0.3330 - val_accuracy: 0.8571\n",
            "Epoch 277/500\n",
            "32/32 [==============================] - 0s 3ms/step - loss: 0.3524 - accuracy: 0.8492 - val_loss: 0.3116 - val_accuracy: 0.8929\n",
            "Epoch 278/500\n",
            "32/32 [==============================] - 0s 3ms/step - loss: 0.3514 - accuracy: 0.8512 - val_loss: 0.3154 - val_accuracy: 0.8929\n",
            "Epoch 279/500\n",
            "32/32 [==============================] - 0s 4ms/step - loss: 0.3301 - accuracy: 0.8571 - val_loss: 0.3395 - val_accuracy: 0.8571\n",
            "Epoch 280/500\n",
            "32/32 [==============================] - 0s 4ms/step - loss: 0.3631 - accuracy: 0.8313 - val_loss: 0.3544 - val_accuracy: 0.8393\n",
            "Epoch 281/500\n",
            "32/32 [==============================] - 0s 3ms/step - loss: 0.3776 - accuracy: 0.8591 - val_loss: 0.3639 - val_accuracy: 0.8214\n",
            "Epoch 282/500\n",
            "32/32 [==============================] - 0s 3ms/step - loss: 0.3498 - accuracy: 0.8611 - val_loss: 0.3444 - val_accuracy: 0.8393\n",
            "Epoch 283/500\n",
            "32/32 [==============================] - 0s 4ms/step - loss: 0.3557 - accuracy: 0.8472 - val_loss: 0.3573 - val_accuracy: 0.8214\n",
            "Epoch 284/500\n",
            "32/32 [==============================] - 0s 4ms/step - loss: 0.3558 - accuracy: 0.8631 - val_loss: 0.3669 - val_accuracy: 0.8393\n",
            "Epoch 285/500\n",
            "32/32 [==============================] - 0s 3ms/step - loss: 0.3786 - accuracy: 0.8353 - val_loss: 0.3611 - val_accuracy: 0.8393\n",
            "Epoch 286/500\n",
            "32/32 [==============================] - 0s 3ms/step - loss: 0.3602 - accuracy: 0.8433 - val_loss: 0.3222 - val_accuracy: 0.8571\n",
            "Epoch 287/500\n",
            "32/32 [==============================] - 0s 4ms/step - loss: 0.3511 - accuracy: 0.8552 - val_loss: 0.3463 - val_accuracy: 0.8393\n",
            "Epoch 288/500\n",
            "32/32 [==============================] - 0s 3ms/step - loss: 0.3563 - accuracy: 0.8532 - val_loss: 0.3247 - val_accuracy: 0.8214\n",
            "Epoch 289/500\n",
            "32/32 [==============================] - 0s 4ms/step - loss: 0.3784 - accuracy: 0.8492 - val_loss: 0.3560 - val_accuracy: 0.8214\n",
            "Epoch 290/500\n",
            "32/32 [==============================] - 0s 3ms/step - loss: 0.3729 - accuracy: 0.8532 - val_loss: 0.3340 - val_accuracy: 0.8571\n",
            "Epoch 291/500\n",
            "32/32 [==============================] - 0s 4ms/step - loss: 0.3621 - accuracy: 0.8472 - val_loss: 0.3266 - val_accuracy: 0.8571\n",
            "Epoch 292/500\n",
            "32/32 [==============================] - 0s 4ms/step - loss: 0.3802 - accuracy: 0.8571 - val_loss: 0.3388 - val_accuracy: 0.8571\n",
            "Epoch 293/500\n",
            "32/32 [==============================] - 0s 3ms/step - loss: 0.3676 - accuracy: 0.8472 - val_loss: 0.3273 - val_accuracy: 0.8393\n",
            "Epoch 294/500\n",
            "32/32 [==============================] - 0s 3ms/step - loss: 0.3484 - accuracy: 0.8571 - val_loss: 0.3398 - val_accuracy: 0.8571\n",
            "Epoch 295/500\n",
            "32/32 [==============================] - 0s 4ms/step - loss: 0.3581 - accuracy: 0.8512 - val_loss: 0.3285 - val_accuracy: 0.8393\n",
            "Epoch 296/500\n",
            "32/32 [==============================] - 0s 3ms/step - loss: 0.3113 - accuracy: 0.8631 - val_loss: 0.3285 - val_accuracy: 0.8571\n",
            "Epoch 297/500\n",
            "32/32 [==============================] - 0s 4ms/step - loss: 0.3390 - accuracy: 0.8591 - val_loss: 0.3245 - val_accuracy: 0.8571\n",
            "Epoch 298/500\n",
            "32/32 [==============================] - 0s 3ms/step - loss: 0.3538 - accuracy: 0.8433 - val_loss: 0.3086 - val_accuracy: 0.8929\n",
            "Epoch 299/500\n",
            "32/32 [==============================] - 0s 4ms/step - loss: 0.3389 - accuracy: 0.8790 - val_loss: 0.3028 - val_accuracy: 0.8929\n",
            "Epoch 300/500\n",
            "32/32 [==============================] - 0s 4ms/step - loss: 0.3076 - accuracy: 0.8849 - val_loss: 0.2985 - val_accuracy: 0.8929\n",
            "Epoch 301/500\n",
            "32/32 [==============================] - 0s 3ms/step - loss: 0.3662 - accuracy: 0.8532 - val_loss: 0.3024 - val_accuracy: 0.9107\n",
            "Epoch 302/500\n",
            "32/32 [==============================] - 0s 4ms/step - loss: 0.3263 - accuracy: 0.8611 - val_loss: 0.3076 - val_accuracy: 0.8750\n",
            "Epoch 303/500\n",
            "32/32 [==============================] - 0s 3ms/step - loss: 0.3363 - accuracy: 0.8611 - val_loss: 0.3337 - val_accuracy: 0.8571\n",
            "Epoch 304/500\n",
            "32/32 [==============================] - 0s 5ms/step - loss: 0.3996 - accuracy: 0.8413 - val_loss: 0.3532 - val_accuracy: 0.8214\n",
            "Epoch 305/500\n",
            "32/32 [==============================] - 0s 4ms/step - loss: 0.3611 - accuracy: 0.8512 - val_loss: 0.3426 - val_accuracy: 0.8393\n",
            "Epoch 306/500\n",
            "32/32 [==============================] - 0s 4ms/step - loss: 0.3565 - accuracy: 0.8512 - val_loss: 0.3235 - val_accuracy: 0.8750\n",
            "Epoch 307/500\n",
            "32/32 [==============================] - 0s 3ms/step - loss: 0.3276 - accuracy: 0.8631 - val_loss: 0.3249 - val_accuracy: 0.8929\n",
            "Epoch 308/500\n",
            "32/32 [==============================] - 0s 3ms/step - loss: 0.3454 - accuracy: 0.8631 - val_loss: 0.3268 - val_accuracy: 0.8750\n",
            "Epoch 309/500\n",
            "32/32 [==============================] - 0s 3ms/step - loss: 0.3429 - accuracy: 0.8452 - val_loss: 0.3375 - val_accuracy: 0.8214\n",
            "Epoch 310/500\n",
            "32/32 [==============================] - 0s 4ms/step - loss: 0.3336 - accuracy: 0.8571 - val_loss: 0.3497 - val_accuracy: 0.8214\n",
            "Epoch 311/500\n",
            "32/32 [==============================] - 0s 3ms/step - loss: 0.3497 - accuracy: 0.8631 - val_loss: 0.3235 - val_accuracy: 0.8571\n",
            "Epoch 312/500\n",
            "32/32 [==============================] - 0s 4ms/step - loss: 0.3409 - accuracy: 0.8591 - val_loss: 0.3213 - val_accuracy: 0.8750\n",
            "Epoch 313/500\n",
            "32/32 [==============================] - 0s 3ms/step - loss: 0.3506 - accuracy: 0.8532 - val_loss: 0.3261 - val_accuracy: 0.8750\n",
            "Epoch 314/500\n",
            "32/32 [==============================] - 0s 4ms/step - loss: 0.3657 - accuracy: 0.8472 - val_loss: 0.3271 - val_accuracy: 0.8750\n",
            "Epoch 315/500\n",
            "32/32 [==============================] - 0s 4ms/step - loss: 0.3639 - accuracy: 0.8413 - val_loss: 0.3275 - val_accuracy: 0.8750\n",
            "Epoch 316/500\n",
            "32/32 [==============================] - 0s 4ms/step - loss: 0.4183 - accuracy: 0.8333 - val_loss: 0.3339 - val_accuracy: 0.8571\n",
            "Epoch 317/500\n",
            "32/32 [==============================] - 0s 3ms/step - loss: 0.3352 - accuracy: 0.8611 - val_loss: 0.3323 - val_accuracy: 0.8571\n",
            "Epoch 318/500\n",
            "32/32 [==============================] - 0s 3ms/step - loss: 0.3078 - accuracy: 0.8810 - val_loss: 0.3243 - val_accuracy: 0.8750\n",
            "Epoch 319/500\n",
            "32/32 [==============================] - 0s 3ms/step - loss: 0.3716 - accuracy: 0.8413 - val_loss: 0.3371 - val_accuracy: 0.8571\n",
            "Epoch 320/500\n",
            "32/32 [==============================] - 0s 4ms/step - loss: 0.3254 - accuracy: 0.8750 - val_loss: 0.3350 - val_accuracy: 0.8393\n",
            "Epoch 321/500\n",
            "32/32 [==============================] - 0s 4ms/step - loss: 0.3360 - accuracy: 0.8571 - val_loss: 0.3412 - val_accuracy: 0.8393\n",
            "Epoch 322/500\n",
            "32/32 [==============================] - 0s 3ms/step - loss: 0.3486 - accuracy: 0.8651 - val_loss: 0.3311 - val_accuracy: 0.8571\n",
            "Epoch 323/500\n",
            "32/32 [==============================] - 0s 3ms/step - loss: 0.3345 - accuracy: 0.8671 - val_loss: 0.3397 - val_accuracy: 0.8393\n",
            "Epoch 324/500\n",
            "32/32 [==============================] - 0s 4ms/step - loss: 0.3556 - accuracy: 0.8294 - val_loss: 0.3446 - val_accuracy: 0.8571\n",
            "Epoch 325/500\n",
            "32/32 [==============================] - 0s 3ms/step - loss: 0.3894 - accuracy: 0.8433 - val_loss: 0.3594 - val_accuracy: 0.8214\n",
            "Epoch 326/500\n",
            "32/32 [==============================] - 0s 3ms/step - loss: 0.3425 - accuracy: 0.8492 - val_loss: 0.3451 - val_accuracy: 0.8571\n",
            "Epoch 327/500\n",
            "32/32 [==============================] - 0s 4ms/step - loss: 0.3389 - accuracy: 0.8571 - val_loss: 0.3487 - val_accuracy: 0.8571\n",
            "Epoch 328/500\n",
            "32/32 [==============================] - 0s 3ms/step - loss: 0.3786 - accuracy: 0.8512 - val_loss: 0.3370 - val_accuracy: 0.8571\n",
            "Epoch 329/500\n",
            "32/32 [==============================] - 0s 3ms/step - loss: 0.3534 - accuracy: 0.8452 - val_loss: 0.3332 - val_accuracy: 0.8571\n",
            "Epoch 330/500\n",
            "32/32 [==============================] - 0s 4ms/step - loss: 0.3399 - accuracy: 0.8591 - val_loss: 0.3234 - val_accuracy: 0.8571\n",
            "Epoch 331/500\n",
            "32/32 [==============================] - 0s 3ms/step - loss: 0.3761 - accuracy: 0.8571 - val_loss: 0.3448 - val_accuracy: 0.8393\n",
            "Epoch 332/500\n",
            "32/32 [==============================] - 0s 3ms/step - loss: 0.3405 - accuracy: 0.8532 - val_loss: 0.3558 - val_accuracy: 0.8393\n",
            "Epoch 333/500\n",
            "32/32 [==============================] - 0s 3ms/step - loss: 0.3709 - accuracy: 0.8631 - val_loss: 0.3348 - val_accuracy: 0.8393\n",
            "Epoch 334/500\n",
            "32/32 [==============================] - 0s 3ms/step - loss: 0.3670 - accuracy: 0.8512 - val_loss: 0.3374 - val_accuracy: 0.8393\n",
            "Epoch 335/500\n",
            "32/32 [==============================] - 0s 3ms/step - loss: 0.3705 - accuracy: 0.8512 - val_loss: 0.3132 - val_accuracy: 0.8929\n",
            "Epoch 336/500\n",
            "32/32 [==============================] - 0s 3ms/step - loss: 0.3371 - accuracy: 0.8591 - val_loss: 0.3143 - val_accuracy: 0.8929\n",
            "Epoch 337/500\n",
            "32/32 [==============================] - 0s 3ms/step - loss: 0.3596 - accuracy: 0.8571 - val_loss: 0.3408 - val_accuracy: 0.8214\n",
            "Epoch 338/500\n",
            "32/32 [==============================] - 0s 4ms/step - loss: 0.3538 - accuracy: 0.8591 - val_loss: 0.3315 - val_accuracy: 0.8571\n",
            "Epoch 339/500\n",
            "32/32 [==============================] - 0s 3ms/step - loss: 0.3517 - accuracy: 0.8552 - val_loss: 0.3162 - val_accuracy: 0.8750\n",
            "Epoch 340/500\n",
            "32/32 [==============================] - 0s 3ms/step - loss: 0.3541 - accuracy: 0.8512 - val_loss: 0.3333 - val_accuracy: 0.8571\n",
            "Epoch 341/500\n",
            "32/32 [==============================] - 0s 3ms/step - loss: 0.3285 - accuracy: 0.8651 - val_loss: 0.3131 - val_accuracy: 0.8929\n",
            "Epoch 342/500\n",
            "32/32 [==============================] - 0s 3ms/step - loss: 0.3468 - accuracy: 0.8571 - val_loss: 0.3099 - val_accuracy: 0.9107\n",
            "Epoch 343/500\n",
            "32/32 [==============================] - 0s 3ms/step - loss: 0.3320 - accuracy: 0.8591 - val_loss: 0.3309 - val_accuracy: 0.8571\n",
            "Epoch 344/500\n",
            "32/32 [==============================] - 0s 3ms/step - loss: 0.3428 - accuracy: 0.8730 - val_loss: 0.3212 - val_accuracy: 0.8750\n",
            "Epoch 345/500\n",
            "32/32 [==============================] - 0s 3ms/step - loss: 0.3821 - accuracy: 0.8373 - val_loss: 0.3212 - val_accuracy: 0.8929\n",
            "Epoch 346/500\n",
            "32/32 [==============================] - 0s 4ms/step - loss: 0.3338 - accuracy: 0.8651 - val_loss: 0.3140 - val_accuracy: 0.9107\n",
            "Epoch 347/500\n",
            "32/32 [==============================] - 0s 3ms/step - loss: 0.3572 - accuracy: 0.8512 - val_loss: 0.3220 - val_accuracy: 0.8929\n",
            "Epoch 348/500\n",
            "32/32 [==============================] - 0s 4ms/step - loss: 0.3314 - accuracy: 0.8671 - val_loss: 0.3180 - val_accuracy: 0.8750\n",
            "Epoch 349/500\n",
            "32/32 [==============================] - 0s 4ms/step - loss: 0.3803 - accuracy: 0.8393 - val_loss: 0.3063 - val_accuracy: 0.9107\n",
            "Epoch 350/500\n",
            "32/32 [==============================] - 0s 3ms/step - loss: 0.3463 - accuracy: 0.8532 - val_loss: 0.3234 - val_accuracy: 0.8929\n",
            "Epoch 351/500\n",
            "32/32 [==============================] - 0s 4ms/step - loss: 0.3231 - accuracy: 0.8790 - val_loss: 0.3455 - val_accuracy: 0.8214\n",
            "Epoch 352/500\n",
            "32/32 [==============================] - 0s 4ms/step - loss: 0.3488 - accuracy: 0.8552 - val_loss: 0.3275 - val_accuracy: 0.8571\n",
            "Epoch 353/500\n",
            "32/32 [==============================] - 0s 3ms/step - loss: 0.3408 - accuracy: 0.8552 - val_loss: 0.3311 - val_accuracy: 0.8750\n",
            "Epoch 354/500\n",
            "32/32 [==============================] - 0s 3ms/step - loss: 0.3748 - accuracy: 0.8254 - val_loss: 0.3195 - val_accuracy: 0.9107\n",
            "Epoch 355/500\n",
            "32/32 [==============================] - 0s 4ms/step - loss: 0.3580 - accuracy: 0.8591 - val_loss: 0.3215 - val_accuracy: 0.8750\n",
            "Epoch 356/500\n",
            "32/32 [==============================] - 0s 3ms/step - loss: 0.3408 - accuracy: 0.8452 - val_loss: 0.3459 - val_accuracy: 0.8571\n",
            "Epoch 357/500\n",
            "32/32 [==============================] - 0s 4ms/step - loss: 0.3617 - accuracy: 0.8472 - val_loss: 0.3398 - val_accuracy: 0.8393\n",
            "Epoch 358/500\n",
            "32/32 [==============================] - 0s 3ms/step - loss: 0.3147 - accuracy: 0.8730 - val_loss: 0.3196 - val_accuracy: 0.8750\n",
            "Epoch 359/500\n",
            "32/32 [==============================] - 0s 4ms/step - loss: 0.3609 - accuracy: 0.8631 - val_loss: 0.2905 - val_accuracy: 0.9107\n",
            "Epoch 360/500\n",
            "32/32 [==============================] - 0s 3ms/step - loss: 0.3572 - accuracy: 0.8452 - val_loss: 0.3055 - val_accuracy: 0.9107\n",
            "Epoch 361/500\n",
            "32/32 [==============================] - 0s 4ms/step - loss: 0.3288 - accuracy: 0.8611 - val_loss: 0.3305 - val_accuracy: 0.8750\n",
            "Epoch 362/500\n",
            "32/32 [==============================] - 0s 4ms/step - loss: 0.3959 - accuracy: 0.8036 - val_loss: 0.3140 - val_accuracy: 0.8750\n",
            "Epoch 363/500\n",
            "32/32 [==============================] - 0s 4ms/step - loss: 0.3818 - accuracy: 0.8433 - val_loss: 0.3091 - val_accuracy: 0.8929\n",
            "Epoch 364/500\n",
            "32/32 [==============================] - 0s 4ms/step - loss: 0.3910 - accuracy: 0.8294 - val_loss: 0.3140 - val_accuracy: 0.8571\n",
            "Epoch 365/500\n",
            "32/32 [==============================] - 0s 4ms/step - loss: 0.3401 - accuracy: 0.8611 - val_loss: 0.3033 - val_accuracy: 0.8750\n",
            "Epoch 366/500\n",
            "32/32 [==============================] - 0s 4ms/step - loss: 0.3281 - accuracy: 0.8770 - val_loss: 0.2967 - val_accuracy: 0.8750\n",
            "Epoch 367/500\n",
            "32/32 [==============================] - 0s 4ms/step - loss: 0.3585 - accuracy: 0.8552 - val_loss: 0.3051 - val_accuracy: 0.8929\n",
            "Epoch 368/500\n",
            "32/32 [==============================] - 0s 4ms/step - loss: 0.3449 - accuracy: 0.8472 - val_loss: 0.2846 - val_accuracy: 0.8929\n",
            "Epoch 369/500\n",
            "32/32 [==============================] - 0s 4ms/step - loss: 0.3221 - accuracy: 0.8631 - val_loss: 0.2806 - val_accuracy: 0.9107\n",
            "Epoch 370/500\n",
            "32/32 [==============================] - 0s 3ms/step - loss: 0.3529 - accuracy: 0.8552 - val_loss: 0.2891 - val_accuracy: 0.9107\n",
            "Epoch 371/500\n",
            "32/32 [==============================] - 0s 4ms/step - loss: 0.3470 - accuracy: 0.8571 - val_loss: 0.3186 - val_accuracy: 0.8571\n",
            "Epoch 372/500\n",
            "32/32 [==============================] - 0s 4ms/step - loss: 0.3324 - accuracy: 0.8393 - val_loss: 0.3306 - val_accuracy: 0.8393\n",
            "Epoch 373/500\n",
            "32/32 [==============================] - 0s 4ms/step - loss: 0.3537 - accuracy: 0.8452 - val_loss: 0.3427 - val_accuracy: 0.8393\n",
            "Epoch 374/500\n",
            "32/32 [==============================] - 0s 3ms/step - loss: 0.3014 - accuracy: 0.8849 - val_loss: 0.3257 - val_accuracy: 0.8750\n",
            "Epoch 375/500\n",
            "32/32 [==============================] - 0s 4ms/step - loss: 0.3373 - accuracy: 0.8710 - val_loss: 0.3095 - val_accuracy: 0.8750\n",
            "Epoch 376/500\n",
            "32/32 [==============================] - 0s 4ms/step - loss: 0.3395 - accuracy: 0.8552 - val_loss: 0.3167 - val_accuracy: 0.8750\n",
            "Epoch 377/500\n",
            "32/32 [==============================] - 0s 3ms/step - loss: 0.3668 - accuracy: 0.8472 - val_loss: 0.3204 - val_accuracy: 0.8571\n",
            "Epoch 378/500\n",
            "32/32 [==============================] - 0s 3ms/step - loss: 0.3429 - accuracy: 0.8690 - val_loss: 0.3173 - val_accuracy: 0.8393\n",
            "Epoch 379/500\n",
            "32/32 [==============================] - 0s 4ms/step - loss: 0.3447 - accuracy: 0.8532 - val_loss: 0.2965 - val_accuracy: 0.8571\n",
            "Epoch 380/500\n",
            "32/32 [==============================] - 0s 3ms/step - loss: 0.3108 - accuracy: 0.8710 - val_loss: 0.3229 - val_accuracy: 0.8750\n",
            "Epoch 381/500\n",
            "32/32 [==============================] - 0s 4ms/step - loss: 0.3470 - accuracy: 0.8790 - val_loss: 0.3272 - val_accuracy: 0.8393\n",
            "Epoch 382/500\n",
            "32/32 [==============================] - 0s 3ms/step - loss: 0.3620 - accuracy: 0.8532 - val_loss: 0.3242 - val_accuracy: 0.8929\n",
            "Epoch 383/500\n",
            "32/32 [==============================] - 0s 3ms/step - loss: 0.3448 - accuracy: 0.8512 - val_loss: 0.3231 - val_accuracy: 0.8929\n",
            "Epoch 384/500\n",
            "32/32 [==============================] - 0s 3ms/step - loss: 0.3167 - accuracy: 0.8631 - val_loss: 0.3303 - val_accuracy: 0.8750\n",
            "Epoch 385/500\n",
            "32/32 [==============================] - 0s 4ms/step - loss: 0.3414 - accuracy: 0.8591 - val_loss: 0.3288 - val_accuracy: 0.8750\n",
            "Epoch 386/500\n",
            "32/32 [==============================] - 0s 3ms/step - loss: 0.3316 - accuracy: 0.8651 - val_loss: 0.3285 - val_accuracy: 0.8750\n",
            "Epoch 387/500\n",
            "32/32 [==============================] - 0s 3ms/step - loss: 0.3695 - accuracy: 0.8611 - val_loss: 0.3450 - val_accuracy: 0.8214\n",
            "Epoch 388/500\n",
            "32/32 [==============================] - 0s 4ms/step - loss: 0.3714 - accuracy: 0.8512 - val_loss: 0.3358 - val_accuracy: 0.8750\n",
            "Epoch 389/500\n",
            "32/32 [==============================] - 0s 4ms/step - loss: 0.3287 - accuracy: 0.8651 - val_loss: 0.3210 - val_accuracy: 0.8393\n",
            "Epoch 390/500\n",
            "32/32 [==============================] - 0s 3ms/step - loss: 0.3403 - accuracy: 0.8591 - val_loss: 0.3080 - val_accuracy: 0.8750\n",
            "Epoch 391/500\n",
            "32/32 [==============================] - 0s 4ms/step - loss: 0.3560 - accuracy: 0.8532 - val_loss: 0.3504 - val_accuracy: 0.8571\n",
            "Epoch 392/500\n",
            "32/32 [==============================] - 0s 4ms/step - loss: 0.3664 - accuracy: 0.8512 - val_loss: 0.3289 - val_accuracy: 0.8571\n",
            "Epoch 393/500\n",
            "32/32 [==============================] - 0s 4ms/step - loss: 0.3634 - accuracy: 0.8611 - val_loss: 0.3770 - val_accuracy: 0.8036\n",
            "Epoch 394/500\n",
            "32/32 [==============================] - 0s 4ms/step - loss: 0.3549 - accuracy: 0.8651 - val_loss: 0.3739 - val_accuracy: 0.8214\n",
            "Epoch 395/500\n",
            "32/32 [==============================] - 0s 4ms/step - loss: 0.3567 - accuracy: 0.8512 - val_loss: 0.3469 - val_accuracy: 0.8036\n",
            "Epoch 396/500\n",
            "32/32 [==============================] - 0s 4ms/step - loss: 0.3516 - accuracy: 0.8552 - val_loss: 0.3162 - val_accuracy: 0.8571\n",
            "Epoch 397/500\n",
            "32/32 [==============================] - 0s 3ms/step - loss: 0.3612 - accuracy: 0.8532 - val_loss: 0.3046 - val_accuracy: 0.8750\n",
            "Epoch 398/500\n",
            "32/32 [==============================] - 0s 3ms/step - loss: 0.3084 - accuracy: 0.8829 - val_loss: 0.3015 - val_accuracy: 0.8750\n",
            "Epoch 399/500\n",
            "32/32 [==============================] - 0s 4ms/step - loss: 0.3515 - accuracy: 0.8591 - val_loss: 0.3052 - val_accuracy: 0.8929\n",
            "Epoch 400/500\n",
            "32/32 [==============================] - 0s 4ms/step - loss: 0.3211 - accuracy: 0.8750 - val_loss: 0.3070 - val_accuracy: 0.8750\n",
            "Epoch 401/500\n",
            "32/32 [==============================] - 0s 3ms/step - loss: 0.3667 - accuracy: 0.8433 - val_loss: 0.3071 - val_accuracy: 0.8750\n",
            "Epoch 402/500\n",
            "32/32 [==============================] - 0s 3ms/step - loss: 0.3689 - accuracy: 0.8333 - val_loss: 0.3341 - val_accuracy: 0.8214\n",
            "Epoch 403/500\n",
            "32/32 [==============================] - 0s 3ms/step - loss: 0.4046 - accuracy: 0.8254 - val_loss: 0.3183 - val_accuracy: 0.8571\n",
            "Epoch 404/500\n",
            "32/32 [==============================] - 0s 4ms/step - loss: 0.3461 - accuracy: 0.8433 - val_loss: 0.3088 - val_accuracy: 0.8393\n",
            "Epoch 405/500\n",
            "32/32 [==============================] - 0s 3ms/step - loss: 0.3489 - accuracy: 0.8552 - val_loss: 0.2988 - val_accuracy: 0.8750\n",
            "Epoch 406/500\n",
            "32/32 [==============================] - 0s 3ms/step - loss: 0.3386 - accuracy: 0.8671 - val_loss: 0.2814 - val_accuracy: 0.8929\n",
            "Epoch 407/500\n",
            "32/32 [==============================] - 0s 4ms/step - loss: 0.3471 - accuracy: 0.8492 - val_loss: 0.2970 - val_accuracy: 0.8393\n",
            "Epoch 408/500\n",
            "32/32 [==============================] - 0s 4ms/step - loss: 0.3789 - accuracy: 0.8313 - val_loss: 0.3012 - val_accuracy: 0.8571\n",
            "Epoch 409/500\n",
            "32/32 [==============================] - 0s 4ms/step - loss: 0.3815 - accuracy: 0.8433 - val_loss: 0.2990 - val_accuracy: 0.8929\n",
            "Epoch 410/500\n",
            "32/32 [==============================] - 0s 4ms/step - loss: 0.3585 - accuracy: 0.8313 - val_loss: 0.2915 - val_accuracy: 0.8929\n",
            "Epoch 411/500\n",
            "32/32 [==============================] - 0s 4ms/step - loss: 0.3282 - accuracy: 0.8710 - val_loss: 0.2972 - val_accuracy: 0.8750\n",
            "Epoch 412/500\n",
            "32/32 [==============================] - 0s 4ms/step - loss: 0.3257 - accuracy: 0.8651 - val_loss: 0.3233 - val_accuracy: 0.8214\n",
            "Epoch 413/500\n",
            "32/32 [==============================] - 0s 4ms/step - loss: 0.3508 - accuracy: 0.8393 - val_loss: 0.3138 - val_accuracy: 0.8393\n",
            "Epoch 414/500\n",
            "32/32 [==============================] - 0s 3ms/step - loss: 0.3423 - accuracy: 0.8472 - val_loss: 0.3129 - val_accuracy: 0.8750\n",
            "Epoch 415/500\n",
            "32/32 [==============================] - 0s 4ms/step - loss: 0.3649 - accuracy: 0.8353 - val_loss: 0.3211 - val_accuracy: 0.8571\n",
            "Epoch 416/500\n",
            "32/32 [==============================] - 0s 4ms/step - loss: 0.3507 - accuracy: 0.8373 - val_loss: 0.3213 - val_accuracy: 0.8929\n",
            "Epoch 417/500\n",
            "32/32 [==============================] - 0s 4ms/step - loss: 0.3938 - accuracy: 0.8254 - val_loss: 0.3127 - val_accuracy: 0.9107\n",
            "Epoch 418/500\n",
            "32/32 [==============================] - 0s 4ms/step - loss: 0.3478 - accuracy: 0.8452 - val_loss: 0.3102 - val_accuracy: 0.9107\n",
            "Epoch 419/500\n",
            "32/32 [==============================] - 0s 4ms/step - loss: 0.3356 - accuracy: 0.8770 - val_loss: 0.3230 - val_accuracy: 0.8929\n",
            "Epoch 420/500\n",
            "32/32 [==============================] - 0s 4ms/step - loss: 0.3243 - accuracy: 0.8770 - val_loss: 0.3282 - val_accuracy: 0.8571\n",
            "Epoch 421/500\n",
            "32/32 [==============================] - 0s 3ms/step - loss: 0.3224 - accuracy: 0.8571 - val_loss: 0.3175 - val_accuracy: 0.8571\n",
            "Epoch 422/500\n",
            "32/32 [==============================] - 0s 3ms/step - loss: 0.3510 - accuracy: 0.8631 - val_loss: 0.3251 - val_accuracy: 0.8571\n",
            "Epoch 423/500\n",
            "32/32 [==============================] - 0s 3ms/step - loss: 0.3453 - accuracy: 0.8532 - val_loss: 0.3281 - val_accuracy: 0.8571\n",
            "Epoch 424/500\n",
            "32/32 [==============================] - 0s 4ms/step - loss: 0.3486 - accuracy: 0.8492 - val_loss: 0.3228 - val_accuracy: 0.8571\n",
            "Epoch 425/500\n",
            "32/32 [==============================] - 0s 4ms/step - loss: 0.3376 - accuracy: 0.8710 - val_loss: 0.3199 - val_accuracy: 0.8214\n",
            "Epoch 426/500\n",
            "32/32 [==============================] - 0s 3ms/step - loss: 0.3520 - accuracy: 0.8611 - val_loss: 0.3007 - val_accuracy: 0.8750\n",
            "Epoch 427/500\n",
            "32/32 [==============================] - 0s 4ms/step - loss: 0.3365 - accuracy: 0.8472 - val_loss: 0.2905 - val_accuracy: 0.8929\n",
            "Epoch 428/500\n",
            "32/32 [==============================] - 0s 4ms/step - loss: 0.3494 - accuracy: 0.8591 - val_loss: 0.3038 - val_accuracy: 0.9107\n",
            "Epoch 429/500\n",
            "32/32 [==============================] - 0s 4ms/step - loss: 0.3367 - accuracy: 0.8611 - val_loss: 0.3014 - val_accuracy: 0.9107\n",
            "Epoch 430/500\n",
            "32/32 [==============================] - 0s 3ms/step - loss: 0.3364 - accuracy: 0.8532 - val_loss: 0.3034 - val_accuracy: 0.8750\n",
            "Epoch 431/500\n",
            "32/32 [==============================] - 0s 4ms/step - loss: 0.3528 - accuracy: 0.8393 - val_loss: 0.3066 - val_accuracy: 0.8929\n",
            "Epoch 432/500\n",
            "32/32 [==============================] - 0s 4ms/step - loss: 0.3563 - accuracy: 0.8532 - val_loss: 0.3160 - val_accuracy: 0.8929\n",
            "Epoch 433/500\n",
            "32/32 [==============================] - 0s 4ms/step - loss: 0.3430 - accuracy: 0.8611 - val_loss: 0.3010 - val_accuracy: 0.9107\n",
            "Epoch 434/500\n",
            "32/32 [==============================] - 0s 4ms/step - loss: 0.3907 - accuracy: 0.8472 - val_loss: 0.2904 - val_accuracy: 0.8929\n",
            "Epoch 435/500\n",
            "32/32 [==============================] - 0s 4ms/step - loss: 0.3294 - accuracy: 0.8730 - val_loss: 0.3064 - val_accuracy: 0.9107\n",
            "Epoch 436/500\n",
            "32/32 [==============================] - 0s 4ms/step - loss: 0.3307 - accuracy: 0.8532 - val_loss: 0.3343 - val_accuracy: 0.8393\n",
            "Epoch 437/500\n",
            "32/32 [==============================] - 0s 4ms/step - loss: 0.3322 - accuracy: 0.8552 - val_loss: 0.3238 - val_accuracy: 0.8750\n",
            "Epoch 438/500\n",
            "32/32 [==============================] - 0s 3ms/step - loss: 0.3568 - accuracy: 0.8492 - val_loss: 0.3199 - val_accuracy: 0.8750\n",
            "Epoch 439/500\n",
            "32/32 [==============================] - 0s 4ms/step - loss: 0.3475 - accuracy: 0.8472 - val_loss: 0.3284 - val_accuracy: 0.8750\n",
            "Epoch 440/500\n",
            "32/32 [==============================] - 0s 3ms/step - loss: 0.3373 - accuracy: 0.8591 - val_loss: 0.3348 - val_accuracy: 0.8393\n",
            "Epoch 441/500\n",
            "32/32 [==============================] - 0s 4ms/step - loss: 0.3319 - accuracy: 0.8690 - val_loss: 0.3329 - val_accuracy: 0.8750\n",
            "Epoch 442/500\n",
            "32/32 [==============================] - 0s 4ms/step - loss: 0.3468 - accuracy: 0.8671 - val_loss: 0.3351 - val_accuracy: 0.8393\n",
            "Epoch 443/500\n",
            "32/32 [==============================] - 0s 3ms/step - loss: 0.3384 - accuracy: 0.8571 - val_loss: 0.3213 - val_accuracy: 0.8571\n",
            "Epoch 444/500\n",
            "32/32 [==============================] - 0s 4ms/step - loss: 0.3639 - accuracy: 0.8472 - val_loss: 0.3006 - val_accuracy: 0.9107\n",
            "Epoch 445/500\n",
            "32/32 [==============================] - 0s 3ms/step - loss: 0.3468 - accuracy: 0.8373 - val_loss: 0.3136 - val_accuracy: 0.8571\n",
            "Epoch 446/500\n",
            "32/32 [==============================] - 0s 3ms/step - loss: 0.3373 - accuracy: 0.8690 - val_loss: 0.3311 - val_accuracy: 0.8214\n",
            "Epoch 447/500\n",
            "32/32 [==============================] - 0s 3ms/step - loss: 0.3565 - accuracy: 0.8492 - val_loss: 0.3200 - val_accuracy: 0.8571\n",
            "Epoch 448/500\n",
            "32/32 [==============================] - 0s 3ms/step - loss: 0.3624 - accuracy: 0.8651 - val_loss: 0.3183 - val_accuracy: 0.8929\n",
            "Epoch 449/500\n",
            "32/32 [==============================] - 0s 4ms/step - loss: 0.3562 - accuracy: 0.8552 - val_loss: 0.3036 - val_accuracy: 0.8750\n",
            "Epoch 450/500\n",
            "32/32 [==============================] - 0s 3ms/step - loss: 0.3472 - accuracy: 0.8591 - val_loss: 0.3014 - val_accuracy: 0.8750\n",
            "Epoch 451/500\n",
            "32/32 [==============================] - 0s 3ms/step - loss: 0.3243 - accuracy: 0.8671 - val_loss: 0.3022 - val_accuracy: 0.9107\n",
            "Epoch 452/500\n",
            "32/32 [==============================] - 0s 3ms/step - loss: 0.3346 - accuracy: 0.8671 - val_loss: 0.3052 - val_accuracy: 0.9107\n",
            "Epoch 453/500\n",
            "32/32 [==============================] - 0s 4ms/step - loss: 0.3386 - accuracy: 0.8651 - val_loss: 0.3162 - val_accuracy: 0.8929\n",
            "Epoch 454/500\n",
            "32/32 [==============================] - 0s 3ms/step - loss: 0.3803 - accuracy: 0.8472 - val_loss: 0.3299 - val_accuracy: 0.8571\n",
            "Epoch 455/500\n",
            "32/32 [==============================] - 0s 3ms/step - loss: 0.3343 - accuracy: 0.8611 - val_loss: 0.3146 - val_accuracy: 0.8929\n",
            "Epoch 456/500\n",
            "32/32 [==============================] - 0s 4ms/step - loss: 0.3565 - accuracy: 0.8294 - val_loss: 0.3618 - val_accuracy: 0.8214\n",
            "Epoch 457/500\n",
            "32/32 [==============================] - 0s 3ms/step - loss: 0.3338 - accuracy: 0.8651 - val_loss: 0.3088 - val_accuracy: 0.8750\n",
            "Epoch 458/500\n",
            "32/32 [==============================] - 0s 3ms/step - loss: 0.3068 - accuracy: 0.8849 - val_loss: 0.3255 - val_accuracy: 0.8214\n",
            "Epoch 459/500\n",
            "32/32 [==============================] - 0s 4ms/step - loss: 0.3350 - accuracy: 0.8631 - val_loss: 0.3578 - val_accuracy: 0.8036\n",
            "Epoch 460/500\n",
            "32/32 [==============================] - 0s 4ms/step - loss: 0.3863 - accuracy: 0.8373 - val_loss: 0.3375 - val_accuracy: 0.8393\n",
            "Epoch 461/500\n",
            "32/32 [==============================] - 0s 4ms/step - loss: 0.3748 - accuracy: 0.8333 - val_loss: 0.3126 - val_accuracy: 0.8571\n",
            "Epoch 462/500\n",
            "32/32 [==============================] - 0s 4ms/step - loss: 0.3739 - accuracy: 0.8571 - val_loss: 0.3119 - val_accuracy: 0.8571\n",
            "Epoch 463/500\n",
            "32/32 [==============================] - 0s 3ms/step - loss: 0.3497 - accuracy: 0.8552 - val_loss: 0.3154 - val_accuracy: 0.8571\n",
            "Epoch 464/500\n",
            "32/32 [==============================] - 0s 3ms/step - loss: 0.3710 - accuracy: 0.8413 - val_loss: 0.3052 - val_accuracy: 0.8750\n",
            "Epoch 465/500\n",
            "32/32 [==============================] - 0s 3ms/step - loss: 0.3392 - accuracy: 0.8611 - val_loss: 0.2924 - val_accuracy: 0.9286\n",
            "Epoch 466/500\n",
            "32/32 [==============================] - 0s 4ms/step - loss: 0.3651 - accuracy: 0.8353 - val_loss: 0.3223 - val_accuracy: 0.8393\n",
            "Epoch 467/500\n",
            "32/32 [==============================] - 0s 4ms/step - loss: 0.3549 - accuracy: 0.8452 - val_loss: 0.3243 - val_accuracy: 0.8571\n",
            "Epoch 468/500\n",
            "32/32 [==============================] - 0s 4ms/step - loss: 0.3463 - accuracy: 0.8393 - val_loss: 0.3151 - val_accuracy: 0.8571\n",
            "Epoch 469/500\n",
            "32/32 [==============================] - 0s 4ms/step - loss: 0.3313 - accuracy: 0.8651 - val_loss: 0.2990 - val_accuracy: 0.8750\n",
            "Epoch 470/500\n",
            "32/32 [==============================] - 0s 4ms/step - loss: 0.3560 - accuracy: 0.8393 - val_loss: 0.2953 - val_accuracy: 0.8929\n",
            "Epoch 471/500\n",
            "32/32 [==============================] - 0s 4ms/step - loss: 0.3367 - accuracy: 0.8492 - val_loss: 0.2982 - val_accuracy: 0.8929\n",
            "Epoch 472/500\n",
            "32/32 [==============================] - 0s 3ms/step - loss: 0.3629 - accuracy: 0.8452 - val_loss: 0.2749 - val_accuracy: 0.8929\n",
            "Epoch 473/500\n",
            "32/32 [==============================] - 0s 4ms/step - loss: 0.3079 - accuracy: 0.8750 - val_loss: 0.2755 - val_accuracy: 0.8750\n",
            "Epoch 474/500\n",
            "32/32 [==============================] - 0s 4ms/step - loss: 0.3298 - accuracy: 0.8611 - val_loss: 0.2924 - val_accuracy: 0.8750\n",
            "Epoch 475/500\n",
            "32/32 [==============================] - 0s 4ms/step - loss: 0.3599 - accuracy: 0.8571 - val_loss: 0.2851 - val_accuracy: 0.8929\n",
            "Epoch 476/500\n",
            "32/32 [==============================] - 0s 4ms/step - loss: 0.3217 - accuracy: 0.8849 - val_loss: 0.2651 - val_accuracy: 0.9107\n",
            "Epoch 477/500\n",
            "32/32 [==============================] - 0s 4ms/step - loss: 0.3313 - accuracy: 0.8750 - val_loss: 0.2625 - val_accuracy: 0.8929\n",
            "Epoch 478/500\n",
            "32/32 [==============================] - 0s 4ms/step - loss: 0.3080 - accuracy: 0.8690 - val_loss: 0.2626 - val_accuracy: 0.8929\n",
            "Epoch 479/500\n",
            "32/32 [==============================] - 0s 4ms/step - loss: 0.3567 - accuracy: 0.8730 - val_loss: 0.2838 - val_accuracy: 0.8750\n",
            "Epoch 480/500\n",
            "32/32 [==============================] - 0s 4ms/step - loss: 0.3360 - accuracy: 0.8532 - val_loss: 0.2904 - val_accuracy: 0.8750\n",
            "Epoch 481/500\n",
            "32/32 [==============================] - 0s 4ms/step - loss: 0.3758 - accuracy: 0.8433 - val_loss: 0.3104 - val_accuracy: 0.8571\n",
            "Epoch 482/500\n",
            "32/32 [==============================] - 0s 4ms/step - loss: 0.3386 - accuracy: 0.8433 - val_loss: 0.3059 - val_accuracy: 0.8571\n",
            "Epoch 483/500\n",
            "32/32 [==============================] - 0s 4ms/step - loss: 0.2963 - accuracy: 0.8810 - val_loss: 0.3336 - val_accuracy: 0.8036\n",
            "Epoch 484/500\n",
            "32/32 [==============================] - 0s 4ms/step - loss: 0.3461 - accuracy: 0.8532 - val_loss: 0.3695 - val_accuracy: 0.8036\n",
            "Epoch 485/500\n",
            "32/32 [==============================] - 0s 4ms/step - loss: 0.3387 - accuracy: 0.8631 - val_loss: 0.3284 - val_accuracy: 0.8393\n",
            "Epoch 486/500\n",
            "32/32 [==============================] - 0s 4ms/step - loss: 0.3703 - accuracy: 0.8472 - val_loss: 0.3011 - val_accuracy: 0.8571\n",
            "Epoch 487/500\n",
            "32/32 [==============================] - 0s 4ms/step - loss: 0.3360 - accuracy: 0.8730 - val_loss: 0.2819 - val_accuracy: 0.8750\n",
            "Epoch 488/500\n",
            "32/32 [==============================] - 0s 4ms/step - loss: 0.3231 - accuracy: 0.8631 - val_loss: 0.3036 - val_accuracy: 0.8571\n",
            "Epoch 489/500\n",
            "32/32 [==============================] - 0s 4ms/step - loss: 0.3492 - accuracy: 0.8492 - val_loss: 0.3252 - val_accuracy: 0.8571\n",
            "Epoch 490/500\n",
            "32/32 [==============================] - 0s 4ms/step - loss: 0.3440 - accuracy: 0.8631 - val_loss: 0.3056 - val_accuracy: 0.8571\n",
            "Epoch 491/500\n",
            "32/32 [==============================] - 0s 3ms/step - loss: 0.3254 - accuracy: 0.8631 - val_loss: 0.3153 - val_accuracy: 0.8571\n",
            "Epoch 492/500\n",
            "32/32 [==============================] - 0s 4ms/step - loss: 0.3186 - accuracy: 0.8690 - val_loss: 0.3275 - val_accuracy: 0.8393\n",
            "Epoch 493/500\n",
            "32/32 [==============================] - 0s 4ms/step - loss: 0.3569 - accuracy: 0.8433 - val_loss: 0.3110 - val_accuracy: 0.8393\n",
            "Epoch 494/500\n",
            "32/32 [==============================] - 0s 3ms/step - loss: 0.3252 - accuracy: 0.8651 - val_loss: 0.3140 - val_accuracy: 0.8393\n",
            "Epoch 495/500\n",
            "32/32 [==============================] - 0s 4ms/step - loss: 0.3416 - accuracy: 0.8452 - val_loss: 0.3158 - val_accuracy: 0.8571\n",
            "Epoch 496/500\n",
            "32/32 [==============================] - 0s 4ms/step - loss: 0.3470 - accuracy: 0.8730 - val_loss: 0.3261 - val_accuracy: 0.8571\n",
            "Epoch 497/500\n",
            "32/32 [==============================] - 0s 4ms/step - loss: 0.3686 - accuracy: 0.8472 - val_loss: 0.3369 - val_accuracy: 0.8393\n",
            "Epoch 498/500\n",
            "32/32 [==============================] - 0s 4ms/step - loss: 0.3373 - accuracy: 0.8591 - val_loss: 0.3308 - val_accuracy: 0.8571\n",
            "Epoch 499/500\n",
            "32/32 [==============================] - 0s 3ms/step - loss: 0.3394 - accuracy: 0.8552 - val_loss: 0.3204 - val_accuracy: 0.8750\n",
            "Epoch 500/500\n",
            "32/32 [==============================] - 0s 3ms/step - loss: 0.3732 - accuracy: 0.8631 - val_loss: 0.3195 - val_accuracy: 0.8571\n",
            "Minimum Validation Loss: 0.2625\n"
          ]
        },
        {
          "output_type": "display_data",
          "data": {
            "image/png": "[encoded data removed]",
            "text/plain": [
              "<Figure size 432x288 with 1 Axes>"
            ]
          },
          "metadata": {
            "needs_background": "light"
          }
        }
      ]
    },
    {
      "cell_type": "code",
      "source": [
        "score, acc = model.evaluate(X_test, y_test,verbose=2, batch_size= 256)\n",
        "print('test accuracy:', acc)"
      ],
      "metadata": {
        "colab": {
          "base_uri": "https://localhost:8080/"
        },
        "id": "CTmqyrwRBqKi",
        "outputId": "a307dbc3-d3d4-4e62-8b4c-05cb394c6226"
      },
      "execution_count": 385,
      "outputs": [
        {
          "output_type": "stream",
          "name": "stdout",
          "text": [
            "1/1 - 0s - loss: 0.2785 - accuracy: 0.9143 - 20ms/epoch - 20ms/step\n",
            "test accuracy: 0.9142857193946838\n"
          ]
        }
      ]
    },
    {
      "cell_type": "code",
      "source": [
        "y_pred = model.predict(X_pred)\n",
        "y_output = []"
      ],
      "metadata": {
        "id": "-srS3HYOcfKq"
      },
      "execution_count": 386,
      "outputs": []
    },
    {
      "cell_type": "code",
      "source": [
        "X_pred.shape"
      ],
      "metadata": {
        "colab": {
          "base_uri": "https://localhost:8080/"
        },
        "id": "k2a0GbovTXLr",
        "outputId": "aaf3b51b-57bb-4d08-fcee-8ebea73a8d0b"
      },
      "execution_count": 387,
      "outputs": [
        {
          "output_type": "execute_result",
          "data": {
            "text/plain": [
              "(300, 15)"
            ]
          },
          "metadata": {},
          "execution_count": 387
        }
      ]
    },
    {
      "cell_type": "code",
      "source": [
        "len(y_pred)"
      ],
      "metadata": {
        "colab": {
          "base_uri": "https://localhost:8080/"
        },
        "id": "t76UZ-g3TTi5",
        "outputId": "698253e6-b51c-48e4-a2c1-e8ab9561a178"
      },
      "execution_count": 388,
      "outputs": [
        {
          "output_type": "execute_result",
          "data": {
            "text/plain": [
              "300"
            ]
          },
          "metadata": {},
          "execution_count": 388
        }
      ]
    },
    {
      "cell_type": "code",
      "source": [
        "for i in range(len(y_pred)):\n",
        "  if(y_pred[i][0] > y_pred[i][1]):\n",
        "    y_output.append(\"Non_raveling\")\n",
        "  else:\n",
        "    y_output.append(\"Raveling\")"
      ],
      "metadata": {
        "id": "2w0h7Wy4cfNm"
      },
      "execution_count": 389,
      "outputs": []
    },
    {
      "cell_type": "code",
      "source": [
        "y_output[:10]"
      ],
      "metadata": {
        "id": "6dLlEXmtcfQy",
        "colab": {
          "base_uri": "https://localhost:8080/"
        },
        "outputId": "69702e57-fe6e-4fe7-9b77-dcc9972e6afa"
      },
      "execution_count": 390,
      "outputs": [
        {
          "output_type": "execute_result",
          "data": {
            "text/plain": [
              "['Raveling',\n",
              " 'Raveling',\n",
              " 'Non_raveling',\n",
              " 'Raveling',\n",
              " 'Raveling',\n",
              " 'Non_raveling',\n",
              " 'Non_raveling',\n",
              " 'Non_raveling',\n",
              " 'Raveling',\n",
              " 'Raveling']"
            ]
          },
          "metadata": {},
          "execution_count": 390
        }
      ]
    },
    {
      "cell_type": "code",
      "source": [
        "len(list_test)\n",
        "len(y_output)"
      ],
      "metadata": {
        "colab": {
          "base_uri": "https://localhost:8080/"
        },
        "id": "HEW-JAMNTFGf",
        "outputId": "5c04c276-fc20-41bb-8fb6-07191302fa07"
      },
      "execution_count": 391,
      "outputs": [
        {
          "output_type": "execute_result",
          "data": {
            "text/plain": [
              "300"
            ]
          },
          "metadata": {},
          "execution_count": 391
        }
      ]
    },
    {
      "cell_type": "code",
      "source": [
        "op_data = {'filename': list_test, 'class': y_output}"
      ],
      "metadata": {
        "id": "dyS1CdTZcfTT"
      },
      "execution_count": 392,
      "outputs": []
    },
    {
      "cell_type": "code",
      "source": [
        "df_op = pd.DataFrame(op_data)\n",
        "df_op"
      ],
      "metadata": {
        "id": "WYHm__eXcfWX",
        "colab": {
          "base_uri": "https://localhost:8080/",
          "height": 423
        },
        "outputId": "00b5624f-9bfc-4fae-f663-39ab134275f6"
      },
      "execution_count": 393,
      "outputs": [
        {
          "output_type": "execute_result",
          "data": {
            "text/html": [
              "\n",
              "  <div id=\"df-a49a2a39-7ed6-41c3-9c25-eee3362fdfb6\">\n",
              "    <div class=\"colab-df-container\">\n",
              "      <div>\n",
              "<style scoped>\n",
              "    .dataframe tbody tr th:only-of-type {\n",
              "        vertical-align: middle;\n",
              "    }\n",
              "\n",
              "    .dataframe tbody tr th {\n",
              "        vertical-align: top;\n",
              "    }\n",
              "\n",
              "    .dataframe thead th {\n",
              "        text-align: right;\n",
              "    }\n",
              "</style>\n",
              "<table border=\"1\" class=\"dataframe\">\n",
              "  <thead>\n",
              "    <tr style=\"text-align: right;\">\n",
              "      <th></th>\n",
              "      <th>filename</th>\n",
              "      <th>class</th>\n",
              "    </tr>\n",
              "  </thead>\n",
              "  <tbody>\n",
              "    <tr>\n",
              "      <th>0</th>\n",
              "      <td>2.jpg</td>\n",
              "      <td>Raveling</td>\n",
              "    </tr>\n",
              "    <tr>\n",
              "      <th>1</th>\n",
              "      <td>3.jpg</td>\n",
              "      <td>Raveling</td>\n",
              "    </tr>\n",
              "    <tr>\n",
              "      <th>2</th>\n",
              "      <td>1.jpg</td>\n",
              "      <td>Non_raveling</td>\n",
              "    </tr>\n",
              "    <tr>\n",
              "      <th>3</th>\n",
              "      <td>198.jpg</td>\n",
              "      <td>Raveling</td>\n",
              "    </tr>\n",
              "    <tr>\n",
              "      <th>4</th>\n",
              "      <td>174.jpg</td>\n",
              "      <td>Raveling</td>\n",
              "    </tr>\n",
              "    <tr>\n",
              "      <th>...</th>\n",
              "      <td>...</td>\n",
              "      <td>...</td>\n",
              "    </tr>\n",
              "    <tr>\n",
              "      <th>295</th>\n",
              "      <td>20.jpg</td>\n",
              "      <td>Non_raveling</td>\n",
              "    </tr>\n",
              "    <tr>\n",
              "      <th>296</th>\n",
              "      <td>228.jpg</td>\n",
              "      <td>Raveling</td>\n",
              "    </tr>\n",
              "    <tr>\n",
              "      <th>297</th>\n",
              "      <td>74.jpg</td>\n",
              "      <td>Raveling</td>\n",
              "    </tr>\n",
              "    <tr>\n",
              "      <th>298</th>\n",
              "      <td>197.jpg</td>\n",
              "      <td>Raveling</td>\n",
              "    </tr>\n",
              "    <tr>\n",
              "      <th>299</th>\n",
              "      <td>84.jpg</td>\n",
              "      <td>Raveling</td>\n",
              "    </tr>\n",
              "  </tbody>\n",
              "</table>\n",
              "<p>300 rows × 2 columns</p>\n",
              "</div>\n",
              "      <button class=\"colab-df-convert\" onclick=\"convertToInteractive('df-a49a2a39-7ed6-41c3-9c25-eee3362fdfb6')\"\n",
              "              title=\"Convert this dataframe to an interactive table.\"\n",
              "              style=\"display:none;\">\n",
              "        \n",
              "  <svg xmlns=\"http://www.w3.org/2000/svg\" height=\"24px\"viewBox=\"0 0 24 24\"\n",
              "       width=\"24px\">\n",
              "    <path d=\"M0 0h24v24H0V0z\" fill=\"none\"/>\n",
              "    <path d=\"M18.56 5.44l.94 2.06.94-2.06 2.06-.94-2.06-.94-.94-2.06-.94 2.06-2.06.94zm-11 1L8.5 8.5l.94-2.06 2.06-.94-2.06-.94L8.5 2.5l-.94 2.06-2.06.94zm10 10l.94 2.06.94-2.06 2.06-.94-2.06-.94-.94-2.06-.94 2.06-2.06.94z\"/><path d=\"M17.41 7.96l-1.37-1.37c-.4-.4-.92-.59-1.43-.59-.52 0-1.04.2-1.43.59L10.3 9.45l-7.72 7.72c-.78.78-.78 2.05 0 2.83L4 21.41c.39.39.9.59 1.41.59.51 0 1.02-.2 1.41-.59l7.78-7.78 2.81-2.81c.8-.78.8-2.07 0-2.86zM5.41 20L4 18.59l7.72-7.72 1.47 1.35L5.41 20z\"/>\n",
              "  </svg>\n",
              "      </button>\n",
              "      \n",
              "  <style>\n",
              "    .colab-df-container {\n",
              "      display:flex;\n",
              "      flex-wrap:wrap;\n",
              "      gap: 12px;\n",
              "    }\n",
              "\n",
              "    .colab-df-convert {\n",
              "      background-color: #E8F0FE;\n",
              "      border: none;\n",
              "      border-radius: 50%;\n",
              "      cursor: pointer;\n",
              "      display: none;\n",
              "      fill: #1967D2;\n",
              "      height: 32px;\n",
              "      padding: 0 0 0 0;\n",
              "      width: 32px;\n",
              "    }\n",
              "\n",
              "    .colab-df-convert:hover {\n",
              "      background-color: #E2EBFA;\n",
              "      box-shadow: 0px 1px 2px rgba(60, 64, 67, 0.3), 0px 1px 3px 1px rgba(60, 64, 67, 0.15);\n",
              "      fill: #174EA6;\n",
              "    }\n",
              "\n",
              "    [theme=dark] .colab-df-convert {\n",
              "      background-color: #3B4455;\n",
              "      fill: #D2E3FC;\n",
              "    }\n",
              "\n",
              "    [theme=dark] .colab-df-convert:hover {\n",
              "      background-color: #434B5C;\n",
              "      box-shadow: 0px 1px 3px 1px rgba(0, 0, 0, 0.15);\n",
              "      filter: drop-shadow(0px 1px 2px rgba(0, 0, 0, 0.3));\n",
              "      fill: #FFFFFF;\n",
              "    }\n",
              "  </style>\n",
              "\n",
              "      <script>\n",
              "        const buttonEl =\n",
              "          document.querySelector('#df-a49a2a39-7ed6-41c3-9c25-eee3362fdfb6 button.colab-df-convert');\n",
              "        buttonEl.style.display =\n",
              "          google.colab.kernel.accessAllowed ? 'block' : 'none';\n",
              "\n",
              "        async function convertToInteractive(key) {\n",
              "          const element = document.querySelector('#df-a49a2a39-7ed6-41c3-9c25-eee3362fdfb6');\n",
              "          const dataTable =\n",
              "            await google.colab.kernel.invokeFunction('convertToInteractive',\n",
              "                                                     [key], {});\n",
              "          if (!dataTable) return;\n",
              "\n",
              "          const docLinkHtml = 'Like what you see? Visit the ' +\n",
              "            '<a target=\"_blank\" href=https://colab.research.google.com/notebooks/data_table.ipynb>data table notebook</a>'\n",
              "            + ' to learn more about interactive tables.';\n",
              "          element.innerHTML = '';\n",
              "          dataTable['output_type'] = 'display_data';\n",
              "          await google.colab.output.renderOutput(dataTable, element);\n",
              "          const docLink = document.createElement('div');\n",
              "          docLink.innerHTML = docLinkHtml;\n",
              "          element.appendChild(docLink);\n",
              "        }\n",
              "      </script>\n",
              "    </div>\n",
              "  </div>\n",
              "  "
            ],
            "text/plain": [
              "    filename         class\n",
              "0      2.jpg      Raveling\n",
              "1      3.jpg      Raveling\n",
              "2      1.jpg  Non_raveling\n",
              "3    198.jpg      Raveling\n",
              "4    174.jpg      Raveling\n",
              "..       ...           ...\n",
              "295   20.jpg  Non_raveling\n",
              "296  228.jpg      Raveling\n",
              "297   74.jpg      Raveling\n",
              "298  197.jpg      Raveling\n",
              "299   84.jpg      Raveling\n",
              "\n",
              "[300 rows x 2 columns]"
            ]
          },
          "metadata": {},
          "execution_count": 393
        }
      ]
    },
    {
      "cell_type": "code",
      "source": [
        "df_op.to_csv(\"OutputM.csv\", index = False)\n",
        "!cp OutputM.csv \"drive/My Drive/\""
      ],
      "metadata": {
        "id": "g186rJaBcfZs"
      },
      "execution_count": 394,
      "outputs": []
    },
    {
      "cell_type": "code",
      "source": [
        ""
      ],
      "metadata": {
        "id": "S0Oe1Pf1so0Q"
      },
      "execution_count": 394,
      "outputs": []
    }
  ]
}